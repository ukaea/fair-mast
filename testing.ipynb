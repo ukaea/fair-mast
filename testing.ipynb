{
 "cells": [
  {
   "cell_type": "code",
   "execution_count": 1,
   "metadata": {},
   "outputs": [],
   "source": [
    "import pyuda\n",
    "from mast.mast_client import ListType\n",
    "from rich import inspect"
   ]
  },
  {
   "cell_type": "code",
   "execution_count": 2,
   "metadata": {},
   "outputs": [],
   "source": [
    "client = pyuda.Client()\n",
    "client.set_property(\"get_meta\", True)"
   ]
  },
  {
   "cell_type": "code",
   "execution_count": 3,
   "metadata": {},
   "outputs": [],
   "source": [
    "def get_sources(shot):\n",
    "    return client.list(ListType.SOURCES, shot)\n",
    "\n",
    "def get_signals(shot):\n",
    "    return client.list(ListType.SIGNALS, shot)"
   ]
  },
  {
   "cell_type": "code",
   "execution_count": 4,
   "metadata": {},
   "outputs": [],
   "source": [
    "shot = 30420"
   ]
  },
  {
   "cell_type": "code",
   "execution_count": 5,
   "metadata": {},
   "outputs": [],
   "source": [
    "sources = client.list(ListType.SOURCES, shot)"
   ]
  },
  {
   "cell_type": "code",
   "execution_count": 6,
   "metadata": {},
   "outputs": [],
   "source": [
    "image_sources = [source for source in sources if source.type == \"Image\"]"
   ]
  },
  {
   "cell_type": "code",
   "execution_count": 7,
   "metadata": {},
   "outputs": [],
   "source": [
    "signals = client.list(ListType.SIGNALS, shot)"
   ]
  },
  {
   "cell_type": "code",
   "execution_count": 8,
   "metadata": {},
   "outputs": [],
   "source": [
    "aliases = set([signal.source_alias for signal in signals])\n",
    "sources = [source for source in sources if source.source_alias in aliases]\n",
    "source_dict = {\n",
    "    source: set(\n",
    "        [signal.signal_name for signal in signals if signal.source_alias == source]\n",
    "    )\n",
    "    for source in aliases\n",
    "}"
   ]
  },
  {
   "cell_type": "code",
   "execution_count": 11,
   "metadata": {},
   "outputs": [],
   "source": [
    "ip = client.get(\"ip\", shot)"
   ]
  },
  {
   "cell_type": "code",
   "execution_count": 16,
   "metadata": {},
   "outputs": [
    {
     "data": {
      "text/html": [
       "<pre style=\"white-space:pre;overflow-x:auto;line-height:normal;font-family:Menlo,'DejaVu Sans Mono',consolas,'Courier New',monospace\"><span style=\"color: #000080; text-decoration-color: #000080\">╭─────────────────────── </span><span style=\"color: #000080; text-decoration-color: #000080; font-weight: bold\">&lt;</span><span style=\"color: #ff00ff; text-decoration-color: #ff00ff; font-weight: bold\">class</span><span style=\"color: #000000; text-decoration-color: #000000\"> </span><span style=\"color: #008000; text-decoration-color: #008000\">'pyuda._signal.Signal'</span><span style=\"color: #000080; text-decoration-color: #000080; font-weight: bold\">&gt;</span><span style=\"color: #000080; text-decoration-color: #000080\"> ────────────────────────╮</span>\n",
       "<span style=\"color: #000080; text-decoration-color: #000080\">│</span> <span style=\"color: #008000; text-decoration-color: #008000\">╭───────────────────────────────────────────────────────────────────────────╮</span> <span style=\"color: #000080; text-decoration-color: #000080\">│</span>\n",
       "<span style=\"color: #000080; text-decoration-color: #000080\">│</span> <span style=\"color: #008000; text-decoration-color: #008000\">│</span> <span style=\"font-weight: bold\">&lt;</span><span style=\"color: #ff00ff; text-decoration-color: #ff00ff; font-weight: bold\">Signal:</span><span style=\"color: #000000; text-decoration-color: #000000\"> Plasma Current</span><span style=\"font-weight: bold\">&gt;</span>                                                  <span style=\"color: #008000; text-decoration-color: #008000\">│</span> <span style=\"color: #000080; text-decoration-color: #000080\">│</span>\n",
       "<span style=\"color: #000080; text-decoration-color: #000080\">│</span> <span style=\"color: #008000; text-decoration-color: #008000\">╰───────────────────────────────────────────────────────────────────────────╯</span> <span style=\"color: #000080; text-decoration-color: #000080\">│</span>\n",
       "<span style=\"color: #000080; text-decoration-color: #000080\">│</span>                                                                               <span style=\"color: #000080; text-decoration-color: #000080\">│</span>\n",
       "<span style=\"color: #000080; text-decoration-color: #000080\">│</span>        <span style=\"color: #808000; text-decoration-color: #808000; font-style: italic\">data</span> = <span style=\"color: #800080; text-decoration-color: #800080; font-weight: bold\">array</span><span style=\"font-weight: bold\">([</span> <span style=\"color: #008080; text-decoration-color: #008080; font-weight: bold\">0.49252087</span>, <span style=\"color: #008080; text-decoration-color: #008080; font-weight: bold\">-0.03406208</span>,  <span style=\"color: #008080; text-decoration-color: #008080; font-weight: bold\">0.00995923</span>, <span style=\"color: #808000; text-decoration-color: #808000\">...</span>, <span style=\"color: #008080; text-decoration-color: #008080; font-weight: bold\">-0.03138269</span>, <span style=\"color: #000080; text-decoration-color: #000080\">│</span>\n",
       "<span style=\"color: #000080; text-decoration-color: #000080\">│</span>                       <span style=\"color: #008080; text-decoration-color: #008080; font-weight: bold\">0.1149876</span> ,  <span style=\"color: #008080; text-decoration-color: #008080; font-weight: bold\">0.08557814</span><span style=\"font-weight: bold\">]</span>, <span style=\"color: #808000; text-decoration-color: #808000\">dtype</span>=<span style=\"color: #800080; text-decoration-color: #800080\">float32</span><span style=\"font-weight: bold\">)</span>                <span style=\"color: #000080; text-decoration-color: #000080\">│</span>\n",
       "<span style=\"color: #000080; text-decoration-color: #000080\">│</span> <span style=\"color: #808000; text-decoration-color: #808000; font-style: italic\">description</span> = <span style=\"color: #008000; text-decoration-color: #008000\">''</span>                                                              <span style=\"color: #000080; text-decoration-color: #000080\">│</span>\n",
       "<span style=\"color: #000080; text-decoration-color: #000080\">│</span>        <span style=\"color: #808000; text-decoration-color: #808000; font-style: italic\">dims</span> = <span style=\"font-weight: bold\">[&lt;</span><span style=\"color: #ff00ff; text-decoration-color: #ff00ff; font-weight: bold\">Dim:</span><span style=\"color: #000000; text-decoration-color: #000000\"> Time </span><span style=\"color: #000000; text-decoration-color: #000000; font-weight: bold\">(</span><span style=\"color: #000000; text-decoration-color: #000000\">sec</span><span style=\"color: #000000; text-decoration-color: #000000; font-weight: bold\">)</span><span style=\"font-weight: bold\">&gt;]</span>                                             <span style=\"color: #000080; text-decoration-color: #000080\">│</span>\n",
       "<span style=\"color: #000080; text-decoration-color: #000080\">│</span>      <span style=\"color: #808000; text-decoration-color: #808000; font-style: italic\">errors</span> = <span style=\"color: #800080; text-decoration-color: #800080; font-weight: bold\">array</span><span style=\"font-weight: bold\">([</span><span style=\"color: #008080; text-decoration-color: #008080; font-weight: bold\">0</span>., <span style=\"color: #008080; text-decoration-color: #008080; font-weight: bold\">0</span>., <span style=\"color: #008080; text-decoration-color: #008080; font-weight: bold\">0</span>., <span style=\"color: #808000; text-decoration-color: #808000\">...</span>, <span style=\"color: #008080; text-decoration-color: #008080; font-weight: bold\">0</span>., <span style=\"color: #008080; text-decoration-color: #008080; font-weight: bold\">0</span>., <span style=\"color: #008080; text-decoration-color: #008080; font-weight: bold\">0</span>.<span style=\"font-weight: bold\">]</span>, <span style=\"color: #808000; text-decoration-color: #808000\">dtype</span>=<span style=\"color: #800080; text-decoration-color: #800080\">float32</span><span style=\"font-weight: bold\">)</span>             <span style=\"color: #000080; text-decoration-color: #000080\">│</span>\n",
       "<span style=\"color: #000080; text-decoration-color: #000080\">│</span>       <span style=\"color: #808000; text-decoration-color: #808000; font-style: italic\">label</span> = <span style=\"color: #008000; text-decoration-color: #008000\">'Plasma Current'</span>                                                <span style=\"color: #000080; text-decoration-color: #000080\">│</span>\n",
       "<span style=\"color: #000080; text-decoration-color: #000080\">│</span>        <span style=\"color: #808000; text-decoration-color: #808000; font-style: italic\">meta</span> = <span style=\"font-weight: bold\">{</span>                                                               <span style=\"color: #000080; text-decoration-color: #000080\">│</span>\n",
       "<span style=\"color: #000080; text-decoration-color: #000080\">│</span>                   <span style=\"color: #008000; text-decoration-color: #008000\">'signal_name'</span>: <span style=\"color: #008000; text-decoration-color: #008000\">b'AMC_PLASMA CURRENT'</span>,                       <span style=\"color: #000080; text-decoration-color: #000080\">│</span>\n",
       "<span style=\"color: #000080; text-decoration-color: #000080\">│</span>                   <span style=\"color: #008000; text-decoration-color: #008000\">'signal_alias'</span>: <span style=\"color: #008000; text-decoration-color: #008000\">b'AMC_PLASMA CURRENT'</span>,                      <span style=\"color: #000080; text-decoration-color: #000080\">│</span>\n",
       "<span style=\"color: #000080; text-decoration-color: #000080\">│</span>                   <span style=\"color: #008000; text-decoration-color: #008000\">'path'</span>: <span style=\"color: #008000; text-decoration-color: #008000\">b''</span>,                                                <span style=\"color: #000080; text-decoration-color: #000080\">│</span>\n",
       "<span style=\"color: #000080; text-decoration-color: #000080\">│</span>                   <span style=\"color: #008000; text-decoration-color: #008000\">'filename'</span>: <span style=\"color: #008000; text-decoration-color: #008000\">b'amc0304.20'</span>,                                  <span style=\"color: #000080; text-decoration-color: #000080\">│</span>\n",
       "<span style=\"color: #000080; text-decoration-color: #000080\">│</span>                   <span style=\"color: #008000; text-decoration-color: #008000\">'format'</span>: <span style=\"color: #008000; text-decoration-color: #008000\">b'IDA3'</span>,                                          <span style=\"color: #000080; text-decoration-color: #000080\">│</span>\n",
       "<span style=\"color: #000080; text-decoration-color: #000080\">│</span>                   <span style=\"color: #008000; text-decoration-color: #008000\">'exp_number'</span>: <span style=\"color: #008080; text-decoration-color: #008080; font-weight: bold\">30420</span>,                                        <span style=\"color: #000080; text-decoration-color: #000080\">│</span>\n",
       "<span style=\"color: #000080; text-decoration-color: #000080\">│</span>                   <span style=\"color: #008000; text-decoration-color: #008000\">'pass'</span>: <span style=\"color: #008080; text-decoration-color: #008080; font-weight: bold\">0</span>,                                                  <span style=\"color: #000080; text-decoration-color: #000080\">│</span>\n",
       "<span style=\"color: #000080; text-decoration-color: #000080\">│</span>                   <span style=\"color: #008000; text-decoration-color: #008000\">'pass_date'</span>: <span style=\"color: #008000; text-decoration-color: #008000\">b'2013-09-25'</span>                                  <span style=\"color: #000080; text-decoration-color: #000080\">│</span>\n",
       "<span style=\"color: #000080; text-decoration-color: #000080\">│</span>               <span style=\"font-weight: bold\">}</span>                                                               <span style=\"color: #000080; text-decoration-color: #000080\">│</span>\n",
       "<span style=\"color: #000080; text-decoration-color: #000080\">│</span>        <span style=\"color: #808000; text-decoration-color: #808000; font-style: italic\">rank</span> = <span style=\"color: #008080; text-decoration-color: #008080; font-weight: bold\">1</span>                                                               <span style=\"color: #000080; text-decoration-color: #000080\">│</span>\n",
       "<span style=\"color: #000080; text-decoration-color: #000080\">│</span>       <span style=\"color: #808000; text-decoration-color: #808000; font-style: italic\">shape</span> = <span style=\"font-weight: bold\">(</span><span style=\"color: #008080; text-decoration-color: #008080; font-weight: bold\">30000</span>,<span style=\"font-weight: bold\">)</span>                                                        <span style=\"color: #000080; text-decoration-color: #000080\">│</span>\n",
       "<span style=\"color: #000080; text-decoration-color: #000080\">│</span>        <span style=\"color: #808000; text-decoration-color: #808000; font-style: italic\">time</span> = <span style=\"font-weight: bold\">&lt;</span><span style=\"color: #ff00ff; text-decoration-color: #ff00ff; font-weight: bold\">Dim:</span><span style=\"color: #000000; text-decoration-color: #000000\"> Time </span><span style=\"color: #000000; text-decoration-color: #000000; font-weight: bold\">(</span><span style=\"color: #000000; text-decoration-color: #000000\">sec</span><span style=\"color: #000000; text-decoration-color: #000000; font-weight: bold\">)</span><span style=\"font-weight: bold\">&gt;</span>                                               <span style=\"color: #000080; text-decoration-color: #000080\">│</span>\n",
       "<span style=\"color: #000080; text-decoration-color: #000080\">│</span>  <span style=\"color: #808000; text-decoration-color: #808000; font-style: italic\">time_index</span> = <span style=\"color: #008080; text-decoration-color: #008080; font-weight: bold\">0</span>                                                               <span style=\"color: #000080; text-decoration-color: #000080\">│</span>\n",
       "<span style=\"color: #000080; text-decoration-color: #000080\">│</span>       <span style=\"color: #808000; text-decoration-color: #808000; font-style: italic\">units</span> = <span style=\"color: #008000; text-decoration-color: #008000\">'kA'</span>                                                            <span style=\"color: #000080; text-decoration-color: #000080\">│</span>\n",
       "<span style=\"color: #000080; text-decoration-color: #000080\">╰───────────────────────────────────────────────────────────────────────────────╯</span>\n",
       "</pre>\n"
      ],
      "text/plain": [
       "\u001b[34m╭─\u001b[0m\u001b[34m────────────────────── \u001b[0m\u001b[1;34m<\u001b[0m\u001b[1;95mclass\u001b[0m\u001b[39m \u001b[0m\u001b[32m'pyuda._signal.Signal'\u001b[0m\u001b[1;34m>\u001b[0m\u001b[34m ───────────────────────\u001b[0m\u001b[34m─╮\u001b[0m\n",
       "\u001b[34m│\u001b[0m \u001b[32m╭───────────────────────────────────────────────────────────────────────────╮\u001b[0m \u001b[34m│\u001b[0m\n",
       "\u001b[34m│\u001b[0m \u001b[32m│\u001b[0m \u001b[1m<\u001b[0m\u001b[1;95mSignal:\u001b[0m\u001b[39m Plasma Current\u001b[0m\u001b[1m>\u001b[0m                                                  \u001b[32m│\u001b[0m \u001b[34m│\u001b[0m\n",
       "\u001b[34m│\u001b[0m \u001b[32m╰───────────────────────────────────────────────────────────────────────────╯\u001b[0m \u001b[34m│\u001b[0m\n",
       "\u001b[34m│\u001b[0m                                                                               \u001b[34m│\u001b[0m\n",
       "\u001b[34m│\u001b[0m        \u001b[3;33mdata\u001b[0m = \u001b[1;35marray\u001b[0m\u001b[1m(\u001b[0m\u001b[1m[\u001b[0m \u001b[1;36m0.49252087\u001b[0m, \u001b[1;36m-0.03406208\u001b[0m,  \u001b[1;36m0.00995923\u001b[0m, \u001b[33m...\u001b[0m, \u001b[1;36m-0.03138269\u001b[0m, \u001b[34m│\u001b[0m\n",
       "\u001b[34m│\u001b[0m                       \u001b[1;36m0.1149876\u001b[0m ,  \u001b[1;36m0.08557814\u001b[0m\u001b[1m]\u001b[0m, \u001b[33mdtype\u001b[0m=\u001b[35mfloat32\u001b[0m\u001b[1m)\u001b[0m                \u001b[34m│\u001b[0m\n",
       "\u001b[34m│\u001b[0m \u001b[3;33mdescription\u001b[0m = \u001b[32m''\u001b[0m                                                              \u001b[34m│\u001b[0m\n",
       "\u001b[34m│\u001b[0m        \u001b[3;33mdims\u001b[0m = \u001b[1m[\u001b[0m\u001b[1m<\u001b[0m\u001b[1;95mDim:\u001b[0m\u001b[39m Time \u001b[0m\u001b[1;39m(\u001b[0m\u001b[39msec\u001b[0m\u001b[1;39m)\u001b[0m\u001b[1m>\u001b[0m\u001b[1m]\u001b[0m                                             \u001b[34m│\u001b[0m\n",
       "\u001b[34m│\u001b[0m      \u001b[3;33merrors\u001b[0m = \u001b[1;35marray\u001b[0m\u001b[1m(\u001b[0m\u001b[1m[\u001b[0m\u001b[1;36m0\u001b[0m., \u001b[1;36m0\u001b[0m., \u001b[1;36m0\u001b[0m., \u001b[33m...\u001b[0m, \u001b[1;36m0\u001b[0m., \u001b[1;36m0\u001b[0m., \u001b[1;36m0\u001b[0m.\u001b[1m]\u001b[0m, \u001b[33mdtype\u001b[0m=\u001b[35mfloat32\u001b[0m\u001b[1m)\u001b[0m             \u001b[34m│\u001b[0m\n",
       "\u001b[34m│\u001b[0m       \u001b[3;33mlabel\u001b[0m = \u001b[32m'Plasma Current'\u001b[0m                                                \u001b[34m│\u001b[0m\n",
       "\u001b[34m│\u001b[0m        \u001b[3;33mmeta\u001b[0m = \u001b[1m{\u001b[0m                                                               \u001b[34m│\u001b[0m\n",
       "\u001b[34m│\u001b[0m                   \u001b[32m'signal_name'\u001b[0m: \u001b[32mb'AMC_PLASMA CURRENT'\u001b[0m,                       \u001b[34m│\u001b[0m\n",
       "\u001b[34m│\u001b[0m                   \u001b[32m'signal_alias'\u001b[0m: \u001b[32mb'AMC_PLASMA CURRENT'\u001b[0m,                      \u001b[34m│\u001b[0m\n",
       "\u001b[34m│\u001b[0m                   \u001b[32m'path'\u001b[0m: \u001b[32mb''\u001b[0m,                                                \u001b[34m│\u001b[0m\n",
       "\u001b[34m│\u001b[0m                   \u001b[32m'filename'\u001b[0m: \u001b[32mb'amc0304.20'\u001b[0m,                                  \u001b[34m│\u001b[0m\n",
       "\u001b[34m│\u001b[0m                   \u001b[32m'format'\u001b[0m: \u001b[32mb'IDA3'\u001b[0m,                                          \u001b[34m│\u001b[0m\n",
       "\u001b[34m│\u001b[0m                   \u001b[32m'exp_number'\u001b[0m: \u001b[1;36m30420\u001b[0m,                                        \u001b[34m│\u001b[0m\n",
       "\u001b[34m│\u001b[0m                   \u001b[32m'pass'\u001b[0m: \u001b[1;36m0\u001b[0m,                                                  \u001b[34m│\u001b[0m\n",
       "\u001b[34m│\u001b[0m                   \u001b[32m'pass_date'\u001b[0m: \u001b[32mb'2013-09-25'\u001b[0m                                  \u001b[34m│\u001b[0m\n",
       "\u001b[34m│\u001b[0m               \u001b[1m}\u001b[0m                                                               \u001b[34m│\u001b[0m\n",
       "\u001b[34m│\u001b[0m        \u001b[3;33mrank\u001b[0m = \u001b[1;36m1\u001b[0m                                                               \u001b[34m│\u001b[0m\n",
       "\u001b[34m│\u001b[0m       \u001b[3;33mshape\u001b[0m = \u001b[1m(\u001b[0m\u001b[1;36m30000\u001b[0m,\u001b[1m)\u001b[0m                                                        \u001b[34m│\u001b[0m\n",
       "\u001b[34m│\u001b[0m        \u001b[3;33mtime\u001b[0m = \u001b[1m<\u001b[0m\u001b[1;95mDim:\u001b[0m\u001b[39m Time \u001b[0m\u001b[1;39m(\u001b[0m\u001b[39msec\u001b[0m\u001b[1;39m)\u001b[0m\u001b[1m>\u001b[0m                                               \u001b[34m│\u001b[0m\n",
       "\u001b[34m│\u001b[0m  \u001b[3;33mtime_index\u001b[0m = \u001b[1;36m0\u001b[0m                                                               \u001b[34m│\u001b[0m\n",
       "\u001b[34m│\u001b[0m       \u001b[3;33munits\u001b[0m = \u001b[32m'kA'\u001b[0m                                                            \u001b[34m│\u001b[0m\n",
       "\u001b[34m╰───────────────────────────────────────────────────────────────────────────────╯\u001b[0m\n"
      ]
     },
     "metadata": {},
     "output_type": "display_data"
    }
   ],
   "source": [
    "inspect(ip)"
   ]
  },
  {
   "cell_type": "code",
   "execution_count": 15,
   "metadata": {},
   "outputs": [
    {
     "data": {
      "text/html": [
       "<pre style=\"white-space:pre;overflow-x:auto;line-height:normal;font-family:Menlo,'DejaVu Sans Mono',consolas,'Courier New',monospace\">\n",
       "<span style=\"font-weight: bold\">[</span>\n",
       "    <span style=\"color: #008000; text-decoration-color: #008000\">'abm'</span>,\n",
       "    <span style=\"color: #008000; text-decoration-color: #008000\">'ada'</span>,\n",
       "    <span style=\"color: #008000; text-decoration-color: #008000\">'adg'</span>,\n",
       "    <span style=\"color: #008000; text-decoration-color: #008000\">'aga'</span>,\n",
       "    <span style=\"color: #008000; text-decoration-color: #008000\">'ahx'</span>,\n",
       "    <span style=\"color: #008000; text-decoration-color: #008000\">'aim'</span>,\n",
       "    <span style=\"color: #008000; text-decoration-color: #008000\">'air'</span>,\n",
       "    <span style=\"color: #008000; text-decoration-color: #008000\">'ait'</span>,\n",
       "    <span style=\"color: #008000; text-decoration-color: #008000\">'alp'</span>,\n",
       "    <span style=\"color: #008000; text-decoration-color: #008000\">'ama'</span>,\n",
       "    <span style=\"color: #008000; text-decoration-color: #008000\">'amb'</span>,\n",
       "    <span style=\"color: #008000; text-decoration-color: #008000\">'amc'</span>,\n",
       "    <span style=\"color: #008000; text-decoration-color: #008000\">'amh'</span>,\n",
       "    <span style=\"color: #008000; text-decoration-color: #008000\">'amm'</span>,\n",
       "    <span style=\"color: #008000; text-decoration-color: #008000\">'ane'</span>,\n",
       "    <span style=\"color: #008000; text-decoration-color: #008000\">'anu'</span>,\n",
       "    <span style=\"color: #008000; text-decoration-color: #008000\">'aoe'</span>,\n",
       "    <span style=\"color: #008000; text-decoration-color: #008000\">'arp'</span>,\n",
       "    <span style=\"color: #008000; text-decoration-color: #008000\">'asb'</span>,\n",
       "    <span style=\"color: #008000; text-decoration-color: #008000\">'asm'</span>,\n",
       "    <span style=\"color: #008000; text-decoration-color: #008000\">'asx'</span>,\n",
       "    <span style=\"color: #008000; text-decoration-color: #008000\">'ayc'</span>,\n",
       "    <span style=\"color: #008000; text-decoration-color: #008000\">'aye'</span>,\n",
       "    <span style=\"color: #008000; text-decoration-color: #008000\">'efm'</span>,\n",
       "    <span style=\"color: #008000; text-decoration-color: #008000\">'esm'</span>,\n",
       "    <span style=\"color: #008000; text-decoration-color: #008000\">'esx'</span>,\n",
       "    <span style=\"color: #008000; text-decoration-color: #008000\">'rca'</span>,\n",
       "    <span style=\"color: #008000; text-decoration-color: #008000\">'rcb'</span>,\n",
       "    <span style=\"color: #008000; text-decoration-color: #008000\">'xax'</span>,\n",
       "    <span style=\"color: #008000; text-decoration-color: #008000\">'xbt'</span>,\n",
       "    <span style=\"color: #008000; text-decoration-color: #008000\">'xcm'</span>,\n",
       "    <span style=\"color: #008000; text-decoration-color: #008000\">'xdc'</span>,\n",
       "    <span style=\"color: #008000; text-decoration-color: #008000\">'xfi'</span>,\n",
       "    <span style=\"color: #008000; text-decoration-color: #008000\">'xho'</span>,\n",
       "    <span style=\"color: #008000; text-decoration-color: #008000\">'xim'</span>,\n",
       "    <span style=\"color: #008000; text-decoration-color: #008000\">'xlp'</span>,\n",
       "    <span style=\"color: #008000; text-decoration-color: #008000\">'xma'</span>,\n",
       "    <span style=\"color: #008000; text-decoration-color: #008000\">'xmb'</span>,\n",
       "    <span style=\"color: #008000; text-decoration-color: #008000\">'xmc'</span>,\n",
       "    <span style=\"color: #008000; text-decoration-color: #008000\">'xmd'</span>,\n",
       "    <span style=\"color: #008000; text-decoration-color: #008000\">'xmm'</span>,\n",
       "    <span style=\"color: #008000; text-decoration-color: #008000\">'xmo'</span>,\n",
       "    <span style=\"color: #008000; text-decoration-color: #008000\">'xnc'</span>,\n",
       "    <span style=\"color: #008000; text-decoration-color: #008000\">'xne'</span>,\n",
       "    <span style=\"color: #008000; text-decoration-color: #008000\">'xnu'</span>,\n",
       "    <span style=\"color: #008000; text-decoration-color: #008000\">'xpc'</span>,\n",
       "    <span style=\"color: #008000; text-decoration-color: #008000\">'xpx'</span>,\n",
       "    <span style=\"color: #008000; text-decoration-color: #008000\">'xrp'</span>,\n",
       "    <span style=\"color: #008000; text-decoration-color: #008000\">'xrt'</span>,\n",
       "    <span style=\"color: #008000; text-decoration-color: #008000\">'xsb'</span>,\n",
       "    <span style=\"color: #008000; text-decoration-color: #008000\">'xss'</span>,\n",
       "    <span style=\"color: #008000; text-decoration-color: #008000\">'xsx'</span>,\n",
       "    <span style=\"color: #008000; text-decoration-color: #008000\">'xtb'</span>,\n",
       "    <span style=\"color: #008000; text-decoration-color: #008000\">'xtm'</span>,\n",
       "    <span style=\"color: #008000; text-decoration-color: #008000\">'xyc'</span>,\n",
       "    <span style=\"color: #008000; text-decoration-color: #008000\">'xyr'</span>\n",
       "<span style=\"font-weight: bold\">]</span>\n",
       "</pre>\n"
      ],
      "text/plain": [
       "\n",
       "\u001b[1m[\u001b[0m\n",
       "    \u001b[32m'abm'\u001b[0m,\n",
       "    \u001b[32m'ada'\u001b[0m,\n",
       "    \u001b[32m'adg'\u001b[0m,\n",
       "    \u001b[32m'aga'\u001b[0m,\n",
       "    \u001b[32m'ahx'\u001b[0m,\n",
       "    \u001b[32m'aim'\u001b[0m,\n",
       "    \u001b[32m'air'\u001b[0m,\n",
       "    \u001b[32m'ait'\u001b[0m,\n",
       "    \u001b[32m'alp'\u001b[0m,\n",
       "    \u001b[32m'ama'\u001b[0m,\n",
       "    \u001b[32m'amb'\u001b[0m,\n",
       "    \u001b[32m'amc'\u001b[0m,\n",
       "    \u001b[32m'amh'\u001b[0m,\n",
       "    \u001b[32m'amm'\u001b[0m,\n",
       "    \u001b[32m'ane'\u001b[0m,\n",
       "    \u001b[32m'anu'\u001b[0m,\n",
       "    \u001b[32m'aoe'\u001b[0m,\n",
       "    \u001b[32m'arp'\u001b[0m,\n",
       "    \u001b[32m'asb'\u001b[0m,\n",
       "    \u001b[32m'asm'\u001b[0m,\n",
       "    \u001b[32m'asx'\u001b[0m,\n",
       "    \u001b[32m'ayc'\u001b[0m,\n",
       "    \u001b[32m'aye'\u001b[0m,\n",
       "    \u001b[32m'efm'\u001b[0m,\n",
       "    \u001b[32m'esm'\u001b[0m,\n",
       "    \u001b[32m'esx'\u001b[0m,\n",
       "    \u001b[32m'rca'\u001b[0m,\n",
       "    \u001b[32m'rcb'\u001b[0m,\n",
       "    \u001b[32m'xax'\u001b[0m,\n",
       "    \u001b[32m'xbt'\u001b[0m,\n",
       "    \u001b[32m'xcm'\u001b[0m,\n",
       "    \u001b[32m'xdc'\u001b[0m,\n",
       "    \u001b[32m'xfi'\u001b[0m,\n",
       "    \u001b[32m'xho'\u001b[0m,\n",
       "    \u001b[32m'xim'\u001b[0m,\n",
       "    \u001b[32m'xlp'\u001b[0m,\n",
       "    \u001b[32m'xma'\u001b[0m,\n",
       "    \u001b[32m'xmb'\u001b[0m,\n",
       "    \u001b[32m'xmc'\u001b[0m,\n",
       "    \u001b[32m'xmd'\u001b[0m,\n",
       "    \u001b[32m'xmm'\u001b[0m,\n",
       "    \u001b[32m'xmo'\u001b[0m,\n",
       "    \u001b[32m'xnc'\u001b[0m,\n",
       "    \u001b[32m'xne'\u001b[0m,\n",
       "    \u001b[32m'xnu'\u001b[0m,\n",
       "    \u001b[32m'xpc'\u001b[0m,\n",
       "    \u001b[32m'xpx'\u001b[0m,\n",
       "    \u001b[32m'xrp'\u001b[0m,\n",
       "    \u001b[32m'xrt'\u001b[0m,\n",
       "    \u001b[32m'xsb'\u001b[0m,\n",
       "    \u001b[32m'xss'\u001b[0m,\n",
       "    \u001b[32m'xsx'\u001b[0m,\n",
       "    \u001b[32m'xtb'\u001b[0m,\n",
       "    \u001b[32m'xtm'\u001b[0m,\n",
       "    \u001b[32m'xyc'\u001b[0m,\n",
       "    \u001b[32m'xyr'\u001b[0m\n",
       "\u001b[1m]\u001b[0m\n"
      ]
     },
     "metadata": {},
     "output_type": "display_data"
    }
   ],
   "source": [
    "[source.source_alias for source in sources]"
   ]
  },
  {
   "cell_type": "code",
   "execution_count": null,
   "metadata": {},
   "outputs": [],
   "source": []
  }
 ],
 "metadata": {
  "kernelspec": {
   "display_name": "Python 3.7.1 ('venv': venv)",
   "language": "python",
   "name": "python3"
  },
  "language_info": {
   "codemirror_mode": {
    "name": "ipython",
    "version": 3
   },
   "file_extension": ".py",
   "mimetype": "text/x-python",
   "name": "python",
   "nbconvert_exporter": "python",
   "pygments_lexer": "ipython3",
   "version": "3.7.1"
  },
  "orig_nbformat": 4,
  "vscode": {
   "interpreter": {
    "hash": "680ed88218a14d2dfce1bc66d2a8371bdb9ce540b550b6ada06872ce9370cc47"
   }
  }
 },
 "nbformat": 4,
 "nbformat_minor": 2
}
