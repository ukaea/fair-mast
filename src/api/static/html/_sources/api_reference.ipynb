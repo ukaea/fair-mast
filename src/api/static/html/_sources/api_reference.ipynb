{
 "cells": [
  {
   "cell_type": "code",
   "execution_count": 124,
   "id": "ebba03b7-34c4-4b49-94d8-112c7176ac7f",
   "metadata": {},
   "outputs": [],
   "source": [
    "import pandas as pd\n",
    "import requests\n",
    "import time\n",
    "import dask\n",
    "import intake\n",
    "import dask.dataframe as dd"
   ]
  },
  {
   "cell_type": "markdown",
   "id": "76fa365c-b6d9-479f-99d8-d0d53ec30e8e",
   "metadata": {},
   "source": [
    "# Querying the Metadatabase"
   ]
  },
  {
   "cell_type": "code",
   "execution_count": 125,
   "id": "dc9425d7-0759-425b-aaa2-215f94f04992",
   "metadata": {},
   "outputs": [],
   "source": [
    "HOST = 'localhost'\n",
    "PORT = 80\n",
    "ENDPOINT_URI = f'http://{HOST}:{PORT}'"
   ]
  },
  {
   "cell_type": "markdown",
   "id": "8a9a779a-3cc2-4557-8cb1-a9849f01a434",
   "metadata": {},
   "source": [
    "## Advanced Queries with GraphQL\n",
    "\n",
    "With GraphQL you can query exactly what you want, rather than having to recieve the whole table from the database This is useful in cases where the whole table has many columns, but you are interested in just a subset of them.\n",
    "\n",
    "The GraphQL endpoint is located at `/graphql` and recieves HTTP POST requests with the `query` parameter."
   ]
  },
  {
   "cell_type": "code",
   "execution_count": 279,
   "id": "4970f970-2e6a-414a-8722-427f57c62964",
   "metadata": {},
   "outputs": [
    {
     "data": {
      "text/plain": [
       "{'data': {'get_signal_datasets': {'signal_datasets': [{'name': 'AMC_EFPS_CURRENT',\n",
       "     'dimensions': ['time']},\n",
       "    {'name': 'AMC_ERROR_FIELD_02', 'dimensions': ['time']},\n",
       "    {'name': 'AMC_ERROR_FIELD_05', 'dimensions': ['time']}]}}}"
      ]
     },
     "execution_count": 279,
     "metadata": {},
     "output_type": "execute_result"
    }
   ],
   "source": [
    "# Write our GraphQL query.\n",
    "query = \"\"\"\n",
    "query {\n",
    "    get_signal_datasets (limit: 3, where: {name: {contains: \"AMC\"}}) {\n",
    "        signal_datasets {\n",
    "            name\n",
    "            dimensions\n",
    "        }\n",
    "    }\n",
    "}\n",
    "\"\"\"\n",
    "# Query the API and get a JSON response\n",
    "response = requests.post(f'{ENDPOINT_URI}/graphql', json={'query': query})\n",
    "response.json()"
   ]
  },
  {
   "cell_type": "code",
   "execution_count": 272,
   "id": "399c75c1-16ab-4a34-b968-5a9f3c6f99e0",
   "metadata": {},
   "outputs": [
    {
     "data": {
      "text/plain": [
       "{'data': {'get_signal_datasets': {'signal_datasets': [{'name': 'AMC_EFPS_CURRENT',\n",
       "     'dimensions': ['time'],\n",
       "     'url': 's3://mast/AMC_EFPS_CURRENT.zarr',\n",
       "     'get_shots': {'shots': [{'shot_id': 11695},\n",
       "       {'shot_id': 11696},\n",
       "       {'shot_id': 11697},\n",
       "       {'shot_id': 11698},\n",
       "       {'shot_id': 11699}]}},\n",
       "    {'name': 'AMC_ERROR_FIELD_02',\n",
       "     'dimensions': ['time'],\n",
       "     'url': 's3://mast/AMC_ERROR_FIELD_02.zarr',\n",
       "     'get_shots': {'shots': [{'shot_id': 11695},\n",
       "       {'shot_id': 11696},\n",
       "       {'shot_id': 11697},\n",
       "       {'shot_id': 11698},\n",
       "       {'shot_id': 11699}]}},\n",
       "    {'name': 'AMC_ERROR_FIELD_05',\n",
       "     'dimensions': ['time'],\n",
       "     'url': 's3://mast/AMC_ERROR_FIELD_05.zarr',\n",
       "     'get_shots': {'shots': [{'shot_id': 11695},\n",
       "       {'shot_id': 11696},\n",
       "       {'shot_id': 11697},\n",
       "       {'shot_id': 11698},\n",
       "       {'shot_id': 11699}]}}]}}}"
      ]
     },
     "execution_count": 272,
     "metadata": {},
     "output_type": "execute_result"
    }
   ],
   "source": [
    "# Write our GraphQL query.\n",
    "query = \"\"\"\n",
    "query {\n",
    "    get_signal_datasets (limit: 3, where: {name: {contains: \"AMC\"}}) {\n",
    "        signal_datasets {\n",
    "            name\n",
    "            dimensions\n",
    "            url\n",
    "            get_shots (where: {shot_id: {lt: 11700}}){\n",
    "                shots {\n",
    "                    shot_id\n",
    "                }\n",
    "            }\n",
    "        }\n",
    "    }\n",
    "}\n",
    "\"\"\"\n",
    "# Query the API and get a JSON response\n",
    "response = requests.post(f'{ENDPOINT_URI}/graphql', json={'query': query})\n",
    "response.json()"
   ]
  },
  {
   "cell_type": "markdown",
   "id": "6e2ac419-db72-4a95-88a0-d5226b399376",
   "metadata": {},
   "source": [
    "GraphQL queries are paginated. You may access other entries by including the page metadata:"
   ]
  },
  {
   "cell_type": "code",
   "execution_count": null,
   "id": "f4566e66-215c-4d41-aa3a-44fb9d6a0447",
   "metadata": {},
   "outputs": [],
   "source": [
    "from string import Template\n",
    "\n",
    "def do_query(cursor: str = None):\n",
    "    query = \"\"\"\n",
    "    query {\n",
    "        get_signal_datasets (limit: 3, where: {name: {contains: \"AMC\"}}, ${cursor}) {\n",
    "            signal_datasets {\n",
    "                name\n",
    "                dimensions\n",
    "                get_shots (where: {shot_id: {lt: 11700}}){\n",
    "                    shots {\n",
    "                        shot_id\n",
    "                    }\n",
    "                }\n",
    "            }\n",
    "            page_meta {\n",
    "              next_cursor\n",
    "              total_items\n",
    "              total_pages\n",
    "            }\n",
    "        }\n",
    "    }\n",
    "    \"\"\"\n",
    "    template = Template(query)\n",
    "    query = template.substitute(cursor=f'cursor: \"{cursor}\"' if cursor is not None else \"\")\n",
    "    return requests.post(f'{ENDPOINT_URI}/graphql', json={'query': query})\n",
    "\n",
    "\n",
    "def iterate_responses():\n",
    "    cursor = None\n",
    "    while True:\n",
    "        response = do_query(cursor)\n",
    "        payload = response.json() \n",
    "        yield payload\n",
    "        cursor = payload['data']['get_signal_datasets']['page_meta']['next_cursor']\n",
    "        if cursor is None:\n",
    "            return\n",
    "\n",
    "responses = iterate_responses()\n",
    "print(next(responses))\n",
    "print(next(responses))\n",
    "print(next(responses))"
   ]
  },
  {
   "cell_type": "markdown",
   "id": "ba8f861b-b74f-40d1-9df2-6b4f5b8f6edd",
   "metadata": {},
   "source": [
    "## Querying with the REST API"
   ]
  },
  {
   "cell_type": "code",
   "execution_count": 280,
   "id": "a722af66-9731-4878-b2df-9c9ba7ac0be7",
   "metadata": {},
   "outputs": [
    {
     "data": {
      "text/plain": [
       "{'items': [{'id': 1290912,\n",
       "   'signal_dataset_id': 1151,\n",
       "   'shot_id': 30471,\n",
       "   'name': 'ESX_UPPER_INV_RADIUS/30471',\n",
       "   'version': 0,\n",
       "   'uuid': 'eef7d195-2cb0-42ab-9506-8416f18730c3',\n",
       "   'url': 's3://mast/ESX_UPPER_INV_RADIUS.zarr/30471',\n",
       "   'quality': 'Not Checked',\n",
       "   'shape': [2]},\n",
       "  {'id': 1290911,\n",
       "   'signal_dataset_id': 1151,\n",
       "   'shot_id': 30470,\n",
       "   'name': 'ESX_UPPER_INV_RADIUS/30470',\n",
       "   'version': 0,\n",
       "   'uuid': '608062a5-00e0-4c36-a01c-383b900f266f',\n",
       "   'url': 's3://mast/ESX_UPPER_INV_RADIUS.zarr/30470',\n",
       "   'quality': 'Not Checked',\n",
       "   'shape': [2]}],\n",
       " 'total': 1290912,\n",
       " 'page': 1,\n",
       " 'size': 2,\n",
       " 'pages': 645456,\n",
       " 'column_metadata': {'id': 'int',\n",
       "  'signal_dataset_id': 'int',\n",
       "  'shot_id': 'int',\n",
       "  'name': 'str',\n",
       "  'version': 'int',\n",
       "  'uuid': 'object',\n",
       "  'url': 'str',\n",
       "  'quality': 'object',\n",
       "  'shape': 'object'}}"
      ]
     },
     "execution_count": 280,
     "metadata": {},
     "output_type": "execute_result"
    }
   ],
   "source": [
    "response = requests.get(f'{ENDPOINT_URI}/json/signals?size=2')\n",
    "response.json()"
   ]
  },
  {
   "cell_type": "markdown",
   "id": "e2e54b05-98f5-4ff2-a2e9-be3e356e0c3a",
   "metadata": {},
   "source": [
    "JSON API responses are paginated. You can use the option `page=xx` to access the next few items."
   ]
  },
  {
   "cell_type": "code",
   "execution_count": null,
   "id": "80d840d5-ccf4-4ed2-9fe4-33798f2ae62f",
   "metadata": {},
   "outputs": [],
   "source": [
    "response = requests.get(f'{ENDPOINT_URI}/json/signal_datasets?size=2&page=2')\n",
    "response.json()"
   ]
  },
  {
   "cell_type": "markdown",
   "id": "7434ce8b-7a19-4cb5-8f8e-763f120d52f2",
   "metadata": {},
   "source": [
    "### Loading Paginated Responses with Dask"
   ]
  },
  {
   "cell_type": "code",
   "execution_count": null,
   "id": "21f31d0b-9792-48cd-affd-e4e18c58732b",
   "metadata": {},
   "outputs": [],
   "source": [
    "response = requests.get(f'{ENDPOINT_URI}/json/shots')\n",
    "num_pages = response.json()['pages']\n",
    "\n",
    "@dask.delayed\n",
    "def load_one_query(i): \n",
    "    response = requests.get(f'{ENDPOINT_URI}/json/shots?page={i}')\n",
    "    response = response.json()\n",
    "    return pd.DataFrame.from_dict(response['items']).astype(response['column_metadata'])\n",
    "\n",
    "df = dd.from_delayed([load_one_query(i) for i in range(1, 5)])\n",
    "df"
   ]
  },
  {
   "cell_type": "code",
   "execution_count": null,
   "id": "f8527804-4dfa-427f-9a3e-ded486afbb48",
   "metadata": {},
   "outputs": [],
   "source": [
    "df.compute()"
   ]
  },
  {
   "cell_type": "markdown",
   "id": "3c8ee9e4-d1ae-4872-b777-d899e348a0bc",
   "metadata": {},
   "source": [
    "## Querying with File Streaming API"
   ]
  },
  {
   "cell_type": "markdown",
   "id": "c8ad91f7-0449-4946-9483-0a7142d0132c",
   "metadata": {},
   "source": [
    "### Using Intake"
   ]
  },
  {
   "cell_type": "code",
   "execution_count": null,
   "id": "eeb8dab6-c1f2-4d3b-a0c6-6148d8150015",
   "metadata": {},
   "outputs": [],
   "source": [
    "catalog = intake.open_catalog(f'{ENDPOINT_URI}/meta_catalog.yml')\n",
    "gui = intake.interface.gui.GUI([catalog])\n",
    "gui"
   ]
  },
  {
   "cell_type": "markdown",
   "id": "124d9282-e1cd-4107-a2a0-34ba480c798c",
   "metadata": {},
   "source": [
    "Reading from the Intake catalog"
   ]
  },
  {
   "cell_type": "code",
   "execution_count": null,
   "id": "8c5ca1a8-bcba-4b89-8209-492f5c00fa69",
   "metadata": {},
   "outputs": [],
   "source": [
    "catalog.signal_datasets.read()"
   ]
  },
  {
   "cell_type": "markdown",
   "id": "4877eaa9-fc07-49a9-af82-0daf5f4bc821",
   "metadata": {},
   "source": [
    "Direct access with the a known URI."
   ]
  },
  {
   "cell_type": "code",
   "execution_count": null,
   "id": "9fed4fd0-9a07-49cd-8273-1d4dd299c433",
   "metadata": {},
   "outputs": [],
   "source": [
    "pd.read_parquet(f'{ENDPOINT_URI}/files/shots')"
   ]
  },
  {
   "cell_type": "markdown",
   "id": "5cd7152a-5b51-412e-8e86-652066a6e202",
   "metadata": {},
   "source": [
    "Or even read the file in CSV format"
   ]
  },
  {
   "cell_type": "code",
   "execution_count": null,
   "id": "ea0927ee-eeaf-4131-8067-3fc61d115b26",
   "metadata": {},
   "outputs": [],
   "source": [
    "pd.read_csv(f'{ENDPOINT_URI}/files/shots?format=csv')"
   ]
  },
  {
   "cell_type": "markdown",
   "id": "de99375b-3d40-487d-834b-7148ce1695bf",
   "metadata": {},
   "source": [
    "## Opening Remote Data Files"
   ]
  },
  {
   "cell_type": "code",
   "execution_count": 8,
   "id": "1fcb1555-71bc-49da-88be-ed81324716d1",
   "metadata": {},
   "outputs": [
    {
     "name": "stdout",
     "output_type": "stream",
     "text": [
      "1580\n",
      "CPU times: user 4.22 s, sys: 795 ms, total: 5.02 s\n",
      "Wall time: 9.59 s\n"
     ]
    }
   ],
   "source": [
    "%%time\n",
    "import zarr\n",
    "\n",
    "handle = zarr.open_consolidated(f'{ENDPOINT_URI}/data/amc_test.zarr', mode='r')\n",
    "# list(handle.groups())\n",
    "keys = list(handle.groups())\n",
    "keys = [k[0] for k in keys]\n",
    "results ={}\n",
    "for key in keys:\n",
    "    g = handle[key]\n",
    "    results[key] = dict(data=g[\"data\"][:], error=g[\"error\"][:], time=g[\"time\"][:])\n",
    "\n",
    "print(len(results))"
   ]
  },
  {
   "cell_type": "code",
   "execution_count": 307,
   "id": "731f0587",
   "metadata": {},
   "outputs": [
    {
     "ename": "AssertionError",
     "evalue": "",
     "output_type": "error",
     "traceback": [
      "\u001b[0;31m---------------------------------------------------------------------------\u001b[0m",
      "\u001b[0;31mAssertionError\u001b[0m                            Traceback (most recent call last)",
      "Cell \u001b[0;32mIn[307], line 20\u001b[0m\n\u001b[1;32m     17\u001b[0m \u001b[38;5;28;01massert\u001b[39;00m \u001b[38;5;129;01mnot\u001b[39;00m np\u001b[38;5;241m.\u001b[39mall(arr \u001b[38;5;241m==\u001b[39m \u001b[38;5;241m0\u001b[39m)\n\u001b[1;32m     19\u001b[0m arr \u001b[38;5;241m=\u001b[39m handle[\u001b[38;5;124m'\u001b[39m\u001b[38;5;124m28412\u001b[39m\u001b[38;5;124m'\u001b[39m][\u001b[38;5;124m'\u001b[39m\u001b[38;5;124mdata\u001b[39m\u001b[38;5;124m'\u001b[39m][:]\n\u001b[0;32m---> 20\u001b[0m \u001b[38;5;28;01massert\u001b[39;00m \u001b[38;5;129;01mnot\u001b[39;00m np\u001b[38;5;241m.\u001b[39mall(arr \u001b[38;5;241m==\u001b[39m \u001b[38;5;241m0\u001b[39m)\n\u001b[1;32m     22\u001b[0m \u001b[38;5;28mprint\u001b[39m(arr)\n",
      "\u001b[0;31mAssertionError\u001b[0m: "
     ]
    }
   ],
   "source": [
    "import s3fs\n",
    "import zarr\n",
    "import numpy as np\n",
    "\n",
    "file_name = 'amc_test.zarr'\n",
    "\n",
    "s3 = s3fs.S3FileSystem(\n",
    "    anon=True,\n",
    "    use_ssl=False,\n",
    "    client_kwargs={\n",
    "        \"endpoint_url\": \"http://localhost:9000\"\n",
    "    },\n",
    ")\n",
    "store = zarr.storage.FSStore(f'mast/{file_name}', fs=s3, exceptions=())\n",
    "handle = zarr.open_consolidated(store)\n",
    "arr = handle['28415']['data'][:]\n",
    "assert not np.all(arr == 0)\n",
    "\n",
    "arr = handle['28412']['data'][:]\n",
    "assert not np.all(arr == 0)\n",
    "\n",
    "print(arr)"
   ]
  },
  {
   "cell_type": "code",
   "execution_count": 232,
   "id": "9367eb52-4730-4190-9622-10be366e1e03",
   "metadata": {},
   "outputs": [
    {
     "name": "stdout",
     "output_type": "stream",
     "text": [
      "Done!\n",
      "CPU times: user 59.2 s, sys: 7.62 s, total: 1min 6s\n",
      "Wall time: 1min 9s\n"
     ]
    }
   ],
   "source": [
    "%%time\n",
    "import s3fs\n",
    "import zarr\n",
    "import numpy as np\n",
    "\n",
    "file_name = 'rir.zarr'\n",
    "\n",
    "s3 = s3fs.S3FileSystem(\n",
    "    anon=True,\n",
    "    use_ssl=False,\n",
    "    client_kwargs={\n",
    "        \"endpoint_url\": \"http://localhost:9000\"\n",
    "    },\n",
    ")\n",
    "\n",
    "store = zarr.storage.FSStore(f'mast/{file_name}', fs=s3, check=False)\n",
    "handle = zarr.open_consolidated(store)\n",
    "keys = list(handle.groups())\n",
    "keys = [k[0] for k in keys]\n",
    "for key in keys:\n",
    "    g = handle[key]\n",
    "    results = dict(data=g[\"data\"][:], time=g[\"time\"][:])\n",
    "\n",
    "print('Done!')"
   ]
  },
  {
   "cell_type": "code",
   "execution_count": 204,
   "id": "c6ade59d-b228-4965-857a-21df4c964da3",
   "metadata": {},
   "outputs": [
    {
     "name": "stdout",
     "output_type": "stream",
     "text": [
      "242\n",
      "(184, 256, 320)\n"
     ]
    },
    {
     "data": {
      "text/plain": [
       "{'data': <zarr.core.Array '/28980/data' (184, 256, 320) uint16>,\n",
       " 'time': <zarr.core.Array '/28980/time' (184,) float64>}"
      ]
     },
     "execution_count": 204,
     "metadata": {},
     "output_type": "execute_result"
    },
    {
     "data": {
      "image/png": "[encoded data removed]",
      "text/plain": [
       "<Figure size 400x500 with 1 Axes>"
      ]
     },
     "metadata": {},
     "output_type": "display_data"
    }
   ],
   "source": [
    "import zarr\n",
    "import skimage\n",
    "from skimage import filters\n",
    "import matplotlib.pyplot as plt\n",
    "handle = zarr.open('/home/ubuntu/projects/taps/data/rir.zarr')\n",
    "groups = [v for k,v in handle.groups()]\n",
    "groups = [g for g in groups if g['data'].shape[1] > 100]\n",
    "print(len(groups))\n",
    "data = groups[150]['data']\n",
    "print(data.shape)\n",
    "plt.matshow(data[0].T, cmap='gray')\n",
    "dict(groups[150])"
   ]
  }
 ],
 "metadata": {
  "kernelspec": {
   "display_name": "Python (mast)",
   "language": "python",
   "name": "mast"
  },
  "language_info": {
   "codemirror_mode": {
    "name": "ipython",
    "version": 3
   },
   "file_extension": ".py",
   "mimetype": "text/x-python",
   "name": "python",
   "nbconvert_exporter": "python",
   "pygments_lexer": "ipython3",
   "version": "3.11.4"
  }
 },
 "nbformat": 4,
 "nbformat_minor": 5
}
