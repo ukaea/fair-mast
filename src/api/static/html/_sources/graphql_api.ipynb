{
 "cells": [
  {
   "cell_type": "markdown",
   "id": "76fa365c-b6d9-479f-99d8-d0d53ec30e8e",
   "metadata": {},
   "source": [
    "# Querying Metadata with GraphQL\n",
    "\n",
    "In this notebook we explore searching for metadata from the GraphQL API. The GraphQL API provides a method to programmatically extract a JSON representation of the meta data from the API. It has the advantage over REST that it can prevent under and over fetching data.\n",
    "\n",
    "First we load some python dependancies that we will use as part of this notebook and set the variable `ENDPOINT_URL` to the location of the GraphQL API."
   ]
  },
  {
   "cell_type": "code",
   "execution_count": 1,
   "id": "ebba03b7-34c4-4b49-94d8-112c7176ac7f",
   "metadata": {},
   "outputs": [],
   "source": [
    "import yaml\n",
    "import requests\n",
    "from string import Template\n",
    "\n",
    "def load_config() -> dict:\n",
    "    \"\"\"Helper function to load the configuration file\"\"\"\n",
    "    with open('config.yml') as file_handle:\n",
    "        config = yaml.load(file_handle, yaml.FullLoader)\n",
    "    return config\n",
    "\n",
    "config = load_config()\n",
    "ENDPOINT_URL = config['graphql_api']"
   ]
  },
  {
   "cell_type": "markdown",
   "id": "8a9a779a-3cc2-4557-8cb1-a9849f01a434",
   "metadata": {},
   "source": [
    "## Querying Shots with GraphQL\n",
    "\n",
    "With GraphQL you can query exactly what you want, rather than having to recieve the whole table from the database This is useful in cases where the whole table has many columns, but you are interested in just a subset of them.\n",
    "\n",
    "The GraphQL endpoint is located at `/graphql`. You can find the documentation and an interactive query explorer at the URL below:"
   ]
  },
  {
   "cell_type": "code",
   "execution_count": 2,
   "id": "dfb0f1c7",
   "metadata": {},
   "outputs": [
    {
     "name": "stdout",
     "output_type": "stream",
     "text": [
      "GraphQL API endpoint: https://ada-sam-app.oxfordfun.com/graphql\n"
     ]
    }
   ],
   "source": [
    "print(f\"GraphQL API endpoint: {ENDPOINT_URL}\")"
   ]
  },
  {
   "cell_type": "markdown",
   "id": "fa9ab9b8",
   "metadata": {},
   "source": [
    "Unlike the REST API which uses HTTP `GET` requests to return data, with GraphQL we use HTTP `POST` to post our query to the API.\n",
    "\n",
    "Here is a simple example of getting some shot data from the GraphQL API. We need to explicity state what information we want to return from the API. Here we are asking for:\n",
    " - the shot ID\n",
    " - the timestamp that the shot was taken\n",
    " - the preshot description\n",
    " - the divertor configuration"
   ]
  },
  {
   "cell_type": "code",
   "execution_count": 3,
   "id": "4970f970-2e6a-414a-8722-427f57c62964",
   "metadata": {},
   "outputs": [
    {
     "data": {
      "text/plain": [
       "[{'shot_id': 11695,\n",
       "  'timestamp': '2004-12-13T11:54:00',\n",
       "  'preshot_description': '\\n0.1T TF SHOT\\n',\n",
       "  'divertor_config': 'conventional'},\n",
       " {'shot_id': 11696,\n",
       "  'timestamp': '2004-12-13T12:07:00',\n",
       "  'preshot_description': '\\nSTANDARD 0.3T TF SHOT\\n',\n",
       "  'divertor_config': 'conventional'},\n",
       " {'shot_id': 11697,\n",
       "  'timestamp': '2004-12-13T12:19:00',\n",
       "  'preshot_description': '\\nRAISE TO 0.5T\\n',\n",
       "  'divertor_config': 'conventional'}]"
      ]
     },
     "execution_count": 3,
     "metadata": {},
     "output_type": "execute_result"
    }
   ],
   "source": [
    "# Write our GraphQL query.\n",
    "query = \"\"\"\n",
    "query {\n",
    "    all_shots  {\n",
    "        shots {\n",
    "            shot_id\n",
    "            timestamp\n",
    "            preshot_description\n",
    "            divertor_config\n",
    "        }\n",
    "    }\n",
    "}\n",
    "\"\"\"\n",
    "# Query the API and get a JSON response\n",
    "response = requests.post(f'{ENDPOINT_URL}', json={'query': query})\n",
    "result = response.json()\n",
    "result['data']['all_shots']['shots'][:3]"
   ]
  },
  {
   "cell_type": "markdown",
   "id": "6c8a11b9",
   "metadata": {},
   "source": [
    "### Searching & Filtering Data\n",
    "We can also supply query parameters to GraphQL, such as limiting the number of returned values or filtering by value. Here we are limiting the first 3 values and we are selcting only shots from the M9 campaign."
   ]
  },
  {
   "cell_type": "code",
   "execution_count": 4,
   "id": "399c75c1-16ab-4a34-b968-5a9f3c6f99e0",
   "metadata": {},
   "outputs": [
    {
     "data": {
      "text/plain": [
       "{'data': {'all_shots': {'shots': [{'shot_id': 28390,\n",
       "     'timestamp': '2012-03-06T14:47:00',\n",
       "     'preshot_description': '\\nBC5, 300 ms, 3 V. D2 plenum 1536 mbar. For reference.\\n',\n",
       "     'divertor_config': 'conventional'},\n",
       "    {'shot_id': 28391,\n",
       "     'timestamp': '2012-03-06T14:52:00',\n",
       "     'preshot_description': '\\nBC5, 300 ms, 5 V. D2 plenum 1536 mbar. For reference.\\n',\n",
       "     'divertor_config': 'conventional'},\n",
       "    {'shot_id': 28392,\n",
       "     'timestamp': '2012-03-06T15:03:00',\n",
       "     'preshot_description': '\\nHL11, 300 ms, 2 V. He plenum 1047.\\n',\n",
       "     'divertor_config': 'conventional'}]}}}"
      ]
     },
     "execution_count": 4,
     "metadata": {},
     "output_type": "execute_result"
    }
   ],
   "source": [
    "# Write our GraphQL query.\n",
    "query = \"\"\"\n",
    "query {\n",
    "    all_shots (limit: 3, where: {campaign: {eq: \"M9\"}}) {\n",
    "        shots {\n",
    "            shot_id\n",
    "            timestamp\n",
    "            preshot_description\n",
    "            divertor_config\n",
    "        }\n",
    "    }\n",
    "}\n",
    "\"\"\"\n",
    "# Query the API and get a JSON response\n",
    "response = requests.post(f'{ENDPOINT_URL}', json={'query': query})\n",
    "response.json()"
   ]
  },
  {
   "cell_type": "markdown",
   "id": "5aa79e2b",
   "metadata": {},
   "source": [
    "### Nested Queries\n",
    "\n",
    "One feature which makes GraphQL much more powerful that REST is that you may perform nested queries to gather different subsets of the data. For example, here we are going to query for all datasets with \"AMC\" in the name, and query for information about shots associated with this dataset."
   ]
  },
  {
   "cell_type": "code",
   "execution_count": 5,
   "id": "88bdab08",
   "metadata": {},
   "outputs": [
    {
     "data": {
      "text/plain": [
       "{'data': {'all_signal_datasets': {'signal_datasets': [{'name': 'AMC_EFPS_CURRENT',\n",
       "     'url': 's3://mast/AMC_EFPS_CURRENT.zarr',\n",
       "     'shots': [{'shot_id': 28412,\n",
       "       'timestamp': '2013-03-06T15:13:00',\n",
       "       'divertor_config': 'conventional'},\n",
       "      {'shot_id': 28415,\n",
       "       'timestamp': '2013-03-07T15:11:00',\n",
       "       'divertor_config': 'conventional'},\n",
       "      {'shot_id': 28416,\n",
       "       'timestamp': '2013-03-07T15:27:00',\n",
       "       'divertor_config': 'conventional'}]},\n",
       "    {'name': 'AMC_ERROR_FIELD_02',\n",
       "     'url': 's3://mast/AMC_ERROR_FIELD_02.zarr',\n",
       "     'shots': [{'shot_id': 28785,\n",
       "       'timestamp': '2013-05-21T16:00:00',\n",
       "       'divertor_config': 'conventional'},\n",
       "      {'shot_id': 28786,\n",
       "       'timestamp': '2013-05-21T16:16:00',\n",
       "       'divertor_config': 'conventional'},\n",
       "      {'shot_id': 28787,\n",
       "       'timestamp': '2013-05-21T16:32:00',\n",
       "       'divertor_config': 'conventional'}]},\n",
       "    {'name': 'AMC_ERROR_FIELD_05',\n",
       "     'url': 's3://mast/AMC_ERROR_FIELD_05.zarr',\n",
       "     'shots': [{'shot_id': 28412,\n",
       "       'timestamp': '2013-03-06T15:13:00',\n",
       "       'divertor_config': 'conventional'},\n",
       "      {'shot_id': 28415,\n",
       "       'timestamp': '2013-03-07T15:11:00',\n",
       "       'divertor_config': 'conventional'},\n",
       "      {'shot_id': 28416,\n",
       "       'timestamp': '2013-03-07T15:27:00',\n",
       "       'divertor_config': 'conventional'}]}]}}}"
      ]
     },
     "execution_count": 5,
     "metadata": {},
     "output_type": "execute_result"
    }
   ],
   "source": [
    "# Write our GraphQL query.\n",
    "query = \"\"\"\n",
    "query {\n",
    "    all_signal_datasets (limit: 3, where: {name: {contains: \"AMC\"}}) {\n",
    "        signal_datasets {\n",
    "          name\n",
    "          url\n",
    "          shots (limit:3) {\n",
    "            shot_id\n",
    "            timestamp\n",
    "            divertor_config\n",
    "          }\n",
    "        }\n",
    "    }\n",
    "}\n",
    "\"\"\"\n",
    "# Query the API and get a JSON response\n",
    "response = requests.post(f'{ENDPOINT_URL}', json={'query': query})\n",
    "response.json()"
   ]
  },
  {
   "cell_type": "markdown",
   "id": "6e2ac419-db72-4a95-88a0-d5226b399376",
   "metadata": {},
   "source": [
    "### Pagination in GraphQL\n",
    "\n",
    "GraphQL queries are paginated. You may access other entries by including the page metadata and it's associated elements. Here's an example of getting paginated entries:"
   ]
  },
  {
   "cell_type": "code",
   "execution_count": 6,
   "id": "f4566e66-215c-4d41-aa3a-44fb9d6a0447",
   "metadata": {},
   "outputs": [
    {
     "name": "stdout",
     "output_type": "stream",
     "text": [
      "{'data': {'all_shots': {'shots': [{'shot_id': 28390, 'timestamp': '2012-03-06T14:47:00', 'preshot_description': '\\nBC5, 300 ms, 3 V. D2 plenum 1536 mbar. For reference.\\n', 'divertor_config': 'conventional'}, {'shot_id': 28391, 'timestamp': '2012-03-06T14:52:00', 'preshot_description': '\\nBC5, 300 ms, 5 V. D2 plenum 1536 mbar. For reference.\\n', 'divertor_config': 'conventional'}, {'shot_id': 28392, 'timestamp': '2012-03-06T15:03:00', 'preshot_description': '\\nHL11, 300 ms, 2 V. He plenum 1047.\\n', 'divertor_config': 'conventional'}], 'page_meta': {'next_cursor': 'MjgzOTI=', 'total_items': 2084, 'total_pages': 695}}}}\n",
      "{'data': {'all_shots': {'shots': [{'shot_id': 28393, 'timestamp': '2012-03-06T15:09:00', 'preshot_description': '\\nHL11, 300 ms, 3 V. He plenum 1047.\\n', 'divertor_config': 'conventional'}, {'shot_id': 28394, 'timestamp': '2012-03-06T15:13:00', 'preshot_description': '\\nHL11, 300 ms, 5 V. He plenum 1047.\\n', 'divertor_config': 'conventional'}, {'shot_id': 28395, 'timestamp': '2012-03-06T15:21:00', 'preshot_description': '\\nHL11, 300 ms, 6 V. He plenum 1047.\\n', 'divertor_config': 'conventional'}], 'page_meta': {'next_cursor': 'MjgzOTU=', 'total_items': 2084, 'total_pages': 695}}}}\n",
      "{'data': {'all_shots': {'shots': [{'shot_id': 28396, 'timestamp': '2012-03-06T15:31:00', 'preshot_description': '\\nHL11, 300 ms, 3 V. CH4 plenum 1032.\\n', 'divertor_config': 'conventional'}, {'shot_id': 28397, 'timestamp': '2012-03-06T15:38:00', 'preshot_description': '\\nHL11, 300 ms, 5 V. CH4 plenum 1032.\\n', 'divertor_config': 'conventional'}, {'shot_id': 28398, 'timestamp': '2012-03-06T15:43:00', 'preshot_description': '\\nHL11, 300 ms, 4 V. CH4 plenum 1032.\\n', 'divertor_config': 'conventional'}], 'page_meta': {'next_cursor': 'MjgzOTg=', 'total_items': 2084, 'total_pages': 695}}}}\n"
     ]
    }
   ],
   "source": [
    "def do_query(cursor: str = None):\n",
    "    query = \"\"\"\n",
    "    query {\n",
    "        all_shots (limit: 3, where: {campaign: {contains: \"M9\"}}, ${cursor}) {\n",
    "            shots {\n",
    "                shot_id\n",
    "                timestamp\n",
    "                preshot_description\n",
    "                divertor_config\n",
    "            }\n",
    "            page_meta {\n",
    "              next_cursor\n",
    "              total_items\n",
    "              total_pages\n",
    "            }\n",
    "        }\n",
    "    }\n",
    "    \"\"\"\n",
    "    template = Template(query)\n",
    "    query = template.substitute(cursor=f'cursor: \"{cursor}\"' if cursor is not None else \"\")\n",
    "    return requests.post(f'{ENDPOINT_URL}', json={'query': query})\n",
    "\n",
    "\n",
    "def iterate_responses():\n",
    "    cursor = None\n",
    "    while True:\n",
    "        response = do_query(cursor)\n",
    "        payload = response.json() \n",
    "        yield payload\n",
    "        cursor = payload['data']['all_shots']['page_meta']['next_cursor']\n",
    "        if cursor is None:\n",
    "            return\n",
    "\n",
    "responses = iterate_responses()\n",
    "print(next(responses))\n",
    "print(next(responses))\n",
    "print(next(responses))"
   ]
  }
 ],
 "metadata": {
  "kernelspec": {
   "display_name": "mast",
   "language": "python",
   "name": "python3"
  },
  "language_info": {
   "codemirror_mode": {
    "name": "ipython",
    "version": 3
   },
   "file_extension": ".py",
   "mimetype": "text/x-python",
   "name": "python",
   "nbconvert_exporter": "python",
   "pygments_lexer": "ipython3",
   "version": "3.11.5"
  }
 },
 "nbformat": 4,
 "nbformat_minor": 5
}
