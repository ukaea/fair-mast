{
 "cells": [
  {
   "attachments": {},
   "cell_type": "markdown",
   "metadata": {},
   "source": [
    "# Working with Data\n",
    "\n",
    "Here is an example of loading & plotting data from the archive"
   ]
  },
  {
   "cell_type": "code",
   "execution_count": 3,
   "metadata": {},
   "outputs": [],
   "source": [
    "import intake\n",
    "import matplotlib.pyplot as plt\n",
    "from pathlib import Path"
   ]
  },
  {
   "cell_type": "code",
   "execution_count": null,
   "metadata": {},
   "outputs": [],
   "source": [
    "\n",
    "tmp_cat = {\n",
    "    \n",
    "    'AMB_CCBV03': {\n",
    "        'args': {\n",
    "            'fastzarr': True,\n",
    "            'urlpath': '/home/lhs18285/mast-data/mast/AMB_PLASMA_CURRENT.zarr'\n",
    "            \n",
    "        },\n",
    "        'description': 'AMC_PLASMA_CURRENT',\n",
    "        'driver': 'intake_xarray_datatree.intake_xarray_datatree.DataTreeSource'\n",
    "    }\n",
    "}\n",
    "# %%writefile clustering_details.yaml"
   ]
  },
  {
   "cell_type": "code",
   "execution_count": 9,
   "metadata": {},
   "outputs": [
    {
     "data": {
      "application/yaml": "AMB_CCBV03:\n  args:\n    fastzarr: true\n    urlpath: /home/lhs18285/mast-data/mast/AMB_CCBV03.zarr\n  description: CCBV03\n  driver: intake_xarray_datatree.intake_xarray_datatree.DataTreeSource\n  metadata:\n    catalog_dir: /home/lhs18285/mast-data/mast/\n    description: ''\n    label: CCBV03\n    rank: 1\n    shape:\n    - 23000\n    time_index: 0\n    units: Tesla\n",
      "text/plain": [
       "AMB_CCBV03:\n",
       "  args:\n",
       "    fastzarr: true\n",
       "    urlpath: /home/lhs18285/mast-data/mast/AMB_CCBV03.zarr\n",
       "  description: CCBV03\n",
       "  driver: intake_xarray_datatree.intake_xarray_datatree.DataTreeSource\n",
       "  metadata:\n",
       "    catalog_dir: /home/lhs18285/mast-data/mast/\n",
       "    description: ''\n",
       "    label: CCBV03\n",
       "    rank: 1\n",
       "    shape:\n",
       "    - 23000\n",
       "    time_index: 0\n",
       "    units: Tesla\n"
      ]
     },
     "metadata": {
      "application/json": {
       "root": "AMB_CCBV03"
      }
     },
     "output_type": "display_data"
    }
   ],
   "source": [
    "catalog = intake.open_catalog(Path('~/mast-data/mast/catalog.yml').expanduser())\n",
    "# Path(catalog.path).parent / 'AMC_PLASMA_CURRENT.zarr'\n",
    "catalog.AMB_CCBV03"
   ]
  },
  {
   "cell_type": "code",
   "execution_count": 14,
   "metadata": {},
   "outputs": [
    {
     "ename": "GroupNotFoundError",
     "evalue": "group not found at path ''",
     "output_type": "error",
     "traceback": [
      "\u001b[0;31m---------------------------------------------------------------------------\u001b[0m",
      "\u001b[0;31mGroupNotFoundError\u001b[0m                        Traceback (most recent call last)",
      "Cell \u001b[0;32mIn[14], line 2\u001b[0m\n\u001b[1;32m      1\u001b[0m \u001b[38;5;66;03m# Read data \u001b[39;00m\n\u001b[0;32m----> 2\u001b[0m data \u001b[38;5;241m=\u001b[39m \u001b[43m{\u001b[49m\u001b[43mrow\u001b[49m\u001b[43m[\u001b[49m\u001b[38;5;124;43m'\u001b[39;49m\u001b[38;5;124;43mname\u001b[39;49m\u001b[38;5;124;43m'\u001b[39;49m\u001b[43m]\u001b[49m\u001b[43m:\u001b[49m\u001b[43m \u001b[49m\u001b[43mopen_datatree\u001b[49m\u001b[43m(\u001b[49m\u001b[43mrow\u001b[49m\u001b[38;5;241;43m.\u001b[39;49m\u001b[43muri\u001b[49m\u001b[43m,\u001b[49m\u001b[43m \u001b[49m\u001b[43mengine\u001b[49m\u001b[38;5;241;43m=\u001b[39;49m\u001b[38;5;124;43m'\u001b[39;49m\u001b[38;5;124;43mzarr\u001b[39;49m\u001b[38;5;124;43m'\u001b[39;49m\u001b[43m)\u001b[49m\u001b[43m \u001b[49m\u001b[38;5;28;43;01mfor\u001b[39;49;00m\u001b[43m \u001b[49m\u001b[43mindex\u001b[49m\u001b[43m,\u001b[49m\u001b[43m \u001b[49m\u001b[43mrow\u001b[49m\u001b[43m \u001b[49m\u001b[38;5;129;43;01min\u001b[39;49;00m\u001b[43m \u001b[49m\u001b[43mresult\u001b[49m\u001b[43m[\u001b[49m\u001b[43m[\u001b[49m\u001b[38;5;124;43m'\u001b[39;49m\u001b[38;5;124;43mname\u001b[39;49m\u001b[38;5;124;43m'\u001b[39;49m\u001b[43m,\u001b[49m\u001b[43m \u001b[49m\u001b[38;5;124;43m'\u001b[39;49m\u001b[38;5;124;43muri\u001b[39;49m\u001b[38;5;124;43m'\u001b[39;49m\u001b[43m]\u001b[49m\u001b[43m]\u001b[49m\u001b[38;5;241;43m.\u001b[39;49m\u001b[43miterrows\u001b[49m\u001b[43m(\u001b[49m\u001b[43m)\u001b[49m\u001b[43m}\u001b[49m\n\u001b[1;32m      4\u001b[0m dataset \u001b[38;5;241m=\u001b[39m data[\u001b[38;5;124m'\u001b[39m\u001b[38;5;124mAMC_PLASMA_CURRENT\u001b[39m\u001b[38;5;124m'\u001b[39m]\n\u001b[1;32m      5\u001b[0m \u001b[38;5;66;03m# Choose only relevant shots\u001b[39;00m\n",
      "Cell \u001b[0;32mIn[14], line 2\u001b[0m, in \u001b[0;36m<dictcomp>\u001b[0;34m(.0)\u001b[0m\n\u001b[1;32m      1\u001b[0m \u001b[38;5;66;03m# Read data \u001b[39;00m\n\u001b[0;32m----> 2\u001b[0m data \u001b[38;5;241m=\u001b[39m {row[\u001b[38;5;124m'\u001b[39m\u001b[38;5;124mname\u001b[39m\u001b[38;5;124m'\u001b[39m]: \u001b[43mopen_datatree\u001b[49m\u001b[43m(\u001b[49m\u001b[43mrow\u001b[49m\u001b[38;5;241;43m.\u001b[39;49m\u001b[43muri\u001b[49m\u001b[43m,\u001b[49m\u001b[43m \u001b[49m\u001b[43mengine\u001b[49m\u001b[38;5;241;43m=\u001b[39;49m\u001b[38;5;124;43m'\u001b[39;49m\u001b[38;5;124;43mzarr\u001b[39;49m\u001b[38;5;124;43m'\u001b[39;49m\u001b[43m)\u001b[49m \u001b[38;5;28;01mfor\u001b[39;00m index, row \u001b[38;5;129;01min\u001b[39;00m result[[\u001b[38;5;124m'\u001b[39m\u001b[38;5;124mname\u001b[39m\u001b[38;5;124m'\u001b[39m, \u001b[38;5;124m'\u001b[39m\u001b[38;5;124muri\u001b[39m\u001b[38;5;124m'\u001b[39m]]\u001b[38;5;241m.\u001b[39miterrows()}\n\u001b[1;32m      4\u001b[0m dataset \u001b[38;5;241m=\u001b[39m data[\u001b[38;5;124m'\u001b[39m\u001b[38;5;124mAMC_PLASMA_CURRENT\u001b[39m\u001b[38;5;124m'\u001b[39m]\n\u001b[1;32m      5\u001b[0m \u001b[38;5;66;03m# Choose only relevant shots\u001b[39;00m\n",
      "File \u001b[0;32m/opt/conda/lib/python3.11/site-packages/datatree/io.py:56\u001b[0m, in \u001b[0;36mopen_datatree\u001b[0;34m(filename_or_obj, engine, **kwargs)\u001b[0m\n\u001b[1;32m     38\u001b[0m \u001b[38;5;250m\u001b[39m\u001b[38;5;124;03m\"\"\"\u001b[39;00m\n\u001b[1;32m     39\u001b[0m \u001b[38;5;124;03mOpen and decode a dataset from a file or file-like object, creating one Tree node for each group in the file.\u001b[39;00m\n\u001b[1;32m     40\u001b[0m \n\u001b[0;32m   (...)\u001b[0m\n\u001b[1;32m     52\u001b[0m \u001b[38;5;124;03mDataTree\u001b[39;00m\n\u001b[1;32m     53\u001b[0m \u001b[38;5;124;03m\"\"\"\u001b[39;00m\n\u001b[1;32m     55\u001b[0m \u001b[38;5;28;01mif\u001b[39;00m engine \u001b[38;5;241m==\u001b[39m \u001b[38;5;124m\"\u001b[39m\u001b[38;5;124mzarr\u001b[39m\u001b[38;5;124m\"\u001b[39m:\n\u001b[0;32m---> 56\u001b[0m     \u001b[38;5;28;01mreturn\u001b[39;00m \u001b[43m_open_datatree_zarr\u001b[49m\u001b[43m(\u001b[49m\u001b[43mfilename_or_obj\u001b[49m\u001b[43m,\u001b[49m\u001b[43m \u001b[49m\u001b[38;5;241;43m*\u001b[39;49m\u001b[38;5;241;43m*\u001b[39;49m\u001b[43mkwargs\u001b[49m\u001b[43m)\u001b[49m\n\u001b[1;32m     57\u001b[0m \u001b[38;5;28;01melif\u001b[39;00m engine \u001b[38;5;129;01min\u001b[39;00m [\u001b[38;5;28;01mNone\u001b[39;00m, \u001b[38;5;124m\"\u001b[39m\u001b[38;5;124mnetcdf4\u001b[39m\u001b[38;5;124m\"\u001b[39m, \u001b[38;5;124m\"\u001b[39m\u001b[38;5;124mh5netcdf\u001b[39m\u001b[38;5;124m\"\u001b[39m]:\n\u001b[1;32m     58\u001b[0m     \u001b[38;5;28;01mreturn\u001b[39;00m _open_datatree_netcdf(filename_or_obj, engine\u001b[38;5;241m=\u001b[39mengine, \u001b[38;5;241m*\u001b[39m\u001b[38;5;241m*\u001b[39mkwargs)\n",
      "File \u001b[0;32m/opt/conda/lib/python3.11/site-packages/datatree/io.py:87\u001b[0m, in \u001b[0;36m_open_datatree_zarr\u001b[0;34m(store, **kwargs)\u001b[0m\n\u001b[1;32m     84\u001b[0m \u001b[38;5;28;01mdef\u001b[39;00m \u001b[38;5;21m_open_datatree_zarr\u001b[39m(store, \u001b[38;5;241m*\u001b[39m\u001b[38;5;241m*\u001b[39mkwargs) \u001b[38;5;241m-\u001b[39m\u001b[38;5;241m>\u001b[39m DataTree:\n\u001b[1;32m     85\u001b[0m     \u001b[38;5;28;01mimport\u001b[39;00m \u001b[38;5;21;01mzarr\u001b[39;00m  \u001b[38;5;66;03m# type: ignore\u001b[39;00m\n\u001b[0;32m---> 87\u001b[0m     zds \u001b[38;5;241m=\u001b[39m \u001b[43mzarr\u001b[49m\u001b[38;5;241;43m.\u001b[39;49m\u001b[43mopen_group\u001b[49m\u001b[43m(\u001b[49m\u001b[43mstore\u001b[49m\u001b[43m,\u001b[49m\u001b[43m \u001b[49m\u001b[43mmode\u001b[49m\u001b[38;5;241;43m=\u001b[39;49m\u001b[38;5;124;43m\"\u001b[39;49m\u001b[38;5;124;43mr\u001b[39;49m\u001b[38;5;124;43m\"\u001b[39;49m\u001b[43m)\u001b[49m\n\u001b[1;32m     88\u001b[0m     ds \u001b[38;5;241m=\u001b[39m open_dataset(store, engine\u001b[38;5;241m=\u001b[39m\u001b[38;5;124m\"\u001b[39m\u001b[38;5;124mzarr\u001b[39m\u001b[38;5;124m\"\u001b[39m, \u001b[38;5;241m*\u001b[39m\u001b[38;5;241m*\u001b[39mkwargs)\n\u001b[1;32m     89\u001b[0m     tree_root \u001b[38;5;241m=\u001b[39m DataTree\u001b[38;5;241m.\u001b[39mfrom_dict({\u001b[38;5;124m\"\u001b[39m\u001b[38;5;124m/\u001b[39m\u001b[38;5;124m\"\u001b[39m: ds})\n",
      "File \u001b[0;32m/opt/conda/lib/python3.11/site-packages/zarr/hierarchy.py:1443\u001b[0m, in \u001b[0;36mopen_group\u001b[0;34m(store, mode, cache_attrs, synchronizer, path, chunk_store, storage_options, zarr_version, meta_array)\u001b[0m\n\u001b[1;32m   1441\u001b[0m         \u001b[38;5;28;01mif\u001b[39;00m contains_array(store, path\u001b[38;5;241m=\u001b[39mpath):\n\u001b[1;32m   1442\u001b[0m             \u001b[38;5;28;01mraise\u001b[39;00m ContainsArrayError(path)\n\u001b[0;32m-> 1443\u001b[0m         \u001b[38;5;28;01mraise\u001b[39;00m GroupNotFoundError(path)\n\u001b[1;32m   1445\u001b[0m \u001b[38;5;28;01melif\u001b[39;00m mode \u001b[38;5;241m==\u001b[39m \u001b[38;5;124m'\u001b[39m\u001b[38;5;124mw\u001b[39m\u001b[38;5;124m'\u001b[39m:\n\u001b[1;32m   1446\u001b[0m     init_group(store, overwrite\u001b[38;5;241m=\u001b[39m\u001b[38;5;28;01mTrue\u001b[39;00m, path\u001b[38;5;241m=\u001b[39mpath, chunk_store\u001b[38;5;241m=\u001b[39mchunk_store)\n",
      "\u001b[0;31mGroupNotFoundError\u001b[0m: group not found at path ''"
     ]
    }
   ],
   "source": [
    "\n",
    "dataset = data['AMC_PLASMA_CURRENT']\n",
    "# Choose only relevant shots\n",
    "dataset = dataset.filter(lambda x: x.name in shot_ids)\n",
    "dataset = dataset.sel(time=slice(0, .5))\n",
    "\n",
    "for shot_id, shot in dataset.items():\n",
    "    data = shot['data']\n",
    "    time = shot['time']\n",
    "    plt.plot(time, data, label=f'Shot {shot_id}') \n",
    "\n",
    "plt.ylabel(f'{shot.label} ({shot.units})')\n",
    "plt.xlabel('Time')\n",
    "plt.legend()"
   ]
  },
  {
   "attachments": {},
   "cell_type": "markdown",
   "metadata": {},
   "source": [
    "Another example with the same data but with multi dimensional data this time. Use EFM PSI which should be an equillibrium reconstruction."
   ]
  },
  {
   "cell_type": "code",
   "execution_count": 12,
   "metadata": {},
   "outputs": [
    {
     "data": {
      "text/html": [
       "<div>\n",
       "<style scoped>\n",
       "    .dataframe tbody tr th:only-of-type {\n",
       "        vertical-align: middle;\n",
       "    }\n",
       "\n",
       "    .dataframe tbody tr th {\n",
       "        vertical-align: top;\n",
       "    }\n",
       "\n",
       "    .dataframe thead th {\n",
       "        text-align: right;\n",
       "    }\n",
       "</style>\n",
       "<table border=\"1\" class=\"dataframe\">\n",
       "  <thead>\n",
       "    <tr style=\"text-align: right;\">\n",
       "      <th></th>\n",
       "      <th>signal_id</th>\n",
       "      <th>name</th>\n",
       "      <th>units</th>\n",
       "      <th>rank</th>\n",
       "      <th>dim_1_label</th>\n",
       "      <th>dim_2_label</th>\n",
       "      <th>dim_3_label</th>\n",
       "      <th>uri</th>\n",
       "      <th>description</th>\n",
       "      <th>signal_type</th>\n",
       "      <th>quality</th>\n",
       "      <th>doi</th>\n",
       "      <th>camera_metadata</th>\n",
       "      <th>camera</th>\n",
       "    </tr>\n",
       "  </thead>\n",
       "  <tbody>\n",
       "    <tr>\n",
       "      <th>0</th>\n",
       "      <td>882</td>\n",
       "      <td>EFM_PSI(R,Z)</td>\n",
       "      <td>Wb/rad</td>\n",
       "      <td>3</td>\n",
       "      <td>None</td>\n",
       "      <td>None</td>\n",
       "      <td>None</td>\n",
       "      <td>/home/lhs18285/git/fair-mast/data/mast/zarr/EF...</td>\n",
       "      <td>psi(r,z)</td>\n",
       "      <td>Analysed</td>\n",
       "      <td>Not Checked</td>\n",
       "      <td></td>\n",
       "      <td>None</td>\n",
       "      <td>None</td>\n",
       "    </tr>\n",
       "  </tbody>\n",
       "</table>\n",
       "</div>"
      ],
      "text/plain": [
       "   signal_id          name   units  rank dim_1_label dim_2_label dim_3_label  \\\n",
       "0        882  EFM_PSI(R,Z)  Wb/rad     3        None        None        None   \n",
       "\n",
       "                                                 uri description signal_type  \\\n",
       "0  /home/lhs18285/git/fair-mast/data/mast/zarr/EF...    psi(r,z)    Analysed   \n",
       "\n",
       "       quality doi camera_metadata camera  \n",
       "0  Not Checked                None   None  "
      ]
     },
     "execution_count": 12,
     "metadata": {},
     "output_type": "execute_result"
    }
   ],
   "source": [
    "# Query for signal data, filter only names containing 'acd'\n",
    "qsignal = (\n",
    "    session.query(signals)\n",
    "    .filter(signals.c.name.contains('EFM_PSI(R,Z)'))\n",
    ")\n",
    "\n",
    "result = pd.read_sql(qsignal.statement, con=engine.connect())\n",
    "result"
   ]
  },
  {
   "cell_type": "code",
   "execution_count": 8,
   "metadata": {},
   "outputs": [
    {
     "ename": "IndexError",
     "evalue": "index 50 is out of bounds for axis 0 with size 16",
     "output_type": "error",
     "traceback": [
      "\u001b[0;31m---------------------------------------------------------------------------\u001b[0m",
      "\u001b[0;31mIndexError\u001b[0m                                Traceback (most recent call last)",
      "Cell \u001b[0;32mIn[8], line 7\u001b[0m\n\u001b[1;32m      5\u001b[0m dataset \u001b[39m=\u001b[39m data[\u001b[39m'\u001b[39m\u001b[39mEFM_PSI(R,Z)\u001b[39m\u001b[39m'\u001b[39m]\n\u001b[1;32m      6\u001b[0m dataset \u001b[39m=\u001b[39m dataset\u001b[39m.\u001b[39mfilter(\u001b[39mlambda\u001b[39;00m x: x\u001b[39m.\u001b[39mname \u001b[39min\u001b[39;00m shot_ids)\n\u001b[0;32m----> 7\u001b[0m dataset \u001b[39m=\u001b[39m dataset\u001b[39m.\u001b[39;49misel(time\u001b[39m=\u001b[39;49m\u001b[39m50\u001b[39;49m)\n\u001b[1;32m      9\u001b[0m n_shots \u001b[39m=\u001b[39m \u001b[39mlen\u001b[39m(dataset)\n\u001b[1;32m     10\u001b[0m fig, axes \u001b[39m=\u001b[39m plt\u001b[39m.\u001b[39msubplots(\u001b[39m2\u001b[39m, \u001b[39m3\u001b[39m, figsize\u001b[39m=\u001b[39m(\u001b[39m10\u001b[39m, \u001b[39m5\u001b[39m))\n",
      "File \u001b[0;32m~/miniconda3/envs/mast/lib/python3.9/site-packages/datatree/mapping.py:208\u001b[0m, in \u001b[0;36mmap_over_subtree.<locals>._map_over_subtree\u001b[0;34m(*args, **kwargs)\u001b[0m\n\u001b[1;32m    196\u001b[0m node_kwargs_as_datasets \u001b[39m=\u001b[39m \u001b[39mdict\u001b[39m(\n\u001b[1;32m    197\u001b[0m     \u001b[39mzip\u001b[39m(\n\u001b[1;32m    198\u001b[0m         [k \u001b[39mfor\u001b[39;00m k \u001b[39min\u001b[39;00m kwargs_as_tree_length_iterables\u001b[39m.\u001b[39mkeys()],\n\u001b[0;32m   (...)\u001b[0m\n\u001b[1;32m    203\u001b[0m     )\n\u001b[1;32m    204\u001b[0m )\n\u001b[1;32m    206\u001b[0m \u001b[39m# Now we can call func on the data in this particular set of corresponding nodes\u001b[39;00m\n\u001b[1;32m    207\u001b[0m results \u001b[39m=\u001b[39m (\n\u001b[0;32m--> 208\u001b[0m     func(\u001b[39m*\u001b[39;49mnode_args_as_datasets, \u001b[39m*\u001b[39;49m\u001b[39m*\u001b[39;49mnode_kwargs_as_datasets)\n\u001b[1;32m    209\u001b[0m     \u001b[39mif\u001b[39;00m \u001b[39mnot\u001b[39;00m node_of_first_tree\u001b[39m.\u001b[39mis_empty\n\u001b[1;32m    210\u001b[0m     \u001b[39melse\u001b[39;00m \u001b[39mNone\u001b[39;00m\n\u001b[1;32m    211\u001b[0m )\n\u001b[1;32m    213\u001b[0m \u001b[39m# TODO implement mapping over multiple trees in-place using if conditions from here on?\u001b[39;00m\n\u001b[1;32m    214\u001b[0m out_data_objects[node_of_first_tree\u001b[39m.\u001b[39mpath] \u001b[39m=\u001b[39m results\n",
      "File \u001b[0;32m~/miniconda3/envs/mast/lib/python3.9/site-packages/xarray/core/dataset.py:2446\u001b[0m, in \u001b[0;36mDataset.isel\u001b[0;34m(self, indexers, drop, missing_dims, **indexers_kwargs)\u001b[0m\n\u001b[1;32m   2444\u001b[0m var_indexers \u001b[39m=\u001b[39m {k: v \u001b[39mfor\u001b[39;00m k, v \u001b[39min\u001b[39;00m indexers\u001b[39m.\u001b[39mitems() \u001b[39mif\u001b[39;00m k \u001b[39min\u001b[39;00m var\u001b[39m.\u001b[39mdims}\n\u001b[1;32m   2445\u001b[0m \u001b[39mif\u001b[39;00m var_indexers:\n\u001b[0;32m-> 2446\u001b[0m     var \u001b[39m=\u001b[39m var\u001b[39m.\u001b[39;49misel(var_indexers)\n\u001b[1;32m   2447\u001b[0m     \u001b[39mif\u001b[39;00m drop \u001b[39mand\u001b[39;00m var\u001b[39m.\u001b[39mndim \u001b[39m==\u001b[39m \u001b[39m0\u001b[39m \u001b[39mand\u001b[39;00m name \u001b[39min\u001b[39;00m coord_names:\n\u001b[1;32m   2448\u001b[0m         coord_names\u001b[39m.\u001b[39mremove(name)\n",
      "File \u001b[0;32m~/miniconda3/envs/mast/lib/python3.9/site-packages/xarray/core/variable.py:1328\u001b[0m, in \u001b[0;36mVariable.isel\u001b[0;34m(self, indexers, missing_dims, **indexers_kwargs)\u001b[0m\n\u001b[1;32m   1325\u001b[0m indexers \u001b[39m=\u001b[39m drop_dims_from_indexers(indexers, \u001b[39mself\u001b[39m\u001b[39m.\u001b[39mdims, missing_dims)\n\u001b[1;32m   1327\u001b[0m key \u001b[39m=\u001b[39m \u001b[39mtuple\u001b[39m(indexers\u001b[39m.\u001b[39mget(dim, \u001b[39mslice\u001b[39m(\u001b[39mNone\u001b[39;00m)) \u001b[39mfor\u001b[39;00m dim \u001b[39min\u001b[39;00m \u001b[39mself\u001b[39m\u001b[39m.\u001b[39mdims)\n\u001b[0;32m-> 1328\u001b[0m \u001b[39mreturn\u001b[39;00m \u001b[39mself\u001b[39;49m[key]\n",
      "File \u001b[0;32m~/miniconda3/envs/mast/lib/python3.9/site-packages/xarray/core/variable.py:876\u001b[0m, in \u001b[0;36mVariable.__getitem__\u001b[0;34m(self, key)\u001b[0m\n\u001b[1;32m    863\u001b[0m \u001b[39m\u001b[39m\u001b[39m\"\"\"Return a new Variable object whose contents are consistent with\u001b[39;00m\n\u001b[1;32m    864\u001b[0m \u001b[39mgetting the provided key from the underlying data.\u001b[39;00m\n\u001b[1;32m    865\u001b[0m \n\u001b[0;32m   (...)\u001b[0m\n\u001b[1;32m    873\u001b[0m \u001b[39marray `x.values` directly.\u001b[39;00m\n\u001b[1;32m    874\u001b[0m \u001b[39m\"\"\"\u001b[39;00m\n\u001b[1;32m    875\u001b[0m dims, indexer, new_order \u001b[39m=\u001b[39m \u001b[39mself\u001b[39m\u001b[39m.\u001b[39m_broadcast_indexes(key)\n\u001b[0;32m--> 876\u001b[0m data \u001b[39m=\u001b[39m as_indexable(\u001b[39mself\u001b[39;49m\u001b[39m.\u001b[39;49m_data)[indexer]\n\u001b[1;32m    877\u001b[0m \u001b[39mif\u001b[39;00m new_order:\n\u001b[1;32m    878\u001b[0m     data \u001b[39m=\u001b[39m np\u001b[39m.\u001b[39mmoveaxis(data, \u001b[39mrange\u001b[39m(\u001b[39mlen\u001b[39m(new_order)), new_order)\n",
      "File \u001b[0;32m~/miniconda3/envs/mast/lib/python3.9/site-packages/xarray/core/indexing.py:668\u001b[0m, in \u001b[0;36mMemoryCachedArray.__getitem__\u001b[0;34m(self, key)\u001b[0m\n\u001b[1;32m    667\u001b[0m \u001b[39mdef\u001b[39;00m \u001b[39m__getitem__\u001b[39m(\u001b[39mself\u001b[39m, key):\n\u001b[0;32m--> 668\u001b[0m     \u001b[39mreturn\u001b[39;00m \u001b[39mtype\u001b[39m(\u001b[39mself\u001b[39m)(_wrap_numpy_scalars(\u001b[39mself\u001b[39;49m\u001b[39m.\u001b[39;49marray[key]))\n",
      "File \u001b[0;32m~/miniconda3/envs/mast/lib/python3.9/site-packages/xarray/core/indexing.py:637\u001b[0m, in \u001b[0;36mCopyOnWriteArray.__getitem__\u001b[0;34m(self, key)\u001b[0m\n\u001b[1;32m    636\u001b[0m \u001b[39mdef\u001b[39;00m \u001b[39m__getitem__\u001b[39m(\u001b[39mself\u001b[39m, key):\n\u001b[0;32m--> 637\u001b[0m     \u001b[39mreturn\u001b[39;00m \u001b[39mtype\u001b[39m(\u001b[39mself\u001b[39m)(_wrap_numpy_scalars(\u001b[39mself\u001b[39;49m\u001b[39m.\u001b[39;49marray[key]))\n",
      "File \u001b[0;32m~/miniconda3/envs/mast/lib/python3.9/site-packages/xarray/core/indexing.py:544\u001b[0m, in \u001b[0;36mLazilyIndexedArray.__getitem__\u001b[0;34m(self, indexer)\u001b[0m\n\u001b[1;32m    542\u001b[0m     array \u001b[39m=\u001b[39m LazilyVectorizedIndexedArray(\u001b[39mself\u001b[39m\u001b[39m.\u001b[39marray, \u001b[39mself\u001b[39m\u001b[39m.\u001b[39mkey)\n\u001b[1;32m    543\u001b[0m     \u001b[39mreturn\u001b[39;00m array[indexer]\n\u001b[0;32m--> 544\u001b[0m \u001b[39mreturn\u001b[39;00m \u001b[39mtype\u001b[39m(\u001b[39mself\u001b[39m)(\u001b[39mself\u001b[39m\u001b[39m.\u001b[39marray, \u001b[39mself\u001b[39;49m\u001b[39m.\u001b[39;49m_updated_key(indexer))\n",
      "File \u001b[0;32m~/miniconda3/envs/mast/lib/python3.9/site-packages/xarray/core/indexing.py:516\u001b[0m, in \u001b[0;36mLazilyIndexedArray._updated_key\u001b[0;34m(self, new_key)\u001b[0m\n\u001b[1;32m    514\u001b[0m         full_key\u001b[39m.\u001b[39mappend(k)\n\u001b[1;32m    515\u001b[0m     \u001b[39melse\u001b[39;00m:\n\u001b[0;32m--> 516\u001b[0m         full_key\u001b[39m.\u001b[39mappend(_index_indexer_1d(k, \u001b[39mnext\u001b[39;49m(iter_new_key), size))\n\u001b[1;32m    517\u001b[0m full_key \u001b[39m=\u001b[39m \u001b[39mtuple\u001b[39m(full_key)\n\u001b[1;32m    519\u001b[0m \u001b[39mif\u001b[39;00m \u001b[39mall\u001b[39m(\u001b[39misinstance\u001b[39m(k, integer_types \u001b[39m+\u001b[39m (\u001b[39mslice\u001b[39m,)) \u001b[39mfor\u001b[39;00m k \u001b[39min\u001b[39;00m full_key):\n",
      "File \u001b[0;32m~/miniconda3/envs/mast/lib/python3.9/site-packages/xarray/core/indexing.py:283\u001b[0m, in \u001b[0;36m_index_indexer_1d\u001b[0;34m(old_indexer, applied_indexer, size)\u001b[0m\n\u001b[1;32m    281\u001b[0m         indexer \u001b[39m=\u001b[39m slice_slice(old_indexer, applied_indexer, size)\n\u001b[1;32m    282\u001b[0m     \u001b[39melse\u001b[39;00m:\n\u001b[0;32m--> 283\u001b[0m         indexer \u001b[39m=\u001b[39m _expand_slice(old_indexer, size)[applied_indexer]\n\u001b[1;32m    284\u001b[0m \u001b[39melse\u001b[39;00m:\n\u001b[1;32m    285\u001b[0m     indexer \u001b[39m=\u001b[39m old_indexer[applied_indexer]\n",
      "\u001b[0;31mIndexError\u001b[0m: index 50 is out of bounds for axis 0 with size 16"
     ]
    }
   ],
   "source": [
    "# Read data \n",
    "data = {row['name']: open_datatree(row.uri, engine='zarr') for index, row in result[['name', 'uri']].iterrows()}\n",
    "\n",
    "# Choose only relevant shots\n",
    "dataset = data['EFM_PSI(R,Z)']\n",
    "dataset = dataset.filter(lambda x: x.name in shot_ids)\n",
    "dataset = dataset.isel(time=50)\n",
    "\n",
    "n_shots = len(dataset)\n",
    "fig, axes = plt.subplots(2, 3, figsize=(10, 5))\n",
    "axes = axes.flatten()\n",
    "\n",
    "for index, (shot_id, shot) in enumerate(dataset.items()):\n",
    "    data = shot['data']\n",
    "    time = shot['time']\n",
    "    axes[index].matshow(data, cmap='plasma')\n",
    "    axes[index].set_xticks([], [])\n",
    "    axes[index].set_yticks([], [])\n",
    "    axes[index].set_title(f'Shot {shot_id}')\n",
    "plt.suptitle(f'EFM_PSI(R,Z) ({shot.attrs[\"units\"]})')\n",
    "plt.tight_layout()"
   ]
  }
 ],
 "metadata": {
  "kernelspec": {
   "display_name": "Python 3 (ipykernel)",
   "language": "python",
   "name": "python3"
  },
  "language_info": {
   "codemirror_mode": {
    "name": "ipython",
    "version": 3
   },
   "file_extension": ".py",
   "mimetype": "text/x-python",
   "name": "python",
   "nbconvert_exporter": "python",
   "pygments_lexer": "ipython3",
   "version": "3.9.16"
  }
 },
 "nbformat": 4,
 "nbformat_minor": 4
}
