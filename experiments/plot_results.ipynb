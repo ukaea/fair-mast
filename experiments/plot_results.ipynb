{
 "cells": [
  {
   "cell_type": "code",
   "execution_count": 12,
   "metadata": {},
   "outputs": [],
   "source": [
    "import pandas as pd\n",
    "import matplotlib.pyplot as plt\n",
    "import seaborn as sns"
   ]
  },
  {
   "cell_type": "code",
   "execution_count": 8,
   "metadata": {},
   "outputs": [
    {
     "data": {
      "text/html": [
       "<div>\n",
       "<style scoped>\n",
       "    .dataframe tbody tr th:only-of-type {\n",
       "        vertical-align: middle;\n",
       "    }\n",
       "\n",
       "    .dataframe tbody tr th {\n",
       "        vertical-align: top;\n",
       "    }\n",
       "\n",
       "    .dataframe thead th {\n",
       "        text-align: right;\n",
       "    }\n",
       "</style>\n",
       "<table border=\"1\" class=\"dataframe\">\n",
       "  <thead>\n",
       "    <tr style=\"text-align: right;\">\n",
       "      <th></th>\n",
       "      <th>name</th>\n",
       "      <th>start</th>\n",
       "      <th>end</th>\n",
       "      <th>duration</th>\n",
       "      <th>operation</th>\n",
       "    </tr>\n",
       "  </thead>\n",
       "  <tbody>\n",
       "    <tr>\n",
       "      <th>0</th>\n",
       "      <td>NetCDF</td>\n",
       "      <td>1.687332e+09</td>\n",
       "      <td>1.687332e+09</td>\n",
       "      <td>4.249326</td>\n",
       "      <td>Open</td>\n",
       "    </tr>\n",
       "    <tr>\n",
       "      <th>1</th>\n",
       "      <td>NetCDF</td>\n",
       "      <td>1.687332e+09</td>\n",
       "      <td>1.687332e+09</td>\n",
       "      <td>17.944525</td>\n",
       "      <td>Load</td>\n",
       "    </tr>\n",
       "    <tr>\n",
       "      <th>2</th>\n",
       "      <td>HDF</td>\n",
       "      <td>1.687332e+09</td>\n",
       "      <td>1.687332e+09</td>\n",
       "      <td>3.982194</td>\n",
       "      <td>Open</td>\n",
       "    </tr>\n",
       "    <tr>\n",
       "      <th>3</th>\n",
       "      <td>HDF</td>\n",
       "      <td>1.687332e+09</td>\n",
       "      <td>1.687332e+09</td>\n",
       "      <td>10.856486</td>\n",
       "      <td>Load</td>\n",
       "    </tr>\n",
       "    <tr>\n",
       "      <th>4</th>\n",
       "      <td>Zarr</td>\n",
       "      <td>1.687332e+09</td>\n",
       "      <td>1.687332e+09</td>\n",
       "      <td>109.458041</td>\n",
       "      <td>Open</td>\n",
       "    </tr>\n",
       "    <tr>\n",
       "      <th>5</th>\n",
       "      <td>Zarr</td>\n",
       "      <td>1.687332e+09</td>\n",
       "      <td>1.687332e+09</td>\n",
       "      <td>20.588912</td>\n",
       "      <td>Load</td>\n",
       "    </tr>\n",
       "    <tr>\n",
       "      <th>6</th>\n",
       "      <td>FastZarr</td>\n",
       "      <td>1.687332e+09</td>\n",
       "      <td>1.687332e+09</td>\n",
       "      <td>17.480777</td>\n",
       "      <td>Open</td>\n",
       "    </tr>\n",
       "    <tr>\n",
       "      <th>7</th>\n",
       "      <td>FastZarr</td>\n",
       "      <td>1.687332e+09</td>\n",
       "      <td>1.687333e+09</td>\n",
       "      <td>14.651374</td>\n",
       "      <td>Load</td>\n",
       "    </tr>\n",
       "  </tbody>\n",
       "</table>\n",
       "</div>"
      ],
      "text/plain": [
       "       name         start           end    duration operation\n",
       "0    NetCDF  1.687332e+09  1.687332e+09    4.249326      Open\n",
       "1    NetCDF  1.687332e+09  1.687332e+09   17.944525      Load\n",
       "2       HDF  1.687332e+09  1.687332e+09    3.982194      Open\n",
       "3       HDF  1.687332e+09  1.687332e+09   10.856486      Load\n",
       "4      Zarr  1.687332e+09  1.687332e+09  109.458041      Open\n",
       "5      Zarr  1.687332e+09  1.687332e+09   20.588912      Load\n",
       "6  FastZarr  1.687332e+09  1.687332e+09   17.480777      Open\n",
       "7  FastZarr  1.687332e+09  1.687333e+09   14.651374      Load"
      ]
     },
     "execution_count": 8,
     "metadata": {},
     "output_type": "execute_result"
    }
   ],
   "source": [
    "data = pd.read_csv('results.csv', index_col=0)\n",
    "data['operation'] = data.name.str.split('/').map(lambda x: x[-1])\n",
    "data['name'] = data.name.str.split('/').map(lambda x: x[0])\n",
    "data"
   ]
  },
  {
   "cell_type": "code",
   "execution_count": 24,
   "metadata": {},
   "outputs": [
    {
     "data": {
      "text/plain": [
       "<Axes: xlabel='name', ylabel='duration'>"
      ]
     },
     "execution_count": 24,
     "metadata": {},
     "output_type": "execute_result"
    },
    {
     "data": {
      "image/png": "[encoded data removed]",
      "text/plain": [
       "<Figure size 640x480 with 1 Axes>"
      ]
     },
     "metadata": {},
     "output_type": "display_data"
    }
   ],
   "source": [
    "order = data.loc[data.operation == 'Load'].sort_values('duration').name\n",
    "sns.barplot(data, x='name', y='duration', hue='operation', order=order)"
   ]
  }
 ],
 "metadata": {
  "kernelspec": {
   "display_name": "mast",
   "language": "python",
   "name": "python3"
  },
  "language_info": {
   "codemirror_mode": {
    "name": "ipython",
    "version": 3
   },
   "file_extension": ".py",
   "mimetype": "text/x-python",
   "name": "python",
   "nbconvert_exporter": "python",
   "pygments_lexer": "ipython3",
   "version": "3.9.16"
  },
  "orig_nbformat": 4
 },
 "nbformat": 4,
 "nbformat_minor": 2
}
