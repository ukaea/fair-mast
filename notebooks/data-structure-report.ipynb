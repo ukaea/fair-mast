{
 "cells": [
  {
   "cell_type": "markdown",
   "id": "41361f6c",
   "metadata": {
    "toc": true
   },
   "source": [
    "<h1>Table of Contents<span class=\"tocSkip\"></span></h1>\n",
    "<div class=\"toc\"><ul class=\"toc-item\"><li><span><a href=\"#Introduction\" data-toc-modified-id=\"Introduction-1\"><span class=\"toc-item-num\">1&nbsp;&nbsp;</span>Introduction</a></span><ul class=\"toc-item\"><li><span><a href=\"#Conventions-used-in-this-report\" data-toc-modified-id=\"Conventions-used-in-this-report-1.1\"><span class=\"toc-item-num\">1.1&nbsp;&nbsp;</span>Conventions used in this report</a></span></li></ul></li><li><span><a href=\"#Overview-of-Dataset\" data-toc-modified-id=\"Overview-of-Dataset-2\"><span class=\"toc-item-num\">2&nbsp;&nbsp;</span>Overview of Dataset</a></span><ul class=\"toc-item\"><li><span><a href=\"#Web-UI\" data-toc-modified-id=\"Web-UI-2.1\"><span class=\"toc-item-num\">2.1&nbsp;&nbsp;</span>Web UI</a></span></li><li><span><a href=\"#Import-Python-Packages\" data-toc-modified-id=\"Import-Python-Packages-2.2\"><span class=\"toc-item-num\">2.2&nbsp;&nbsp;</span>Import Python Packages</a></span></li></ul></li><li><span><a href=\"#Shot\" data-toc-modified-id=\"Shot-3\"><span class=\"toc-item-num\">3&nbsp;&nbsp;</span><strong>Shot</strong></a></span><ul class=\"toc-item\"><li><span><a href=\"#Retrieve-SOURCES-of-a-Shot\" data-toc-modified-id=\"Retrieve-SOURCES-of-a-Shot-3.1\"><span class=\"toc-item-num\">3.1&nbsp;&nbsp;</span>Retrieve <code>SOURCES</code> of a Shot</a></span><ul class=\"toc-item\"><li><span><a href=\"#Source-type,-format,-&amp;-alias\" data-toc-modified-id=\"Source-type,-format,-&amp;-alias-3.1.1\"><span class=\"toc-item-num\">3.1.1&nbsp;&nbsp;</span>Source type, format, &amp; alias</a></span></li><li><span><a href=\"#Raw-&amp;-Analysed-types\" data-toc-modified-id=\"Raw-&amp;-Analysed-types-3.1.2\"><span class=\"toc-item-num\">3.1.2&nbsp;&nbsp;</span><strong><em>Raw</em></strong> &amp; <strong><em>Analysed</em></strong> types</a></span><ul class=\"toc-item\"><li><span><a href=\"#Retrieve-data-(as-SIGNALS-or-Signal)\" data-toc-modified-id=\"Retrieve-data-(as-SIGNALS-or-Signal)-3.1.2.1\"><span class=\"toc-item-num\">3.1.2.1&nbsp;&nbsp;</span>Retrieve data (as <code>SIGNALS</code> or <code>Signal</code>)</a></span></li><li><span><a href=\"#SIGNAL-Name-as-Alias-Dictionary\" data-toc-modified-id=\"SIGNAL-Name-as-Alias-Dictionary-3.1.2.2\"><span class=\"toc-item-num\">3.1.2.2&nbsp;&nbsp;</span><code>SIGNAL</code> Name as Alias Dictionary</a></span></li></ul></li><li><span><a href=\"#Image-type\" data-toc-modified-id=\"Image-type-3.1.3\"><span class=\"toc-item-num\">3.1.3&nbsp;&nbsp;</span><strong><em>Image</em></strong> type</a></span></li></ul></li><li><span><a href=\"#Raw\" data-toc-modified-id=\"Raw-3.2\"><span class=\"toc-item-num\">3.2&nbsp;&nbsp;</span><strong><em>Raw</em></strong></a></span><ul class=\"toc-item\"><li><span><a href=\"#CDF-format\" data-toc-modified-id=\"CDF-format-3.2.1\"><span class=\"toc-item-num\">3.2.1&nbsp;&nbsp;</span><em>CDF</em> format</a></span></li><li><span><a href=\"#Sources-&amp;-Data-in-IDA3-format\" data-toc-modified-id=\"Sources-&amp;-Data-in-IDA3-format-3.2.2\"><span class=\"toc-item-num\">3.2.2&nbsp;&nbsp;</span>Sources &amp; Data in <em>IDA3</em> format</a></span><ul class=\"toc-item\"><li><span><a href=\"#Errors-&amp;-Exceptions\" data-toc-modified-id=\"Errors-&amp;-Exceptions-3.2.2.1\"><span class=\"toc-item-num\">3.2.2.1&nbsp;&nbsp;</span>Errors &amp; Exceptions</a></span></li></ul></li><li><span><a href=\"#Sources-&amp;-Data-in-NIDA-format\" data-toc-modified-id=\"Sources-&amp;-Data-in-NIDA-format-3.2.3\"><span class=\"toc-item-num\">3.2.3&nbsp;&nbsp;</span>Sources &amp; Data in <em>NIDA</em> format</a></span></li><li><span><a href=\"#Sources-&amp;-Data-in-ASCII\" data-toc-modified-id=\"Sources-&amp;-Data-in-ASCII-3.2.4\"><span class=\"toc-item-num\">3.2.4&nbsp;&nbsp;</span>Sources &amp; Data in <em>ASCII</em></a></span></li><li><span><a href=\"#Sources-in-BINARY\" data-toc-modified-id=\"Sources-in-BINARY-3.2.5\"><span class=\"toc-item-num\">3.2.5&nbsp;&nbsp;</span>Sources in <em>BINARY</em></a></span></li><li><span><a href=\"#Data-in-ASCII-format.\" data-toc-modified-id=\"Data-in-ASCII-format.-3.2.6\"><span class=\"toc-item-num\">3.2.6&nbsp;&nbsp;</span>Data in <em>ASCII</em> format.</a></span></li></ul></li><li><span><a href=\"#Analysed\" data-toc-modified-id=\"Analysed-3.3\"><span class=\"toc-item-num\">3.3&nbsp;&nbsp;</span><strong><em>Analysed</em></strong></a></span><ul class=\"toc-item\"><li><span><a href=\"#SOURCES-&amp;-Data-in-IDA3\" data-toc-modified-id=\"SOURCES-&amp;-Data-in-IDA3-3.3.1\"><span class=\"toc-item-num\">3.3.1&nbsp;&nbsp;</span><code>SOURCES</code> &amp; Data in <em>IDA3</em></a></span></li></ul></li><li><span><a href=\"#Image\" data-toc-modified-id=\"Image-3.4\"><span class=\"toc-item-num\">3.4&nbsp;&nbsp;</span><strong><em>Image</em></strong></a></span><ul class=\"toc-item\"><li><span><a href=\"#Image-SOURCE-&amp;-Data\" data-toc-modified-id=\"Image-SOURCE-&amp;-Data-3.4.1\"><span class=\"toc-item-num\">3.4.1&nbsp;&nbsp;</span><strong><em>Image</em></strong> <code>SOURCE</code> &amp; Data</a></span></li><li><span><a href=\"#Erros-&amp;-Exceptions\" data-toc-modified-id=\"Erros-&amp;-Exceptions-3.4.2\"><span class=\"toc-item-num\">3.4.2&nbsp;&nbsp;</span>Erros &amp; Exceptions</a></span></li></ul></li></ul></li><li><span><a href=\"#Accessing-Shot-Metadata-(CPF)\" data-toc-modified-id=\"Accessing-Shot-Metadata-(CPF)-4\"><span class=\"toc-item-num\">4&nbsp;&nbsp;</span>Accessing Shot Metadata (CPF)</a></span></li></ul></div>"
   ]
  },
  {
   "cell_type": "markdown",
   "id": "7e7d5c7f-d8ef-400b-9162-b90965ed864c",
   "metadata": {},
   "source": [
    "# Introduction"
   ]
  },
  {
   "cell_type": "markdown",
   "id": "694f8456-f8cc-45a7-b4d0-3ca03b06a9b5",
   "metadata": {},
   "source": [
    "This document will describe a general overview of the MAST dataset, particularly its data structure. We will access or retrieve the data structure using the Python [UDA](https://users.mastu.ukaea.uk/data-access-and-tools) and [CPF](https://users.mastu.ukaea.uk/sites/default/files/uploads/CPF.pdf) APIs provided by the UKAEA. The Python packages can only be accessed from the UKAEA's internal Linux cluster called Freia. The scope of this document is limited to the data structure we retrieve via these APIs. We shall discuss the MAST data in a separate document.\n",
    "\n",
    "Each MAST experiment is around 5 GB. Therefore the whole MAST dataset could weigh more than 150 TB. The last experiment was performed on the 27th of September, 2013, with shot number 30473."
   ]
  },
  {
   "cell_type": "markdown",
   "id": "e68158df",
   "metadata": {},
   "source": [
    "## Conventions used in this report"
   ]
  },
  {
   "cell_type": "markdown",
   "id": "c117b452",
   "metadata": {},
   "source": [
    "`Code type` "
   ]
  },
  {
   "cell_type": "markdown",
   "id": "9f230ab0",
   "metadata": {},
   "source": [
    "denotion is used to emphasize variables, objects or classes (eg. `Signal` would refer to a signal class)"
   ]
  },
  {
   "cell_type": "markdown",
   "id": "fce82927",
   "metadata": {},
   "source": [
    "`CODE_TYPE` with capital letters"
   ]
  },
  {
   "cell_type": "markdown",
   "id": "64341eaf",
   "metadata": {},
   "source": [
    "   is used for ListType values: `SOURCE`/`SOURCES`, `SIGNAL`/`SIGNALS`,  `SHOT`/`SHOTS`"
   ]
  },
  {
   "cell_type": "markdown",
   "id": "39ee1706",
   "metadata": {},
   "source": [
    "**Shots** or **Shot**"
   ]
  },
  {
   "cell_type": "markdown",
   "id": "f1f4c2e7",
   "metadata": {},
   "source": [
    "is used to refer to a single experiment"
   ]
  },
  {
   "cell_type": "markdown",
   "id": "5cfcc0c8",
   "metadata": {},
   "source": [
    "**_Bold italics_**"
   ]
  },
  {
   "cell_type": "markdown",
   "id": "623fd87d",
   "metadata": {},
   "source": [
    "is used for `SOURCE` types : **_Raw_**, **_Analysed_**, **_Image_**"
   ]
  },
  {
   "cell_type": "markdown",
   "id": "659e7450",
   "metadata": {},
   "source": [
    "*Italics*"
   ]
  },
  {
   "cell_type": "markdown",
   "id": "e74a2922",
   "metadata": {},
   "source": [
    "is used for `SOURCE` formats, such as *TIF*, *IPX*, *IDA3* etc."
   ]
  },
  {
   "cell_type": "markdown",
   "id": "644e70fd",
   "metadata": {},
   "source": [
    "# Overview of Dataset"
   ]
  },
  {
   "cell_type": "markdown",
   "id": "96282397-ed50-42b9-8e5a-25a509e55d85",
   "metadata": {},
   "source": [
    "## Web UI"
   ]
  },
  {
   "cell_type": "markdown",
   "id": "544bdc4e",
   "metadata": {},
   "source": [
    "The UKAEA has developed a [Web UI](https://users.mastu.ukaea.uk/internal/shot/27933) to browse the MAST dataset. Fig. 1 and 2 are screenshots of an example shot and its data from the web link.\n",
    "  \n",
    "<p>\n",
    "    <img src=\"images/website1.PNG#center\" alt=\"schema\" style=\"width:800px;\"/>\n",
    "</p>\n",
    "<p>\n",
    "    <div align=\"center\"><em>Figure 1. Example screenshot showing the source information of the shot number 27933.</em></div>\n",
    "</p>\n",
    "\n",
    "<p>\n",
    "    <img src=\"images/website2.PNG#center\" alt=\"schema\" style=\"width:800px;\"/></p>\n",
    "<p>\n",
    "<p>\n",
    "    <div align=\"center\"><em>Figure 2. Example screenshot showing the metadata information of the shot number 27933.</em></div>\n",
    "</p>\n"
   ]
  },
  {
   "cell_type": "markdown",
   "id": "864655a8",
   "metadata": {},
   "source": [
    "<div class=\"alert alert-block alert-info\">\n",
    "<b>Note:</b> We can retrieve more information using the UDA and CPF APIs. We noticed minor inconsistencies with the CPF information displayed in the Web UI.\n",
    "</div>"
   ]
  },
  {
   "cell_type": "markdown",
   "id": "ddc7d2d9",
   "metadata": {},
   "source": [
    "<p>\n",
    "    <img src=\"images/schema.png\" alt=\"schema\" style=\"width:500px;\"/>\n",
    "</p>\n",
    "<p>\n",
    "    <div align=\"center\"><em>Figure 3. A high-level schema. </em></div>\n",
    "    \n",
    "</p>\n",
    "\n",
    "Each experiment in the dataset is called a **shot**. Fig. 1 illustrates a high-level schema. Each shot (in UDA API defined using enumerator symbol `SHOTS`) consists of sources (`SOURCES`). There are three types of sources:\n",
    "1. **_Raw_** - unprocessed data,\n",
    "2. **_Analysed_** - processed data, and\n",
    "3. **_Image_**  - video or image.\n",
    "\n",
    "The  **_Raw_** and **_Analysed_** types of `SOURCES` are also defined additionally as `SIGNALS`. \n",
    "\n",
    "In the following section, we will use the UDA API and retrieve and discuss an example shot's `SOURCES` and `SIGNALS` information. The metadata information of shots is stored in *CPF* (central physics file) files; we will discuss this in the final section of this document. "
   ]
  },
  {
   "cell_type": "markdown",
   "id": "e0bd94ac",
   "metadata": {},
   "source": [
    "## Import Python Packages"
   ]
  },
  {
   "cell_type": "markdown",
   "id": "3d530c27",
   "metadata": {},
   "source": [
    "In this section, we import the required Python, UDA and CPF packages."
   ]
  },
  {
   "cell_type": "code",
   "execution_count": 5,
   "id": "c83d3fb8",
   "metadata": {},
   "outputs": [],
   "source": [
    "import pyuda\n",
    "from mast.mast_client import ListType\n",
    "from pycpf import pycpf"
   ]
  },
  {
   "cell_type": "markdown",
   "id": "2aee7813",
   "metadata": {},
   "source": [
    "Import other relavant Python packages used in this document."
   ]
  },
  {
   "cell_type": "code",
   "execution_count": 6,
   "id": "a554274e",
   "metadata": {},
   "outputs": [],
   "source": [
    "import matplotlib.pyplot as plt\n",
    "import pandas as pd\n",
    "from rich import inspect, print"
   ]
  },
  {
   "cell_type": "markdown",
   "id": "857fde37",
   "metadata": {},
   "source": [
    "Create the `pyuda` client for fetching the data. Please see the UDA document for more details."
   ]
  },
  {
   "cell_type": "code",
   "execution_count": 7,
   "id": "656b22c3",
   "metadata": {},
   "outputs": [],
   "source": [
    "client = pyuda.Client()\n",
    "client.set_property(\"get_meta\", True)"
   ]
  },
  {
   "cell_type": "markdown",
   "id": "b27c1bfe",
   "metadata": {},
   "source": [
    "# **Shot**"
   ]
  },
  {
   "cell_type": "markdown",
   "id": "0e5b2755",
   "metadata": {},
   "source": [
    "\n",
    "As mentioned earlier, `SHOT` is a single experiment from the MAST dataset. Each shot is assigned a unique number. The numbers are assigned chronologically as the experiments are performed. \n",
    "\n"
   ]
  },
  {
   "cell_type": "markdown",
   "id": "e7c488f5",
   "metadata": {},
   "source": [
    "<div class=\"alert alert-block alert-info\">\n",
    "<b>Note:</b> Although there are officially more than 30000 shots, there is no information about the shots with a value <11700, which is accessible on the MAST website. Currently, no data from shots <8000 is accessible through UDA API\n",
    "</div>"
   ]
  },
  {
   "cell_type": "markdown",
   "id": "72f7a7f5-a039-411e-b54b-d7923d74bbe0",
   "metadata": {},
   "source": [
    "To access a shot and its data, the shot number is required. For example,"
   ]
  },
  {
   "cell_type": "code",
   "execution_count": 11,
   "id": "26f38ec9",
   "metadata": {},
   "outputs": [],
   "source": [
    "shot_1 = 27933"
   ]
  },
  {
   "cell_type": "markdown",
   "id": "20267059",
   "metadata": {},
   "source": [
    "The `ListType` defines two enumerator values `SOURCES` and `SIGNALS`. The UDA client takes an enumerator as an argument to fetch the relavant data."
   ]
  },
  {
   "cell_type": "code",
   "execution_count": 12,
   "id": "4b312efb",
   "metadata": {},
   "outputs": [
    {
     "data": {
      "text/html": [
       "<pre style=\"white-space:pre;overflow-x:auto;line-height:normal;font-family:Menlo,'DejaVu Sans Mono',consolas,'Courier New',monospace\"><span style=\"color: #000080; text-decoration-color: #000080\">╭────────────────────────────────── </span><span style=\"color: #000080; text-decoration-color: #000080; font-weight: bold\">&lt;</span><span style=\"color: #ff00ff; text-decoration-color: #ff00ff; font-weight: bold\">enum</span><span style=\"color: #000000; text-decoration-color: #000000\"> </span><span style=\"color: #008000; text-decoration-color: #008000\">'ListType'</span><span style=\"color: #000080; text-decoration-color: #000080; font-weight: bold\">&gt;</span><span style=\"color: #000080; text-decoration-color: #000080\"> ──────────────────────────────────╮</span>\n",
       "<span style=\"color: #000080; text-decoration-color: #000080\">│</span> <span style=\"color: #00ffff; text-decoration-color: #00ffff; font-style: italic\">class </span><span style=\"color: #800000; text-decoration-color: #800000; font-weight: bold\">ListType</span><span style=\"font-weight: bold\">(</span>value, <span style=\"color: #808000; text-decoration-color: #808000\">names</span>=<span style=\"color: #800080; text-decoration-color: #800080; font-style: italic\">None</span>, *, <span style=\"color: #808000; text-decoration-color: #808000\">module</span>=<span style=\"color: #800080; text-decoration-color: #800080; font-style: italic\">None</span>, <span style=\"color: #808000; text-decoration-color: #808000\">qualname</span>=<span style=\"color: #800080; text-decoration-color: #800080; font-style: italic\">None</span>, <span style=\"color: #808000; text-decoration-color: #808000\">type</span>=<span style=\"color: #800080; text-decoration-color: #800080; font-style: italic\">None</span>, <span style=\"color: #808000; text-decoration-color: #808000\">start</span>=<span style=\"color: #008080; text-decoration-color: #008080; font-weight: bold\">1</span><span style=\"font-weight: bold\">)</span>: <span style=\"color: #000080; text-decoration-color: #000080\">│</span>\n",
       "<span style=\"color: #000080; text-decoration-color: #000080\">│</span>                                                                                       <span style=\"color: #000080; text-decoration-color: #000080\">│</span>\n",
       "<span style=\"color: #000080; text-decoration-color: #000080\">│</span>   <span style=\"color: #808000; text-decoration-color: #808000; font-style: italic\">SHOTS</span> = <span style=\"font-weight: bold\">&lt;</span><span style=\"color: #ff00ff; text-decoration-color: #ff00ff; font-weight: bold\">ListType.SHOTS:</span><span style=\"color: #000000; text-decoration-color: #000000\"> </span><span style=\"color: #008080; text-decoration-color: #008080; font-weight: bold\">3</span><span style=\"font-weight: bold\">&gt;</span>                                                         <span style=\"color: #000080; text-decoration-color: #000080\">│</span>\n",
       "<span style=\"color: #000080; text-decoration-color: #000080\">│</span> <span style=\"color: #808000; text-decoration-color: #808000; font-style: italic\">SIGNALS</span> = <span style=\"font-weight: bold\">&lt;</span><span style=\"color: #ff00ff; text-decoration-color: #ff00ff; font-weight: bold\">ListType.SIGNALS:</span><span style=\"color: #000000; text-decoration-color: #000000\"> </span><span style=\"color: #008080; text-decoration-color: #008080; font-weight: bold\">1</span><span style=\"font-weight: bold\">&gt;</span>                                                       <span style=\"color: #000080; text-decoration-color: #000080\">│</span>\n",
       "<span style=\"color: #000080; text-decoration-color: #000080\">│</span> <span style=\"color: #808000; text-decoration-color: #808000; font-style: italic\">SOURCES</span> = <span style=\"font-weight: bold\">&lt;</span><span style=\"color: #ff00ff; text-decoration-color: #ff00ff; font-weight: bold\">ListType.SOURCES:</span><span style=\"color: #000000; text-decoration-color: #000000\"> </span><span style=\"color: #008080; text-decoration-color: #008080; font-weight: bold\">2</span><span style=\"font-weight: bold\">&gt;</span>                                                       <span style=\"color: #000080; text-decoration-color: #000080\">│</span>\n",
       "<span style=\"color: #000080; text-decoration-color: #000080\">╰───────────────────────────────────────────────────────────────────────────────────────╯</span>\n",
       "</pre>\n"
      ],
      "text/plain": [
       "\u001b[34m╭─\u001b[0m\u001b[34m───────────────────────────────── \u001b[0m\u001b[1;34m<\u001b[0m\u001b[1;95menum\u001b[0m\u001b[39m \u001b[0m\u001b[32m'ListType'\u001b[0m\u001b[1;34m>\u001b[0m\u001b[34m ─────────────────────────────────\u001b[0m\u001b[34m─╮\u001b[0m\n",
       "\u001b[34m│\u001b[0m \u001b[3;96mclass \u001b[0m\u001b[1;31mListType\u001b[0m\u001b[1m(\u001b[0mvalue, \u001b[33mnames\u001b[0m=\u001b[3;35mNone\u001b[0m, *, \u001b[33mmodule\u001b[0m=\u001b[3;35mNone\u001b[0m, \u001b[33mqualname\u001b[0m=\u001b[3;35mNone\u001b[0m, \u001b[33mtype\u001b[0m=\u001b[3;35mNone\u001b[0m, \u001b[33mstart\u001b[0m=\u001b[1;36m1\u001b[0m\u001b[1m)\u001b[0m: \u001b[34m│\u001b[0m\n",
       "\u001b[34m│\u001b[0m                                                                                       \u001b[34m│\u001b[0m\n",
       "\u001b[34m│\u001b[0m   \u001b[3;33mSHOTS\u001b[0m = \u001b[1m<\u001b[0m\u001b[1;95mListType.SHOTS:\u001b[0m\u001b[39m \u001b[0m\u001b[1;36m3\u001b[0m\u001b[1m>\u001b[0m                                                         \u001b[34m│\u001b[0m\n",
       "\u001b[34m│\u001b[0m \u001b[3;33mSIGNALS\u001b[0m = \u001b[1m<\u001b[0m\u001b[1;95mListType.SIGNALS:\u001b[0m\u001b[39m \u001b[0m\u001b[1;36m1\u001b[0m\u001b[1m>\u001b[0m                                                       \u001b[34m│\u001b[0m\n",
       "\u001b[34m│\u001b[0m \u001b[3;33mSOURCES\u001b[0m = \u001b[1m<\u001b[0m\u001b[1;95mListType.SOURCES:\u001b[0m\u001b[39m \u001b[0m\u001b[1;36m2\u001b[0m\u001b[1m>\u001b[0m                                                       \u001b[34m│\u001b[0m\n",
       "\u001b[34m╰───────────────────────────────────────────────────────────────────────────────────────╯\u001b[0m\n"
      ]
     },
     "metadata": {},
     "output_type": "display_data"
    }
   ],
   "source": [
    "inspect(ListType, docs=False)"
   ]
  },
  {
   "cell_type": "markdown",
   "id": "e36c5e16",
   "metadata": {},
   "source": [
    "<div class=\"alert alert-block alert-info\">\n",
    "<b>Note:</b> SHOT is shown as a ListType but it might be an incorrect representation.\n",
    "</div>"
   ]
  },
  {
   "cell_type": "markdown",
   "id": "92d48ac7",
   "metadata": {},
   "source": [
    "## Retrieve `SOURCES` of a Shot"
   ]
  },
  {
   "cell_type": "markdown",
   "id": "72074f89",
   "metadata": {},
   "source": [
    "A shot contains a list of sources (`SOURCES`) as a list or array of `ListData`. For example fetch the list of sources of a shot:"
   ]
  },
  {
   "cell_type": "code",
   "execution_count": 39,
   "id": "d934bc39",
   "metadata": {
    "tags": []
   },
   "outputs": [],
   "source": [
    "sources_1 = client.list(ListType.SOURCES, shot_1)"
   ]
  },
  {
   "cell_type": "code",
   "execution_count": 40,
   "id": "b828d7f3-b6fb-4800-a811-cbcfcf64e30a",
   "metadata": {
    "tags": []
   },
   "outputs": [
    {
     "data": {
      "text/html": [
       "<pre style=\"white-space:pre;overflow-x:auto;line-height:normal;font-family:Menlo,'DejaVu Sans Mono',consolas,'Courier New',monospace\">Number of sources in shot <span style=\"color: #008080; text-decoration-color: #008080; font-weight: bold\">27933</span> = <span style=\"color: #008080; text-decoration-color: #008080; font-weight: bold\">81</span>\n",
       "</pre>\n"
      ],
      "text/plain": [
       "Number of sources in shot \u001b[1;36m27933\u001b[0m = \u001b[1;36m81\u001b[0m\n"
      ]
     },
     "metadata": {},
     "output_type": "display_data"
    }
   ],
   "source": [
    "print(f\"Number of sources in shot {shot_1} = {len(sources_1)}\")"
   ]
  },
  {
   "cell_type": "code",
   "execution_count": 41,
   "id": "eab46f29",
   "metadata": {},
   "outputs": [
    {
     "data": {
      "text/html": [
       "<pre style=\"white-space:pre;overflow-x:auto;line-height:normal;font-family:Menlo,'DejaVu Sans Mono',consolas,'Courier New',monospace\"><span style=\"color: #000080; text-decoration-color: #000080\">╭───── </span><span style=\"color: #000080; text-decoration-color: #000080; font-weight: bold\">&lt;</span><span style=\"color: #ff00ff; text-decoration-color: #ff00ff; font-weight: bold\">class</span><span style=\"color: #000000; text-decoration-color: #000000\"> </span><span style=\"color: #008000; text-decoration-color: #008000\">'mast.mast_client.ListData'</span><span style=\"color: #000080; text-decoration-color: #000080; font-weight: bold\">&gt;</span><span style=\"color: #000080; text-decoration-color: #000080\"> ─────╮</span>\n",
       "<span style=\"color: #000080; text-decoration-color: #000080\">│</span> <span style=\"color: #008000; text-decoration-color: #008000\">╭───────────────────────────────────────────╮</span> <span style=\"color: #000080; text-decoration-color: #000080\">│</span>\n",
       "<span style=\"color: #000080; text-decoration-color: #000080\">│</span> <span style=\"color: #008000; text-decoration-color: #008000\">│</span> <span style=\"color: #800080; text-decoration-color: #800080; font-weight: bold\">ListData</span><span style=\"font-weight: bold\">(</span>                                 <span style=\"color: #008000; text-decoration-color: #008000\">│</span> <span style=\"color: #000080; text-decoration-color: #000080\">│</span>\n",
       "<span style=\"color: #000080; text-decoration-color: #000080\">│</span> <span style=\"color: #008000; text-decoration-color: #008000\">│</span> <span style=\"color: #7fbf7f; text-decoration-color: #7fbf7f\">│   </span><span style=\"color: #808000; text-decoration-color: #808000\">shot</span>=<span style=\"color: #008080; text-decoration-color: #008080; font-weight: bold\">27933</span>,                           <span style=\"color: #008000; text-decoration-color: #008000\">│</span> <span style=\"color: #000080; text-decoration-color: #000080\">│</span>\n",
       "<span style=\"color: #000080; text-decoration-color: #000080\">│</span> <span style=\"color: #008000; text-decoration-color: #008000\">│</span> <span style=\"color: #7fbf7f; text-decoration-color: #7fbf7f\">│   </span><span style=\"color: #808000; text-decoration-color: #808000\">pass_</span>=<span style=\"color: #008080; text-decoration-color: #008080; font-weight: bold\">0</span>,                              <span style=\"color: #008000; text-decoration-color: #008000\">│</span> <span style=\"color: #000080; text-decoration-color: #000080\">│</span>\n",
       "<span style=\"color: #000080; text-decoration-color: #000080\">│</span> <span style=\"color: #008000; text-decoration-color: #008000\">│</span> <span style=\"color: #7fbf7f; text-decoration-color: #7fbf7f\">│   </span><span style=\"color: #808000; text-decoration-color: #808000\">status</span>=<span style=\"color: #008080; text-decoration-color: #008080; font-weight: bold\">1</span>,                             <span style=\"color: #008000; text-decoration-color: #008000\">│</span> <span style=\"color: #000080; text-decoration-color: #000080\">│</span>\n",
       "<span style=\"color: #000080; text-decoration-color: #000080\">│</span> <span style=\"color: #008000; text-decoration-color: #008000\">│</span> <span style=\"color: #7fbf7f; text-decoration-color: #7fbf7f\">│   </span><span style=\"color: #808000; text-decoration-color: #808000\">source_alias</span>=<span style=\"color: #008000; text-decoration-color: #008000\">'abm'</span>,                   <span style=\"color: #008000; text-decoration-color: #008000\">│</span> <span style=\"color: #000080; text-decoration-color: #000080\">│</span>\n",
       "<span style=\"color: #000080; text-decoration-color: #000080\">│</span> <span style=\"color: #008000; text-decoration-color: #008000\">│</span> <span style=\"color: #7fbf7f; text-decoration-color: #7fbf7f\">│   </span><span style=\"color: #808000; text-decoration-color: #808000\">format</span>=<span style=\"color: #008000; text-decoration-color: #008000\">'IDA3'</span>,                        <span style=\"color: #008000; text-decoration-color: #008000\">│</span> <span style=\"color: #000080; text-decoration-color: #000080\">│</span>\n",
       "<span style=\"color: #000080; text-decoration-color: #000080\">│</span> <span style=\"color: #008000; text-decoration-color: #008000\">│</span> <span style=\"color: #7fbf7f; text-decoration-color: #7fbf7f\">│   </span><span style=\"color: #808000; text-decoration-color: #808000\">filename</span>=<span style=\"color: #008000; text-decoration-color: #008000\">'abm0279.33'</span>,                <span style=\"color: #008000; text-decoration-color: #008000\">│</span> <span style=\"color: #000080; text-decoration-color: #000080\">│</span>\n",
       "<span style=\"color: #000080; text-decoration-color: #000080\">│</span> <span style=\"color: #008000; text-decoration-color: #008000\">│</span> <span style=\"color: #7fbf7f; text-decoration-color: #7fbf7f\">│   </span><span style=\"color: #808000; text-decoration-color: #808000\">type</span>=<span style=\"color: #008000; text-decoration-color: #008000\">'Analysed'</span>,                      <span style=\"color: #008000; text-decoration-color: #008000\">│</span> <span style=\"color: #000080; text-decoration-color: #000080\">│</span>\n",
       "<span style=\"color: #000080; text-decoration-color: #000080\">│</span> <span style=\"color: #008000; text-decoration-color: #008000\">│</span> <span style=\"color: #7fbf7f; text-decoration-color: #7fbf7f\">│   </span><span style=\"color: #808000; text-decoration-color: #808000\">description</span>=<span style=\"color: #008000; text-decoration-color: #008000\">'multi-chord bolometers'</span>, <span style=\"color: #008000; text-decoration-color: #008000\">│</span> <span style=\"color: #000080; text-decoration-color: #000080\">│</span>\n",
       "<span style=\"color: #000080; text-decoration-color: #000080\">│</span> <span style=\"color: #008000; text-decoration-color: #008000\">│</span> <span style=\"color: #7fbf7f; text-decoration-color: #7fbf7f\">│   </span><span style=\"color: #808000; text-decoration-color: #808000\">run_id</span>=<span style=\"color: #008080; text-decoration-color: #008080; font-weight: bold\">-1</span>                             <span style=\"color: #008000; text-decoration-color: #008000\">│</span> <span style=\"color: #000080; text-decoration-color: #000080\">│</span>\n",
       "<span style=\"color: #000080; text-decoration-color: #000080\">│</span> <span style=\"color: #008000; text-decoration-color: #008000\">│</span> <span style=\"font-weight: bold\">)</span>                                         <span style=\"color: #008000; text-decoration-color: #008000\">│</span> <span style=\"color: #000080; text-decoration-color: #000080\">│</span>\n",
       "<span style=\"color: #000080; text-decoration-color: #000080\">│</span> <span style=\"color: #008000; text-decoration-color: #008000\">╰───────────────────────────────────────────╯</span> <span style=\"color: #000080; text-decoration-color: #000080\">│</span>\n",
       "<span style=\"color: #000080; text-decoration-color: #000080\">│</span>                                               <span style=\"color: #000080; text-decoration-color: #000080\">│</span>\n",
       "<span style=\"color: #000080; text-decoration-color: #000080\">│</span>  <span style=\"color: #808000; text-decoration-color: #808000; font-style: italic\">description</span> = <span style=\"color: #008000; text-decoration-color: #008000\">'multi-chord bolometers'</span>       <span style=\"color: #000080; text-decoration-color: #000080\">│</span>\n",
       "<span style=\"color: #000080; text-decoration-color: #000080\">│</span>     <span style=\"color: #808000; text-decoration-color: #808000; font-style: italic\">filename</span> = <span style=\"color: #008000; text-decoration-color: #008000\">'abm0279.33'</span>                   <span style=\"color: #000080; text-decoration-color: #000080\">│</span>\n",
       "<span style=\"color: #000080; text-decoration-color: #000080\">│</span>       <span style=\"color: #808000; text-decoration-color: #808000; font-style: italic\">format</span> = <span style=\"color: #008000; text-decoration-color: #008000\">'IDA3'</span>                         <span style=\"color: #000080; text-decoration-color: #000080\">│</span>\n",
       "<span style=\"color: #000080; text-decoration-color: #000080\">│</span>        <span style=\"color: #808000; text-decoration-color: #808000; font-style: italic\">pass_</span> = <span style=\"color: #008080; text-decoration-color: #008080; font-weight: bold\">0</span>                              <span style=\"color: #000080; text-decoration-color: #000080\">│</span>\n",
       "<span style=\"color: #000080; text-decoration-color: #000080\">│</span>       <span style=\"color: #808000; text-decoration-color: #808000; font-style: italic\">run_id</span> = <span style=\"color: #008080; text-decoration-color: #008080; font-weight: bold\">-1</span>                             <span style=\"color: #000080; text-decoration-color: #000080\">│</span>\n",
       "<span style=\"color: #000080; text-decoration-color: #000080\">│</span>         <span style=\"color: #808000; text-decoration-color: #808000; font-style: italic\">shot</span> = <span style=\"color: #008080; text-decoration-color: #008080; font-weight: bold\">27933</span>                          <span style=\"color: #000080; text-decoration-color: #000080\">│</span>\n",
       "<span style=\"color: #000080; text-decoration-color: #000080\">│</span> <span style=\"color: #808000; text-decoration-color: #808000; font-style: italic\">source_alias</span> = <span style=\"color: #008000; text-decoration-color: #008000\">'abm'</span>                          <span style=\"color: #000080; text-decoration-color: #000080\">│</span>\n",
       "<span style=\"color: #000080; text-decoration-color: #000080\">│</span>       <span style=\"color: #808000; text-decoration-color: #808000; font-style: italic\">status</span> = <span style=\"color: #008080; text-decoration-color: #008080; font-weight: bold\">1</span>                              <span style=\"color: #000080; text-decoration-color: #000080\">│</span>\n",
       "<span style=\"color: #000080; text-decoration-color: #000080\">│</span>         <span style=\"color: #808000; text-decoration-color: #808000; font-style: italic\">type</span> = <span style=\"color: #008000; text-decoration-color: #008000\">'Analysed'</span>                     <span style=\"color: #000080; text-decoration-color: #000080\">│</span>\n",
       "<span style=\"color: #000080; text-decoration-color: #000080\">╰───────────────────────────────────────────────╯</span>\n",
       "</pre>\n"
      ],
      "text/plain": [
       "\u001b[34m╭─\u001b[0m\u001b[34m──── \u001b[0m\u001b[1;34m<\u001b[0m\u001b[1;95mclass\u001b[0m\u001b[39m \u001b[0m\u001b[32m'mast.mast_client.ListData'\u001b[0m\u001b[1;34m>\u001b[0m\u001b[34m ────\u001b[0m\u001b[34m─╮\u001b[0m\n",
       "\u001b[34m│\u001b[0m \u001b[32m╭───────────────────────────────────────────╮\u001b[0m \u001b[34m│\u001b[0m\n",
       "\u001b[34m│\u001b[0m \u001b[32m│\u001b[0m \u001b[1;35mListData\u001b[0m\u001b[1m(\u001b[0m                                 \u001b[32m│\u001b[0m \u001b[34m│\u001b[0m\n",
       "\u001b[34m│\u001b[0m \u001b[32m│\u001b[0m \u001b[2;32m│   \u001b[0m\u001b[33mshot\u001b[0m=\u001b[1;36m27933\u001b[0m,                           \u001b[32m│\u001b[0m \u001b[34m│\u001b[0m\n",
       "\u001b[34m│\u001b[0m \u001b[32m│\u001b[0m \u001b[2;32m│   \u001b[0m\u001b[33mpass_\u001b[0m=\u001b[1;36m0\u001b[0m,                              \u001b[32m│\u001b[0m \u001b[34m│\u001b[0m\n",
       "\u001b[34m│\u001b[0m \u001b[32m│\u001b[0m \u001b[2;32m│   \u001b[0m\u001b[33mstatus\u001b[0m=\u001b[1;36m1\u001b[0m,                             \u001b[32m│\u001b[0m \u001b[34m│\u001b[0m\n",
       "\u001b[34m│\u001b[0m \u001b[32m│\u001b[0m \u001b[2;32m│   \u001b[0m\u001b[33msource_alias\u001b[0m=\u001b[32m'abm'\u001b[0m,                   \u001b[32m│\u001b[0m \u001b[34m│\u001b[0m\n",
       "\u001b[34m│\u001b[0m \u001b[32m│\u001b[0m \u001b[2;32m│   \u001b[0m\u001b[33mformat\u001b[0m=\u001b[32m'IDA3'\u001b[0m,                        \u001b[32m│\u001b[0m \u001b[34m│\u001b[0m\n",
       "\u001b[34m│\u001b[0m \u001b[32m│\u001b[0m \u001b[2;32m│   \u001b[0m\u001b[33mfilename\u001b[0m=\u001b[32m'abm0279.33'\u001b[0m,                \u001b[32m│\u001b[0m \u001b[34m│\u001b[0m\n",
       "\u001b[34m│\u001b[0m \u001b[32m│\u001b[0m \u001b[2;32m│   \u001b[0m\u001b[33mtype\u001b[0m=\u001b[32m'Analysed'\u001b[0m,                      \u001b[32m│\u001b[0m \u001b[34m│\u001b[0m\n",
       "\u001b[34m│\u001b[0m \u001b[32m│\u001b[0m \u001b[2;32m│   \u001b[0m\u001b[33mdescription\u001b[0m=\u001b[32m'multi-chord bolometers'\u001b[0m, \u001b[32m│\u001b[0m \u001b[34m│\u001b[0m\n",
       "\u001b[34m│\u001b[0m \u001b[32m│\u001b[0m \u001b[2;32m│   \u001b[0m\u001b[33mrun_id\u001b[0m=\u001b[1;36m-1\u001b[0m                             \u001b[32m│\u001b[0m \u001b[34m│\u001b[0m\n",
       "\u001b[34m│\u001b[0m \u001b[32m│\u001b[0m \u001b[1m)\u001b[0m                                         \u001b[32m│\u001b[0m \u001b[34m│\u001b[0m\n",
       "\u001b[34m│\u001b[0m \u001b[32m╰───────────────────────────────────────────╯\u001b[0m \u001b[34m│\u001b[0m\n",
       "\u001b[34m│\u001b[0m                                               \u001b[34m│\u001b[0m\n",
       "\u001b[34m│\u001b[0m  \u001b[3;33mdescription\u001b[0m = \u001b[32m'multi-chord bolometers'\u001b[0m       \u001b[34m│\u001b[0m\n",
       "\u001b[34m│\u001b[0m     \u001b[3;33mfilename\u001b[0m = \u001b[32m'abm0279.33'\u001b[0m                   \u001b[34m│\u001b[0m\n",
       "\u001b[34m│\u001b[0m       \u001b[3;33mformat\u001b[0m = \u001b[32m'IDA3'\u001b[0m                         \u001b[34m│\u001b[0m\n",
       "\u001b[34m│\u001b[0m        \u001b[3;33mpass_\u001b[0m = \u001b[1;36m0\u001b[0m                              \u001b[34m│\u001b[0m\n",
       "\u001b[34m│\u001b[0m       \u001b[3;33mrun_id\u001b[0m = \u001b[1;36m-1\u001b[0m                             \u001b[34m│\u001b[0m\n",
       "\u001b[34m│\u001b[0m         \u001b[3;33mshot\u001b[0m = \u001b[1;36m27933\u001b[0m                          \u001b[34m│\u001b[0m\n",
       "\u001b[34m│\u001b[0m \u001b[3;33msource_alias\u001b[0m = \u001b[32m'abm'\u001b[0m                          \u001b[34m│\u001b[0m\n",
       "\u001b[34m│\u001b[0m       \u001b[3;33mstatus\u001b[0m = \u001b[1;36m1\u001b[0m                              \u001b[34m│\u001b[0m\n",
       "\u001b[34m│\u001b[0m         \u001b[3;33mtype\u001b[0m = \u001b[32m'Analysed'\u001b[0m                     \u001b[34m│\u001b[0m\n",
       "\u001b[34m╰───────────────────────────────────────────────╯\u001b[0m\n"
      ]
     },
     "metadata": {},
     "output_type": "display_data"
    }
   ],
   "source": [
    "# inspect the first source data\n",
    "inspect(sources_1[0], docs=False)\n",
    "\n",
    "# inspect all the sources\n",
    "# this will print a long list of ListData objects, uncomment the line below and run to check\n",
    "# inspect(sources)"
   ]
  },
  {
   "cell_type": "markdown",
   "id": "4108b5f1",
   "metadata": {
    "tags": []
   },
   "source": [
    "A tabular view of the list of `SOURCES`."
   ]
  },
  {
   "cell_type": "code",
   "execution_count": 42,
   "id": "b01e5c86-50ec-47c6-ac8d-fb9cdf03f50b",
   "metadata": {
    "tags": []
   },
   "outputs": [
    {
     "data": {
      "text/html": [
       "<div>\n",
       "<style scoped>\n",
       "    .dataframe tbody tr th:only-of-type {\n",
       "        vertical-align: middle;\n",
       "    }\n",
       "\n",
       "    .dataframe tbody tr th {\n",
       "        vertical-align: top;\n",
       "    }\n",
       "\n",
       "    .dataframe thead th {\n",
       "        text-align: right;\n",
       "    }\n",
       "</style>\n",
       "<table border=\"1\" class=\"dataframe\">\n",
       "  <thead>\n",
       "    <tr style=\"text-align: right;\">\n",
       "      <th></th>\n",
       "      <th>shot</th>\n",
       "      <th>pass_</th>\n",
       "      <th>status</th>\n",
       "      <th>source_alias</th>\n",
       "      <th>format</th>\n",
       "      <th>filename</th>\n",
       "      <th>type</th>\n",
       "      <th>description</th>\n",
       "      <th>run_id</th>\n",
       "    </tr>\n",
       "  </thead>\n",
       "  <tbody>\n",
       "    <tr>\n",
       "      <th>0</th>\n",
       "      <td>27933</td>\n",
       "      <td>0</td>\n",
       "      <td>1</td>\n",
       "      <td>abm</td>\n",
       "      <td>IDA3</td>\n",
       "      <td>abm0279.33</td>\n",
       "      <td>Analysed</td>\n",
       "      <td>multi-chord bolometers</td>\n",
       "      <td>-1</td>\n",
       "    </tr>\n",
       "    <tr>\n",
       "      <th>1</th>\n",
       "      <td>27933</td>\n",
       "      <td>0</td>\n",
       "      <td>1</td>\n",
       "      <td>ada</td>\n",
       "      <td>IDA3</td>\n",
       "      <td>ada0279.33</td>\n",
       "      <td>Analysed</td>\n",
       "      <td>Linear D-Alpha Camera</td>\n",
       "      <td>-1</td>\n",
       "    </tr>\n",
       "    <tr>\n",
       "      <th>2</th>\n",
       "      <td>27933</td>\n",
       "      <td>0</td>\n",
       "      <td>1</td>\n",
       "      <td>adg</td>\n",
       "      <td>IDA3</td>\n",
       "      <td>adg0279.33</td>\n",
       "      <td>Analysed</td>\n",
       "      <td>Plasma Edge Density gradient from the linear D...</td>\n",
       "      <td>-1</td>\n",
       "    </tr>\n",
       "    <tr>\n",
       "      <th>3</th>\n",
       "      <td>27933</td>\n",
       "      <td>1</td>\n",
       "      <td>1</td>\n",
       "      <td>aga</td>\n",
       "      <td>IDA3</td>\n",
       "      <td>aga0279.33</td>\n",
       "      <td>Analysed</td>\n",
       "      <td>molecular deuterium pressure, neutral gas pres...</td>\n",
       "      <td>-1</td>\n",
       "    </tr>\n",
       "    <tr>\n",
       "      <th>4</th>\n",
       "      <td>27933</td>\n",
       "      <td>0</td>\n",
       "      <td>1</td>\n",
       "      <td>aga</td>\n",
       "      <td>IDA3</td>\n",
       "      <td>aga0279.33</td>\n",
       "      <td>Analysed</td>\n",
       "      <td>molecular deuterium pressure, neutral gas pres...</td>\n",
       "      <td>-1</td>\n",
       "    </tr>\n",
       "    <tr>\n",
       "      <th>...</th>\n",
       "      <td>...</td>\n",
       "      <td>...</td>\n",
       "      <td>...</td>\n",
       "      <td>...</td>\n",
       "      <td>...</td>\n",
       "      <td>...</td>\n",
       "      <td>...</td>\n",
       "      <td>...</td>\n",
       "      <td>...</td>\n",
       "    </tr>\n",
       "    <tr>\n",
       "      <th>76</th>\n",
       "      <td>27933</td>\n",
       "      <td>-1</td>\n",
       "      <td>1</td>\n",
       "      <td>xtb</td>\n",
       "      <td>IDA3</td>\n",
       "      <td>xtb0279.33</td>\n",
       "      <td>Raw</td>\n",
       "      <td>Thomson scattering background data</td>\n",
       "      <td>-1</td>\n",
       "    </tr>\n",
       "    <tr>\n",
       "      <th>77</th>\n",
       "      <td>27933</td>\n",
       "      <td>-1</td>\n",
       "      <td>1</td>\n",
       "      <td>xtm</td>\n",
       "      <td>IDA3</td>\n",
       "      <td>xtm0279.33</td>\n",
       "      <td>Raw</td>\n",
       "      <td>Edge Thomson scattering data</td>\n",
       "      <td>-1</td>\n",
       "    </tr>\n",
       "    <tr>\n",
       "      <th>78</th>\n",
       "      <td>27933</td>\n",
       "      <td>-1</td>\n",
       "      <td>1</td>\n",
       "      <td>xtp</td>\n",
       "      <td>IDA3</td>\n",
       "      <td>xtp0279.33</td>\n",
       "      <td>Raw</td>\n",
       "      <td>Langmuir Probes - top</td>\n",
       "      <td>-1</td>\n",
       "    </tr>\n",
       "    <tr>\n",
       "      <th>79</th>\n",
       "      <td>27933</td>\n",
       "      <td>-1</td>\n",
       "      <td>1</td>\n",
       "      <td>xyc</td>\n",
       "      <td>CDF</td>\n",
       "      <td>xyc027933.nc</td>\n",
       "      <td>Raw</td>\n",
       "      <td>Core Thomson scattering data</td>\n",
       "      <td>-1</td>\n",
       "    </tr>\n",
       "    <tr>\n",
       "      <th>80</th>\n",
       "      <td>27933</td>\n",
       "      <td>-1</td>\n",
       "      <td>1</td>\n",
       "      <td>xyr</td>\n",
       "      <td>CDF</td>\n",
       "      <td>xyr027933.nc</td>\n",
       "      <td>Raw</td>\n",
       "      <td>Real time Thomson scattering data</td>\n",
       "      <td>-1</td>\n",
       "    </tr>\n",
       "  </tbody>\n",
       "</table>\n",
       "<p>81 rows × 9 columns</p>\n",
       "</div>"
      ],
      "text/plain": [
       "     shot  pass_  status source_alias format      filename      type  \\\n",
       "0   27933      0       1          abm   IDA3    abm0279.33  Analysed   \n",
       "1   27933      0       1          ada   IDA3    ada0279.33  Analysed   \n",
       "2   27933      0       1          adg   IDA3    adg0279.33  Analysed   \n",
       "3   27933      1       1          aga   IDA3    aga0279.33  Analysed   \n",
       "4   27933      0       1          aga   IDA3    aga0279.33  Analysed   \n",
       "..    ...    ...     ...          ...    ...           ...       ...   \n",
       "76  27933     -1       1          xtb   IDA3    xtb0279.33       Raw   \n",
       "77  27933     -1       1          xtm   IDA3    xtm0279.33       Raw   \n",
       "78  27933     -1       1          xtp   IDA3    xtp0279.33       Raw   \n",
       "79  27933     -1       1          xyc    CDF  xyc027933.nc       Raw   \n",
       "80  27933     -1       1          xyr    CDF  xyr027933.nc       Raw   \n",
       "\n",
       "                                          description  run_id  \n",
       "0                              multi-chord bolometers      -1  \n",
       "1                               Linear D-Alpha Camera      -1  \n",
       "2   Plasma Edge Density gradient from the linear D...      -1  \n",
       "3   molecular deuterium pressure, neutral gas pres...      -1  \n",
       "4   molecular deuterium pressure, neutral gas pres...      -1  \n",
       "..                                                ...     ...  \n",
       "76                 Thomson scattering background data      -1  \n",
       "77                       Edge Thomson scattering data      -1  \n",
       "78                              Langmuir Probes - top      -1  \n",
       "79                       Core Thomson scattering data      -1  \n",
       "80                  Real time Thomson scattering data      -1  \n",
       "\n",
       "[81 rows x 9 columns]"
      ]
     },
     "execution_count": 42,
     "metadata": {},
     "output_type": "execute_result"
    }
   ],
   "source": [
    "df_1 = pd.DataFrame(sources_1)\n",
    "df_1"
   ]
  },
  {
   "cell_type": "markdown",
   "id": "9670dc54",
   "metadata": {
    "tags": []
   },
   "source": [
    "A `SOURCE` attributes are:\n",
    "\n",
    "* `shot` - the unique number of a `SHOT`\n",
    "* `pass_` - for **_Analysed_** type it would mean how many processing iterations it went through, the first - number 0, for **_Raw_** we would see -1\n",
    "* `status` - internal data status set by responsible officer:\n",
    "    * -1 Poor Data: do not use\n",
    "    * 0 Something is wrong in the Data\n",
    "    * 1 either **_Raw_** data not checked or **_Analysed_** data quality is Unknown\n",
    "    * 2 Data has been checked - no known problems\n",
    "    * 3 Data was validated\n",
    "* `source_alias` - three letter alias name, which can be used for a separate source inspection\n",
    "* `format` - file format: *IDA3*, *CBF*, *JPG*, *TIF* etc. \n",
    "* `filename` - name in the internal data system we don't have access to\n",
    "* `type` - e.g., **_Analysed_**, **_Raw_** or **_Image_**\n",
    "* `description` - text description of the source\n",
    "* `run_id` - <span style=\"color:red\">[TODO: For Nathan]</span>\n"
   ]
  },
  {
   "cell_type": "markdown",
   "id": "c2c8eb71",
   "metadata": {},
   "source": [
    "### Source type, format, & alias\n",
    "<a id='source_type_format_and_alias'></a>\n"
   ]
  },
  {
   "cell_type": "markdown",
   "id": "936d25ed",
   "metadata": {},
   "source": [
    "There are three different types of source, e.g., **_Image_**, **_Raw_**, and **_Analysed_**. "
   ]
  },
  {
   "cell_type": "code",
   "execution_count": 43,
   "id": "95277df0",
   "metadata": {},
   "outputs": [
    {
     "data": {
      "text/html": [
       "<pre style=\"white-space:pre;overflow-x:auto;line-height:normal;font-family:Menlo,'DejaVu Sans Mono',consolas,'Courier New',monospace\">Source types are <span style=\"font-weight: bold\">{</span><span style=\"color: #008000; text-decoration-color: #008000\">'Raw'</span>, <span style=\"color: #008000; text-decoration-color: #008000\">'Analysed'</span>, <span style=\"color: #008000; text-decoration-color: #008000\">'Image'</span><span style=\"font-weight: bold\">}</span>\n",
       "</pre>\n"
      ],
      "text/plain": [
       "Source types are \u001b[1m{\u001b[0m\u001b[32m'Raw'\u001b[0m, \u001b[32m'Analysed'\u001b[0m, \u001b[32m'Image'\u001b[0m\u001b[1m}\u001b[0m\n"
      ]
     },
     "metadata": {},
     "output_type": "display_data"
    }
   ],
   "source": [
    "types = set([source.type for source in sources_1 if source.type is not None])\n",
    "print(f\"Source types are {types}\")"
   ]
  },
  {
   "cell_type": "markdown",
   "id": "888e2518",
   "metadata": {},
   "source": [
    "`SOURCES` are saved as numerous formats. For example, the sources of the `shot_1` use the following formats:"
   ]
  },
  {
   "cell_type": "code",
   "execution_count": 44,
   "id": "ee49e967",
   "metadata": {},
   "outputs": [
    {
     "data": {
      "text/html": [
       "<pre style=\"white-space:pre;overflow-x:auto;line-height:normal;font-family:Menlo,'DejaVu Sans Mono',consolas,'Courier New',monospace\">The formats of the sources of shot <span style=\"color: #008080; text-decoration-color: #008080; font-weight: bold\">27933</span> are <span style=\"font-weight: bold\">{</span><span style=\"color: #008000; text-decoration-color: #008000\">'CDF'</span>, <span style=\"color: #008000; text-decoration-color: #008000\">'IDA3'</span>, <span style=\"color: #008000; text-decoration-color: #008000\">'NIDA'</span>, <span style=\"color: #008000; text-decoration-color: #008000\">'ASCII'</span>, <span style=\"color: #008000; text-decoration-color: #008000\">'IPX'</span>, <span style=\"color: #008000; text-decoration-color: #008000\">'TIF'</span><span style=\"font-weight: bold\">}</span>\n",
       "</pre>\n"
      ],
      "text/plain": [
       "The formats of the sources of shot \u001b[1;36m27933\u001b[0m are \u001b[1m{\u001b[0m\u001b[32m'CDF'\u001b[0m, \u001b[32m'IDA3'\u001b[0m, \u001b[32m'NIDA'\u001b[0m, \u001b[32m'ASCII'\u001b[0m, \u001b[32m'IPX'\u001b[0m, \u001b[32m'TIF'\u001b[0m\u001b[1m}\u001b[0m\n"
      ]
     },
     "metadata": {},
     "output_type": "display_data"
    }
   ],
   "source": [
    "formats = set([source.format for source in sources_1 if source.format is not None])\n",
    "print(f\"The formats of the sources of shot {shot_1} are {formats}\")"
   ]
  },
  {
   "cell_type": "markdown",
   "id": "211ecc4d",
   "metadata": {},
   "source": [
    "There are other formats available in different shots. \n",
    "\n",
    "Some formats are more likely to be used in a certain source types. For example, *JPG*, *IPX* and *TIF* are more likely to be an **_Image_** type, while *IDA3* is **_Analysed_** type."
   ]
  },
  {
   "cell_type": "code",
   "execution_count": 45,
   "id": "b9a58656-6b59-40c7-82d0-74846db2fec5",
   "metadata": {},
   "outputs": [
    {
     "data": {
      "text/html": [
       "<div>\n",
       "<style scoped>\n",
       "    .dataframe tbody tr th:only-of-type {\n",
       "        vertical-align: middle;\n",
       "    }\n",
       "\n",
       "    .dataframe tbody tr th {\n",
       "        vertical-align: top;\n",
       "    }\n",
       "\n",
       "    .dataframe thead th {\n",
       "        text-align: right;\n",
       "    }\n",
       "</style>\n",
       "<table border=\"1\" class=\"dataframe\">\n",
       "  <thead>\n",
       "    <tr style=\"text-align: right;\">\n",
       "      <th></th>\n",
       "      <th>type</th>\n",
       "      <th>formats</th>\n",
       "    </tr>\n",
       "  </thead>\n",
       "  <tbody>\n",
       "    <tr>\n",
       "      <th>0</th>\n",
       "      <td>Analysed</td>\n",
       "      <td>{IDA3}</td>\n",
       "    </tr>\n",
       "    <tr>\n",
       "      <th>1</th>\n",
       "      <td>Image</td>\n",
       "      <td>{TIF, IPX}</td>\n",
       "    </tr>\n",
       "    <tr>\n",
       "      <th>2</th>\n",
       "      <td>Raw</td>\n",
       "      <td>{CDF, NIDA, ASCII, IDA3}</td>\n",
       "    </tr>\n",
       "  </tbody>\n",
       "</table>\n",
       "</div>"
      ],
      "text/plain": [
       "       type                   formats\n",
       "0  Analysed                    {IDA3}\n",
       "1     Image                {TIF, IPX}\n",
       "2       Raw  {CDF, NIDA, ASCII, IDA3}"
      ]
     },
     "execution_count": 45,
     "metadata": {},
     "output_type": "execute_result"
    }
   ],
   "source": [
    "df_1.groupby(\"type\", as_index=False).agg(formats=(\"format\", lambda x: set(x)))"
   ]
  },
  {
   "cell_type": "markdown",
   "id": "672771c6",
   "metadata": {},
   "source": [
    "Aliases use three letter names. Usually, the **_Raw_** types use aliases with first letter `x`, **_Analysed_** use `a`, and **_Image_** use `r`. However, it is not always true. There might be some exceptions, which will be discussed later."
   ]
  },
  {
   "cell_type": "code",
   "execution_count": 46,
   "id": "edacd996-4c7d-4ab2-812e-96b01d7c3a53",
   "metadata": {},
   "outputs": [
    {
     "data": {
      "text/html": [
       "<div>\n",
       "<style scoped>\n",
       "    .dataframe tbody tr th:only-of-type {\n",
       "        vertical-align: middle;\n",
       "    }\n",
       "\n",
       "    .dataframe tbody tr th {\n",
       "        vertical-align: top;\n",
       "    }\n",
       "\n",
       "    .dataframe thead th {\n",
       "        text-align: right;\n",
       "    }\n",
       "</style>\n",
       "<table border=\"1\" class=\"dataframe\">\n",
       "  <thead>\n",
       "    <tr style=\"text-align: right;\">\n",
       "      <th></th>\n",
       "      <th>type</th>\n",
       "      <th>aliases</th>\n",
       "    </tr>\n",
       "  </thead>\n",
       "  <tbody>\n",
       "    <tr>\n",
       "      <th>0</th>\n",
       "      <td>Analysed</td>\n",
       "      <td>{air, amc, amb, lim, asm, ait, ahx, anu, aga, ...</td>\n",
       "    </tr>\n",
       "    <tr>\n",
       "      <th>1</th>\n",
       "      <td>Image</td>\n",
       "      <td>{rda, rdb, rir, rit, rgb, rba, rbc, rzz, rbb, ...</td>\n",
       "    </tr>\n",
       "    <tr>\n",
       "      <th>2</th>\n",
       "      <td>Raw</td>\n",
       "      <td>{xmp, xim, xlp, xcm, xfi, xpc, xsx, pcs, xmw, ...</td>\n",
       "    </tr>\n",
       "  </tbody>\n",
       "</table>\n",
       "</div>"
      ],
      "text/plain": [
       "       type                                            aliases\n",
       "0  Analysed  {air, amc, amb, lim, asm, ait, ahx, anu, aga, ...\n",
       "1     Image  {rda, rdb, rir, rit, rgb, rba, rbc, rzz, rbb, ...\n",
       "2       Raw  {xmp, xim, xlp, xcm, xfi, xpc, xsx, pcs, xmw, ..."
      ]
     },
     "execution_count": 46,
     "metadata": {},
     "output_type": "execute_result"
    }
   ],
   "source": [
    "df_1.groupby(\"type\", as_index=False).agg(aliases=(\"source_alias\", lambda x: set(x)))"
   ]
  },
  {
   "cell_type": "markdown",
   "id": "f27ec8c0",
   "metadata": {},
   "source": [
    "Below we discuss **_Raw_** and **_Analysed_** sources together, while **_Image_** sources separately. This is due to the former sharing similarities in data access."
   ]
  },
  {
   "cell_type": "markdown",
   "id": "b0acec38",
   "metadata": {},
   "source": [
    "### **_Raw_** & **_Analysed_** types"
   ]
  },
  {
   "cell_type": "markdown",
   "id": "199e85cc",
   "metadata": {},
   "source": [
    "The **_Raw_** and **_Analysed_** types have `SOURCE` names and additionally they also have `SIGNAL` names. These are used to access the source `SIGNAL`. UDA uses a class named `Signal` for **_Raw_** and **_Analysed_** type data.\n",
    "\n",
    "The unanalysed or unprocessed data are categorised as **_Raw_** types. **_Raw_** type data are mostly saved in *CDF* or *IDA3* format. In some cases it is also saved in *NIDA* format (which is an image or video file) and *ASCII* format. These formats are commonly used throughout the whole dataset."
   ]
  },
  {
   "cell_type": "code",
   "execution_count": 47,
   "id": "c48f7e98-4478-46bc-bb18-2530c4b51a0a",
   "metadata": {},
   "outputs": [
    {
     "data": {
      "text/html": [
       "<div>\n",
       "<style scoped>\n",
       "    .dataframe tbody tr th:only-of-type {\n",
       "        vertical-align: middle;\n",
       "    }\n",
       "\n",
       "    .dataframe tbody tr th {\n",
       "        vertical-align: top;\n",
       "    }\n",
       "\n",
       "    .dataframe thead th {\n",
       "        text-align: right;\n",
       "    }\n",
       "</style>\n",
       "<table border=\"1\" class=\"dataframe\">\n",
       "  <thead>\n",
       "    <tr style=\"text-align: right;\">\n",
       "      <th></th>\n",
       "      <th>type</th>\n",
       "      <th>format</th>\n",
       "      <th>aliases</th>\n",
       "    </tr>\n",
       "  </thead>\n",
       "  <tbody>\n",
       "    <tr>\n",
       "      <th>0</th>\n",
       "      <td>Raw</td>\n",
       "      <td>ASCII</td>\n",
       "      <td>{msf}</td>\n",
       "    </tr>\n",
       "    <tr>\n",
       "      <th>1</th>\n",
       "      <td>Raw</td>\n",
       "      <td>CDF</td>\n",
       "      <td>{xmp, xfi, xsx, rcb, xsm, xyc, xmc, xyr, xms, ...</td>\n",
       "    </tr>\n",
       "    <tr>\n",
       "      <th>2</th>\n",
       "      <td>Raw</td>\n",
       "      <td>IDA3</td>\n",
       "      <td>{xim, xlp, xcm, xpc, pcs, xtm, xdc, xmd, xax, ...</td>\n",
       "    </tr>\n",
       "    <tr>\n",
       "      <th>3</th>\n",
       "      <td>Raw</td>\n",
       "      <td>NIDA</td>\n",
       "      <td>{xmw}</td>\n",
       "    </tr>\n",
       "  </tbody>\n",
       "</table>\n",
       "</div>"
      ],
      "text/plain": [
       "  type format                                            aliases\n",
       "0  Raw  ASCII                                              {msf}\n",
       "1  Raw    CDF  {xmp, xfi, xsx, rcb, xsm, xyc, xmc, xyr, xms, ...\n",
       "2  Raw   IDA3  {xim, xlp, xcm, xpc, pcs, xtm, xdc, xmd, xax, ...\n",
       "3  Raw   NIDA                                              {xmw}"
      ]
     },
     "execution_count": 47,
     "metadata": {},
     "output_type": "execute_result"
    }
   ],
   "source": [
    "df_1.loc[df_1[\"type\"] == \"Raw\"].groupby([\"type\", \"format\"], as_index=False).agg(\n",
    "    aliases=(\"source_alias\", lambda x: set(x))\n",
    ")"
   ]
  },
  {
   "cell_type": "markdown",
   "id": "078e5472",
   "metadata": {},
   "source": [
    "The processed or analysed data are categorised as **_Analysed_** types and they usually use *IDA3* format."
   ]
  },
  {
   "cell_type": "code",
   "execution_count": 48,
   "id": "b457b371-5520-4933-b88e-f718e7283ad6",
   "metadata": {},
   "outputs": [
    {
     "data": {
      "text/html": [
       "<div>\n",
       "<style scoped>\n",
       "    .dataframe tbody tr th:only-of-type {\n",
       "        vertical-align: middle;\n",
       "    }\n",
       "\n",
       "    .dataframe tbody tr th {\n",
       "        vertical-align: top;\n",
       "    }\n",
       "\n",
       "    .dataframe thead th {\n",
       "        text-align: right;\n",
       "    }\n",
       "</style>\n",
       "<table border=\"1\" class=\"dataframe\">\n",
       "  <thead>\n",
       "    <tr style=\"text-align: right;\">\n",
       "      <th></th>\n",
       "      <th>type</th>\n",
       "      <th>format</th>\n",
       "      <th>aliases</th>\n",
       "    </tr>\n",
       "  </thead>\n",
       "  <tbody>\n",
       "    <tr>\n",
       "      <th>0</th>\n",
       "      <td>Analysed</td>\n",
       "      <td>IDA3</td>\n",
       "      <td>{air, amc, amb, lim, asm, ait, ahx, anu, aga, ...</td>\n",
       "    </tr>\n",
       "  </tbody>\n",
       "</table>\n",
       "</div>"
      ],
      "text/plain": [
       "       type format                                            aliases\n",
       "0  Analysed   IDA3  {air, amc, amb, lim, asm, ait, ahx, anu, aga, ..."
      ]
     },
     "execution_count": 48,
     "metadata": {},
     "output_type": "execute_result"
    }
   ],
   "source": [
    "df_1.loc[df_1[\"type\"] == \"Analysed\"].groupby([\"type\", \"format\"], as_index=False).agg(\n",
    "    aliases=(\"source_alias\", lambda x: set(x))\n",
    ")"
   ]
  },
  {
   "cell_type": "markdown",
   "id": "0a7bdd62",
   "metadata": {},
   "source": [
    "We also noticed that some shots use *BINARY* format, as demonstrated below."
   ]
  },
  {
   "cell_type": "code",
   "execution_count": 49,
   "id": "d861c2a6",
   "metadata": {},
   "outputs": [],
   "source": [
    "shot_2 = 12000\n",
    "sources_2 = client.list(ListType.SOURCES, shot_2)\n",
    "df_2 = pd.DataFrame(sources_2)"
   ]
  },
  {
   "cell_type": "code",
   "execution_count": 50,
   "id": "e52e45c8-177b-4550-a1b9-966a4a2c1cbe",
   "metadata": {},
   "outputs": [
    {
     "data": {
      "text/html": [
       "<div>\n",
       "<style scoped>\n",
       "    .dataframe tbody tr th:only-of-type {\n",
       "        vertical-align: middle;\n",
       "    }\n",
       "\n",
       "    .dataframe tbody tr th {\n",
       "        vertical-align: top;\n",
       "    }\n",
       "\n",
       "    .dataframe thead th {\n",
       "        text-align: right;\n",
       "    }\n",
       "</style>\n",
       "<table border=\"1\" class=\"dataframe\">\n",
       "  <thead>\n",
       "    <tr style=\"text-align: right;\">\n",
       "      <th></th>\n",
       "      <th>type</th>\n",
       "      <th>format</th>\n",
       "      <th>aliases</th>\n",
       "    </tr>\n",
       "  </thead>\n",
       "  <tbody>\n",
       "    <tr>\n",
       "      <th>0</th>\n",
       "      <td>Raw</td>\n",
       "      <td>BINARY</td>\n",
       "      <td>{rcb, rts, rcc, rbm, pcs}</td>\n",
       "    </tr>\n",
       "    <tr>\n",
       "      <th>1</th>\n",
       "      <td>Raw</td>\n",
       "      <td>IDA3</td>\n",
       "      <td>{xim, xlp, xcm, xpc, xsx, xmw, xvs, xtm, xmc, ...</td>\n",
       "    </tr>\n",
       "    <tr>\n",
       "      <th>2</th>\n",
       "      <td>Raw</td>\n",
       "      <td>NIDA</td>\n",
       "      <td>{rir, xpx}</td>\n",
       "    </tr>\n",
       "  </tbody>\n",
       "</table>\n",
       "</div>"
      ],
      "text/plain": [
       "  type  format                                            aliases\n",
       "0  Raw  BINARY                          {rcb, rts, rcc, rbm, pcs}\n",
       "1  Raw    IDA3  {xim, xlp, xcm, xpc, xsx, xmw, xvs, xtm, xmc, ...\n",
       "2  Raw    NIDA                                         {rir, xpx}"
      ]
     },
     "execution_count": 50,
     "metadata": {},
     "output_type": "execute_result"
    }
   ],
   "source": [
    "df_2.loc[df_2[\"type\"] == \"Raw\"].groupby([\"type\", \"format\"], as_index=False).agg(\n",
    "    aliases=(\"source_alias\", lambda x: set(x))\n",
    ")"
   ]
  },
  {
   "cell_type": "markdown",
   "id": "19148948",
   "metadata": {},
   "source": [
    "Here we can see, there might be exceptions to more commonly used *IDA3*, like *ASCII*. "
   ]
  },
  {
   "cell_type": "code",
   "execution_count": 51,
   "id": "dc39d538-d89b-4743-ac8f-08089942798d",
   "metadata": {},
   "outputs": [
    {
     "data": {
      "text/html": [
       "<div>\n",
       "<style scoped>\n",
       "    .dataframe tbody tr th:only-of-type {\n",
       "        vertical-align: middle;\n",
       "    }\n",
       "\n",
       "    .dataframe tbody tr th {\n",
       "        vertical-align: top;\n",
       "    }\n",
       "\n",
       "    .dataframe thead th {\n",
       "        text-align: right;\n",
       "    }\n",
       "</style>\n",
       "<table border=\"1\" class=\"dataframe\">\n",
       "  <thead>\n",
       "    <tr style=\"text-align: right;\">\n",
       "      <th></th>\n",
       "      <th>type</th>\n",
       "      <th>format</th>\n",
       "      <th>aliases</th>\n",
       "    </tr>\n",
       "  </thead>\n",
       "  <tbody>\n",
       "    <tr>\n",
       "      <th>0</th>\n",
       "      <td>Analysed</td>\n",
       "      <td>ASCII</td>\n",
       "      <td>{lim}</td>\n",
       "    </tr>\n",
       "    <tr>\n",
       "      <th>1</th>\n",
       "      <td>Analysed</td>\n",
       "      <td>IDA3</td>\n",
       "      <td>{amc, amb, asm, anu, atm, asj, aga, abm, ane, ...</td>\n",
       "    </tr>\n",
       "  </tbody>\n",
       "</table>\n",
       "</div>"
      ],
      "text/plain": [
       "       type format                                            aliases\n",
       "0  Analysed  ASCII                                              {lim}\n",
       "1  Analysed   IDA3  {amc, amb, asm, anu, atm, asj, aga, abm, ane, ..."
      ]
     },
     "execution_count": 51,
     "metadata": {},
     "output_type": "execute_result"
    }
   ],
   "source": [
    "df_2.loc[df_2[\"type\"] == \"Analysed\"].groupby([\"type\", \"format\"], as_index=False).agg(\n",
    "    aliases=(\"source_alias\", lambda x: set(x))\n",
    ")"
   ]
  },
  {
   "cell_type": "markdown",
   "id": "f8907548",
   "metadata": {},
   "source": [
    "It is demonstrated above, using the client, that **_Analysed_** and **_Raw_** types have source names and what they look like. It is also shown that there are particular file formats associated with these types. Data access description using `SIGNAL` names can be found in  3.2 and 3.3."
   ]
  },
  {
   "cell_type": "markdown",
   "id": "1fb15ba2-0a85-4ea9-b6af-0e2b187b0168",
   "metadata": {},
   "source": [
    "#### Retrieve data (as `SIGNALS` or `Signal`)"
   ]
  },
  {
   "cell_type": "markdown",
   "id": "a00e7f1f",
   "metadata": {},
   "source": [
    "We can specify the UDA client to fetch the `SIGNALS` of a shot, which will return a list\n",
    "A shot contains a list of sources (`SOURCES`) as a list or array of `ListData`. For example fetch the list of sources of a shot:\n",
    "\n"
   ]
  },
  {
   "cell_type": "code",
   "execution_count": 52,
   "id": "e9e7cf83",
   "metadata": {
    "tags": []
   },
   "outputs": [],
   "source": [
    "signals_1 = client.list(ListType.SIGNALS, shot_1)\n",
    "# aliases = set([signal.source_alias for signal in signals])"
   ]
  },
  {
   "cell_type": "code",
   "execution_count": 53,
   "id": "e0784f10-0814-49d3-a3e0-cbdff5eaa717",
   "metadata": {},
   "outputs": [
    {
     "data": {
      "text/html": [
       "<pre style=\"white-space:pre;overflow-x:auto;line-height:normal;font-family:Menlo,'DejaVu Sans Mono',consolas,'Courier New',monospace\">Number of signals in shot <span style=\"color: #008080; text-decoration-color: #008080; font-weight: bold\">27933</span> = <span style=\"color: #008080; text-decoration-color: #008080; font-weight: bold\">10594</span>\n",
       "</pre>\n"
      ],
      "text/plain": [
       "Number of signals in shot \u001b[1;36m27933\u001b[0m = \u001b[1;36m10594\u001b[0m\n"
      ]
     },
     "metadata": {},
     "output_type": "display_data"
    }
   ],
   "source": [
    "print(f\"Number of signals in shot {shot_1} = {len(signals_1)}\")"
   ]
  },
  {
   "cell_type": "code",
   "execution_count": 55,
   "id": "4d87f59e-eb7d-4025-95d9-bb05e6ba7492",
   "metadata": {},
   "outputs": [
    {
     "data": {
      "text/html": [
       "<pre style=\"white-space:pre;overflow-x:auto;line-height:normal;font-family:Menlo,'DejaVu Sans Mono',consolas,'Courier New',monospace\"><span style=\"color: #000080; text-decoration-color: #000080\">╭──────────── </span><span style=\"color: #000080; text-decoration-color: #000080; font-weight: bold\">&lt;</span><span style=\"color: #ff00ff; text-decoration-color: #ff00ff; font-weight: bold\">class</span><span style=\"color: #000000; text-decoration-color: #000000\"> </span><span style=\"color: #008000; text-decoration-color: #008000\">'mast.mast_client.ListData'</span><span style=\"color: #000080; text-decoration-color: #000080; font-weight: bold\">&gt;</span><span style=\"color: #000080; text-decoration-color: #000080\"> ────────────╮</span>\n",
       "<span style=\"color: #000080; text-decoration-color: #000080\">│</span> <span style=\"color: #008000; text-decoration-color: #008000\">╭─────────────────────────────────────────────────────────╮</span> <span style=\"color: #000080; text-decoration-color: #000080\">│</span>\n",
       "<span style=\"color: #000080; text-decoration-color: #000080\">│</span> <span style=\"color: #008000; text-decoration-color: #008000\">│</span> <span style=\"color: #800080; text-decoration-color: #800080; font-weight: bold\">ListData</span><span style=\"font-weight: bold\">(</span>                                               <span style=\"color: #008000; text-decoration-color: #008000\">│</span> <span style=\"color: #000080; text-decoration-color: #000080\">│</span>\n",
       "<span style=\"color: #000080; text-decoration-color: #000080\">│</span> <span style=\"color: #008000; text-decoration-color: #008000\">│</span> <span style=\"color: #7fbf7f; text-decoration-color: #7fbf7f\">│   </span><span style=\"color: #808000; text-decoration-color: #808000\">shot</span>=<span style=\"color: #008080; text-decoration-color: #008080; font-weight: bold\">27933</span>,                                         <span style=\"color: #008000; text-decoration-color: #008000\">│</span> <span style=\"color: #000080; text-decoration-color: #000080\">│</span>\n",
       "<span style=\"color: #000080; text-decoration-color: #000080\">│</span> <span style=\"color: #008000; text-decoration-color: #008000\">│</span> <span style=\"color: #7fbf7f; text-decoration-color: #7fbf7f\">│   </span><span style=\"color: #808000; text-decoration-color: #808000\">pass_</span>=<span style=\"color: #008080; text-decoration-color: #008080; font-weight: bold\">0</span>,                                            <span style=\"color: #008000; text-decoration-color: #008000\">│</span> <span style=\"color: #000080; text-decoration-color: #000080\">│</span>\n",
       "<span style=\"color: #000080; text-decoration-color: #000080\">│</span> <span style=\"color: #008000; text-decoration-color: #008000\">│</span> <span style=\"color: #7fbf7f; text-decoration-color: #7fbf7f\">│   </span><span style=\"color: #808000; text-decoration-color: #808000\">signal_name</span>=<span style=\"color: #008000; text-decoration-color: #008000\">'ABM_CALIB_SHOT'</span>,                       <span style=\"color: #008000; text-decoration-color: #008000\">│</span> <span style=\"color: #000080; text-decoration-color: #000080\">│</span>\n",
       "<span style=\"color: #000080; text-decoration-color: #000080\">│</span> <span style=\"color: #008000; text-decoration-color: #008000\">│</span> <span style=\"color: #7fbf7f; text-decoration-color: #7fbf7f\">│   </span><span style=\"color: #808000; text-decoration-color: #808000\">generic_name</span>=<span style=\"color: #008000; text-decoration-color: #008000\">''</span>,                                    <span style=\"color: #008000; text-decoration-color: #008000\">│</span> <span style=\"color: #000080; text-decoration-color: #000080\">│</span>\n",
       "<span style=\"color: #000080; text-decoration-color: #000080\">│</span> <span style=\"color: #008000; text-decoration-color: #008000\">│</span> <span style=\"color: #7fbf7f; text-decoration-color: #7fbf7f\">│   </span><span style=\"color: #808000; text-decoration-color: #808000\">source_alias</span>=<span style=\"color: #008000; text-decoration-color: #008000\">'abm'</span>,                                 <span style=\"color: #008000; text-decoration-color: #008000\">│</span> <span style=\"color: #000080; text-decoration-color: #000080\">│</span>\n",
       "<span style=\"color: #000080; text-decoration-color: #000080\">│</span> <span style=\"color: #008000; text-decoration-color: #008000\">│</span> <span style=\"color: #7fbf7f; text-decoration-color: #7fbf7f\">│   </span><span style=\"color: #808000; text-decoration-color: #808000\">type</span>=<span style=\"color: #008000; text-decoration-color: #008000\">'Analysed'</span>,                                    <span style=\"color: #008000; text-decoration-color: #008000\">│</span> <span style=\"color: #000080; text-decoration-color: #000080\">│</span>\n",
       "<span style=\"color: #000080; text-decoration-color: #000080\">│</span> <span style=\"color: #008000; text-decoration-color: #008000\">│</span> <span style=\"color: #7fbf7f; text-decoration-color: #7fbf7f\">│   </span><span style=\"color: #808000; text-decoration-color: #808000\">description</span>=<span style=\"color: #008000; text-decoration-color: #008000\">'Shot used for calibration (obsolete)'</span>, <span style=\"color: #008000; text-decoration-color: #008000\">│</span> <span style=\"color: #000080; text-decoration-color: #000080\">│</span>\n",
       "<span style=\"color: #000080; text-decoration-color: #000080\">│</span> <span style=\"color: #008000; text-decoration-color: #008000\">│</span> <span style=\"color: #7fbf7f; text-decoration-color: #7fbf7f\">│   </span><span style=\"color: #808000; text-decoration-color: #808000\">signal_status</span>=<span style=\"color: #008080; text-decoration-color: #008080; font-weight: bold\">1</span>,                                    <span style=\"color: #008000; text-decoration-color: #008000\">│</span> <span style=\"color: #000080; text-decoration-color: #000080\">│</span>\n",
       "<span style=\"color: #000080; text-decoration-color: #000080\">│</span> <span style=\"color: #008000; text-decoration-color: #008000\">│</span> <span style=\"color: #7fbf7f; text-decoration-color: #7fbf7f\">│   </span><span style=\"color: #808000; text-decoration-color: #808000\">mds_name</span>=<span style=\"color: #008000; text-decoration-color: #008000\">'\\\\TOP.ANALYSED.ABM:CALIB_SHOT'</span>            <span style=\"color: #008000; text-decoration-color: #008000\">│</span> <span style=\"color: #000080; text-decoration-color: #000080\">│</span>\n",
       "<span style=\"color: #000080; text-decoration-color: #000080\">│</span> <span style=\"color: #008000; text-decoration-color: #008000\">│</span> <span style=\"font-weight: bold\">)</span>                                                       <span style=\"color: #008000; text-decoration-color: #008000\">│</span> <span style=\"color: #000080; text-decoration-color: #000080\">│</span>\n",
       "<span style=\"color: #000080; text-decoration-color: #000080\">│</span> <span style=\"color: #008000; text-decoration-color: #008000\">╰─────────────────────────────────────────────────────────╯</span> <span style=\"color: #000080; text-decoration-color: #000080\">│</span>\n",
       "<span style=\"color: #000080; text-decoration-color: #000080\">│</span>                                                             <span style=\"color: #000080; text-decoration-color: #000080\">│</span>\n",
       "<span style=\"color: #000080; text-decoration-color: #000080\">│</span>   <span style=\"color: #808000; text-decoration-color: #808000; font-style: italic\">description</span> = <span style=\"color: #008000; text-decoration-color: #008000\">'Shot used for calibration (obsolete)'</span>      <span style=\"color: #000080; text-decoration-color: #000080\">│</span>\n",
       "<span style=\"color: #000080; text-decoration-color: #000080\">│</span>  <span style=\"color: #808000; text-decoration-color: #808000; font-style: italic\">generic_name</span> = <span style=\"color: #008000; text-decoration-color: #008000\">''</span>                                          <span style=\"color: #000080; text-decoration-color: #000080\">│</span>\n",
       "<span style=\"color: #000080; text-decoration-color: #000080\">│</span>      <span style=\"color: #808000; text-decoration-color: #808000; font-style: italic\">mds_name</span> = <span style=\"color: #008000; text-decoration-color: #008000\">'\\\\TOP.ANALYSED.ABM:CALIB_SHOT'</span>             <span style=\"color: #000080; text-decoration-color: #000080\">│</span>\n",
       "<span style=\"color: #000080; text-decoration-color: #000080\">│</span>         <span style=\"color: #808000; text-decoration-color: #808000; font-style: italic\">pass_</span> = <span style=\"color: #008080; text-decoration-color: #008080; font-weight: bold\">0</span>                                           <span style=\"color: #000080; text-decoration-color: #000080\">│</span>\n",
       "<span style=\"color: #000080; text-decoration-color: #000080\">│</span>          <span style=\"color: #808000; text-decoration-color: #808000; font-style: italic\">shot</span> = <span style=\"color: #008080; text-decoration-color: #008080; font-weight: bold\">27933</span>                                       <span style=\"color: #000080; text-decoration-color: #000080\">│</span>\n",
       "<span style=\"color: #000080; text-decoration-color: #000080\">│</span>   <span style=\"color: #808000; text-decoration-color: #808000; font-style: italic\">signal_name</span> = <span style=\"color: #008000; text-decoration-color: #008000\">'ABM_CALIB_SHOT'</span>                            <span style=\"color: #000080; text-decoration-color: #000080\">│</span>\n",
       "<span style=\"color: #000080; text-decoration-color: #000080\">│</span> <span style=\"color: #808000; text-decoration-color: #808000; font-style: italic\">signal_status</span> = <span style=\"color: #008080; text-decoration-color: #008080; font-weight: bold\">1</span>                                           <span style=\"color: #000080; text-decoration-color: #000080\">│</span>\n",
       "<span style=\"color: #000080; text-decoration-color: #000080\">│</span>  <span style=\"color: #808000; text-decoration-color: #808000; font-style: italic\">source_alias</span> = <span style=\"color: #008000; text-decoration-color: #008000\">'abm'</span>                                       <span style=\"color: #000080; text-decoration-color: #000080\">│</span>\n",
       "<span style=\"color: #000080; text-decoration-color: #000080\">│</span>          <span style=\"color: #808000; text-decoration-color: #808000; font-style: italic\">type</span> = <span style=\"color: #008000; text-decoration-color: #008000\">'Analysed'</span>                                  <span style=\"color: #000080; text-decoration-color: #000080\">│</span>\n",
       "<span style=\"color: #000080; text-decoration-color: #000080\">╰─────────────────────────────────────────────────────────────╯</span>\n",
       "</pre>\n"
      ],
      "text/plain": [
       "\u001b[34m╭─\u001b[0m\u001b[34m─────────── \u001b[0m\u001b[1;34m<\u001b[0m\u001b[1;95mclass\u001b[0m\u001b[39m \u001b[0m\u001b[32m'mast.mast_client.ListData'\u001b[0m\u001b[1;34m>\u001b[0m\u001b[34m ───────────\u001b[0m\u001b[34m─╮\u001b[0m\n",
       "\u001b[34m│\u001b[0m \u001b[32m╭─────────────────────────────────────────────────────────╮\u001b[0m \u001b[34m│\u001b[0m\n",
       "\u001b[34m│\u001b[0m \u001b[32m│\u001b[0m \u001b[1;35mListData\u001b[0m\u001b[1m(\u001b[0m                                               \u001b[32m│\u001b[0m \u001b[34m│\u001b[0m\n",
       "\u001b[34m│\u001b[0m \u001b[32m│\u001b[0m \u001b[2;32m│   \u001b[0m\u001b[33mshot\u001b[0m=\u001b[1;36m27933\u001b[0m,                                         \u001b[32m│\u001b[0m \u001b[34m│\u001b[0m\n",
       "\u001b[34m│\u001b[0m \u001b[32m│\u001b[0m \u001b[2;32m│   \u001b[0m\u001b[33mpass_\u001b[0m=\u001b[1;36m0\u001b[0m,                                            \u001b[32m│\u001b[0m \u001b[34m│\u001b[0m\n",
       "\u001b[34m│\u001b[0m \u001b[32m│\u001b[0m \u001b[2;32m│   \u001b[0m\u001b[33msignal_name\u001b[0m=\u001b[32m'ABM_CALIB_SHOT'\u001b[0m,                       \u001b[32m│\u001b[0m \u001b[34m│\u001b[0m\n",
       "\u001b[34m│\u001b[0m \u001b[32m│\u001b[0m \u001b[2;32m│   \u001b[0m\u001b[33mgeneric_name\u001b[0m=\u001b[32m''\u001b[0m,                                    \u001b[32m│\u001b[0m \u001b[34m│\u001b[0m\n",
       "\u001b[34m│\u001b[0m \u001b[32m│\u001b[0m \u001b[2;32m│   \u001b[0m\u001b[33msource_alias\u001b[0m=\u001b[32m'abm'\u001b[0m,                                 \u001b[32m│\u001b[0m \u001b[34m│\u001b[0m\n",
       "\u001b[34m│\u001b[0m \u001b[32m│\u001b[0m \u001b[2;32m│   \u001b[0m\u001b[33mtype\u001b[0m=\u001b[32m'Analysed'\u001b[0m,                                    \u001b[32m│\u001b[0m \u001b[34m│\u001b[0m\n",
       "\u001b[34m│\u001b[0m \u001b[32m│\u001b[0m \u001b[2;32m│   \u001b[0m\u001b[33mdescription\u001b[0m=\u001b[32m'Shot used for calibration \u001b[0m\u001b[32m(\u001b[0m\u001b[32mobsolete\u001b[0m\u001b[32m)\u001b[0m\u001b[32m'\u001b[0m, \u001b[32m│\u001b[0m \u001b[34m│\u001b[0m\n",
       "\u001b[34m│\u001b[0m \u001b[32m│\u001b[0m \u001b[2;32m│   \u001b[0m\u001b[33msignal_status\u001b[0m=\u001b[1;36m1\u001b[0m,                                    \u001b[32m│\u001b[0m \u001b[34m│\u001b[0m\n",
       "\u001b[34m│\u001b[0m \u001b[32m│\u001b[0m \u001b[2;32m│   \u001b[0m\u001b[33mmds_name\u001b[0m=\u001b[32m'\\\\TOP.ANALYSED.ABM:CALIB_SHOT'\u001b[0m            \u001b[32m│\u001b[0m \u001b[34m│\u001b[0m\n",
       "\u001b[34m│\u001b[0m \u001b[32m│\u001b[0m \u001b[1m)\u001b[0m                                                       \u001b[32m│\u001b[0m \u001b[34m│\u001b[0m\n",
       "\u001b[34m│\u001b[0m \u001b[32m╰─────────────────────────────────────────────────────────╯\u001b[0m \u001b[34m│\u001b[0m\n",
       "\u001b[34m│\u001b[0m                                                             \u001b[34m│\u001b[0m\n",
       "\u001b[34m│\u001b[0m   \u001b[3;33mdescription\u001b[0m = \u001b[32m'Shot used for calibration \u001b[0m\u001b[32m(\u001b[0m\u001b[32mobsolete\u001b[0m\u001b[32m)\u001b[0m\u001b[32m'\u001b[0m      \u001b[34m│\u001b[0m\n",
       "\u001b[34m│\u001b[0m  \u001b[3;33mgeneric_name\u001b[0m = \u001b[32m''\u001b[0m                                          \u001b[34m│\u001b[0m\n",
       "\u001b[34m│\u001b[0m      \u001b[3;33mmds_name\u001b[0m = \u001b[32m'\\\\TOP.ANALYSED.ABM:CALIB_SHOT'\u001b[0m             \u001b[34m│\u001b[0m\n",
       "\u001b[34m│\u001b[0m         \u001b[3;33mpass_\u001b[0m = \u001b[1;36m0\u001b[0m                                           \u001b[34m│\u001b[0m\n",
       "\u001b[34m│\u001b[0m          \u001b[3;33mshot\u001b[0m = \u001b[1;36m27933\u001b[0m                                       \u001b[34m│\u001b[0m\n",
       "\u001b[34m│\u001b[0m   \u001b[3;33msignal_name\u001b[0m = \u001b[32m'ABM_CALIB_SHOT'\u001b[0m                            \u001b[34m│\u001b[0m\n",
       "\u001b[34m│\u001b[0m \u001b[3;33msignal_status\u001b[0m = \u001b[1;36m1\u001b[0m                                           \u001b[34m│\u001b[0m\n",
       "\u001b[34m│\u001b[0m  \u001b[3;33msource_alias\u001b[0m = \u001b[32m'abm'\u001b[0m                                       \u001b[34m│\u001b[0m\n",
       "\u001b[34m│\u001b[0m          \u001b[3;33mtype\u001b[0m = \u001b[32m'Analysed'\u001b[0m                                  \u001b[34m│\u001b[0m\n",
       "\u001b[34m╰─────────────────────────────────────────────────────────────╯\u001b[0m\n"
      ]
     },
     "metadata": {},
     "output_type": "display_data"
    }
   ],
   "source": [
    "# inspect the first signal\n",
    "inspect(signals_1[0], docs=False)"
   ]
  },
  {
   "cell_type": "markdown",
   "id": "64bb169e",
   "metadata": {},
   "source": [
    "Note that, given `SOURCES` or `SIGNALS` as an input argument to the UDA client API, it fetched a list of sources (`SOURCES`) or list of signals (`SIGNALS`). Although the objects or entries of both the lists are encoded in`ListData` object, the attributes are different."
   ]
  },
  {
   "cell_type": "markdown",
   "id": "5c21d4a2-c3fd-4979-b704-94cc309aaf0d",
   "metadata": {},
   "source": [
    "A tabular view of the list of signals."
   ]
  },
  {
   "cell_type": "code",
   "execution_count": 56,
   "id": "f01bdb91-eccf-42a9-a4cc-a38db4a2f61d",
   "metadata": {},
   "outputs": [
    {
     "data": {
      "text/html": [
       "<div>\n",
       "<style scoped>\n",
       "    .dataframe tbody tr th:only-of-type {\n",
       "        vertical-align: middle;\n",
       "    }\n",
       "\n",
       "    .dataframe tbody tr th {\n",
       "        vertical-align: top;\n",
       "    }\n",
       "\n",
       "    .dataframe thead th {\n",
       "        text-align: right;\n",
       "    }\n",
       "</style>\n",
       "<table border=\"1\" class=\"dataframe\">\n",
       "  <thead>\n",
       "    <tr style=\"text-align: right;\">\n",
       "      <th></th>\n",
       "      <th>shot</th>\n",
       "      <th>pass_</th>\n",
       "      <th>signal_name</th>\n",
       "      <th>generic_name</th>\n",
       "      <th>source_alias</th>\n",
       "      <th>type</th>\n",
       "      <th>description</th>\n",
       "      <th>signal_status</th>\n",
       "      <th>mds_name</th>\n",
       "    </tr>\n",
       "  </thead>\n",
       "  <tbody>\n",
       "    <tr>\n",
       "      <th>0</th>\n",
       "      <td>27933</td>\n",
       "      <td>0</td>\n",
       "      <td>ABM_CALIB_SHOT</td>\n",
       "      <td></td>\n",
       "      <td>abm</td>\n",
       "      <td>Analysed</td>\n",
       "      <td>Shot used for calibration (obsolete)</td>\n",
       "      <td>1</td>\n",
       "      <td>\\TOP.ANALYSED.ABM:CALIB_SHOT</td>\n",
       "    </tr>\n",
       "    <tr>\n",
       "      <th>1</th>\n",
       "      <td>27933</td>\n",
       "      <td>0</td>\n",
       "      <td>ABM_CHANNEL_STATUS</td>\n",
       "      <td></td>\n",
       "      <td>abm</td>\n",
       "      <td>Analysed</td>\n",
       "      <td>Failed = 0, OK = 1</td>\n",
       "      <td>1</td>\n",
       "      <td>\\TOP.ANALYSED.ABM.CHANNEL:STATUS</td>\n",
       "    </tr>\n",
       "    <tr>\n",
       "      <th>2</th>\n",
       "      <td>27933</td>\n",
       "      <td>0</td>\n",
       "      <td>ABM_CHANNEL_TYPE</td>\n",
       "      <td></td>\n",
       "      <td>abm</td>\n",
       "      <td>Analysed</td>\n",
       "      <td>Channel type (0 = poloidal, 1 = co-tangential,...</td>\n",
       "      <td>1</td>\n",
       "      <td>\\TOP.ANALYSED.ABM:CHANNEL_TYPE</td>\n",
       "    </tr>\n",
       "    <tr>\n",
       "      <th>3</th>\n",
       "      <td>27933</td>\n",
       "      <td>0</td>\n",
       "      <td>ABM_GAIN</td>\n",
       "      <td></td>\n",
       "      <td>abm</td>\n",
       "      <td>Analysed</td>\n",
       "      <td>Gain of pre-amplifiers</td>\n",
       "      <td>1</td>\n",
       "      <td>\\TOP.ANALYSED.ABM:GAIN</td>\n",
       "    </tr>\n",
       "    <tr>\n",
       "      <th>4</th>\n",
       "      <td>27933</td>\n",
       "      <td>0</td>\n",
       "      <td>ABM_I-BOL</td>\n",
       "      <td></td>\n",
       "      <td>abm</td>\n",
       "      <td>Analysed</td>\n",
       "      <td>Incident powers (x - channel)</td>\n",
       "      <td>1</td>\n",
       "      <td>\\TOP.ANALYSED.ABM:I_BOL</td>\n",
       "    </tr>\n",
       "    <tr>\n",
       "      <th>...</th>\n",
       "      <td>...</td>\n",
       "      <td>...</td>\n",
       "      <td>...</td>\n",
       "      <td>...</td>\n",
       "      <td>...</td>\n",
       "      <td>...</td>\n",
       "      <td>...</td>\n",
       "      <td>...</td>\n",
       "      <td>...</td>\n",
       "    </tr>\n",
       "    <tr>\n",
       "      <th>10589</th>\n",
       "      <td>27933</td>\n",
       "      <td>-1</td>\n",
       "      <td>/XYR/RTTE</td>\n",
       "      <td></td>\n",
       "      <td>xyr</td>\n",
       "      <td>Raw</td>\n",
       "      <td></td>\n",
       "      <td>1</td>\n",
       "      <td>\\TOP.RAW.XYR:RTTE</td>\n",
       "    </tr>\n",
       "    <tr>\n",
       "      <th>10590</th>\n",
       "      <td>27933</td>\n",
       "      <td>-1</td>\n",
       "      <td>/XYR/SEGMENT1</td>\n",
       "      <td></td>\n",
       "      <td>xyr</td>\n",
       "      <td>Raw</td>\n",
       "      <td></td>\n",
       "      <td>1</td>\n",
       "      <td>\\TOP.RAW.XYR:SEGMENT1</td>\n",
       "    </tr>\n",
       "    <tr>\n",
       "      <th>10591</th>\n",
       "      <td>27933</td>\n",
       "      <td>-1</td>\n",
       "      <td>/XYR/SEGMENTTIME</td>\n",
       "      <td></td>\n",
       "      <td>xyr</td>\n",
       "      <td>Raw</td>\n",
       "      <td></td>\n",
       "      <td>1</td>\n",
       "      <td>\\TOP.RAW.XYR:SEGMENTTIME</td>\n",
       "    </tr>\n",
       "    <tr>\n",
       "      <th>10592</th>\n",
       "      <td>27933</td>\n",
       "      <td>-1</td>\n",
       "      <td>/XYR/SENTTIME</td>\n",
       "      <td></td>\n",
       "      <td>xyr</td>\n",
       "      <td>Raw</td>\n",
       "      <td></td>\n",
       "      <td>1</td>\n",
       "      <td>\\TOP.RAW.XYR:SENTTIME</td>\n",
       "    </tr>\n",
       "    <tr>\n",
       "      <th>10593</th>\n",
       "      <td>27933</td>\n",
       "      <td>-1</td>\n",
       "      <td>/XYR/TIME1</td>\n",
       "      <td></td>\n",
       "      <td>xyr</td>\n",
       "      <td>Raw</td>\n",
       "      <td></td>\n",
       "      <td>1</td>\n",
       "      <td>\\TOP.RAW.XYR:TIME1</td>\n",
       "    </tr>\n",
       "  </tbody>\n",
       "</table>\n",
       "<p>10594 rows × 9 columns</p>\n",
       "</div>"
      ],
      "text/plain": [
       "        shot  pass_         signal_name generic_name source_alias      type  \\\n",
       "0      27933      0      ABM_CALIB_SHOT                       abm  Analysed   \n",
       "1      27933      0  ABM_CHANNEL_STATUS                       abm  Analysed   \n",
       "2      27933      0    ABM_CHANNEL_TYPE                       abm  Analysed   \n",
       "3      27933      0            ABM_GAIN                       abm  Analysed   \n",
       "4      27933      0           ABM_I-BOL                       abm  Analysed   \n",
       "...      ...    ...                 ...          ...          ...       ...   \n",
       "10589  27933     -1           /XYR/RTTE                       xyr       Raw   \n",
       "10590  27933     -1       /XYR/SEGMENT1                       xyr       Raw   \n",
       "10591  27933     -1    /XYR/SEGMENTTIME                       xyr       Raw   \n",
       "10592  27933     -1       /XYR/SENTTIME                       xyr       Raw   \n",
       "10593  27933     -1          /XYR/TIME1                       xyr       Raw   \n",
       "\n",
       "                                             description  signal_status  \\\n",
       "0                   Shot used for calibration (obsolete)              1   \n",
       "1                                     Failed = 0, OK = 1              1   \n",
       "2      Channel type (0 = poloidal, 1 = co-tangential,...              1   \n",
       "3                                 Gain of pre-amplifiers              1   \n",
       "4                          Incident powers (x - channel)              1   \n",
       "...                                                  ...            ...   \n",
       "10589                                                                 1   \n",
       "10590                                                                 1   \n",
       "10591                                                                 1   \n",
       "10592                                                                 1   \n",
       "10593                                                                 1   \n",
       "\n",
       "                               mds_name  \n",
       "0          \\TOP.ANALYSED.ABM:CALIB_SHOT  \n",
       "1      \\TOP.ANALYSED.ABM.CHANNEL:STATUS  \n",
       "2        \\TOP.ANALYSED.ABM:CHANNEL_TYPE  \n",
       "3                \\TOP.ANALYSED.ABM:GAIN  \n",
       "4               \\TOP.ANALYSED.ABM:I_BOL  \n",
       "...                                 ...  \n",
       "10589                 \\TOP.RAW.XYR:RTTE  \n",
       "10590             \\TOP.RAW.XYR:SEGMENT1  \n",
       "10591          \\TOP.RAW.XYR:SEGMENTTIME  \n",
       "10592             \\TOP.RAW.XYR:SENTTIME  \n",
       "10593                \\TOP.RAW.XYR:TIME1  \n",
       "\n",
       "[10594 rows x 9 columns]"
      ]
     },
     "execution_count": 56,
     "metadata": {},
     "output_type": "execute_result"
    }
   ],
   "source": [
    "dfs_1 = pd.DataFrame(signals_1)\n",
    "dfs_1"
   ]
  },
  {
   "cell_type": "markdown",
   "id": "a4bfdd7a",
   "metadata": {},
   "source": [
    "A `SIGNAL` attributes are:\n",
    "\n",
    "* `shot` - the unique number of a `SHOT`\n",
    "* `pass_` - for **_Analysed_** type it would mean how many processing iterations it went through, the first - number 0, for **_Raw_** we would see -1\n",
    "* `signal_name` - the name of a signal \n",
    "* `generic_signal` - usually left blank, but can contain a shorter type of alias for common signals for easy access. Example: 'AMC_PLASMA CURRENT' has the alias 'ip'.\n",
    "* `source_alias` - three letter alias name, which can be used for a separate source inspection\n",
    "* `type` - e.g., **_Analysed_**, **_Raw_** or **_Image_**\n",
    "* `description` - text description of the signal\n",
    "* `signal_status` - internal data status set by responsible officer:\n",
    "    * -1 Poor Data: do not use\n",
    "    * 0 Something is wrong in the Data\n",
    "    * 1 either **_Raw_** data not checked or **_Analysed_** data quality is Unknown\n",
    "    * 2 Data has been checked - no known problems\n",
    "    * 3 Data was validated\n",
    "* `mds_name` - MDS refers to an older technology called MDSPLUS that attempted to provide a universal data model and access mechanism.\n"
   ]
  },
  {
   "cell_type": "markdown",
   "id": "50dd4eea",
   "metadata": {},
   "source": [
    "#### `SIGNAL` Name as Alias Dictionary\n",
    "<a id='group_signal_name_as_alias'></a>\n"
   ]
  },
  {
   "cell_type": "markdown",
   "id": "14ae0a98",
   "metadata": {},
   "source": [
    "We can build a `SOURCE` dictionary, where an alias (three letter name) and `SIGNAL` name are organised as a set. This is  done for convenience - grouping aliases with corresponding signals makes data exploration easier. To *inspect* each `SOURCE` we can use an alias and it will provide us with meta information, but to access the `SIGNAL` itself, one needs a separate `SIGNAL` name contained in such a set.\n",
    "\n",
    "**_Image_** `SOURCES` don't belong to `SIGNALS` and their access is different from **_Raw_** and **_Analysed_**, therefore, they cannot be found in `alias_signal_dict` below."
   ]
  },
  {
   "cell_type": "code",
   "execution_count": 57,
   "id": "090158cc",
   "metadata": {},
   "outputs": [],
   "source": [
    "aliases_1 = set([signal.source_alias for signal in signals_1])\n",
    "\n",
    "alias_signal_dict = {\n",
    "    source: set(\n",
    "        [signal.signal_name for signal in signals_1 if signal.source_alias == source]\n",
    "    )\n",
    "    for source in aliases_1\n",
    "}"
   ]
  },
  {
   "cell_type": "code",
   "execution_count": 58,
   "id": "4e2c26e8",
   "metadata": {
    "tags": []
   },
   "outputs": [
    {
     "data": {
      "text/html": [
       "<pre style=\"white-space:pre;overflow-x:auto;line-height:normal;font-family:Menlo,'DejaVu Sans Mono',consolas,'Courier New',monospace\"><span style=\"color: #000080; text-decoration-color: #000080\">╭─────────────────────── </span><span style=\"color: #000080; text-decoration-color: #000080; font-weight: bold\">&lt;</span><span style=\"color: #ff00ff; text-decoration-color: #ff00ff; font-weight: bold\">class</span><span style=\"color: #000000; text-decoration-color: #000000\"> </span><span style=\"color: #008000; text-decoration-color: #008000\">'dict'</span><span style=\"color: #000080; text-decoration-color: #000080; font-weight: bold\">&gt;</span><span style=\"color: #000080; text-decoration-color: #000080\"> ───────────────────────╮</span>\n",
       "<span style=\"color: #000080; text-decoration-color: #000080\">│</span> <span style=\"color: #008000; text-decoration-color: #008000\">╭──────────────────────────────────────────────────────────╮</span> <span style=\"color: #000080; text-decoration-color: #000080\">│</span>\n",
       "<span style=\"color: #000080; text-decoration-color: #000080\">│</span> <span style=\"color: #008000; text-decoration-color: #008000\">│</span> <span style=\"font-weight: bold\">{</span>                                                        <span style=\"color: #008000; text-decoration-color: #008000\">│</span> <span style=\"color: #000080; text-decoration-color: #000080\">│</span>\n",
       "<span style=\"color: #000080; text-decoration-color: #000080\">│</span> <span style=\"color: #008000; text-decoration-color: #008000\">│</span> <span style=\"color: #7fbf7f; text-decoration-color: #7fbf7f\">│   </span><span style=\"color: #008000; text-decoration-color: #008000\">'air'</span>: <span style=\"font-weight: bold\">{</span>                                             <span style=\"color: #008000; text-decoration-color: #008000\">│</span> <span style=\"color: #000080; text-decoration-color: #000080\">│</span>\n",
       "<span style=\"color: #000080; text-decoration-color: #000080\">│</span> <span style=\"color: #008000; text-decoration-color: #008000\">│</span> <span style=\"color: #7fbf7f; text-decoration-color: #7fbf7f\">│   │   </span><span style=\"color: #008000; text-decoration-color: #008000\">'AIR_PTOT_OSP_ELM'</span>,                              <span style=\"color: #008000; text-decoration-color: #008000\">│</span> <span style=\"color: #000080; text-decoration-color: #000080\">│</span>\n",
       "<span style=\"color: #000080; text-decoration-color: #000080\">│</span> <span style=\"color: #008000; text-decoration-color: #008000\">│</span> <span style=\"color: #7fbf7f; text-decoration-color: #7fbf7f\">│   │   </span><span style=\"color: #008000; text-decoration-color: #008000\">'AIR_PHI_START_OSP'</span>,                             <span style=\"color: #008000; text-decoration-color: #008000\">│</span> <span style=\"color: #000080; text-decoration-color: #000080\">│</span>\n",
       "<span style=\"color: #000080; text-decoration-color: #000080\">│</span> <span style=\"color: #008000; text-decoration-color: #008000\">│</span> <span style=\"color: #7fbf7f; text-decoration-color: #7fbf7f\">│   │   </span><span style=\"color: #008000; text-decoration-color: #008000\">'AIR_PKPOWER_DENSITY_ISP'</span>,                       <span style=\"color: #008000; text-decoration-color: #008000\">│</span> <span style=\"color: #000080; text-decoration-color: #000080\">│</span>\n",
       "<span style=\"color: #000080; text-decoration-color: #000080\">│</span> <span style=\"color: #008000; text-decoration-color: #008000\">│</span> <span style=\"color: #7fbf7f; text-decoration-color: #7fbf7f\">│   │   </span><span style=\"color: #008000; text-decoration-color: #008000\">'AIR_PASSNUMBER'</span>,                                <span style=\"color: #008000; text-decoration-color: #008000\">│</span> <span style=\"color: #000080; text-decoration-color: #000080\">│</span>\n",
       "<span style=\"color: #000080; text-decoration-color: #000080\">│</span> <span style=\"color: #008000; text-decoration-color: #008000\">│</span> <span style=\"color: #7fbf7f; text-decoration-color: #7fbf7f\">│   │   </span><span style=\"color: #008000; text-decoration-color: #008000\">'AIR_TEMPERATURE_OSP'</span>,                           <span style=\"color: #008000; text-decoration-color: #008000\">│</span> <span style=\"color: #000080; text-decoration-color: #000080\">│</span>\n",
       "<span style=\"color: #000080; text-decoration-color: #000080\">│</span> <span style=\"color: #008000; text-decoration-color: #008000\">│</span> <span style=\"color: #7fbf7f; text-decoration-color: #7fbf7f\">│   │   </span><span style=\"color: #008000; text-decoration-color: #008000\">'AIR_Z_EXTENT_ISP'</span>,                              <span style=\"color: #008000; text-decoration-color: #008000\">│</span> <span style=\"color: #000080; text-decoration-color: #000080\">│</span>\n",
       "<span style=\"color: #000080; text-decoration-color: #000080\">│</span> <span style=\"color: #008000; text-decoration-color: #008000\">│</span> <span style=\"color: #7fbf7f; text-decoration-color: #7fbf7f\">│   │   </span><span style=\"color: #008000; text-decoration-color: #008000\">'AIR_QPROFILE_ISP'</span>,                              <span style=\"color: #008000; text-decoration-color: #008000\">│</span> <span style=\"color: #000080; text-decoration-color: #000080\">│</span>\n",
       "<span style=\"color: #000080; text-decoration-color: #000080\">│</span> <span style=\"color: #008000; text-decoration-color: #008000\">│</span> <span style=\"color: #7fbf7f; text-decoration-color: #7fbf7f\">│   │   </span><span style=\"color: #008000; text-decoration-color: #008000\">'AIR_ETOTSUM_ISP_ELM'</span>,                           <span style=\"color: #008000; text-decoration-color: #008000\">│</span> <span style=\"color: #000080; text-decoration-color: #000080\">│</span>\n",
       "<span style=\"color: #000080; text-decoration-color: #000080\">│</span> <span style=\"color: #008000; text-decoration-color: #008000\">│</span> <span style=\"color: #7fbf7f; text-decoration-color: #7fbf7f\">│   │   </span><span style=\"color: #008000; text-decoration-color: #008000\">'AIR_QPROFILE_ISP_ELM'</span>,                          <span style=\"color: #008000; text-decoration-color: #008000\">│</span> <span style=\"color: #000080; text-decoration-color: #000080\">│</span>\n",
       "<span style=\"color: #000080; text-decoration-color: #000080\">│</span> <span style=\"color: #008000; text-decoration-color: #008000\">│</span> <span style=\"color: #7fbf7f; text-decoration-color: #7fbf7f\">│   │   </span><span style=\"color: #008000; text-decoration-color: #008000\">'AIR_PTOT_ISP_ELM'</span>,                              <span style=\"color: #008000; text-decoration-color: #008000\">│</span> <span style=\"color: #000080; text-decoration-color: #000080\">│</span>\n",
       "<span style=\"color: #000080; text-decoration-color: #000080\">│</span> <span style=\"color: #008000; text-decoration-color: #008000\">│</span> <span style=\"color: #7fbf7f; text-decoration-color: #7fbf7f\">│   │   </span><span style=\"color: #808000; text-decoration-color: #808000\">...</span> +<span style=\"color: #008080; text-decoration-color: #008080; font-weight: bold\">49</span>                                          <span style=\"color: #008000; text-decoration-color: #008000\">│</span> <span style=\"color: #000080; text-decoration-color: #000080\">│</span>\n",
       "<span style=\"color: #000080; text-decoration-color: #000080\">│</span> <span style=\"color: #008000; text-decoration-color: #008000\">│</span> <span style=\"color: #7fbf7f; text-decoration-color: #7fbf7f\">│   </span><span style=\"font-weight: bold\">}</span>,                                                   <span style=\"color: #008000; text-decoration-color: #008000\">│</span> <span style=\"color: #000080; text-decoration-color: #000080\">│</span>\n",
       "<span style=\"color: #000080; text-decoration-color: #000080\">│</span> <span style=\"color: #008000; text-decoration-color: #008000\">│</span> <span style=\"color: #7fbf7f; text-decoration-color: #7fbf7f\">│   </span><span style=\"color: #008000; text-decoration-color: #008000\">'xmp'</span>: <span style=\"font-weight: bold\">{</span>                                             <span style=\"color: #008000; text-decoration-color: #008000\">│</span> <span style=\"color: #000080; text-decoration-color: #000080\">│</span>\n",
       "<span style=\"color: #000080; text-decoration-color: #000080\">│</span> <span style=\"color: #008000; text-decoration-color: #008000\">│</span> <span style=\"color: #7fbf7f; text-decoration-color: #7fbf7f\">│   │   </span><span style=\"color: #008000; text-decoration-color: #008000\">'/XMP/DEVICES/D2_ADC103/RANGE'</span>,                  <span style=\"color: #008000; text-decoration-color: #008000\">│</span> <span style=\"color: #000080; text-decoration-color: #000080\">│</span>\n",
       "<span style=\"color: #000080; text-decoration-color: #000080\">│</span> <span style=\"color: #008000; text-decoration-color: #008000\">│</span> <span style=\"color: #7fbf7f; text-decoration-color: #7fbf7f\">│   │   </span><span style=\"color: #008000; text-decoration-color: #008000\">'/XMP/REF20'</span>,                                    <span style=\"color: #008000; text-decoration-color: #008000\">│</span> <span style=\"color: #000080; text-decoration-color: #000080\">│</span>\n",
       "<span style=\"color: #000080; text-decoration-color: #000080\">│</span> <span style=\"color: #008000; text-decoration-color: #008000\">│</span> <span style=\"color: #7fbf7f; text-decoration-color: #7fbf7f\">│   │   </span><span style=\"color: #008000; text-decoration-color: #008000\">'/XMP/REF23'</span>,                                    <span style=\"color: #008000; text-decoration-color: #008000\">│</span> <span style=\"color: #000080; text-decoration-color: #000080\">│</span>\n",
       "<span style=\"color: #000080; text-decoration-color: #000080\">│</span> <span style=\"color: #008000; text-decoration-color: #008000\">│</span> <span style=\"color: #7fbf7f; text-decoration-color: #7fbf7f\">│   │   </span><span style=\"color: #008000; text-decoration-color: #008000\">'/XMP/DEVICES/LIMIT'</span>,                            <span style=\"color: #008000; text-decoration-color: #008000\">│</span> <span style=\"color: #000080; text-decoration-color: #000080\">│</span>\n",
       "<span style=\"color: #000080; text-decoration-color: #000080\">│</span> <span style=\"color: #008000; text-decoration-color: #008000\">│</span> <span style=\"color: #7fbf7f; text-decoration-color: #7fbf7f\">│   │   </span><span style=\"color: #008000; text-decoration-color: #008000\">'/XMP/DEVICES/D2_ADC103/CHANNEL'</span>,                <span style=\"color: #008000; text-decoration-color: #008000\">│</span> <span style=\"color: #000080; text-decoration-color: #000080\">│</span>\n",
       "<span style=\"color: #000080; text-decoration-color: #000080\">│</span> <span style=\"color: #008000; text-decoration-color: #008000\">│</span> <span style=\"color: #7fbf7f; text-decoration-color: #7fbf7f\">│   │   </span><span style=\"color: #008000; text-decoration-color: #008000\">'/XMP/TIME1'</span>                                     <span style=\"color: #008000; text-decoration-color: #008000\">│</span> <span style=\"color: #000080; text-decoration-color: #000080\">│</span>\n",
       "<span style=\"color: #000080; text-decoration-color: #000080\">│</span> <span style=\"color: #008000; text-decoration-color: #008000\">│</span> <span style=\"color: #7fbf7f; text-decoration-color: #7fbf7f\">│   </span><span style=\"font-weight: bold\">}</span>,                                                   <span style=\"color: #008000; text-decoration-color: #008000\">│</span> <span style=\"color: #000080; text-decoration-color: #000080\">│</span>\n",
       "<span style=\"color: #000080; text-decoration-color: #000080\">│</span> <span style=\"color: #008000; text-decoration-color: #008000\">│</span> <span style=\"color: #7fbf7f; text-decoration-color: #7fbf7f\">│   </span><span style=\"color: #008000; text-decoration-color: #008000\">'amc'</span>: <span style=\"font-weight: bold\">{</span>                                             <span style=\"color: #008000; text-decoration-color: #008000\">│</span> <span style=\"color: #000080; text-decoration-color: #000080\">│</span>\n",
       "<span style=\"color: #000080; text-decoration-color: #000080\">│</span> <span style=\"color: #008000; text-decoration-color: #008000\">│</span> <span style=\"color: #7fbf7f; text-decoration-color: #7fbf7f\">│   │   </span><span style=\"color: #008000; text-decoration-color: #008000\">'AMC_P2IU FEED CURRENT'</span>,                         <span style=\"color: #008000; text-decoration-color: #008000\">│</span> <span style=\"color: #000080; text-decoration-color: #000080\">│</span>\n",
       "<span style=\"color: #000080; text-decoration-color: #000080\">│</span> <span style=\"color: #008000; text-decoration-color: #008000\">│</span> <span style=\"color: #7fbf7f; text-decoration-color: #7fbf7f\">│   │   </span><span style=\"color: #008000; text-decoration-color: #008000\">'AMC_P4L CURRENT'</span>,                               <span style=\"color: #008000; text-decoration-color: #008000\">│</span> <span style=\"color: #000080; text-decoration-color: #000080\">│</span>\n",
       "<span style=\"color: #000080; text-decoration-color: #000080\">│</span> <span style=\"color: #008000; text-decoration-color: #008000\">│</span> <span style=\"color: #7fbf7f; text-decoration-color: #7fbf7f\">│   │   </span><span style=\"color: #008000; text-decoration-color: #008000\">'AMC_P5U CASE CURRENT'</span>,                          <span style=\"color: #008000; text-decoration-color: #008000\">│</span> <span style=\"color: #000080; text-decoration-color: #000080\">│</span>\n",
       "<span style=\"color: #000080; text-decoration-color: #000080\">│</span> <span style=\"color: #008000; text-decoration-color: #008000\">│</span> <span style=\"color: #7fbf7f; text-decoration-color: #7fbf7f\">│   │   </span><span style=\"color: #008000; text-decoration-color: #008000\">'AMC_P4L COIL CURRENT'</span>,                          <span style=\"color: #008000; text-decoration-color: #008000\">│</span> <span style=\"color: #000080; text-decoration-color: #000080\">│</span>\n",
       "<span style=\"color: #000080; text-decoration-color: #000080\">│</span> <span style=\"color: #008000; text-decoration-color: #008000\">│</span> <span style=\"color: #7fbf7f; text-decoration-color: #7fbf7f\">│   │   </span><span style=\"color: #008000; text-decoration-color: #008000\">'AMC_P5L CURRENT'</span>,                               <span style=\"color: #008000; text-decoration-color: #008000\">│</span> <span style=\"color: #000080; text-decoration-color: #000080\">│</span>\n",
       "<span style=\"color: #000080; text-decoration-color: #000080\">│</span> <span style=\"color: #008000; text-decoration-color: #008000\">│</span> <span style=\"color: #7fbf7f; text-decoration-color: #7fbf7f\">│   │   </span><span style=\"color: #008000; text-decoration-color: #008000\">'AMC_P3U FEED CURRENT'</span>,                          <span style=\"color: #008000; text-decoration-color: #008000\">│</span> <span style=\"color: #000080; text-decoration-color: #000080\">│</span>\n",
       "<span style=\"color: #000080; text-decoration-color: #000080\">│</span> <span style=\"color: #008000; text-decoration-color: #008000\">│</span> <span style=\"color: #7fbf7f; text-decoration-color: #7fbf7f\">│   │   </span><span style=\"color: #008000; text-decoration-color: #008000\">'AMC_P4L CASE CURRENT'</span>,                          <span style=\"color: #008000; text-decoration-color: #008000\">│</span> <span style=\"color: #000080; text-decoration-color: #000080\">│</span>\n",
       "<span style=\"color: #000080; text-decoration-color: #000080\">│</span> <span style=\"color: #008000; text-decoration-color: #008000\">│</span> <span style=\"color: #7fbf7f; text-decoration-color: #7fbf7f\">│   │   </span><span style=\"color: #008000; text-decoration-color: #008000\">'AMC_P3L CASE CURRENT'</span>,                          <span style=\"color: #008000; text-decoration-color: #008000\">│</span> <span style=\"color: #000080; text-decoration-color: #000080\">│</span>\n",
       "<span style=\"color: #000080; text-decoration-color: #000080\">│</span> <span style=\"color: #008000; text-decoration-color: #008000\">│</span> <span style=\"color: #7fbf7f; text-decoration-color: #7fbf7f\">│   │   </span><span style=\"color: #008000; text-decoration-color: #008000\">'AMC_P5U CURRENT'</span>,                               <span style=\"color: #008000; text-decoration-color: #008000\">│</span> <span style=\"color: #000080; text-decoration-color: #000080\">│</span>\n",
       "<span style=\"color: #000080; text-decoration-color: #000080\">│</span> <span style=\"color: #008000; text-decoration-color: #008000\">│</span> <span style=\"color: #7fbf7f; text-decoration-color: #7fbf7f\">│   │   </span><span style=\"color: #008000; text-decoration-color: #008000\">'AMC_VERSION'</span>,                                   <span style=\"color: #008000; text-decoration-color: #008000\">│</span> <span style=\"color: #000080; text-decoration-color: #000080\">│</span>\n",
       "<span style=\"color: #000080; text-decoration-color: #000080\">│</span> <span style=\"color: #008000; text-decoration-color: #008000\">│</span> <span style=\"color: #7fbf7f; text-decoration-color: #7fbf7f\">│   │   </span><span style=\"color: #808000; text-decoration-color: #808000\">...</span> +<span style=\"color: #008080; text-decoration-color: #008080; font-weight: bold\">36</span>                                          <span style=\"color: #008000; text-decoration-color: #008000\">│</span> <span style=\"color: #000080; text-decoration-color: #000080\">│</span>\n",
       "<span style=\"color: #000080; text-decoration-color: #000080\">│</span> <span style=\"color: #008000; text-decoration-color: #008000\">│</span> <span style=\"color: #7fbf7f; text-decoration-color: #7fbf7f\">│   </span><span style=\"font-weight: bold\">}</span>,                                                   <span style=\"color: #008000; text-decoration-color: #008000\">│</span> <span style=\"color: #000080; text-decoration-color: #000080\">│</span>\n",
       "<span style=\"color: #000080; text-decoration-color: #000080\">│</span> <span style=\"color: #008000; text-decoration-color: #008000\">│</span> <span style=\"color: #7fbf7f; text-decoration-color: #7fbf7f\">│   </span><span style=\"color: #008000; text-decoration-color: #008000\">'xim'</span>: <span style=\"font-weight: bold\">{</span>                                             <span style=\"color: #008000; text-decoration-color: #008000\">│</span> <span style=\"color: #000080; text-decoration-color: #000080\">│</span>\n",
       "<span style=\"color: #000080; text-decoration-color: #000080\">│</span> <span style=\"color: #008000; text-decoration-color: #008000\">│</span> <span style=\"color: #7fbf7f; text-decoration-color: #7fbf7f\">│   │   </span><span style=\"color: #008000; text-decoration-color: #008000\">'XIM_DA/BO10'</span>,                                   <span style=\"color: #008000; text-decoration-color: #008000\">│</span> <span style=\"color: #000080; text-decoration-color: #000080\">│</span>\n",
       "<span style=\"color: #000080; text-decoration-color: #000080\">│</span> <span style=\"color: #008000; text-decoration-color: #008000\">│</span> <span style=\"color: #7fbf7f; text-decoration-color: #7fbf7f\">│   │   </span><span style=\"color: #008000; text-decoration-color: #008000\">'XIM_MASS_END'</span>,                                  <span style=\"color: #008000; text-decoration-color: #008000\">│</span> <span style=\"color: #000080; text-decoration-color: #000080\">│</span>\n",
       "<span style=\"color: #000080; text-decoration-color: #000080\">│</span> <span style=\"color: #008000; text-decoration-color: #008000\">│</span> <span style=\"color: #7fbf7f; text-decoration-color: #7fbf7f\">│   │   </span><span style=\"color: #008000; text-decoration-color: #008000\">'XIM_DA/HU10/R1'</span>,                                <span style=\"color: #008000; text-decoration-color: #008000\">│</span> <span style=\"color: #000080; text-decoration-color: #000080\">│</span>\n",
       "<span style=\"color: #000080; text-decoration-color: #000080\">│</span> <span style=\"color: #008000; text-decoration-color: #008000\">│</span> <span style=\"color: #7fbf7f; text-decoration-color: #7fbf7f\">│   │   </span><span style=\"color: #008000; text-decoration-color: #008000\">'XIM_PELLET_HALPHA/2'</span>,                           <span style=\"color: #008000; text-decoration-color: #008000\">│</span> <span style=\"color: #000080; text-decoration-color: #000080\">│</span>\n",
       "<span style=\"color: #000080; text-decoration-color: #000080\">│</span> <span style=\"color: #008000; text-decoration-color: #008000\">│</span> <span style=\"color: #7fbf7f; text-decoration-color: #7fbf7f\">│   │   </span><span style=\"color: #008000; text-decoration-color: #008000\">'XIM_PREION_TRIG'</span>,                               <span style=\"color: #008000; text-decoration-color: #008000\">│</span> <span style=\"color: #000080; text-decoration-color: #000080\">│</span>\n",
       "<span style=\"color: #000080; text-decoration-color: #000080\">│</span> <span style=\"color: #008000; text-decoration-color: #008000\">│</span> <span style=\"color: #7fbf7f; text-decoration-color: #7fbf7f\">│   │   </span><span style=\"color: #008000; text-decoration-color: #008000\">'XIM_DA/HL11/L1'</span>,                                <span style=\"color: #008000; text-decoration-color: #008000\">│</span> <span style=\"color: #000080; text-decoration-color: #000080\">│</span>\n",
       "<span style=\"color: #000080; text-decoration-color: #000080\">│</span> <span style=\"color: #008000; text-decoration-color: #008000\">│</span> <span style=\"color: #7fbf7f; text-decoration-color: #7fbf7f\">│   │   </span><span style=\"color: #008000; text-decoration-color: #008000\">'XIM_CII/HU10/U'</span>,                                <span style=\"color: #008000; text-decoration-color: #008000\">│</span> <span style=\"color: #000080; text-decoration-color: #000080\">│</span>\n",
       "<span style=\"color: #000080; text-decoration-color: #000080\">│</span> <span style=\"color: #008000; text-decoration-color: #008000\">│</span> <span style=\"color: #7fbf7f; text-decoration-color: #7fbf7f\">│   │   </span><span style=\"color: #008000; text-decoration-color: #008000\">'XIM_DA/HU10/U1'</span>,                                <span style=\"color: #008000; text-decoration-color: #008000\">│</span> <span style=\"color: #000080; text-decoration-color: #000080\">│</span>\n",
       "<span style=\"color: #000080; text-decoration-color: #000080\">│</span> <span style=\"color: #008000; text-decoration-color: #008000\">│</span> <span style=\"color: #7fbf7f; text-decoration-color: #7fbf7f\">│   │   </span><span style=\"color: #008000; text-decoration-color: #008000\">'XIM_DA/HL11/R1'</span>,                                <span style=\"color: #008000; text-decoration-color: #008000\">│</span> <span style=\"color: #000080; text-decoration-color: #000080\">│</span>\n",
       "<span style=\"color: #000080; text-decoration-color: #000080\">│</span> <span style=\"color: #008000; text-decoration-color: #008000\">│</span> <span style=\"color: #7fbf7f; text-decoration-color: #7fbf7f\">│   │   </span><span style=\"color: #008000; text-decoration-color: #008000\">'XIM_TRIGGER'</span>,                                   <span style=\"color: #008000; text-decoration-color: #008000\">│</span> <span style=\"color: #000080; text-decoration-color: #000080\">│</span>\n",
       "<span style=\"color: #000080; text-decoration-color: #000080\">│</span> <span style=\"color: #008000; text-decoration-color: #008000\">│</span> <span style=\"color: #7fbf7f; text-decoration-color: #7fbf7f\">│   │   </span><span style=\"color: #808000; text-decoration-color: #808000\">...</span> +<span style=\"color: #008080; text-decoration-color: #008080; font-weight: bold\">14</span>                                          <span style=\"color: #008000; text-decoration-color: #008000\">│</span> <span style=\"color: #000080; text-decoration-color: #000080\">│</span>\n",
       "<span style=\"color: #000080; text-decoration-color: #000080\">│</span> <span style=\"color: #008000; text-decoration-color: #008000\">│</span> <span style=\"color: #7fbf7f; text-decoration-color: #7fbf7f\">│   </span><span style=\"font-weight: bold\">}</span>,                                                   <span style=\"color: #008000; text-decoration-color: #008000\">│</span> <span style=\"color: #000080; text-decoration-color: #000080\">│</span>\n",
       "<span style=\"color: #000080; text-decoration-color: #000080\">│</span> <span style=\"color: #008000; text-decoration-color: #008000\">│</span> <span style=\"color: #7fbf7f; text-decoration-color: #7fbf7f\">│   </span><span style=\"color: #008000; text-decoration-color: #008000\">'xlp'</span>: <span style=\"font-weight: bold\">{</span>                                             <span style=\"color: #008000; text-decoration-color: #008000\">│</span> <span style=\"color: #000080; text-decoration-color: #000080\">│</span>\n",
       "<span style=\"color: #000080; text-decoration-color: #000080\">│</span> <span style=\"color: #008000; text-decoration-color: #008000\">│</span> <span style=\"color: #7fbf7f; text-decoration-color: #7fbf7f\">│   │   </span><span style=\"color: #008000; text-decoration-color: #008000\">'XLP_V8'</span>,                                        <span style=\"color: #008000; text-decoration-color: #008000\">│</span> <span style=\"color: #000080; text-decoration-color: #000080\">│</span>\n",
       "<span style=\"color: #000080; text-decoration-color: #000080\">│</span> <span style=\"color: #008000; text-decoration-color: #008000\">│</span> <span style=\"color: #7fbf7f; text-decoration-color: #7fbf7f\">│   │   </span><span style=\"color: #008000; text-decoration-color: #008000\">'XLP_I10'</span>,                                       <span style=\"color: #008000; text-decoration-color: #008000\">│</span> <span style=\"color: #000080; text-decoration-color: #000080\">│</span>\n",
       "<span style=\"color: #000080; text-decoration-color: #000080\">│</span> <span style=\"color: #008000; text-decoration-color: #008000\">│</span> <span style=\"color: #7fbf7f; text-decoration-color: #7fbf7f\">│   │   </span><span style=\"color: #008000; text-decoration-color: #008000\">'XLP_V1'</span>,                                        <span style=\"color: #008000; text-decoration-color: #008000\">│</span> <span style=\"color: #000080; text-decoration-color: #000080\">│</span>\n",
       "<span style=\"color: #000080; text-decoration-color: #000080\">│</span> <span style=\"color: #008000; text-decoration-color: #008000\">│</span> <span style=\"color: #7fbf7f; text-decoration-color: #7fbf7f\">│   │   </span><span style=\"color: #008000; text-decoration-color: #008000\">'XLP_M8'</span>,                                        <span style=\"color: #008000; text-decoration-color: #008000\">│</span> <span style=\"color: #000080; text-decoration-color: #000080\">│</span>\n",
       "<span style=\"color: #000080; text-decoration-color: #000080\">│</span> <span style=\"color: #008000; text-decoration-color: #008000\">│</span> <span style=\"color: #7fbf7f; text-decoration-color: #7fbf7f\">│   │   </span><span style=\"color: #008000; text-decoration-color: #008000\">'XLP_V9'</span>,                                        <span style=\"color: #008000; text-decoration-color: #008000\">│</span> <span style=\"color: #000080; text-decoration-color: #000080\">│</span>\n",
       "<span style=\"color: #000080; text-decoration-color: #000080\">│</span> <span style=\"color: #008000; text-decoration-color: #008000\">│</span> <span style=\"color: #7fbf7f; text-decoration-color: #7fbf7f\">│   │   </span><span style=\"color: #008000; text-decoration-color: #008000\">'XLP_I4'</span>,                                        <span style=\"color: #008000; text-decoration-color: #008000\">│</span> <span style=\"color: #000080; text-decoration-color: #000080\">│</span>\n",
       "<span style=\"color: #000080; text-decoration-color: #000080\">│</span> <span style=\"color: #008000; text-decoration-color: #008000\">│</span> <span style=\"color: #7fbf7f; text-decoration-color: #7fbf7f\">│   │   </span><span style=\"color: #008000; text-decoration-color: #008000\">'XLP_V7'</span>,                                        <span style=\"color: #008000; text-decoration-color: #008000\">│</span> <span style=\"color: #000080; text-decoration-color: #000080\">│</span>\n",
       "<span style=\"color: #000080; text-decoration-color: #000080\">│</span> <span style=\"color: #008000; text-decoration-color: #008000\">│</span> <span style=\"color: #7fbf7f; text-decoration-color: #7fbf7f\">│   │   </span><span style=\"color: #008000; text-decoration-color: #008000\">'XLP_I12'</span>,                                       <span style=\"color: #008000; text-decoration-color: #008000\">│</span> <span style=\"color: #000080; text-decoration-color: #000080\">│</span>\n",
       "<span style=\"color: #000080; text-decoration-color: #000080\">│</span> <span style=\"color: #008000; text-decoration-color: #008000\">│</span> <span style=\"color: #7fbf7f; text-decoration-color: #7fbf7f\">│   │   </span><span style=\"color: #008000; text-decoration-color: #008000\">'XLP_V2'</span>,                                        <span style=\"color: #008000; text-decoration-color: #008000\">│</span> <span style=\"color: #000080; text-decoration-color: #000080\">│</span>\n",
       "<span style=\"color: #000080; text-decoration-color: #000080\">│</span> <span style=\"color: #008000; text-decoration-color: #008000\">│</span> <span style=\"color: #7fbf7f; text-decoration-color: #7fbf7f\">│   │   </span><span style=\"color: #008000; text-decoration-color: #008000\">'XLP_M1'</span>,                                        <span style=\"color: #008000; text-decoration-color: #008000\">│</span> <span style=\"color: #000080; text-decoration-color: #000080\">│</span>\n",
       "<span style=\"color: #000080; text-decoration-color: #000080\">│</span> <span style=\"color: #008000; text-decoration-color: #008000\">│</span> <span style=\"color: #7fbf7f; text-decoration-color: #7fbf7f\">│   │   </span><span style=\"color: #808000; text-decoration-color: #808000\">...</span> +<span style=\"color: #008080; text-decoration-color: #008080; font-weight: bold\">30</span>                                          <span style=\"color: #008000; text-decoration-color: #008000\">│</span> <span style=\"color: #000080; text-decoration-color: #000080\">│</span>\n",
       "<span style=\"color: #000080; text-decoration-color: #000080\">│</span> <span style=\"color: #008000; text-decoration-color: #008000\">│</span> <span style=\"color: #7fbf7f; text-decoration-color: #7fbf7f\">│   </span><span style=\"font-weight: bold\">}</span>,                                                   <span style=\"color: #008000; text-decoration-color: #008000\">│</span> <span style=\"color: #000080; text-decoration-color: #000080\">│</span>\n",
       "<span style=\"color: #000080; text-decoration-color: #000080\">│</span> <span style=\"color: #008000; text-decoration-color: #008000\">│</span> <span style=\"color: #7fbf7f; text-decoration-color: #7fbf7f\">│   </span><span style=\"color: #008000; text-decoration-color: #008000\">'xcm'</span>: <span style=\"font-weight: bold\">{</span>                                             <span style=\"color: #008000; text-decoration-color: #008000\">│</span> <span style=\"color: #000080; text-decoration-color: #000080\">│</span>\n",
       "<span style=\"color: #000080; text-decoration-color: #000080\">│</span> <span style=\"color: #008000; text-decoration-color: #008000\">│</span> <span style=\"color: #7fbf7f; text-decoration-color: #7fbf7f\">│   │   </span><span style=\"color: #008000; text-decoration-color: #008000\">'XCM_MFPS RELEASE'</span>,                              <span style=\"color: #008000; text-decoration-color: #008000\">│</span> <span style=\"color: #000080; text-decoration-color: #000080\">│</span>\n",
       "<span style=\"color: #000080; text-decoration-color: #000080\">│</span> <span style=\"color: #008000; text-decoration-color: #008000\">│</span> <span style=\"color: #7fbf7f; text-decoration-color: #7fbf7f\">│   │   </span><span style=\"color: #008000; text-decoration-color: #008000\">'XCM_TC_TH3'</span>,                                    <span style=\"color: #008000; text-decoration-color: #008000\">│</span> <span style=\"color: #000080; text-decoration-color: #000080\">│</span>\n",
       "<span style=\"color: #000080; text-decoration-color: #000080\">│</span> <span style=\"color: #008000; text-decoration-color: #008000\">│</span> <span style=\"color: #7fbf7f; text-decoration-color: #7fbf7f\">│   │   </span><span style=\"color: #008000; text-decoration-color: #008000\">'XCM_P1PS I'</span>,                                    <span style=\"color: #008000; text-decoration-color: #008000\">│</span> <span style=\"color: #000080; text-decoration-color: #000080\">│</span>\n",
       "<span style=\"color: #000080; text-decoration-color: #000080\">│</span> <span style=\"color: #008000; text-decoration-color: #008000\">│</span> <span style=\"color: #7fbf7f; text-decoration-color: #7fbf7f\">│   │   </span><span style=\"color: #008000; text-decoration-color: #008000\">'XCM_L8212A#4'</span>,                                  <span style=\"color: #008000; text-decoration-color: #008000\">│</span> <span style=\"color: #000080; text-decoration-color: #000080\">│</span>\n",
       "<span style=\"color: #000080; text-decoration-color: #000080\">│</span> <span style=\"color: #008000; text-decoration-color: #008000\">│</span> <span style=\"color: #7fbf7f; text-decoration-color: #7fbf7f\">│   │   </span><span style=\"color: #008000; text-decoration-color: #008000\">'XCM_S4 POSITION'</span>,                               <span style=\"color: #008000; text-decoration-color: #008000\">│</span> <span style=\"color: #000080; text-decoration-color: #000080\">│</span>\n",
       "<span style=\"color: #000080; text-decoration-color: #000080\">│</span> <span style=\"color: #008000; text-decoration-color: #008000\">│</span> <span style=\"color: #7fbf7f; text-decoration-color: #7fbf7f\">│   │   </span><span style=\"color: #008000; text-decoration-color: #008000\">'XCM_TEST_CH16'</span>,                                 <span style=\"color: #008000; text-decoration-color: #008000\">│</span> <span style=\"color: #000080; text-decoration-color: #000080\">│</span>\n",
       "<span style=\"color: #000080; text-decoration-color: #000080\">│</span> <span style=\"color: #008000; text-decoration-color: #008000\">│</span> <span style=\"color: #7fbf7f; text-decoration-color: #7fbf7f\">│   │   </span><span style=\"color: #008000; text-decoration-color: #008000\">'XCM_MFPS VOLTS'</span>,                                <span style=\"color: #008000; text-decoration-color: #008000\">│</span> <span style=\"color: #000080; text-decoration-color: #000080\">│</span>\n",
       "<span style=\"color: #000080; text-decoration-color: #000080\">│</span> <span style=\"color: #008000; text-decoration-color: #008000\">│</span> <span style=\"color: #7fbf7f; text-decoration-color: #7fbf7f\">│   │   </span><span style=\"color: #008000; text-decoration-color: #008000\">'XCM_TC_REFBOT'</span>,                                 <span style=\"color: #008000; text-decoration-color: #008000\">│</span> <span style=\"color: #000080; text-decoration-color: #000080\">│</span>\n",
       "<span style=\"color: #000080; text-decoration-color: #000080\">│</span> <span style=\"color: #008000; text-decoration-color: #008000\">│</span> <span style=\"color: #7fbf7f; text-decoration-color: #7fbf7f\">│   │   </span><span style=\"color: #008000; text-decoration-color: #008000\">'XCM_TC_BH3'</span>,                                    <span style=\"color: #008000; text-decoration-color: #008000\">│</span> <span style=\"color: #000080; text-decoration-color: #000080\">│</span>\n",
       "<span style=\"color: #000080; text-decoration-color: #000080\">│</span> <span style=\"color: #008000; text-decoration-color: #008000\">│</span> <span style=\"color: #7fbf7f; text-decoration-color: #7fbf7f\">│   │   </span><span style=\"color: #008000; text-decoration-color: #008000\">'XCM_33KV SUPPLY'</span>,                               <span style=\"color: #008000; text-decoration-color: #008000\">│</span> <span style=\"color: #000080; text-decoration-color: #000080\">│</span>\n",
       "<span style=\"color: #000080; text-decoration-color: #000080\">│</span> <span style=\"color: #008000; text-decoration-color: #008000\">│</span> <span style=\"color: #7fbf7f; text-decoration-color: #7fbf7f\">│   │   </span><span style=\"color: #808000; text-decoration-color: #808000\">...</span> +<span style=\"color: #008080; text-decoration-color: #008080; font-weight: bold\">60</span>                                          <span style=\"color: #008000; text-decoration-color: #008000\">│</span> <span style=\"color: #000080; text-decoration-color: #000080\">│</span>\n",
       "<span style=\"color: #000080; text-decoration-color: #000080\">│</span> <span style=\"color: #008000; text-decoration-color: #008000\">│</span> <span style=\"color: #7fbf7f; text-decoration-color: #7fbf7f\">│   </span><span style=\"font-weight: bold\">}</span>,                                                   <span style=\"color: #008000; text-decoration-color: #008000\">│</span> <span style=\"color: #000080; text-decoration-color: #000080\">│</span>\n",
       "<span style=\"color: #000080; text-decoration-color: #000080\">│</span> <span style=\"color: #008000; text-decoration-color: #008000\">│</span> <span style=\"color: #7fbf7f; text-decoration-color: #7fbf7f\">│   </span><span style=\"color: #008000; text-decoration-color: #008000\">'xfi'</span>: <span style=\"font-weight: bold\">{</span>                                             <span style=\"color: #008000; text-decoration-color: #008000\">│</span> <span style=\"color: #000080; text-decoration-color: #000080\">│</span>\n",
       "<span style=\"color: #000080; text-decoration-color: #000080\">│</span> <span style=\"color: #008000; text-decoration-color: #008000\">│</span> <span style=\"color: #7fbf7f; text-decoration-color: #7fbf7f\">│   │   </span><span style=\"color: #008000; text-decoration-color: #008000\">'/XFI/DEVICES/D2_FIDA/SERSIZE'</span>,                  <span style=\"color: #008000; text-decoration-color: #008000\">│</span> <span style=\"color: #000080; text-decoration-color: #000080\">│</span>\n",
       "<span style=\"color: #000080; text-decoration-color: #000080\">│</span> <span style=\"color: #008000; text-decoration-color: #008000\">│</span> <span style=\"color: #7fbf7f; text-decoration-color: #7fbf7f\">│   │   </span><span style=\"color: #008000; text-decoration-color: #008000\">'/XFI/DEVICES/D2_FIDA/CHIPNAME'</span>,                 <span style=\"color: #008000; text-decoration-color: #008000\">│</span> <span style=\"color: #000080; text-decoration-color: #000080\">│</span>\n",
       "<span style=\"color: #000080; text-decoration-color: #000080\">│</span> <span style=\"color: #008000; text-decoration-color: #008000\">│</span> <span style=\"color: #7fbf7f; text-decoration-color: #7fbf7f\">│   │   </span><span style=\"color: #008000; text-decoration-color: #008000\">'/XFI/DEVICES/D2_FIDA/CLEARCYCLES'</span>,              <span style=\"color: #008000; text-decoration-color: #008000\">│</span> <span style=\"color: #000080; text-decoration-color: #000080\">│</span>\n",
       "<span style=\"color: #000080; text-decoration-color: #000080\">│</span> <span style=\"color: #008000; text-decoration-color: #008000\">│</span> <span style=\"color: #7fbf7f; text-decoration-color: #7fbf7f\">│   │   </span><span style=\"color: #008000; text-decoration-color: #008000\">'/XFI/BIN/8'</span>,                                    <span style=\"color: #008000; text-decoration-color: #008000\">│</span> <span style=\"color: #000080; text-decoration-color: #000080\">│</span>\n",
       "<span style=\"color: #000080; text-decoration-color: #000080\">│</span> <span style=\"color: #008000; text-decoration-color: #008000\">│</span> <span style=\"color: #7fbf7f; text-decoration-color: #7fbf7f\">│   │   </span><span style=\"color: #008000; text-decoration-color: #008000\">'/XFI/PIXEL1'</span>,                                   <span style=\"color: #008000; text-decoration-color: #008000\">│</span> <span style=\"color: #000080; text-decoration-color: #000080\">│</span>\n",
       "<span style=\"color: #000080; text-decoration-color: #000080\">│</span> <span style=\"color: #008000; text-decoration-color: #008000\">│</span> <span style=\"color: #7fbf7f; text-decoration-color: #7fbf7f\">│   │   </span><span style=\"color: #008000; text-decoration-color: #008000\">'/XFI/BIN/1'</span>,                                    <span style=\"color: #008000; text-decoration-color: #008000\">│</span> <span style=\"color: #000080; text-decoration-color: #000080\">│</span>\n",
       "<span style=\"color: #000080; text-decoration-color: #000080\">│</span> <span style=\"color: #008000; text-decoration-color: #008000\">│</span> <span style=\"color: #7fbf7f; text-decoration-color: #7fbf7f\">│   │   </span><span style=\"color: #008000; text-decoration-color: #008000\">'/XFI/BIN/2'</span>,                                    <span style=\"color: #008000; text-decoration-color: #008000\">│</span> <span style=\"color: #000080; text-decoration-color: #000080\">│</span>\n",
       "<span style=\"color: #000080; text-decoration-color: #000080\">│</span> <span style=\"color: #008000; text-decoration-color: #008000\">│</span> <span style=\"color: #7fbf7f; text-decoration-color: #7fbf7f\">│   │   </span><span style=\"color: #008000; text-decoration-color: #008000\">'/XFI/DEVICES/D2_FIDA/READOUT'</span>,                  <span style=\"color: #008000; text-decoration-color: #008000\">│</span> <span style=\"color: #000080; text-decoration-color: #000080\">│</span>\n",
       "<span style=\"color: #000080; text-decoration-color: #000080\">│</span> <span style=\"color: #008000; text-decoration-color: #008000\">│</span> <span style=\"color: #7fbf7f; text-decoration-color: #7fbf7f\">│   │   </span><span style=\"color: #008000; text-decoration-color: #008000\">'/XFI/BIN/6'</span>,                                    <span style=\"color: #008000; text-decoration-color: #008000\">│</span> <span style=\"color: #000080; text-decoration-color: #000080\">│</span>\n",
       "<span style=\"color: #000080; text-decoration-color: #000080\">│</span> <span style=\"color: #008000; text-decoration-color: #008000\">│</span> <span style=\"color: #7fbf7f; text-decoration-color: #7fbf7f\">│   │   </span><span style=\"color: #008000; text-decoration-color: #008000\">'/XFI/BIN/3'</span>,                                    <span style=\"color: #008000; text-decoration-color: #008000\">│</span> <span style=\"color: #000080; text-decoration-color: #000080\">│</span>\n",
       "<span style=\"color: #000080; text-decoration-color: #000080\">│</span> <span style=\"color: #008000; text-decoration-color: #008000\">│</span> <span style=\"color: #7fbf7f; text-decoration-color: #7fbf7f\">│   │   </span><span style=\"color: #808000; text-decoration-color: #808000\">...</span> +<span style=\"color: #008080; text-decoration-color: #008080; font-weight: bold\">20</span>                                          <span style=\"color: #008000; text-decoration-color: #008000\">│</span> <span style=\"color: #000080; text-decoration-color: #000080\">│</span>\n",
       "<span style=\"color: #000080; text-decoration-color: #000080\">│</span> <span style=\"color: #008000; text-decoration-color: #008000\">│</span> <span style=\"color: #7fbf7f; text-decoration-color: #7fbf7f\">│   </span><span style=\"font-weight: bold\">}</span>,                                                   <span style=\"color: #008000; text-decoration-color: #008000\">│</span> <span style=\"color: #000080; text-decoration-color: #000080\">│</span>\n",
       "<span style=\"color: #000080; text-decoration-color: #000080\">│</span> <span style=\"color: #008000; text-decoration-color: #008000\">│</span> <span style=\"color: #7fbf7f; text-decoration-color: #7fbf7f\">│   </span><span style=\"color: #008000; text-decoration-color: #008000\">'amb'</span>: <span style=\"font-weight: bold\">{</span>                                             <span style=\"color: #008000; text-decoration-color: #008000\">│</span> <span style=\"color: #000080; text-decoration-color: #000080\">│</span>\n",
       "<span style=\"color: #000080; text-decoration-color: #000080\">│</span> <span style=\"color: #008000; text-decoration-color: #008000\">│</span> <span style=\"color: #7fbf7f; text-decoration-color: #7fbf7f\">│   │   </span><span style=\"color: #008000; text-decoration-color: #008000\">'AMB_OBR14'</span>,                                     <span style=\"color: #008000; text-decoration-color: #008000\">│</span> <span style=\"color: #000080; text-decoration-color: #000080\">│</span>\n",
       "<span style=\"color: #000080; text-decoration-color: #000080\">│</span> <span style=\"color: #008000; text-decoration-color: #008000\">│</span> <span style=\"color: #7fbf7f; text-decoration-color: #7fbf7f\">│   │   </span><span style=\"color: #008000; text-decoration-color: #008000\">'AMB_CCBV19'</span>,                                    <span style=\"color: #008000; text-decoration-color: #008000\">│</span> <span style=\"color: #000080; text-decoration-color: #000080\">│</span>\n",
       "<span style=\"color: #000080; text-decoration-color: #000080\">│</span> <span style=\"color: #008000; text-decoration-color: #008000\">│</span> <span style=\"color: #7fbf7f; text-decoration-color: #7fbf7f\">│   │   </span><span style=\"color: #008000; text-decoration-color: #008000\">'AMB_CCBV11'</span>,                                    <span style=\"color: #008000; text-decoration-color: #008000\">│</span> <span style=\"color: #000080; text-decoration-color: #000080\">│</span>\n",
       "<span style=\"color: #000080; text-decoration-color: #000080\">│</span> <span style=\"color: #008000; text-decoration-color: #008000\">│</span> <span style=\"color: #7fbf7f; text-decoration-color: #7fbf7f\">│   │   </span><span style=\"color: #008000; text-decoration-color: #008000\">'AMB_CCBV20'</span>,                                    <span style=\"color: #008000; text-decoration-color: #008000\">│</span> <span style=\"color: #000080; text-decoration-color: #000080\">│</span>\n",
       "<span style=\"color: #000080; text-decoration-color: #000080\">│</span> <span style=\"color: #008000; text-decoration-color: #008000\">│</span> <span style=\"color: #7fbf7f; text-decoration-color: #7fbf7f\">│   │   </span><span style=\"color: #008000; text-decoration-color: #008000\">'AMB_OBR18'</span>,                                     <span style=\"color: #008000; text-decoration-color: #008000\">│</span> <span style=\"color: #000080; text-decoration-color: #000080\">│</span>\n",
       "<span style=\"color: #000080; text-decoration-color: #000080\">│</span> <span style=\"color: #008000; text-decoration-color: #008000\">│</span> <span style=\"color: #7fbf7f; text-decoration-color: #7fbf7f\">│   │   </span><span style=\"color: #008000; text-decoration-color: #008000\">'AMB_CCBV05'</span>,                                    <span style=\"color: #008000; text-decoration-color: #008000\">│</span> <span style=\"color: #000080; text-decoration-color: #000080\">│</span>\n",
       "<span style=\"color: #000080; text-decoration-color: #000080\">│</span> <span style=\"color: #008000; text-decoration-color: #008000\">│</span> <span style=\"color: #7fbf7f; text-decoration-color: #7fbf7f\">│   │   </span><span style=\"color: #008000; text-decoration-color: #008000\">'AMB_OBR15'</span>,                                     <span style=\"color: #008000; text-decoration-color: #008000\">│</span> <span style=\"color: #000080; text-decoration-color: #000080\">│</span>\n",
       "<span style=\"color: #000080; text-decoration-color: #000080\">│</span> <span style=\"color: #008000; text-decoration-color: #008000\">│</span> <span style=\"color: #7fbf7f; text-decoration-color: #7fbf7f\">│   │   </span><span style=\"color: #008000; text-decoration-color: #008000\">'AMB_CCBV21'</span>,                                    <span style=\"color: #008000; text-decoration-color: #008000\">│</span> <span style=\"color: #000080; text-decoration-color: #000080\">│</span>\n",
       "<span style=\"color: #000080; text-decoration-color: #000080\">│</span> <span style=\"color: #008000; text-decoration-color: #008000\">│</span> <span style=\"color: #7fbf7f; text-decoration-color: #7fbf7f\">│   │   </span><span style=\"color: #008000; text-decoration-color: #008000\">'AMB_OBR12'</span>,                                     <span style=\"color: #008000; text-decoration-color: #008000\">│</span> <span style=\"color: #000080; text-decoration-color: #000080\">│</span>\n",
       "<span style=\"color: #000080; text-decoration-color: #000080\">│</span> <span style=\"color: #008000; text-decoration-color: #008000\">│</span> <span style=\"color: #7fbf7f; text-decoration-color: #7fbf7f\">│   │   </span><span style=\"color: #008000; text-decoration-color: #008000\">'AMB_FL/P5U/1'</span>,                                  <span style=\"color: #008000; text-decoration-color: #008000\">│</span> <span style=\"color: #000080; text-decoration-color: #000080\">│</span>\n",
       "<span style=\"color: #000080; text-decoration-color: #000080\">│</span> <span style=\"color: #008000; text-decoration-color: #008000\">│</span> <span style=\"color: #7fbf7f; text-decoration-color: #7fbf7f\">│   │   </span><span style=\"color: #808000; text-decoration-color: #808000\">...</span> +<span style=\"color: #008080; text-decoration-color: #008080; font-weight: bold\">74</span>                                          <span style=\"color: #008000; text-decoration-color: #008000\">│</span> <span style=\"color: #000080; text-decoration-color: #000080\">│</span>\n",
       "<span style=\"color: #000080; text-decoration-color: #000080\">│</span> <span style=\"color: #008000; text-decoration-color: #008000\">│</span> <span style=\"color: #7fbf7f; text-decoration-color: #7fbf7f\">│   </span><span style=\"font-weight: bold\">}</span>,                                                   <span style=\"color: #008000; text-decoration-color: #008000\">│</span> <span style=\"color: #000080; text-decoration-color: #000080\">│</span>\n",
       "<span style=\"color: #000080; text-decoration-color: #000080\">│</span> <span style=\"color: #008000; text-decoration-color: #008000\">│</span> <span style=\"color: #7fbf7f; text-decoration-color: #7fbf7f\">│   </span><span style=\"color: #008000; text-decoration-color: #008000\">'xpc'</span>: <span style=\"font-weight: bold\">{</span>                                             <span style=\"color: #008000; text-decoration-color: #008000\">│</span> <span style=\"color: #000080; text-decoration-color: #000080\">│</span>\n",
       "<span style=\"color: #000080; text-decoration-color: #000080\">│</span> <span style=\"color: #008000; text-decoration-color: #008000\">│</span> <span style=\"color: #7fbf7f; text-decoration-color: #7fbf7f\">│   │   </span><span style=\"color: #008000; text-decoration-color: #008000\">'XPC_TRCF_0104_11'</span>,                              <span style=\"color: #008000; text-decoration-color: #008000\">│</span> <span style=\"color: #000080; text-decoration-color: #000080\">│</span>\n",
       "<span style=\"color: #000080; text-decoration-color: #000080\">│</span> <span style=\"color: #008000; text-decoration-color: #008000\">│</span> <span style=\"color: #7fbf7f; text-decoration-color: #7fbf7f\">│   │   </span><span style=\"color: #008000; text-decoration-color: #008000\">'XPC_GAS IBFUA DRIVE'</span>,                           <span style=\"color: #008000; text-decoration-color: #008000\">│</span> <span style=\"color: #000080; text-decoration-color: #000080\">│</span>\n",
       "<span style=\"color: #000080; text-decoration-color: #000080\">│</span> <span style=\"color: #008000; text-decoration-color: #008000\">│</span> <span style=\"color: #7fbf7f; text-decoration-color: #7fbf7f\">│   │   </span><span style=\"color: #008000; text-decoration-color: #008000\">'XPC_GAS HM12B REF'</span>,                             <span style=\"color: #008000; text-decoration-color: #008000\">│</span> <span style=\"color: #000080; text-decoration-color: #000080\">│</span>\n",
       "<span style=\"color: #000080; text-decoration-color: #000080\">│</span> <span style=\"color: #008000; text-decoration-color: #008000\">│</span> <span style=\"color: #7fbf7f; text-decoration-color: #7fbf7f\">│   │   </span><span style=\"color: #008000; text-decoration-color: #008000\">'XPC_LINCAM2'</span>,                                   <span style=\"color: #008000; text-decoration-color: #008000\">│</span> <span style=\"color: #000080; text-decoration-color: #000080\">│</span>\n",
       "<span style=\"color: #000080; text-decoration-color: #000080\">│</span> <span style=\"color: #008000; text-decoration-color: #008000\">│</span> <span style=\"color: #7fbf7f; text-decoration-color: #7fbf7f\">│   │   </span><span style=\"color: #008000; text-decoration-color: #008000\">'XPC_GAS TC5B REF'</span>,                              <span style=\"color: #008000; text-decoration-color: #008000\">│</span> <span style=\"color: #000080; text-decoration-color: #000080\">│</span>\n",
       "<span style=\"color: #000080; text-decoration-color: #000080\">│</span> <span style=\"color: #008000; text-decoration-color: #008000\">│</span> <span style=\"color: #7fbf7f; text-decoration-color: #7fbf7f\">│   │   </span><span style=\"color: #008000; text-decoration-color: #008000\">'XPC_GAS BC5 REF'</span>,                               <span style=\"color: #008000; text-decoration-color: #008000\">│</span> <span style=\"color: #000080; text-decoration-color: #000080\">│</span>\n",
       "<span style=\"color: #000080; text-decoration-color: #000080\">│</span> <span style=\"color: #008000; text-decoration-color: #008000\">│</span> <span style=\"color: #7fbf7f; text-decoration-color: #7fbf7f\">│   │   </span><span style=\"color: #008000; text-decoration-color: #008000\">'XPC_NBI SS CURRENT'</span>,                            <span style=\"color: #008000; text-decoration-color: #008000\">│</span> <span style=\"color: #000080; text-decoration-color: #000080\">│</span>\n",
       "<span style=\"color: #000080; text-decoration-color: #000080\">│</span> <span style=\"color: #008000; text-decoration-color: #008000\">│</span> <span style=\"color: #7fbf7f; text-decoration-color: #7fbf7f\">│   │   </span><span style=\"color: #008000; text-decoration-color: #008000\">'XPC_TRCF_0104_6'</span>,                               <span style=\"color: #008000; text-decoration-color: #008000\">│</span> <span style=\"color: #000080; text-decoration-color: #000080\">│</span>\n",
       "<span style=\"color: #000080; text-decoration-color: #000080\">│</span> <span style=\"color: #008000; text-decoration-color: #008000\">│</span> <span style=\"color: #7fbf7f; text-decoration-color: #7fbf7f\">│   │   </span><span style=\"color: #008000; text-decoration-color: #008000\">'XPC_GAS TC5B DRIVE'</span>,                            <span style=\"color: #008000; text-decoration-color: #008000\">│</span> <span style=\"color: #000080; text-decoration-color: #000080\">│</span>\n",
       "<span style=\"color: #000080; text-decoration-color: #000080\">│</span> <span style=\"color: #008000; text-decoration-color: #008000\">│</span> <span style=\"color: #7fbf7f; text-decoration-color: #7fbf7f\">│   │   </span><span style=\"color: #008000; text-decoration-color: #008000\">'XPC_GAS IBFUB REF'</span>,                             <span style=\"color: #008000; text-decoration-color: #008000\">│</span> <span style=\"color: #000080; text-decoration-color: #000080\">│</span>\n",
       "<span style=\"color: #000080; text-decoration-color: #000080\">│</span> <span style=\"color: #008000; text-decoration-color: #008000\">│</span> <span style=\"color: #7fbf7f; text-decoration-color: #7fbf7f\">│   │   </span><span style=\"color: #808000; text-decoration-color: #808000\">...</span> +<span style=\"color: #008080; text-decoration-color: #008080; font-weight: bold\">60</span>                                          <span style=\"color: #008000; text-decoration-color: #008000\">│</span> <span style=\"color: #000080; text-decoration-color: #000080\">│</span>\n",
       "<span style=\"color: #000080; text-decoration-color: #000080\">│</span> <span style=\"color: #008000; text-decoration-color: #008000\">│</span> <span style=\"color: #7fbf7f; text-decoration-color: #7fbf7f\">│   </span><span style=\"font-weight: bold\">}</span>,                                                   <span style=\"color: #008000; text-decoration-color: #008000\">│</span> <span style=\"color: #000080; text-decoration-color: #000080\">│</span>\n",
       "<span style=\"color: #000080; text-decoration-color: #000080\">│</span> <span style=\"color: #008000; text-decoration-color: #008000\">│</span> <span style=\"color: #7fbf7f; text-decoration-color: #7fbf7f\">│   </span><span style=\"color: #008000; text-decoration-color: #008000\">'xsx'</span>: <span style=\"font-weight: bold\">{</span>                                             <span style=\"color: #008000; text-decoration-color: #008000\">│</span> <span style=\"color: #000080; text-decoration-color: #000080\">│</span>\n",
       "<span style=\"color: #000080; text-decoration-color: #000080\">│</span> <span style=\"color: #008000; text-decoration-color: #008000\">│</span> <span style=\"color: #7fbf7f; text-decoration-color: #7fbf7f\">│   │   </span><span style=\"color: #008000; text-decoration-color: #008000\">'/XSX/HCAM/U/17'</span>,                                <span style=\"color: #008000; text-decoration-color: #008000\">│</span> <span style=\"color: #000080; text-decoration-color: #000080\">│</span>\n",
       "<span style=\"color: #000080; text-decoration-color: #000080\">│</span> <span style=\"color: #008000; text-decoration-color: #008000\">│</span> <span style=\"color: #7fbf7f; text-decoration-color: #7fbf7f\">│   │   </span><span style=\"color: #008000; text-decoration-color: #008000\">'/XSX/HCAM/U/14'</span>,                                <span style=\"color: #008000; text-decoration-color: #008000\">│</span> <span style=\"color: #000080; text-decoration-color: #000080\">│</span>\n",
       "<span style=\"color: #000080; text-decoration-color: #000080\">│</span> <span style=\"color: #008000; text-decoration-color: #008000\">│</span> <span style=\"color: #7fbf7f; text-decoration-color: #7fbf7f\">│   │   </span><span style=\"color: #008000; text-decoration-color: #008000\">'/XSX/TCAM/17'</span>,                                  <span style=\"color: #008000; text-decoration-color: #008000\">│</span> <span style=\"color: #000080; text-decoration-color: #000080\">│</span>\n",
       "<span style=\"color: #000080; text-decoration-color: #000080\">│</span> <span style=\"color: #008000; text-decoration-color: #008000\">│</span> <span style=\"color: #7fbf7f; text-decoration-color: #7fbf7f\">│   │   </span><span style=\"color: #008000; text-decoration-color: #008000\">'/XSX/TCAM/9'</span>,                                   <span style=\"color: #008000; text-decoration-color: #008000\">│</span> <span style=\"color: #000080; text-decoration-color: #000080\">│</span>\n",
       "<span style=\"color: #000080; text-decoration-color: #000080\">│</span> <span style=\"color: #008000; text-decoration-color: #008000\">│</span> <span style=\"color: #7fbf7f; text-decoration-color: #7fbf7f\">│   │   </span><span style=\"color: #008000; text-decoration-color: #008000\">'/XSX/TCAM/2'</span>,                                   <span style=\"color: #008000; text-decoration-color: #008000\">│</span> <span style=\"color: #000080; text-decoration-color: #000080\">│</span>\n",
       "<span style=\"color: #000080; text-decoration-color: #000080\">│</span> <span style=\"color: #008000; text-decoration-color: #008000\">│</span> <span style=\"color: #7fbf7f; text-decoration-color: #7fbf7f\">│   │   </span><span style=\"color: #008000; text-decoration-color: #008000\">'/XSX/HCAM/L/14'</span>,                                <span style=\"color: #008000; text-decoration-color: #008000\">│</span> <span style=\"color: #000080; text-decoration-color: #000080\">│</span>\n",
       "<span style=\"color: #000080; text-decoration-color: #000080\">│</span> <span style=\"color: #008000; text-decoration-color: #008000\">│</span> <span style=\"color: #7fbf7f; text-decoration-color: #7fbf7f\">│   │   </span><span style=\"color: #008000; text-decoration-color: #008000\">'/XSX/HCAM/L/3'</span>,                                 <span style=\"color: #008000; text-decoration-color: #008000\">│</span> <span style=\"color: #000080; text-decoration-color: #000080\">│</span>\n",
       "<span style=\"color: #000080; text-decoration-color: #000080\">│</span> <span style=\"color: #008000; text-decoration-color: #008000\">│</span> <span style=\"color: #7fbf7f; text-decoration-color: #7fbf7f\">│   │   </span><span style=\"color: #008000; text-decoration-color: #008000\">'/XSX/HCAM/L/16'</span>,                                <span style=\"color: #008000; text-decoration-color: #008000\">│</span> <span style=\"color: #000080; text-decoration-color: #000080\">│</span>\n",
       "<span style=\"color: #000080; text-decoration-color: #000080\">│</span> <span style=\"color: #008000; text-decoration-color: #008000\">│</span> <span style=\"color: #7fbf7f; text-decoration-color: #7fbf7f\">│   │   </span><span style=\"color: #008000; text-decoration-color: #008000\">'/XSX/HCAM/U/10'</span>,                                <span style=\"color: #008000; text-decoration-color: #008000\">│</span> <span style=\"color: #000080; text-decoration-color: #000080\">│</span>\n",
       "<span style=\"color: #000080; text-decoration-color: #000080\">│</span> <span style=\"color: #008000; text-decoration-color: #008000\">│</span> <span style=\"color: #7fbf7f; text-decoration-color: #7fbf7f\">│   │   </span><span style=\"color: #008000; text-decoration-color: #008000\">'/XSX/HCAM/U/18'</span>,                                <span style=\"color: #008000; text-decoration-color: #008000\">│</span> <span style=\"color: #000080; text-decoration-color: #000080\">│</span>\n",
       "<span style=\"color: #000080; text-decoration-color: #000080\">│</span> <span style=\"color: #008000; text-decoration-color: #008000\">│</span> <span style=\"color: #7fbf7f; text-decoration-color: #7fbf7f\">│   │   </span><span style=\"color: #808000; text-decoration-color: #808000\">...</span> +<span style=\"color: #008080; text-decoration-color: #008080; font-weight: bold\">49</span>                                          <span style=\"color: #008000; text-decoration-color: #008000\">│</span> <span style=\"color: #000080; text-decoration-color: #000080\">│</span>\n",
       "<span style=\"color: #000080; text-decoration-color: #000080\">│</span> <span style=\"color: #008000; text-decoration-color: #008000\">│</span> <span style=\"color: #7fbf7f; text-decoration-color: #7fbf7f\">│   </span><span style=\"font-weight: bold\">}</span>,                                                   <span style=\"color: #008000; text-decoration-color: #008000\">│</span> <span style=\"color: #000080; text-decoration-color: #000080\">│</span>\n",
       "<span style=\"color: #000080; text-decoration-color: #000080\">│</span> <span style=\"color: #008000; text-decoration-color: #008000\">│</span> <span style=\"color: #7fbf7f; text-decoration-color: #7fbf7f\">│   </span><span style=\"color: #808000; text-decoration-color: #808000\">...</span> +<span style=\"color: #008080; text-decoration-color: #008080; font-weight: bold\">54</span>                                              <span style=\"color: #008000; text-decoration-color: #008000\">│</span> <span style=\"color: #000080; text-decoration-color: #000080\">│</span>\n",
       "<span style=\"color: #000080; text-decoration-color: #000080\">│</span> <span style=\"color: #008000; text-decoration-color: #008000\">│</span> <span style=\"font-weight: bold\">}</span>                                                        <span style=\"color: #008000; text-decoration-color: #008000\">│</span> <span style=\"color: #000080; text-decoration-color: #000080\">│</span>\n",
       "<span style=\"color: #000080; text-decoration-color: #000080\">│</span> <span style=\"color: #008000; text-decoration-color: #008000\">╰──────────────────────────────────────────────────────────╯</span> <span style=\"color: #000080; text-decoration-color: #000080\">│</span>\n",
       "<span style=\"color: #000080; text-decoration-color: #000080\">│</span>                                                              <span style=\"color: #000080; text-decoration-color: #000080\">│</span>\n",
       "<span style=\"color: #000080; text-decoration-color: #000080\">│</span> <span style=\"color: #008080; text-decoration-color: #008080; font-weight: bold\">29</span><span style=\"font-style: italic\"> attribute(s) not shown.</span> Run <span style=\"color: #800080; text-decoration-color: #800080; font-weight: bold\">inspect</span><span style=\"font-weight: bold\">(</span>inspect<span style=\"font-weight: bold\">)</span> for options. <span style=\"color: #000080; text-decoration-color: #000080\">│</span>\n",
       "<span style=\"color: #000080; text-decoration-color: #000080\">╰──────────────────────────────────────────────────────────────╯</span>\n",
       "</pre>\n"
      ],
      "text/plain": [
       "\u001b[34m╭─\u001b[0m\u001b[34m────────────────────── \u001b[0m\u001b[1;34m<\u001b[0m\u001b[1;95mclass\u001b[0m\u001b[39m \u001b[0m\u001b[32m'dict'\u001b[0m\u001b[1;34m>\u001b[0m\u001b[34m ──────────────────────\u001b[0m\u001b[34m─╮\u001b[0m\n",
       "\u001b[34m│\u001b[0m \u001b[32m╭──────────────────────────────────────────────────────────╮\u001b[0m \u001b[34m│\u001b[0m\n",
       "\u001b[34m│\u001b[0m \u001b[32m│\u001b[0m \u001b[1m{\u001b[0m                                                        \u001b[32m│\u001b[0m \u001b[34m│\u001b[0m\n",
       "\u001b[34m│\u001b[0m \u001b[32m│\u001b[0m \u001b[2;32m│   \u001b[0m\u001b[32m'air'\u001b[0m: \u001b[1m{\u001b[0m                                             \u001b[32m│\u001b[0m \u001b[34m│\u001b[0m\n",
       "\u001b[34m│\u001b[0m \u001b[32m│\u001b[0m \u001b[2;32m│   │   \u001b[0m\u001b[32m'AIR_PTOT_OSP_ELM'\u001b[0m,                              \u001b[32m│\u001b[0m \u001b[34m│\u001b[0m\n",
       "\u001b[34m│\u001b[0m \u001b[32m│\u001b[0m \u001b[2;32m│   │   \u001b[0m\u001b[32m'AIR_PHI_START_OSP'\u001b[0m,                             \u001b[32m│\u001b[0m \u001b[34m│\u001b[0m\n",
       "\u001b[34m│\u001b[0m \u001b[32m│\u001b[0m \u001b[2;32m│   │   \u001b[0m\u001b[32m'AIR_PKPOWER_DENSITY_ISP'\u001b[0m,                       \u001b[32m│\u001b[0m \u001b[34m│\u001b[0m\n",
       "\u001b[34m│\u001b[0m \u001b[32m│\u001b[0m \u001b[2;32m│   │   \u001b[0m\u001b[32m'AIR_PASSNUMBER'\u001b[0m,                                \u001b[32m│\u001b[0m \u001b[34m│\u001b[0m\n",
       "\u001b[34m│\u001b[0m \u001b[32m│\u001b[0m \u001b[2;32m│   │   \u001b[0m\u001b[32m'AIR_TEMPERATURE_OSP'\u001b[0m,                           \u001b[32m│\u001b[0m \u001b[34m│\u001b[0m\n",
       "\u001b[34m│\u001b[0m \u001b[32m│\u001b[0m \u001b[2;32m│   │   \u001b[0m\u001b[32m'AIR_Z_EXTENT_ISP'\u001b[0m,                              \u001b[32m│\u001b[0m \u001b[34m│\u001b[0m\n",
       "\u001b[34m│\u001b[0m \u001b[32m│\u001b[0m \u001b[2;32m│   │   \u001b[0m\u001b[32m'AIR_QPROFILE_ISP'\u001b[0m,                              \u001b[32m│\u001b[0m \u001b[34m│\u001b[0m\n",
       "\u001b[34m│\u001b[0m \u001b[32m│\u001b[0m \u001b[2;32m│   │   \u001b[0m\u001b[32m'AIR_ETOTSUM_ISP_ELM'\u001b[0m,                           \u001b[32m│\u001b[0m \u001b[34m│\u001b[0m\n",
       "\u001b[34m│\u001b[0m \u001b[32m│\u001b[0m \u001b[2;32m│   │   \u001b[0m\u001b[32m'AIR_QPROFILE_ISP_ELM'\u001b[0m,                          \u001b[32m│\u001b[0m \u001b[34m│\u001b[0m\n",
       "\u001b[34m│\u001b[0m \u001b[32m│\u001b[0m \u001b[2;32m│   │   \u001b[0m\u001b[32m'AIR_PTOT_ISP_ELM'\u001b[0m,                              \u001b[32m│\u001b[0m \u001b[34m│\u001b[0m\n",
       "\u001b[34m│\u001b[0m \u001b[32m│\u001b[0m \u001b[2;32m│   │   \u001b[0m\u001b[33m...\u001b[0m +\u001b[1;36m49\u001b[0m                                          \u001b[32m│\u001b[0m \u001b[34m│\u001b[0m\n",
       "\u001b[34m│\u001b[0m \u001b[32m│\u001b[0m \u001b[2;32m│   \u001b[0m\u001b[1m}\u001b[0m,                                                   \u001b[32m│\u001b[0m \u001b[34m│\u001b[0m\n",
       "\u001b[34m│\u001b[0m \u001b[32m│\u001b[0m \u001b[2;32m│   \u001b[0m\u001b[32m'xmp'\u001b[0m: \u001b[1m{\u001b[0m                                             \u001b[32m│\u001b[0m \u001b[34m│\u001b[0m\n",
       "\u001b[34m│\u001b[0m \u001b[32m│\u001b[0m \u001b[2;32m│   │   \u001b[0m\u001b[32m'/XMP/DEVICES/D2_ADC103/RANGE'\u001b[0m,                  \u001b[32m│\u001b[0m \u001b[34m│\u001b[0m\n",
       "\u001b[34m│\u001b[0m \u001b[32m│\u001b[0m \u001b[2;32m│   │   \u001b[0m\u001b[32m'/XMP/REF20'\u001b[0m,                                    \u001b[32m│\u001b[0m \u001b[34m│\u001b[0m\n",
       "\u001b[34m│\u001b[0m \u001b[32m│\u001b[0m \u001b[2;32m│   │   \u001b[0m\u001b[32m'/XMP/REF23'\u001b[0m,                                    \u001b[32m│\u001b[0m \u001b[34m│\u001b[0m\n",
       "\u001b[34m│\u001b[0m \u001b[32m│\u001b[0m \u001b[2;32m│   │   \u001b[0m\u001b[32m'/XMP/DEVICES/LIMIT'\u001b[0m,                            \u001b[32m│\u001b[0m \u001b[34m│\u001b[0m\n",
       "\u001b[34m│\u001b[0m \u001b[32m│\u001b[0m \u001b[2;32m│   │   \u001b[0m\u001b[32m'/XMP/DEVICES/D2_ADC103/CHANNEL'\u001b[0m,                \u001b[32m│\u001b[0m \u001b[34m│\u001b[0m\n",
       "\u001b[34m│\u001b[0m \u001b[32m│\u001b[0m \u001b[2;32m│   │   \u001b[0m\u001b[32m'/XMP/TIME1'\u001b[0m                                     \u001b[32m│\u001b[0m \u001b[34m│\u001b[0m\n",
       "\u001b[34m│\u001b[0m \u001b[32m│\u001b[0m \u001b[2;32m│   \u001b[0m\u001b[1m}\u001b[0m,                                                   \u001b[32m│\u001b[0m \u001b[34m│\u001b[0m\n",
       "\u001b[34m│\u001b[0m \u001b[32m│\u001b[0m \u001b[2;32m│   \u001b[0m\u001b[32m'amc'\u001b[0m: \u001b[1m{\u001b[0m                                             \u001b[32m│\u001b[0m \u001b[34m│\u001b[0m\n",
       "\u001b[34m│\u001b[0m \u001b[32m│\u001b[0m \u001b[2;32m│   │   \u001b[0m\u001b[32m'AMC_P2IU FEED CURRENT'\u001b[0m,                         \u001b[32m│\u001b[0m \u001b[34m│\u001b[0m\n",
       "\u001b[34m│\u001b[0m \u001b[32m│\u001b[0m \u001b[2;32m│   │   \u001b[0m\u001b[32m'AMC_P4L CURRENT'\u001b[0m,                               \u001b[32m│\u001b[0m \u001b[34m│\u001b[0m\n",
       "\u001b[34m│\u001b[0m \u001b[32m│\u001b[0m \u001b[2;32m│   │   \u001b[0m\u001b[32m'AMC_P5U CASE CURRENT'\u001b[0m,                          \u001b[32m│\u001b[0m \u001b[34m│\u001b[0m\n",
       "\u001b[34m│\u001b[0m \u001b[32m│\u001b[0m \u001b[2;32m│   │   \u001b[0m\u001b[32m'AMC_P4L COIL CURRENT'\u001b[0m,                          \u001b[32m│\u001b[0m \u001b[34m│\u001b[0m\n",
       "\u001b[34m│\u001b[0m \u001b[32m│\u001b[0m \u001b[2;32m│   │   \u001b[0m\u001b[32m'AMC_P5L CURRENT'\u001b[0m,                               \u001b[32m│\u001b[0m \u001b[34m│\u001b[0m\n",
       "\u001b[34m│\u001b[0m \u001b[32m│\u001b[0m \u001b[2;32m│   │   \u001b[0m\u001b[32m'AMC_P3U FEED CURRENT'\u001b[0m,                          \u001b[32m│\u001b[0m \u001b[34m│\u001b[0m\n",
       "\u001b[34m│\u001b[0m \u001b[32m│\u001b[0m \u001b[2;32m│   │   \u001b[0m\u001b[32m'AMC_P4L CASE CURRENT'\u001b[0m,                          \u001b[32m│\u001b[0m \u001b[34m│\u001b[0m\n",
       "\u001b[34m│\u001b[0m \u001b[32m│\u001b[0m \u001b[2;32m│   │   \u001b[0m\u001b[32m'AMC_P3L CASE CURRENT'\u001b[0m,                          \u001b[32m│\u001b[0m \u001b[34m│\u001b[0m\n",
       "\u001b[34m│\u001b[0m \u001b[32m│\u001b[0m \u001b[2;32m│   │   \u001b[0m\u001b[32m'AMC_P5U CURRENT'\u001b[0m,                               \u001b[32m│\u001b[0m \u001b[34m│\u001b[0m\n",
       "\u001b[34m│\u001b[0m \u001b[32m│\u001b[0m \u001b[2;32m│   │   \u001b[0m\u001b[32m'AMC_VERSION'\u001b[0m,                                   \u001b[32m│\u001b[0m \u001b[34m│\u001b[0m\n",
       "\u001b[34m│\u001b[0m \u001b[32m│\u001b[0m \u001b[2;32m│   │   \u001b[0m\u001b[33m...\u001b[0m +\u001b[1;36m36\u001b[0m                                          \u001b[32m│\u001b[0m \u001b[34m│\u001b[0m\n",
       "\u001b[34m│\u001b[0m \u001b[32m│\u001b[0m \u001b[2;32m│   \u001b[0m\u001b[1m}\u001b[0m,                                                   \u001b[32m│\u001b[0m \u001b[34m│\u001b[0m\n",
       "\u001b[34m│\u001b[0m \u001b[32m│\u001b[0m \u001b[2;32m│   \u001b[0m\u001b[32m'xim'\u001b[0m: \u001b[1m{\u001b[0m                                             \u001b[32m│\u001b[0m \u001b[34m│\u001b[0m\n",
       "\u001b[34m│\u001b[0m \u001b[32m│\u001b[0m \u001b[2;32m│   │   \u001b[0m\u001b[32m'XIM_DA/BO10'\u001b[0m,                                   \u001b[32m│\u001b[0m \u001b[34m│\u001b[0m\n",
       "\u001b[34m│\u001b[0m \u001b[32m│\u001b[0m \u001b[2;32m│   │   \u001b[0m\u001b[32m'XIM_MASS_END'\u001b[0m,                                  \u001b[32m│\u001b[0m \u001b[34m│\u001b[0m\n",
       "\u001b[34m│\u001b[0m \u001b[32m│\u001b[0m \u001b[2;32m│   │   \u001b[0m\u001b[32m'XIM_DA/HU10/R1'\u001b[0m,                                \u001b[32m│\u001b[0m \u001b[34m│\u001b[0m\n",
       "\u001b[34m│\u001b[0m \u001b[32m│\u001b[0m \u001b[2;32m│   │   \u001b[0m\u001b[32m'XIM_PELLET_HALPHA/2'\u001b[0m,                           \u001b[32m│\u001b[0m \u001b[34m│\u001b[0m\n",
       "\u001b[34m│\u001b[0m \u001b[32m│\u001b[0m \u001b[2;32m│   │   \u001b[0m\u001b[32m'XIM_PREION_TRIG'\u001b[0m,                               \u001b[32m│\u001b[0m \u001b[34m│\u001b[0m\n",
       "\u001b[34m│\u001b[0m \u001b[32m│\u001b[0m \u001b[2;32m│   │   \u001b[0m\u001b[32m'XIM_DA/HL11/L1'\u001b[0m,                                \u001b[32m│\u001b[0m \u001b[34m│\u001b[0m\n",
       "\u001b[34m│\u001b[0m \u001b[32m│\u001b[0m \u001b[2;32m│   │   \u001b[0m\u001b[32m'XIM_CII/HU10/U'\u001b[0m,                                \u001b[32m│\u001b[0m \u001b[34m│\u001b[0m\n",
       "\u001b[34m│\u001b[0m \u001b[32m│\u001b[0m \u001b[2;32m│   │   \u001b[0m\u001b[32m'XIM_DA/HU10/U1'\u001b[0m,                                \u001b[32m│\u001b[0m \u001b[34m│\u001b[0m\n",
       "\u001b[34m│\u001b[0m \u001b[32m│\u001b[0m \u001b[2;32m│   │   \u001b[0m\u001b[32m'XIM_DA/HL11/R1'\u001b[0m,                                \u001b[32m│\u001b[0m \u001b[34m│\u001b[0m\n",
       "\u001b[34m│\u001b[0m \u001b[32m│\u001b[0m \u001b[2;32m│   │   \u001b[0m\u001b[32m'XIM_TRIGGER'\u001b[0m,                                   \u001b[32m│\u001b[0m \u001b[34m│\u001b[0m\n",
       "\u001b[34m│\u001b[0m \u001b[32m│\u001b[0m \u001b[2;32m│   │   \u001b[0m\u001b[33m...\u001b[0m +\u001b[1;36m14\u001b[0m                                          \u001b[32m│\u001b[0m \u001b[34m│\u001b[0m\n",
       "\u001b[34m│\u001b[0m \u001b[32m│\u001b[0m \u001b[2;32m│   \u001b[0m\u001b[1m}\u001b[0m,                                                   \u001b[32m│\u001b[0m \u001b[34m│\u001b[0m\n",
       "\u001b[34m│\u001b[0m \u001b[32m│\u001b[0m \u001b[2;32m│   \u001b[0m\u001b[32m'xlp'\u001b[0m: \u001b[1m{\u001b[0m                                             \u001b[32m│\u001b[0m \u001b[34m│\u001b[0m\n",
       "\u001b[34m│\u001b[0m \u001b[32m│\u001b[0m \u001b[2;32m│   │   \u001b[0m\u001b[32m'XLP_V8'\u001b[0m,                                        \u001b[32m│\u001b[0m \u001b[34m│\u001b[0m\n",
       "\u001b[34m│\u001b[0m \u001b[32m│\u001b[0m \u001b[2;32m│   │   \u001b[0m\u001b[32m'XLP_I10'\u001b[0m,                                       \u001b[32m│\u001b[0m \u001b[34m│\u001b[0m\n",
       "\u001b[34m│\u001b[0m \u001b[32m│\u001b[0m \u001b[2;32m│   │   \u001b[0m\u001b[32m'XLP_V1'\u001b[0m,                                        \u001b[32m│\u001b[0m \u001b[34m│\u001b[0m\n",
       "\u001b[34m│\u001b[0m \u001b[32m│\u001b[0m \u001b[2;32m│   │   \u001b[0m\u001b[32m'XLP_M8'\u001b[0m,                                        \u001b[32m│\u001b[0m \u001b[34m│\u001b[0m\n",
       "\u001b[34m│\u001b[0m \u001b[32m│\u001b[0m \u001b[2;32m│   │   \u001b[0m\u001b[32m'XLP_V9'\u001b[0m,                                        \u001b[32m│\u001b[0m \u001b[34m│\u001b[0m\n",
       "\u001b[34m│\u001b[0m \u001b[32m│\u001b[0m \u001b[2;32m│   │   \u001b[0m\u001b[32m'XLP_I4'\u001b[0m,                                        \u001b[32m│\u001b[0m \u001b[34m│\u001b[0m\n",
       "\u001b[34m│\u001b[0m \u001b[32m│\u001b[0m \u001b[2;32m│   │   \u001b[0m\u001b[32m'XLP_V7'\u001b[0m,                                        \u001b[32m│\u001b[0m \u001b[34m│\u001b[0m\n",
       "\u001b[34m│\u001b[0m \u001b[32m│\u001b[0m \u001b[2;32m│   │   \u001b[0m\u001b[32m'XLP_I12'\u001b[0m,                                       \u001b[32m│\u001b[0m \u001b[34m│\u001b[0m\n",
       "\u001b[34m│\u001b[0m \u001b[32m│\u001b[0m \u001b[2;32m│   │   \u001b[0m\u001b[32m'XLP_V2'\u001b[0m,                                        \u001b[32m│\u001b[0m \u001b[34m│\u001b[0m\n",
       "\u001b[34m│\u001b[0m \u001b[32m│\u001b[0m \u001b[2;32m│   │   \u001b[0m\u001b[32m'XLP_M1'\u001b[0m,                                        \u001b[32m│\u001b[0m \u001b[34m│\u001b[0m\n",
       "\u001b[34m│\u001b[0m \u001b[32m│\u001b[0m \u001b[2;32m│   │   \u001b[0m\u001b[33m...\u001b[0m +\u001b[1;36m30\u001b[0m                                          \u001b[32m│\u001b[0m \u001b[34m│\u001b[0m\n",
       "\u001b[34m│\u001b[0m \u001b[32m│\u001b[0m \u001b[2;32m│   \u001b[0m\u001b[1m}\u001b[0m,                                                   \u001b[32m│\u001b[0m \u001b[34m│\u001b[0m\n",
       "\u001b[34m│\u001b[0m \u001b[32m│\u001b[0m \u001b[2;32m│   \u001b[0m\u001b[32m'xcm'\u001b[0m: \u001b[1m{\u001b[0m                                             \u001b[32m│\u001b[0m \u001b[34m│\u001b[0m\n",
       "\u001b[34m│\u001b[0m \u001b[32m│\u001b[0m \u001b[2;32m│   │   \u001b[0m\u001b[32m'XCM_MFPS RELEASE'\u001b[0m,                              \u001b[32m│\u001b[0m \u001b[34m│\u001b[0m\n",
       "\u001b[34m│\u001b[0m \u001b[32m│\u001b[0m \u001b[2;32m│   │   \u001b[0m\u001b[32m'XCM_TC_TH3'\u001b[0m,                                    \u001b[32m│\u001b[0m \u001b[34m│\u001b[0m\n",
       "\u001b[34m│\u001b[0m \u001b[32m│\u001b[0m \u001b[2;32m│   │   \u001b[0m\u001b[32m'XCM_P1PS I'\u001b[0m,                                    \u001b[32m│\u001b[0m \u001b[34m│\u001b[0m\n",
       "\u001b[34m│\u001b[0m \u001b[32m│\u001b[0m \u001b[2;32m│   │   \u001b[0m\u001b[32m'XCM_L8212A#4'\u001b[0m,                                  \u001b[32m│\u001b[0m \u001b[34m│\u001b[0m\n",
       "\u001b[34m│\u001b[0m \u001b[32m│\u001b[0m \u001b[2;32m│   │   \u001b[0m\u001b[32m'XCM_S4 POSITION'\u001b[0m,                               \u001b[32m│\u001b[0m \u001b[34m│\u001b[0m\n",
       "\u001b[34m│\u001b[0m \u001b[32m│\u001b[0m \u001b[2;32m│   │   \u001b[0m\u001b[32m'XCM_TEST_CH16'\u001b[0m,                                 \u001b[32m│\u001b[0m \u001b[34m│\u001b[0m\n",
       "\u001b[34m│\u001b[0m \u001b[32m│\u001b[0m \u001b[2;32m│   │   \u001b[0m\u001b[32m'XCM_MFPS VOLTS'\u001b[0m,                                \u001b[32m│\u001b[0m \u001b[34m│\u001b[0m\n",
       "\u001b[34m│\u001b[0m \u001b[32m│\u001b[0m \u001b[2;32m│   │   \u001b[0m\u001b[32m'XCM_TC_REFBOT'\u001b[0m,                                 \u001b[32m│\u001b[0m \u001b[34m│\u001b[0m\n",
       "\u001b[34m│\u001b[0m \u001b[32m│\u001b[0m \u001b[2;32m│   │   \u001b[0m\u001b[32m'XCM_TC_BH3'\u001b[0m,                                    \u001b[32m│\u001b[0m \u001b[34m│\u001b[0m\n",
       "\u001b[34m│\u001b[0m \u001b[32m│\u001b[0m \u001b[2;32m│   │   \u001b[0m\u001b[32m'XCM_33KV SUPPLY'\u001b[0m,                               \u001b[32m│\u001b[0m \u001b[34m│\u001b[0m\n",
       "\u001b[34m│\u001b[0m \u001b[32m│\u001b[0m \u001b[2;32m│   │   \u001b[0m\u001b[33m...\u001b[0m +\u001b[1;36m60\u001b[0m                                          \u001b[32m│\u001b[0m \u001b[34m│\u001b[0m\n",
       "\u001b[34m│\u001b[0m \u001b[32m│\u001b[0m \u001b[2;32m│   \u001b[0m\u001b[1m}\u001b[0m,                                                   \u001b[32m│\u001b[0m \u001b[34m│\u001b[0m\n",
       "\u001b[34m│\u001b[0m \u001b[32m│\u001b[0m \u001b[2;32m│   \u001b[0m\u001b[32m'xfi'\u001b[0m: \u001b[1m{\u001b[0m                                             \u001b[32m│\u001b[0m \u001b[34m│\u001b[0m\n",
       "\u001b[34m│\u001b[0m \u001b[32m│\u001b[0m \u001b[2;32m│   │   \u001b[0m\u001b[32m'/XFI/DEVICES/D2_FIDA/SERSIZE'\u001b[0m,                  \u001b[32m│\u001b[0m \u001b[34m│\u001b[0m\n",
       "\u001b[34m│\u001b[0m \u001b[32m│\u001b[0m \u001b[2;32m│   │   \u001b[0m\u001b[32m'/XFI/DEVICES/D2_FIDA/CHIPNAME'\u001b[0m,                 \u001b[32m│\u001b[0m \u001b[34m│\u001b[0m\n",
       "\u001b[34m│\u001b[0m \u001b[32m│\u001b[0m \u001b[2;32m│   │   \u001b[0m\u001b[32m'/XFI/DEVICES/D2_FIDA/CLEARCYCLES'\u001b[0m,              \u001b[32m│\u001b[0m \u001b[34m│\u001b[0m\n",
       "\u001b[34m│\u001b[0m \u001b[32m│\u001b[0m \u001b[2;32m│   │   \u001b[0m\u001b[32m'/XFI/BIN/8'\u001b[0m,                                    \u001b[32m│\u001b[0m \u001b[34m│\u001b[0m\n",
       "\u001b[34m│\u001b[0m \u001b[32m│\u001b[0m \u001b[2;32m│   │   \u001b[0m\u001b[32m'/XFI/PIXEL1'\u001b[0m,                                   \u001b[32m│\u001b[0m \u001b[34m│\u001b[0m\n",
       "\u001b[34m│\u001b[0m \u001b[32m│\u001b[0m \u001b[2;32m│   │   \u001b[0m\u001b[32m'/XFI/BIN/1'\u001b[0m,                                    \u001b[32m│\u001b[0m \u001b[34m│\u001b[0m\n",
       "\u001b[34m│\u001b[0m \u001b[32m│\u001b[0m \u001b[2;32m│   │   \u001b[0m\u001b[32m'/XFI/BIN/2'\u001b[0m,                                    \u001b[32m│\u001b[0m \u001b[34m│\u001b[0m\n",
       "\u001b[34m│\u001b[0m \u001b[32m│\u001b[0m \u001b[2;32m│   │   \u001b[0m\u001b[32m'/XFI/DEVICES/D2_FIDA/READOUT'\u001b[0m,                  \u001b[32m│\u001b[0m \u001b[34m│\u001b[0m\n",
       "\u001b[34m│\u001b[0m \u001b[32m│\u001b[0m \u001b[2;32m│   │   \u001b[0m\u001b[32m'/XFI/BIN/6'\u001b[0m,                                    \u001b[32m│\u001b[0m \u001b[34m│\u001b[0m\n",
       "\u001b[34m│\u001b[0m \u001b[32m│\u001b[0m \u001b[2;32m│   │   \u001b[0m\u001b[32m'/XFI/BIN/3'\u001b[0m,                                    \u001b[32m│\u001b[0m \u001b[34m│\u001b[0m\n",
       "\u001b[34m│\u001b[0m \u001b[32m│\u001b[0m \u001b[2;32m│   │   \u001b[0m\u001b[33m...\u001b[0m +\u001b[1;36m20\u001b[0m                                          \u001b[32m│\u001b[0m \u001b[34m│\u001b[0m\n",
       "\u001b[34m│\u001b[0m \u001b[32m│\u001b[0m \u001b[2;32m│   \u001b[0m\u001b[1m}\u001b[0m,                                                   \u001b[32m│\u001b[0m \u001b[34m│\u001b[0m\n",
       "\u001b[34m│\u001b[0m \u001b[32m│\u001b[0m \u001b[2;32m│   \u001b[0m\u001b[32m'amb'\u001b[0m: \u001b[1m{\u001b[0m                                             \u001b[32m│\u001b[0m \u001b[34m│\u001b[0m\n",
       "\u001b[34m│\u001b[0m \u001b[32m│\u001b[0m \u001b[2;32m│   │   \u001b[0m\u001b[32m'AMB_OBR14'\u001b[0m,                                     \u001b[32m│\u001b[0m \u001b[34m│\u001b[0m\n",
       "\u001b[34m│\u001b[0m \u001b[32m│\u001b[0m \u001b[2;32m│   │   \u001b[0m\u001b[32m'AMB_CCBV19'\u001b[0m,                                    \u001b[32m│\u001b[0m \u001b[34m│\u001b[0m\n",
       "\u001b[34m│\u001b[0m \u001b[32m│\u001b[0m \u001b[2;32m│   │   \u001b[0m\u001b[32m'AMB_CCBV11'\u001b[0m,                                    \u001b[32m│\u001b[0m \u001b[34m│\u001b[0m\n",
       "\u001b[34m│\u001b[0m \u001b[32m│\u001b[0m \u001b[2;32m│   │   \u001b[0m\u001b[32m'AMB_CCBV20'\u001b[0m,                                    \u001b[32m│\u001b[0m \u001b[34m│\u001b[0m\n",
       "\u001b[34m│\u001b[0m \u001b[32m│\u001b[0m \u001b[2;32m│   │   \u001b[0m\u001b[32m'AMB_OBR18'\u001b[0m,                                     \u001b[32m│\u001b[0m \u001b[34m│\u001b[0m\n",
       "\u001b[34m│\u001b[0m \u001b[32m│\u001b[0m \u001b[2;32m│   │   \u001b[0m\u001b[32m'AMB_CCBV05'\u001b[0m,                                    \u001b[32m│\u001b[0m \u001b[34m│\u001b[0m\n",
       "\u001b[34m│\u001b[0m \u001b[32m│\u001b[0m \u001b[2;32m│   │   \u001b[0m\u001b[32m'AMB_OBR15'\u001b[0m,                                     \u001b[32m│\u001b[0m \u001b[34m│\u001b[0m\n",
       "\u001b[34m│\u001b[0m \u001b[32m│\u001b[0m \u001b[2;32m│   │   \u001b[0m\u001b[32m'AMB_CCBV21'\u001b[0m,                                    \u001b[32m│\u001b[0m \u001b[34m│\u001b[0m\n",
       "\u001b[34m│\u001b[0m \u001b[32m│\u001b[0m \u001b[2;32m│   │   \u001b[0m\u001b[32m'AMB_OBR12'\u001b[0m,                                     \u001b[32m│\u001b[0m \u001b[34m│\u001b[0m\n",
       "\u001b[34m│\u001b[0m \u001b[32m│\u001b[0m \u001b[2;32m│   │   \u001b[0m\u001b[32m'AMB_FL/P5U/1'\u001b[0m,                                  \u001b[32m│\u001b[0m \u001b[34m│\u001b[0m\n",
       "\u001b[34m│\u001b[0m \u001b[32m│\u001b[0m \u001b[2;32m│   │   \u001b[0m\u001b[33m...\u001b[0m +\u001b[1;36m74\u001b[0m                                          \u001b[32m│\u001b[0m \u001b[34m│\u001b[0m\n",
       "\u001b[34m│\u001b[0m \u001b[32m│\u001b[0m \u001b[2;32m│   \u001b[0m\u001b[1m}\u001b[0m,                                                   \u001b[32m│\u001b[0m \u001b[34m│\u001b[0m\n",
       "\u001b[34m│\u001b[0m \u001b[32m│\u001b[0m \u001b[2;32m│   \u001b[0m\u001b[32m'xpc'\u001b[0m: \u001b[1m{\u001b[0m                                             \u001b[32m│\u001b[0m \u001b[34m│\u001b[0m\n",
       "\u001b[34m│\u001b[0m \u001b[32m│\u001b[0m \u001b[2;32m│   │   \u001b[0m\u001b[32m'XPC_TRCF_0104_11'\u001b[0m,                              \u001b[32m│\u001b[0m \u001b[34m│\u001b[0m\n",
       "\u001b[34m│\u001b[0m \u001b[32m│\u001b[0m \u001b[2;32m│   │   \u001b[0m\u001b[32m'XPC_GAS IBFUA DRIVE'\u001b[0m,                           \u001b[32m│\u001b[0m \u001b[34m│\u001b[0m\n",
       "\u001b[34m│\u001b[0m \u001b[32m│\u001b[0m \u001b[2;32m│   │   \u001b[0m\u001b[32m'XPC_GAS HM12B REF'\u001b[0m,                             \u001b[32m│\u001b[0m \u001b[34m│\u001b[0m\n",
       "\u001b[34m│\u001b[0m \u001b[32m│\u001b[0m \u001b[2;32m│   │   \u001b[0m\u001b[32m'XPC_LINCAM2'\u001b[0m,                                   \u001b[32m│\u001b[0m \u001b[34m│\u001b[0m\n",
       "\u001b[34m│\u001b[0m \u001b[32m│\u001b[0m \u001b[2;32m│   │   \u001b[0m\u001b[32m'XPC_GAS TC5B REF'\u001b[0m,                              \u001b[32m│\u001b[0m \u001b[34m│\u001b[0m\n",
       "\u001b[34m│\u001b[0m \u001b[32m│\u001b[0m \u001b[2;32m│   │   \u001b[0m\u001b[32m'XPC_GAS BC5 REF'\u001b[0m,                               \u001b[32m│\u001b[0m \u001b[34m│\u001b[0m\n",
       "\u001b[34m│\u001b[0m \u001b[32m│\u001b[0m \u001b[2;32m│   │   \u001b[0m\u001b[32m'XPC_NBI SS CURRENT'\u001b[0m,                            \u001b[32m│\u001b[0m \u001b[34m│\u001b[0m\n",
       "\u001b[34m│\u001b[0m \u001b[32m│\u001b[0m \u001b[2;32m│   │   \u001b[0m\u001b[32m'XPC_TRCF_0104_6'\u001b[0m,                               \u001b[32m│\u001b[0m \u001b[34m│\u001b[0m\n",
       "\u001b[34m│\u001b[0m \u001b[32m│\u001b[0m \u001b[2;32m│   │   \u001b[0m\u001b[32m'XPC_GAS TC5B DRIVE'\u001b[0m,                            \u001b[32m│\u001b[0m \u001b[34m│\u001b[0m\n",
       "\u001b[34m│\u001b[0m \u001b[32m│\u001b[0m \u001b[2;32m│   │   \u001b[0m\u001b[32m'XPC_GAS IBFUB REF'\u001b[0m,                             \u001b[32m│\u001b[0m \u001b[34m│\u001b[0m\n",
       "\u001b[34m│\u001b[0m \u001b[32m│\u001b[0m \u001b[2;32m│   │   \u001b[0m\u001b[33m...\u001b[0m +\u001b[1;36m60\u001b[0m                                          \u001b[32m│\u001b[0m \u001b[34m│\u001b[0m\n",
       "\u001b[34m│\u001b[0m \u001b[32m│\u001b[0m \u001b[2;32m│   \u001b[0m\u001b[1m}\u001b[0m,                                                   \u001b[32m│\u001b[0m \u001b[34m│\u001b[0m\n",
       "\u001b[34m│\u001b[0m \u001b[32m│\u001b[0m \u001b[2;32m│   \u001b[0m\u001b[32m'xsx'\u001b[0m: \u001b[1m{\u001b[0m                                             \u001b[32m│\u001b[0m \u001b[34m│\u001b[0m\n",
       "\u001b[34m│\u001b[0m \u001b[32m│\u001b[0m \u001b[2;32m│   │   \u001b[0m\u001b[32m'/XSX/HCAM/U/17'\u001b[0m,                                \u001b[32m│\u001b[0m \u001b[34m│\u001b[0m\n",
       "\u001b[34m│\u001b[0m \u001b[32m│\u001b[0m \u001b[2;32m│   │   \u001b[0m\u001b[32m'/XSX/HCAM/U/14'\u001b[0m,                                \u001b[32m│\u001b[0m \u001b[34m│\u001b[0m\n",
       "\u001b[34m│\u001b[0m \u001b[32m│\u001b[0m \u001b[2;32m│   │   \u001b[0m\u001b[32m'/XSX/TCAM/17'\u001b[0m,                                  \u001b[32m│\u001b[0m \u001b[34m│\u001b[0m\n",
       "\u001b[34m│\u001b[0m \u001b[32m│\u001b[0m \u001b[2;32m│   │   \u001b[0m\u001b[32m'/XSX/TCAM/9'\u001b[0m,                                   \u001b[32m│\u001b[0m \u001b[34m│\u001b[0m\n",
       "\u001b[34m│\u001b[0m \u001b[32m│\u001b[0m \u001b[2;32m│   │   \u001b[0m\u001b[32m'/XSX/TCAM/2'\u001b[0m,                                   \u001b[32m│\u001b[0m \u001b[34m│\u001b[0m\n",
       "\u001b[34m│\u001b[0m \u001b[32m│\u001b[0m \u001b[2;32m│   │   \u001b[0m\u001b[32m'/XSX/HCAM/L/14'\u001b[0m,                                \u001b[32m│\u001b[0m \u001b[34m│\u001b[0m\n",
       "\u001b[34m│\u001b[0m \u001b[32m│\u001b[0m \u001b[2;32m│   │   \u001b[0m\u001b[32m'/XSX/HCAM/L/3'\u001b[0m,                                 \u001b[32m│\u001b[0m \u001b[34m│\u001b[0m\n",
       "\u001b[34m│\u001b[0m \u001b[32m│\u001b[0m \u001b[2;32m│   │   \u001b[0m\u001b[32m'/XSX/HCAM/L/16'\u001b[0m,                                \u001b[32m│\u001b[0m \u001b[34m│\u001b[0m\n",
       "\u001b[34m│\u001b[0m \u001b[32m│\u001b[0m \u001b[2;32m│   │   \u001b[0m\u001b[32m'/XSX/HCAM/U/10'\u001b[0m,                                \u001b[32m│\u001b[0m \u001b[34m│\u001b[0m\n",
       "\u001b[34m│\u001b[0m \u001b[32m│\u001b[0m \u001b[2;32m│   │   \u001b[0m\u001b[32m'/XSX/HCAM/U/18'\u001b[0m,                                \u001b[32m│\u001b[0m \u001b[34m│\u001b[0m\n",
       "\u001b[34m│\u001b[0m \u001b[32m│\u001b[0m \u001b[2;32m│   │   \u001b[0m\u001b[33m...\u001b[0m +\u001b[1;36m49\u001b[0m                                          \u001b[32m│\u001b[0m \u001b[34m│\u001b[0m\n",
       "\u001b[34m│\u001b[0m \u001b[32m│\u001b[0m \u001b[2;32m│   \u001b[0m\u001b[1m}\u001b[0m,                                                   \u001b[32m│\u001b[0m \u001b[34m│\u001b[0m\n",
       "\u001b[34m│\u001b[0m \u001b[32m│\u001b[0m \u001b[2;32m│   \u001b[0m\u001b[33m...\u001b[0m +\u001b[1;36m54\u001b[0m                                              \u001b[32m│\u001b[0m \u001b[34m│\u001b[0m\n",
       "\u001b[34m│\u001b[0m \u001b[32m│\u001b[0m \u001b[1m}\u001b[0m                                                        \u001b[32m│\u001b[0m \u001b[34m│\u001b[0m\n",
       "\u001b[34m│\u001b[0m \u001b[32m╰──────────────────────────────────────────────────────────╯\u001b[0m \u001b[34m│\u001b[0m\n",
       "\u001b[34m│\u001b[0m                                                              \u001b[34m│\u001b[0m\n",
       "\u001b[34m│\u001b[0m \u001b[1;36m29\u001b[0m\u001b[3m attribute(s) not shown.\u001b[0m Run \u001b[1;35minspect\u001b[0m\u001b[1m(\u001b[0minspect\u001b[1m)\u001b[0m for options. \u001b[34m│\u001b[0m\n",
       "\u001b[34m╰──────────────────────────────────────────────────────────────╯\u001b[0m\n"
      ]
     },
     "metadata": {},
     "output_type": "display_data"
    }
   ],
   "source": [
    "inspect(alias_signal_dict, docs=False)"
   ]
  },
  {
   "cell_type": "markdown",
   "id": "4d1ca948",
   "metadata": {},
   "source": [
    "For example, 'xss' will give us meta information"
   ]
  },
  {
   "cell_type": "code",
   "execution_count": 71,
   "id": "e1b027b5",
   "metadata": {},
   "outputs": [
    {
     "data": {
      "text/html": [
       "<pre style=\"white-space:pre;overflow-x:auto;line-height:normal;font-family:Menlo,'DejaVu Sans Mono',consolas,'Courier New',monospace\"><span style=\"color: #000080; text-decoration-color: #000080\">╭─────────────────────── </span><span style=\"color: #000080; text-decoration-color: #000080; font-weight: bold\">&lt;</span><span style=\"color: #ff00ff; text-decoration-color: #ff00ff; font-weight: bold\">class</span><span style=\"color: #000000; text-decoration-color: #000000\"> </span><span style=\"color: #008000; text-decoration-color: #008000\">'list'</span><span style=\"color: #000080; text-decoration-color: #000080; font-weight: bold\">&gt;</span><span style=\"color: #000080; text-decoration-color: #000080\"> ───────────────────────╮</span>\n",
       "<span style=\"color: #000080; text-decoration-color: #000080\">│</span> <span style=\"color: #008000; text-decoration-color: #008000\">╭──────────────────────────────────────────────────────────╮</span> <span style=\"color: #000080; text-decoration-color: #000080\">│</span>\n",
       "<span style=\"color: #000080; text-decoration-color: #000080\">│</span> <span style=\"color: #008000; text-decoration-color: #008000\">│</span> <span style=\"font-weight: bold\">[</span>                                                        <span style=\"color: #008000; text-decoration-color: #008000\">│</span> <span style=\"color: #000080; text-decoration-color: #000080\">│</span>\n",
       "<span style=\"color: #000080; text-decoration-color: #000080\">│</span> <span style=\"color: #008000; text-decoration-color: #008000\">│</span> <span style=\"color: #7fbf7f; text-decoration-color: #7fbf7f\">│   </span><span style=\"color: #800080; text-decoration-color: #800080; font-weight: bold\">ListData</span><span style=\"font-weight: bold\">(</span>                                            <span style=\"color: #008000; text-decoration-color: #008000\">│</span> <span style=\"color: #000080; text-decoration-color: #000080\">│</span>\n",
       "<span style=\"color: #000080; text-decoration-color: #000080\">│</span> <span style=\"color: #008000; text-decoration-color: #008000\">│</span> <span style=\"color: #7fbf7f; text-decoration-color: #7fbf7f\">│   │   </span><span style=\"color: #808000; text-decoration-color: #808000\">shot</span>=<span style=\"color: #008080; text-decoration-color: #008080; font-weight: bold\">27933</span>,                                      <span style=\"color: #008000; text-decoration-color: #008000\">│</span> <span style=\"color: #000080; text-decoration-color: #000080\">│</span>\n",
       "<span style=\"color: #000080; text-decoration-color: #000080\">│</span> <span style=\"color: #008000; text-decoration-color: #008000\">│</span> <span style=\"color: #7fbf7f; text-decoration-color: #7fbf7f\">│   │   </span><span style=\"color: #808000; text-decoration-color: #808000\">pass_</span>=<span style=\"color: #008080; text-decoration-color: #008080; font-weight: bold\">-1</span>,                                        <span style=\"color: #008000; text-decoration-color: #008000\">│</span> <span style=\"color: #000080; text-decoration-color: #000080\">│</span>\n",
       "<span style=\"color: #000080; text-decoration-color: #000080\">│</span> <span style=\"color: #008000; text-decoration-color: #008000\">│</span> <span style=\"color: #7fbf7f; text-decoration-color: #7fbf7f\">│   │   </span><span style=\"color: #808000; text-decoration-color: #808000\">status</span>=<span style=\"color: #008080; text-decoration-color: #008080; font-weight: bold\">1</span>,                                        <span style=\"color: #008000; text-decoration-color: #008000\">│</span> <span style=\"color: #000080; text-decoration-color: #000080\">│</span>\n",
       "<span style=\"color: #000080; text-decoration-color: #000080\">│</span> <span style=\"color: #008000; text-decoration-color: #008000\">│</span> <span style=\"color: #7fbf7f; text-decoration-color: #7fbf7f\">│   │   </span><span style=\"color: #808000; text-decoration-color: #808000\">source_alias</span>=<span style=\"color: #008000; text-decoration-color: #008000\">'xss'</span>,                              <span style=\"color: #008000; text-decoration-color: #008000\">│</span> <span style=\"color: #000080; text-decoration-color: #000080\">│</span>\n",
       "<span style=\"color: #000080; text-decoration-color: #000080\">│</span> <span style=\"color: #008000; text-decoration-color: #008000\">│</span> <span style=\"color: #7fbf7f; text-decoration-color: #7fbf7f\">│   │   </span><span style=\"color: #808000; text-decoration-color: #808000\">format</span>=<span style=\"color: #008000; text-decoration-color: #008000\">'CDF'</span>,                                    <span style=\"color: #008000; text-decoration-color: #008000\">│</span> <span style=\"color: #000080; text-decoration-color: #000080\">│</span>\n",
       "<span style=\"color: #000080; text-decoration-color: #000080\">│</span> <span style=\"color: #008000; text-decoration-color: #008000\">│</span> <span style=\"color: #7fbf7f; text-decoration-color: #7fbf7f\">│   │   </span><span style=\"color: #808000; text-decoration-color: #808000\">filename</span>=<span style=\"color: #008000; text-decoration-color: #008000\">'xss027933.nc'</span>,                         <span style=\"color: #008000; text-decoration-color: #008000\">│</span> <span style=\"color: #000080; text-decoration-color: #000080\">│</span>\n",
       "<span style=\"color: #000080; text-decoration-color: #000080\">│</span> <span style=\"color: #008000; text-decoration-color: #008000\">│</span> <span style=\"color: #7fbf7f; text-decoration-color: #7fbf7f\">│   │   </span><span style=\"color: #808000; text-decoration-color: #808000\">type</span>=<span style=\"color: #008000; text-decoration-color: #008000\">'Raw'</span>,                                      <span style=\"color: #008000; text-decoration-color: #008000\">│</span> <span style=\"color: #000080; text-decoration-color: #000080\">│</span>\n",
       "<span style=\"color: #000080; text-decoration-color: #000080\">│</span> <span style=\"color: #008000; text-decoration-color: #008000\">│</span> <span style=\"color: #7fbf7f; text-decoration-color: #7fbf7f\">│   │   </span><span style=\"color: #808000; text-decoration-color: #808000\">description</span>=<span style=\"color: #008000; text-decoration-color: #008000\">'Ocean Optics system'</span>,               <span style=\"color: #008000; text-decoration-color: #008000\">│</span> <span style=\"color: #000080; text-decoration-color: #000080\">│</span>\n",
       "<span style=\"color: #000080; text-decoration-color: #000080\">│</span> <span style=\"color: #008000; text-decoration-color: #008000\">│</span> <span style=\"color: #7fbf7f; text-decoration-color: #7fbf7f\">│   │   </span><span style=\"color: #808000; text-decoration-color: #808000\">run_id</span>=<span style=\"color: #008080; text-decoration-color: #008080; font-weight: bold\">-1</span>                                        <span style=\"color: #008000; text-decoration-color: #008000\">│</span> <span style=\"color: #000080; text-decoration-color: #000080\">│</span>\n",
       "<span style=\"color: #000080; text-decoration-color: #000080\">│</span> <span style=\"color: #008000; text-decoration-color: #008000\">│</span> <span style=\"color: #7fbf7f; text-decoration-color: #7fbf7f\">│   </span><span style=\"font-weight: bold\">)</span>                                                    <span style=\"color: #008000; text-decoration-color: #008000\">│</span> <span style=\"color: #000080; text-decoration-color: #000080\">│</span>\n",
       "<span style=\"color: #000080; text-decoration-color: #000080\">│</span> <span style=\"color: #008000; text-decoration-color: #008000\">│</span> <span style=\"font-weight: bold\">]</span>                                                        <span style=\"color: #008000; text-decoration-color: #008000\">│</span> <span style=\"color: #000080; text-decoration-color: #000080\">│</span>\n",
       "<span style=\"color: #000080; text-decoration-color: #000080\">│</span> <span style=\"color: #008000; text-decoration-color: #008000\">╰──────────────────────────────────────────────────────────╯</span> <span style=\"color: #000080; text-decoration-color: #000080\">│</span>\n",
       "<span style=\"color: #000080; text-decoration-color: #000080\">│</span>                                                              <span style=\"color: #000080; text-decoration-color: #000080\">│</span>\n",
       "<span style=\"color: #000080; text-decoration-color: #000080\">│</span> <span style=\"color: #008080; text-decoration-color: #008080; font-weight: bold\">35</span><span style=\"font-style: italic\"> attribute(s) not shown.</span> Run <span style=\"color: #800080; text-decoration-color: #800080; font-weight: bold\">inspect</span><span style=\"font-weight: bold\">(</span>inspect<span style=\"font-weight: bold\">)</span> for options. <span style=\"color: #000080; text-decoration-color: #000080\">│</span>\n",
       "<span style=\"color: #000080; text-decoration-color: #000080\">╰──────────────────────────────────────────────────────────────╯</span>\n",
       "</pre>\n"
      ],
      "text/plain": [
       "\u001b[34m╭─\u001b[0m\u001b[34m────────────────────── \u001b[0m\u001b[1;34m<\u001b[0m\u001b[1;95mclass\u001b[0m\u001b[39m \u001b[0m\u001b[32m'list'\u001b[0m\u001b[1;34m>\u001b[0m\u001b[34m ──────────────────────\u001b[0m\u001b[34m─╮\u001b[0m\n",
       "\u001b[34m│\u001b[0m \u001b[32m╭──────────────────────────────────────────────────────────╮\u001b[0m \u001b[34m│\u001b[0m\n",
       "\u001b[34m│\u001b[0m \u001b[32m│\u001b[0m \u001b[1m[\u001b[0m                                                        \u001b[32m│\u001b[0m \u001b[34m│\u001b[0m\n",
       "\u001b[34m│\u001b[0m \u001b[32m│\u001b[0m \u001b[2;32m│   \u001b[0m\u001b[1;35mListData\u001b[0m\u001b[1m(\u001b[0m                                            \u001b[32m│\u001b[0m \u001b[34m│\u001b[0m\n",
       "\u001b[34m│\u001b[0m \u001b[32m│\u001b[0m \u001b[2;32m│   │   \u001b[0m\u001b[33mshot\u001b[0m=\u001b[1;36m27933\u001b[0m,                                      \u001b[32m│\u001b[0m \u001b[34m│\u001b[0m\n",
       "\u001b[34m│\u001b[0m \u001b[32m│\u001b[0m \u001b[2;32m│   │   \u001b[0m\u001b[33mpass_\u001b[0m=\u001b[1;36m-1\u001b[0m,                                        \u001b[32m│\u001b[0m \u001b[34m│\u001b[0m\n",
       "\u001b[34m│\u001b[0m \u001b[32m│\u001b[0m \u001b[2;32m│   │   \u001b[0m\u001b[33mstatus\u001b[0m=\u001b[1;36m1\u001b[0m,                                        \u001b[32m│\u001b[0m \u001b[34m│\u001b[0m\n",
       "\u001b[34m│\u001b[0m \u001b[32m│\u001b[0m \u001b[2;32m│   │   \u001b[0m\u001b[33msource_alias\u001b[0m=\u001b[32m'xss'\u001b[0m,                              \u001b[32m│\u001b[0m \u001b[34m│\u001b[0m\n",
       "\u001b[34m│\u001b[0m \u001b[32m│\u001b[0m \u001b[2;32m│   │   \u001b[0m\u001b[33mformat\u001b[0m=\u001b[32m'CDF'\u001b[0m,                                    \u001b[32m│\u001b[0m \u001b[34m│\u001b[0m\n",
       "\u001b[34m│\u001b[0m \u001b[32m│\u001b[0m \u001b[2;32m│   │   \u001b[0m\u001b[33mfilename\u001b[0m=\u001b[32m'xss027933.nc'\u001b[0m,                         \u001b[32m│\u001b[0m \u001b[34m│\u001b[0m\n",
       "\u001b[34m│\u001b[0m \u001b[32m│\u001b[0m \u001b[2;32m│   │   \u001b[0m\u001b[33mtype\u001b[0m=\u001b[32m'Raw'\u001b[0m,                                      \u001b[32m│\u001b[0m \u001b[34m│\u001b[0m\n",
       "\u001b[34m│\u001b[0m \u001b[32m│\u001b[0m \u001b[2;32m│   │   \u001b[0m\u001b[33mdescription\u001b[0m=\u001b[32m'Ocean Optics system'\u001b[0m,               \u001b[32m│\u001b[0m \u001b[34m│\u001b[0m\n",
       "\u001b[34m│\u001b[0m \u001b[32m│\u001b[0m \u001b[2;32m│   │   \u001b[0m\u001b[33mrun_id\u001b[0m=\u001b[1;36m-1\u001b[0m                                        \u001b[32m│\u001b[0m \u001b[34m│\u001b[0m\n",
       "\u001b[34m│\u001b[0m \u001b[32m│\u001b[0m \u001b[2;32m│   \u001b[0m\u001b[1m)\u001b[0m                                                    \u001b[32m│\u001b[0m \u001b[34m│\u001b[0m\n",
       "\u001b[34m│\u001b[0m \u001b[32m│\u001b[0m \u001b[1m]\u001b[0m                                                        \u001b[32m│\u001b[0m \u001b[34m│\u001b[0m\n",
       "\u001b[34m│\u001b[0m \u001b[32m╰──────────────────────────────────────────────────────────╯\u001b[0m \u001b[34m│\u001b[0m\n",
       "\u001b[34m│\u001b[0m                                                              \u001b[34m│\u001b[0m\n",
       "\u001b[34m│\u001b[0m \u001b[1;36m35\u001b[0m\u001b[3m attribute(s) not shown.\u001b[0m Run \u001b[1;35minspect\u001b[0m\u001b[1m(\u001b[0minspect\u001b[1m)\u001b[0m for options. \u001b[34m│\u001b[0m\n",
       "\u001b[34m╰──────────────────────────────────────────────────────────────╯\u001b[0m\n"
      ]
     },
     "metadata": {},
     "output_type": "display_data"
    }
   ],
   "source": [
    "xss_source = [source for source in sources_1 if source.source_alias == \"xss\"]\n",
    "inspect(xss_source, docs=False)"
   ]
  },
  {
   "cell_type": "markdown",
   "id": "5463c590",
   "metadata": {},
   "source": [
    "but '/XSS/SPEC1' or '/XSS/WAVELENGTH4' contains `SIGNAL` itself, which belongs to the `SOURCE` name/alias 'xss'."
   ]
  },
  {
   "cell_type": "code",
   "execution_count": 37,
   "id": "f069cd19",
   "metadata": {},
   "outputs": [
    {
     "data": {
      "text/html": [
       "<pre style=\"white-space:pre;overflow-x:auto;line-height:normal;font-family:Menlo,'DejaVu Sans Mono',consolas,'Courier New',monospace\"><span style=\"color: #008000; text-decoration-color: #008000\">'/XSS/WAVELENGTH2'</span>, <span style=\"color: #008000; text-decoration-color: #008000\">'/XSS/TIME1'</span>, <span style=\"color: #008000; text-decoration-color: #008000\">'/XSS/SPEC2'</span>, <span style=\"color: #008000; text-decoration-color: #008000\">'/XSS/SPEC6'</span>, <span style=\"color: #008000; text-decoration-color: #008000\">'/XSS/TIME2'</span>, <span style=\"color: #008000; text-decoration-color: #008000\">'/XSS/TIME3'</span>, <span style=\"color: #008000; text-decoration-color: #008000\">'/XSS/WAVELENGTH1'</span>, \n",
       "<span style=\"color: #008000; text-decoration-color: #008000\">'/XSS/SPEC1'</span>, <span style=\"color: #008000; text-decoration-color: #008000\">'/XSS/SPEC4'</span>, <span style=\"color: #008000; text-decoration-color: #008000\">'/XSS/WAVELENGTH4'</span>, <span style=\"color: #008000; text-decoration-color: #008000\">'/XSS/SPEC3'</span>, <span style=\"color: #008000; text-decoration-color: #008000\">'/XSS/TIME5'</span>, <span style=\"color: #008000; text-decoration-color: #008000\">'/XSS/WAVELENGTH3'</span>, <span style=\"color: #008000; text-decoration-color: #008000\">'/XSS/TIME4'</span>, \n",
       "<span style=\"color: #008000; text-decoration-color: #008000\">'/XSS/WAVELENGTH5'</span>\n",
       "</pre>\n"
      ],
      "text/plain": [
       "\u001b[32m'/XSS/WAVELENGTH2'\u001b[0m, \u001b[32m'/XSS/TIME1'\u001b[0m, \u001b[32m'/XSS/SPEC2'\u001b[0m, \u001b[32m'/XSS/SPEC6'\u001b[0m, \u001b[32m'/XSS/TIME2'\u001b[0m, \u001b[32m'/XSS/TIME3'\u001b[0m, \u001b[32m'/XSS/WAVELENGTH1'\u001b[0m, \n",
       "\u001b[32m'/XSS/SPEC1'\u001b[0m, \u001b[32m'/XSS/SPEC4'\u001b[0m, \u001b[32m'/XSS/WAVELENGTH4'\u001b[0m, \u001b[32m'/XSS/SPEC3'\u001b[0m, \u001b[32m'/XSS/TIME5'\u001b[0m, \u001b[32m'/XSS/WAVELENGTH3'\u001b[0m, \u001b[32m'/XSS/TIME4'\u001b[0m, \n",
       "\u001b[32m'/XSS/WAVELENGTH5'\u001b[0m\n"
      ]
     },
     "metadata": {},
     "output_type": "display_data"
    }
   ],
   "source": [
    "print(str(alias_signal_dict[\"xss\"])[1:-1])"
   ]
  },
  {
   "cell_type": "markdown",
   "id": "fe561f32",
   "metadata": {},
   "source": [
    "### **_Image_** type"
   ]
  },
  {
   "cell_type": "markdown",
   "id": "73ee6616",
   "metadata": {},
   "source": [
    "**_Image_** type sources are video or image data saved in *JPG*,  *TIF*,  *NIDA* and  *IPX* format."
   ]
  },
  {
   "cell_type": "code",
   "execution_count": 35,
   "id": "f7f798ae-1349-461e-8707-a2a8ac76ff8b",
   "metadata": {},
   "outputs": [
    {
     "data": {
      "text/html": [
       "<div>\n",
       "<style scoped>\n",
       "    .dataframe tbody tr th:only-of-type {\n",
       "        vertical-align: middle;\n",
       "    }\n",
       "\n",
       "    .dataframe tbody tr th {\n",
       "        vertical-align: top;\n",
       "    }\n",
       "\n",
       "    .dataframe thead th {\n",
       "        text-align: right;\n",
       "    }\n",
       "</style>\n",
       "<table border=\"1\" class=\"dataframe\">\n",
       "  <thead>\n",
       "    <tr style=\"text-align: right;\">\n",
       "      <th></th>\n",
       "      <th>type</th>\n",
       "      <th>format</th>\n",
       "      <th>aliases</th>\n",
       "    </tr>\n",
       "  </thead>\n",
       "  <tbody>\n",
       "    <tr>\n",
       "      <th>0</th>\n",
       "      <td>Image</td>\n",
       "      <td>IPX</td>\n",
       "      <td>{rir, rda, rgb, rbb, rba, rdb, rit, rbc}</td>\n",
       "    </tr>\n",
       "    <tr>\n",
       "      <th>1</th>\n",
       "      <td>Image</td>\n",
       "      <td>TIF</td>\n",
       "      <td>{rzz, rbe}</td>\n",
       "    </tr>\n",
       "  </tbody>\n",
       "</table>\n",
       "</div>"
      ],
      "text/plain": [
       "    type format                                   aliases\n",
       "0  Image    IPX  {rir, rda, rgb, rbb, rba, rdb, rit, rbc}\n",
       "1  Image    TIF                                {rzz, rbe}"
      ]
     },
     "execution_count": 35,
     "metadata": {},
     "output_type": "execute_result"
    }
   ],
   "source": [
    "df_1.loc[df_1[\"type\"] == \"Image\"].groupby([\"type\", \"format\"], as_index=False).agg(\n",
    "    aliases=(\"source_alias\", lambda x: set(x))\n",
    ")"
   ]
  },
  {
   "cell_type": "markdown",
   "id": "20cca233",
   "metadata": {},
   "source": [
    "There are consistencies in different experiments or `SHOTS`, for example, the other `SHOT` has *JPG* format."
   ]
  },
  {
   "cell_type": "code",
   "execution_count": null,
   "id": "b7af8652",
   "metadata": {},
   "outputs": [],
   "source": [
    "df_2.loc[df_2[\"type\"] == \"Image\"].groupby([\"type\", \"format\"], as_index=False).agg(\n",
    "    aliases=(\"source_alias\", lambda x: set(x))\n",
    ")"
   ]
  },
  {
   "cell_type": "markdown",
   "id": "491ea786",
   "metadata": {
    "tags": []
   },
   "source": [
    "## **_Raw_**"
   ]
  },
  {
   "cell_type": "markdown",
   "id": "6ae6eeb1",
   "metadata": {},
   "source": [
    "**_Raw_** sources can be of several formats:  *CDF*,  *IDA3*,  *ASCII*,  *BINARY* and *NIDA*. However,we suspectt that *NIDA* format belongs to the **_Raw_** `SOURCES`incorrectly, because it should be in the **_Image_**  `SOURCES`. There might be other irregularities with formats, such as **_Raw_** `SHOTS` with numbers between 27000 and 27500 names xyc,xbt can also be of  *NCDF* format. "
   ]
  },
  {
   "cell_type": "markdown",
   "id": "ff4b81f2",
   "metadata": {},
   "source": [
    "###  *CDF* format"
   ]
  },
  {
   "cell_type": "markdown",
   "id": "01c8a53c",
   "metadata": {},
   "source": [
    " *CDF* format is  commonly used for **_Raw_** images. *NCDF*  format can be inspected and accessed the same way as *CDF* . In the cell below is shown what one of the *CDF*  `SOURCES` looks like. It follows the same structure as any other **_Raw_**, **_Analysed_** or **_Image_** format. This is what is referred as the `SOURCE` meta information in this document. "
   ]
  },
  {
   "cell_type": "code",
   "execution_count": 37,
   "id": "4baf39c5",
   "metadata": {},
   "outputs": [
    {
     "data": {
      "text/html": [
       "<pre style=\"white-space:pre;overflow-x:auto;line-height:normal;font-family:Menlo,'DejaVu Sans Mono',consolas,'Courier New',monospace\"><span style=\"color: #000080; text-decoration-color: #000080\">╭─────────────────────── </span><span style=\"color: #000080; text-decoration-color: #000080; font-weight: bold\">&lt;</span><span style=\"color: #ff00ff; text-decoration-color: #ff00ff; font-weight: bold\">class</span><span style=\"color: #000000; text-decoration-color: #000000\"> </span><span style=\"color: #008000; text-decoration-color: #008000\">'list'</span><span style=\"color: #000080; text-decoration-color: #000080; font-weight: bold\">&gt;</span><span style=\"color: #000080; text-decoration-color: #000080\"> ───────────────────────╮</span>\n",
       "<span style=\"color: #000080; text-decoration-color: #000080\">│</span> <span style=\"color: #008000; text-decoration-color: #008000\">╭──────────────────────────────────────────────────────────╮</span> <span style=\"color: #000080; text-decoration-color: #000080\">│</span>\n",
       "<span style=\"color: #000080; text-decoration-color: #000080\">│</span> <span style=\"color: #008000; text-decoration-color: #008000\">│</span> <span style=\"font-weight: bold\">[</span>                                                        <span style=\"color: #008000; text-decoration-color: #008000\">│</span> <span style=\"color: #000080; text-decoration-color: #000080\">│</span>\n",
       "<span style=\"color: #000080; text-decoration-color: #000080\">│</span> <span style=\"color: #008000; text-decoration-color: #008000\">│</span> <span style=\"color: #7fbf7f; text-decoration-color: #7fbf7f\">│   </span><span style=\"color: #800080; text-decoration-color: #800080; font-weight: bold\">ListData</span><span style=\"font-weight: bold\">(</span>                                            <span style=\"color: #008000; text-decoration-color: #008000\">│</span> <span style=\"color: #000080; text-decoration-color: #000080\">│</span>\n",
       "<span style=\"color: #000080; text-decoration-color: #000080\">│</span> <span style=\"color: #008000; text-decoration-color: #008000\">│</span> <span style=\"color: #7fbf7f; text-decoration-color: #7fbf7f\">│   │   </span><span style=\"color: #808000; text-decoration-color: #808000\">shot</span>=<span style=\"color: #008080; text-decoration-color: #008080; font-weight: bold\">27933</span>,                                      <span style=\"color: #008000; text-decoration-color: #008000\">│</span> <span style=\"color: #000080; text-decoration-color: #000080\">│</span>\n",
       "<span style=\"color: #000080; text-decoration-color: #000080\">│</span> <span style=\"color: #008000; text-decoration-color: #008000\">│</span> <span style=\"color: #7fbf7f; text-decoration-color: #7fbf7f\">│   │   </span><span style=\"color: #808000; text-decoration-color: #808000\">pass_</span>=<span style=\"color: #008080; text-decoration-color: #008080; font-weight: bold\">-1</span>,                                        <span style=\"color: #008000; text-decoration-color: #008000\">│</span> <span style=\"color: #000080; text-decoration-color: #000080\">│</span>\n",
       "<span style=\"color: #000080; text-decoration-color: #000080\">│</span> <span style=\"color: #008000; text-decoration-color: #008000\">│</span> <span style=\"color: #7fbf7f; text-decoration-color: #7fbf7f\">│   │   </span><span style=\"color: #808000; text-decoration-color: #808000\">status</span>=<span style=\"color: #008080; text-decoration-color: #008080; font-weight: bold\">1</span>,                                        <span style=\"color: #008000; text-decoration-color: #008000\">│</span> <span style=\"color: #000080; text-decoration-color: #000080\">│</span>\n",
       "<span style=\"color: #000080; text-decoration-color: #000080\">│</span> <span style=\"color: #008000; text-decoration-color: #008000\">│</span> <span style=\"color: #7fbf7f; text-decoration-color: #7fbf7f\">│   │   </span><span style=\"color: #808000; text-decoration-color: #808000\">source_alias</span>=<span style=\"color: #008000; text-decoration-color: #008000\">'xms'</span>,                              <span style=\"color: #008000; text-decoration-color: #008000\">│</span> <span style=\"color: #000080; text-decoration-color: #000080\">│</span>\n",
       "<span style=\"color: #000080; text-decoration-color: #000080\">│</span> <span style=\"color: #008000; text-decoration-color: #008000\">│</span> <span style=\"color: #7fbf7f; text-decoration-color: #7fbf7f\">│   │   </span><span style=\"color: #808000; text-decoration-color: #808000\">format</span>=<span style=\"color: #008000; text-decoration-color: #008000\">'CDF'</span>,                                    <span style=\"color: #008000; text-decoration-color: #008000\">│</span> <span style=\"color: #000080; text-decoration-color: #000080\">│</span>\n",
       "<span style=\"color: #000080; text-decoration-color: #000080\">│</span> <span style=\"color: #008000; text-decoration-color: #008000\">│</span> <span style=\"color: #7fbf7f; text-decoration-color: #7fbf7f\">│   │   </span><span style=\"color: #808000; text-decoration-color: #808000\">filename</span>=<span style=\"color: #008000; text-decoration-color: #008000\">'xms027933.nc'</span>,                         <span style=\"color: #008000; text-decoration-color: #008000\">│</span> <span style=\"color: #000080; text-decoration-color: #000080\">│</span>\n",
       "<span style=\"color: #000080; text-decoration-color: #000080\">│</span> <span style=\"color: #008000; text-decoration-color: #008000\">│</span> <span style=\"color: #7fbf7f; text-decoration-color: #7fbf7f\">│   │   </span><span style=\"color: #808000; text-decoration-color: #808000\">type</span>=<span style=\"color: #008000; text-decoration-color: #008000\">'Raw'</span>,                                      <span style=\"color: #008000; text-decoration-color: #008000\">│</span> <span style=\"color: #000080; text-decoration-color: #000080\">│</span>\n",
       "<span style=\"color: #000080; text-decoration-color: #000080\">│</span> <span style=\"color: #008000; text-decoration-color: #008000\">│</span> <span style=\"color: #7fbf7f; text-decoration-color: #7fbf7f\">│   │   </span><span style=\"color: #808000; text-decoration-color: #808000\">description</span>=<span style=\"color: #008000; text-decoration-color: #008000\">'Multi-channel MSE'</span>,                 <span style=\"color: #008000; text-decoration-color: #008000\">│</span> <span style=\"color: #000080; text-decoration-color: #000080\">│</span>\n",
       "<span style=\"color: #000080; text-decoration-color: #000080\">│</span> <span style=\"color: #008000; text-decoration-color: #008000\">│</span> <span style=\"color: #7fbf7f; text-decoration-color: #7fbf7f\">│   │   </span><span style=\"color: #808000; text-decoration-color: #808000\">run_id</span>=<span style=\"color: #008080; text-decoration-color: #008080; font-weight: bold\">-1</span>                                        <span style=\"color: #008000; text-decoration-color: #008000\">│</span> <span style=\"color: #000080; text-decoration-color: #000080\">│</span>\n",
       "<span style=\"color: #000080; text-decoration-color: #000080\">│</span> <span style=\"color: #008000; text-decoration-color: #008000\">│</span> <span style=\"color: #7fbf7f; text-decoration-color: #7fbf7f\">│   </span><span style=\"font-weight: bold\">)</span>                                                    <span style=\"color: #008000; text-decoration-color: #008000\">│</span> <span style=\"color: #000080; text-decoration-color: #000080\">│</span>\n",
       "<span style=\"color: #000080; text-decoration-color: #000080\">│</span> <span style=\"color: #008000; text-decoration-color: #008000\">│</span> <span style=\"font-weight: bold\">]</span>                                                        <span style=\"color: #008000; text-decoration-color: #008000\">│</span> <span style=\"color: #000080; text-decoration-color: #000080\">│</span>\n",
       "<span style=\"color: #000080; text-decoration-color: #000080\">│</span> <span style=\"color: #008000; text-decoration-color: #008000\">╰──────────────────────────────────────────────────────────╯</span> <span style=\"color: #000080; text-decoration-color: #000080\">│</span>\n",
       "<span style=\"color: #000080; text-decoration-color: #000080\">│</span>                                                              <span style=\"color: #000080; text-decoration-color: #000080\">│</span>\n",
       "<span style=\"color: #000080; text-decoration-color: #000080\">│</span> <span style=\"color: #008080; text-decoration-color: #008080; font-weight: bold\">35</span><span style=\"font-style: italic\"> attribute(s) not shown.</span> Run <span style=\"color: #800080; text-decoration-color: #800080; font-weight: bold\">inspect</span><span style=\"font-weight: bold\">(</span>inspect<span style=\"font-weight: bold\">)</span> for options. <span style=\"color: #000080; text-decoration-color: #000080\">│</span>\n",
       "<span style=\"color: #000080; text-decoration-color: #000080\">╰──────────────────────────────────────────────────────────────╯</span>\n",
       "</pre>\n"
      ],
      "text/plain": [
       "\u001b[34m╭─\u001b[0m\u001b[34m────────────────────── \u001b[0m\u001b[1;34m<\u001b[0m\u001b[1;95mclass\u001b[0m\u001b[39m \u001b[0m\u001b[32m'list'\u001b[0m\u001b[1;34m>\u001b[0m\u001b[34m ──────────────────────\u001b[0m\u001b[34m─╮\u001b[0m\n",
       "\u001b[34m│\u001b[0m \u001b[32m╭──────────────────────────────────────────────────────────╮\u001b[0m \u001b[34m│\u001b[0m\n",
       "\u001b[34m│\u001b[0m \u001b[32m│\u001b[0m \u001b[1m[\u001b[0m                                                        \u001b[32m│\u001b[0m \u001b[34m│\u001b[0m\n",
       "\u001b[34m│\u001b[0m \u001b[32m│\u001b[0m \u001b[2;32m│   \u001b[0m\u001b[1;35mListData\u001b[0m\u001b[1m(\u001b[0m                                            \u001b[32m│\u001b[0m \u001b[34m│\u001b[0m\n",
       "\u001b[34m│\u001b[0m \u001b[32m│\u001b[0m \u001b[2;32m│   │   \u001b[0m\u001b[33mshot\u001b[0m=\u001b[1;36m27933\u001b[0m,                                      \u001b[32m│\u001b[0m \u001b[34m│\u001b[0m\n",
       "\u001b[34m│\u001b[0m \u001b[32m│\u001b[0m \u001b[2;32m│   │   \u001b[0m\u001b[33mpass_\u001b[0m=\u001b[1;36m-1\u001b[0m,                                        \u001b[32m│\u001b[0m \u001b[34m│\u001b[0m\n",
       "\u001b[34m│\u001b[0m \u001b[32m│\u001b[0m \u001b[2;32m│   │   \u001b[0m\u001b[33mstatus\u001b[0m=\u001b[1;36m1\u001b[0m,                                        \u001b[32m│\u001b[0m \u001b[34m│\u001b[0m\n",
       "\u001b[34m│\u001b[0m \u001b[32m│\u001b[0m \u001b[2;32m│   │   \u001b[0m\u001b[33msource_alias\u001b[0m=\u001b[32m'xms'\u001b[0m,                              \u001b[32m│\u001b[0m \u001b[34m│\u001b[0m\n",
       "\u001b[34m│\u001b[0m \u001b[32m│\u001b[0m \u001b[2;32m│   │   \u001b[0m\u001b[33mformat\u001b[0m=\u001b[32m'CDF'\u001b[0m,                                    \u001b[32m│\u001b[0m \u001b[34m│\u001b[0m\n",
       "\u001b[34m│\u001b[0m \u001b[32m│\u001b[0m \u001b[2;32m│   │   \u001b[0m\u001b[33mfilename\u001b[0m=\u001b[32m'xms027933.nc'\u001b[0m,                         \u001b[32m│\u001b[0m \u001b[34m│\u001b[0m\n",
       "\u001b[34m│\u001b[0m \u001b[32m│\u001b[0m \u001b[2;32m│   │   \u001b[0m\u001b[33mtype\u001b[0m=\u001b[32m'Raw'\u001b[0m,                                      \u001b[32m│\u001b[0m \u001b[34m│\u001b[0m\n",
       "\u001b[34m│\u001b[0m \u001b[32m│\u001b[0m \u001b[2;32m│   │   \u001b[0m\u001b[33mdescription\u001b[0m=\u001b[32m'Multi-channel MSE'\u001b[0m,                 \u001b[32m│\u001b[0m \u001b[34m│\u001b[0m\n",
       "\u001b[34m│\u001b[0m \u001b[32m│\u001b[0m \u001b[2;32m│   │   \u001b[0m\u001b[33mrun_id\u001b[0m=\u001b[1;36m-1\u001b[0m                                        \u001b[32m│\u001b[0m \u001b[34m│\u001b[0m\n",
       "\u001b[34m│\u001b[0m \u001b[32m│\u001b[0m \u001b[2;32m│   \u001b[0m\u001b[1m)\u001b[0m                                                    \u001b[32m│\u001b[0m \u001b[34m│\u001b[0m\n",
       "\u001b[34m│\u001b[0m \u001b[32m│\u001b[0m \u001b[1m]\u001b[0m                                                        \u001b[32m│\u001b[0m \u001b[34m│\u001b[0m\n",
       "\u001b[34m│\u001b[0m \u001b[32m╰──────────────────────────────────────────────────────────╯\u001b[0m \u001b[34m│\u001b[0m\n",
       "\u001b[34m│\u001b[0m                                                              \u001b[34m│\u001b[0m\n",
       "\u001b[34m│\u001b[0m \u001b[1;36m35\u001b[0m\u001b[3m attribute(s) not shown.\u001b[0m Run \u001b[1;35minspect\u001b[0m\u001b[1m(\u001b[0minspect\u001b[1m)\u001b[0m for options. \u001b[34m│\u001b[0m\n",
       "\u001b[34m╰──────────────────────────────────────────────────────────────╯\u001b[0m\n"
      ]
     },
     "metadata": {},
     "output_type": "display_data"
    }
   ],
   "source": [
    "data = [source for source in sources_1 if source.source_alias == \"xms\"]\n",
    "inspect(data, docs=False)"
   ]
  },
  {
   "cell_type": "markdown",
   "id": "4b0d6c58",
   "metadata": {},
   "source": [
    "*CDF* format is unique in the way of `SIGNAL` access, because data of this `SOURCE` type can be accessed both as StructuredData or a `Signal`. At first, we demonstrate  data access as StructuredData using the `SOURCE` name/aliase 'xms'. Ibn this case data has hyrarchical organisation as `children`. "
   ]
  },
  {
   "cell_type": "code",
   "execution_count": 38,
   "id": "d4b39f25",
   "metadata": {},
   "outputs": [
    {
     "data": {
      "text/html": [
       "<pre style=\"white-space:pre;overflow-x:auto;line-height:normal;font-family:Menlo,'DejaVu Sans Mono',consolas,'Courier New',monospace\"><span style=\"color: #000080; text-decoration-color: #000080\">╭─ </span><span style=\"color: #000080; text-decoration-color: #000080; font-weight: bold\">&lt;</span><span style=\"color: #ff00ff; text-decoration-color: #ff00ff; font-weight: bold\">class</span><span style=\"color: #000000; text-decoration-color: #000000\"> </span><span style=\"color: #008000; text-decoration-color: #008000\">'pyuda._structured.StructuredData'</span><span style=\"color: #000080; text-decoration-color: #000080; font-weight: bold\">&gt;</span><span style=\"color: #000080; text-decoration-color: #000080\"> ─╮</span>\n",
       "<span style=\"color: #000080; text-decoration-color: #000080\">│</span> <span style=\"color: #008000; text-decoration-color: #008000\">╭──────────────────────────────────────────╮</span> <span style=\"color: #000080; text-decoration-color: #000080\">│</span>\n",
       "<span style=\"color: #000080; text-decoration-color: #000080\">│</span> <span style=\"color: #008000; text-decoration-color: #008000\">│</span> <span style=\"font-weight: bold\">&lt;</span><span style=\"color: #ff00ff; text-decoration-color: #ff00ff; font-weight: bold\">Structured</span><span style=\"color: #000000; text-decoration-color: #000000\"> Data: data</span><span style=\"font-weight: bold\">&gt;</span>                  <span style=\"color: #008000; text-decoration-color: #008000\">│</span> <span style=\"color: #000080; text-decoration-color: #000080\">│</span>\n",
       "<span style=\"color: #000080; text-decoration-color: #000080\">│</span> <span style=\"color: #008000; text-decoration-color: #008000\">╰──────────────────────────────────────────╯</span> <span style=\"color: #000080; text-decoration-color: #000080\">│</span>\n",
       "<span style=\"color: #000080; text-decoration-color: #000080\">│</span>                                              <span style=\"color: #000080; text-decoration-color: #000080\">│</span>\n",
       "<span style=\"color: #000080; text-decoration-color: #000080\">│</span> <span style=\"color: #808000; text-decoration-color: #808000; font-style: italic\">children</span> = <span style=\"font-weight: bold\">[</span>                                 <span style=\"color: #000080; text-decoration-color: #000080\">│</span>\n",
       "<span style=\"color: #000080; text-decoration-color: #000080\">│</span>                <span style=\"font-weight: bold\">&lt;</span><span style=\"color: #ff00ff; text-decoration-color: #ff00ff; font-weight: bold\">Structured</span><span style=\"color: #000000; text-decoration-color: #000000\"> Data: ch00</span><span style=\"font-weight: bold\">&gt;</span>,      <span style=\"color: #000080; text-decoration-color: #000080\">│</span>\n",
       "<span style=\"color: #000080; text-decoration-color: #000080\">│</span>                <span style=\"font-weight: bold\">&lt;</span><span style=\"color: #ff00ff; text-decoration-color: #ff00ff; font-weight: bold\">Structured</span><span style=\"color: #000000; text-decoration-color: #000000\"> Data: ch01</span><span style=\"font-weight: bold\">&gt;</span>,      <span style=\"color: #000080; text-decoration-color: #000080\">│</span>\n",
       "<span style=\"color: #000080; text-decoration-color: #000080\">│</span>                <span style=\"font-weight: bold\">&lt;</span><span style=\"color: #ff00ff; text-decoration-color: #ff00ff; font-weight: bold\">Structured</span><span style=\"color: #000000; text-decoration-color: #000000\"> Data: ch02</span><span style=\"font-weight: bold\">&gt;</span>,      <span style=\"color: #000080; text-decoration-color: #000080\">│</span>\n",
       "<span style=\"color: #000080; text-decoration-color: #000080\">│</span>                <span style=\"font-weight: bold\">&lt;</span><span style=\"color: #ff00ff; text-decoration-color: #ff00ff; font-weight: bold\">Structured</span><span style=\"color: #000000; text-decoration-color: #000000\"> Data: ch03</span><span style=\"font-weight: bold\">&gt;</span>,      <span style=\"color: #000080; text-decoration-color: #000080\">│</span>\n",
       "<span style=\"color: #000080; text-decoration-color: #000080\">│</span>                <span style=\"font-weight: bold\">&lt;</span><span style=\"color: #ff00ff; text-decoration-color: #ff00ff; font-weight: bold\">Structured</span><span style=\"color: #000000; text-decoration-color: #000000\"> Data: ch04</span><span style=\"font-weight: bold\">&gt;</span>,      <span style=\"color: #000080; text-decoration-color: #000080\">│</span>\n",
       "<span style=\"color: #000080; text-decoration-color: #000080\">│</span>                <span style=\"font-weight: bold\">&lt;</span><span style=\"color: #ff00ff; text-decoration-color: #ff00ff; font-weight: bold\">Structured</span><span style=\"color: #000000; text-decoration-color: #000000\"> Data: ch05</span><span style=\"font-weight: bold\">&gt;</span>,      <span style=\"color: #000080; text-decoration-color: #000080\">│</span>\n",
       "<span style=\"color: #000080; text-decoration-color: #000080\">│</span>                <span style=\"font-weight: bold\">&lt;</span><span style=\"color: #ff00ff; text-decoration-color: #ff00ff; font-weight: bold\">Structured</span><span style=\"color: #000000; text-decoration-color: #000000\"> Data: ch06</span><span style=\"font-weight: bold\">&gt;</span>,      <span style=\"color: #000080; text-decoration-color: #000080\">│</span>\n",
       "<span style=\"color: #000080; text-decoration-color: #000080\">│</span>                <span style=\"font-weight: bold\">&lt;</span><span style=\"color: #ff00ff; text-decoration-color: #ff00ff; font-weight: bold\">Structured</span><span style=\"color: #000000; text-decoration-color: #000000\"> Data: ch07</span><span style=\"font-weight: bold\">&gt;</span>,      <span style=\"color: #000080; text-decoration-color: #000080\">│</span>\n",
       "<span style=\"color: #000080; text-decoration-color: #000080\">│</span>                <span style=\"font-weight: bold\">&lt;</span><span style=\"color: #ff00ff; text-decoration-color: #ff00ff; font-weight: bold\">Structured</span><span style=\"color: #000000; text-decoration-color: #000000\"> Data: ch08</span><span style=\"font-weight: bold\">&gt;</span>,      <span style=\"color: #000080; text-decoration-color: #000080\">│</span>\n",
       "<span style=\"color: #000080; text-decoration-color: #000080\">│</span>                <span style=\"font-weight: bold\">&lt;</span><span style=\"color: #ff00ff; text-decoration-color: #ff00ff; font-weight: bold\">Structured</span><span style=\"color: #000000; text-decoration-color: #000000\"> Data: ch09</span><span style=\"font-weight: bold\">&gt;</span>,      <span style=\"color: #000080; text-decoration-color: #000080\">│</span>\n",
       "<span style=\"color: #000080; text-decoration-color: #000080\">│</span>                <span style=\"font-weight: bold\">&lt;</span><span style=\"color: #ff00ff; text-decoration-color: #ff00ff; font-weight: bold\">Structured</span><span style=\"color: #000000; text-decoration-color: #000000\"> Data: ch10</span><span style=\"font-weight: bold\">&gt;</span>,      <span style=\"color: #000080; text-decoration-color: #000080\">│</span>\n",
       "<span style=\"color: #000080; text-decoration-color: #000080\">│</span>                <span style=\"font-weight: bold\">&lt;</span><span style=\"color: #ff00ff; text-decoration-color: #ff00ff; font-weight: bold\">Structured</span><span style=\"color: #000000; text-decoration-color: #000000\"> Data: ch11</span><span style=\"font-weight: bold\">&gt;</span>,      <span style=\"color: #000080; text-decoration-color: #000080\">│</span>\n",
       "<span style=\"color: #000080; text-decoration-color: #000080\">│</span>                <span style=\"font-weight: bold\">&lt;</span><span style=\"color: #ff00ff; text-decoration-color: #ff00ff; font-weight: bold\">Structured</span><span style=\"color: #000000; text-decoration-color: #000000\"> Data: ch12</span><span style=\"font-weight: bold\">&gt;</span>,      <span style=\"color: #000080; text-decoration-color: #000080\">│</span>\n",
       "<span style=\"color: #000080; text-decoration-color: #000080\">│</span>                <span style=\"font-weight: bold\">&lt;</span><span style=\"color: #ff00ff; text-decoration-color: #ff00ff; font-weight: bold\">Structured</span><span style=\"color: #000000; text-decoration-color: #000000\"> Data: ch13</span><span style=\"font-weight: bold\">&gt;</span>,      <span style=\"color: #000080; text-decoration-color: #000080\">│</span>\n",
       "<span style=\"color: #000080; text-decoration-color: #000080\">│</span>                <span style=\"font-weight: bold\">&lt;</span><span style=\"color: #ff00ff; text-decoration-color: #ff00ff; font-weight: bold\">Structured</span><span style=\"color: #000000; text-decoration-color: #000000\"> Data: ch14</span><span style=\"font-weight: bold\">&gt;</span>,      <span style=\"color: #000080; text-decoration-color: #000080\">│</span>\n",
       "<span style=\"color: #000080; text-decoration-color: #000080\">│</span>                <span style=\"font-weight: bold\">&lt;</span><span style=\"color: #ff00ff; text-decoration-color: #ff00ff; font-weight: bold\">Structured</span><span style=\"color: #000000; text-decoration-color: #000000\"> Data: ch15</span><span style=\"font-weight: bold\">&gt;</span>,      <span style=\"color: #000080; text-decoration-color: #000080\">│</span>\n",
       "<span style=\"color: #000080; text-decoration-color: #000080\">│</span>                <span style=\"font-weight: bold\">&lt;</span><span style=\"color: #ff00ff; text-decoration-color: #ff00ff; font-weight: bold\">Structured</span><span style=\"color: #000000; text-decoration-color: #000000\"> Data: ch16</span><span style=\"font-weight: bold\">&gt;</span>,      <span style=\"color: #000080; text-decoration-color: #000080\">│</span>\n",
       "<span style=\"color: #000080; text-decoration-color: #000080\">│</span>                <span style=\"font-weight: bold\">&lt;</span><span style=\"color: #ff00ff; text-decoration-color: #ff00ff; font-weight: bold\">Structured</span><span style=\"color: #000000; text-decoration-color: #000000\"> Data: ch17</span><span style=\"font-weight: bold\">&gt;</span>,      <span style=\"color: #000080; text-decoration-color: #000080\">│</span>\n",
       "<span style=\"color: #000080; text-decoration-color: #000080\">│</span>                <span style=\"font-weight: bold\">&lt;</span><span style=\"color: #ff00ff; text-decoration-color: #ff00ff; font-weight: bold\">Structured</span><span style=\"color: #000000; text-decoration-color: #000000\"> Data: ch18</span><span style=\"font-weight: bold\">&gt;</span>,      <span style=\"color: #000080; text-decoration-color: #000080\">│</span>\n",
       "<span style=\"color: #000080; text-decoration-color: #000080\">│</span>                <span style=\"font-weight: bold\">&lt;</span><span style=\"color: #ff00ff; text-decoration-color: #ff00ff; font-weight: bold\">Structured</span><span style=\"color: #000000; text-decoration-color: #000000\"> Data: ch19</span><span style=\"font-weight: bold\">&gt;</span>,      <span style=\"color: #000080; text-decoration-color: #000080\">│</span>\n",
       "<span style=\"color: #000080; text-decoration-color: #000080\">│</span>                <span style=\"font-weight: bold\">&lt;</span><span style=\"color: #ff00ff; text-decoration-color: #ff00ff; font-weight: bold\">Structured</span><span style=\"color: #000000; text-decoration-color: #000000\"> Data: ch20</span><span style=\"font-weight: bold\">&gt;</span>,      <span style=\"color: #000080; text-decoration-color: #000080\">│</span>\n",
       "<span style=\"color: #000080; text-decoration-color: #000080\">│</span>                <span style=\"font-weight: bold\">&lt;</span><span style=\"color: #ff00ff; text-decoration-color: #ff00ff; font-weight: bold\">Structured</span><span style=\"color: #000000; text-decoration-color: #000000\"> Data: ch21</span><span style=\"font-weight: bold\">&gt;</span>,      <span style=\"color: #000080; text-decoration-color: #000080\">│</span>\n",
       "<span style=\"color: #000080; text-decoration-color: #000080\">│</span>                <span style=\"font-weight: bold\">&lt;</span><span style=\"color: #ff00ff; text-decoration-color: #ff00ff; font-weight: bold\">Structured</span><span style=\"color: #000000; text-decoration-color: #000000\"> Data: ch22</span><span style=\"font-weight: bold\">&gt;</span>,      <span style=\"color: #000080; text-decoration-color: #000080\">│</span>\n",
       "<span style=\"color: #000080; text-decoration-color: #000080\">│</span>                <span style=\"font-weight: bold\">&lt;</span><span style=\"color: #ff00ff; text-decoration-color: #ff00ff; font-weight: bold\">Structured</span><span style=\"color: #000000; text-decoration-color: #000000\"> Data: ch23</span><span style=\"font-weight: bold\">&gt;</span>,      <span style=\"color: #000080; text-decoration-color: #000080\">│</span>\n",
       "<span style=\"color: #000080; text-decoration-color: #000080\">│</span>                <span style=\"font-weight: bold\">&lt;</span><span style=\"color: #ff00ff; text-decoration-color: #ff00ff; font-weight: bold\">Structured</span><span style=\"color: #000000; text-decoration-color: #000000\"> Data: ch24</span><span style=\"font-weight: bold\">&gt;</span>,      <span style=\"color: #000080; text-decoration-color: #000080\">│</span>\n",
       "<span style=\"color: #000080; text-decoration-color: #000080\">│</span>                <span style=\"font-weight: bold\">&lt;</span><span style=\"color: #ff00ff; text-decoration-color: #ff00ff; font-weight: bold\">Structured</span><span style=\"color: #000000; text-decoration-color: #000000\"> Data: ch25</span><span style=\"font-weight: bold\">&gt;</span>,      <span style=\"color: #000080; text-decoration-color: #000080\">│</span>\n",
       "<span style=\"color: #000080; text-decoration-color: #000080\">│</span>                <span style=\"font-weight: bold\">&lt;</span><span style=\"color: #ff00ff; text-decoration-color: #ff00ff; font-weight: bold\">Structured</span><span style=\"color: #000000; text-decoration-color: #000000\"> Data: ch26</span><span style=\"font-weight: bold\">&gt;</span>,      <span style=\"color: #000080; text-decoration-color: #000080\">│</span>\n",
       "<span style=\"color: #000080; text-decoration-color: #000080\">│</span>                <span style=\"font-weight: bold\">&lt;</span><span style=\"color: #ff00ff; text-decoration-color: #ff00ff; font-weight: bold\">Structured</span><span style=\"color: #000000; text-decoration-color: #000000\"> Data: ch27</span><span style=\"font-weight: bold\">&gt;</span>,      <span style=\"color: #000080; text-decoration-color: #000080\">│</span>\n",
       "<span style=\"color: #000080; text-decoration-color: #000080\">│</span>                <span style=\"font-weight: bold\">&lt;</span><span style=\"color: #ff00ff; text-decoration-color: #ff00ff; font-weight: bold\">Structured</span><span style=\"color: #000000; text-decoration-color: #000000\"> Data: ch28</span><span style=\"font-weight: bold\">&gt;</span>,      <span style=\"color: #000080; text-decoration-color: #000080\">│</span>\n",
       "<span style=\"color: #000080; text-decoration-color: #000080\">│</span>                <span style=\"font-weight: bold\">&lt;</span><span style=\"color: #ff00ff; text-decoration-color: #ff00ff; font-weight: bold\">Structured</span><span style=\"color: #000000; text-decoration-color: #000000\"> Data: ch29</span><span style=\"font-weight: bold\">&gt;</span>,      <span style=\"color: #000080; text-decoration-color: #000080\">│</span>\n",
       "<span style=\"color: #000080; text-decoration-color: #000080\">│</span>                <span style=\"font-weight: bold\">&lt;</span><span style=\"color: #ff00ff; text-decoration-color: #ff00ff; font-weight: bold\">Structured</span><span style=\"color: #000000; text-decoration-color: #000000\"> Data: ch30</span><span style=\"font-weight: bold\">&gt;</span>,      <span style=\"color: #000080; text-decoration-color: #000080\">│</span>\n",
       "<span style=\"color: #000080; text-decoration-color: #000080\">│</span>                <span style=\"font-weight: bold\">&lt;</span><span style=\"color: #ff00ff; text-decoration-color: #ff00ff; font-weight: bold\">Structured</span><span style=\"color: #000000; text-decoration-color: #000000\"> Data: ch31</span><span style=\"font-weight: bold\">&gt;</span>,      <span style=\"color: #000080; text-decoration-color: #000080\">│</span>\n",
       "<span style=\"color: #000080; text-decoration-color: #000080\">│</span>                <span style=\"font-weight: bold\">&lt;</span><span style=\"color: #ff00ff; text-decoration-color: #ff00ff; font-weight: bold\">Structured</span><span style=\"color: #000000; text-decoration-color: #000000\"> Data: ch32</span><span style=\"font-weight: bold\">&gt;</span>,      <span style=\"color: #000080; text-decoration-color: #000080\">│</span>\n",
       "<span style=\"color: #000080; text-decoration-color: #000080\">│</span>                <span style=\"font-weight: bold\">&lt;</span><span style=\"color: #ff00ff; text-decoration-color: #ff00ff; font-weight: bold\">Structured</span><span style=\"color: #000000; text-decoration-color: #000000\"> Data: ch33</span><span style=\"font-weight: bold\">&gt;</span>,      <span style=\"color: #000080; text-decoration-color: #000080\">│</span>\n",
       "<span style=\"color: #000080; text-decoration-color: #000080\">│</span>                <span style=\"font-weight: bold\">&lt;</span><span style=\"color: #ff00ff; text-decoration-color: #ff00ff; font-weight: bold\">Structured</span><span style=\"color: #000000; text-decoration-color: #000000\"> Data: ch34</span><span style=\"font-weight: bold\">&gt;</span>,      <span style=\"color: #000080; text-decoration-color: #000080\">│</span>\n",
       "<span style=\"color: #000080; text-decoration-color: #000080\">│</span>                <span style=\"font-weight: bold\">&lt;</span><span style=\"color: #ff00ff; text-decoration-color: #ff00ff; font-weight: bold\">Structured</span><span style=\"color: #000000; text-decoration-color: #000000\"> Data: ch35</span><span style=\"font-weight: bold\">&gt;</span>,      <span style=\"color: #000080; text-decoration-color: #000080\">│</span>\n",
       "<span style=\"color: #000080; text-decoration-color: #000080\">│</span>                <span style=\"font-weight: bold\">&lt;</span><span style=\"color: #ff00ff; text-decoration-color: #ff00ff; font-weight: bold\">Structured</span><span style=\"color: #000000; text-decoration-color: #000000\"> Data: ch36</span><span style=\"font-weight: bold\">&gt;</span>,      <span style=\"color: #000080; text-decoration-color: #000080\">│</span>\n",
       "<span style=\"color: #000080; text-decoration-color: #000080\">│</span>                <span style=\"font-weight: bold\">&lt;</span><span style=\"color: #ff00ff; text-decoration-color: #ff00ff; font-weight: bold\">Structured</span><span style=\"color: #000000; text-decoration-color: #000000\"> Data: ch37</span><span style=\"font-weight: bold\">&gt;</span>,      <span style=\"color: #000080; text-decoration-color: #000080\">│</span>\n",
       "<span style=\"color: #000080; text-decoration-color: #000080\">│</span>                <span style=\"font-weight: bold\">&lt;</span><span style=\"color: #ff00ff; text-decoration-color: #ff00ff; font-weight: bold\">Structured</span><span style=\"color: #000000; text-decoration-color: #000000\"> Data: ch38</span><span style=\"font-weight: bold\">&gt;</span>,      <span style=\"color: #000080; text-decoration-color: #000080\">│</span>\n",
       "<span style=\"color: #000080; text-decoration-color: #000080\">│</span>                <span style=\"font-weight: bold\">&lt;</span><span style=\"color: #ff00ff; text-decoration-color: #ff00ff; font-weight: bold\">Structured</span><span style=\"color: #000000; text-decoration-color: #000000\"> Data: ch39</span><span style=\"font-weight: bold\">&gt;</span>,      <span style=\"color: #000080; text-decoration-color: #000080\">│</span>\n",
       "<span style=\"color: #000080; text-decoration-color: #000080\">│</span>                <span style=\"font-weight: bold\">&lt;</span><span style=\"color: #ff00ff; text-decoration-color: #ff00ff; font-weight: bold\">Structured</span><span style=\"color: #000000; text-decoration-color: #000000\"> Data: ch40</span><span style=\"font-weight: bold\">&gt;</span>,      <span style=\"color: #000080; text-decoration-color: #000080\">│</span>\n",
       "<span style=\"color: #000080; text-decoration-color: #000080\">│</span>                <span style=\"font-weight: bold\">&lt;</span><span style=\"color: #ff00ff; text-decoration-color: #ff00ff; font-weight: bold\">Structured</span><span style=\"color: #000000; text-decoration-color: #000000\"> Data: ch41</span><span style=\"font-weight: bold\">&gt;</span>,      <span style=\"color: #000080; text-decoration-color: #000080\">│</span>\n",
       "<span style=\"color: #000080; text-decoration-color: #000080\">│</span>                <span style=\"font-weight: bold\">&lt;</span><span style=\"color: #ff00ff; text-decoration-color: #ff00ff; font-weight: bold\">Structured</span><span style=\"color: #000000; text-decoration-color: #000000\"> Data: test</span><span style=\"font-weight: bold\">&gt;</span>       <span style=\"color: #000080; text-decoration-color: #000080\">│</span>\n",
       "<span style=\"color: #000080; text-decoration-color: #000080\">│</span>            <span style=\"font-weight: bold\">]</span>                                 <span style=\"color: #000080; text-decoration-color: #000080\">│</span>\n",
       "<span style=\"color: #000080; text-decoration-color: #000080\">│</span>     <span style=\"color: #808000; text-decoration-color: #808000; font-style: italic\">name</span> = <span style=\"color: #008000; text-decoration-color: #008000\">'data'</span>                            <span style=\"color: #000080; text-decoration-color: #000080\">│</span>\n",
       "<span style=\"color: #000080; text-decoration-color: #000080\">╰──────────────────────────────────────────────╯</span>\n",
       "</pre>\n"
      ],
      "text/plain": [
       "\u001b[34m╭─\u001b[0m\u001b[34m \u001b[0m\u001b[1;34m<\u001b[0m\u001b[1;95mclass\u001b[0m\u001b[39m \u001b[0m\u001b[32m'pyuda._structured.StructuredData'\u001b[0m\u001b[1;34m>\u001b[0m\u001b[34m \u001b[0m\u001b[34m─╮\u001b[0m\n",
       "\u001b[34m│\u001b[0m \u001b[32m╭──────────────────────────────────────────╮\u001b[0m \u001b[34m│\u001b[0m\n",
       "\u001b[34m│\u001b[0m \u001b[32m│\u001b[0m \u001b[1m<\u001b[0m\u001b[1;95mStructured\u001b[0m\u001b[39m Data: data\u001b[0m\u001b[1m>\u001b[0m                  \u001b[32m│\u001b[0m \u001b[34m│\u001b[0m\n",
       "\u001b[34m│\u001b[0m \u001b[32m╰──────────────────────────────────────────╯\u001b[0m \u001b[34m│\u001b[0m\n",
       "\u001b[34m│\u001b[0m                                              \u001b[34m│\u001b[0m\n",
       "\u001b[34m│\u001b[0m \u001b[3;33mchildren\u001b[0m = \u001b[1m[\u001b[0m                                 \u001b[34m│\u001b[0m\n",
       "\u001b[34m│\u001b[0m                \u001b[1m<\u001b[0m\u001b[1;95mStructured\u001b[0m\u001b[39m Data: ch00\u001b[0m\u001b[1m>\u001b[0m,      \u001b[34m│\u001b[0m\n",
       "\u001b[34m│\u001b[0m                \u001b[1m<\u001b[0m\u001b[1;95mStructured\u001b[0m\u001b[39m Data: ch01\u001b[0m\u001b[1m>\u001b[0m,      \u001b[34m│\u001b[0m\n",
       "\u001b[34m│\u001b[0m                \u001b[1m<\u001b[0m\u001b[1;95mStructured\u001b[0m\u001b[39m Data: ch02\u001b[0m\u001b[1m>\u001b[0m,      \u001b[34m│\u001b[0m\n",
       "\u001b[34m│\u001b[0m                \u001b[1m<\u001b[0m\u001b[1;95mStructured\u001b[0m\u001b[39m Data: ch03\u001b[0m\u001b[1m>\u001b[0m,      \u001b[34m│\u001b[0m\n",
       "\u001b[34m│\u001b[0m                \u001b[1m<\u001b[0m\u001b[1;95mStructured\u001b[0m\u001b[39m Data: ch04\u001b[0m\u001b[1m>\u001b[0m,      \u001b[34m│\u001b[0m\n",
       "\u001b[34m│\u001b[0m                \u001b[1m<\u001b[0m\u001b[1;95mStructured\u001b[0m\u001b[39m Data: ch05\u001b[0m\u001b[1m>\u001b[0m,      \u001b[34m│\u001b[0m\n",
       "\u001b[34m│\u001b[0m                \u001b[1m<\u001b[0m\u001b[1;95mStructured\u001b[0m\u001b[39m Data: ch06\u001b[0m\u001b[1m>\u001b[0m,      \u001b[34m│\u001b[0m\n",
       "\u001b[34m│\u001b[0m                \u001b[1m<\u001b[0m\u001b[1;95mStructured\u001b[0m\u001b[39m Data: ch07\u001b[0m\u001b[1m>\u001b[0m,      \u001b[34m│\u001b[0m\n",
       "\u001b[34m│\u001b[0m                \u001b[1m<\u001b[0m\u001b[1;95mStructured\u001b[0m\u001b[39m Data: ch08\u001b[0m\u001b[1m>\u001b[0m,      \u001b[34m│\u001b[0m\n",
       "\u001b[34m│\u001b[0m                \u001b[1m<\u001b[0m\u001b[1;95mStructured\u001b[0m\u001b[39m Data: ch09\u001b[0m\u001b[1m>\u001b[0m,      \u001b[34m│\u001b[0m\n",
       "\u001b[34m│\u001b[0m                \u001b[1m<\u001b[0m\u001b[1;95mStructured\u001b[0m\u001b[39m Data: ch10\u001b[0m\u001b[1m>\u001b[0m,      \u001b[34m│\u001b[0m\n",
       "\u001b[34m│\u001b[0m                \u001b[1m<\u001b[0m\u001b[1;95mStructured\u001b[0m\u001b[39m Data: ch11\u001b[0m\u001b[1m>\u001b[0m,      \u001b[34m│\u001b[0m\n",
       "\u001b[34m│\u001b[0m                \u001b[1m<\u001b[0m\u001b[1;95mStructured\u001b[0m\u001b[39m Data: ch12\u001b[0m\u001b[1m>\u001b[0m,      \u001b[34m│\u001b[0m\n",
       "\u001b[34m│\u001b[0m                \u001b[1m<\u001b[0m\u001b[1;95mStructured\u001b[0m\u001b[39m Data: ch13\u001b[0m\u001b[1m>\u001b[0m,      \u001b[34m│\u001b[0m\n",
       "\u001b[34m│\u001b[0m                \u001b[1m<\u001b[0m\u001b[1;95mStructured\u001b[0m\u001b[39m Data: ch14\u001b[0m\u001b[1m>\u001b[0m,      \u001b[34m│\u001b[0m\n",
       "\u001b[34m│\u001b[0m                \u001b[1m<\u001b[0m\u001b[1;95mStructured\u001b[0m\u001b[39m Data: ch15\u001b[0m\u001b[1m>\u001b[0m,      \u001b[34m│\u001b[0m\n",
       "\u001b[34m│\u001b[0m                \u001b[1m<\u001b[0m\u001b[1;95mStructured\u001b[0m\u001b[39m Data: ch16\u001b[0m\u001b[1m>\u001b[0m,      \u001b[34m│\u001b[0m\n",
       "\u001b[34m│\u001b[0m                \u001b[1m<\u001b[0m\u001b[1;95mStructured\u001b[0m\u001b[39m Data: ch17\u001b[0m\u001b[1m>\u001b[0m,      \u001b[34m│\u001b[0m\n",
       "\u001b[34m│\u001b[0m                \u001b[1m<\u001b[0m\u001b[1;95mStructured\u001b[0m\u001b[39m Data: ch18\u001b[0m\u001b[1m>\u001b[0m,      \u001b[34m│\u001b[0m\n",
       "\u001b[34m│\u001b[0m                \u001b[1m<\u001b[0m\u001b[1;95mStructured\u001b[0m\u001b[39m Data: ch19\u001b[0m\u001b[1m>\u001b[0m,      \u001b[34m│\u001b[0m\n",
       "\u001b[34m│\u001b[0m                \u001b[1m<\u001b[0m\u001b[1;95mStructured\u001b[0m\u001b[39m Data: ch20\u001b[0m\u001b[1m>\u001b[0m,      \u001b[34m│\u001b[0m\n",
       "\u001b[34m│\u001b[0m                \u001b[1m<\u001b[0m\u001b[1;95mStructured\u001b[0m\u001b[39m Data: ch21\u001b[0m\u001b[1m>\u001b[0m,      \u001b[34m│\u001b[0m\n",
       "\u001b[34m│\u001b[0m                \u001b[1m<\u001b[0m\u001b[1;95mStructured\u001b[0m\u001b[39m Data: ch22\u001b[0m\u001b[1m>\u001b[0m,      \u001b[34m│\u001b[0m\n",
       "\u001b[34m│\u001b[0m                \u001b[1m<\u001b[0m\u001b[1;95mStructured\u001b[0m\u001b[39m Data: ch23\u001b[0m\u001b[1m>\u001b[0m,      \u001b[34m│\u001b[0m\n",
       "\u001b[34m│\u001b[0m                \u001b[1m<\u001b[0m\u001b[1;95mStructured\u001b[0m\u001b[39m Data: ch24\u001b[0m\u001b[1m>\u001b[0m,      \u001b[34m│\u001b[0m\n",
       "\u001b[34m│\u001b[0m                \u001b[1m<\u001b[0m\u001b[1;95mStructured\u001b[0m\u001b[39m Data: ch25\u001b[0m\u001b[1m>\u001b[0m,      \u001b[34m│\u001b[0m\n",
       "\u001b[34m│\u001b[0m                \u001b[1m<\u001b[0m\u001b[1;95mStructured\u001b[0m\u001b[39m Data: ch26\u001b[0m\u001b[1m>\u001b[0m,      \u001b[34m│\u001b[0m\n",
       "\u001b[34m│\u001b[0m                \u001b[1m<\u001b[0m\u001b[1;95mStructured\u001b[0m\u001b[39m Data: ch27\u001b[0m\u001b[1m>\u001b[0m,      \u001b[34m│\u001b[0m\n",
       "\u001b[34m│\u001b[0m                \u001b[1m<\u001b[0m\u001b[1;95mStructured\u001b[0m\u001b[39m Data: ch28\u001b[0m\u001b[1m>\u001b[0m,      \u001b[34m│\u001b[0m\n",
       "\u001b[34m│\u001b[0m                \u001b[1m<\u001b[0m\u001b[1;95mStructured\u001b[0m\u001b[39m Data: ch29\u001b[0m\u001b[1m>\u001b[0m,      \u001b[34m│\u001b[0m\n",
       "\u001b[34m│\u001b[0m                \u001b[1m<\u001b[0m\u001b[1;95mStructured\u001b[0m\u001b[39m Data: ch30\u001b[0m\u001b[1m>\u001b[0m,      \u001b[34m│\u001b[0m\n",
       "\u001b[34m│\u001b[0m                \u001b[1m<\u001b[0m\u001b[1;95mStructured\u001b[0m\u001b[39m Data: ch31\u001b[0m\u001b[1m>\u001b[0m,      \u001b[34m│\u001b[0m\n",
       "\u001b[34m│\u001b[0m                \u001b[1m<\u001b[0m\u001b[1;95mStructured\u001b[0m\u001b[39m Data: ch32\u001b[0m\u001b[1m>\u001b[0m,      \u001b[34m│\u001b[0m\n",
       "\u001b[34m│\u001b[0m                \u001b[1m<\u001b[0m\u001b[1;95mStructured\u001b[0m\u001b[39m Data: ch33\u001b[0m\u001b[1m>\u001b[0m,      \u001b[34m│\u001b[0m\n",
       "\u001b[34m│\u001b[0m                \u001b[1m<\u001b[0m\u001b[1;95mStructured\u001b[0m\u001b[39m Data: ch34\u001b[0m\u001b[1m>\u001b[0m,      \u001b[34m│\u001b[0m\n",
       "\u001b[34m│\u001b[0m                \u001b[1m<\u001b[0m\u001b[1;95mStructured\u001b[0m\u001b[39m Data: ch35\u001b[0m\u001b[1m>\u001b[0m,      \u001b[34m│\u001b[0m\n",
       "\u001b[34m│\u001b[0m                \u001b[1m<\u001b[0m\u001b[1;95mStructured\u001b[0m\u001b[39m Data: ch36\u001b[0m\u001b[1m>\u001b[0m,      \u001b[34m│\u001b[0m\n",
       "\u001b[34m│\u001b[0m                \u001b[1m<\u001b[0m\u001b[1;95mStructured\u001b[0m\u001b[39m Data: ch37\u001b[0m\u001b[1m>\u001b[0m,      \u001b[34m│\u001b[0m\n",
       "\u001b[34m│\u001b[0m                \u001b[1m<\u001b[0m\u001b[1;95mStructured\u001b[0m\u001b[39m Data: ch38\u001b[0m\u001b[1m>\u001b[0m,      \u001b[34m│\u001b[0m\n",
       "\u001b[34m│\u001b[0m                \u001b[1m<\u001b[0m\u001b[1;95mStructured\u001b[0m\u001b[39m Data: ch39\u001b[0m\u001b[1m>\u001b[0m,      \u001b[34m│\u001b[0m\n",
       "\u001b[34m│\u001b[0m                \u001b[1m<\u001b[0m\u001b[1;95mStructured\u001b[0m\u001b[39m Data: ch40\u001b[0m\u001b[1m>\u001b[0m,      \u001b[34m│\u001b[0m\n",
       "\u001b[34m│\u001b[0m                \u001b[1m<\u001b[0m\u001b[1;95mStructured\u001b[0m\u001b[39m Data: ch41\u001b[0m\u001b[1m>\u001b[0m,      \u001b[34m│\u001b[0m\n",
       "\u001b[34m│\u001b[0m                \u001b[1m<\u001b[0m\u001b[1;95mStructured\u001b[0m\u001b[39m Data: test\u001b[0m\u001b[1m>\u001b[0m       \u001b[34m│\u001b[0m\n",
       "\u001b[34m│\u001b[0m            \u001b[1m]\u001b[0m                                 \u001b[34m│\u001b[0m\n",
       "\u001b[34m│\u001b[0m     \u001b[3;33mname\u001b[0m = \u001b[32m'data'\u001b[0m                            \u001b[34m│\u001b[0m\n",
       "\u001b[34m╰──────────────────────────────────────────────╯\u001b[0m\n"
      ]
     },
     "metadata": {},
     "output_type": "display_data"
    }
   ],
   "source": [
    "data = client.get(\"xms\", shot_1)\n",
    "inspect(data, docs=False)"
   ]
  },
  {
   "cell_type": "markdown",
   "id": "f4cab185",
   "metadata": {},
   "source": [
    "In this case data can be accesses as data.children[i], while in some cases data.children[i].children[j] might be required. \n",
    "Data in this `children` also belongs to a class `StructuredData`."
   ]
  },
  {
   "cell_type": "code",
   "execution_count": 39,
   "id": "39e50338",
   "metadata": {},
   "outputs": [
    {
     "data": {
      "text/html": [
       "<pre style=\"white-space:pre;overflow-x:auto;line-height:normal;font-family:Menlo,'DejaVu Sans Mono',consolas,'Courier New',monospace\"><span style=\"color: #000080; text-decoration-color: #000080\">╭───────────── </span><span style=\"color: #000080; text-decoration-color: #000080; font-weight: bold\">&lt;</span><span style=\"color: #ff00ff; text-decoration-color: #ff00ff; font-weight: bold\">class</span><span style=\"color: #000000; text-decoration-color: #000000\"> </span><span style=\"color: #008000; text-decoration-color: #008000\">'pyuda._structured.StructuredData'</span><span style=\"color: #000080; text-decoration-color: #000080; font-weight: bold\">&gt;</span><span style=\"color: #000080; text-decoration-color: #000080\"> ─────────────╮</span>\n",
       "<span style=\"color: #000080; text-decoration-color: #000080\">│</span> <span style=\"color: #008000; text-decoration-color: #008000\">╭──────────────────────────────────────────────────────────────────╮</span> <span style=\"color: #000080; text-decoration-color: #000080\">│</span>\n",
       "<span style=\"color: #000080; text-decoration-color: #000080\">│</span> <span style=\"color: #008000; text-decoration-color: #008000\">│</span> <span style=\"font-weight: bold\">&lt;</span><span style=\"color: #ff00ff; text-decoration-color: #ff00ff; font-weight: bold\">Structured</span><span style=\"color: #000000; text-decoration-color: #000000\"> Data: ch11</span><span style=\"font-weight: bold\">&gt;</span>                                          <span style=\"color: #008000; text-decoration-color: #008000\">│</span> <span style=\"color: #000080; text-decoration-color: #000080\">│</span>\n",
       "<span style=\"color: #000080; text-decoration-color: #000080\">│</span> <span style=\"color: #008000; text-decoration-color: #008000\">╰──────────────────────────────────────────────────────────────────╯</span> <span style=\"color: #000080; text-decoration-color: #000080\">│</span>\n",
       "<span style=\"color: #000080; text-decoration-color: #000080\">│</span>                                                                      <span style=\"color: #000080; text-decoration-color: #000080\">│</span>\n",
       "<span style=\"color: #000080; text-decoration-color: #000080\">│</span>    <span style=\"color: #808000; text-decoration-color: #808000; font-style: italic\">channel</span> = <span style=\"color: #800080; text-decoration-color: #800080; font-weight: bold\">array</span><span style=\"font-weight: bold\">([</span><span style=\"color: #008080; text-decoration-color: #008080; font-weight: bold\">4</span><span style=\"font-weight: bold\">]</span>, <span style=\"color: #808000; text-decoration-color: #808000\">dtype</span>=<span style=\"color: #800080; text-decoration-color: #800080\">int32</span><span style=\"font-weight: bold\">)</span>                                 <span style=\"color: #000080; text-decoration-color: #000080\">│</span>\n",
       "<span style=\"color: #000080; text-decoration-color: #000080\">│</span>   <span style=\"color: #808000; text-decoration-color: #808000; font-style: italic\">children</span> = <span style=\"font-weight: bold\">[]</span>                                                      <span style=\"color: #000080; text-decoration-color: #000080\">│</span>\n",
       "<span style=\"color: #000080; text-decoration-color: #000080\">│</span>       <span style=\"color: #808000; text-decoration-color: #808000; font-style: italic\">data</span> = <span style=\"color: #800080; text-decoration-color: #800080; font-weight: bold\">array</span><span style=\"font-weight: bold\">([</span><span style=\"color: #008080; text-decoration-color: #008080; font-weight: bold\">-60</span>,   <span style=\"color: #008080; text-decoration-color: #008080; font-weight: bold\">8</span>, <span style=\"color: #008080; text-decoration-color: #008080; font-weight: bold\">-36</span>, <span style=\"color: #808000; text-decoration-color: #808000\">...</span>, <span style=\"color: #008080; text-decoration-color: #008080; font-weight: bold\">-36</span>, <span style=\"color: #008080; text-decoration-color: #008080; font-weight: bold\">-52</span>,   <span style=\"color: #008080; text-decoration-color: #008080; font-weight: bold\">4</span><span style=\"font-weight: bold\">]</span>, <span style=\"color: #808000; text-decoration-color: #808000\">dtype</span>=<span style=\"color: #800080; text-decoration-color: #800080\">int16</span><span style=\"font-weight: bold\">)</span> <span style=\"color: #000080; text-decoration-color: #000080\">│</span>\n",
       "<span style=\"color: #000080; text-decoration-color: #000080\">│</span>     <span style=\"color: #808000; text-decoration-color: #808000; font-style: italic\">device</span> = <span style=\"color: #008000; text-decoration-color: #008000\">'/devices/d3_pxi6133'</span>                                   <span style=\"color: #000080; text-decoration-color: #000080\">│</span>\n",
       "<span style=\"color: #000080; text-decoration-color: #000080\">│</span> <span style=\"color: #808000; text-decoration-color: #808000; font-style: italic\">dimensions</span> = <span style=\"color: #008000; text-decoration-color: #008000\">'time1=650000'</span>                                          <span style=\"color: #000080; text-decoration-color: #000080\">│</span>\n",
       "<span style=\"color: #000080; text-decoration-color: #000080\">│</span>       <span style=\"color: #808000; text-decoration-color: #808000; font-style: italic\">name</span> = <span style=\"color: #008000; text-decoration-color: #008000\">'ch11'</span>                                                  <span style=\"color: #000080; text-decoration-color: #000080\">│</span>\n",
       "<span style=\"color: #000080; text-decoration-color: #000080\">│</span>     <span style=\"color: #808000; text-decoration-color: #808000; font-style: italic\">offset</span> = <span style=\"color: #800080; text-decoration-color: #800080; font-weight: bold\">array</span><span style=\"font-weight: bold\">([</span><span style=\"color: #008080; text-decoration-color: #008080; font-weight: bold\">0</span>.<span style=\"font-weight: bold\">]</span>, <span style=\"color: #808000; text-decoration-color: #808000\">dtype</span>=<span style=\"color: #800080; text-decoration-color: #800080\">float32</span><span style=\"font-weight: bold\">)</span>                              <span style=\"color: #000080; text-decoration-color: #000080\">│</span>\n",
       "<span style=\"color: #000080; text-decoration-color: #000080\">│</span>      <span style=\"color: #808000; text-decoration-color: #808000; font-style: italic\">scale</span> = <span style=\"color: #800080; text-decoration-color: #800080; font-weight: bold\">array</span><span style=\"font-weight: bold\">([</span><span style=\"color: #008080; text-decoration-color: #008080; font-weight: bold\">3.8147555e-05</span><span style=\"font-weight: bold\">]</span>, <span style=\"color: #808000; text-decoration-color: #808000\">dtype</span>=<span style=\"color: #800080; text-decoration-color: #800080\">float32</span><span style=\"font-weight: bold\">)</span>                   <span style=\"color: #000080; text-decoration-color: #000080\">│</span>\n",
       "<span style=\"color: #000080; text-decoration-color: #000080\">│</span>      <span style=\"color: #808000; text-decoration-color: #808000; font-style: italic\">title</span> = <span style=\"color: #008000; text-decoration-color: #008000\">'Volt'</span>                                                  <span style=\"color: #000080; text-decoration-color: #000080\">│</span>\n",
       "<span style=\"color: #000080; text-decoration-color: #000080\">│</span>      <span style=\"color: #808000; text-decoration-color: #808000; font-style: italic\">units</span> = <span style=\"color: #008000; text-decoration-color: #008000\">'V'</span>                                                     <span style=\"color: #000080; text-decoration-color: #000080\">│</span>\n",
       "<span style=\"color: #000080; text-decoration-color: #000080\">╰──────────────────────────────────────────────────────────────────────╯</span>\n",
       "</pre>\n"
      ],
      "text/plain": [
       "\u001b[34m╭─\u001b[0m\u001b[34m──────────── \u001b[0m\u001b[1;34m<\u001b[0m\u001b[1;95mclass\u001b[0m\u001b[39m \u001b[0m\u001b[32m'pyuda._structured.StructuredData'\u001b[0m\u001b[1;34m>\u001b[0m\u001b[34m ────────────\u001b[0m\u001b[34m─╮\u001b[0m\n",
       "\u001b[34m│\u001b[0m \u001b[32m╭──────────────────────────────────────────────────────────────────╮\u001b[0m \u001b[34m│\u001b[0m\n",
       "\u001b[34m│\u001b[0m \u001b[32m│\u001b[0m \u001b[1m<\u001b[0m\u001b[1;95mStructured\u001b[0m\u001b[39m Data: ch11\u001b[0m\u001b[1m>\u001b[0m                                          \u001b[32m│\u001b[0m \u001b[34m│\u001b[0m\n",
       "\u001b[34m│\u001b[0m \u001b[32m╰──────────────────────────────────────────────────────────────────╯\u001b[0m \u001b[34m│\u001b[0m\n",
       "\u001b[34m│\u001b[0m                                                                      \u001b[34m│\u001b[0m\n",
       "\u001b[34m│\u001b[0m    \u001b[3;33mchannel\u001b[0m = \u001b[1;35marray\u001b[0m\u001b[1m(\u001b[0m\u001b[1m[\u001b[0m\u001b[1;36m4\u001b[0m\u001b[1m]\u001b[0m, \u001b[33mdtype\u001b[0m=\u001b[35mint32\u001b[0m\u001b[1m)\u001b[0m                                 \u001b[34m│\u001b[0m\n",
       "\u001b[34m│\u001b[0m   \u001b[3;33mchildren\u001b[0m = \u001b[1m[\u001b[0m\u001b[1m]\u001b[0m                                                      \u001b[34m│\u001b[0m\n",
       "\u001b[34m│\u001b[0m       \u001b[3;33mdata\u001b[0m = \u001b[1;35marray\u001b[0m\u001b[1m(\u001b[0m\u001b[1m[\u001b[0m\u001b[1;36m-60\u001b[0m,   \u001b[1;36m8\u001b[0m, \u001b[1;36m-36\u001b[0m, \u001b[33m...\u001b[0m, \u001b[1;36m-36\u001b[0m, \u001b[1;36m-52\u001b[0m,   \u001b[1;36m4\u001b[0m\u001b[1m]\u001b[0m, \u001b[33mdtype\u001b[0m=\u001b[35mint16\u001b[0m\u001b[1m)\u001b[0m \u001b[34m│\u001b[0m\n",
       "\u001b[34m│\u001b[0m     \u001b[3;33mdevice\u001b[0m = \u001b[32m'/devices/d3_pxi6133'\u001b[0m                                   \u001b[34m│\u001b[0m\n",
       "\u001b[34m│\u001b[0m \u001b[3;33mdimensions\u001b[0m = \u001b[32m'\u001b[0m\u001b[32mtime1\u001b[0m\u001b[32m=\u001b[0m\u001b[32m650000\u001b[0m\u001b[32m'\u001b[0m                                          \u001b[34m│\u001b[0m\n",
       "\u001b[34m│\u001b[0m       \u001b[3;33mname\u001b[0m = \u001b[32m'ch11'\u001b[0m                                                  \u001b[34m│\u001b[0m\n",
       "\u001b[34m│\u001b[0m     \u001b[3;33moffset\u001b[0m = \u001b[1;35marray\u001b[0m\u001b[1m(\u001b[0m\u001b[1m[\u001b[0m\u001b[1;36m0\u001b[0m.\u001b[1m]\u001b[0m, \u001b[33mdtype\u001b[0m=\u001b[35mfloat32\u001b[0m\u001b[1m)\u001b[0m                              \u001b[34m│\u001b[0m\n",
       "\u001b[34m│\u001b[0m      \u001b[3;33mscale\u001b[0m = \u001b[1;35marray\u001b[0m\u001b[1m(\u001b[0m\u001b[1m[\u001b[0m\u001b[1;36m3.8147555e-05\u001b[0m\u001b[1m]\u001b[0m, \u001b[33mdtype\u001b[0m=\u001b[35mfloat32\u001b[0m\u001b[1m)\u001b[0m                   \u001b[34m│\u001b[0m\n",
       "\u001b[34m│\u001b[0m      \u001b[3;33mtitle\u001b[0m = \u001b[32m'Volt'\u001b[0m                                                  \u001b[34m│\u001b[0m\n",
       "\u001b[34m│\u001b[0m      \u001b[3;33munits\u001b[0m = \u001b[32m'V'\u001b[0m                                                     \u001b[34m│\u001b[0m\n",
       "\u001b[34m╰──────────────────────────────────────────────────────────────────────╯\u001b[0m\n"
      ]
     },
     "metadata": {},
     "output_type": "display_data"
    }
   ],
   "source": [
    "inspect(data.children[11], docs=False)"
   ]
  },
  {
   "cell_type": "markdown",
   "id": "bcd85b74",
   "metadata": {},
   "source": [
    "Here we access data together with scale, as shown below (method 2) - data accessed as `Signal` is provided as an already scaled array. It worth noticing that data here is of int16 type, which seems a bit curious, after scaling it becomes a float32 (the same as we get accessing it with `SIGNAL` name). "
   ]
  },
  {
   "cell_type": "markdown",
   "id": "853e0a3b",
   "metadata": {},
   "source": [
    "<div class=\"alert alert-block alert-info\">\n",
    "<b>Note:</b> In this case data is accessed unscaled, with scale available as an array within `data.children`. Another curios thing is the data being an array of int16, while scale is a float32. When data accessed as a Signal, it is available scaled and having a type float32.\n",
    "</div>"
   ]
  },
  {
   "cell_type": "markdown",
   "id": "e837310e",
   "metadata": {},
   "source": [
    "Below is demonstrated the second and the recommended method for data access which uses the `SIGNAL` name.\n",
    "Data in this case belongs to the class `Signal`. In this example we are retrieving exactly the same data array as above. One can observe that array of the data is different from the previous, because it is automatically scaled."
   ]
  },
  {
   "cell_type": "markdown",
   "id": "3cb3f7ea",
   "metadata": {},
   "source": [
    "Previously, we accessed xms alias with `data.children[11]` which is the channel 11(ch11) of the `SOURCE`. To be able to retrieve the exact same signal, `alias_signal_dict` in Sec. [3.1.2.2] can be useful. We can see which `SIGNALS` belong to xms `SOURCE`. "
   ]
  },
  {
   "cell_type": "code",
   "execution_count": 42,
   "id": "da0f8d6f-09e9-4ee2-96af-4754566c99fe",
   "metadata": {},
   "outputs": [
    {
     "data": {
      "text/html": [
       "<pre style=\"white-space:pre;overflow-x:auto;line-height:normal;font-family:Menlo,'DejaVu Sans Mono',consolas,'Courier New',monospace\"><span style=\"color: #008000; text-decoration-color: #008000\">'/XMS/CH22'</span>, <span style=\"color: #008000; text-decoration-color: #008000\">'/XMS/CH06'</span>, <span style=\"color: #008000; text-decoration-color: #008000\">'/XMS/CH29'</span>, <span style=\"color: #008000; text-decoration-color: #008000\">'/XMS/DEVICES/D3_PXI6133/RANGE'</span>, <span style=\"color: #008000; text-decoration-color: #008000\">'/XMS/DEVICES/D4_PXI6133/RANGE'</span>, \n",
       "<span style=\"color: #008000; text-decoration-color: #008000\">'/XMS/CH16'</span>, <span style=\"color: #008000; text-decoration-color: #008000\">'/XMS/DEVICES/D3_PXI6133/CHANNEL'</span>, <span style=\"color: #008000; text-decoration-color: #008000\">'/XMS/CH26'</span>, <span style=\"color: #008000; text-decoration-color: #008000\">'/XMS/DEVICES/D6_PXI6133/CHANNEL'</span>, <span style=\"color: #008000; text-decoration-color: #008000\">'/XMS/CH04'</span>, \n",
       "<span style=\"color: #008000; text-decoration-color: #008000\">'/XMS/CH05'</span>, <span style=\"color: #008000; text-decoration-color: #008000\">'/XMS/CH01'</span>, <span style=\"color: #008000; text-decoration-color: #008000\">'/XMS/CH09'</span>, <span style=\"color: #008000; text-decoration-color: #008000\">'/XMS/CH23'</span>, <span style=\"color: #008000; text-decoration-color: #008000\">'/XMS/CH33'</span>, <span style=\"color: #008000; text-decoration-color: #008000\">'/XMS/CH40'</span>, <span style=\"color: #008000; text-decoration-color: #008000\">'/XMS/DEVICES/D5_PXI6133/RANGE'</span>, \n",
       "<span style=\"color: #008000; text-decoration-color: #008000\">'/XMS/DEVICES/D4_PXI6133/CHANNEL'</span>, <span style=\"color: #008000; text-decoration-color: #008000\">'/XMS/CH18'</span>, <span style=\"color: #008000; text-decoration-color: #008000\">'/XMS/CH12'</span>, <span style=\"color: #008000; text-decoration-color: #008000\">'/XMS/DEVICES/D7_PXI6133/CHANNEL'</span>, \n",
       "<span style=\"color: #008000; text-decoration-color: #008000\">'/XMS/DEVICES/D6_PXI6133/RANGE'</span>, <span style=\"color: #008000; text-decoration-color: #008000\">'/XMS/CH11'</span>, <span style=\"color: #008000; text-decoration-color: #008000\">'/XMS/CH13'</span>, <span style=\"color: #008000; text-decoration-color: #008000\">'/XMS/CH39'</span>, <span style=\"color: #008000; text-decoration-color: #008000\">'/XMS/CH03'</span>, <span style=\"color: #008000; text-decoration-color: #008000\">'/XMS/CH35'</span>, \n",
       "<span style=\"color: #008000; text-decoration-color: #008000\">'/XMS/DEVICES/D5_PXI6133/CHANNEL'</span>, <span style=\"color: #008000; text-decoration-color: #008000\">'/XMS/DEVICES/D2_PXI6133/CHANNEL'</span>, <span style=\"color: #008000; text-decoration-color: #008000\">'/XMS/CH00'</span>, <span style=\"color: #008000; text-decoration-color: #008000\">'/XMS/CH31'</span>, <span style=\"color: #008000; text-decoration-color: #008000\">'/XMS/CH10'</span>, \n",
       "<span style=\"color: #008000; text-decoration-color: #008000\">'/XMS/CH37'</span>, <span style=\"color: #008000; text-decoration-color: #008000\">'/XMS/CH27'</span>, <span style=\"color: #008000; text-decoration-color: #008000\">'/XMS/CH20'</span>, <span style=\"color: #008000; text-decoration-color: #008000\">'/XMS/CH24'</span>, <span style=\"color: #008000; text-decoration-color: #008000\">'/XMS/CH28'</span>, <span style=\"color: #008000; text-decoration-color: #008000\">'/XMS/CH30'</span>, <span style=\"color: #008000; text-decoration-color: #008000\">'/XMS/CH07'</span>, <span style=\"color: #008000; text-decoration-color: #008000\">'/XMS/TEST'</span>, \n",
       "<span style=\"color: #008000; text-decoration-color: #008000\">'/XMS/CH34'</span>, <span style=\"color: #008000; text-decoration-color: #008000\">'/XMS/CH25'</span>, <span style=\"color: #008000; text-decoration-color: #008000\">'/XMS/CH08'</span>, <span style=\"color: #008000; text-decoration-color: #008000\">'/XMS/CH17'</span>, <span style=\"color: #008000; text-decoration-color: #008000\">'/XMS/CH41'</span>, <span style=\"color: #008000; text-decoration-color: #008000\">'/XMS/CH36'</span>, <span style=\"color: #008000; text-decoration-color: #008000\">'/XMS/DEVICES/LIMIT'</span>, <span style=\"color: #008000; text-decoration-color: #008000\">'/XMS/CH02'</span>, \n",
       "<span style=\"color: #008000; text-decoration-color: #008000\">'/XMS/CH21'</span>, <span style=\"color: #008000; text-decoration-color: #008000\">'/XMS/DEVICES/D2_PXI6133/RANGE'</span>, <span style=\"color: #008000; text-decoration-color: #008000\">'/XMS/CH14'</span>, <span style=\"color: #008000; text-decoration-color: #008000\">'/XMS/CH15'</span>, <span style=\"color: #008000; text-decoration-color: #008000\">'/XMS/CH32'</span>, <span style=\"color: #008000; text-decoration-color: #008000\">'/XMS/TIME1'</span>, \n",
       "<span style=\"color: #008000; text-decoration-color: #008000\">'/XMS/DEVICES/D7_PXI6133/RANGE'</span>, <span style=\"color: #008000; text-decoration-color: #008000\">'/XMS/CH38'</span>, <span style=\"color: #008000; text-decoration-color: #008000\">'/XMS/CH19'</span>\n",
       "</pre>\n"
      ],
      "text/plain": [
       "\u001b[32m'/XMS/CH22'\u001b[0m, \u001b[32m'/XMS/CH06'\u001b[0m, \u001b[32m'/XMS/CH29'\u001b[0m, \u001b[32m'/XMS/DEVICES/D3_PXI6133/RANGE'\u001b[0m, \u001b[32m'/XMS/DEVICES/D4_PXI6133/RANGE'\u001b[0m, \n",
       "\u001b[32m'/XMS/CH16'\u001b[0m, \u001b[32m'/XMS/DEVICES/D3_PXI6133/CHANNEL'\u001b[0m, \u001b[32m'/XMS/CH26'\u001b[0m, \u001b[32m'/XMS/DEVICES/D6_PXI6133/CHANNEL'\u001b[0m, \u001b[32m'/XMS/CH04'\u001b[0m, \n",
       "\u001b[32m'/XMS/CH05'\u001b[0m, \u001b[32m'/XMS/CH01'\u001b[0m, \u001b[32m'/XMS/CH09'\u001b[0m, \u001b[32m'/XMS/CH23'\u001b[0m, \u001b[32m'/XMS/CH33'\u001b[0m, \u001b[32m'/XMS/CH40'\u001b[0m, \u001b[32m'/XMS/DEVICES/D5_PXI6133/RANGE'\u001b[0m, \n",
       "\u001b[32m'/XMS/DEVICES/D4_PXI6133/CHANNEL'\u001b[0m, \u001b[32m'/XMS/CH18'\u001b[0m, \u001b[32m'/XMS/CH12'\u001b[0m, \u001b[32m'/XMS/DEVICES/D7_PXI6133/CHANNEL'\u001b[0m, \n",
       "\u001b[32m'/XMS/DEVICES/D6_PXI6133/RANGE'\u001b[0m, \u001b[32m'/XMS/CH11'\u001b[0m, \u001b[32m'/XMS/CH13'\u001b[0m, \u001b[32m'/XMS/CH39'\u001b[0m, \u001b[32m'/XMS/CH03'\u001b[0m, \u001b[32m'/XMS/CH35'\u001b[0m, \n",
       "\u001b[32m'/XMS/DEVICES/D5_PXI6133/CHANNEL'\u001b[0m, \u001b[32m'/XMS/DEVICES/D2_PXI6133/CHANNEL'\u001b[0m, \u001b[32m'/XMS/CH00'\u001b[0m, \u001b[32m'/XMS/CH31'\u001b[0m, \u001b[32m'/XMS/CH10'\u001b[0m, \n",
       "\u001b[32m'/XMS/CH37'\u001b[0m, \u001b[32m'/XMS/CH27'\u001b[0m, \u001b[32m'/XMS/CH20'\u001b[0m, \u001b[32m'/XMS/CH24'\u001b[0m, \u001b[32m'/XMS/CH28'\u001b[0m, \u001b[32m'/XMS/CH30'\u001b[0m, \u001b[32m'/XMS/CH07'\u001b[0m, \u001b[32m'/XMS/TEST'\u001b[0m, \n",
       "\u001b[32m'/XMS/CH34'\u001b[0m, \u001b[32m'/XMS/CH25'\u001b[0m, \u001b[32m'/XMS/CH08'\u001b[0m, \u001b[32m'/XMS/CH17'\u001b[0m, \u001b[32m'/XMS/CH41'\u001b[0m, \u001b[32m'/XMS/CH36'\u001b[0m, \u001b[32m'/XMS/DEVICES/LIMIT'\u001b[0m, \u001b[32m'/XMS/CH02'\u001b[0m, \n",
       "\u001b[32m'/XMS/CH21'\u001b[0m, \u001b[32m'/XMS/DEVICES/D2_PXI6133/RANGE'\u001b[0m, \u001b[32m'/XMS/CH14'\u001b[0m, \u001b[32m'/XMS/CH15'\u001b[0m, \u001b[32m'/XMS/CH32'\u001b[0m, \u001b[32m'/XMS/TIME1'\u001b[0m, \n",
       "\u001b[32m'/XMS/DEVICES/D7_PXI6133/RANGE'\u001b[0m, \u001b[32m'/XMS/CH38'\u001b[0m, \u001b[32m'/XMS/CH19'\u001b[0m\n"
      ]
     },
     "metadata": {},
     "output_type": "display_data"
    }
   ],
   "source": [
    "# the signals\n",
    "print(str(alias_signal_dict[\"xms\"])[1:-1])"
   ]
  },
  {
   "cell_type": "markdown",
   "id": "45b32097",
   "metadata": {},
   "source": [
    "Retrieved data `XMS/CH11` belongs to the class `Signal`."
   ]
  },
  {
   "cell_type": "code",
   "execution_count": 43,
   "id": "5b98510f",
   "metadata": {},
   "outputs": [
    {
     "data": {
      "text/html": [
       "<pre style=\"white-space:pre;overflow-x:auto;line-height:normal;font-family:Menlo,'DejaVu Sans Mono',consolas,'Courier New',monospace\"><span style=\"color: #000080; text-decoration-color: #000080\">╭─────────────────────────────────── </span><span style=\"color: #000080; text-decoration-color: #000080; font-weight: bold\">&lt;</span><span style=\"color: #ff00ff; text-decoration-color: #ff00ff; font-weight: bold\">class</span><span style=\"color: #000000; text-decoration-color: #000000\"> </span><span style=\"color: #008000; text-decoration-color: #008000\">'pyuda._signal.Signal'</span><span style=\"color: #000080; text-decoration-color: #000080; font-weight: bold\">&gt;</span><span style=\"color: #000080; text-decoration-color: #000080\"> ───────────────────────────────────╮</span>\n",
       "<span style=\"color: #000080; text-decoration-color: #000080\">│</span> <span style=\"color: #008000; text-decoration-color: #008000\">╭──────────────────────────────────────────────────────────────────────────────────────────────────╮</span> <span style=\"color: #000080; text-decoration-color: #000080\">│</span>\n",
       "<span style=\"color: #000080; text-decoration-color: #000080\">│</span> <span style=\"color: #008000; text-decoration-color: #008000\">│</span> <span style=\"font-weight: bold\">&lt;</span><span style=\"color: #ff00ff; text-decoration-color: #ff00ff; font-weight: bold\">Signal:</span><span style=\"color: #000000; text-decoration-color: #000000\"> Volt</span><span style=\"font-weight: bold\">&gt;</span>                                                                                   <span style=\"color: #008000; text-decoration-color: #008000\">│</span> <span style=\"color: #000080; text-decoration-color: #000080\">│</span>\n",
       "<span style=\"color: #000080; text-decoration-color: #000080\">│</span> <span style=\"color: #008000; text-decoration-color: #008000\">╰──────────────────────────────────────────────────────────────────────────────────────────────────╯</span> <span style=\"color: #000080; text-decoration-color: #000080\">│</span>\n",
       "<span style=\"color: #000080; text-decoration-color: #000080\">│</span>                                                                                                      <span style=\"color: #000080; text-decoration-color: #000080\">│</span>\n",
       "<span style=\"color: #000080; text-decoration-color: #000080\">│</span>        <span style=\"color: #808000; text-decoration-color: #808000; font-style: italic\">data</span> = <span style=\"color: #800080; text-decoration-color: #800080; font-weight: bold\">array</span><span style=\"font-weight: bold\">([</span><span style=\"color: #008080; text-decoration-color: #008080; font-weight: bold\">-0.00228885</span>,  <span style=\"color: #008080; text-decoration-color: #008080; font-weight: bold\">0.00030518</span>, <span style=\"color: #008080; text-decoration-color: #008080; font-weight: bold\">-0.00137331</span>, <span style=\"color: #808000; text-decoration-color: #808000\">...</span>, <span style=\"color: #008080; text-decoration-color: #008080; font-weight: bold\">-0.00137331</span>,                        <span style=\"color: #000080; text-decoration-color: #000080\">│</span>\n",
       "<span style=\"color: #000080; text-decoration-color: #000080\">│</span>                      <span style=\"color: #008080; text-decoration-color: #008080; font-weight: bold\">-0.00198367</span>,  <span style=\"color: #008080; text-decoration-color: #008080; font-weight: bold\">0.00015259</span><span style=\"font-weight: bold\">]</span>, <span style=\"color: #808000; text-decoration-color: #808000\">dtype</span>=<span style=\"color: #800080; text-decoration-color: #800080\">float32</span><span style=\"font-weight: bold\">)</span>                                       <span style=\"color: #000080; text-decoration-color: #000080\">│</span>\n",
       "<span style=\"color: #000080; text-decoration-color: #000080\">│</span> <span style=\"color: #808000; text-decoration-color: #808000; font-style: italic\">description</span> = <span style=\"color: #008000; text-decoration-color: #008000\">''</span>                                                                                     <span style=\"color: #000080; text-decoration-color: #000080\">│</span>\n",
       "<span style=\"color: #000080; text-decoration-color: #000080\">│</span>        <span style=\"color: #808000; text-decoration-color: #808000; font-style: italic\">dims</span> = <span style=\"font-weight: bold\">[&lt;</span><span style=\"color: #ff00ff; text-decoration-color: #ff00ff; font-weight: bold\">Dim:</span><span style=\"color: #000000; text-decoration-color: #000000\"> Time</span><span style=\"font-weight: bold\">&gt;]</span>                                                                          <span style=\"color: #000080; text-decoration-color: #000080\">│</span>\n",
       "<span style=\"color: #000080; text-decoration-color: #000080\">│</span>      <span style=\"color: #808000; text-decoration-color: #808000; font-style: italic\">errors</span> = <span style=\"color: #800080; text-decoration-color: #800080; font-weight: bold\">array</span><span style=\"font-weight: bold\">([</span><span style=\"color: #008080; text-decoration-color: #008080; font-weight: bold\">0</span>., <span style=\"color: #008080; text-decoration-color: #008080; font-weight: bold\">0</span>., <span style=\"color: #008080; text-decoration-color: #008080; font-weight: bold\">0</span>., <span style=\"color: #808000; text-decoration-color: #808000\">...</span>, <span style=\"color: #008080; text-decoration-color: #008080; font-weight: bold\">0</span>., <span style=\"color: #008080; text-decoration-color: #008080; font-weight: bold\">0</span>., <span style=\"color: #008080; text-decoration-color: #008080; font-weight: bold\">0</span>.<span style=\"font-weight: bold\">]</span>, <span style=\"color: #808000; text-decoration-color: #808000\">dtype</span>=<span style=\"color: #800080; text-decoration-color: #800080\">float32</span><span style=\"font-weight: bold\">)</span>                                    <span style=\"color: #000080; text-decoration-color: #000080\">│</span>\n",
       "<span style=\"color: #000080; text-decoration-color: #000080\">│</span>       <span style=\"color: #808000; text-decoration-color: #808000; font-style: italic\">label</span> = <span style=\"color: #008000; text-decoration-color: #008000\">'Volt'</span>                                                                                 <span style=\"color: #000080; text-decoration-color: #000080\">│</span>\n",
       "<span style=\"color: #000080; text-decoration-color: #000080\">│</span>        <span style=\"color: #808000; text-decoration-color: #808000; font-style: italic\">meta</span> = <span style=\"font-weight: bold\">{</span>                                                                                      <span style=\"color: #000080; text-decoration-color: #000080\">│</span>\n",
       "<span style=\"color: #000080; text-decoration-color: #000080\">│</span>                   <span style=\"color: #008000; text-decoration-color: #008000\">'signal_name'</span>: <span style=\"color: #008000; text-decoration-color: #008000\">b'/xms/ch11'</span>,                                                       <span style=\"color: #000080; text-decoration-color: #000080\">│</span>\n",
       "<span style=\"color: #000080; text-decoration-color: #000080\">│</span>                   <span style=\"color: #008000; text-decoration-color: #008000\">'signal_alias'</span>: <span style=\"color: #008000; text-decoration-color: #008000\">b'/XMS/CH11'</span>,                                                      <span style=\"color: #000080; text-decoration-color: #000080\">│</span>\n",
       "<span style=\"color: #000080; text-decoration-color: #000080\">│</span>                   <span style=\"color: #008000; text-decoration-color: #008000\">'path'</span>: <span style=\"color: #008000; text-decoration-color: #008000\">b'/net/mustrgsrvr1/export/mastu/data/MAST_Data/27933/LATEST/xms027933.nc'</span>, <span style=\"color: #000080; text-decoration-color: #000080\">│</span>\n",
       "<span style=\"color: #000080; text-decoration-color: #000080\">│</span>                   <span style=\"color: #008000; text-decoration-color: #008000\">'filename'</span>: <span style=\"color: #008000; text-decoration-color: #008000\">b'xms027933.nc'</span>,                                                       <span style=\"color: #000080; text-decoration-color: #000080\">│</span>\n",
       "<span style=\"color: #000080; text-decoration-color: #000080\">│</span>                   <span style=\"color: #008000; text-decoration-color: #008000\">'format'</span>: <span style=\"color: #008000; text-decoration-color: #008000\">b'CDF'</span>,                                                                  <span style=\"color: #000080; text-decoration-color: #000080\">│</span>\n",
       "<span style=\"color: #000080; text-decoration-color: #000080\">│</span>                   <span style=\"color: #008000; text-decoration-color: #008000\">'exp_number'</span>: <span style=\"color: #008080; text-decoration-color: #008080; font-weight: bold\">27933</span>,                                                               <span style=\"color: #000080; text-decoration-color: #000080\">│</span>\n",
       "<span style=\"color: #000080; text-decoration-color: #000080\">│</span>                   <span style=\"color: #008000; text-decoration-color: #008000\">'pass'</span>: <span style=\"color: #008080; text-decoration-color: #008080; font-weight: bold\">-1</span>,                                                                        <span style=\"color: #000080; text-decoration-color: #000080\">│</span>\n",
       "<span style=\"color: #000080; text-decoration-color: #000080\">│</span>                   <span style=\"color: #008000; text-decoration-color: #008000\">'pass_date'</span>: <span style=\"color: #008000; text-decoration-color: #008000\">b'2011-12-15'</span>                                                         <span style=\"color: #000080; text-decoration-color: #000080\">│</span>\n",
       "<span style=\"color: #000080; text-decoration-color: #000080\">│</span>               <span style=\"font-weight: bold\">}</span>                                                                                      <span style=\"color: #000080; text-decoration-color: #000080\">│</span>\n",
       "<span style=\"color: #000080; text-decoration-color: #000080\">│</span>        <span style=\"color: #808000; text-decoration-color: #808000; font-style: italic\">rank</span> = <span style=\"color: #008080; text-decoration-color: #008080; font-weight: bold\">1</span>                                                                                      <span style=\"color: #000080; text-decoration-color: #000080\">│</span>\n",
       "<span style=\"color: #000080; text-decoration-color: #000080\">│</span>       <span style=\"color: #808000; text-decoration-color: #808000; font-style: italic\">shape</span> = <span style=\"font-weight: bold\">(</span><span style=\"color: #008080; text-decoration-color: #008080; font-weight: bold\">650000</span>,<span style=\"font-weight: bold\">)</span>                                                                              <span style=\"color: #000080; text-decoration-color: #000080\">│</span>\n",
       "<span style=\"color: #000080; text-decoration-color: #000080\">│</span>        <span style=\"color: #808000; text-decoration-color: #808000; font-style: italic\">time</span> = <span style=\"font-weight: bold\">&lt;</span><span style=\"color: #ff00ff; text-decoration-color: #ff00ff; font-weight: bold\">Dim:</span><span style=\"color: #000000; text-decoration-color: #000000\"> Time</span><span style=\"font-weight: bold\">&gt;</span>                                                                            <span style=\"color: #000080; text-decoration-color: #000080\">│</span>\n",
       "<span style=\"color: #000080; text-decoration-color: #000080\">│</span>  <span style=\"color: #808000; text-decoration-color: #808000; font-style: italic\">time_index</span> = <span style=\"color: #008080; text-decoration-color: #008080; font-weight: bold\">0</span>                                                                                      <span style=\"color: #000080; text-decoration-color: #000080\">│</span>\n",
       "<span style=\"color: #000080; text-decoration-color: #000080\">│</span>       <span style=\"color: #808000; text-decoration-color: #808000; font-style: italic\">units</span> = <span style=\"color: #008000; text-decoration-color: #008000\">'V'</span>                                                                                    <span style=\"color: #000080; text-decoration-color: #000080\">│</span>\n",
       "<span style=\"color: #000080; text-decoration-color: #000080\">╰──────────────────────────────────────────────────────────────────────────────────────────────────────╯</span>\n",
       "</pre>\n"
      ],
      "text/plain": [
       "\u001b[34m╭─\u001b[0m\u001b[34m────────────────────────────────── \u001b[0m\u001b[1;34m<\u001b[0m\u001b[1;95mclass\u001b[0m\u001b[39m \u001b[0m\u001b[32m'pyuda._signal.Signal'\u001b[0m\u001b[1;34m>\u001b[0m\u001b[34m ──────────────────────────────────\u001b[0m\u001b[34m─╮\u001b[0m\n",
       "\u001b[34m│\u001b[0m \u001b[32m╭──────────────────────────────────────────────────────────────────────────────────────────────────╮\u001b[0m \u001b[34m│\u001b[0m\n",
       "\u001b[34m│\u001b[0m \u001b[32m│\u001b[0m \u001b[1m<\u001b[0m\u001b[1;95mSignal:\u001b[0m\u001b[39m Volt\u001b[0m\u001b[1m>\u001b[0m                                                                                   \u001b[32m│\u001b[0m \u001b[34m│\u001b[0m\n",
       "\u001b[34m│\u001b[0m \u001b[32m╰──────────────────────────────────────────────────────────────────────────────────────────────────╯\u001b[0m \u001b[34m│\u001b[0m\n",
       "\u001b[34m│\u001b[0m                                                                                                      \u001b[34m│\u001b[0m\n",
       "\u001b[34m│\u001b[0m        \u001b[3;33mdata\u001b[0m = \u001b[1;35marray\u001b[0m\u001b[1m(\u001b[0m\u001b[1m[\u001b[0m\u001b[1;36m-0.00228885\u001b[0m,  \u001b[1;36m0.00030518\u001b[0m, \u001b[1;36m-0.00137331\u001b[0m, \u001b[33m...\u001b[0m, \u001b[1;36m-0.00137331\u001b[0m,                        \u001b[34m│\u001b[0m\n",
       "\u001b[34m│\u001b[0m                      \u001b[1;36m-0.00198367\u001b[0m,  \u001b[1;36m0.00015259\u001b[0m\u001b[1m]\u001b[0m, \u001b[33mdtype\u001b[0m=\u001b[35mfloat32\u001b[0m\u001b[1m)\u001b[0m                                       \u001b[34m│\u001b[0m\n",
       "\u001b[34m│\u001b[0m \u001b[3;33mdescription\u001b[0m = \u001b[32m''\u001b[0m                                                                                     \u001b[34m│\u001b[0m\n",
       "\u001b[34m│\u001b[0m        \u001b[3;33mdims\u001b[0m = \u001b[1m[\u001b[0m\u001b[1m<\u001b[0m\u001b[1;95mDim:\u001b[0m\u001b[39m Time\u001b[0m\u001b[1m>\u001b[0m\u001b[1m]\u001b[0m                                                                          \u001b[34m│\u001b[0m\n",
       "\u001b[34m│\u001b[0m      \u001b[3;33merrors\u001b[0m = \u001b[1;35marray\u001b[0m\u001b[1m(\u001b[0m\u001b[1m[\u001b[0m\u001b[1;36m0\u001b[0m., \u001b[1;36m0\u001b[0m., \u001b[1;36m0\u001b[0m., \u001b[33m...\u001b[0m, \u001b[1;36m0\u001b[0m., \u001b[1;36m0\u001b[0m., \u001b[1;36m0\u001b[0m.\u001b[1m]\u001b[0m, \u001b[33mdtype\u001b[0m=\u001b[35mfloat32\u001b[0m\u001b[1m)\u001b[0m                                    \u001b[34m│\u001b[0m\n",
       "\u001b[34m│\u001b[0m       \u001b[3;33mlabel\u001b[0m = \u001b[32m'Volt'\u001b[0m                                                                                 \u001b[34m│\u001b[0m\n",
       "\u001b[34m│\u001b[0m        \u001b[3;33mmeta\u001b[0m = \u001b[1m{\u001b[0m                                                                                      \u001b[34m│\u001b[0m\n",
       "\u001b[34m│\u001b[0m                   \u001b[32m'signal_name'\u001b[0m: \u001b[32mb'/xms/ch11'\u001b[0m,                                                       \u001b[34m│\u001b[0m\n",
       "\u001b[34m│\u001b[0m                   \u001b[32m'signal_alias'\u001b[0m: \u001b[32mb'/XMS/CH11'\u001b[0m,                                                      \u001b[34m│\u001b[0m\n",
       "\u001b[34m│\u001b[0m                   \u001b[32m'path'\u001b[0m: \u001b[32mb'/net/mustrgsrvr1/export/mastu/data/MAST_Data/27933/LATEST/xms027933.nc'\u001b[0m, \u001b[34m│\u001b[0m\n",
       "\u001b[34m│\u001b[0m                   \u001b[32m'filename'\u001b[0m: \u001b[32mb'xms027933.nc'\u001b[0m,                                                       \u001b[34m│\u001b[0m\n",
       "\u001b[34m│\u001b[0m                   \u001b[32m'format'\u001b[0m: \u001b[32mb'CDF'\u001b[0m,                                                                  \u001b[34m│\u001b[0m\n",
       "\u001b[34m│\u001b[0m                   \u001b[32m'exp_number'\u001b[0m: \u001b[1;36m27933\u001b[0m,                                                               \u001b[34m│\u001b[0m\n",
       "\u001b[34m│\u001b[0m                   \u001b[32m'pass'\u001b[0m: \u001b[1;36m-1\u001b[0m,                                                                        \u001b[34m│\u001b[0m\n",
       "\u001b[34m│\u001b[0m                   \u001b[32m'pass_date'\u001b[0m: \u001b[32mb'2011-12-15'\u001b[0m                                                         \u001b[34m│\u001b[0m\n",
       "\u001b[34m│\u001b[0m               \u001b[1m}\u001b[0m                                                                                      \u001b[34m│\u001b[0m\n",
       "\u001b[34m│\u001b[0m        \u001b[3;33mrank\u001b[0m = \u001b[1;36m1\u001b[0m                                                                                      \u001b[34m│\u001b[0m\n",
       "\u001b[34m│\u001b[0m       \u001b[3;33mshape\u001b[0m = \u001b[1m(\u001b[0m\u001b[1;36m650000\u001b[0m,\u001b[1m)\u001b[0m                                                                              \u001b[34m│\u001b[0m\n",
       "\u001b[34m│\u001b[0m        \u001b[3;33mtime\u001b[0m = \u001b[1m<\u001b[0m\u001b[1;95mDim:\u001b[0m\u001b[39m Time\u001b[0m\u001b[1m>\u001b[0m                                                                            \u001b[34m│\u001b[0m\n",
       "\u001b[34m│\u001b[0m  \u001b[3;33mtime_index\u001b[0m = \u001b[1;36m0\u001b[0m                                                                                      \u001b[34m│\u001b[0m\n",
       "\u001b[34m│\u001b[0m       \u001b[3;33munits\u001b[0m = \u001b[32m'V'\u001b[0m                                                                                    \u001b[34m│\u001b[0m\n",
       "\u001b[34m╰──────────────────────────────────────────────────────────────────────────────────────────────────────╯\u001b[0m\n"
      ]
     },
     "metadata": {},
     "output_type": "display_data"
    }
   ],
   "source": [
    "data = client.get(\"/XMS/CH11\", shot_1)\n",
    "inspect(data, docs=False)"
   ]
  },
  {
   "cell_type": "markdown",
   "id": "438a42b7",
   "metadata": {},
   "source": [
    "To access Time axis, one needs to call `.time.data` in addition to the `SIGNAL` name. "
   ]
  },
  {
   "cell_type": "code",
   "execution_count": 45,
   "id": "dbb548a5",
   "metadata": {},
   "outputs": [
    {
     "data": {
      "text/html": [
       "<pre style=\"white-space:pre;overflow-x:auto;line-height:normal;font-family:Menlo,'DejaVu Sans Mono',consolas,'Courier New',monospace\"><span style=\"color: #000080; text-decoration-color: #000080\">╭─────────────────────────── </span><span style=\"color: #000080; text-decoration-color: #000080; font-weight: bold\">&lt;</span><span style=\"color: #ff00ff; text-decoration-color: #ff00ff; font-weight: bold\">class</span><span style=\"color: #000000; text-decoration-color: #000000\"> </span><span style=\"color: #008000; text-decoration-color: #008000\">'numpy.ndarray'</span><span style=\"color: #000080; text-decoration-color: #000080; font-weight: bold\">&gt;</span><span style=\"color: #000080; text-decoration-color: #000080\"> ───────────────────────────╮</span>\n",
       "<span style=\"color: #000080; text-decoration-color: #000080\">│</span> <span style=\"color: #008000; text-decoration-color: #008000\">╭───────────────────────────────────────────────────────────────────────────╮</span> <span style=\"color: #000080; text-decoration-color: #000080\">│</span>\n",
       "<span style=\"color: #000080; text-decoration-color: #000080\">│</span> <span style=\"color: #008000; text-decoration-color: #008000\">│</span> <span style=\"color: #800080; text-decoration-color: #800080; font-weight: bold\">array</span><span style=\"font-weight: bold\">([</span><span style=\"color: #008080; text-decoration-color: #008080; font-weight: bold\">-0.05</span>    , <span style=\"color: #008080; text-decoration-color: #008080; font-weight: bold\">-0.049999</span>, <span style=\"color: #008080; text-decoration-color: #008080; font-weight: bold\">-0.049998</span>, <span style=\"color: #808000; text-decoration-color: #808000\">...</span>,  <span style=\"color: #008080; text-decoration-color: #008080; font-weight: bold\">0.599997</span>,  <span style=\"color: #008080; text-decoration-color: #008080; font-weight: bold\">0.599998</span>,        <span style=\"color: #008000; text-decoration-color: #008000\">│</span> <span style=\"color: #000080; text-decoration-color: #000080\">│</span>\n",
       "<span style=\"color: #000080; text-decoration-color: #000080\">│</span> <span style=\"color: #008000; text-decoration-color: #008000\">│</span> <span style=\"color: #7fbf7f; text-decoration-color: #7fbf7f\">│   │   </span><span style=\"color: #008080; text-decoration-color: #008080; font-weight: bold\">0.599999</span><span style=\"font-weight: bold\">])</span>                                                        <span style=\"color: #008000; text-decoration-color: #008000\">│</span> <span style=\"color: #000080; text-decoration-color: #000080\">│</span>\n",
       "<span style=\"color: #000080; text-decoration-color: #000080\">│</span> <span style=\"color: #008000; text-decoration-color: #008000\">╰───────────────────────────────────────────────────────────────────────────╯</span> <span style=\"color: #000080; text-decoration-color: #000080\">│</span>\n",
       "<span style=\"color: #000080; text-decoration-color: #000080\">│</span>                                                                               <span style=\"color: #000080; text-decoration-color: #000080\">│</span>\n",
       "<span style=\"color: #000080; text-decoration-color: #000080\">│</span>     <span style=\"color: #808000; text-decoration-color: #808000; font-style: italic\">base</span> = <span style=\"color: #008080; text-decoration-color: #008080; font-weight: bold\">1</span>                                                                  <span style=\"color: #000080; text-decoration-color: #000080\">│</span>\n",
       "<span style=\"color: #000080; text-decoration-color: #000080\">│</span>   <span style=\"color: #808000; text-decoration-color: #808000; font-style: italic\">ctypes</span> = <span style=\"font-weight: bold\">&lt;</span><span style=\"color: #ff00ff; text-decoration-color: #ff00ff; font-weight: bold\">numpy.core._internal._ctypes</span><span style=\"color: #000000; text-decoration-color: #000000\"> object at </span><span style=\"color: #008080; text-decoration-color: #008080; font-weight: bold\">0x7f8eb51d4198</span><span style=\"font-weight: bold\">&gt;</span>            <span style=\"color: #000080; text-decoration-color: #000080\">│</span>\n",
       "<span style=\"color: #000080; text-decoration-color: #000080\">│</span>     <span style=\"color: #808000; text-decoration-color: #808000; font-style: italic\">data</span> = <span style=\"font-weight: bold\">&lt;</span><span style=\"color: #ff00ff; text-decoration-color: #ff00ff; font-weight: bold\">memory</span><span style=\"color: #000000; text-decoration-color: #000000\"> at </span><span style=\"color: #008080; text-decoration-color: #008080; font-weight: bold\">0x7f8eb520d1c8</span><span style=\"font-weight: bold\">&gt;</span>                                         <span style=\"color: #000080; text-decoration-color: #000080\">│</span>\n",
       "<span style=\"color: #000080; text-decoration-color: #000080\">│</span>    <span style=\"color: #808000; text-decoration-color: #808000; font-style: italic\">dtype</span> = <span style=\"color: #800080; text-decoration-color: #800080; font-weight: bold\">dtype</span><span style=\"font-weight: bold\">(</span><span style=\"color: #008000; text-decoration-color: #008000\">'float64'</span><span style=\"font-weight: bold\">)</span>                                                   <span style=\"color: #000080; text-decoration-color: #000080\">│</span>\n",
       "<span style=\"color: #000080; text-decoration-color: #000080\">│</span>    <span style=\"color: #808000; text-decoration-color: #808000; font-style: italic\">flags</span> =   C_CONTIGUOUS : <span style=\"color: #00ff00; text-decoration-color: #00ff00; font-style: italic\">True</span>                                              <span style=\"color: #000080; text-decoration-color: #000080\">│</span>\n",
       "<span style=\"color: #000080; text-decoration-color: #000080\">│</span>              F_CONTIGUOUS : <span style=\"color: #00ff00; text-decoration-color: #00ff00; font-style: italic\">True</span>                                              <span style=\"color: #000080; text-decoration-color: #000080\">│</span>\n",
       "<span style=\"color: #000080; text-decoration-color: #000080\">│</span>              OWNDATA : <span style=\"color: #ff0000; text-decoration-color: #ff0000; font-style: italic\">False</span>                                                  <span style=\"color: #000080; text-decoration-color: #000080\">│</span>\n",
       "<span style=\"color: #000080; text-decoration-color: #000080\">│</span>              WRITEABLE : <span style=\"color: #00ff00; text-decoration-color: #00ff00; font-style: italic\">True</span>                                                 <span style=\"color: #000080; text-decoration-color: #000080\">│</span>\n",
       "<span style=\"color: #000080; text-decoration-color: #000080\">│</span>              ALIGNED : <span style=\"color: #00ff00; text-decoration-color: #00ff00; font-style: italic\">True</span>                                                   <span style=\"color: #000080; text-decoration-color: #000080\">│</span>\n",
       "<span style=\"color: #000080; text-decoration-color: #000080\">│</span>              WRITEBACKIFCOPY : <span style=\"color: #ff0000; text-decoration-color: #ff0000; font-style: italic\">False</span>                                          <span style=\"color: #000080; text-decoration-color: #000080\">│</span>\n",
       "<span style=\"color: #000080; text-decoration-color: #000080\">│</span>              UPDATEIFCOPY : <span style=\"color: #ff0000; text-decoration-color: #ff0000; font-style: italic\">False</span>                                             <span style=\"color: #000080; text-decoration-color: #000080\">│</span>\n",
       "<span style=\"color: #000080; text-decoration-color: #000080\">│</span>                                                                               <span style=\"color: #000080; text-decoration-color: #000080\">│</span>\n",
       "<span style=\"color: #000080; text-decoration-color: #000080\">│</span>     <span style=\"color: #808000; text-decoration-color: #808000; font-style: italic\">flat</span> = <span style=\"font-weight: bold\">&lt;</span><span style=\"color: #ff00ff; text-decoration-color: #ff00ff; font-weight: bold\">numpy.flatiter</span><span style=\"color: #000000; text-decoration-color: #000000\"> object at </span><span style=\"color: #008080; text-decoration-color: #008080; font-weight: bold\">0x560d0b963e50</span><span style=\"font-weight: bold\">&gt;</span>                          <span style=\"color: #000080; text-decoration-color: #000080\">│</span>\n",
       "<span style=\"color: #000080; text-decoration-color: #000080\">│</span>     <span style=\"color: #808000; text-decoration-color: #808000; font-style: italic\">imag</span> = <span style=\"color: #800080; text-decoration-color: #800080; font-weight: bold\">array</span><span style=\"font-weight: bold\">([</span><span style=\"color: #008080; text-decoration-color: #008080; font-weight: bold\">0</span>., <span style=\"color: #008080; text-decoration-color: #008080; font-weight: bold\">0</span>., <span style=\"color: #008080; text-decoration-color: #008080; font-weight: bold\">0</span>., <span style=\"color: #808000; text-decoration-color: #808000\">...</span>, <span style=\"color: #008080; text-decoration-color: #008080; font-weight: bold\">0</span>., <span style=\"color: #008080; text-decoration-color: #008080; font-weight: bold\">0</span>., <span style=\"color: #008080; text-decoration-color: #008080; font-weight: bold\">0</span>.<span style=\"font-weight: bold\">])</span>                               <span style=\"color: #000080; text-decoration-color: #000080\">│</span>\n",
       "<span style=\"color: #000080; text-decoration-color: #000080\">│</span> <span style=\"color: #808000; text-decoration-color: #808000; font-style: italic\">itemsize</span> = <span style=\"color: #008080; text-decoration-color: #008080; font-weight: bold\">8</span>                                                                  <span style=\"color: #000080; text-decoration-color: #000080\">│</span>\n",
       "<span style=\"color: #000080; text-decoration-color: #000080\">│</span>   <span style=\"color: #808000; text-decoration-color: #808000; font-style: italic\">nbytes</span> = <span style=\"color: #008080; text-decoration-color: #008080; font-weight: bold\">5200000</span>                                                            <span style=\"color: #000080; text-decoration-color: #000080\">│</span>\n",
       "<span style=\"color: #000080; text-decoration-color: #000080\">│</span>     <span style=\"color: #808000; text-decoration-color: #808000; font-style: italic\">ndim</span> = <span style=\"color: #008080; text-decoration-color: #008080; font-weight: bold\">1</span>                                                                  <span style=\"color: #000080; text-decoration-color: #000080\">│</span>\n",
       "<span style=\"color: #000080; text-decoration-color: #000080\">│</span>     <span style=\"color: #808000; text-decoration-color: #808000; font-style: italic\">real</span> = <span style=\"color: #800080; text-decoration-color: #800080; font-weight: bold\">array</span><span style=\"font-weight: bold\">([</span><span style=\"color: #008080; text-decoration-color: #008080; font-weight: bold\">-0.05</span>    , <span style=\"color: #008080; text-decoration-color: #008080; font-weight: bold\">-0.049999</span>, <span style=\"color: #008080; text-decoration-color: #008080; font-weight: bold\">-0.049998</span>, <span style=\"color: #808000; text-decoration-color: #808000\">...</span>,  <span style=\"color: #008080; text-decoration-color: #008080; font-weight: bold\">0.599997</span>,  <span style=\"color: #008080; text-decoration-color: #008080; font-weight: bold\">0.599998</span>, <span style=\"color: #000080; text-decoration-color: #000080\">│</span>\n",
       "<span style=\"color: #000080; text-decoration-color: #000080\">│</span>                    <span style=\"color: #008080; text-decoration-color: #008080; font-weight: bold\">0.599999</span><span style=\"font-weight: bold\">])</span>                                                 <span style=\"color: #000080; text-decoration-color: #000080\">│</span>\n",
       "<span style=\"color: #000080; text-decoration-color: #000080\">│</span>    <span style=\"color: #808000; text-decoration-color: #808000; font-style: italic\">shape</span> = <span style=\"font-weight: bold\">(</span><span style=\"color: #008080; text-decoration-color: #008080; font-weight: bold\">650000</span>,<span style=\"font-weight: bold\">)</span>                                                          <span style=\"color: #000080; text-decoration-color: #000080\">│</span>\n",
       "<span style=\"color: #000080; text-decoration-color: #000080\">│</span>     <span style=\"color: #808000; text-decoration-color: #808000; font-style: italic\">size</span> = <span style=\"color: #008080; text-decoration-color: #008080; font-weight: bold\">650000</span>                                                             <span style=\"color: #000080; text-decoration-color: #000080\">│</span>\n",
       "<span style=\"color: #000080; text-decoration-color: #000080\">│</span>  <span style=\"color: #808000; text-decoration-color: #808000; font-style: italic\">strides</span> = <span style=\"font-weight: bold\">(</span><span style=\"color: #008080; text-decoration-color: #008080; font-weight: bold\">8</span>,<span style=\"font-weight: bold\">)</span>                                                               <span style=\"color: #000080; text-decoration-color: #000080\">│</span>\n",
       "<span style=\"color: #000080; text-decoration-color: #000080\">│</span>        <span style=\"color: #808000; text-decoration-color: #808000; font-style: italic\">T</span> = <span style=\"color: #800080; text-decoration-color: #800080; font-weight: bold\">array</span><span style=\"font-weight: bold\">([</span><span style=\"color: #008080; text-decoration-color: #008080; font-weight: bold\">-0.05</span>    , <span style=\"color: #008080; text-decoration-color: #008080; font-weight: bold\">-0.049999</span>, <span style=\"color: #008080; text-decoration-color: #008080; font-weight: bold\">-0.049998</span>, <span style=\"color: #808000; text-decoration-color: #808000\">...</span>,  <span style=\"color: #008080; text-decoration-color: #008080; font-weight: bold\">0.599997</span>,  <span style=\"color: #008080; text-decoration-color: #008080; font-weight: bold\">0.599998</span>, <span style=\"color: #000080; text-decoration-color: #000080\">│</span>\n",
       "<span style=\"color: #000080; text-decoration-color: #000080\">│</span>                    <span style=\"color: #008080; text-decoration-color: #008080; font-weight: bold\">0.599999</span><span style=\"font-weight: bold\">])</span>                                                 <span style=\"color: #000080; text-decoration-color: #000080\">│</span>\n",
       "<span style=\"color: #000080; text-decoration-color: #000080\">╰───────────────────────────────────────────────────────────────────────────────╯</span>\n",
       "</pre>\n"
      ],
      "text/plain": [
       "\u001b[34m╭─\u001b[0m\u001b[34m────────────────────────── \u001b[0m\u001b[1;34m<\u001b[0m\u001b[1;95mclass\u001b[0m\u001b[39m \u001b[0m\u001b[32m'numpy.ndarray'\u001b[0m\u001b[1;34m>\u001b[0m\u001b[34m ──────────────────────────\u001b[0m\u001b[34m─╮\u001b[0m\n",
       "\u001b[34m│\u001b[0m \u001b[32m╭───────────────────────────────────────────────────────────────────────────╮\u001b[0m \u001b[34m│\u001b[0m\n",
       "\u001b[34m│\u001b[0m \u001b[32m│\u001b[0m \u001b[1;35marray\u001b[0m\u001b[1m(\u001b[0m\u001b[1m[\u001b[0m\u001b[1;36m-0.05\u001b[0m    , \u001b[1;36m-0.049999\u001b[0m, \u001b[1;36m-0.049998\u001b[0m, \u001b[33m...\u001b[0m,  \u001b[1;36m0.599997\u001b[0m,  \u001b[1;36m0.599998\u001b[0m,        \u001b[32m│\u001b[0m \u001b[34m│\u001b[0m\n",
       "\u001b[34m│\u001b[0m \u001b[32m│\u001b[0m \u001b[2;32m│   │   \u001b[0m\u001b[1;36m0.599999\u001b[0m\u001b[1m]\u001b[0m\u001b[1m)\u001b[0m                                                        \u001b[32m│\u001b[0m \u001b[34m│\u001b[0m\n",
       "\u001b[34m│\u001b[0m \u001b[32m╰───────────────────────────────────────────────────────────────────────────╯\u001b[0m \u001b[34m│\u001b[0m\n",
       "\u001b[34m│\u001b[0m                                                                               \u001b[34m│\u001b[0m\n",
       "\u001b[34m│\u001b[0m     \u001b[3;33mbase\u001b[0m = \u001b[1;36m1\u001b[0m                                                                  \u001b[34m│\u001b[0m\n",
       "\u001b[34m│\u001b[0m   \u001b[3;33mctypes\u001b[0m = \u001b[1m<\u001b[0m\u001b[1;95mnumpy.core._internal._ctypes\u001b[0m\u001b[39m object at \u001b[0m\u001b[1;36m0x7f8eb51d4198\u001b[0m\u001b[1m>\u001b[0m            \u001b[34m│\u001b[0m\n",
       "\u001b[34m│\u001b[0m     \u001b[3;33mdata\u001b[0m = \u001b[1m<\u001b[0m\u001b[1;95mmemory\u001b[0m\u001b[39m at \u001b[0m\u001b[1;36m0x7f8eb520d1c8\u001b[0m\u001b[1m>\u001b[0m                                         \u001b[34m│\u001b[0m\n",
       "\u001b[34m│\u001b[0m    \u001b[3;33mdtype\u001b[0m = \u001b[1;35mdtype\u001b[0m\u001b[1m(\u001b[0m\u001b[32m'float64'\u001b[0m\u001b[1m)\u001b[0m                                                   \u001b[34m│\u001b[0m\n",
       "\u001b[34m│\u001b[0m    \u001b[3;33mflags\u001b[0m =   C_CONTIGUOUS : \u001b[3;92mTrue\u001b[0m                                              \u001b[34m│\u001b[0m\n",
       "\u001b[34m│\u001b[0m              F_CONTIGUOUS : \u001b[3;92mTrue\u001b[0m                                              \u001b[34m│\u001b[0m\n",
       "\u001b[34m│\u001b[0m              OWNDATA : \u001b[3;91mFalse\u001b[0m                                                  \u001b[34m│\u001b[0m\n",
       "\u001b[34m│\u001b[0m              WRITEABLE : \u001b[3;92mTrue\u001b[0m                                                 \u001b[34m│\u001b[0m\n",
       "\u001b[34m│\u001b[0m              ALIGNED : \u001b[3;92mTrue\u001b[0m                                                   \u001b[34m│\u001b[0m\n",
       "\u001b[34m│\u001b[0m              WRITEBACKIFCOPY : \u001b[3;91mFalse\u001b[0m                                          \u001b[34m│\u001b[0m\n",
       "\u001b[34m│\u001b[0m              UPDATEIFCOPY : \u001b[3;91mFalse\u001b[0m                                             \u001b[34m│\u001b[0m\n",
       "\u001b[34m│\u001b[0m                                                                               \u001b[34m│\u001b[0m\n",
       "\u001b[34m│\u001b[0m     \u001b[3;33mflat\u001b[0m = \u001b[1m<\u001b[0m\u001b[1;95mnumpy.flatiter\u001b[0m\u001b[39m object at \u001b[0m\u001b[1;36m0x560d0b963e50\u001b[0m\u001b[1m>\u001b[0m                          \u001b[34m│\u001b[0m\n",
       "\u001b[34m│\u001b[0m     \u001b[3;33mimag\u001b[0m = \u001b[1;35marray\u001b[0m\u001b[1m(\u001b[0m\u001b[1m[\u001b[0m\u001b[1;36m0\u001b[0m., \u001b[1;36m0\u001b[0m., \u001b[1;36m0\u001b[0m., \u001b[33m...\u001b[0m, \u001b[1;36m0\u001b[0m., \u001b[1;36m0\u001b[0m., \u001b[1;36m0\u001b[0m.\u001b[1m]\u001b[0m\u001b[1m)\u001b[0m                               \u001b[34m│\u001b[0m\n",
       "\u001b[34m│\u001b[0m \u001b[3;33mitemsize\u001b[0m = \u001b[1;36m8\u001b[0m                                                                  \u001b[34m│\u001b[0m\n",
       "\u001b[34m│\u001b[0m   \u001b[3;33mnbytes\u001b[0m = \u001b[1;36m5200000\u001b[0m                                                            \u001b[34m│\u001b[0m\n",
       "\u001b[34m│\u001b[0m     \u001b[3;33mndim\u001b[0m = \u001b[1;36m1\u001b[0m                                                                  \u001b[34m│\u001b[0m\n",
       "\u001b[34m│\u001b[0m     \u001b[3;33mreal\u001b[0m = \u001b[1;35marray\u001b[0m\u001b[1m(\u001b[0m\u001b[1m[\u001b[0m\u001b[1;36m-0.05\u001b[0m    , \u001b[1;36m-0.049999\u001b[0m, \u001b[1;36m-0.049998\u001b[0m, \u001b[33m...\u001b[0m,  \u001b[1;36m0.599997\u001b[0m,  \u001b[1;36m0.599998\u001b[0m, \u001b[34m│\u001b[0m\n",
       "\u001b[34m│\u001b[0m                    \u001b[1;36m0.599999\u001b[0m\u001b[1m]\u001b[0m\u001b[1m)\u001b[0m                                                 \u001b[34m│\u001b[0m\n",
       "\u001b[34m│\u001b[0m    \u001b[3;33mshape\u001b[0m = \u001b[1m(\u001b[0m\u001b[1;36m650000\u001b[0m,\u001b[1m)\u001b[0m                                                          \u001b[34m│\u001b[0m\n",
       "\u001b[34m│\u001b[0m     \u001b[3;33msize\u001b[0m = \u001b[1;36m650000\u001b[0m                                                             \u001b[34m│\u001b[0m\n",
       "\u001b[34m│\u001b[0m  \u001b[3;33mstrides\u001b[0m = \u001b[1m(\u001b[0m\u001b[1;36m8\u001b[0m,\u001b[1m)\u001b[0m                                                               \u001b[34m│\u001b[0m\n",
       "\u001b[34m│\u001b[0m        \u001b[3;33mT\u001b[0m = \u001b[1;35marray\u001b[0m\u001b[1m(\u001b[0m\u001b[1m[\u001b[0m\u001b[1;36m-0.05\u001b[0m    , \u001b[1;36m-0.049999\u001b[0m, \u001b[1;36m-0.049998\u001b[0m, \u001b[33m...\u001b[0m,  \u001b[1;36m0.599997\u001b[0m,  \u001b[1;36m0.599998\u001b[0m, \u001b[34m│\u001b[0m\n",
       "\u001b[34m│\u001b[0m                    \u001b[1;36m0.599999\u001b[0m\u001b[1m]\u001b[0m\u001b[1m)\u001b[0m                                                 \u001b[34m│\u001b[0m\n",
       "\u001b[34m╰───────────────────────────────────────────────────────────────────────────────╯\u001b[0m\n"
      ]
     },
     "metadata": {},
     "output_type": "display_data"
    }
   ],
   "source": [
    "time_axis = data.time.data\n",
    "inspect(time_axis, docs=False)"
   ]
  },
  {
   "cell_type": "markdown",
   "id": "3efc5eab",
   "metadata": {},
   "source": [
    "###  Sources & Data in *IDA3* format"
   ]
  },
  {
   "cell_type": "markdown",
   "id": "85d2a3f9",
   "metadata": {},
   "source": [
    "*IDA3* is the second  most commonly used format in **_Raw_** and it is used as the main `SIGNAL` format in **_Analysed_**. Unlike *CBF*, it cannot be accessed via `SOURCE` name/alias. Here we demonstrate it for 'xmd' `SOURCE`, but all the other are structured the same way."
   ]
  },
  {
   "cell_type": "code",
   "execution_count": 46,
   "id": "80cf024e",
   "metadata": {},
   "outputs": [
    {
     "data": {
      "text/html": [
       "<pre style=\"white-space:pre;overflow-x:auto;line-height:normal;font-family:Menlo,'DejaVu Sans Mono',consolas,'Courier New',monospace\"><span style=\"color: #000080; text-decoration-color: #000080\">╭────────────────────────────────────── </span><span style=\"color: #000080; text-decoration-color: #000080; font-weight: bold\">&lt;</span><span style=\"color: #ff00ff; text-decoration-color: #ff00ff; font-weight: bold\">class</span><span style=\"color: #000000; text-decoration-color: #000000\"> </span><span style=\"color: #008000; text-decoration-color: #008000\">'list'</span><span style=\"color: #000080; text-decoration-color: #000080; font-weight: bold\">&gt;</span><span style=\"color: #000080; text-decoration-color: #000080\"> ──────────────────────────────────────╮</span>\n",
       "<span style=\"color: #000080; text-decoration-color: #000080\">│</span> <span style=\"color: #008000; text-decoration-color: #008000\">╭────────────────────────────────────────────────────────────────────────────────────────╮</span> <span style=\"color: #000080; text-decoration-color: #000080\">│</span>\n",
       "<span style=\"color: #000080; text-decoration-color: #000080\">│</span> <span style=\"color: #008000; text-decoration-color: #008000\">│</span> <span style=\"font-weight: bold\">[</span>                                                                                      <span style=\"color: #008000; text-decoration-color: #008000\">│</span> <span style=\"color: #000080; text-decoration-color: #000080\">│</span>\n",
       "<span style=\"color: #000080; text-decoration-color: #000080\">│</span> <span style=\"color: #008000; text-decoration-color: #008000\">│</span> <span style=\"color: #7fbf7f; text-decoration-color: #7fbf7f\">│   </span><span style=\"color: #800080; text-decoration-color: #800080; font-weight: bold\">ListData</span><span style=\"font-weight: bold\">(</span>                                                                          <span style=\"color: #008000; text-decoration-color: #008000\">│</span> <span style=\"color: #000080; text-decoration-color: #000080\">│</span>\n",
       "<span style=\"color: #000080; text-decoration-color: #000080\">│</span> <span style=\"color: #008000; text-decoration-color: #008000\">│</span> <span style=\"color: #7fbf7f; text-decoration-color: #7fbf7f\">│   │   </span><span style=\"color: #808000; text-decoration-color: #808000\">shot</span>=<span style=\"color: #008080; text-decoration-color: #008080; font-weight: bold\">27933</span>,                                                                    <span style=\"color: #008000; text-decoration-color: #008000\">│</span> <span style=\"color: #000080; text-decoration-color: #000080\">│</span>\n",
       "<span style=\"color: #000080; text-decoration-color: #000080\">│</span> <span style=\"color: #008000; text-decoration-color: #008000\">│</span> <span style=\"color: #7fbf7f; text-decoration-color: #7fbf7f\">│   │   </span><span style=\"color: #808000; text-decoration-color: #808000\">pass_</span>=<span style=\"color: #008080; text-decoration-color: #008080; font-weight: bold\">-1</span>,                                                                      <span style=\"color: #008000; text-decoration-color: #008000\">│</span> <span style=\"color: #000080; text-decoration-color: #000080\">│</span>\n",
       "<span style=\"color: #000080; text-decoration-color: #000080\">│</span> <span style=\"color: #008000; text-decoration-color: #008000\">│</span> <span style=\"color: #7fbf7f; text-decoration-color: #7fbf7f\">│   │   </span><span style=\"color: #808000; text-decoration-color: #808000\">status</span>=<span style=\"color: #008080; text-decoration-color: #008080; font-weight: bold\">1</span>,                                                                      <span style=\"color: #008000; text-decoration-color: #008000\">│</span> <span style=\"color: #000080; text-decoration-color: #000080\">│</span>\n",
       "<span style=\"color: #000080; text-decoration-color: #000080\">│</span> <span style=\"color: #008000; text-decoration-color: #008000\">│</span> <span style=\"color: #7fbf7f; text-decoration-color: #7fbf7f\">│   │   </span><span style=\"color: #808000; text-decoration-color: #808000\">source_alias</span>=<span style=\"color: #008000; text-decoration-color: #008000\">'xmd'</span>,                                                            <span style=\"color: #008000; text-decoration-color: #008000\">│</span> <span style=\"color: #000080; text-decoration-color: #000080\">│</span>\n",
       "<span style=\"color: #000080; text-decoration-color: #000080\">│</span> <span style=\"color: #008000; text-decoration-color: #008000\">│</span> <span style=\"color: #7fbf7f; text-decoration-color: #7fbf7f\">│   │   </span><span style=\"color: #808000; text-decoration-color: #808000\">format</span>=<span style=\"color: #008000; text-decoration-color: #008000\">'IDA3'</span>,                                                                 <span style=\"color: #008000; text-decoration-color: #008000\">│</span> <span style=\"color: #000080; text-decoration-color: #000080\">│</span>\n",
       "<span style=\"color: #000080; text-decoration-color: #000080\">│</span> <span style=\"color: #008000; text-decoration-color: #008000\">│</span> <span style=\"color: #7fbf7f; text-decoration-color: #7fbf7f\">│   │   </span><span style=\"color: #808000; text-decoration-color: #808000\">filename</span>=<span style=\"color: #008000; text-decoration-color: #008000\">'xmd0279.33'</span>,                                                         <span style=\"color: #008000; text-decoration-color: #008000\">│</span> <span style=\"color: #000080; text-decoration-color: #000080\">│</span>\n",
       "<span style=\"color: #000080; text-decoration-color: #000080\">│</span> <span style=\"color: #008000; text-decoration-color: #008000\">│</span> <span style=\"color: #7fbf7f; text-decoration-color: #7fbf7f\">│   │   </span><span style=\"color: #808000; text-decoration-color: #808000\">type</span>=<span style=\"color: #008000; text-decoration-color: #008000\">'Raw'</span>,                                                                    <span style=\"color: #008000; text-decoration-color: #008000\">│</span> <span style=\"color: #000080; text-decoration-color: #000080\">│</span>\n",
       "<span style=\"color: #000080; text-decoration-color: #000080\">│</span> <span style=\"color: #008000; text-decoration-color: #008000\">│</span> <span style=\"color: #7fbf7f; text-decoration-color: #7fbf7f\">│   │   </span><span style=\"color: #808000; text-decoration-color: #808000\">description</span>=<span style=\"color: #008000; text-decoration-color: #008000\">'Magnetic Field Measurements: Centre Column Toroidal Array of'</span>+<span style=\"color: #008080; text-decoration-color: #008080; font-weight: bold\">35</span>, <span style=\"color: #008000; text-decoration-color: #008000\">│</span> <span style=\"color: #000080; text-decoration-color: #000080\">│</span>\n",
       "<span style=\"color: #000080; text-decoration-color: #000080\">│</span> <span style=\"color: #008000; text-decoration-color: #008000\">│</span> <span style=\"color: #7fbf7f; text-decoration-color: #7fbf7f\">│   │   </span><span style=\"color: #808000; text-decoration-color: #808000\">run_id</span>=<span style=\"color: #008080; text-decoration-color: #008080; font-weight: bold\">-1</span>                                                                      <span style=\"color: #008000; text-decoration-color: #008000\">│</span> <span style=\"color: #000080; text-decoration-color: #000080\">│</span>\n",
       "<span style=\"color: #000080; text-decoration-color: #000080\">│</span> <span style=\"color: #008000; text-decoration-color: #008000\">│</span> <span style=\"color: #7fbf7f; text-decoration-color: #7fbf7f\">│   </span><span style=\"font-weight: bold\">)</span>                                                                                  <span style=\"color: #008000; text-decoration-color: #008000\">│</span> <span style=\"color: #000080; text-decoration-color: #000080\">│</span>\n",
       "<span style=\"color: #000080; text-decoration-color: #000080\">│</span> <span style=\"color: #008000; text-decoration-color: #008000\">│</span> <span style=\"font-weight: bold\">]</span>                                                                                      <span style=\"color: #008000; text-decoration-color: #008000\">│</span> <span style=\"color: #000080; text-decoration-color: #000080\">│</span>\n",
       "<span style=\"color: #000080; text-decoration-color: #000080\">│</span> <span style=\"color: #008000; text-decoration-color: #008000\">╰────────────────────────────────────────────────────────────────────────────────────────╯</span> <span style=\"color: #000080; text-decoration-color: #000080\">│</span>\n",
       "<span style=\"color: #000080; text-decoration-color: #000080\">│</span>                                                                                            <span style=\"color: #000080; text-decoration-color: #000080\">│</span>\n",
       "<span style=\"color: #000080; text-decoration-color: #000080\">│</span> <span style=\"color: #008080; text-decoration-color: #008080; font-weight: bold\">35</span><span style=\"font-style: italic\"> attribute(s) not shown.</span> Run <span style=\"color: #800080; text-decoration-color: #800080; font-weight: bold\">inspect</span><span style=\"font-weight: bold\">(</span>inspect<span style=\"font-weight: bold\">)</span> for options.                               <span style=\"color: #000080; text-decoration-color: #000080\">│</span>\n",
       "<span style=\"color: #000080; text-decoration-color: #000080\">╰────────────────────────────────────────────────────────────────────────────────────────────╯</span>\n",
       "</pre>\n"
      ],
      "text/plain": [
       "\u001b[34m╭─\u001b[0m\u001b[34m───────────────────────────────────── \u001b[0m\u001b[1;34m<\u001b[0m\u001b[1;95mclass\u001b[0m\u001b[39m \u001b[0m\u001b[32m'list'\u001b[0m\u001b[1;34m>\u001b[0m\u001b[34m ─────────────────────────────────────\u001b[0m\u001b[34m─╮\u001b[0m\n",
       "\u001b[34m│\u001b[0m \u001b[32m╭────────────────────────────────────────────────────────────────────────────────────────╮\u001b[0m \u001b[34m│\u001b[0m\n",
       "\u001b[34m│\u001b[0m \u001b[32m│\u001b[0m \u001b[1m[\u001b[0m                                                                                      \u001b[32m│\u001b[0m \u001b[34m│\u001b[0m\n",
       "\u001b[34m│\u001b[0m \u001b[32m│\u001b[0m \u001b[2;32m│   \u001b[0m\u001b[1;35mListData\u001b[0m\u001b[1m(\u001b[0m                                                                          \u001b[32m│\u001b[0m \u001b[34m│\u001b[0m\n",
       "\u001b[34m│\u001b[0m \u001b[32m│\u001b[0m \u001b[2;32m│   │   \u001b[0m\u001b[33mshot\u001b[0m=\u001b[1;36m27933\u001b[0m,                                                                    \u001b[32m│\u001b[0m \u001b[34m│\u001b[0m\n",
       "\u001b[34m│\u001b[0m \u001b[32m│\u001b[0m \u001b[2;32m│   │   \u001b[0m\u001b[33mpass_\u001b[0m=\u001b[1;36m-1\u001b[0m,                                                                      \u001b[32m│\u001b[0m \u001b[34m│\u001b[0m\n",
       "\u001b[34m│\u001b[0m \u001b[32m│\u001b[0m \u001b[2;32m│   │   \u001b[0m\u001b[33mstatus\u001b[0m=\u001b[1;36m1\u001b[0m,                                                                      \u001b[32m│\u001b[0m \u001b[34m│\u001b[0m\n",
       "\u001b[34m│\u001b[0m \u001b[32m│\u001b[0m \u001b[2;32m│   │   \u001b[0m\u001b[33msource_alias\u001b[0m=\u001b[32m'xmd'\u001b[0m,                                                            \u001b[32m│\u001b[0m \u001b[34m│\u001b[0m\n",
       "\u001b[34m│\u001b[0m \u001b[32m│\u001b[0m \u001b[2;32m│   │   \u001b[0m\u001b[33mformat\u001b[0m=\u001b[32m'IDA3'\u001b[0m,                                                                 \u001b[32m│\u001b[0m \u001b[34m│\u001b[0m\n",
       "\u001b[34m│\u001b[0m \u001b[32m│\u001b[0m \u001b[2;32m│   │   \u001b[0m\u001b[33mfilename\u001b[0m=\u001b[32m'xmd0279.33'\u001b[0m,                                                         \u001b[32m│\u001b[0m \u001b[34m│\u001b[0m\n",
       "\u001b[34m│\u001b[0m \u001b[32m│\u001b[0m \u001b[2;32m│   │   \u001b[0m\u001b[33mtype\u001b[0m=\u001b[32m'Raw'\u001b[0m,                                                                    \u001b[32m│\u001b[0m \u001b[34m│\u001b[0m\n",
       "\u001b[34m│\u001b[0m \u001b[32m│\u001b[0m \u001b[2;32m│   │   \u001b[0m\u001b[33mdescription\u001b[0m=\u001b[32m'Magnetic Field Measurements: Centre Column Toroidal Array of'\u001b[0m+\u001b[1;36m35\u001b[0m, \u001b[32m│\u001b[0m \u001b[34m│\u001b[0m\n",
       "\u001b[34m│\u001b[0m \u001b[32m│\u001b[0m \u001b[2;32m│   │   \u001b[0m\u001b[33mrun_id\u001b[0m=\u001b[1;36m-1\u001b[0m                                                                      \u001b[32m│\u001b[0m \u001b[34m│\u001b[0m\n",
       "\u001b[34m│\u001b[0m \u001b[32m│\u001b[0m \u001b[2;32m│   \u001b[0m\u001b[1m)\u001b[0m                                                                                  \u001b[32m│\u001b[0m \u001b[34m│\u001b[0m\n",
       "\u001b[34m│\u001b[0m \u001b[32m│\u001b[0m \u001b[1m]\u001b[0m                                                                                      \u001b[32m│\u001b[0m \u001b[34m│\u001b[0m\n",
       "\u001b[34m│\u001b[0m \u001b[32m╰────────────────────────────────────────────────────────────────────────────────────────╯\u001b[0m \u001b[34m│\u001b[0m\n",
       "\u001b[34m│\u001b[0m                                                                                            \u001b[34m│\u001b[0m\n",
       "\u001b[34m│\u001b[0m \u001b[1;36m35\u001b[0m\u001b[3m attribute(s) not shown.\u001b[0m Run \u001b[1;35minspect\u001b[0m\u001b[1m(\u001b[0minspect\u001b[1m)\u001b[0m for options.                               \u001b[34m│\u001b[0m\n",
       "\u001b[34m╰────────────────────────────────────────────────────────────────────────────────────────────╯\u001b[0m\n"
      ]
     },
     "metadata": {},
     "output_type": "display_data"
    }
   ],
   "source": [
    "data = [source for source in sources_1 if source.source_alias == \"xmd\"]\n",
    "inspect(data, docs=False)"
   ]
  },
  {
   "cell_type": "markdown",
   "id": "b133c0c2",
   "metadata": {},
   "source": [
    "Data can only be accessed as class `Signal`, using the name. We can also observe that units of the measurement are always shown in top left corner. It is possible, that we cannot rely on this, because for this `SOURCE` they are usually measured as volt second (Vs), also Weber (Wb) or Maxwell (Mx). "
   ]
  },
  {
   "cell_type": "code",
   "execution_count": 47,
   "id": "41ad2af7",
   "metadata": {},
   "outputs": [
    {
     "data": {
      "text/html": [
       "<pre style=\"white-space:pre;overflow-x:auto;line-height:normal;font-family:Menlo,'DejaVu Sans Mono',consolas,'Courier New',monospace\"><span style=\"color: #000080; text-decoration-color: #000080\">╭─────────────────────── </span><span style=\"color: #000080; text-decoration-color: #000080; font-weight: bold\">&lt;</span><span style=\"color: #ff00ff; text-decoration-color: #ff00ff; font-weight: bold\">class</span><span style=\"color: #000000; text-decoration-color: #000000\"> </span><span style=\"color: #008000; text-decoration-color: #008000\">'pyuda._signal.Signal'</span><span style=\"color: #000080; text-decoration-color: #000080; font-weight: bold\">&gt;</span><span style=\"color: #000080; text-decoration-color: #000080\"> ────────────────────────╮</span>\n",
       "<span style=\"color: #000080; text-decoration-color: #000080\">│</span> <span style=\"color: #008000; text-decoration-color: #008000\">╭───────────────────────────────────────────────────────────────────────────╮</span> <span style=\"color: #000080; text-decoration-color: #000080\">│</span>\n",
       "<span style=\"color: #000080; text-decoration-color: #000080\">│</span> <span style=\"color: #008000; text-decoration-color: #008000\">│</span> <span style=\"font-weight: bold\">&lt;</span><span style=\"color: #ff00ff; text-decoration-color: #ff00ff; font-weight: bold\">Signal:</span><span style=\"color: #000000; text-decoration-color: #000000\"> V</span><span style=\"font-weight: bold\">&gt;</span>                                                               <span style=\"color: #008000; text-decoration-color: #008000\">│</span> <span style=\"color: #000080; text-decoration-color: #000080\">│</span>\n",
       "<span style=\"color: #000080; text-decoration-color: #000080\">│</span> <span style=\"color: #008000; text-decoration-color: #008000\">╰───────────────────────────────────────────────────────────────────────────╯</span> <span style=\"color: #000080; text-decoration-color: #000080\">│</span>\n",
       "<span style=\"color: #000080; text-decoration-color: #000080\">│</span>                                                                               <span style=\"color: #000080; text-decoration-color: #000080\">│</span>\n",
       "<span style=\"color: #000080; text-decoration-color: #000080\">│</span>        <span style=\"color: #808000; text-decoration-color: #808000; font-style: italic\">data</span> = <span style=\"color: #800080; text-decoration-color: #800080; font-weight: bold\">array</span><span style=\"font-weight: bold\">([</span> <span style=\"color: #008080; text-decoration-color: #008080; font-weight: bold\">0</span>.        , <span style=\"color: #008080; text-decoration-color: #008080; font-weight: bold\">-0.0390625</span> , <span style=\"color: #008080; text-decoration-color: #008080; font-weight: bold\">-0.04150391</span>, <span style=\"color: #808000; text-decoration-color: #808000\">...</span>, <span style=\"color: #008080; text-decoration-color: #008080; font-weight: bold\">-0.29785156</span>, <span style=\"color: #000080; text-decoration-color: #000080\">│</span>\n",
       "<span style=\"color: #000080; text-decoration-color: #000080\">│</span>                      <span style=\"color: #008080; text-decoration-color: #008080; font-weight: bold\">-0.00732422</span>, <span style=\"color: #008080; text-decoration-color: #008080; font-weight: bold\">-0.12451172</span><span style=\"font-weight: bold\">]</span>, <span style=\"color: #808000; text-decoration-color: #808000\">dtype</span>=<span style=\"color: #800080; text-decoration-color: #800080\">float32</span><span style=\"font-weight: bold\">)</span>                <span style=\"color: #000080; text-decoration-color: #000080\">│</span>\n",
       "<span style=\"color: #000080; text-decoration-color: #000080\">│</span> <span style=\"color: #808000; text-decoration-color: #808000; font-style: italic\">description</span> = <span style=\"color: #008000; text-decoration-color: #008000\">''</span>                                                              <span style=\"color: #000080; text-decoration-color: #000080\">│</span>\n",
       "<span style=\"color: #000080; text-decoration-color: #000080\">│</span>        <span style=\"color: #808000; text-decoration-color: #808000; font-style: italic\">dims</span> = <span style=\"font-weight: bold\">[&lt;</span><span style=\"color: #ff00ff; text-decoration-color: #ff00ff; font-weight: bold\">Dim:</span><span style=\"color: #000000; text-decoration-color: #000000\"> Time</span><span style=\"font-weight: bold\">&gt;]</span>                                                   <span style=\"color: #000080; text-decoration-color: #000080\">│</span>\n",
       "<span style=\"color: #000080; text-decoration-color: #000080\">│</span>      <span style=\"color: #808000; text-decoration-color: #808000; font-style: italic\">errors</span> = <span style=\"color: #800080; text-decoration-color: #800080; font-weight: bold\">array</span><span style=\"font-weight: bold\">([</span><span style=\"color: #008080; text-decoration-color: #008080; font-weight: bold\">0</span>., <span style=\"color: #008080; text-decoration-color: #008080; font-weight: bold\">0</span>., <span style=\"color: #008080; text-decoration-color: #008080; font-weight: bold\">0</span>., <span style=\"color: #808000; text-decoration-color: #808000\">...</span>, <span style=\"color: #008080; text-decoration-color: #008080; font-weight: bold\">0</span>., <span style=\"color: #008080; text-decoration-color: #008080; font-weight: bold\">0</span>., <span style=\"color: #008080; text-decoration-color: #008080; font-weight: bold\">0</span>.<span style=\"font-weight: bold\">]</span>, <span style=\"color: #808000; text-decoration-color: #808000\">dtype</span>=<span style=\"color: #800080; text-decoration-color: #800080\">float32</span><span style=\"font-weight: bold\">)</span>             <span style=\"color: #000080; text-decoration-color: #000080\">│</span>\n",
       "<span style=\"color: #000080; text-decoration-color: #000080\">│</span>       <span style=\"color: #808000; text-decoration-color: #808000; font-style: italic\">label</span> = <span style=\"color: #008000; text-decoration-color: #008000\">'V'</span>                                                             <span style=\"color: #000080; text-decoration-color: #000080\">│</span>\n",
       "<span style=\"color: #000080; text-decoration-color: #000080\">│</span>        <span style=\"color: #808000; text-decoration-color: #808000; font-style: italic\">meta</span> = <span style=\"font-weight: bold\">{</span>                                                               <span style=\"color: #000080; text-decoration-color: #000080\">│</span>\n",
       "<span style=\"color: #000080; text-decoration-color: #000080\">│</span>                   <span style=\"color: #008000; text-decoration-color: #008000\">'signal_name'</span>: <span style=\"color: #008000; text-decoration-color: #008000\">b'XMD_NTM/FPGA/01'</span>,                          <span style=\"color: #000080; text-decoration-color: #000080\">│</span>\n",
       "<span style=\"color: #000080; text-decoration-color: #000080\">│</span>                   <span style=\"color: #008000; text-decoration-color: #008000\">'signal_alias'</span>: <span style=\"color: #008000; text-decoration-color: #008000\">b'XMD_NTM/FPGA/01'</span>,                         <span style=\"color: #000080; text-decoration-color: #000080\">│</span>\n",
       "<span style=\"color: #000080; text-decoration-color: #000080\">│</span>                   <span style=\"color: #008000; text-decoration-color: #008000\">'path'</span>: <span style=\"color: #008000; text-decoration-color: #008000\">b''</span>,                                                <span style=\"color: #000080; text-decoration-color: #000080\">│</span>\n",
       "<span style=\"color: #000080; text-decoration-color: #000080\">│</span>                   <span style=\"color: #008000; text-decoration-color: #008000\">'filename'</span>: <span style=\"color: #008000; text-decoration-color: #008000\">b'xmd0279.33'</span>,                                  <span style=\"color: #000080; text-decoration-color: #000080\">│</span>\n",
       "<span style=\"color: #000080; text-decoration-color: #000080\">│</span>                   <span style=\"color: #008000; text-decoration-color: #008000\">'format'</span>: <span style=\"color: #008000; text-decoration-color: #008000\">b'IDA3'</span>,                                          <span style=\"color: #000080; text-decoration-color: #000080\">│</span>\n",
       "<span style=\"color: #000080; text-decoration-color: #000080\">│</span>                   <span style=\"color: #008000; text-decoration-color: #008000\">'exp_number'</span>: <span style=\"color: #008080; text-decoration-color: #008080; font-weight: bold\">27933</span>,                                        <span style=\"color: #000080; text-decoration-color: #000080\">│</span>\n",
       "<span style=\"color: #000080; text-decoration-color: #000080\">│</span>                   <span style=\"color: #008000; text-decoration-color: #008000\">'pass'</span>: <span style=\"color: #008080; text-decoration-color: #008080; font-weight: bold\">-1</span>,                                                 <span style=\"color: #000080; text-decoration-color: #000080\">│</span>\n",
       "<span style=\"color: #000080; text-decoration-color: #000080\">│</span>                   <span style=\"color: #008000; text-decoration-color: #008000\">'pass_date'</span>: <span style=\"color: #008000; text-decoration-color: #008000\">b'2011-12-15'</span>                                  <span style=\"color: #000080; text-decoration-color: #000080\">│</span>\n",
       "<span style=\"color: #000080; text-decoration-color: #000080\">│</span>               <span style=\"font-weight: bold\">}</span>                                                               <span style=\"color: #000080; text-decoration-color: #000080\">│</span>\n",
       "<span style=\"color: #000080; text-decoration-color: #000080\">│</span>        <span style=\"color: #808000; text-decoration-color: #808000; font-style: italic\">rank</span> = <span style=\"color: #008080; text-decoration-color: #008080; font-weight: bold\">1</span>                                                               <span style=\"color: #000080; text-decoration-color: #000080\">│</span>\n",
       "<span style=\"color: #000080; text-decoration-color: #000080\">│</span>       <span style=\"color: #808000; text-decoration-color: #808000; font-style: italic\">shape</span> = <span style=\"font-weight: bold\">(</span><span style=\"color: #008080; text-decoration-color: #008080; font-weight: bold\">132096</span>,<span style=\"font-weight: bold\">)</span>                                                       <span style=\"color: #000080; text-decoration-color: #000080\">│</span>\n",
       "<span style=\"color: #000080; text-decoration-color: #000080\">│</span>        <span style=\"color: #808000; text-decoration-color: #808000; font-style: italic\">time</span> = <span style=\"font-weight: bold\">&lt;</span><span style=\"color: #ff00ff; text-decoration-color: #ff00ff; font-weight: bold\">Dim:</span><span style=\"color: #000000; text-decoration-color: #000000\"> Time</span><span style=\"font-weight: bold\">&gt;</span>                                                     <span style=\"color: #000080; text-decoration-color: #000080\">│</span>\n",
       "<span style=\"color: #000080; text-decoration-color: #000080\">│</span>  <span style=\"color: #808000; text-decoration-color: #808000; font-style: italic\">time_index</span> = <span style=\"color: #008080; text-decoration-color: #008080; font-weight: bold\">0</span>                                                               <span style=\"color: #000080; text-decoration-color: #000080\">│</span>\n",
       "<span style=\"color: #000080; text-decoration-color: #000080\">│</span>       <span style=\"color: #808000; text-decoration-color: #808000; font-style: italic\">units</span> = <span style=\"color: #008000; text-decoration-color: #008000\">'V'</span>                                                             <span style=\"color: #000080; text-decoration-color: #000080\">│</span>\n",
       "<span style=\"color: #000080; text-decoration-color: #000080\">╰───────────────────────────────────────────────────────────────────────────────╯</span>\n",
       "</pre>\n"
      ],
      "text/plain": [
       "\u001b[34m╭─\u001b[0m\u001b[34m────────────────────── \u001b[0m\u001b[1;34m<\u001b[0m\u001b[1;95mclass\u001b[0m\u001b[39m \u001b[0m\u001b[32m'pyuda._signal.Signal'\u001b[0m\u001b[1;34m>\u001b[0m\u001b[34m ───────────────────────\u001b[0m\u001b[34m─╮\u001b[0m\n",
       "\u001b[34m│\u001b[0m \u001b[32m╭───────────────────────────────────────────────────────────────────────────╮\u001b[0m \u001b[34m│\u001b[0m\n",
       "\u001b[34m│\u001b[0m \u001b[32m│\u001b[0m \u001b[1m<\u001b[0m\u001b[1;95mSignal:\u001b[0m\u001b[39m V\u001b[0m\u001b[1m>\u001b[0m                                                               \u001b[32m│\u001b[0m \u001b[34m│\u001b[0m\n",
       "\u001b[34m│\u001b[0m \u001b[32m╰───────────────────────────────────────────────────────────────────────────╯\u001b[0m \u001b[34m│\u001b[0m\n",
       "\u001b[34m│\u001b[0m                                                                               \u001b[34m│\u001b[0m\n",
       "\u001b[34m│\u001b[0m        \u001b[3;33mdata\u001b[0m = \u001b[1;35marray\u001b[0m\u001b[1m(\u001b[0m\u001b[1m[\u001b[0m \u001b[1;36m0\u001b[0m.        , \u001b[1;36m-0.0390625\u001b[0m , \u001b[1;36m-0.04150391\u001b[0m, \u001b[33m...\u001b[0m, \u001b[1;36m-0.29785156\u001b[0m, \u001b[34m│\u001b[0m\n",
       "\u001b[34m│\u001b[0m                      \u001b[1;36m-0.00732422\u001b[0m, \u001b[1;36m-0.12451172\u001b[0m\u001b[1m]\u001b[0m, \u001b[33mdtype\u001b[0m=\u001b[35mfloat32\u001b[0m\u001b[1m)\u001b[0m                \u001b[34m│\u001b[0m\n",
       "\u001b[34m│\u001b[0m \u001b[3;33mdescription\u001b[0m = \u001b[32m''\u001b[0m                                                              \u001b[34m│\u001b[0m\n",
       "\u001b[34m│\u001b[0m        \u001b[3;33mdims\u001b[0m = \u001b[1m[\u001b[0m\u001b[1m<\u001b[0m\u001b[1;95mDim:\u001b[0m\u001b[39m Time\u001b[0m\u001b[1m>\u001b[0m\u001b[1m]\u001b[0m                                                   \u001b[34m│\u001b[0m\n",
       "\u001b[34m│\u001b[0m      \u001b[3;33merrors\u001b[0m = \u001b[1;35marray\u001b[0m\u001b[1m(\u001b[0m\u001b[1m[\u001b[0m\u001b[1;36m0\u001b[0m., \u001b[1;36m0\u001b[0m., \u001b[1;36m0\u001b[0m., \u001b[33m...\u001b[0m, \u001b[1;36m0\u001b[0m., \u001b[1;36m0\u001b[0m., \u001b[1;36m0\u001b[0m.\u001b[1m]\u001b[0m, \u001b[33mdtype\u001b[0m=\u001b[35mfloat32\u001b[0m\u001b[1m)\u001b[0m             \u001b[34m│\u001b[0m\n",
       "\u001b[34m│\u001b[0m       \u001b[3;33mlabel\u001b[0m = \u001b[32m'V'\u001b[0m                                                             \u001b[34m│\u001b[0m\n",
       "\u001b[34m│\u001b[0m        \u001b[3;33mmeta\u001b[0m = \u001b[1m{\u001b[0m                                                               \u001b[34m│\u001b[0m\n",
       "\u001b[34m│\u001b[0m                   \u001b[32m'signal_name'\u001b[0m: \u001b[32mb'XMD_NTM/FPGA/01'\u001b[0m,                          \u001b[34m│\u001b[0m\n",
       "\u001b[34m│\u001b[0m                   \u001b[32m'signal_alias'\u001b[0m: \u001b[32mb'XMD_NTM/FPGA/01'\u001b[0m,                         \u001b[34m│\u001b[0m\n",
       "\u001b[34m│\u001b[0m                   \u001b[32m'path'\u001b[0m: \u001b[32mb''\u001b[0m,                                                \u001b[34m│\u001b[0m\n",
       "\u001b[34m│\u001b[0m                   \u001b[32m'filename'\u001b[0m: \u001b[32mb'xmd0279.33'\u001b[0m,                                  \u001b[34m│\u001b[0m\n",
       "\u001b[34m│\u001b[0m                   \u001b[32m'format'\u001b[0m: \u001b[32mb'IDA3'\u001b[0m,                                          \u001b[34m│\u001b[0m\n",
       "\u001b[34m│\u001b[0m                   \u001b[32m'exp_number'\u001b[0m: \u001b[1;36m27933\u001b[0m,                                        \u001b[34m│\u001b[0m\n",
       "\u001b[34m│\u001b[0m                   \u001b[32m'pass'\u001b[0m: \u001b[1;36m-1\u001b[0m,                                                 \u001b[34m│\u001b[0m\n",
       "\u001b[34m│\u001b[0m                   \u001b[32m'pass_date'\u001b[0m: \u001b[32mb'2011-12-15'\u001b[0m                                  \u001b[34m│\u001b[0m\n",
       "\u001b[34m│\u001b[0m               \u001b[1m}\u001b[0m                                                               \u001b[34m│\u001b[0m\n",
       "\u001b[34m│\u001b[0m        \u001b[3;33mrank\u001b[0m = \u001b[1;36m1\u001b[0m                                                               \u001b[34m│\u001b[0m\n",
       "\u001b[34m│\u001b[0m       \u001b[3;33mshape\u001b[0m = \u001b[1m(\u001b[0m\u001b[1;36m132096\u001b[0m,\u001b[1m)\u001b[0m                                                       \u001b[34m│\u001b[0m\n",
       "\u001b[34m│\u001b[0m        \u001b[3;33mtime\u001b[0m = \u001b[1m<\u001b[0m\u001b[1;95mDim:\u001b[0m\u001b[39m Time\u001b[0m\u001b[1m>\u001b[0m                                                     \u001b[34m│\u001b[0m\n",
       "\u001b[34m│\u001b[0m  \u001b[3;33mtime_index\u001b[0m = \u001b[1;36m0\u001b[0m                                                               \u001b[34m│\u001b[0m\n",
       "\u001b[34m│\u001b[0m       \u001b[3;33munits\u001b[0m = \u001b[32m'V'\u001b[0m                                                             \u001b[34m│\u001b[0m\n",
       "\u001b[34m╰───────────────────────────────────────────────────────────────────────────────╯\u001b[0m\n"
      ]
     },
     "metadata": {},
     "output_type": "display_data"
    }
   ],
   "source": [
    "data = client.get(\"XMD_NTM/FPGA/01\", shot_1)\n",
    "inspect(data, docs=False)"
   ]
  },
  {
   "cell_type": "markdown",
   "id": "3396fc28",
   "metadata": {},
   "source": [
    "Here is demonstrated that *IDA3* files are not accessible via `SOURCE` names."
   ]
  },
  {
   "cell_type": "code",
   "execution_count": 48,
   "id": "3f677478",
   "metadata": {},
   "outputs": [
    {
     "ename": "ServerException",
     "evalue": "No IDA Signal in IDA Source File. Could not translate logical name IDA3_ERR_MESS_FILE",
     "output_type": "error",
     "traceback": [
      "\u001b[0;31m---------------------------------------------------------------------------\u001b[0m",
      "\u001b[0;31mServerException\u001b[0m                           Traceback (most recent call last)",
      "\u001b[0;32m/tmp/ipykernel_22687/2461860100.py\u001b[0m in \u001b[0;36m<module>\u001b[0;34m\u001b[0m\n\u001b[0;32m----> 1\u001b[0;31m \u001b[0mdata\u001b[0m \u001b[0;34m=\u001b[0m \u001b[0mclient\u001b[0m\u001b[0;34m.\u001b[0m\u001b[0mget\u001b[0m\u001b[0;34m(\u001b[0m\u001b[0;34m\"xmd\"\u001b[0m\u001b[0;34m,\u001b[0m \u001b[0mshot_1\u001b[0m\u001b[0;34m)\u001b[0m\u001b[0;34m\u001b[0m\u001b[0;34m\u001b[0m\u001b[0m\n\u001b[0m\u001b[1;32m      2\u001b[0m \u001b[0minspect\u001b[0m\u001b[0;34m(\u001b[0m\u001b[0mdata\u001b[0m\u001b[0;34m)\u001b[0m\u001b[0;34m\u001b[0m\u001b[0;34m\u001b[0m\u001b[0m\n",
      "\u001b[0;32m/usr/local/depot/uda-2.5.3/python/pyuda/_client.py\u001b[0m in \u001b[0;36mget\u001b[0;34m(self, signal, source, time_first, time_last, **kwargs)\u001b[0m\n\u001b[1;32m    168\u001b[0m         \"\"\"\n\u001b[1;32m    169\u001b[0m         \u001b[0;31m# Standard signal\u001b[0m\u001b[0;34m\u001b[0m\u001b[0;34m\u001b[0m\u001b[0;34m\u001b[0m\u001b[0m\n\u001b[0;32m--> 170\u001b[0;31m         \u001b[0mresult\u001b[0m \u001b[0;34m=\u001b[0m \u001b[0mcpyuda\u001b[0m\u001b[0;34m.\u001b[0m\u001b[0mget_data\u001b[0m\u001b[0;34m(\u001b[0m\u001b[0mstr\u001b[0m\u001b[0;34m(\u001b[0m\u001b[0msignal\u001b[0m\u001b[0;34m)\u001b[0m\u001b[0;34m,\u001b[0m \u001b[0mstr\u001b[0m\u001b[0;34m(\u001b[0m\u001b[0msource\u001b[0m\u001b[0;34m)\u001b[0m\u001b[0;34m)\u001b[0m\u001b[0;34m\u001b[0m\u001b[0;34m\u001b[0m\u001b[0m\n\u001b[0m\u001b[1;32m    171\u001b[0m         \u001b[0;32mreturn\u001b[0m \u001b[0mself\u001b[0m\u001b[0;34m.\u001b[0m\u001b[0m_unpack\u001b[0m\u001b[0;34m(\u001b[0m\u001b[0mresult\u001b[0m\u001b[0;34m,\u001b[0m \u001b[0mtime_first\u001b[0m\u001b[0;34m,\u001b[0m \u001b[0mtime_last\u001b[0m\u001b[0;34m)\u001b[0m\u001b[0;34m\u001b[0m\u001b[0;34m\u001b[0m\u001b[0m\n\u001b[1;32m    172\u001b[0m \u001b[0;34m\u001b[0m\u001b[0m\n",
      "\u001b[0;32mpyuda/cpyuda/cpyuda.pyx\u001b[0m in \u001b[0;36mcpyuda.get_data\u001b[0;34m()\u001b[0m\n",
      "\u001b[0;31mServerException\u001b[0m: No IDA Signal in IDA Source File. Could not translate logical name IDA3_ERR_MESS_FILE"
     ]
    }
   ],
   "source": [
    "data = client.get(\"xmd\", shot_1)\n",
    "inspect(data)"
   ]
  },
  {
   "cell_type": "markdown",
   "id": "8e0c9c5a",
   "metadata": {},
   "source": [
    "#### Errors & Exceptions"
   ]
  },
  {
   "cell_type": "markdown",
   "id": "27599f3c",
   "metadata": {},
   "source": [
    "An exception where data in **_Raw_** can be accessed only as a `Video` rather than a `Signal` is demonstrated below."
   ]
  },
  {
   "cell_type": "markdown",
   "id": "c886de8e",
   "metadata": {},
   "source": [
    "One cannot fund this `SOURCE` 'rcc' in source dictionary, see below. "
   ]
  },
  {
   "cell_type": "code",
   "execution_count": 49,
   "id": "3c24dd9b",
   "metadata": {},
   "outputs": [],
   "source": [
    "shot_3 = 30420\n",
    "\n",
    "sources_3 = client.list(ListType.SOURCES, shot_3)\n",
    "signals_3 = client.list(ListType.SIGNALS, shot_3)\n",
    "\n",
    "aliases_3 = set([signal.source_alias for signal in signals_3])\n",
    "\n",
    "alias_signal_dict_3 = {\n",
    "    source: set(\n",
    "        [signal.signal_name for signal in signals_3 if signal.source_alias == source]\n",
    "    )\n",
    "    for source in aliases_3\n",
    "}"
   ]
  },
  {
   "cell_type": "code",
   "execution_count": 50,
   "id": "29d6ba48",
   "metadata": {
    "tags": []
   },
   "outputs": [],
   "source": [
    "# commented as this will print a very big dictionary\n",
    "# print(alias_signal_dict_3)"
   ]
  },
  {
   "cell_type": "markdown",
   "id": "a0414fba",
   "metadata": {},
   "source": [
    "At the same time we can see that the `SOURCE` is *IDA3* and belongs to type **_Raw_**."
   ]
  },
  {
   "cell_type": "code",
   "execution_count": 51,
   "id": "a078d137",
   "metadata": {},
   "outputs": [
    {
     "data": {
      "text/html": [
       "<pre style=\"white-space:pre;overflow-x:auto;line-height:normal;font-family:Menlo,'DejaVu Sans Mono',consolas,'Courier New',monospace\"><span style=\"color: #000080; text-decoration-color: #000080\">╭──────────────────────────────── </span><span style=\"color: #000080; text-decoration-color: #000080; font-weight: bold\">&lt;</span><span style=\"color: #ff00ff; text-decoration-color: #ff00ff; font-weight: bold\">class</span><span style=\"color: #000000; text-decoration-color: #000000\"> </span><span style=\"color: #008000; text-decoration-color: #008000\">'list'</span><span style=\"color: #000080; text-decoration-color: #000080; font-weight: bold\">&gt;</span><span style=\"color: #000080; text-decoration-color: #000080\"> ────────────────────────────────╮</span>\n",
       "<span style=\"color: #000080; text-decoration-color: #000080\">│</span> <span style=\"color: #008000; text-decoration-color: #008000\">╭────────────────────────────────────────────────────────────────────────────╮</span> <span style=\"color: #000080; text-decoration-color: #000080\">│</span>\n",
       "<span style=\"color: #000080; text-decoration-color: #000080\">│</span> <span style=\"color: #008000; text-decoration-color: #008000\">│</span> <span style=\"font-weight: bold\">[</span>                                                                          <span style=\"color: #008000; text-decoration-color: #008000\">│</span> <span style=\"color: #000080; text-decoration-color: #000080\">│</span>\n",
       "<span style=\"color: #000080; text-decoration-color: #000080\">│</span> <span style=\"color: #008000; text-decoration-color: #008000\">│</span> <span style=\"color: #7fbf7f; text-decoration-color: #7fbf7f\">│   </span><span style=\"color: #800080; text-decoration-color: #800080; font-weight: bold\">ListData</span><span style=\"font-weight: bold\">(</span>                                                              <span style=\"color: #008000; text-decoration-color: #008000\">│</span> <span style=\"color: #000080; text-decoration-color: #000080\">│</span>\n",
       "<span style=\"color: #000080; text-decoration-color: #000080\">│</span> <span style=\"color: #008000; text-decoration-color: #008000\">│</span> <span style=\"color: #7fbf7f; text-decoration-color: #7fbf7f\">│   │   </span><span style=\"color: #808000; text-decoration-color: #808000\">shot</span>=<span style=\"color: #008080; text-decoration-color: #008080; font-weight: bold\">30420</span>,                                                        <span style=\"color: #008000; text-decoration-color: #008000\">│</span> <span style=\"color: #000080; text-decoration-color: #000080\">│</span>\n",
       "<span style=\"color: #000080; text-decoration-color: #000080\">│</span> <span style=\"color: #008000; text-decoration-color: #008000\">│</span> <span style=\"color: #7fbf7f; text-decoration-color: #7fbf7f\">│   │   </span><span style=\"color: #808000; text-decoration-color: #808000\">pass_</span>=<span style=\"color: #008080; text-decoration-color: #008080; font-weight: bold\">-1</span>,                                                          <span style=\"color: #008000; text-decoration-color: #008000\">│</span> <span style=\"color: #000080; text-decoration-color: #000080\">│</span>\n",
       "<span style=\"color: #000080; text-decoration-color: #000080\">│</span> <span style=\"color: #008000; text-decoration-color: #008000\">│</span> <span style=\"color: #7fbf7f; text-decoration-color: #7fbf7f\">│   │   </span><span style=\"color: #808000; text-decoration-color: #808000\">status</span>=<span style=\"color: #008080; text-decoration-color: #008080; font-weight: bold\">1</span>,                                                          <span style=\"color: #008000; text-decoration-color: #008000\">│</span> <span style=\"color: #000080; text-decoration-color: #000080\">│</span>\n",
       "<span style=\"color: #000080; text-decoration-color: #000080\">│</span> <span style=\"color: #008000; text-decoration-color: #008000\">│</span> <span style=\"color: #7fbf7f; text-decoration-color: #7fbf7f\">│   │   </span><span style=\"color: #808000; text-decoration-color: #808000\">source_alias</span>=<span style=\"color: #008000; text-decoration-color: #008000\">'rcc'</span>,                                                <span style=\"color: #008000; text-decoration-color: #008000\">│</span> <span style=\"color: #000080; text-decoration-color: #000080\">│</span>\n",
       "<span style=\"color: #000080; text-decoration-color: #000080\">│</span> <span style=\"color: #008000; text-decoration-color: #008000\">│</span> <span style=\"color: #7fbf7f; text-decoration-color: #7fbf7f\">│   │   </span><span style=\"color: #808000; text-decoration-color: #808000\">format</span>=<span style=\"color: #008000; text-decoration-color: #008000\">'IDA3'</span>,                                                     <span style=\"color: #008000; text-decoration-color: #008000\">│</span> <span style=\"color: #000080; text-decoration-color: #000080\">│</span>\n",
       "<span style=\"color: #000080; text-decoration-color: #000080\">│</span> <span style=\"color: #008000; text-decoration-color: #008000\">│</span> <span style=\"color: #7fbf7f; text-decoration-color: #7fbf7f\">│   │   </span><span style=\"color: #808000; text-decoration-color: #808000\">filename</span>=<span style=\"color: #008000; text-decoration-color: #008000\">'rcc0304.20'</span>,                                             <span style=\"color: #008000; text-decoration-color: #008000\">│</span> <span style=\"color: #000080; text-decoration-color: #000080\">│</span>\n",
       "<span style=\"color: #000080; text-decoration-color: #000080\">│</span> <span style=\"color: #008000; text-decoration-color: #008000\">│</span> <span style=\"color: #7fbf7f; text-decoration-color: #7fbf7f\">│   │   </span><span style=\"color: #808000; text-decoration-color: #808000\">type</span>=<span style=\"color: #008000; text-decoration-color: #008000\">'Raw'</span>,                                                        <span style=\"color: #008000; text-decoration-color: #008000\">│</span> <span style=\"color: #000080; text-decoration-color: #000080\">│</span>\n",
       "<span style=\"color: #000080; text-decoration-color: #000080\">│</span> <span style=\"color: #008000; text-decoration-color: #008000\">│</span> <span style=\"color: #7fbf7f; text-decoration-color: #7fbf7f\">│   │   </span><span style=\"color: #808000; text-decoration-color: #808000\">description</span>=<span style=\"color: #008000; text-decoration-color: #008000\">'CELESTE-3: core charge exchange (CXRS) spectrometer'</span>, <span style=\"color: #008000; text-decoration-color: #008000\">│</span> <span style=\"color: #000080; text-decoration-color: #000080\">│</span>\n",
       "<span style=\"color: #000080; text-decoration-color: #000080\">│</span> <span style=\"color: #008000; text-decoration-color: #008000\">│</span> <span style=\"color: #7fbf7f; text-decoration-color: #7fbf7f\">│   │   </span><span style=\"color: #808000; text-decoration-color: #808000\">run_id</span>=<span style=\"color: #008080; text-decoration-color: #008080; font-weight: bold\">-1</span>                                                          <span style=\"color: #008000; text-decoration-color: #008000\">│</span> <span style=\"color: #000080; text-decoration-color: #000080\">│</span>\n",
       "<span style=\"color: #000080; text-decoration-color: #000080\">│</span> <span style=\"color: #008000; text-decoration-color: #008000\">│</span> <span style=\"color: #7fbf7f; text-decoration-color: #7fbf7f\">│   </span><span style=\"font-weight: bold\">)</span>                                                                      <span style=\"color: #008000; text-decoration-color: #008000\">│</span> <span style=\"color: #000080; text-decoration-color: #000080\">│</span>\n",
       "<span style=\"color: #000080; text-decoration-color: #000080\">│</span> <span style=\"color: #008000; text-decoration-color: #008000\">│</span> <span style=\"font-weight: bold\">]</span>                                                                          <span style=\"color: #008000; text-decoration-color: #008000\">│</span> <span style=\"color: #000080; text-decoration-color: #000080\">│</span>\n",
       "<span style=\"color: #000080; text-decoration-color: #000080\">│</span> <span style=\"color: #008000; text-decoration-color: #008000\">╰────────────────────────────────────────────────────────────────────────────╯</span> <span style=\"color: #000080; text-decoration-color: #000080\">│</span>\n",
       "<span style=\"color: #000080; text-decoration-color: #000080\">│</span>                                                                                <span style=\"color: #000080; text-decoration-color: #000080\">│</span>\n",
       "<span style=\"color: #000080; text-decoration-color: #000080\">│</span> <span style=\"color: #008080; text-decoration-color: #008080; font-weight: bold\">35</span><span style=\"font-style: italic\"> attribute(s) not shown.</span> Run <span style=\"color: #800080; text-decoration-color: #800080; font-weight: bold\">inspect</span><span style=\"font-weight: bold\">(</span>inspect<span style=\"font-weight: bold\">)</span> for options.                   <span style=\"color: #000080; text-decoration-color: #000080\">│</span>\n",
       "<span style=\"color: #000080; text-decoration-color: #000080\">╰────────────────────────────────────────────────────────────────────────────────╯</span>\n",
       "</pre>\n"
      ],
      "text/plain": [
       "\u001b[34m╭─\u001b[0m\u001b[34m─────────────────────────────── \u001b[0m\u001b[1;34m<\u001b[0m\u001b[1;95mclass\u001b[0m\u001b[39m \u001b[0m\u001b[32m'list'\u001b[0m\u001b[1;34m>\u001b[0m\u001b[34m ───────────────────────────────\u001b[0m\u001b[34m─╮\u001b[0m\n",
       "\u001b[34m│\u001b[0m \u001b[32m╭────────────────────────────────────────────────────────────────────────────╮\u001b[0m \u001b[34m│\u001b[0m\n",
       "\u001b[34m│\u001b[0m \u001b[32m│\u001b[0m \u001b[1m[\u001b[0m                                                                          \u001b[32m│\u001b[0m \u001b[34m│\u001b[0m\n",
       "\u001b[34m│\u001b[0m \u001b[32m│\u001b[0m \u001b[2;32m│   \u001b[0m\u001b[1;35mListData\u001b[0m\u001b[1m(\u001b[0m                                                              \u001b[32m│\u001b[0m \u001b[34m│\u001b[0m\n",
       "\u001b[34m│\u001b[0m \u001b[32m│\u001b[0m \u001b[2;32m│   │   \u001b[0m\u001b[33mshot\u001b[0m=\u001b[1;36m30420\u001b[0m,                                                        \u001b[32m│\u001b[0m \u001b[34m│\u001b[0m\n",
       "\u001b[34m│\u001b[0m \u001b[32m│\u001b[0m \u001b[2;32m│   │   \u001b[0m\u001b[33mpass_\u001b[0m=\u001b[1;36m-1\u001b[0m,                                                          \u001b[32m│\u001b[0m \u001b[34m│\u001b[0m\n",
       "\u001b[34m│\u001b[0m \u001b[32m│\u001b[0m \u001b[2;32m│   │   \u001b[0m\u001b[33mstatus\u001b[0m=\u001b[1;36m1\u001b[0m,                                                          \u001b[32m│\u001b[0m \u001b[34m│\u001b[0m\n",
       "\u001b[34m│\u001b[0m \u001b[32m│\u001b[0m \u001b[2;32m│   │   \u001b[0m\u001b[33msource_alias\u001b[0m=\u001b[32m'rcc'\u001b[0m,                                                \u001b[32m│\u001b[0m \u001b[34m│\u001b[0m\n",
       "\u001b[34m│\u001b[0m \u001b[32m│\u001b[0m \u001b[2;32m│   │   \u001b[0m\u001b[33mformat\u001b[0m=\u001b[32m'IDA3'\u001b[0m,                                                     \u001b[32m│\u001b[0m \u001b[34m│\u001b[0m\n",
       "\u001b[34m│\u001b[0m \u001b[32m│\u001b[0m \u001b[2;32m│   │   \u001b[0m\u001b[33mfilename\u001b[0m=\u001b[32m'rcc0304.20'\u001b[0m,                                             \u001b[32m│\u001b[0m \u001b[34m│\u001b[0m\n",
       "\u001b[34m│\u001b[0m \u001b[32m│\u001b[0m \u001b[2;32m│   │   \u001b[0m\u001b[33mtype\u001b[0m=\u001b[32m'Raw'\u001b[0m,                                                        \u001b[32m│\u001b[0m \u001b[34m│\u001b[0m\n",
       "\u001b[34m│\u001b[0m \u001b[32m│\u001b[0m \u001b[2;32m│   │   \u001b[0m\u001b[33mdescription\u001b[0m=\u001b[32m'CELESTE-3: core charge exchange \u001b[0m\u001b[32m(\u001b[0m\u001b[32mCXRS\u001b[0m\u001b[32m)\u001b[0m\u001b[32m spectrometer'\u001b[0m, \u001b[32m│\u001b[0m \u001b[34m│\u001b[0m\n",
       "\u001b[34m│\u001b[0m \u001b[32m│\u001b[0m \u001b[2;32m│   │   \u001b[0m\u001b[33mrun_id\u001b[0m=\u001b[1;36m-1\u001b[0m                                                          \u001b[32m│\u001b[0m \u001b[34m│\u001b[0m\n",
       "\u001b[34m│\u001b[0m \u001b[32m│\u001b[0m \u001b[2;32m│   \u001b[0m\u001b[1m)\u001b[0m                                                                      \u001b[32m│\u001b[0m \u001b[34m│\u001b[0m\n",
       "\u001b[34m│\u001b[0m \u001b[32m│\u001b[0m \u001b[1m]\u001b[0m                                                                          \u001b[32m│\u001b[0m \u001b[34m│\u001b[0m\n",
       "\u001b[34m│\u001b[0m \u001b[32m╰────────────────────────────────────────────────────────────────────────────╯\u001b[0m \u001b[34m│\u001b[0m\n",
       "\u001b[34m│\u001b[0m                                                                                \u001b[34m│\u001b[0m\n",
       "\u001b[34m│\u001b[0m \u001b[1;36m35\u001b[0m\u001b[3m attribute(s) not shown.\u001b[0m Run \u001b[1;35minspect\u001b[0m\u001b[1m(\u001b[0minspect\u001b[1m)\u001b[0m for options.                   \u001b[34m│\u001b[0m\n",
       "\u001b[34m╰────────────────────────────────────────────────────────────────────────────────╯\u001b[0m\n"
      ]
     },
     "metadata": {},
     "output_type": "display_data"
    }
   ],
   "source": [
    "source_3_rcc = [source for source in sources_3 if source.source_alias == \"rcc\"]\n",
    "inspect(source_3_rcc, docs=False)"
   ]
  },
  {
   "cell_type": "markdown",
   "id": "c115e68d",
   "metadata": {},
   "source": [
    "Surprisingly, it is possible to access the data as a Video object."
   ]
  },
  {
   "cell_type": "code",
   "execution_count": 52,
   "id": "7a122c45",
   "metadata": {
    "tags": []
   },
   "outputs": [
    {
     "data": {
      "text/html": [
       "<pre style=\"white-space:pre;overflow-x:auto;line-height:normal;font-family:Menlo,'DejaVu Sans Mono',consolas,'Courier New',monospace\"><span style=\"color: #000080; text-decoration-color: #000080\">╭─────────────────────────────── </span><span style=\"color: #000080; text-decoration-color: #000080; font-weight: bold\">&lt;</span><span style=\"color: #ff00ff; text-decoration-color: #ff00ff; font-weight: bold\">class</span><span style=\"color: #000000; text-decoration-color: #000000\"> </span><span style=\"color: #008000; text-decoration-color: #008000\">'pyuda._video.Video'</span><span style=\"color: #000080; text-decoration-color: #000080; font-weight: bold\">&gt;</span><span style=\"color: #000080; text-decoration-color: #000080\"> ───────────────────────────────╮</span>\n",
       "<span style=\"color: #000080; text-decoration-color: #000080\">│</span> <span style=\"color: #008000; text-decoration-color: #008000\">╭────────────────────────────────────────────────────────────────────────────────────────╮</span> <span style=\"color: #000080; text-decoration-color: #000080\">│</span>\n",
       "<span style=\"color: #000080; text-decoration-color: #000080\">│</span> <span style=\"color: #008000; text-decoration-color: #008000\">│</span> <span style=\"font-weight: bold\">&lt;</span><span style=\"color: #ff00ff; text-decoration-color: #ff00ff; font-weight: bold\">pyuda._video.Video</span><span style=\"color: #000000; text-decoration-color: #000000\"> object at </span><span style=\"color: #008080; text-decoration-color: #008080; font-weight: bold\">0x7f8eb41afa90</span><span style=\"font-weight: bold\">&gt;</span>                                          <span style=\"color: #008000; text-decoration-color: #008000\">│</span> <span style=\"color: #000080; text-decoration-color: #000080\">│</span>\n",
       "<span style=\"color: #000080; text-decoration-color: #000080\">│</span> <span style=\"color: #008000; text-decoration-color: #008000\">╰────────────────────────────────────────────────────────────────────────────────────────╯</span> <span style=\"color: #000080; text-decoration-color: #000080\">│</span>\n",
       "<span style=\"color: #000080; text-decoration-color: #000080\">│</span>                                                                                            <span style=\"color: #000080; text-decoration-color: #000080\">│</span>\n",
       "<span style=\"color: #000080; text-decoration-color: #000080\">│</span>          <span style=\"color: #808000; text-decoration-color: #808000; font-style: italic\">camera</span> = <span style=\"color: #008000; text-decoration-color: #008000\">'Pluto PS482, PixCam 1.6'</span>                                                <span style=\"color: #000080; text-decoration-color: #000080\">│</span>\n",
       "<span style=\"color: #000080; text-decoration-color: #000080\">│</span>      <span style=\"color: #808000; text-decoration-color: #808000; font-style: italic\">ccd_height</span> = <span style=\"color: #008080; text-decoration-color: #008080; font-weight: bold\">270</span>                                                                      <span style=\"color: #000080; text-decoration-color: #000080\">│</span>\n",
       "<span style=\"color: #000080; text-decoration-color: #000080\">│</span>       <span style=\"color: #808000; text-decoration-color: #808000; font-style: italic\">ccd_width</span> = <span style=\"color: #008080; text-decoration-color: #008080; font-weight: bold\">342</span>                                                                      <span style=\"color: #000080; text-decoration-color: #000080\">│</span>\n",
       "<span style=\"color: #000080; text-decoration-color: #000080\">│</span>       <span style=\"color: #808000; text-decoration-color: #808000; font-style: italic\">close_flc</span> = <span style=\"color: #008080; text-decoration-color: #008080; font-weight: bold\">0</span>                                                                        <span style=\"color: #000080; text-decoration-color: #000080\">│</span>\n",
       "<span style=\"color: #000080; text-decoration-color: #000080\">│</span> <span style=\"color: #808000; text-decoration-color: #808000; font-style: italic\">close_flc_delay</span> = <span style=\"color: #008080; text-decoration-color: #008080; font-weight: bold\">0</span>                                                                        <span style=\"color: #000080; text-decoration-color: #000080\">│</span>\n",
       "<span style=\"color: #000080; text-decoration-color: #000080\">│</span>       <span style=\"color: #808000; text-decoration-color: #808000; font-style: italic\">date_time</span> = <span style=\"color: #008000; text-decoration-color: #008000\">'25/09/2013 12:32'</span>                                                       <span style=\"color: #000080; text-decoration-color: #000080\">│</span>\n",
       "<span style=\"color: #000080; text-decoration-color: #000080\">│</span>           <span style=\"color: #808000; text-decoration-color: #808000; font-style: italic\">depth</span> = <span style=\"color: #008080; text-decoration-color: #008080; font-weight: bold\">14</span>                                                                       <span style=\"color: #000080; text-decoration-color: #000080\">│</span>\n",
       "<span style=\"color: #000080; text-decoration-color: #000080\">│</span>        <span style=\"color: #808000; text-decoration-color: #808000; font-style: italic\">exp_mode</span> = <span style=\"color: #008080; text-decoration-color: #008080; font-weight: bold\">3.0</span>                                                                      <span style=\"color: #000080; text-decoration-color: #000080\">│</span>\n",
       "<span style=\"color: #000080; text-decoration-color: #000080\">│</span>     <span style=\"color: #808000; text-decoration-color: #808000; font-style: italic\">file_format</span> = <span style=\"color: #008000; text-decoration-color: #008000\">'RCC'</span>                                                                    <span style=\"color: #000080; text-decoration-color: #000080\">│</span>\n",
       "<span style=\"color: #000080; text-decoration-color: #000080\">│</span>     <span style=\"color: #808000; text-decoration-color: #808000; font-style: italic\">frame_times</span> = <span style=\"color: #800080; text-decoration-color: #800080; font-weight: bold\">array</span><span style=\"font-weight: bold\">([</span><span style=\"color: #008080; text-decoration-color: #008080; font-weight: bold\">-50000</span>, <span style=\"color: #008080; text-decoration-color: #008080; font-weight: bold\">-45008</span>, <span style=\"color: #008080; text-decoration-color: #008080; font-weight: bold\">-40008</span>, <span style=\"color: #008080; text-decoration-color: #008080; font-weight: bold\">-35006</span>, <span style=\"color: #008080; text-decoration-color: #008080; font-weight: bold\">-30008</span>, <span style=\"color: #008080; text-decoration-color: #008080; font-weight: bold\">-25008</span>, <span style=\"color: #008080; text-decoration-color: #008080; font-weight: bold\">-20008</span>, <span style=\"color: #008080; text-decoration-color: #008080; font-weight: bold\">-15008</span>,   <span style=\"color: #000080; text-decoration-color: #000080\">│</span>\n",
       "<span style=\"color: #000080; text-decoration-color: #000080\">│</span>                          <span style=\"color: #008080; text-decoration-color: #008080; font-weight: bold\">-10008</span>,  <span style=\"color: #008080; text-decoration-color: #008080; font-weight: bold\">-5008</span>,     <span style=\"color: #008080; text-decoration-color: #008080; font-weight: bold\">-6</span>,   <span style=\"color: #008080; text-decoration-color: #008080; font-weight: bold\">4995</span>,   <span style=\"color: #008080; text-decoration-color: #008080; font-weight: bold\">9994</span>,  <span style=\"color: #008080; text-decoration-color: #008080; font-weight: bold\">14994</span>,  <span style=\"color: #008080; text-decoration-color: #008080; font-weight: bold\">93737</span>,  <span style=\"color: #008080; text-decoration-color: #008080; font-weight: bold\">98735</span>,   <span style=\"color: #000080; text-decoration-color: #000080\">│</span>\n",
       "<span style=\"color: #000080; text-decoration-color: #000080\">│</span>                          <span style=\"color: #008080; text-decoration-color: #008080; font-weight: bold\">103735</span>,  <span style=\"color: #008080; text-decoration-color: #008080; font-weight: bold\">34979</span>, <span style=\"color: #008080; text-decoration-color: #008080; font-weight: bold\">113739</span>, <span style=\"color: #008080; text-decoration-color: #008080; font-weight: bold\">118735</span>, <span style=\"color: #008080; text-decoration-color: #008080; font-weight: bold\">123734</span>,  <span style=\"color: #008080; text-decoration-color: #008080; font-weight: bold\">55002</span>,  <span style=\"color: #008080; text-decoration-color: #008080; font-weight: bold\">59991</span>,  <span style=\"color: #008080; text-decoration-color: #008080; font-weight: bold\">64990</span>,   <span style=\"color: #000080; text-decoration-color: #000080\">│</span>\n",
       "<span style=\"color: #000080; text-decoration-color: #000080\">│</span>                           <span style=\"color: #008080; text-decoration-color: #008080; font-weight: bold\">69991</span>,  <span style=\"color: #008080; text-decoration-color: #008080; font-weight: bold\">74990</span>,  <span style=\"color: #008080; text-decoration-color: #008080; font-weight: bold\">79990</span>,  <span style=\"color: #008080; text-decoration-color: #008080; font-weight: bold\">84991</span>,  <span style=\"color: #008080; text-decoration-color: #008080; font-weight: bold\">89993</span>,  <span style=\"color: #008080; text-decoration-color: #008080; font-weight: bold\">94994</span>,  <span style=\"color: #008080; text-decoration-color: #008080; font-weight: bold\">99994</span>, <span style=\"color: #008080; text-decoration-color: #008080; font-weight: bold\">104994</span>,   <span style=\"color: #000080; text-decoration-color: #000080\">│</span>\n",
       "<span style=\"color: #000080; text-decoration-color: #000080\">│</span>                          <span style=\"color: #008080; text-decoration-color: #008080; font-weight: bold\">109992</span>, <span style=\"color: #008080; text-decoration-color: #008080; font-weight: bold\">114992</span>, <span style=\"color: #008080; text-decoration-color: #008080; font-weight: bold\">119992</span>, <span style=\"color: #008080; text-decoration-color: #008080; font-weight: bold\">124992</span>, <span style=\"color: #008080; text-decoration-color: #008080; font-weight: bold\">129993</span>, <span style=\"color: #008080; text-decoration-color: #008080; font-weight: bold\">134992</span>, <span style=\"color: #008080; text-decoration-color: #008080; font-weight: bold\">139992</span>, <span style=\"color: #008080; text-decoration-color: #008080; font-weight: bold\">144995</span>,   <span style=\"color: #000080; text-decoration-color: #000080\">│</span>\n",
       "<span style=\"color: #000080; text-decoration-color: #000080\">│</span>                          <span style=\"color: #008080; text-decoration-color: #008080; font-weight: bold\">149992</span>, <span style=\"color: #008080; text-decoration-color: #008080; font-weight: bold\">154992</span>, <span style=\"color: #008080; text-decoration-color: #008080; font-weight: bold\">159993</span>, <span style=\"color: #008080; text-decoration-color: #008080; font-weight: bold\">164992</span>, <span style=\"color: #008080; text-decoration-color: #008080; font-weight: bold\">169992</span>, <span style=\"color: #008080; text-decoration-color: #008080; font-weight: bold\">174992</span>, <span style=\"color: #008080; text-decoration-color: #008080; font-weight: bold\">179994</span>, <span style=\"color: #008080; text-decoration-color: #008080; font-weight: bold\">184991</span>,   <span style=\"color: #000080; text-decoration-color: #000080\">│</span>\n",
       "<span style=\"color: #000080; text-decoration-color: #000080\">│</span>                          <span style=\"color: #008080; text-decoration-color: #008080; font-weight: bold\">189992</span>, <span style=\"color: #008080; text-decoration-color: #008080; font-weight: bold\">194992</span>, <span style=\"color: #008080; text-decoration-color: #008080; font-weight: bold\">199992</span>, <span style=\"color: #008080; text-decoration-color: #008080; font-weight: bold\">204991</span>, <span style=\"color: #008080; text-decoration-color: #008080; font-weight: bold\">209992</span>, <span style=\"color: #008080; text-decoration-color: #008080; font-weight: bold\">214994</span>, <span style=\"color: #008080; text-decoration-color: #008080; font-weight: bold\">219993</span>, <span style=\"color: #008080; text-decoration-color: #008080; font-weight: bold\">224995</span>,   <span style=\"color: #000080; text-decoration-color: #000080\">│</span>\n",
       "<span style=\"color: #000080; text-decoration-color: #000080\">│</span>                          <span style=\"color: #008080; text-decoration-color: #008080; font-weight: bold\">229994</span>, <span style=\"color: #008080; text-decoration-color: #008080; font-weight: bold\">234990</span>, <span style=\"color: #008080; text-decoration-color: #008080; font-weight: bold\">239991</span>, <span style=\"color: #008080; text-decoration-color: #008080; font-weight: bold\">244990</span>, <span style=\"color: #008080; text-decoration-color: #008080; font-weight: bold\">249990</span>, <span style=\"color: #008080; text-decoration-color: #008080; font-weight: bold\">254991</span>, <span style=\"color: #008080; text-decoration-color: #008080; font-weight: bold\">259990</span>, <span style=\"color: #008080; text-decoration-color: #008080; font-weight: bold\">264990</span>,   <span style=\"color: #000080; text-decoration-color: #000080\">│</span>\n",
       "<span style=\"color: #000080; text-decoration-color: #000080\">│</span>                          <span style=\"color: #008080; text-decoration-color: #008080; font-weight: bold\">269991</span>, <span style=\"color: #008080; text-decoration-color: #008080; font-weight: bold\">274990</span>, <span style=\"color: #008080; text-decoration-color: #008080; font-weight: bold\">279990</span>, <span style=\"color: #008080; text-decoration-color: #008080; font-weight: bold\">284991</span>, <span style=\"color: #008080; text-decoration-color: #008080; font-weight: bold\">289990</span>, <span style=\"color: #008080; text-decoration-color: #008080; font-weight: bold\">294990</span>, <span style=\"color: #008080; text-decoration-color: #008080; font-weight: bold\">299990</span>, <span style=\"color: #008080; text-decoration-color: #008080; font-weight: bold\">304994</span>,   <span style=\"color: #000080; text-decoration-color: #000080\">│</span>\n",
       "<span style=\"color: #000080; text-decoration-color: #000080\">│</span>                          <span style=\"color: #008080; text-decoration-color: #008080; font-weight: bold\">309993</span>, <span style=\"color: #008080; text-decoration-color: #008080; font-weight: bold\">314993</span>, <span style=\"color: #008080; text-decoration-color: #008080; font-weight: bold\">319994</span>, <span style=\"color: #008080; text-decoration-color: #008080; font-weight: bold\">324991</span>, <span style=\"color: #008080; text-decoration-color: #008080; font-weight: bold\">329991</span>, <span style=\"color: #008080; text-decoration-color: #008080; font-weight: bold\">334992</span>, <span style=\"color: #008080; text-decoration-color: #008080; font-weight: bold\">339992</span>, <span style=\"color: #008080; text-decoration-color: #008080; font-weight: bold\">344991</span>,   <span style=\"color: #000080; text-decoration-color: #000080\">│</span>\n",
       "<span style=\"color: #000080; text-decoration-color: #000080\">│</span>                          <span style=\"color: #008080; text-decoration-color: #008080; font-weight: bold\">349981</span>, <span style=\"color: #008080; text-decoration-color: #008080; font-weight: bold\">355002</span>, <span style=\"color: #008080; text-decoration-color: #008080; font-weight: bold\">359992</span>, <span style=\"color: #008080; text-decoration-color: #008080; font-weight: bold\">364993</span>, <span style=\"color: #008080; text-decoration-color: #008080; font-weight: bold\">369992</span>, <span style=\"color: #008080; text-decoration-color: #008080; font-weight: bold\">374991</span>, <span style=\"color: #008080; text-decoration-color: #008080; font-weight: bold\">379993</span>, <span style=\"color: #008080; text-decoration-color: #008080; font-weight: bold\">384991</span>,   <span style=\"color: #000080; text-decoration-color: #000080\">│</span>\n",
       "<span style=\"color: #000080; text-decoration-color: #000080\">│</span>                          <span style=\"color: #008080; text-decoration-color: #008080; font-weight: bold\">389994</span>, <span style=\"color: #008080; text-decoration-color: #008080; font-weight: bold\">394992</span>, <span style=\"color: #008080; text-decoration-color: #008080; font-weight: bold\">399991</span>, <span style=\"color: #008080; text-decoration-color: #008080; font-weight: bold\">404992</span>, <span style=\"color: #008080; text-decoration-color: #008080; font-weight: bold\">409992</span>, <span style=\"color: #008080; text-decoration-color: #008080; font-weight: bold\">414992</span>, <span style=\"color: #008080; text-decoration-color: #008080; font-weight: bold\">419991</span>, <span style=\"color: #008080; text-decoration-color: #008080; font-weight: bold\">424992</span>,   <span style=\"color: #000080; text-decoration-color: #000080\">│</span>\n",
       "<span style=\"color: #000080; text-decoration-color: #000080\">│</span>                          <span style=\"color: #008080; text-decoration-color: #008080; font-weight: bold\">429994</span>, <span style=\"color: #008080; text-decoration-color: #008080; font-weight: bold\">434993</span>, <span style=\"color: #008080; text-decoration-color: #008080; font-weight: bold\">439993</span>, <span style=\"color: #008080; text-decoration-color: #008080; font-weight: bold\">444994</span>, <span style=\"color: #008080; text-decoration-color: #008080; font-weight: bold\">449990</span>, <span style=\"color: #008080; text-decoration-color: #008080; font-weight: bold\">454990</span>, <span style=\"color: #008080; text-decoration-color: #008080; font-weight: bold\">459990</span>, <span style=\"color: #008080; text-decoration-color: #008080; font-weight: bold\">464990</span>,   <span style=\"color: #000080; text-decoration-color: #000080\">│</span>\n",
       "<span style=\"color: #000080; text-decoration-color: #000080\">│</span>                          <span style=\"color: #008080; text-decoration-color: #008080; font-weight: bold\">469990</span>, <span style=\"color: #008080; text-decoration-color: #008080; font-weight: bold\">474991</span>, <span style=\"color: #008080; text-decoration-color: #008080; font-weight: bold\">479990</span>, <span style=\"color: #008080; text-decoration-color: #008080; font-weight: bold\">484990</span>, <span style=\"color: #008080; text-decoration-color: #008080; font-weight: bold\">489990</span>, <span style=\"color: #008080; text-decoration-color: #008080; font-weight: bold\">494990</span>, <span style=\"color: #008080; text-decoration-color: #008080; font-weight: bold\">499990</span>, <span style=\"color: #008080; text-decoration-color: #008080; font-weight: bold\">504990</span>,   <span style=\"color: #000080; text-decoration-color: #000080\">│</span>\n",
       "<span style=\"color: #000080; text-decoration-color: #000080\">│</span>                          <span style=\"color: #008080; text-decoration-color: #008080; font-weight: bold\">509990</span>, <span style=\"color: #008080; text-decoration-color: #008080; font-weight: bold\">514990</span>, <span style=\"color: #008080; text-decoration-color: #008080; font-weight: bold\">519995</span>, <span style=\"color: #008080; text-decoration-color: #008080; font-weight: bold\">524993</span>, <span style=\"color: #008080; text-decoration-color: #008080; font-weight: bold\">529993</span>, <span style=\"color: #008080; text-decoration-color: #008080; font-weight: bold\">534994</span>, <span style=\"color: #008080; text-decoration-color: #008080; font-weight: bold\">539991</span>, <span style=\"color: #008080; text-decoration-color: #008080; font-weight: bold\">544992</span>,   <span style=\"color: #000080; text-decoration-color: #000080\">│</span>\n",
       "<span style=\"color: #000080; text-decoration-color: #000080\">│</span>                          <span style=\"color: #008080; text-decoration-color: #008080; font-weight: bold\">549992</span>, <span style=\"color: #008080; text-decoration-color: #008080; font-weight: bold\">554992</span>, <span style=\"color: #008080; text-decoration-color: #008080; font-weight: bold\">559991</span>, <span style=\"color: #008080; text-decoration-color: #008080; font-weight: bold\">564991</span>, <span style=\"color: #008080; text-decoration-color: #008080; font-weight: bold\">569994</span>, <span style=\"color: #008080; text-decoration-color: #008080; font-weight: bold\">574992</span>, <span style=\"color: #008080; text-decoration-color: #008080; font-weight: bold\">579992</span>, <span style=\"color: #008080; text-decoration-color: #008080; font-weight: bold\">584993</span>,   <span style=\"color: #000080; text-decoration-color: #000080\">│</span>\n",
       "<span style=\"color: #000080; text-decoration-color: #000080\">│</span>                          <span style=\"color: #008080; text-decoration-color: #008080; font-weight: bold\">589992</span>, <span style=\"color: #008080; text-decoration-color: #008080; font-weight: bold\">595138</span><span style=\"font-weight: bold\">]</span>, <span style=\"color: #808000; text-decoration-color: #808000\">dtype</span>=<span style=\"color: #800080; text-decoration-color: #800080\">int32</span><span style=\"font-weight: bold\">)</span>                                     <span style=\"color: #000080; text-decoration-color: #000080\">│</span>\n",
       "<span style=\"color: #000080; text-decoration-color: #000080\">│</span>          <span style=\"color: #808000; text-decoration-color: #808000; font-style: italic\">frames</span> = <span style=\"font-weight: bold\">[</span>                                                                        <span style=\"color: #000080; text-decoration-color: #000080\">│</span>\n",
       "<span style=\"color: #000080; text-decoration-color: #000080\">│</span>                       <span style=\"font-weight: bold\">&lt;</span><span style=\"color: #ff00ff; text-decoration-color: #ff00ff; font-weight: bold\">pyuda._video.Frame</span><span style=\"color: #000000; text-decoration-color: #000000\"> object at </span><span style=\"color: #008080; text-decoration-color: #008080; font-weight: bold\">0x7f8eadcdc860</span><span style=\"font-weight: bold\">&gt;</span>,                       <span style=\"color: #000080; text-decoration-color: #000080\">│</span>\n",
       "<span style=\"color: #000080; text-decoration-color: #000080\">│</span>                       <span style=\"font-weight: bold\">&lt;</span><span style=\"color: #ff00ff; text-decoration-color: #ff00ff; font-weight: bold\">pyuda._video.Frame</span><span style=\"color: #000000; text-decoration-color: #000000\"> object at </span><span style=\"color: #008080; text-decoration-color: #008080; font-weight: bold\">0x7f8eadcdc8d0</span><span style=\"font-weight: bold\">&gt;</span>,                       <span style=\"color: #000080; text-decoration-color: #000080\">│</span>\n",
       "<span style=\"color: #000080; text-decoration-color: #000080\">│</span>                       <span style=\"font-weight: bold\">&lt;</span><span style=\"color: #ff00ff; text-decoration-color: #ff00ff; font-weight: bold\">pyuda._video.Frame</span><span style=\"color: #000000; text-decoration-color: #000000\"> object at </span><span style=\"color: #008080; text-decoration-color: #008080; font-weight: bold\">0x7f8eadc8d630</span><span style=\"font-weight: bold\">&gt;</span>,                       <span style=\"color: #000080; text-decoration-color: #000080\">│</span>\n",
       "<span style=\"color: #000080; text-decoration-color: #000080\">│</span>                       <span style=\"font-weight: bold\">&lt;</span><span style=\"color: #ff00ff; text-decoration-color: #ff00ff; font-weight: bold\">pyuda._video.Frame</span><span style=\"color: #000000; text-decoration-color: #000000\"> object at </span><span style=\"color: #008080; text-decoration-color: #008080; font-weight: bold\">0x7f8eadc8d668</span><span style=\"font-weight: bold\">&gt;</span>,                       <span style=\"color: #000080; text-decoration-color: #000080\">│</span>\n",
       "<span style=\"color: #000080; text-decoration-color: #000080\">│</span>                       <span style=\"font-weight: bold\">&lt;</span><span style=\"color: #ff00ff; text-decoration-color: #ff00ff; font-weight: bold\">pyuda._video.Frame</span><span style=\"color: #000000; text-decoration-color: #000000\"> object at </span><span style=\"color: #008080; text-decoration-color: #008080; font-weight: bold\">0x7f8eadc8d6a0</span><span style=\"font-weight: bold\">&gt;</span>,                       <span style=\"color: #000080; text-decoration-color: #000080\">│</span>\n",
       "<span style=\"color: #000080; text-decoration-color: #000080\">│</span>                       <span style=\"font-weight: bold\">&lt;</span><span style=\"color: #ff00ff; text-decoration-color: #ff00ff; font-weight: bold\">pyuda._video.Frame</span><span style=\"color: #000000; text-decoration-color: #000000\"> object at </span><span style=\"color: #008080; text-decoration-color: #008080; font-weight: bold\">0x7f8eadc8d6d8</span><span style=\"font-weight: bold\">&gt;</span>,                       <span style=\"color: #000080; text-decoration-color: #000080\">│</span>\n",
       "<span style=\"color: #000080; text-decoration-color: #000080\">│</span>                       <span style=\"font-weight: bold\">&lt;</span><span style=\"color: #ff00ff; text-decoration-color: #ff00ff; font-weight: bold\">pyuda._video.Frame</span><span style=\"color: #000000; text-decoration-color: #000000\"> object at </span><span style=\"color: #008080; text-decoration-color: #008080; font-weight: bold\">0x7f8eadc8d710</span><span style=\"font-weight: bold\">&gt;</span>,                       <span style=\"color: #000080; text-decoration-color: #000080\">│</span>\n",
       "<span style=\"color: #000080; text-decoration-color: #000080\">│</span>                       <span style=\"font-weight: bold\">&lt;</span><span style=\"color: #ff00ff; text-decoration-color: #ff00ff; font-weight: bold\">pyuda._video.Frame</span><span style=\"color: #000000; text-decoration-color: #000000\"> object at </span><span style=\"color: #008080; text-decoration-color: #008080; font-weight: bold\">0x7f8eadc8d748</span><span style=\"font-weight: bold\">&gt;</span>,                       <span style=\"color: #000080; text-decoration-color: #000080\">│</span>\n",
       "<span style=\"color: #000080; text-decoration-color: #000080\">│</span>                       <span style=\"font-weight: bold\">&lt;</span><span style=\"color: #ff00ff; text-decoration-color: #ff00ff; font-weight: bold\">pyuda._video.Frame</span><span style=\"color: #000000; text-decoration-color: #000000\"> object at </span><span style=\"color: #008080; text-decoration-color: #008080; font-weight: bold\">0x7f8eadc8d780</span><span style=\"font-weight: bold\">&gt;</span>,                       <span style=\"color: #000080; text-decoration-color: #000080\">│</span>\n",
       "<span style=\"color: #000080; text-decoration-color: #000080\">│</span>                       <span style=\"font-weight: bold\">&lt;</span><span style=\"color: #ff00ff; text-decoration-color: #ff00ff; font-weight: bold\">pyuda._video.Frame</span><span style=\"color: #000000; text-decoration-color: #000000\"> object at </span><span style=\"color: #008080; text-decoration-color: #008080; font-weight: bold\">0x7f8eadc8d7b8</span><span style=\"font-weight: bold\">&gt;</span>,                       <span style=\"color: #000080; text-decoration-color: #000080\">│</span>\n",
       "<span style=\"color: #000080; text-decoration-color: #000080\">│</span>                       <span style=\"font-weight: bold\">&lt;</span><span style=\"color: #ff00ff; text-decoration-color: #ff00ff; font-weight: bold\">pyuda._video.Frame</span><span style=\"color: #000000; text-decoration-color: #000000\"> object at </span><span style=\"color: #008080; text-decoration-color: #008080; font-weight: bold\">0x7f8eadc8d7f0</span><span style=\"font-weight: bold\">&gt;</span>,                       <span style=\"color: #000080; text-decoration-color: #000080\">│</span>\n",
       "<span style=\"color: #000080; text-decoration-color: #000080\">│</span>                       <span style=\"font-weight: bold\">&lt;</span><span style=\"color: #ff00ff; text-decoration-color: #ff00ff; font-weight: bold\">pyuda._video.Frame</span><span style=\"color: #000000; text-decoration-color: #000000\"> object at </span><span style=\"color: #008080; text-decoration-color: #008080; font-weight: bold\">0x7f8eadc8d828</span><span style=\"font-weight: bold\">&gt;</span>,                       <span style=\"color: #000080; text-decoration-color: #000080\">│</span>\n",
       "<span style=\"color: #000080; text-decoration-color: #000080\">│</span>                       <span style=\"font-weight: bold\">&lt;</span><span style=\"color: #ff00ff; text-decoration-color: #ff00ff; font-weight: bold\">pyuda._video.Frame</span><span style=\"color: #000000; text-decoration-color: #000000\"> object at </span><span style=\"color: #008080; text-decoration-color: #008080; font-weight: bold\">0x7f8eadc8d860</span><span style=\"font-weight: bold\">&gt;</span>,                       <span style=\"color: #000080; text-decoration-color: #000080\">│</span>\n",
       "<span style=\"color: #000080; text-decoration-color: #000080\">│</span>                       <span style=\"font-weight: bold\">&lt;</span><span style=\"color: #ff00ff; text-decoration-color: #ff00ff; font-weight: bold\">pyuda._video.Frame</span><span style=\"color: #000000; text-decoration-color: #000000\"> object at </span><span style=\"color: #008080; text-decoration-color: #008080; font-weight: bold\">0x7f8eadc8d898</span><span style=\"font-weight: bold\">&gt;</span>,                       <span style=\"color: #000080; text-decoration-color: #000080\">│</span>\n",
       "<span style=\"color: #000080; text-decoration-color: #000080\">│</span>                       <span style=\"font-weight: bold\">&lt;</span><span style=\"color: #ff00ff; text-decoration-color: #ff00ff; font-weight: bold\">pyuda._video.Frame</span><span style=\"color: #000000; text-decoration-color: #000000\"> object at </span><span style=\"color: #008080; text-decoration-color: #008080; font-weight: bold\">0x7f8eadc8d8d0</span><span style=\"font-weight: bold\">&gt;</span>,                       <span style=\"color: #000080; text-decoration-color: #000080\">│</span>\n",
       "<span style=\"color: #000080; text-decoration-color: #000080\">│</span>                       <span style=\"font-weight: bold\">&lt;</span><span style=\"color: #ff00ff; text-decoration-color: #ff00ff; font-weight: bold\">pyuda._video.Frame</span><span style=\"color: #000000; text-decoration-color: #000000\"> object at </span><span style=\"color: #008080; text-decoration-color: #008080; font-weight: bold\">0x7f8eadc8d908</span><span style=\"font-weight: bold\">&gt;</span>,                       <span style=\"color: #000080; text-decoration-color: #000080\">│</span>\n",
       "<span style=\"color: #000080; text-decoration-color: #000080\">│</span>                       <span style=\"font-weight: bold\">&lt;</span><span style=\"color: #ff00ff; text-decoration-color: #ff00ff; font-weight: bold\">pyuda._video.Frame</span><span style=\"color: #000000; text-decoration-color: #000000\"> object at </span><span style=\"color: #008080; text-decoration-color: #008080; font-weight: bold\">0x7f8eadc8d940</span><span style=\"font-weight: bold\">&gt;</span>,                       <span style=\"color: #000080; text-decoration-color: #000080\">│</span>\n",
       "<span style=\"color: #000080; text-decoration-color: #000080\">│</span>                       <span style=\"font-weight: bold\">&lt;</span><span style=\"color: #ff00ff; text-decoration-color: #ff00ff; font-weight: bold\">pyuda._video.Frame</span><span style=\"color: #000000; text-decoration-color: #000000\"> object at </span><span style=\"color: #008080; text-decoration-color: #008080; font-weight: bold\">0x7f8eadc8d978</span><span style=\"font-weight: bold\">&gt;</span>,                       <span style=\"color: #000080; text-decoration-color: #000080\">│</span>\n",
       "<span style=\"color: #000080; text-decoration-color: #000080\">│</span>                       <span style=\"font-weight: bold\">&lt;</span><span style=\"color: #ff00ff; text-decoration-color: #ff00ff; font-weight: bold\">pyuda._video.Frame</span><span style=\"color: #000000; text-decoration-color: #000000\"> object at </span><span style=\"color: #008080; text-decoration-color: #008080; font-weight: bold\">0x7f8eadc8d9b0</span><span style=\"font-weight: bold\">&gt;</span>,                       <span style=\"color: #000080; text-decoration-color: #000080\">│</span>\n",
       "<span style=\"color: #000080; text-decoration-color: #000080\">│</span>                       <span style=\"font-weight: bold\">&lt;</span><span style=\"color: #ff00ff; text-decoration-color: #ff00ff; font-weight: bold\">pyuda._video.Frame</span><span style=\"color: #000000; text-decoration-color: #000000\"> object at </span><span style=\"color: #008080; text-decoration-color: #008080; font-weight: bold\">0x7f8eadc8d9e8</span><span style=\"font-weight: bold\">&gt;</span>,                       <span style=\"color: #000080; text-decoration-color: #000080\">│</span>\n",
       "<span style=\"color: #000080; text-decoration-color: #000080\">│</span>                       <span style=\"font-weight: bold\">&lt;</span><span style=\"color: #ff00ff; text-decoration-color: #ff00ff; font-weight: bold\">pyuda._video.Frame</span><span style=\"color: #000000; text-decoration-color: #000000\"> object at </span><span style=\"color: #008080; text-decoration-color: #008080; font-weight: bold\">0x7f8eadc8da20</span><span style=\"font-weight: bold\">&gt;</span>,                       <span style=\"color: #000080; text-decoration-color: #000080\">│</span>\n",
       "<span style=\"color: #000080; text-decoration-color: #000080\">│</span>                       <span style=\"font-weight: bold\">&lt;</span><span style=\"color: #ff00ff; text-decoration-color: #ff00ff; font-weight: bold\">pyuda._video.Frame</span><span style=\"color: #000000; text-decoration-color: #000000\"> object at </span><span style=\"color: #008080; text-decoration-color: #008080; font-weight: bold\">0x7f8eadc8da58</span><span style=\"font-weight: bold\">&gt;</span>,                       <span style=\"color: #000080; text-decoration-color: #000080\">│</span>\n",
       "<span style=\"color: #000080; text-decoration-color: #000080\">│</span>                       <span style=\"font-weight: bold\">&lt;</span><span style=\"color: #ff00ff; text-decoration-color: #ff00ff; font-weight: bold\">pyuda._video.Frame</span><span style=\"color: #000000; text-decoration-color: #000000\"> object at </span><span style=\"color: #008080; text-decoration-color: #008080; font-weight: bold\">0x7f8eadc8da90</span><span style=\"font-weight: bold\">&gt;</span>,                       <span style=\"color: #000080; text-decoration-color: #000080\">│</span>\n",
       "<span style=\"color: #000080; text-decoration-color: #000080\">│</span>                       <span style=\"font-weight: bold\">&lt;</span><span style=\"color: #ff00ff; text-decoration-color: #ff00ff; font-weight: bold\">pyuda._video.Frame</span><span style=\"color: #000000; text-decoration-color: #000000\"> object at </span><span style=\"color: #008080; text-decoration-color: #008080; font-weight: bold\">0x7f8eadc8dac8</span><span style=\"font-weight: bold\">&gt;</span>,                       <span style=\"color: #000080; text-decoration-color: #000080\">│</span>\n",
       "<span style=\"color: #000080; text-decoration-color: #000080\">│</span>                       <span style=\"font-weight: bold\">&lt;</span><span style=\"color: #ff00ff; text-decoration-color: #ff00ff; font-weight: bold\">pyuda._video.Frame</span><span style=\"color: #000000; text-decoration-color: #000000\"> object at </span><span style=\"color: #008080; text-decoration-color: #008080; font-weight: bold\">0x7f8eadc8db00</span><span style=\"font-weight: bold\">&gt;</span>,                       <span style=\"color: #000080; text-decoration-color: #000080\">│</span>\n",
       "<span style=\"color: #000080; text-decoration-color: #000080\">│</span>                       <span style=\"font-weight: bold\">&lt;</span><span style=\"color: #ff00ff; text-decoration-color: #ff00ff; font-weight: bold\">pyuda._video.Frame</span><span style=\"color: #000000; text-decoration-color: #000000\"> object at </span><span style=\"color: #008080; text-decoration-color: #008080; font-weight: bold\">0x7f8eadc8db38</span><span style=\"font-weight: bold\">&gt;</span>,                       <span style=\"color: #000080; text-decoration-color: #000080\">│</span>\n",
       "<span style=\"color: #000080; text-decoration-color: #000080\">│</span>                       <span style=\"font-weight: bold\">&lt;</span><span style=\"color: #ff00ff; text-decoration-color: #ff00ff; font-weight: bold\">pyuda._video.Frame</span><span style=\"color: #000000; text-decoration-color: #000000\"> object at </span><span style=\"color: #008080; text-decoration-color: #008080; font-weight: bold\">0x7f8eadc8db70</span><span style=\"font-weight: bold\">&gt;</span>,                       <span style=\"color: #000080; text-decoration-color: #000080\">│</span>\n",
       "<span style=\"color: #000080; text-decoration-color: #000080\">│</span>                       <span style=\"font-weight: bold\">&lt;</span><span style=\"color: #ff00ff; text-decoration-color: #ff00ff; font-weight: bold\">pyuda._video.Frame</span><span style=\"color: #000000; text-decoration-color: #000000\"> object at </span><span style=\"color: #008080; text-decoration-color: #008080; font-weight: bold\">0x7f8eadc8dba8</span><span style=\"font-weight: bold\">&gt;</span>,                       <span style=\"color: #000080; text-decoration-color: #000080\">│</span>\n",
       "<span style=\"color: #000080; text-decoration-color: #000080\">│</span>                       <span style=\"font-weight: bold\">&lt;</span><span style=\"color: #ff00ff; text-decoration-color: #ff00ff; font-weight: bold\">pyuda._video.Frame</span><span style=\"color: #000000; text-decoration-color: #000000\"> object at </span><span style=\"color: #008080; text-decoration-color: #008080; font-weight: bold\">0x7f8eadc8dbe0</span><span style=\"font-weight: bold\">&gt;</span>,                       <span style=\"color: #000080; text-decoration-color: #000080\">│</span>\n",
       "<span style=\"color: #000080; text-decoration-color: #000080\">│</span>                       <span style=\"font-weight: bold\">&lt;</span><span style=\"color: #ff00ff; text-decoration-color: #ff00ff; font-weight: bold\">pyuda._video.Frame</span><span style=\"color: #000000; text-decoration-color: #000000\"> object at </span><span style=\"color: #008080; text-decoration-color: #008080; font-weight: bold\">0x7f8eadc8dc18</span><span style=\"font-weight: bold\">&gt;</span>,                       <span style=\"color: #000080; text-decoration-color: #000080\">│</span>\n",
       "<span style=\"color: #000080; text-decoration-color: #000080\">│</span>                       <span style=\"font-weight: bold\">&lt;</span><span style=\"color: #ff00ff; text-decoration-color: #ff00ff; font-weight: bold\">pyuda._video.Frame</span><span style=\"color: #000000; text-decoration-color: #000000\"> object at </span><span style=\"color: #008080; text-decoration-color: #008080; font-weight: bold\">0x7f8eadc8dc50</span><span style=\"font-weight: bold\">&gt;</span>,                       <span style=\"color: #000080; text-decoration-color: #000080\">│</span>\n",
       "<span style=\"color: #000080; text-decoration-color: #000080\">│</span>                       <span style=\"font-weight: bold\">&lt;</span><span style=\"color: #ff00ff; text-decoration-color: #ff00ff; font-weight: bold\">pyuda._video.Frame</span><span style=\"color: #000000; text-decoration-color: #000000\"> object at </span><span style=\"color: #008080; text-decoration-color: #008080; font-weight: bold\">0x7f8eadc8dc88</span><span style=\"font-weight: bold\">&gt;</span>,                       <span style=\"color: #000080; text-decoration-color: #000080\">│</span>\n",
       "<span style=\"color: #000080; text-decoration-color: #000080\">│</span>                       <span style=\"font-weight: bold\">&lt;</span><span style=\"color: #ff00ff; text-decoration-color: #ff00ff; font-weight: bold\">pyuda._video.Frame</span><span style=\"color: #000000; text-decoration-color: #000000\"> object at </span><span style=\"color: #008080; text-decoration-color: #008080; font-weight: bold\">0x7f8eadc8dcc0</span><span style=\"font-weight: bold\">&gt;</span>,                       <span style=\"color: #000080; text-decoration-color: #000080\">│</span>\n",
       "<span style=\"color: #000080; text-decoration-color: #000080\">│</span>                       <span style=\"font-weight: bold\">&lt;</span><span style=\"color: #ff00ff; text-decoration-color: #ff00ff; font-weight: bold\">pyuda._video.Frame</span><span style=\"color: #000000; text-decoration-color: #000000\"> object at </span><span style=\"color: #008080; text-decoration-color: #008080; font-weight: bold\">0x7f8eadc8dcf8</span><span style=\"font-weight: bold\">&gt;</span>,                       <span style=\"color: #000080; text-decoration-color: #000080\">│</span>\n",
       "<span style=\"color: #000080; text-decoration-color: #000080\">│</span>                       <span style=\"font-weight: bold\">&lt;</span><span style=\"color: #ff00ff; text-decoration-color: #ff00ff; font-weight: bold\">pyuda._video.Frame</span><span style=\"color: #000000; text-decoration-color: #000000\"> object at </span><span style=\"color: #008080; text-decoration-color: #008080; font-weight: bold\">0x7f8eadc8dd30</span><span style=\"font-weight: bold\">&gt;</span>,                       <span style=\"color: #000080; text-decoration-color: #000080\">│</span>\n",
       "<span style=\"color: #000080; text-decoration-color: #000080\">│</span>                       <span style=\"font-weight: bold\">&lt;</span><span style=\"color: #ff00ff; text-decoration-color: #ff00ff; font-weight: bold\">pyuda._video.Frame</span><span style=\"color: #000000; text-decoration-color: #000000\"> object at </span><span style=\"color: #008080; text-decoration-color: #008080; font-weight: bold\">0x7f8eadc8dd68</span><span style=\"font-weight: bold\">&gt;</span>,                       <span style=\"color: #000080; text-decoration-color: #000080\">│</span>\n",
       "<span style=\"color: #000080; text-decoration-color: #000080\">│</span>                       <span style=\"font-weight: bold\">&lt;</span><span style=\"color: #ff00ff; text-decoration-color: #ff00ff; font-weight: bold\">pyuda._video.Frame</span><span style=\"color: #000000; text-decoration-color: #000000\"> object at </span><span style=\"color: #008080; text-decoration-color: #008080; font-weight: bold\">0x7f8eadc8dda0</span><span style=\"font-weight: bold\">&gt;</span>,                       <span style=\"color: #000080; text-decoration-color: #000080\">│</span>\n",
       "<span style=\"color: #000080; text-decoration-color: #000080\">│</span>                       <span style=\"font-weight: bold\">&lt;</span><span style=\"color: #ff00ff; text-decoration-color: #ff00ff; font-weight: bold\">pyuda._video.Frame</span><span style=\"color: #000000; text-decoration-color: #000000\"> object at </span><span style=\"color: #008080; text-decoration-color: #008080; font-weight: bold\">0x7f8eadc8ddd8</span><span style=\"font-weight: bold\">&gt;</span>,                       <span style=\"color: #000080; text-decoration-color: #000080\">│</span>\n",
       "<span style=\"color: #000080; text-decoration-color: #000080\">│</span>                       <span style=\"font-weight: bold\">&lt;</span><span style=\"color: #ff00ff; text-decoration-color: #ff00ff; font-weight: bold\">pyuda._video.Frame</span><span style=\"color: #000000; text-decoration-color: #000000\"> object at </span><span style=\"color: #008080; text-decoration-color: #008080; font-weight: bold\">0x7f8eadc8de10</span><span style=\"font-weight: bold\">&gt;</span>,                       <span style=\"color: #000080; text-decoration-color: #000080\">│</span>\n",
       "<span style=\"color: #000080; text-decoration-color: #000080\">│</span>                       <span style=\"font-weight: bold\">&lt;</span><span style=\"color: #ff00ff; text-decoration-color: #ff00ff; font-weight: bold\">pyuda._video.Frame</span><span style=\"color: #000000; text-decoration-color: #000000\"> object at </span><span style=\"color: #008080; text-decoration-color: #008080; font-weight: bold\">0x7f8eadc8de48</span><span style=\"font-weight: bold\">&gt;</span>,                       <span style=\"color: #000080; text-decoration-color: #000080\">│</span>\n",
       "<span style=\"color: #000080; text-decoration-color: #000080\">│</span>                       <span style=\"font-weight: bold\">&lt;</span><span style=\"color: #ff00ff; text-decoration-color: #ff00ff; font-weight: bold\">pyuda._video.Frame</span><span style=\"color: #000000; text-decoration-color: #000000\"> object at </span><span style=\"color: #008080; text-decoration-color: #008080; font-weight: bold\">0x7f8eadc8de80</span><span style=\"font-weight: bold\">&gt;</span>,                       <span style=\"color: #000080; text-decoration-color: #000080\">│</span>\n",
       "<span style=\"color: #000080; text-decoration-color: #000080\">│</span>                       <span style=\"font-weight: bold\">&lt;</span><span style=\"color: #ff00ff; text-decoration-color: #ff00ff; font-weight: bold\">pyuda._video.Frame</span><span style=\"color: #000000; text-decoration-color: #000000\"> object at </span><span style=\"color: #008080; text-decoration-color: #008080; font-weight: bold\">0x7f8eadc8deb8</span><span style=\"font-weight: bold\">&gt;</span>,                       <span style=\"color: #000080; text-decoration-color: #000080\">│</span>\n",
       "<span style=\"color: #000080; text-decoration-color: #000080\">│</span>                       <span style=\"font-weight: bold\">&lt;</span><span style=\"color: #ff00ff; text-decoration-color: #ff00ff; font-weight: bold\">pyuda._video.Frame</span><span style=\"color: #000000; text-decoration-color: #000000\"> object at </span><span style=\"color: #008080; text-decoration-color: #008080; font-weight: bold\">0x7f8eadc8def0</span><span style=\"font-weight: bold\">&gt;</span>,                       <span style=\"color: #000080; text-decoration-color: #000080\">│</span>\n",
       "<span style=\"color: #000080; text-decoration-color: #000080\">│</span>                       <span style=\"font-weight: bold\">&lt;</span><span style=\"color: #ff00ff; text-decoration-color: #ff00ff; font-weight: bold\">pyuda._video.Frame</span><span style=\"color: #000000; text-decoration-color: #000000\"> object at </span><span style=\"color: #008080; text-decoration-color: #008080; font-weight: bold\">0x7f8eadc8df28</span><span style=\"font-weight: bold\">&gt;</span>,                       <span style=\"color: #000080; text-decoration-color: #000080\">│</span>\n",
       "<span style=\"color: #000080; text-decoration-color: #000080\">│</span>                       <span style=\"font-weight: bold\">&lt;</span><span style=\"color: #ff00ff; text-decoration-color: #ff00ff; font-weight: bold\">pyuda._video.Frame</span><span style=\"color: #000000; text-decoration-color: #000000\"> object at </span><span style=\"color: #008080; text-decoration-color: #008080; font-weight: bold\">0x7f8eadc8df60</span><span style=\"font-weight: bold\">&gt;</span>,                       <span style=\"color: #000080; text-decoration-color: #000080\">│</span>\n",
       "<span style=\"color: #000080; text-decoration-color: #000080\">│</span>                       <span style=\"font-weight: bold\">&lt;</span><span style=\"color: #ff00ff; text-decoration-color: #ff00ff; font-weight: bold\">pyuda._video.Frame</span><span style=\"color: #000000; text-decoration-color: #000000\"> object at </span><span style=\"color: #008080; text-decoration-color: #008080; font-weight: bold\">0x7f8eadc8df98</span><span style=\"font-weight: bold\">&gt;</span>,                       <span style=\"color: #000080; text-decoration-color: #000080\">│</span>\n",
       "<span style=\"color: #000080; text-decoration-color: #000080\">│</span>                       <span style=\"font-weight: bold\">&lt;</span><span style=\"color: #ff00ff; text-decoration-color: #ff00ff; font-weight: bold\">pyuda._video.Frame</span><span style=\"color: #000000; text-decoration-color: #000000\"> object at </span><span style=\"color: #008080; text-decoration-color: #008080; font-weight: bold\">0x7f8eadc8dfd0</span><span style=\"font-weight: bold\">&gt;</span>,                       <span style=\"color: #000080; text-decoration-color: #000080\">│</span>\n",
       "<span style=\"color: #000080; text-decoration-color: #000080\">│</span>                       <span style=\"font-weight: bold\">&lt;</span><span style=\"color: #ff00ff; text-decoration-color: #ff00ff; font-weight: bold\">pyuda._video.Frame</span><span style=\"color: #000000; text-decoration-color: #000000\"> object at </span><span style=\"color: #008080; text-decoration-color: #008080; font-weight: bold\">0x7f8eadc90048</span><span style=\"font-weight: bold\">&gt;</span>,                       <span style=\"color: #000080; text-decoration-color: #000080\">│</span>\n",
       "<span style=\"color: #000080; text-decoration-color: #000080\">│</span>                       <span style=\"font-weight: bold\">&lt;</span><span style=\"color: #ff00ff; text-decoration-color: #ff00ff; font-weight: bold\">pyuda._video.Frame</span><span style=\"color: #000000; text-decoration-color: #000000\"> object at </span><span style=\"color: #008080; text-decoration-color: #008080; font-weight: bold\">0x7f8eadc90080</span><span style=\"font-weight: bold\">&gt;</span>,                       <span style=\"color: #000080; text-decoration-color: #000080\">│</span>\n",
       "<span style=\"color: #000080; text-decoration-color: #000080\">│</span>                       <span style=\"font-weight: bold\">&lt;</span><span style=\"color: #ff00ff; text-decoration-color: #ff00ff; font-weight: bold\">pyuda._video.Frame</span><span style=\"color: #000000; text-decoration-color: #000000\"> object at </span><span style=\"color: #008080; text-decoration-color: #008080; font-weight: bold\">0x7f8eadc900b8</span><span style=\"font-weight: bold\">&gt;</span>,                       <span style=\"color: #000080; text-decoration-color: #000080\">│</span>\n",
       "<span style=\"color: #000080; text-decoration-color: #000080\">│</span>                       <span style=\"font-weight: bold\">&lt;</span><span style=\"color: #ff00ff; text-decoration-color: #ff00ff; font-weight: bold\">pyuda._video.Frame</span><span style=\"color: #000000; text-decoration-color: #000000\"> object at </span><span style=\"color: #008080; text-decoration-color: #008080; font-weight: bold\">0x7f8eadc900f0</span><span style=\"font-weight: bold\">&gt;</span>,                       <span style=\"color: #000080; text-decoration-color: #000080\">│</span>\n",
       "<span style=\"color: #000080; text-decoration-color: #000080\">│</span>                       <span style=\"font-weight: bold\">&lt;</span><span style=\"color: #ff00ff; text-decoration-color: #ff00ff; font-weight: bold\">pyuda._video.Frame</span><span style=\"color: #000000; text-decoration-color: #000000\"> object at </span><span style=\"color: #008080; text-decoration-color: #008080; font-weight: bold\">0x7f8eadc90128</span><span style=\"font-weight: bold\">&gt;</span>,                       <span style=\"color: #000080; text-decoration-color: #000080\">│</span>\n",
       "<span style=\"color: #000080; text-decoration-color: #000080\">│</span>                       <span style=\"font-weight: bold\">&lt;</span><span style=\"color: #ff00ff; text-decoration-color: #ff00ff; font-weight: bold\">pyuda._video.Frame</span><span style=\"color: #000000; text-decoration-color: #000000\"> object at </span><span style=\"color: #008080; text-decoration-color: #008080; font-weight: bold\">0x7f8eadc90160</span><span style=\"font-weight: bold\">&gt;</span>,                       <span style=\"color: #000080; text-decoration-color: #000080\">│</span>\n",
       "<span style=\"color: #000080; text-decoration-color: #000080\">│</span>                       <span style=\"font-weight: bold\">&lt;</span><span style=\"color: #ff00ff; text-decoration-color: #ff00ff; font-weight: bold\">pyuda._video.Frame</span><span style=\"color: #000000; text-decoration-color: #000000\"> object at </span><span style=\"color: #008080; text-decoration-color: #008080; font-weight: bold\">0x7f8eadc90198</span><span style=\"font-weight: bold\">&gt;</span>,                       <span style=\"color: #000080; text-decoration-color: #000080\">│</span>\n",
       "<span style=\"color: #000080; text-decoration-color: #000080\">│</span>                       <span style=\"font-weight: bold\">&lt;</span><span style=\"color: #ff00ff; text-decoration-color: #ff00ff; font-weight: bold\">pyuda._video.Frame</span><span style=\"color: #000000; text-decoration-color: #000000\"> object at </span><span style=\"color: #008080; text-decoration-color: #008080; font-weight: bold\">0x7f8eadc901d0</span><span style=\"font-weight: bold\">&gt;</span>,                       <span style=\"color: #000080; text-decoration-color: #000080\">│</span>\n",
       "<span style=\"color: #000080; text-decoration-color: #000080\">│</span>                       <span style=\"font-weight: bold\">&lt;</span><span style=\"color: #ff00ff; text-decoration-color: #ff00ff; font-weight: bold\">pyuda._video.Frame</span><span style=\"color: #000000; text-decoration-color: #000000\"> object at </span><span style=\"color: #008080; text-decoration-color: #008080; font-weight: bold\">0x7f8eadc90208</span><span style=\"font-weight: bold\">&gt;</span>,                       <span style=\"color: #000080; text-decoration-color: #000080\">│</span>\n",
       "<span style=\"color: #000080; text-decoration-color: #000080\">│</span>                       <span style=\"font-weight: bold\">&lt;</span><span style=\"color: #ff00ff; text-decoration-color: #ff00ff; font-weight: bold\">pyuda._video.Frame</span><span style=\"color: #000000; text-decoration-color: #000000\"> object at </span><span style=\"color: #008080; text-decoration-color: #008080; font-weight: bold\">0x7f8eadc90240</span><span style=\"font-weight: bold\">&gt;</span>,                       <span style=\"color: #000080; text-decoration-color: #000080\">│</span>\n",
       "<span style=\"color: #000080; text-decoration-color: #000080\">│</span>                       <span style=\"font-weight: bold\">&lt;</span><span style=\"color: #ff00ff; text-decoration-color: #ff00ff; font-weight: bold\">pyuda._video.Frame</span><span style=\"color: #000000; text-decoration-color: #000000\"> object at </span><span style=\"color: #008080; text-decoration-color: #008080; font-weight: bold\">0x7f8eadc90278</span><span style=\"font-weight: bold\">&gt;</span>,                       <span style=\"color: #000080; text-decoration-color: #000080\">│</span>\n",
       "<span style=\"color: #000080; text-decoration-color: #000080\">│</span>                       <span style=\"font-weight: bold\">&lt;</span><span style=\"color: #ff00ff; text-decoration-color: #ff00ff; font-weight: bold\">pyuda._video.Frame</span><span style=\"color: #000000; text-decoration-color: #000000\"> object at </span><span style=\"color: #008080; text-decoration-color: #008080; font-weight: bold\">0x7f8eadc902b0</span><span style=\"font-weight: bold\">&gt;</span>,                       <span style=\"color: #000080; text-decoration-color: #000080\">│</span>\n",
       "<span style=\"color: #000080; text-decoration-color: #000080\">│</span>                       <span style=\"font-weight: bold\">&lt;</span><span style=\"color: #ff00ff; text-decoration-color: #ff00ff; font-weight: bold\">pyuda._video.Frame</span><span style=\"color: #000000; text-decoration-color: #000000\"> object at </span><span style=\"color: #008080; text-decoration-color: #008080; font-weight: bold\">0x7f8eadc902e8</span><span style=\"font-weight: bold\">&gt;</span>,                       <span style=\"color: #000080; text-decoration-color: #000080\">│</span>\n",
       "<span style=\"color: #000080; text-decoration-color: #000080\">│</span>                       <span style=\"font-weight: bold\">&lt;</span><span style=\"color: #ff00ff; text-decoration-color: #ff00ff; font-weight: bold\">pyuda._video.Frame</span><span style=\"color: #000000; text-decoration-color: #000000\"> object at </span><span style=\"color: #008080; text-decoration-color: #008080; font-weight: bold\">0x7f8eadc90320</span><span style=\"font-weight: bold\">&gt;</span>,                       <span style=\"color: #000080; text-decoration-color: #000080\">│</span>\n",
       "<span style=\"color: #000080; text-decoration-color: #000080\">│</span>                       <span style=\"font-weight: bold\">&lt;</span><span style=\"color: #ff00ff; text-decoration-color: #ff00ff; font-weight: bold\">pyuda._video.Frame</span><span style=\"color: #000000; text-decoration-color: #000000\"> object at </span><span style=\"color: #008080; text-decoration-color: #008080; font-weight: bold\">0x7f8eadc90358</span><span style=\"font-weight: bold\">&gt;</span>,                       <span style=\"color: #000080; text-decoration-color: #000080\">│</span>\n",
       "<span style=\"color: #000080; text-decoration-color: #000080\">│</span>                       <span style=\"font-weight: bold\">&lt;</span><span style=\"color: #ff00ff; text-decoration-color: #ff00ff; font-weight: bold\">pyuda._video.Frame</span><span style=\"color: #000000; text-decoration-color: #000000\"> object at </span><span style=\"color: #008080; text-decoration-color: #008080; font-weight: bold\">0x7f8eadc90390</span><span style=\"font-weight: bold\">&gt;</span>,                       <span style=\"color: #000080; text-decoration-color: #000080\">│</span>\n",
       "<span style=\"color: #000080; text-decoration-color: #000080\">│</span>                       <span style=\"font-weight: bold\">&lt;</span><span style=\"color: #ff00ff; text-decoration-color: #ff00ff; font-weight: bold\">pyuda._video.Frame</span><span style=\"color: #000000; text-decoration-color: #000000\"> object at </span><span style=\"color: #008080; text-decoration-color: #008080; font-weight: bold\">0x7f8eadc903c8</span><span style=\"font-weight: bold\">&gt;</span>,                       <span style=\"color: #000080; text-decoration-color: #000080\">│</span>\n",
       "<span style=\"color: #000080; text-decoration-color: #000080\">│</span>                       <span style=\"font-weight: bold\">&lt;</span><span style=\"color: #ff00ff; text-decoration-color: #ff00ff; font-weight: bold\">pyuda._video.Frame</span><span style=\"color: #000000; text-decoration-color: #000000\"> object at </span><span style=\"color: #008080; text-decoration-color: #008080; font-weight: bold\">0x7f8eadc90400</span><span style=\"font-weight: bold\">&gt;</span>,                       <span style=\"color: #000080; text-decoration-color: #000080\">│</span>\n",
       "<span style=\"color: #000080; text-decoration-color: #000080\">│</span>                       <span style=\"font-weight: bold\">&lt;</span><span style=\"color: #ff00ff; text-decoration-color: #ff00ff; font-weight: bold\">pyuda._video.Frame</span><span style=\"color: #000000; text-decoration-color: #000000\"> object at </span><span style=\"color: #008080; text-decoration-color: #008080; font-weight: bold\">0x7f8eadc90438</span><span style=\"font-weight: bold\">&gt;</span>,                       <span style=\"color: #000080; text-decoration-color: #000080\">│</span>\n",
       "<span style=\"color: #000080; text-decoration-color: #000080\">│</span>                       <span style=\"font-weight: bold\">&lt;</span><span style=\"color: #ff00ff; text-decoration-color: #ff00ff; font-weight: bold\">pyuda._video.Frame</span><span style=\"color: #000000; text-decoration-color: #000000\"> object at </span><span style=\"color: #008080; text-decoration-color: #008080; font-weight: bold\">0x7f8eadc90470</span><span style=\"font-weight: bold\">&gt;</span>,                       <span style=\"color: #000080; text-decoration-color: #000080\">│</span>\n",
       "<span style=\"color: #000080; text-decoration-color: #000080\">│</span>                       <span style=\"font-weight: bold\">&lt;</span><span style=\"color: #ff00ff; text-decoration-color: #ff00ff; font-weight: bold\">pyuda._video.Frame</span><span style=\"color: #000000; text-decoration-color: #000000\"> object at </span><span style=\"color: #008080; text-decoration-color: #008080; font-weight: bold\">0x7f8eadc904a8</span><span style=\"font-weight: bold\">&gt;</span>,                       <span style=\"color: #000080; text-decoration-color: #000080\">│</span>\n",
       "<span style=\"color: #000080; text-decoration-color: #000080\">│</span>                       <span style=\"font-weight: bold\">&lt;</span><span style=\"color: #ff00ff; text-decoration-color: #ff00ff; font-weight: bold\">pyuda._video.Frame</span><span style=\"color: #000000; text-decoration-color: #000000\"> object at </span><span style=\"color: #008080; text-decoration-color: #008080; font-weight: bold\">0x7f8eadc904e0</span><span style=\"font-weight: bold\">&gt;</span>,                       <span style=\"color: #000080; text-decoration-color: #000080\">│</span>\n",
       "<span style=\"color: #000080; text-decoration-color: #000080\">│</span>                       <span style=\"font-weight: bold\">&lt;</span><span style=\"color: #ff00ff; text-decoration-color: #ff00ff; font-weight: bold\">pyuda._video.Frame</span><span style=\"color: #000000; text-decoration-color: #000000\"> object at </span><span style=\"color: #008080; text-decoration-color: #008080; font-weight: bold\">0x7f8eadc90518</span><span style=\"font-weight: bold\">&gt;</span>,                       <span style=\"color: #000080; text-decoration-color: #000080\">│</span>\n",
       "<span style=\"color: #000080; text-decoration-color: #000080\">│</span>                       <span style=\"font-weight: bold\">&lt;</span><span style=\"color: #ff00ff; text-decoration-color: #ff00ff; font-weight: bold\">pyuda._video.Frame</span><span style=\"color: #000000; text-decoration-color: #000000\"> object at </span><span style=\"color: #008080; text-decoration-color: #008080; font-weight: bold\">0x7f8eadc90550</span><span style=\"font-weight: bold\">&gt;</span>,                       <span style=\"color: #000080; text-decoration-color: #000080\">│</span>\n",
       "<span style=\"color: #000080; text-decoration-color: #000080\">│</span>                       <span style=\"font-weight: bold\">&lt;</span><span style=\"color: #ff00ff; text-decoration-color: #ff00ff; font-weight: bold\">pyuda._video.Frame</span><span style=\"color: #000000; text-decoration-color: #000000\"> object at </span><span style=\"color: #008080; text-decoration-color: #008080; font-weight: bold\">0x7f8eadc90588</span><span style=\"font-weight: bold\">&gt;</span>,                       <span style=\"color: #000080; text-decoration-color: #000080\">│</span>\n",
       "<span style=\"color: #000080; text-decoration-color: #000080\">│</span>                       <span style=\"font-weight: bold\">&lt;</span><span style=\"color: #ff00ff; text-decoration-color: #ff00ff; font-weight: bold\">pyuda._video.Frame</span><span style=\"color: #000000; text-decoration-color: #000000\"> object at </span><span style=\"color: #008080; text-decoration-color: #008080; font-weight: bold\">0x7f8eadc905c0</span><span style=\"font-weight: bold\">&gt;</span>,                       <span style=\"color: #000080; text-decoration-color: #000080\">│</span>\n",
       "<span style=\"color: #000080; text-decoration-color: #000080\">│</span>                       <span style=\"font-weight: bold\">&lt;</span><span style=\"color: #ff00ff; text-decoration-color: #ff00ff; font-weight: bold\">pyuda._video.Frame</span><span style=\"color: #000000; text-decoration-color: #000000\"> object at </span><span style=\"color: #008080; text-decoration-color: #008080; font-weight: bold\">0x7f8eadc905f8</span><span style=\"font-weight: bold\">&gt;</span>,                       <span style=\"color: #000080; text-decoration-color: #000080\">│</span>\n",
       "<span style=\"color: #000080; text-decoration-color: #000080\">│</span>                       <span style=\"font-weight: bold\">&lt;</span><span style=\"color: #ff00ff; text-decoration-color: #ff00ff; font-weight: bold\">pyuda._video.Frame</span><span style=\"color: #000000; text-decoration-color: #000000\"> object at </span><span style=\"color: #008080; text-decoration-color: #008080; font-weight: bold\">0x7f8eadc90630</span><span style=\"font-weight: bold\">&gt;</span>,                       <span style=\"color: #000080; text-decoration-color: #000080\">│</span>\n",
       "<span style=\"color: #000080; text-decoration-color: #000080\">│</span>                       <span style=\"font-weight: bold\">&lt;</span><span style=\"color: #ff00ff; text-decoration-color: #ff00ff; font-weight: bold\">pyuda._video.Frame</span><span style=\"color: #000000; text-decoration-color: #000000\"> object at </span><span style=\"color: #008080; text-decoration-color: #008080; font-weight: bold\">0x7f8eadc90668</span><span style=\"font-weight: bold\">&gt;</span>,                       <span style=\"color: #000080; text-decoration-color: #000080\">│</span>\n",
       "<span style=\"color: #000080; text-decoration-color: #000080\">│</span>                       <span style=\"font-weight: bold\">&lt;</span><span style=\"color: #ff00ff; text-decoration-color: #ff00ff; font-weight: bold\">pyuda._video.Frame</span><span style=\"color: #000000; text-decoration-color: #000000\"> object at </span><span style=\"color: #008080; text-decoration-color: #008080; font-weight: bold\">0x7f8eadc906a0</span><span style=\"font-weight: bold\">&gt;</span>,                       <span style=\"color: #000080; text-decoration-color: #000080\">│</span>\n",
       "<span style=\"color: #000080; text-decoration-color: #000080\">│</span>                       <span style=\"font-weight: bold\">&lt;</span><span style=\"color: #ff00ff; text-decoration-color: #ff00ff; font-weight: bold\">pyuda._video.Frame</span><span style=\"color: #000000; text-decoration-color: #000000\"> object at </span><span style=\"color: #008080; text-decoration-color: #008080; font-weight: bold\">0x7f8eadc906d8</span><span style=\"font-weight: bold\">&gt;</span>,                       <span style=\"color: #000080; text-decoration-color: #000080\">│</span>\n",
       "<span style=\"color: #000080; text-decoration-color: #000080\">│</span>                       <span style=\"font-weight: bold\">&lt;</span><span style=\"color: #ff00ff; text-decoration-color: #ff00ff; font-weight: bold\">pyuda._video.Frame</span><span style=\"color: #000000; text-decoration-color: #000000\"> object at </span><span style=\"color: #008080; text-decoration-color: #008080; font-weight: bold\">0x7f8eadc90710</span><span style=\"font-weight: bold\">&gt;</span>,                       <span style=\"color: #000080; text-decoration-color: #000080\">│</span>\n",
       "<span style=\"color: #000080; text-decoration-color: #000080\">│</span>                       <span style=\"font-weight: bold\">&lt;</span><span style=\"color: #ff00ff; text-decoration-color: #ff00ff; font-weight: bold\">pyuda._video.Frame</span><span style=\"color: #000000; text-decoration-color: #000000\"> object at </span><span style=\"color: #008080; text-decoration-color: #008080; font-weight: bold\">0x7f8eadc90748</span><span style=\"font-weight: bold\">&gt;</span>,                       <span style=\"color: #000080; text-decoration-color: #000080\">│</span>\n",
       "<span style=\"color: #000080; text-decoration-color: #000080\">│</span>                       <span style=\"font-weight: bold\">&lt;</span><span style=\"color: #ff00ff; text-decoration-color: #ff00ff; font-weight: bold\">pyuda._video.Frame</span><span style=\"color: #000000; text-decoration-color: #000000\"> object at </span><span style=\"color: #008080; text-decoration-color: #008080; font-weight: bold\">0x7f8eadc90780</span><span style=\"font-weight: bold\">&gt;</span>,                       <span style=\"color: #000080; text-decoration-color: #000080\">│</span>\n",
       "<span style=\"color: #000080; text-decoration-color: #000080\">│</span>                       <span style=\"font-weight: bold\">&lt;</span><span style=\"color: #ff00ff; text-decoration-color: #ff00ff; font-weight: bold\">pyuda._video.Frame</span><span style=\"color: #000000; text-decoration-color: #000000\"> object at </span><span style=\"color: #008080; text-decoration-color: #008080; font-weight: bold\">0x7f8eadc907b8</span><span style=\"font-weight: bold\">&gt;</span>,                       <span style=\"color: #000080; text-decoration-color: #000080\">│</span>\n",
       "<span style=\"color: #000080; text-decoration-color: #000080\">│</span>                       <span style=\"font-weight: bold\">&lt;</span><span style=\"color: #ff00ff; text-decoration-color: #ff00ff; font-weight: bold\">pyuda._video.Frame</span><span style=\"color: #000000; text-decoration-color: #000000\"> object at </span><span style=\"color: #008080; text-decoration-color: #008080; font-weight: bold\">0x7f8eadc907f0</span><span style=\"font-weight: bold\">&gt;</span>,                       <span style=\"color: #000080; text-decoration-color: #000080\">│</span>\n",
       "<span style=\"color: #000080; text-decoration-color: #000080\">│</span>                       <span style=\"font-weight: bold\">&lt;</span><span style=\"color: #ff00ff; text-decoration-color: #ff00ff; font-weight: bold\">pyuda._video.Frame</span><span style=\"color: #000000; text-decoration-color: #000000\"> object at </span><span style=\"color: #008080; text-decoration-color: #008080; font-weight: bold\">0x7f8eadc90828</span><span style=\"font-weight: bold\">&gt;</span>,                       <span style=\"color: #000080; text-decoration-color: #000080\">│</span>\n",
       "<span style=\"color: #000080; text-decoration-color: #000080\">│</span>                       <span style=\"font-weight: bold\">&lt;</span><span style=\"color: #ff00ff; text-decoration-color: #ff00ff; font-weight: bold\">pyuda._video.Frame</span><span style=\"color: #000000; text-decoration-color: #000000\"> object at </span><span style=\"color: #008080; text-decoration-color: #008080; font-weight: bold\">0x7f8eadc90860</span><span style=\"font-weight: bold\">&gt;</span>,                       <span style=\"color: #000080; text-decoration-color: #000080\">│</span>\n",
       "<span style=\"color: #000080; text-decoration-color: #000080\">│</span>                       <span style=\"font-weight: bold\">&lt;</span><span style=\"color: #ff00ff; text-decoration-color: #ff00ff; font-weight: bold\">pyuda._video.Frame</span><span style=\"color: #000000; text-decoration-color: #000000\"> object at </span><span style=\"color: #008080; text-decoration-color: #008080; font-weight: bold\">0x7f8eadc90898</span><span style=\"font-weight: bold\">&gt;</span>,                       <span style=\"color: #000080; text-decoration-color: #000080\">│</span>\n",
       "<span style=\"color: #000080; text-decoration-color: #000080\">│</span>                       <span style=\"font-weight: bold\">&lt;</span><span style=\"color: #ff00ff; text-decoration-color: #ff00ff; font-weight: bold\">pyuda._video.Frame</span><span style=\"color: #000000; text-decoration-color: #000000\"> object at </span><span style=\"color: #008080; text-decoration-color: #008080; font-weight: bold\">0x7f8eadc908d0</span><span style=\"font-weight: bold\">&gt;</span>,                       <span style=\"color: #000080; text-decoration-color: #000080\">│</span>\n",
       "<span style=\"color: #000080; text-decoration-color: #000080\">│</span>                       <span style=\"font-weight: bold\">&lt;</span><span style=\"color: #ff00ff; text-decoration-color: #ff00ff; font-weight: bold\">pyuda._video.Frame</span><span style=\"color: #000000; text-decoration-color: #000000\"> object at </span><span style=\"color: #008080; text-decoration-color: #008080; font-weight: bold\">0x7f8eadc90908</span><span style=\"font-weight: bold\">&gt;</span>,                       <span style=\"color: #000080; text-decoration-color: #000080\">│</span>\n",
       "<span style=\"color: #000080; text-decoration-color: #000080\">│</span>                       <span style=\"font-weight: bold\">&lt;</span><span style=\"color: #ff00ff; text-decoration-color: #ff00ff; font-weight: bold\">pyuda._video.Frame</span><span style=\"color: #000000; text-decoration-color: #000000\"> object at </span><span style=\"color: #008080; text-decoration-color: #008080; font-weight: bold\">0x7f8eadc90940</span><span style=\"font-weight: bold\">&gt;</span>,                       <span style=\"color: #000080; text-decoration-color: #000080\">│</span>\n",
       "<span style=\"color: #000080; text-decoration-color: #000080\">│</span>                       <span style=\"font-weight: bold\">&lt;</span><span style=\"color: #ff00ff; text-decoration-color: #ff00ff; font-weight: bold\">pyuda._video.Frame</span><span style=\"color: #000000; text-decoration-color: #000000\"> object at </span><span style=\"color: #008080; text-decoration-color: #008080; font-weight: bold\">0x7f8eadc90978</span><span style=\"font-weight: bold\">&gt;</span>,                       <span style=\"color: #000080; text-decoration-color: #000080\">│</span>\n",
       "<span style=\"color: #000080; text-decoration-color: #000080\">│</span>                       <span style=\"font-weight: bold\">&lt;</span><span style=\"color: #ff00ff; text-decoration-color: #ff00ff; font-weight: bold\">pyuda._video.Frame</span><span style=\"color: #000000; text-decoration-color: #000000\"> object at </span><span style=\"color: #008080; text-decoration-color: #008080; font-weight: bold\">0x7f8eadc909b0</span><span style=\"font-weight: bold\">&gt;</span>,                       <span style=\"color: #000080; text-decoration-color: #000080\">│</span>\n",
       "<span style=\"color: #000080; text-decoration-color: #000080\">│</span>                       <span style=\"font-weight: bold\">&lt;</span><span style=\"color: #ff00ff; text-decoration-color: #ff00ff; font-weight: bold\">pyuda._video.Frame</span><span style=\"color: #000000; text-decoration-color: #000000\"> object at </span><span style=\"color: #008080; text-decoration-color: #008080; font-weight: bold\">0x7f8eadc909e8</span><span style=\"font-weight: bold\">&gt;</span>,                       <span style=\"color: #000080; text-decoration-color: #000080\">│</span>\n",
       "<span style=\"color: #000080; text-decoration-color: #000080\">│</span>                       <span style=\"font-weight: bold\">&lt;</span><span style=\"color: #ff00ff; text-decoration-color: #ff00ff; font-weight: bold\">pyuda._video.Frame</span><span style=\"color: #000000; text-decoration-color: #000000\"> object at </span><span style=\"color: #008080; text-decoration-color: #008080; font-weight: bold\">0x7f8eadc90a20</span><span style=\"font-weight: bold\">&gt;</span>,                       <span style=\"color: #000080; text-decoration-color: #000080\">│</span>\n",
       "<span style=\"color: #000080; text-decoration-color: #000080\">│</span>                       <span style=\"font-weight: bold\">&lt;</span><span style=\"color: #ff00ff; text-decoration-color: #ff00ff; font-weight: bold\">pyuda._video.Frame</span><span style=\"color: #000000; text-decoration-color: #000000\"> object at </span><span style=\"color: #008080; text-decoration-color: #008080; font-weight: bold\">0x7f8eadc90a58</span><span style=\"font-weight: bold\">&gt;</span>,                       <span style=\"color: #000080; text-decoration-color: #000080\">│</span>\n",
       "<span style=\"color: #000080; text-decoration-color: #000080\">│</span>                       <span style=\"font-weight: bold\">&lt;</span><span style=\"color: #ff00ff; text-decoration-color: #ff00ff; font-weight: bold\">pyuda._video.Frame</span><span style=\"color: #000000; text-decoration-color: #000000\"> object at </span><span style=\"color: #008080; text-decoration-color: #008080; font-weight: bold\">0x7f8eadc90a90</span><span style=\"font-weight: bold\">&gt;</span>,                       <span style=\"color: #000080; text-decoration-color: #000080\">│</span>\n",
       "<span style=\"color: #000080; text-decoration-color: #000080\">│</span>                       <span style=\"font-weight: bold\">&lt;</span><span style=\"color: #ff00ff; text-decoration-color: #ff00ff; font-weight: bold\">pyuda._video.Frame</span><span style=\"color: #000000; text-decoration-color: #000000\"> object at </span><span style=\"color: #008080; text-decoration-color: #008080; font-weight: bold\">0x7f8eadc90ac8</span><span style=\"font-weight: bold\">&gt;</span>,                       <span style=\"color: #000080; text-decoration-color: #000080\">│</span>\n",
       "<span style=\"color: #000080; text-decoration-color: #000080\">│</span>                       <span style=\"font-weight: bold\">&lt;</span><span style=\"color: #ff00ff; text-decoration-color: #ff00ff; font-weight: bold\">pyuda._video.Frame</span><span style=\"color: #000000; text-decoration-color: #000000\"> object at </span><span style=\"color: #008080; text-decoration-color: #008080; font-weight: bold\">0x7f8eadc90b00</span><span style=\"font-weight: bold\">&gt;</span>,                       <span style=\"color: #000080; text-decoration-color: #000080\">│</span>\n",
       "<span style=\"color: #000080; text-decoration-color: #000080\">│</span>                       <span style=\"font-weight: bold\">&lt;</span><span style=\"color: #ff00ff; text-decoration-color: #ff00ff; font-weight: bold\">pyuda._video.Frame</span><span style=\"color: #000000; text-decoration-color: #000000\"> object at </span><span style=\"color: #008080; text-decoration-color: #008080; font-weight: bold\">0x7f8eadc90b38</span><span style=\"font-weight: bold\">&gt;</span>,                       <span style=\"color: #000080; text-decoration-color: #000080\">│</span>\n",
       "<span style=\"color: #000080; text-decoration-color: #000080\">│</span>                       <span style=\"font-weight: bold\">&lt;</span><span style=\"color: #ff00ff; text-decoration-color: #ff00ff; font-weight: bold\">pyuda._video.Frame</span><span style=\"color: #000000; text-decoration-color: #000000\"> object at </span><span style=\"color: #008080; text-decoration-color: #008080; font-weight: bold\">0x7f8eadc90b70</span><span style=\"font-weight: bold\">&gt;</span>,                       <span style=\"color: #000080; text-decoration-color: #000080\">│</span>\n",
       "<span style=\"color: #000080; text-decoration-color: #000080\">│</span>                       <span style=\"font-weight: bold\">&lt;</span><span style=\"color: #ff00ff; text-decoration-color: #ff00ff; font-weight: bold\">pyuda._video.Frame</span><span style=\"color: #000000; text-decoration-color: #000000\"> object at </span><span style=\"color: #008080; text-decoration-color: #008080; font-weight: bold\">0x7f8eadc90ba8</span><span style=\"font-weight: bold\">&gt;</span>,                       <span style=\"color: #000080; text-decoration-color: #000080\">│</span>\n",
       "<span style=\"color: #000080; text-decoration-color: #000080\">│</span>                       <span style=\"font-weight: bold\">&lt;</span><span style=\"color: #ff00ff; text-decoration-color: #ff00ff; font-weight: bold\">pyuda._video.Frame</span><span style=\"color: #000000; text-decoration-color: #000000\"> object at </span><span style=\"color: #008080; text-decoration-color: #008080; font-weight: bold\">0x7f8eadc90be0</span><span style=\"font-weight: bold\">&gt;</span>,                       <span style=\"color: #000080; text-decoration-color: #000080\">│</span>\n",
       "<span style=\"color: #000080; text-decoration-color: #000080\">│</span>                       <span style=\"font-weight: bold\">&lt;</span><span style=\"color: #ff00ff; text-decoration-color: #ff00ff; font-weight: bold\">pyuda._video.Frame</span><span style=\"color: #000000; text-decoration-color: #000000\"> object at </span><span style=\"color: #008080; text-decoration-color: #008080; font-weight: bold\">0x7f8eadc90c18</span><span style=\"font-weight: bold\">&gt;</span>,                       <span style=\"color: #000080; text-decoration-color: #000080\">│</span>\n",
       "<span style=\"color: #000080; text-decoration-color: #000080\">│</span>                       <span style=\"font-weight: bold\">&lt;</span><span style=\"color: #ff00ff; text-decoration-color: #ff00ff; font-weight: bold\">pyuda._video.Frame</span><span style=\"color: #000000; text-decoration-color: #000000\"> object at </span><span style=\"color: #008080; text-decoration-color: #008080; font-weight: bold\">0x7f8eadc90c50</span><span style=\"font-weight: bold\">&gt;</span>,                       <span style=\"color: #000080; text-decoration-color: #000080\">│</span>\n",
       "<span style=\"color: #000080; text-decoration-color: #000080\">│</span>                       <span style=\"font-weight: bold\">&lt;</span><span style=\"color: #ff00ff; text-decoration-color: #ff00ff; font-weight: bold\">pyuda._video.Frame</span><span style=\"color: #000000; text-decoration-color: #000000\"> object at </span><span style=\"color: #008080; text-decoration-color: #008080; font-weight: bold\">0x7f8eadc90c88</span><span style=\"font-weight: bold\">&gt;</span>,                       <span style=\"color: #000080; text-decoration-color: #000080\">│</span>\n",
       "<span style=\"color: #000080; text-decoration-color: #000080\">│</span>                       <span style=\"font-weight: bold\">&lt;</span><span style=\"color: #ff00ff; text-decoration-color: #ff00ff; font-weight: bold\">pyuda._video.Frame</span><span style=\"color: #000000; text-decoration-color: #000000\"> object at </span><span style=\"color: #008080; text-decoration-color: #008080; font-weight: bold\">0x7f8eadc90cc0</span><span style=\"font-weight: bold\">&gt;</span>,                       <span style=\"color: #000080; text-decoration-color: #000080\">│</span>\n",
       "<span style=\"color: #000080; text-decoration-color: #000080\">│</span>                       <span style=\"font-weight: bold\">&lt;</span><span style=\"color: #ff00ff; text-decoration-color: #ff00ff; font-weight: bold\">pyuda._video.Frame</span><span style=\"color: #000000; text-decoration-color: #000000\"> object at </span><span style=\"color: #008080; text-decoration-color: #008080; font-weight: bold\">0x7f8eadc90cf8</span><span style=\"font-weight: bold\">&gt;</span>,                       <span style=\"color: #000080; text-decoration-color: #000080\">│</span>\n",
       "<span style=\"color: #000080; text-decoration-color: #000080\">│</span>                       <span style=\"font-weight: bold\">&lt;</span><span style=\"color: #ff00ff; text-decoration-color: #ff00ff; font-weight: bold\">pyuda._video.Frame</span><span style=\"color: #000000; text-decoration-color: #000000\"> object at </span><span style=\"color: #008080; text-decoration-color: #008080; font-weight: bold\">0x7f8eadc90d30</span><span style=\"font-weight: bold\">&gt;</span>,                       <span style=\"color: #000080; text-decoration-color: #000080\">│</span>\n",
       "<span style=\"color: #000080; text-decoration-color: #000080\">│</span>                       <span style=\"font-weight: bold\">&lt;</span><span style=\"color: #ff00ff; text-decoration-color: #ff00ff; font-weight: bold\">pyuda._video.Frame</span><span style=\"color: #000000; text-decoration-color: #000000\"> object at </span><span style=\"color: #008080; text-decoration-color: #008080; font-weight: bold\">0x7f8eadc90d68</span><span style=\"font-weight: bold\">&gt;</span>,                       <span style=\"color: #000080; text-decoration-color: #000080\">│</span>\n",
       "<span style=\"color: #000080; text-decoration-color: #000080\">│</span>                       <span style=\"font-weight: bold\">&lt;</span><span style=\"color: #ff00ff; text-decoration-color: #ff00ff; font-weight: bold\">pyuda._video.Frame</span><span style=\"color: #000000; text-decoration-color: #000000\"> object at </span><span style=\"color: #008080; text-decoration-color: #008080; font-weight: bold\">0x7f8eadc90da0</span><span style=\"font-weight: bold\">&gt;</span>,                       <span style=\"color: #000080; text-decoration-color: #000080\">│</span>\n",
       "<span style=\"color: #000080; text-decoration-color: #000080\">│</span>                       <span style=\"font-weight: bold\">&lt;</span><span style=\"color: #ff00ff; text-decoration-color: #ff00ff; font-weight: bold\">pyuda._video.Frame</span><span style=\"color: #000000; text-decoration-color: #000000\"> object at </span><span style=\"color: #008080; text-decoration-color: #008080; font-weight: bold\">0x7f8eadc90dd8</span><span style=\"font-weight: bold\">&gt;</span>,                       <span style=\"color: #000080; text-decoration-color: #000080\">│</span>\n",
       "<span style=\"color: #000080; text-decoration-color: #000080\">│</span>                       <span style=\"font-weight: bold\">&lt;</span><span style=\"color: #ff00ff; text-decoration-color: #ff00ff; font-weight: bold\">pyuda._video.Frame</span><span style=\"color: #000000; text-decoration-color: #000000\"> object at </span><span style=\"color: #008080; text-decoration-color: #008080; font-weight: bold\">0x7f8eadc90e10</span><span style=\"font-weight: bold\">&gt;</span>,                       <span style=\"color: #000080; text-decoration-color: #000080\">│</span>\n",
       "<span style=\"color: #000080; text-decoration-color: #000080\">│</span>                       <span style=\"font-weight: bold\">&lt;</span><span style=\"color: #ff00ff; text-decoration-color: #ff00ff; font-weight: bold\">pyuda._video.Frame</span><span style=\"color: #000000; text-decoration-color: #000000\"> object at </span><span style=\"color: #008080; text-decoration-color: #008080; font-weight: bold\">0x7f8eadc90e48</span><span style=\"font-weight: bold\">&gt;</span>,                       <span style=\"color: #000080; text-decoration-color: #000080\">│</span>\n",
       "<span style=\"color: #000080; text-decoration-color: #000080\">│</span>                       <span style=\"font-weight: bold\">&lt;</span><span style=\"color: #ff00ff; text-decoration-color: #ff00ff; font-weight: bold\">pyuda._video.Frame</span><span style=\"color: #000000; text-decoration-color: #000000\"> object at </span><span style=\"color: #008080; text-decoration-color: #008080; font-weight: bold\">0x7f8eadc90e80</span><span style=\"font-weight: bold\">&gt;</span>,                       <span style=\"color: #000080; text-decoration-color: #000080\">│</span>\n",
       "<span style=\"color: #000080; text-decoration-color: #000080\">│</span>                       <span style=\"font-weight: bold\">&lt;</span><span style=\"color: #ff00ff; text-decoration-color: #ff00ff; font-weight: bold\">pyuda._video.Frame</span><span style=\"color: #000000; text-decoration-color: #000000\"> object at </span><span style=\"color: #008080; text-decoration-color: #008080; font-weight: bold\">0x7f8eadc90eb8</span><span style=\"font-weight: bold\">&gt;</span>,                       <span style=\"color: #000080; text-decoration-color: #000080\">│</span>\n",
       "<span style=\"color: #000080; text-decoration-color: #000080\">│</span>                       <span style=\"font-weight: bold\">&lt;</span><span style=\"color: #ff00ff; text-decoration-color: #ff00ff; font-weight: bold\">pyuda._video.Frame</span><span style=\"color: #000000; text-decoration-color: #000000\"> object at </span><span style=\"color: #008080; text-decoration-color: #008080; font-weight: bold\">0x7f8eadc90ef0</span><span style=\"font-weight: bold\">&gt;</span>,                       <span style=\"color: #000080; text-decoration-color: #000080\">│</span>\n",
       "<span style=\"color: #000080; text-decoration-color: #000080\">│</span>                       <span style=\"font-weight: bold\">&lt;</span><span style=\"color: #ff00ff; text-decoration-color: #ff00ff; font-weight: bold\">pyuda._video.Frame</span><span style=\"color: #000000; text-decoration-color: #000000\"> object at </span><span style=\"color: #008080; text-decoration-color: #008080; font-weight: bold\">0x7f8eadc90f28</span><span style=\"font-weight: bold\">&gt;</span>,                       <span style=\"color: #000080; text-decoration-color: #000080\">│</span>\n",
       "<span style=\"color: #000080; text-decoration-color: #000080\">│</span>                       <span style=\"font-weight: bold\">&lt;</span><span style=\"color: #ff00ff; text-decoration-color: #ff00ff; font-weight: bold\">pyuda._video.Frame</span><span style=\"color: #000000; text-decoration-color: #000000\"> object at </span><span style=\"color: #008080; text-decoration-color: #008080; font-weight: bold\">0x7f8eadc90f60</span><span style=\"font-weight: bold\">&gt;</span>,                       <span style=\"color: #000080; text-decoration-color: #000080\">│</span>\n",
       "<span style=\"color: #000080; text-decoration-color: #000080\">│</span>                       <span style=\"font-weight: bold\">&lt;</span><span style=\"color: #ff00ff; text-decoration-color: #ff00ff; font-weight: bold\">pyuda._video.Frame</span><span style=\"color: #000000; text-decoration-color: #000000\"> object at </span><span style=\"color: #008080; text-decoration-color: #008080; font-weight: bold\">0x7f8eadc90f98</span><span style=\"font-weight: bold\">&gt;</span>,                       <span style=\"color: #000080; text-decoration-color: #000080\">│</span>\n",
       "<span style=\"color: #000080; text-decoration-color: #000080\">│</span>                       <span style=\"font-weight: bold\">&lt;</span><span style=\"color: #ff00ff; text-decoration-color: #ff00ff; font-weight: bold\">pyuda._video.Frame</span><span style=\"color: #000000; text-decoration-color: #000000\"> object at </span><span style=\"color: #008080; text-decoration-color: #008080; font-weight: bold\">0x7f8eadc90fd0</span><span style=\"font-weight: bold\">&gt;</span>,                       <span style=\"color: #000080; text-decoration-color: #000080\">│</span>\n",
       "<span style=\"color: #000080; text-decoration-color: #000080\">│</span>                       <span style=\"font-weight: bold\">&lt;</span><span style=\"color: #ff00ff; text-decoration-color: #ff00ff; font-weight: bold\">pyuda._video.Frame</span><span style=\"color: #000000; text-decoration-color: #000000\"> object at </span><span style=\"color: #008080; text-decoration-color: #008080; font-weight: bold\">0x7f8eadc95048</span><span style=\"font-weight: bold\">&gt;</span>,                       <span style=\"color: #000080; text-decoration-color: #000080\">│</span>\n",
       "<span style=\"color: #000080; text-decoration-color: #000080\">│</span>                       <span style=\"font-weight: bold\">&lt;</span><span style=\"color: #ff00ff; text-decoration-color: #ff00ff; font-weight: bold\">pyuda._video.Frame</span><span style=\"color: #000000; text-decoration-color: #000000\"> object at </span><span style=\"color: #008080; text-decoration-color: #008080; font-weight: bold\">0x7f8eadc95080</span><span style=\"font-weight: bold\">&gt;</span>,                       <span style=\"color: #000080; text-decoration-color: #000080\">│</span>\n",
       "<span style=\"color: #000080; text-decoration-color: #000080\">│</span>                       <span style=\"font-weight: bold\">&lt;</span><span style=\"color: #ff00ff; text-decoration-color: #ff00ff; font-weight: bold\">pyuda._video.Frame</span><span style=\"color: #000000; text-decoration-color: #000000\"> object at </span><span style=\"color: #008080; text-decoration-color: #008080; font-weight: bold\">0x7f8eadc950b8</span><span style=\"font-weight: bold\">&gt;</span>,                       <span style=\"color: #000080; text-decoration-color: #000080\">│</span>\n",
       "<span style=\"color: #000080; text-decoration-color: #000080\">│</span>                       <span style=\"font-weight: bold\">&lt;</span><span style=\"color: #ff00ff; text-decoration-color: #ff00ff; font-weight: bold\">pyuda._video.Frame</span><span style=\"color: #000000; text-decoration-color: #000000\"> object at </span><span style=\"color: #008080; text-decoration-color: #008080; font-weight: bold\">0x7f8eadc950f0</span><span style=\"font-weight: bold\">&gt;</span>,                       <span style=\"color: #000080; text-decoration-color: #000080\">│</span>\n",
       "<span style=\"color: #000080; text-decoration-color: #000080\">│</span>                       <span style=\"font-weight: bold\">&lt;</span><span style=\"color: #ff00ff; text-decoration-color: #ff00ff; font-weight: bold\">pyuda._video.Frame</span><span style=\"color: #000000; text-decoration-color: #000000\"> object at </span><span style=\"color: #008080; text-decoration-color: #008080; font-weight: bold\">0x7f8eadc95128</span><span style=\"font-weight: bold\">&gt;</span>,                       <span style=\"color: #000080; text-decoration-color: #000080\">│</span>\n",
       "<span style=\"color: #000080; text-decoration-color: #000080\">│</span>                       <span style=\"font-weight: bold\">&lt;</span><span style=\"color: #ff00ff; text-decoration-color: #ff00ff; font-weight: bold\">pyuda._video.Frame</span><span style=\"color: #000000; text-decoration-color: #000000\"> object at </span><span style=\"color: #008080; text-decoration-color: #008080; font-weight: bold\">0x7f8eadc95160</span><span style=\"font-weight: bold\">&gt;</span>,                       <span style=\"color: #000080; text-decoration-color: #000080\">│</span>\n",
       "<span style=\"color: #000080; text-decoration-color: #000080\">│</span>                       <span style=\"font-weight: bold\">&lt;</span><span style=\"color: #ff00ff; text-decoration-color: #ff00ff; font-weight: bold\">pyuda._video.Frame</span><span style=\"color: #000000; text-decoration-color: #000000\"> object at </span><span style=\"color: #008080; text-decoration-color: #008080; font-weight: bold\">0x7f8eadc95198</span><span style=\"font-weight: bold\">&gt;</span>,                       <span style=\"color: #000080; text-decoration-color: #000080\">│</span>\n",
       "<span style=\"color: #000080; text-decoration-color: #000080\">│</span>                       <span style=\"font-weight: bold\">&lt;</span><span style=\"color: #ff00ff; text-decoration-color: #ff00ff; font-weight: bold\">pyuda._video.Frame</span><span style=\"color: #000000; text-decoration-color: #000000\"> object at </span><span style=\"color: #008080; text-decoration-color: #008080; font-weight: bold\">0x7f8eadc951d0</span><span style=\"font-weight: bold\">&gt;</span>,                       <span style=\"color: #000080; text-decoration-color: #000080\">│</span>\n",
       "<span style=\"color: #000080; text-decoration-color: #000080\">│</span>                       <span style=\"font-weight: bold\">&lt;</span><span style=\"color: #ff00ff; text-decoration-color: #ff00ff; font-weight: bold\">pyuda._video.Frame</span><span style=\"color: #000000; text-decoration-color: #000000\"> object at </span><span style=\"color: #008080; text-decoration-color: #008080; font-weight: bold\">0x7f8eadc95208</span><span style=\"font-weight: bold\">&gt;</span>,                       <span style=\"color: #000080; text-decoration-color: #000080\">│</span>\n",
       "<span style=\"color: #000080; text-decoration-color: #000080\">│</span>                       <span style=\"font-weight: bold\">&lt;</span><span style=\"color: #ff00ff; text-decoration-color: #ff00ff; font-weight: bold\">pyuda._video.Frame</span><span style=\"color: #000000; text-decoration-color: #000000\"> object at </span><span style=\"color: #008080; text-decoration-color: #008080; font-weight: bold\">0x7f8eadc95240</span><span style=\"font-weight: bold\">&gt;</span>,                       <span style=\"color: #000080; text-decoration-color: #000080\">│</span>\n",
       "<span style=\"color: #000080; text-decoration-color: #000080\">│</span>                       <span style=\"font-weight: bold\">&lt;</span><span style=\"color: #ff00ff; text-decoration-color: #ff00ff; font-weight: bold\">pyuda._video.Frame</span><span style=\"color: #000000; text-decoration-color: #000000\"> object at </span><span style=\"color: #008080; text-decoration-color: #008080; font-weight: bold\">0x7f8eadc95278</span><span style=\"font-weight: bold\">&gt;</span>                        <span style=\"color: #000080; text-decoration-color: #000080\">│</span>\n",
       "<span style=\"color: #000080; text-decoration-color: #000080\">│</span>                   <span style=\"font-weight: bold\">]</span>                                                                        <span style=\"color: #000080; text-decoration-color: #000080\">│</span>\n",
       "<span style=\"color: #000080; text-decoration-color: #000080\">│</span>          <span style=\"color: #808000; text-decoration-color: #808000; font-style: italic\">height</span> = <span style=\"color: #008080; text-decoration-color: #008080; font-weight: bold\">36</span>                                                                       <span style=\"color: #000080; text-decoration-color: #000080\">│</span>\n",
       "<span style=\"color: #000080; text-decoration-color: #000080\">│</span>              <span style=\"color: #808000; text-decoration-color: #808000; font-style: italic\">id</span> = <span style=\"color: #008000; text-decoration-color: #008000\">'CXR 01'</span>                                                                 <span style=\"color: #000080; text-decoration-color: #000080\">│</span>\n",
       "<span style=\"color: #000080; text-decoration-color: #000080\">│</span>        <span style=\"color: #808000; text-decoration-color: #808000; font-style: italic\">is_color</span> = <span style=\"color: #008080; text-decoration-color: #008080; font-weight: bold\">0</span>                                                                        <span style=\"color: #000080; text-decoration-color: #000080\">│</span>\n",
       "<span style=\"color: #000080; text-decoration-color: #000080\">│</span>      <span style=\"color: #808000; text-decoration-color: #808000; font-style: italic\">n_channels</span> = <span style=\"color: #008080; text-decoration-color: #008080; font-weight: bold\">4</span>                                                                        <span style=\"color: #000080; text-decoration-color: #000080\">│</span>\n",
       "<span style=\"color: #000080; text-decoration-color: #000080\">│</span>        <span style=\"color: #808000; text-decoration-color: #808000; font-style: italic\">n_frames</span> = <span style=\"color: #008080; text-decoration-color: #008080; font-weight: bold\">130</span>                                                                      <span style=\"color: #000080; text-decoration-color: #000080\">│</span>\n",
       "<span style=\"color: #000080; text-decoration-color: #000080\">│</span>      <span style=\"color: #808000; text-decoration-color: #808000; font-style: italic\">n_i2m_rows</span> = <span style=\"color: #008080; text-decoration-color: #008080; font-weight: bold\">250</span>                                                                      <span style=\"color: #000080; text-decoration-color: #000080\">│</span>\n",
       "<span style=\"color: #000080; text-decoration-color: #000080\">│</span>  <span style=\"color: #808000; text-decoration-color: #808000; font-style: italic\">n_notch_pulses</span> = <span style=\"color: #008080; text-decoration-color: #008080; font-weight: bold\">0</span>                                                                        <span style=\"color: #000080; text-decoration-color: #000080\">│</span>\n",
       "<span style=\"color: #000080; text-decoration-color: #000080\">│</span>           <span style=\"color: #808000; text-decoration-color: #808000; font-style: italic\">n_roi</span> = <span style=\"color: #008080; text-decoration-color: #008080; font-weight: bold\">5</span>                                                                        <span style=\"color: #000080; text-decoration-color: #000080\">│</span>\n",
       "<span style=\"color: #000080; text-decoration-color: #000080\">│</span>        <span style=\"color: #808000; text-decoration-color: #808000; font-style: italic\">open_flc</span> = <span style=\"color: #008080; text-decoration-color: #008080; font-weight: bold\">0</span>                                                                        <span style=\"color: #000080; text-decoration-color: #000080\">│</span>\n",
       "<span style=\"color: #000080; text-decoration-color: #000080\">│</span>  <span style=\"color: #808000; text-decoration-color: #808000; font-style: italic\">open_flc_delay</span> = <span style=\"color: #008080; text-decoration-color: #008080; font-weight: bold\">0</span>                                                                        <span style=\"color: #000080; text-decoration-color: #000080\">│</span>\n",
       "<span style=\"color: #000080; text-decoration-color: #000080\">│</span>     <span style=\"color: #808000; text-decoration-color: #808000; font-style: italic\">orientation</span> = <span style=\"color: #008080; text-decoration-color: #008080; font-weight: bold\">2231306</span>                                                                  <span style=\"color: #000080; text-decoration-color: #000080\">│</span>\n",
       "<span style=\"color: #000080; text-decoration-color: #000080\">│</span>        <span style=\"color: #808000; text-decoration-color: #808000; font-style: italic\">prom_set</span> = <span style=\"color: #800080; text-decoration-color: #800080; font-weight: bold\">array</span><span style=\"font-weight: bold\">([</span><span style=\"color: #008080; text-decoration-color: #008080; font-weight: bold\">254</span>,   <span style=\"color: #008080; text-decoration-color: #008080; font-weight: bold\">1</span>,   <span style=\"color: #008080; text-decoration-color: #008080; font-weight: bold\">1</span>,   <span style=\"color: #008080; text-decoration-color: #008080; font-weight: bold\">0</span><span style=\"font-weight: bold\">]</span>, <span style=\"color: #808000; text-decoration-color: #808000\">dtype</span>=<span style=\"color: #800080; text-decoration-color: #800080\">int32</span><span style=\"font-weight: bold\">)</span>                                 <span style=\"color: #000080; text-decoration-color: #000080\">│</span>\n",
       "<span style=\"color: #000080; text-decoration-color: #000080\">│</span>        <span style=\"color: #808000; text-decoration-color: #808000; font-style: italic\">read_out</span> = <span style=\"color: #008080; text-decoration-color: #008080; font-weight: bold\">3.3844000000000003</span>                                                       <span style=\"color: #000080; text-decoration-color: #000080\">│</span>\n",
       "<span style=\"color: #000080; text-decoration-color: #000080\">│</span>            <span style=\"color: #808000; text-decoration-color: #808000; font-style: italic\">shot</span> = <span style=\"color: #008080; text-decoration-color: #008080; font-weight: bold\">30420</span>                                                                    <span style=\"color: #000080; text-decoration-color: #000080\">│</span>\n",
       "<span style=\"color: #000080; text-decoration-color: #000080\">│</span>        <span style=\"color: #808000; text-decoration-color: #808000; font-style: italic\">temp_set</span> = <span style=\"color: #008080; text-decoration-color: #008080; font-weight: bold\">96</span>                                                                       <span style=\"color: #000080; text-decoration-color: #000080\">│</span>\n",
       "<span style=\"color: #000080; text-decoration-color: #000080\">│</span>        <span style=\"color: #808000; text-decoration-color: #808000; font-style: italic\">time_out</span> = <span style=\"color: #008080; text-decoration-color: #008080; font-weight: bold\">10000</span>                                                                    <span style=\"color: #000080; text-decoration-color: #000080\">│</span>\n",
       "<span style=\"color: #000080; text-decoration-color: #000080\">│</span>      <span style=\"color: #808000; text-decoration-color: #808000; font-style: italic\">trig_pulse</span> = <span style=\"color: #008080; text-decoration-color: #008080; font-weight: bold\">999983.0</span>                                                                 <span style=\"color: #000080; text-decoration-color: #000080\">│</span>\n",
       "<span style=\"color: #000080; text-decoration-color: #000080\">│</span>           <span style=\"color: #808000; text-decoration-color: #808000; font-style: italic\">width</span> = <span style=\"color: #008080; text-decoration-color: #008080; font-weight: bold\">684</span>                                                                      <span style=\"color: #000080; text-decoration-color: #000080\">│</span>\n",
       "<span style=\"color: #000080; text-decoration-color: #000080\">│</span>           <span style=\"color: #808000; text-decoration-color: #808000; font-style: italic\">x_roi</span> = <span style=\"color: #800080; text-decoration-color: #800080; font-weight: bold\">array</span><span style=\"font-weight: bold\">([</span>  <span style=\"color: #008080; text-decoration-color: #008080; font-weight: bold\">0</span>, <span style=\"color: #008080; text-decoration-color: #008080; font-weight: bold\">342</span>,   <span style=\"color: #008080; text-decoration-color: #008080; font-weight: bold\">1</span><span style=\"font-weight: bold\">]</span>, <span style=\"color: #808000; text-decoration-color: #808000\">dtype</span>=<span style=\"color: #800080; text-decoration-color: #800080\">int32</span><span style=\"font-weight: bold\">)</span>                                      <span style=\"color: #000080; text-decoration-color: #000080\">│</span>\n",
       "<span style=\"color: #000080; text-decoration-color: #000080\">│</span>           <span style=\"color: #808000; text-decoration-color: #808000; font-style: italic\">y_roi</span> = <span style=\"color: #800080; text-decoration-color: #800080; font-weight: bold\">array</span><span style=\"font-weight: bold\">([[</span>  <span style=\"color: #008080; text-decoration-color: #008080; font-weight: bold\">0</span>,   <span style=\"color: #008080; text-decoration-color: #008080; font-weight: bold\">0</span>,   <span style=\"color: #008080; text-decoration-color: #008080; font-weight: bold\">1</span>,   <span style=\"color: #008080; text-decoration-color: #008080; font-weight: bold\">1</span>,   <span style=\"color: #008080; text-decoration-color: #008080; font-weight: bold\">0</span>,  <span style=\"color: #008080; text-decoration-color: #008080; font-weight: bold\">11</span>,  <span style=\"color: #008080; text-decoration-color: #008080; font-weight: bold\">11</span>,   <span style=\"color: #008080; text-decoration-color: #008080; font-weight: bold\">1</span>,  <span style=\"color: #008080; text-decoration-color: #008080; font-weight: bold\">11</span>, <span style=\"color: #008080; text-decoration-color: #008080; font-weight: bold\">105</span>,  <span style=\"color: #008080; text-decoration-color: #008080; font-weight: bold\">15</span>,   <span style=\"color: #008080; text-decoration-color: #008080; font-weight: bold\">1</span>, <span style=\"color: #008080; text-decoration-color: #008080; font-weight: bold\">116</span>, <span style=\"color: #000080; text-decoration-color: #000080\">│</span>\n",
       "<span style=\"color: #000080; text-decoration-color: #000080\">│</span>                            <span style=\"color: #008080; text-decoration-color: #008080; font-weight: bold\">32</span>,  <span style=\"color: #008080; text-decoration-color: #008080; font-weight: bold\">16</span>,   <span style=\"color: #008080; text-decoration-color: #008080; font-weight: bold\">1</span>, <span style=\"color: #008080; text-decoration-color: #008080; font-weight: bold\">148</span>, <span style=\"color: #008080; text-decoration-color: #008080; font-weight: bold\">120</span>,  <span style=\"color: #008080; text-decoration-color: #008080; font-weight: bold\">15</span>,   <span style=\"color: #008080; text-decoration-color: #008080; font-weight: bold\">2</span>,   <span style=\"color: #008080; text-decoration-color: #008080; font-weight: bold\">0</span>,   <span style=\"color: #008080; text-decoration-color: #008080; font-weight: bold\">0</span>,   <span style=\"color: #008080; text-decoration-color: #008080; font-weight: bold\">0</span>,   <span style=\"color: #008080; text-decoration-color: #008080; font-weight: bold\">0</span>,   <span style=\"color: #008080; text-decoration-color: #008080; font-weight: bold\">0</span>,   <span style=\"color: #008080; text-decoration-color: #008080; font-weight: bold\">0</span>, <span style=\"color: #000080; text-decoration-color: #000080\">│</span>\n",
       "<span style=\"color: #000080; text-decoration-color: #000080\">│</span>                             <span style=\"color: #008080; text-decoration-color: #008080; font-weight: bold\">0</span>,   <span style=\"color: #008080; text-decoration-color: #008080; font-weight: bold\">0</span>,   <span style=\"color: #008080; text-decoration-color: #008080; font-weight: bold\">0</span>,   <span style=\"color: #008080; text-decoration-color: #008080; font-weight: bold\">0</span>,   <span style=\"color: #008080; text-decoration-color: #008080; font-weight: bold\">0</span>,   <span style=\"color: #008080; text-decoration-color: #008080; font-weight: bold\">0</span><span style=\"font-weight: bold\">]</span>,                                   <span style=\"color: #000080; text-decoration-color: #000080\">│</span>\n",
       "<span style=\"color: #000080; text-decoration-color: #000080\">│</span>                          <span style=\"font-weight: bold\">[</span>  <span style=\"color: #008080; text-decoration-color: #008080; font-weight: bold\">0</span>,   <span style=\"color: #008080; text-decoration-color: #008080; font-weight: bold\">0</span>,   <span style=\"color: #008080; text-decoration-color: #008080; font-weight: bold\">0</span>,   <span style=\"color: #008080; text-decoration-color: #008080; font-weight: bold\">0</span>,   <span style=\"color: #008080; text-decoration-color: #008080; font-weight: bold\">0</span>,   <span style=\"color: #008080; text-decoration-color: #008080; font-weight: bold\">0</span>,   <span style=\"color: #008080; text-decoration-color: #008080; font-weight: bold\">0</span>,   <span style=\"color: #008080; text-decoration-color: #008080; font-weight: bold\">0</span>,   <span style=\"color: #008080; text-decoration-color: #008080; font-weight: bold\">0</span>,   <span style=\"color: #008080; text-decoration-color: #008080; font-weight: bold\">0</span>,   <span style=\"color: #008080; text-decoration-color: #008080; font-weight: bold\">0</span>,   <span style=\"color: #008080; text-decoration-color: #008080; font-weight: bold\">0</span>,   <span style=\"color: #008080; text-decoration-color: #008080; font-weight: bold\">0</span>, <span style=\"color: #000080; text-decoration-color: #000080\">│</span>\n",
       "<span style=\"color: #000080; text-decoration-color: #000080\">│</span>                             <span style=\"color: #008080; text-decoration-color: #008080; font-weight: bold\">0</span>,   <span style=\"color: #008080; text-decoration-color: #008080; font-weight: bold\">0</span>,   <span style=\"color: #008080; text-decoration-color: #008080; font-weight: bold\">0</span>,   <span style=\"color: #008080; text-decoration-color: #008080; font-weight: bold\">0</span>,   <span style=\"color: #008080; text-decoration-color: #008080; font-weight: bold\">0</span>,   <span style=\"color: #008080; text-decoration-color: #008080; font-weight: bold\">0</span>,   <span style=\"color: #008080; text-decoration-color: #008080; font-weight: bold\">0</span>,   <span style=\"color: #008080; text-decoration-color: #008080; font-weight: bold\">0</span>,   <span style=\"color: #008080; text-decoration-color: #008080; font-weight: bold\">0</span>,   <span style=\"color: #008080; text-decoration-color: #008080; font-weight: bold\">0</span>,   <span style=\"color: #008080; text-decoration-color: #008080; font-weight: bold\">0</span>,   <span style=\"color: #008080; text-decoration-color: #008080; font-weight: bold\">0</span>,   <span style=\"color: #008080; text-decoration-color: #008080; font-weight: bold\">0</span>, <span style=\"color: #000080; text-decoration-color: #000080\">│</span>\n",
       "<span style=\"color: #000080; text-decoration-color: #000080\">│</span>                             <span style=\"color: #008080; text-decoration-color: #008080; font-weight: bold\">0</span>,   <span style=\"color: #008080; text-decoration-color: #008080; font-weight: bold\">0</span>,   <span style=\"color: #008080; text-decoration-color: #008080; font-weight: bold\">0</span>,   <span style=\"color: #008080; text-decoration-color: #008080; font-weight: bold\">0</span>,   <span style=\"color: #008080; text-decoration-color: #008080; font-weight: bold\">0</span>,   <span style=\"color: #008080; text-decoration-color: #008080; font-weight: bold\">0</span><span style=\"font-weight: bold\">]</span>,                                   <span style=\"color: #000080; text-decoration-color: #000080\">│</span>\n",
       "<span style=\"color: #000080; text-decoration-color: #000080\">│</span>                          <span style=\"font-weight: bold\">[</span>  <span style=\"color: #008080; text-decoration-color: #008080; font-weight: bold\">0</span>,   <span style=\"color: #008080; text-decoration-color: #008080; font-weight: bold\">0</span>,   <span style=\"color: #008080; text-decoration-color: #008080; font-weight: bold\">0</span>,   <span style=\"color: #008080; text-decoration-color: #008080; font-weight: bold\">0</span>,   <span style=\"color: #008080; text-decoration-color: #008080; font-weight: bold\">0</span>,   <span style=\"color: #008080; text-decoration-color: #008080; font-weight: bold\">0</span>,   <span style=\"color: #008080; text-decoration-color: #008080; font-weight: bold\">0</span>,   <span style=\"color: #008080; text-decoration-color: #008080; font-weight: bold\">0</span>,   <span style=\"color: #008080; text-decoration-color: #008080; font-weight: bold\">0</span>,   <span style=\"color: #008080; text-decoration-color: #008080; font-weight: bold\">0</span>,   <span style=\"color: #008080; text-decoration-color: #008080; font-weight: bold\">0</span>,   <span style=\"color: #008080; text-decoration-color: #008080; font-weight: bold\">0</span>,   <span style=\"color: #008080; text-decoration-color: #008080; font-weight: bold\">0</span>, <span style=\"color: #000080; text-decoration-color: #000080\">│</span>\n",
       "<span style=\"color: #000080; text-decoration-color: #000080\">│</span>                             <span style=\"color: #008080; text-decoration-color: #008080; font-weight: bold\">0</span>,   <span style=\"color: #008080; text-decoration-color: #008080; font-weight: bold\">0</span>,   <span style=\"color: #008080; text-decoration-color: #008080; font-weight: bold\">0</span>,   <span style=\"color: #008080; text-decoration-color: #008080; font-weight: bold\">0</span>,   <span style=\"color: #008080; text-decoration-color: #008080; font-weight: bold\">0</span>,   <span style=\"color: #008080; text-decoration-color: #008080; font-weight: bold\">0</span>,   <span style=\"color: #008080; text-decoration-color: #008080; font-weight: bold\">0</span>,   <span style=\"color: #008080; text-decoration-color: #008080; font-weight: bold\">0</span>,   <span style=\"color: #008080; text-decoration-color: #008080; font-weight: bold\">0</span>,   <span style=\"color: #008080; text-decoration-color: #008080; font-weight: bold\">0</span>,   <span style=\"color: #008080; text-decoration-color: #008080; font-weight: bold\">0</span>,   <span style=\"color: #008080; text-decoration-color: #008080; font-weight: bold\">0</span>,   <span style=\"color: #008080; text-decoration-color: #008080; font-weight: bold\">0</span>, <span style=\"color: #000080; text-decoration-color: #000080\">│</span>\n",
       "<span style=\"color: #000080; text-decoration-color: #000080\">│</span>                             <span style=\"color: #008080; text-decoration-color: #008080; font-weight: bold\">0</span>,   <span style=\"color: #008080; text-decoration-color: #008080; font-weight: bold\">0</span>,   <span style=\"color: #008080; text-decoration-color: #008080; font-weight: bold\">0</span>,   <span style=\"color: #008080; text-decoration-color: #008080; font-weight: bold\">0</span>,   <span style=\"color: #008080; text-decoration-color: #008080; font-weight: bold\">0</span>,   <span style=\"color: #008080; text-decoration-color: #008080; font-weight: bold\">0</span><span style=\"font-weight: bold\">]</span>,                                   <span style=\"color: #000080; text-decoration-color: #000080\">│</span>\n",
       "<span style=\"color: #000080; text-decoration-color: #000080\">│</span>                          <span style=\"font-weight: bold\">[</span>  <span style=\"color: #008080; text-decoration-color: #008080; font-weight: bold\">0</span>,   <span style=\"color: #008080; text-decoration-color: #008080; font-weight: bold\">0</span>,   <span style=\"color: #008080; text-decoration-color: #008080; font-weight: bold\">0</span>,   <span style=\"color: #008080; text-decoration-color: #008080; font-weight: bold\">0</span>,   <span style=\"color: #008080; text-decoration-color: #008080; font-weight: bold\">0</span>,   <span style=\"color: #008080; text-decoration-color: #008080; font-weight: bold\">0</span>,   <span style=\"color: #008080; text-decoration-color: #008080; font-weight: bold\">0</span>,   <span style=\"color: #008080; text-decoration-color: #008080; font-weight: bold\">0</span>,   <span style=\"color: #008080; text-decoration-color: #008080; font-weight: bold\">0</span>,   <span style=\"color: #008080; text-decoration-color: #008080; font-weight: bold\">0</span>,   <span style=\"color: #008080; text-decoration-color: #008080; font-weight: bold\">0</span>,   <span style=\"color: #008080; text-decoration-color: #008080; font-weight: bold\">0</span>,   <span style=\"color: #008080; text-decoration-color: #008080; font-weight: bold\">0</span>, <span style=\"color: #000080; text-decoration-color: #000080\">│</span>\n",
       "<span style=\"color: #000080; text-decoration-color: #000080\">│</span>                             <span style=\"color: #008080; text-decoration-color: #008080; font-weight: bold\">0</span>,   <span style=\"color: #008080; text-decoration-color: #008080; font-weight: bold\">0</span>,   <span style=\"color: #008080; text-decoration-color: #008080; font-weight: bold\">0</span>,   <span style=\"color: #008080; text-decoration-color: #008080; font-weight: bold\">0</span>,   <span style=\"color: #008080; text-decoration-color: #008080; font-weight: bold\">0</span>,   <span style=\"color: #008080; text-decoration-color: #008080; font-weight: bold\">0</span>,   <span style=\"color: #008080; text-decoration-color: #008080; font-weight: bold\">0</span>,   <span style=\"color: #008080; text-decoration-color: #008080; font-weight: bold\">0</span>,   <span style=\"color: #008080; text-decoration-color: #008080; font-weight: bold\">0</span>,   <span style=\"color: #008080; text-decoration-color: #008080; font-weight: bold\">0</span>,   <span style=\"color: #008080; text-decoration-color: #008080; font-weight: bold\">0</span>,   <span style=\"color: #008080; text-decoration-color: #008080; font-weight: bold\">0</span>,   <span style=\"color: #008080; text-decoration-color: #008080; font-weight: bold\">0</span>, <span style=\"color: #000080; text-decoration-color: #000080\">│</span>\n",
       "<span style=\"color: #000080; text-decoration-color: #000080\">│</span>                             <span style=\"color: #008080; text-decoration-color: #008080; font-weight: bold\">0</span>,   <span style=\"color: #008080; text-decoration-color: #008080; font-weight: bold\">0</span>,   <span style=\"color: #008080; text-decoration-color: #008080; font-weight: bold\">0</span>,   <span style=\"color: #008080; text-decoration-color: #008080; font-weight: bold\">0</span>,   <span style=\"color: #008080; text-decoration-color: #008080; font-weight: bold\">0</span>,   <span style=\"color: #008080; text-decoration-color: #008080; font-weight: bold\">0</span><span style=\"font-weight: bold\">]]</span>, <span style=\"color: #808000; text-decoration-color: #808000\">dtype</span>=<span style=\"color: #800080; text-decoration-color: #800080\">int32</span><span style=\"font-weight: bold\">)</span>                     <span style=\"color: #000080; text-decoration-color: #000080\">│</span>\n",
       "<span style=\"color: #000080; text-decoration-color: #000080\">╰────────────────────────────────────────────────────────────────────────────────────────────╯</span>\n",
       "</pre>\n"
      ],
      "text/plain": [
       "\u001b[34m╭─\u001b[0m\u001b[34m────────────────────────────── \u001b[0m\u001b[1;34m<\u001b[0m\u001b[1;95mclass\u001b[0m\u001b[39m \u001b[0m\u001b[32m'pyuda._video.Video'\u001b[0m\u001b[1;34m>\u001b[0m\u001b[34m ──────────────────────────────\u001b[0m\u001b[34m─╮\u001b[0m\n",
       "\u001b[34m│\u001b[0m \u001b[32m╭────────────────────────────────────────────────────────────────────────────────────────╮\u001b[0m \u001b[34m│\u001b[0m\n",
       "\u001b[34m│\u001b[0m \u001b[32m│\u001b[0m \u001b[1m<\u001b[0m\u001b[1;95mpyuda._video.Video\u001b[0m\u001b[39m object at \u001b[0m\u001b[1;36m0x7f8eb41afa90\u001b[0m\u001b[1m>\u001b[0m                                          \u001b[32m│\u001b[0m \u001b[34m│\u001b[0m\n",
       "\u001b[34m│\u001b[0m \u001b[32m╰────────────────────────────────────────────────────────────────────────────────────────╯\u001b[0m \u001b[34m│\u001b[0m\n",
       "\u001b[34m│\u001b[0m                                                                                            \u001b[34m│\u001b[0m\n",
       "\u001b[34m│\u001b[0m          \u001b[3;33mcamera\u001b[0m = \u001b[32m'Pluto PS482, PixCam 1.6'\u001b[0m                                                \u001b[34m│\u001b[0m\n",
       "\u001b[34m│\u001b[0m      \u001b[3;33mccd_height\u001b[0m = \u001b[1;36m270\u001b[0m                                                                      \u001b[34m│\u001b[0m\n",
       "\u001b[34m│\u001b[0m       \u001b[3;33mccd_width\u001b[0m = \u001b[1;36m342\u001b[0m                                                                      \u001b[34m│\u001b[0m\n",
       "\u001b[34m│\u001b[0m       \u001b[3;33mclose_flc\u001b[0m = \u001b[1;36m0\u001b[0m                                                                        \u001b[34m│\u001b[0m\n",
       "\u001b[34m│\u001b[0m \u001b[3;33mclose_flc_delay\u001b[0m = \u001b[1;36m0\u001b[0m                                                                        \u001b[34m│\u001b[0m\n",
       "\u001b[34m│\u001b[0m       \u001b[3;33mdate_time\u001b[0m = \u001b[32m'25/09/2013 12:32'\u001b[0m                                                       \u001b[34m│\u001b[0m\n",
       "\u001b[34m│\u001b[0m           \u001b[3;33mdepth\u001b[0m = \u001b[1;36m14\u001b[0m                                                                       \u001b[34m│\u001b[0m\n",
       "\u001b[34m│\u001b[0m        \u001b[3;33mexp_mode\u001b[0m = \u001b[1;36m3.0\u001b[0m                                                                      \u001b[34m│\u001b[0m\n",
       "\u001b[34m│\u001b[0m     \u001b[3;33mfile_format\u001b[0m = \u001b[32m'RCC'\u001b[0m                                                                    \u001b[34m│\u001b[0m\n",
       "\u001b[34m│\u001b[0m     \u001b[3;33mframe_times\u001b[0m = \u001b[1;35marray\u001b[0m\u001b[1m(\u001b[0m\u001b[1m[\u001b[0m\u001b[1;36m-50000\u001b[0m, \u001b[1;36m-45008\u001b[0m, \u001b[1;36m-40008\u001b[0m, \u001b[1;36m-35006\u001b[0m, \u001b[1;36m-30008\u001b[0m, \u001b[1;36m-25008\u001b[0m, \u001b[1;36m-20008\u001b[0m, \u001b[1;36m-15008\u001b[0m,   \u001b[34m│\u001b[0m\n",
       "\u001b[34m│\u001b[0m                          \u001b[1;36m-10008\u001b[0m,  \u001b[1;36m-5008\u001b[0m,     \u001b[1;36m-6\u001b[0m,   \u001b[1;36m4995\u001b[0m,   \u001b[1;36m9994\u001b[0m,  \u001b[1;36m14994\u001b[0m,  \u001b[1;36m93737\u001b[0m,  \u001b[1;36m98735\u001b[0m,   \u001b[34m│\u001b[0m\n",
       "\u001b[34m│\u001b[0m                          \u001b[1;36m103735\u001b[0m,  \u001b[1;36m34979\u001b[0m, \u001b[1;36m113739\u001b[0m, \u001b[1;36m118735\u001b[0m, \u001b[1;36m123734\u001b[0m,  \u001b[1;36m55002\u001b[0m,  \u001b[1;36m59991\u001b[0m,  \u001b[1;36m64990\u001b[0m,   \u001b[34m│\u001b[0m\n",
       "\u001b[34m│\u001b[0m                           \u001b[1;36m69991\u001b[0m,  \u001b[1;36m74990\u001b[0m,  \u001b[1;36m79990\u001b[0m,  \u001b[1;36m84991\u001b[0m,  \u001b[1;36m89993\u001b[0m,  \u001b[1;36m94994\u001b[0m,  \u001b[1;36m99994\u001b[0m, \u001b[1;36m104994\u001b[0m,   \u001b[34m│\u001b[0m\n",
       "\u001b[34m│\u001b[0m                          \u001b[1;36m109992\u001b[0m, \u001b[1;36m114992\u001b[0m, \u001b[1;36m119992\u001b[0m, \u001b[1;36m124992\u001b[0m, \u001b[1;36m129993\u001b[0m, \u001b[1;36m134992\u001b[0m, \u001b[1;36m139992\u001b[0m, \u001b[1;36m144995\u001b[0m,   \u001b[34m│\u001b[0m\n",
       "\u001b[34m│\u001b[0m                          \u001b[1;36m149992\u001b[0m, \u001b[1;36m154992\u001b[0m, \u001b[1;36m159993\u001b[0m, \u001b[1;36m164992\u001b[0m, \u001b[1;36m169992\u001b[0m, \u001b[1;36m174992\u001b[0m, \u001b[1;36m179994\u001b[0m, \u001b[1;36m184991\u001b[0m,   \u001b[34m│\u001b[0m\n",
       "\u001b[34m│\u001b[0m                          \u001b[1;36m189992\u001b[0m, \u001b[1;36m194992\u001b[0m, \u001b[1;36m199992\u001b[0m, \u001b[1;36m204991\u001b[0m, \u001b[1;36m209992\u001b[0m, \u001b[1;36m214994\u001b[0m, \u001b[1;36m219993\u001b[0m, \u001b[1;36m224995\u001b[0m,   \u001b[34m│\u001b[0m\n",
       "\u001b[34m│\u001b[0m                          \u001b[1;36m229994\u001b[0m, \u001b[1;36m234990\u001b[0m, \u001b[1;36m239991\u001b[0m, \u001b[1;36m244990\u001b[0m, \u001b[1;36m249990\u001b[0m, \u001b[1;36m254991\u001b[0m, \u001b[1;36m259990\u001b[0m, \u001b[1;36m264990\u001b[0m,   \u001b[34m│\u001b[0m\n",
       "\u001b[34m│\u001b[0m                          \u001b[1;36m269991\u001b[0m, \u001b[1;36m274990\u001b[0m, \u001b[1;36m279990\u001b[0m, \u001b[1;36m284991\u001b[0m, \u001b[1;36m289990\u001b[0m, \u001b[1;36m294990\u001b[0m, \u001b[1;36m299990\u001b[0m, \u001b[1;36m304994\u001b[0m,   \u001b[34m│\u001b[0m\n",
       "\u001b[34m│\u001b[0m                          \u001b[1;36m309993\u001b[0m, \u001b[1;36m314993\u001b[0m, \u001b[1;36m319994\u001b[0m, \u001b[1;36m324991\u001b[0m, \u001b[1;36m329991\u001b[0m, \u001b[1;36m334992\u001b[0m, \u001b[1;36m339992\u001b[0m, \u001b[1;36m344991\u001b[0m,   \u001b[34m│\u001b[0m\n",
       "\u001b[34m│\u001b[0m                          \u001b[1;36m349981\u001b[0m, \u001b[1;36m355002\u001b[0m, \u001b[1;36m359992\u001b[0m, \u001b[1;36m364993\u001b[0m, \u001b[1;36m369992\u001b[0m, \u001b[1;36m374991\u001b[0m, \u001b[1;36m379993\u001b[0m, \u001b[1;36m384991\u001b[0m,   \u001b[34m│\u001b[0m\n",
       "\u001b[34m│\u001b[0m                          \u001b[1;36m389994\u001b[0m, \u001b[1;36m394992\u001b[0m, \u001b[1;36m399991\u001b[0m, \u001b[1;36m404992\u001b[0m, \u001b[1;36m409992\u001b[0m, \u001b[1;36m414992\u001b[0m, \u001b[1;36m419991\u001b[0m, \u001b[1;36m424992\u001b[0m,   \u001b[34m│\u001b[0m\n",
       "\u001b[34m│\u001b[0m                          \u001b[1;36m429994\u001b[0m, \u001b[1;36m434993\u001b[0m, \u001b[1;36m439993\u001b[0m, \u001b[1;36m444994\u001b[0m, \u001b[1;36m449990\u001b[0m, \u001b[1;36m454990\u001b[0m, \u001b[1;36m459990\u001b[0m, \u001b[1;36m464990\u001b[0m,   \u001b[34m│\u001b[0m\n",
       "\u001b[34m│\u001b[0m                          \u001b[1;36m469990\u001b[0m, \u001b[1;36m474991\u001b[0m, \u001b[1;36m479990\u001b[0m, \u001b[1;36m484990\u001b[0m, \u001b[1;36m489990\u001b[0m, \u001b[1;36m494990\u001b[0m, \u001b[1;36m499990\u001b[0m, \u001b[1;36m504990\u001b[0m,   \u001b[34m│\u001b[0m\n",
       "\u001b[34m│\u001b[0m                          \u001b[1;36m509990\u001b[0m, \u001b[1;36m514990\u001b[0m, \u001b[1;36m519995\u001b[0m, \u001b[1;36m524993\u001b[0m, \u001b[1;36m529993\u001b[0m, \u001b[1;36m534994\u001b[0m, \u001b[1;36m539991\u001b[0m, \u001b[1;36m544992\u001b[0m,   \u001b[34m│\u001b[0m\n",
       "\u001b[34m│\u001b[0m                          \u001b[1;36m549992\u001b[0m, \u001b[1;36m554992\u001b[0m, \u001b[1;36m559991\u001b[0m, \u001b[1;36m564991\u001b[0m, \u001b[1;36m569994\u001b[0m, \u001b[1;36m574992\u001b[0m, \u001b[1;36m579992\u001b[0m, \u001b[1;36m584993\u001b[0m,   \u001b[34m│\u001b[0m\n",
       "\u001b[34m│\u001b[0m                          \u001b[1;36m589992\u001b[0m, \u001b[1;36m595138\u001b[0m\u001b[1m]\u001b[0m, \u001b[33mdtype\u001b[0m=\u001b[35mint32\u001b[0m\u001b[1m)\u001b[0m                                     \u001b[34m│\u001b[0m\n",
       "\u001b[34m│\u001b[0m          \u001b[3;33mframes\u001b[0m = \u001b[1m[\u001b[0m                                                                        \u001b[34m│\u001b[0m\n",
       "\u001b[34m│\u001b[0m                       \u001b[1m<\u001b[0m\u001b[1;95mpyuda._video.Frame\u001b[0m\u001b[39m object at \u001b[0m\u001b[1;36m0x7f8eadcdc860\u001b[0m\u001b[1m>\u001b[0m,                       \u001b[34m│\u001b[0m\n",
       "\u001b[34m│\u001b[0m                       \u001b[1m<\u001b[0m\u001b[1;95mpyuda._video.Frame\u001b[0m\u001b[39m object at \u001b[0m\u001b[1;36m0x7f8eadcdc8d0\u001b[0m\u001b[1m>\u001b[0m,                       \u001b[34m│\u001b[0m\n",
       "\u001b[34m│\u001b[0m                       \u001b[1m<\u001b[0m\u001b[1;95mpyuda._video.Frame\u001b[0m\u001b[39m object at \u001b[0m\u001b[1;36m0x7f8eadc8d630\u001b[0m\u001b[1m>\u001b[0m,                       \u001b[34m│\u001b[0m\n",
       "\u001b[34m│\u001b[0m                       \u001b[1m<\u001b[0m\u001b[1;95mpyuda._video.Frame\u001b[0m\u001b[39m object at \u001b[0m\u001b[1;36m0x7f8eadc8d668\u001b[0m\u001b[1m>\u001b[0m,                       \u001b[34m│\u001b[0m\n",
       "\u001b[34m│\u001b[0m                       \u001b[1m<\u001b[0m\u001b[1;95mpyuda._video.Frame\u001b[0m\u001b[39m object at \u001b[0m\u001b[1;36m0x7f8eadc8d6a0\u001b[0m\u001b[1m>\u001b[0m,                       \u001b[34m│\u001b[0m\n",
       "\u001b[34m│\u001b[0m                       \u001b[1m<\u001b[0m\u001b[1;95mpyuda._video.Frame\u001b[0m\u001b[39m object at \u001b[0m\u001b[1;36m0x7f8eadc8d6d8\u001b[0m\u001b[1m>\u001b[0m,                       \u001b[34m│\u001b[0m\n",
       "\u001b[34m│\u001b[0m                       \u001b[1m<\u001b[0m\u001b[1;95mpyuda._video.Frame\u001b[0m\u001b[39m object at \u001b[0m\u001b[1;36m0x7f8eadc8d710\u001b[0m\u001b[1m>\u001b[0m,                       \u001b[34m│\u001b[0m\n",
       "\u001b[34m│\u001b[0m                       \u001b[1m<\u001b[0m\u001b[1;95mpyuda._video.Frame\u001b[0m\u001b[39m object at \u001b[0m\u001b[1;36m0x7f8eadc8d748\u001b[0m\u001b[1m>\u001b[0m,                       \u001b[34m│\u001b[0m\n",
       "\u001b[34m│\u001b[0m                       \u001b[1m<\u001b[0m\u001b[1;95mpyuda._video.Frame\u001b[0m\u001b[39m object at \u001b[0m\u001b[1;36m0x7f8eadc8d780\u001b[0m\u001b[1m>\u001b[0m,                       \u001b[34m│\u001b[0m\n",
       "\u001b[34m│\u001b[0m                       \u001b[1m<\u001b[0m\u001b[1;95mpyuda._video.Frame\u001b[0m\u001b[39m object at \u001b[0m\u001b[1;36m0x7f8eadc8d7b8\u001b[0m\u001b[1m>\u001b[0m,                       \u001b[34m│\u001b[0m\n",
       "\u001b[34m│\u001b[0m                       \u001b[1m<\u001b[0m\u001b[1;95mpyuda._video.Frame\u001b[0m\u001b[39m object at \u001b[0m\u001b[1;36m0x7f8eadc8d7f0\u001b[0m\u001b[1m>\u001b[0m,                       \u001b[34m│\u001b[0m\n",
       "\u001b[34m│\u001b[0m                       \u001b[1m<\u001b[0m\u001b[1;95mpyuda._video.Frame\u001b[0m\u001b[39m object at \u001b[0m\u001b[1;36m0x7f8eadc8d828\u001b[0m\u001b[1m>\u001b[0m,                       \u001b[34m│\u001b[0m\n",
       "\u001b[34m│\u001b[0m                       \u001b[1m<\u001b[0m\u001b[1;95mpyuda._video.Frame\u001b[0m\u001b[39m object at \u001b[0m\u001b[1;36m0x7f8eadc8d860\u001b[0m\u001b[1m>\u001b[0m,                       \u001b[34m│\u001b[0m\n",
       "\u001b[34m│\u001b[0m                       \u001b[1m<\u001b[0m\u001b[1;95mpyuda._video.Frame\u001b[0m\u001b[39m object at \u001b[0m\u001b[1;36m0x7f8eadc8d898\u001b[0m\u001b[1m>\u001b[0m,                       \u001b[34m│\u001b[0m\n",
       "\u001b[34m│\u001b[0m                       \u001b[1m<\u001b[0m\u001b[1;95mpyuda._video.Frame\u001b[0m\u001b[39m object at \u001b[0m\u001b[1;36m0x7f8eadc8d8d0\u001b[0m\u001b[1m>\u001b[0m,                       \u001b[34m│\u001b[0m\n",
       "\u001b[34m│\u001b[0m                       \u001b[1m<\u001b[0m\u001b[1;95mpyuda._video.Frame\u001b[0m\u001b[39m object at \u001b[0m\u001b[1;36m0x7f8eadc8d908\u001b[0m\u001b[1m>\u001b[0m,                       \u001b[34m│\u001b[0m\n",
       "\u001b[34m│\u001b[0m                       \u001b[1m<\u001b[0m\u001b[1;95mpyuda._video.Frame\u001b[0m\u001b[39m object at \u001b[0m\u001b[1;36m0x7f8eadc8d940\u001b[0m\u001b[1m>\u001b[0m,                       \u001b[34m│\u001b[0m\n",
       "\u001b[34m│\u001b[0m                       \u001b[1m<\u001b[0m\u001b[1;95mpyuda._video.Frame\u001b[0m\u001b[39m object at \u001b[0m\u001b[1;36m0x7f8eadc8d978\u001b[0m\u001b[1m>\u001b[0m,                       \u001b[34m│\u001b[0m\n",
       "\u001b[34m│\u001b[0m                       \u001b[1m<\u001b[0m\u001b[1;95mpyuda._video.Frame\u001b[0m\u001b[39m object at \u001b[0m\u001b[1;36m0x7f8eadc8d9b0\u001b[0m\u001b[1m>\u001b[0m,                       \u001b[34m│\u001b[0m\n",
       "\u001b[34m│\u001b[0m                       \u001b[1m<\u001b[0m\u001b[1;95mpyuda._video.Frame\u001b[0m\u001b[39m object at \u001b[0m\u001b[1;36m0x7f8eadc8d9e8\u001b[0m\u001b[1m>\u001b[0m,                       \u001b[34m│\u001b[0m\n",
       "\u001b[34m│\u001b[0m                       \u001b[1m<\u001b[0m\u001b[1;95mpyuda._video.Frame\u001b[0m\u001b[39m object at \u001b[0m\u001b[1;36m0x7f8eadc8da20\u001b[0m\u001b[1m>\u001b[0m,                       \u001b[34m│\u001b[0m\n",
       "\u001b[34m│\u001b[0m                       \u001b[1m<\u001b[0m\u001b[1;95mpyuda._video.Frame\u001b[0m\u001b[39m object at \u001b[0m\u001b[1;36m0x7f8eadc8da58\u001b[0m\u001b[1m>\u001b[0m,                       \u001b[34m│\u001b[0m\n",
       "\u001b[34m│\u001b[0m                       \u001b[1m<\u001b[0m\u001b[1;95mpyuda._video.Frame\u001b[0m\u001b[39m object at \u001b[0m\u001b[1;36m0x7f8eadc8da90\u001b[0m\u001b[1m>\u001b[0m,                       \u001b[34m│\u001b[0m\n",
       "\u001b[34m│\u001b[0m                       \u001b[1m<\u001b[0m\u001b[1;95mpyuda._video.Frame\u001b[0m\u001b[39m object at \u001b[0m\u001b[1;36m0x7f8eadc8dac8\u001b[0m\u001b[1m>\u001b[0m,                       \u001b[34m│\u001b[0m\n",
       "\u001b[34m│\u001b[0m                       \u001b[1m<\u001b[0m\u001b[1;95mpyuda._video.Frame\u001b[0m\u001b[39m object at \u001b[0m\u001b[1;36m0x7f8eadc8db00\u001b[0m\u001b[1m>\u001b[0m,                       \u001b[34m│\u001b[0m\n",
       "\u001b[34m│\u001b[0m                       \u001b[1m<\u001b[0m\u001b[1;95mpyuda._video.Frame\u001b[0m\u001b[39m object at \u001b[0m\u001b[1;36m0x7f8eadc8db38\u001b[0m\u001b[1m>\u001b[0m,                       \u001b[34m│\u001b[0m\n",
       "\u001b[34m│\u001b[0m                       \u001b[1m<\u001b[0m\u001b[1;95mpyuda._video.Frame\u001b[0m\u001b[39m object at \u001b[0m\u001b[1;36m0x7f8eadc8db70\u001b[0m\u001b[1m>\u001b[0m,                       \u001b[34m│\u001b[0m\n",
       "\u001b[34m│\u001b[0m                       \u001b[1m<\u001b[0m\u001b[1;95mpyuda._video.Frame\u001b[0m\u001b[39m object at \u001b[0m\u001b[1;36m0x7f8eadc8dba8\u001b[0m\u001b[1m>\u001b[0m,                       \u001b[34m│\u001b[0m\n",
       "\u001b[34m│\u001b[0m                       \u001b[1m<\u001b[0m\u001b[1;95mpyuda._video.Frame\u001b[0m\u001b[39m object at \u001b[0m\u001b[1;36m0x7f8eadc8dbe0\u001b[0m\u001b[1m>\u001b[0m,                       \u001b[34m│\u001b[0m\n",
       "\u001b[34m│\u001b[0m                       \u001b[1m<\u001b[0m\u001b[1;95mpyuda._video.Frame\u001b[0m\u001b[39m object at \u001b[0m\u001b[1;36m0x7f8eadc8dc18\u001b[0m\u001b[1m>\u001b[0m,                       \u001b[34m│\u001b[0m\n",
       "\u001b[34m│\u001b[0m                       \u001b[1m<\u001b[0m\u001b[1;95mpyuda._video.Frame\u001b[0m\u001b[39m object at \u001b[0m\u001b[1;36m0x7f8eadc8dc50\u001b[0m\u001b[1m>\u001b[0m,                       \u001b[34m│\u001b[0m\n",
       "\u001b[34m│\u001b[0m                       \u001b[1m<\u001b[0m\u001b[1;95mpyuda._video.Frame\u001b[0m\u001b[39m object at \u001b[0m\u001b[1;36m0x7f8eadc8dc88\u001b[0m\u001b[1m>\u001b[0m,                       \u001b[34m│\u001b[0m\n",
       "\u001b[34m│\u001b[0m                       \u001b[1m<\u001b[0m\u001b[1;95mpyuda._video.Frame\u001b[0m\u001b[39m object at \u001b[0m\u001b[1;36m0x7f8eadc8dcc0\u001b[0m\u001b[1m>\u001b[0m,                       \u001b[34m│\u001b[0m\n",
       "\u001b[34m│\u001b[0m                       \u001b[1m<\u001b[0m\u001b[1;95mpyuda._video.Frame\u001b[0m\u001b[39m object at \u001b[0m\u001b[1;36m0x7f8eadc8dcf8\u001b[0m\u001b[1m>\u001b[0m,                       \u001b[34m│\u001b[0m\n",
       "\u001b[34m│\u001b[0m                       \u001b[1m<\u001b[0m\u001b[1;95mpyuda._video.Frame\u001b[0m\u001b[39m object at \u001b[0m\u001b[1;36m0x7f8eadc8dd30\u001b[0m\u001b[1m>\u001b[0m,                       \u001b[34m│\u001b[0m\n",
       "\u001b[34m│\u001b[0m                       \u001b[1m<\u001b[0m\u001b[1;95mpyuda._video.Frame\u001b[0m\u001b[39m object at \u001b[0m\u001b[1;36m0x7f8eadc8dd68\u001b[0m\u001b[1m>\u001b[0m,                       \u001b[34m│\u001b[0m\n",
       "\u001b[34m│\u001b[0m                       \u001b[1m<\u001b[0m\u001b[1;95mpyuda._video.Frame\u001b[0m\u001b[39m object at \u001b[0m\u001b[1;36m0x7f8eadc8dda0\u001b[0m\u001b[1m>\u001b[0m,                       \u001b[34m│\u001b[0m\n",
       "\u001b[34m│\u001b[0m                       \u001b[1m<\u001b[0m\u001b[1;95mpyuda._video.Frame\u001b[0m\u001b[39m object at \u001b[0m\u001b[1;36m0x7f8eadc8ddd8\u001b[0m\u001b[1m>\u001b[0m,                       \u001b[34m│\u001b[0m\n",
       "\u001b[34m│\u001b[0m                       \u001b[1m<\u001b[0m\u001b[1;95mpyuda._video.Frame\u001b[0m\u001b[39m object at \u001b[0m\u001b[1;36m0x7f8eadc8de10\u001b[0m\u001b[1m>\u001b[0m,                       \u001b[34m│\u001b[0m\n",
       "\u001b[34m│\u001b[0m                       \u001b[1m<\u001b[0m\u001b[1;95mpyuda._video.Frame\u001b[0m\u001b[39m object at \u001b[0m\u001b[1;36m0x7f8eadc8de48\u001b[0m\u001b[1m>\u001b[0m,                       \u001b[34m│\u001b[0m\n",
       "\u001b[34m│\u001b[0m                       \u001b[1m<\u001b[0m\u001b[1;95mpyuda._video.Frame\u001b[0m\u001b[39m object at \u001b[0m\u001b[1;36m0x7f8eadc8de80\u001b[0m\u001b[1m>\u001b[0m,                       \u001b[34m│\u001b[0m\n",
       "\u001b[34m│\u001b[0m                       \u001b[1m<\u001b[0m\u001b[1;95mpyuda._video.Frame\u001b[0m\u001b[39m object at \u001b[0m\u001b[1;36m0x7f8eadc8deb8\u001b[0m\u001b[1m>\u001b[0m,                       \u001b[34m│\u001b[0m\n",
       "\u001b[34m│\u001b[0m                       \u001b[1m<\u001b[0m\u001b[1;95mpyuda._video.Frame\u001b[0m\u001b[39m object at \u001b[0m\u001b[1;36m0x7f8eadc8def0\u001b[0m\u001b[1m>\u001b[0m,                       \u001b[34m│\u001b[0m\n",
       "\u001b[34m│\u001b[0m                       \u001b[1m<\u001b[0m\u001b[1;95mpyuda._video.Frame\u001b[0m\u001b[39m object at \u001b[0m\u001b[1;36m0x7f8eadc8df28\u001b[0m\u001b[1m>\u001b[0m,                       \u001b[34m│\u001b[0m\n",
       "\u001b[34m│\u001b[0m                       \u001b[1m<\u001b[0m\u001b[1;95mpyuda._video.Frame\u001b[0m\u001b[39m object at \u001b[0m\u001b[1;36m0x7f8eadc8df60\u001b[0m\u001b[1m>\u001b[0m,                       \u001b[34m│\u001b[0m\n",
       "\u001b[34m│\u001b[0m                       \u001b[1m<\u001b[0m\u001b[1;95mpyuda._video.Frame\u001b[0m\u001b[39m object at \u001b[0m\u001b[1;36m0x7f8eadc8df98\u001b[0m\u001b[1m>\u001b[0m,                       \u001b[34m│\u001b[0m\n",
       "\u001b[34m│\u001b[0m                       \u001b[1m<\u001b[0m\u001b[1;95mpyuda._video.Frame\u001b[0m\u001b[39m object at \u001b[0m\u001b[1;36m0x7f8eadc8dfd0\u001b[0m\u001b[1m>\u001b[0m,                       \u001b[34m│\u001b[0m\n",
       "\u001b[34m│\u001b[0m                       \u001b[1m<\u001b[0m\u001b[1;95mpyuda._video.Frame\u001b[0m\u001b[39m object at \u001b[0m\u001b[1;36m0x7f8eadc90048\u001b[0m\u001b[1m>\u001b[0m,                       \u001b[34m│\u001b[0m\n",
       "\u001b[34m│\u001b[0m                       \u001b[1m<\u001b[0m\u001b[1;95mpyuda._video.Frame\u001b[0m\u001b[39m object at \u001b[0m\u001b[1;36m0x7f8eadc90080\u001b[0m\u001b[1m>\u001b[0m,                       \u001b[34m│\u001b[0m\n",
       "\u001b[34m│\u001b[0m                       \u001b[1m<\u001b[0m\u001b[1;95mpyuda._video.Frame\u001b[0m\u001b[39m object at \u001b[0m\u001b[1;36m0x7f8eadc900b8\u001b[0m\u001b[1m>\u001b[0m,                       \u001b[34m│\u001b[0m\n",
       "\u001b[34m│\u001b[0m                       \u001b[1m<\u001b[0m\u001b[1;95mpyuda._video.Frame\u001b[0m\u001b[39m object at \u001b[0m\u001b[1;36m0x7f8eadc900f0\u001b[0m\u001b[1m>\u001b[0m,                       \u001b[34m│\u001b[0m\n",
       "\u001b[34m│\u001b[0m                       \u001b[1m<\u001b[0m\u001b[1;95mpyuda._video.Frame\u001b[0m\u001b[39m object at \u001b[0m\u001b[1;36m0x7f8eadc90128\u001b[0m\u001b[1m>\u001b[0m,                       \u001b[34m│\u001b[0m\n",
       "\u001b[34m│\u001b[0m                       \u001b[1m<\u001b[0m\u001b[1;95mpyuda._video.Frame\u001b[0m\u001b[39m object at \u001b[0m\u001b[1;36m0x7f8eadc90160\u001b[0m\u001b[1m>\u001b[0m,                       \u001b[34m│\u001b[0m\n",
       "\u001b[34m│\u001b[0m                       \u001b[1m<\u001b[0m\u001b[1;95mpyuda._video.Frame\u001b[0m\u001b[39m object at \u001b[0m\u001b[1;36m0x7f8eadc90198\u001b[0m\u001b[1m>\u001b[0m,                       \u001b[34m│\u001b[0m\n",
       "\u001b[34m│\u001b[0m                       \u001b[1m<\u001b[0m\u001b[1;95mpyuda._video.Frame\u001b[0m\u001b[39m object at \u001b[0m\u001b[1;36m0x7f8eadc901d0\u001b[0m\u001b[1m>\u001b[0m,                       \u001b[34m│\u001b[0m\n",
       "\u001b[34m│\u001b[0m                       \u001b[1m<\u001b[0m\u001b[1;95mpyuda._video.Frame\u001b[0m\u001b[39m object at \u001b[0m\u001b[1;36m0x7f8eadc90208\u001b[0m\u001b[1m>\u001b[0m,                       \u001b[34m│\u001b[0m\n",
       "\u001b[34m│\u001b[0m                       \u001b[1m<\u001b[0m\u001b[1;95mpyuda._video.Frame\u001b[0m\u001b[39m object at \u001b[0m\u001b[1;36m0x7f8eadc90240\u001b[0m\u001b[1m>\u001b[0m,                       \u001b[34m│\u001b[0m\n",
       "\u001b[34m│\u001b[0m                       \u001b[1m<\u001b[0m\u001b[1;95mpyuda._video.Frame\u001b[0m\u001b[39m object at \u001b[0m\u001b[1;36m0x7f8eadc90278\u001b[0m\u001b[1m>\u001b[0m,                       \u001b[34m│\u001b[0m\n",
       "\u001b[34m│\u001b[0m                       \u001b[1m<\u001b[0m\u001b[1;95mpyuda._video.Frame\u001b[0m\u001b[39m object at \u001b[0m\u001b[1;36m0x7f8eadc902b0\u001b[0m\u001b[1m>\u001b[0m,                       \u001b[34m│\u001b[0m\n",
       "\u001b[34m│\u001b[0m                       \u001b[1m<\u001b[0m\u001b[1;95mpyuda._video.Frame\u001b[0m\u001b[39m object at \u001b[0m\u001b[1;36m0x7f8eadc902e8\u001b[0m\u001b[1m>\u001b[0m,                       \u001b[34m│\u001b[0m\n",
       "\u001b[34m│\u001b[0m                       \u001b[1m<\u001b[0m\u001b[1;95mpyuda._video.Frame\u001b[0m\u001b[39m object at \u001b[0m\u001b[1;36m0x7f8eadc90320\u001b[0m\u001b[1m>\u001b[0m,                       \u001b[34m│\u001b[0m\n",
       "\u001b[34m│\u001b[0m                       \u001b[1m<\u001b[0m\u001b[1;95mpyuda._video.Frame\u001b[0m\u001b[39m object at \u001b[0m\u001b[1;36m0x7f8eadc90358\u001b[0m\u001b[1m>\u001b[0m,                       \u001b[34m│\u001b[0m\n",
       "\u001b[34m│\u001b[0m                       \u001b[1m<\u001b[0m\u001b[1;95mpyuda._video.Frame\u001b[0m\u001b[39m object at \u001b[0m\u001b[1;36m0x7f8eadc90390\u001b[0m\u001b[1m>\u001b[0m,                       \u001b[34m│\u001b[0m\n",
       "\u001b[34m│\u001b[0m                       \u001b[1m<\u001b[0m\u001b[1;95mpyuda._video.Frame\u001b[0m\u001b[39m object at \u001b[0m\u001b[1;36m0x7f8eadc903c8\u001b[0m\u001b[1m>\u001b[0m,                       \u001b[34m│\u001b[0m\n",
       "\u001b[34m│\u001b[0m                       \u001b[1m<\u001b[0m\u001b[1;95mpyuda._video.Frame\u001b[0m\u001b[39m object at \u001b[0m\u001b[1;36m0x7f8eadc90400\u001b[0m\u001b[1m>\u001b[0m,                       \u001b[34m│\u001b[0m\n",
       "\u001b[34m│\u001b[0m                       \u001b[1m<\u001b[0m\u001b[1;95mpyuda._video.Frame\u001b[0m\u001b[39m object at \u001b[0m\u001b[1;36m0x7f8eadc90438\u001b[0m\u001b[1m>\u001b[0m,                       \u001b[34m│\u001b[0m\n",
       "\u001b[34m│\u001b[0m                       \u001b[1m<\u001b[0m\u001b[1;95mpyuda._video.Frame\u001b[0m\u001b[39m object at \u001b[0m\u001b[1;36m0x7f8eadc90470\u001b[0m\u001b[1m>\u001b[0m,                       \u001b[34m│\u001b[0m\n",
       "\u001b[34m│\u001b[0m                       \u001b[1m<\u001b[0m\u001b[1;95mpyuda._video.Frame\u001b[0m\u001b[39m object at \u001b[0m\u001b[1;36m0x7f8eadc904a8\u001b[0m\u001b[1m>\u001b[0m,                       \u001b[34m│\u001b[0m\n",
       "\u001b[34m│\u001b[0m                       \u001b[1m<\u001b[0m\u001b[1;95mpyuda._video.Frame\u001b[0m\u001b[39m object at \u001b[0m\u001b[1;36m0x7f8eadc904e0\u001b[0m\u001b[1m>\u001b[0m,                       \u001b[34m│\u001b[0m\n",
       "\u001b[34m│\u001b[0m                       \u001b[1m<\u001b[0m\u001b[1;95mpyuda._video.Frame\u001b[0m\u001b[39m object at \u001b[0m\u001b[1;36m0x7f8eadc90518\u001b[0m\u001b[1m>\u001b[0m,                       \u001b[34m│\u001b[0m\n",
       "\u001b[34m│\u001b[0m                       \u001b[1m<\u001b[0m\u001b[1;95mpyuda._video.Frame\u001b[0m\u001b[39m object at \u001b[0m\u001b[1;36m0x7f8eadc90550\u001b[0m\u001b[1m>\u001b[0m,                       \u001b[34m│\u001b[0m\n",
       "\u001b[34m│\u001b[0m                       \u001b[1m<\u001b[0m\u001b[1;95mpyuda._video.Frame\u001b[0m\u001b[39m object at \u001b[0m\u001b[1;36m0x7f8eadc90588\u001b[0m\u001b[1m>\u001b[0m,                       \u001b[34m│\u001b[0m\n",
       "\u001b[34m│\u001b[0m                       \u001b[1m<\u001b[0m\u001b[1;95mpyuda._video.Frame\u001b[0m\u001b[39m object at \u001b[0m\u001b[1;36m0x7f8eadc905c0\u001b[0m\u001b[1m>\u001b[0m,                       \u001b[34m│\u001b[0m\n",
       "\u001b[34m│\u001b[0m                       \u001b[1m<\u001b[0m\u001b[1;95mpyuda._video.Frame\u001b[0m\u001b[39m object at \u001b[0m\u001b[1;36m0x7f8eadc905f8\u001b[0m\u001b[1m>\u001b[0m,                       \u001b[34m│\u001b[0m\n",
       "\u001b[34m│\u001b[0m                       \u001b[1m<\u001b[0m\u001b[1;95mpyuda._video.Frame\u001b[0m\u001b[39m object at \u001b[0m\u001b[1;36m0x7f8eadc90630\u001b[0m\u001b[1m>\u001b[0m,                       \u001b[34m│\u001b[0m\n",
       "\u001b[34m│\u001b[0m                       \u001b[1m<\u001b[0m\u001b[1;95mpyuda._video.Frame\u001b[0m\u001b[39m object at \u001b[0m\u001b[1;36m0x7f8eadc90668\u001b[0m\u001b[1m>\u001b[0m,                       \u001b[34m│\u001b[0m\n",
       "\u001b[34m│\u001b[0m                       \u001b[1m<\u001b[0m\u001b[1;95mpyuda._video.Frame\u001b[0m\u001b[39m object at \u001b[0m\u001b[1;36m0x7f8eadc906a0\u001b[0m\u001b[1m>\u001b[0m,                       \u001b[34m│\u001b[0m\n",
       "\u001b[34m│\u001b[0m                       \u001b[1m<\u001b[0m\u001b[1;95mpyuda._video.Frame\u001b[0m\u001b[39m object at \u001b[0m\u001b[1;36m0x7f8eadc906d8\u001b[0m\u001b[1m>\u001b[0m,                       \u001b[34m│\u001b[0m\n",
       "\u001b[34m│\u001b[0m                       \u001b[1m<\u001b[0m\u001b[1;95mpyuda._video.Frame\u001b[0m\u001b[39m object at \u001b[0m\u001b[1;36m0x7f8eadc90710\u001b[0m\u001b[1m>\u001b[0m,                       \u001b[34m│\u001b[0m\n",
       "\u001b[34m│\u001b[0m                       \u001b[1m<\u001b[0m\u001b[1;95mpyuda._video.Frame\u001b[0m\u001b[39m object at \u001b[0m\u001b[1;36m0x7f8eadc90748\u001b[0m\u001b[1m>\u001b[0m,                       \u001b[34m│\u001b[0m\n",
       "\u001b[34m│\u001b[0m                       \u001b[1m<\u001b[0m\u001b[1;95mpyuda._video.Frame\u001b[0m\u001b[39m object at \u001b[0m\u001b[1;36m0x7f8eadc90780\u001b[0m\u001b[1m>\u001b[0m,                       \u001b[34m│\u001b[0m\n",
       "\u001b[34m│\u001b[0m                       \u001b[1m<\u001b[0m\u001b[1;95mpyuda._video.Frame\u001b[0m\u001b[39m object at \u001b[0m\u001b[1;36m0x7f8eadc907b8\u001b[0m\u001b[1m>\u001b[0m,                       \u001b[34m│\u001b[0m\n",
       "\u001b[34m│\u001b[0m                       \u001b[1m<\u001b[0m\u001b[1;95mpyuda._video.Frame\u001b[0m\u001b[39m object at \u001b[0m\u001b[1;36m0x7f8eadc907f0\u001b[0m\u001b[1m>\u001b[0m,                       \u001b[34m│\u001b[0m\n",
       "\u001b[34m│\u001b[0m                       \u001b[1m<\u001b[0m\u001b[1;95mpyuda._video.Frame\u001b[0m\u001b[39m object at \u001b[0m\u001b[1;36m0x7f8eadc90828\u001b[0m\u001b[1m>\u001b[0m,                       \u001b[34m│\u001b[0m\n",
       "\u001b[34m│\u001b[0m                       \u001b[1m<\u001b[0m\u001b[1;95mpyuda._video.Frame\u001b[0m\u001b[39m object at \u001b[0m\u001b[1;36m0x7f8eadc90860\u001b[0m\u001b[1m>\u001b[0m,                       \u001b[34m│\u001b[0m\n",
       "\u001b[34m│\u001b[0m                       \u001b[1m<\u001b[0m\u001b[1;95mpyuda._video.Frame\u001b[0m\u001b[39m object at \u001b[0m\u001b[1;36m0x7f8eadc90898\u001b[0m\u001b[1m>\u001b[0m,                       \u001b[34m│\u001b[0m\n",
       "\u001b[34m│\u001b[0m                       \u001b[1m<\u001b[0m\u001b[1;95mpyuda._video.Frame\u001b[0m\u001b[39m object at \u001b[0m\u001b[1;36m0x7f8eadc908d0\u001b[0m\u001b[1m>\u001b[0m,                       \u001b[34m│\u001b[0m\n",
       "\u001b[34m│\u001b[0m                       \u001b[1m<\u001b[0m\u001b[1;95mpyuda._video.Frame\u001b[0m\u001b[39m object at \u001b[0m\u001b[1;36m0x7f8eadc90908\u001b[0m\u001b[1m>\u001b[0m,                       \u001b[34m│\u001b[0m\n",
       "\u001b[34m│\u001b[0m                       \u001b[1m<\u001b[0m\u001b[1;95mpyuda._video.Frame\u001b[0m\u001b[39m object at \u001b[0m\u001b[1;36m0x7f8eadc90940\u001b[0m\u001b[1m>\u001b[0m,                       \u001b[34m│\u001b[0m\n",
       "\u001b[34m│\u001b[0m                       \u001b[1m<\u001b[0m\u001b[1;95mpyuda._video.Frame\u001b[0m\u001b[39m object at \u001b[0m\u001b[1;36m0x7f8eadc90978\u001b[0m\u001b[1m>\u001b[0m,                       \u001b[34m│\u001b[0m\n",
       "\u001b[34m│\u001b[0m                       \u001b[1m<\u001b[0m\u001b[1;95mpyuda._video.Frame\u001b[0m\u001b[39m object at \u001b[0m\u001b[1;36m0x7f8eadc909b0\u001b[0m\u001b[1m>\u001b[0m,                       \u001b[34m│\u001b[0m\n",
       "\u001b[34m│\u001b[0m                       \u001b[1m<\u001b[0m\u001b[1;95mpyuda._video.Frame\u001b[0m\u001b[39m object at \u001b[0m\u001b[1;36m0x7f8eadc909e8\u001b[0m\u001b[1m>\u001b[0m,                       \u001b[34m│\u001b[0m\n",
       "\u001b[34m│\u001b[0m                       \u001b[1m<\u001b[0m\u001b[1;95mpyuda._video.Frame\u001b[0m\u001b[39m object at \u001b[0m\u001b[1;36m0x7f8eadc90a20\u001b[0m\u001b[1m>\u001b[0m,                       \u001b[34m│\u001b[0m\n",
       "\u001b[34m│\u001b[0m                       \u001b[1m<\u001b[0m\u001b[1;95mpyuda._video.Frame\u001b[0m\u001b[39m object at \u001b[0m\u001b[1;36m0x7f8eadc90a58\u001b[0m\u001b[1m>\u001b[0m,                       \u001b[34m│\u001b[0m\n",
       "\u001b[34m│\u001b[0m                       \u001b[1m<\u001b[0m\u001b[1;95mpyuda._video.Frame\u001b[0m\u001b[39m object at \u001b[0m\u001b[1;36m0x7f8eadc90a90\u001b[0m\u001b[1m>\u001b[0m,                       \u001b[34m│\u001b[0m\n",
       "\u001b[34m│\u001b[0m                       \u001b[1m<\u001b[0m\u001b[1;95mpyuda._video.Frame\u001b[0m\u001b[39m object at \u001b[0m\u001b[1;36m0x7f8eadc90ac8\u001b[0m\u001b[1m>\u001b[0m,                       \u001b[34m│\u001b[0m\n",
       "\u001b[34m│\u001b[0m                       \u001b[1m<\u001b[0m\u001b[1;95mpyuda._video.Frame\u001b[0m\u001b[39m object at \u001b[0m\u001b[1;36m0x7f8eadc90b00\u001b[0m\u001b[1m>\u001b[0m,                       \u001b[34m│\u001b[0m\n",
       "\u001b[34m│\u001b[0m                       \u001b[1m<\u001b[0m\u001b[1;95mpyuda._video.Frame\u001b[0m\u001b[39m object at \u001b[0m\u001b[1;36m0x7f8eadc90b38\u001b[0m\u001b[1m>\u001b[0m,                       \u001b[34m│\u001b[0m\n",
       "\u001b[34m│\u001b[0m                       \u001b[1m<\u001b[0m\u001b[1;95mpyuda._video.Frame\u001b[0m\u001b[39m object at \u001b[0m\u001b[1;36m0x7f8eadc90b70\u001b[0m\u001b[1m>\u001b[0m,                       \u001b[34m│\u001b[0m\n",
       "\u001b[34m│\u001b[0m                       \u001b[1m<\u001b[0m\u001b[1;95mpyuda._video.Frame\u001b[0m\u001b[39m object at \u001b[0m\u001b[1;36m0x7f8eadc90ba8\u001b[0m\u001b[1m>\u001b[0m,                       \u001b[34m│\u001b[0m\n",
       "\u001b[34m│\u001b[0m                       \u001b[1m<\u001b[0m\u001b[1;95mpyuda._video.Frame\u001b[0m\u001b[39m object at \u001b[0m\u001b[1;36m0x7f8eadc90be0\u001b[0m\u001b[1m>\u001b[0m,                       \u001b[34m│\u001b[0m\n",
       "\u001b[34m│\u001b[0m                       \u001b[1m<\u001b[0m\u001b[1;95mpyuda._video.Frame\u001b[0m\u001b[39m object at \u001b[0m\u001b[1;36m0x7f8eadc90c18\u001b[0m\u001b[1m>\u001b[0m,                       \u001b[34m│\u001b[0m\n",
       "\u001b[34m│\u001b[0m                       \u001b[1m<\u001b[0m\u001b[1;95mpyuda._video.Frame\u001b[0m\u001b[39m object at \u001b[0m\u001b[1;36m0x7f8eadc90c50\u001b[0m\u001b[1m>\u001b[0m,                       \u001b[34m│\u001b[0m\n",
       "\u001b[34m│\u001b[0m                       \u001b[1m<\u001b[0m\u001b[1;95mpyuda._video.Frame\u001b[0m\u001b[39m object at \u001b[0m\u001b[1;36m0x7f8eadc90c88\u001b[0m\u001b[1m>\u001b[0m,                       \u001b[34m│\u001b[0m\n",
       "\u001b[34m│\u001b[0m                       \u001b[1m<\u001b[0m\u001b[1;95mpyuda._video.Frame\u001b[0m\u001b[39m object at \u001b[0m\u001b[1;36m0x7f8eadc90cc0\u001b[0m\u001b[1m>\u001b[0m,                       \u001b[34m│\u001b[0m\n",
       "\u001b[34m│\u001b[0m                       \u001b[1m<\u001b[0m\u001b[1;95mpyuda._video.Frame\u001b[0m\u001b[39m object at \u001b[0m\u001b[1;36m0x7f8eadc90cf8\u001b[0m\u001b[1m>\u001b[0m,                       \u001b[34m│\u001b[0m\n",
       "\u001b[34m│\u001b[0m                       \u001b[1m<\u001b[0m\u001b[1;95mpyuda._video.Frame\u001b[0m\u001b[39m object at \u001b[0m\u001b[1;36m0x7f8eadc90d30\u001b[0m\u001b[1m>\u001b[0m,                       \u001b[34m│\u001b[0m\n",
       "\u001b[34m│\u001b[0m                       \u001b[1m<\u001b[0m\u001b[1;95mpyuda._video.Frame\u001b[0m\u001b[39m object at \u001b[0m\u001b[1;36m0x7f8eadc90d68\u001b[0m\u001b[1m>\u001b[0m,                       \u001b[34m│\u001b[0m\n",
       "\u001b[34m│\u001b[0m                       \u001b[1m<\u001b[0m\u001b[1;95mpyuda._video.Frame\u001b[0m\u001b[39m object at \u001b[0m\u001b[1;36m0x7f8eadc90da0\u001b[0m\u001b[1m>\u001b[0m,                       \u001b[34m│\u001b[0m\n",
       "\u001b[34m│\u001b[0m                       \u001b[1m<\u001b[0m\u001b[1;95mpyuda._video.Frame\u001b[0m\u001b[39m object at \u001b[0m\u001b[1;36m0x7f8eadc90dd8\u001b[0m\u001b[1m>\u001b[0m,                       \u001b[34m│\u001b[0m\n",
       "\u001b[34m│\u001b[0m                       \u001b[1m<\u001b[0m\u001b[1;95mpyuda._video.Frame\u001b[0m\u001b[39m object at \u001b[0m\u001b[1;36m0x7f8eadc90e10\u001b[0m\u001b[1m>\u001b[0m,                       \u001b[34m│\u001b[0m\n",
       "\u001b[34m│\u001b[0m                       \u001b[1m<\u001b[0m\u001b[1;95mpyuda._video.Frame\u001b[0m\u001b[39m object at \u001b[0m\u001b[1;36m0x7f8eadc90e48\u001b[0m\u001b[1m>\u001b[0m,                       \u001b[34m│\u001b[0m\n",
       "\u001b[34m│\u001b[0m                       \u001b[1m<\u001b[0m\u001b[1;95mpyuda._video.Frame\u001b[0m\u001b[39m object at \u001b[0m\u001b[1;36m0x7f8eadc90e80\u001b[0m\u001b[1m>\u001b[0m,                       \u001b[34m│\u001b[0m\n",
       "\u001b[34m│\u001b[0m                       \u001b[1m<\u001b[0m\u001b[1;95mpyuda._video.Frame\u001b[0m\u001b[39m object at \u001b[0m\u001b[1;36m0x7f8eadc90eb8\u001b[0m\u001b[1m>\u001b[0m,                       \u001b[34m│\u001b[0m\n",
       "\u001b[34m│\u001b[0m                       \u001b[1m<\u001b[0m\u001b[1;95mpyuda._video.Frame\u001b[0m\u001b[39m object at \u001b[0m\u001b[1;36m0x7f8eadc90ef0\u001b[0m\u001b[1m>\u001b[0m,                       \u001b[34m│\u001b[0m\n",
       "\u001b[34m│\u001b[0m                       \u001b[1m<\u001b[0m\u001b[1;95mpyuda._video.Frame\u001b[0m\u001b[39m object at \u001b[0m\u001b[1;36m0x7f8eadc90f28\u001b[0m\u001b[1m>\u001b[0m,                       \u001b[34m│\u001b[0m\n",
       "\u001b[34m│\u001b[0m                       \u001b[1m<\u001b[0m\u001b[1;95mpyuda._video.Frame\u001b[0m\u001b[39m object at \u001b[0m\u001b[1;36m0x7f8eadc90f60\u001b[0m\u001b[1m>\u001b[0m,                       \u001b[34m│\u001b[0m\n",
       "\u001b[34m│\u001b[0m                       \u001b[1m<\u001b[0m\u001b[1;95mpyuda._video.Frame\u001b[0m\u001b[39m object at \u001b[0m\u001b[1;36m0x7f8eadc90f98\u001b[0m\u001b[1m>\u001b[0m,                       \u001b[34m│\u001b[0m\n",
       "\u001b[34m│\u001b[0m                       \u001b[1m<\u001b[0m\u001b[1;95mpyuda._video.Frame\u001b[0m\u001b[39m object at \u001b[0m\u001b[1;36m0x7f8eadc90fd0\u001b[0m\u001b[1m>\u001b[0m,                       \u001b[34m│\u001b[0m\n",
       "\u001b[34m│\u001b[0m                       \u001b[1m<\u001b[0m\u001b[1;95mpyuda._video.Frame\u001b[0m\u001b[39m object at \u001b[0m\u001b[1;36m0x7f8eadc95048\u001b[0m\u001b[1m>\u001b[0m,                       \u001b[34m│\u001b[0m\n",
       "\u001b[34m│\u001b[0m                       \u001b[1m<\u001b[0m\u001b[1;95mpyuda._video.Frame\u001b[0m\u001b[39m object at \u001b[0m\u001b[1;36m0x7f8eadc95080\u001b[0m\u001b[1m>\u001b[0m,                       \u001b[34m│\u001b[0m\n",
       "\u001b[34m│\u001b[0m                       \u001b[1m<\u001b[0m\u001b[1;95mpyuda._video.Frame\u001b[0m\u001b[39m object at \u001b[0m\u001b[1;36m0x7f8eadc950b8\u001b[0m\u001b[1m>\u001b[0m,                       \u001b[34m│\u001b[0m\n",
       "\u001b[34m│\u001b[0m                       \u001b[1m<\u001b[0m\u001b[1;95mpyuda._video.Frame\u001b[0m\u001b[39m object at \u001b[0m\u001b[1;36m0x7f8eadc950f0\u001b[0m\u001b[1m>\u001b[0m,                       \u001b[34m│\u001b[0m\n",
       "\u001b[34m│\u001b[0m                       \u001b[1m<\u001b[0m\u001b[1;95mpyuda._video.Frame\u001b[0m\u001b[39m object at \u001b[0m\u001b[1;36m0x7f8eadc95128\u001b[0m\u001b[1m>\u001b[0m,                       \u001b[34m│\u001b[0m\n",
       "\u001b[34m│\u001b[0m                       \u001b[1m<\u001b[0m\u001b[1;95mpyuda._video.Frame\u001b[0m\u001b[39m object at \u001b[0m\u001b[1;36m0x7f8eadc95160\u001b[0m\u001b[1m>\u001b[0m,                       \u001b[34m│\u001b[0m\n",
       "\u001b[34m│\u001b[0m                       \u001b[1m<\u001b[0m\u001b[1;95mpyuda._video.Frame\u001b[0m\u001b[39m object at \u001b[0m\u001b[1;36m0x7f8eadc95198\u001b[0m\u001b[1m>\u001b[0m,                       \u001b[34m│\u001b[0m\n",
       "\u001b[34m│\u001b[0m                       \u001b[1m<\u001b[0m\u001b[1;95mpyuda._video.Frame\u001b[0m\u001b[39m object at \u001b[0m\u001b[1;36m0x7f8eadc951d0\u001b[0m\u001b[1m>\u001b[0m,                       \u001b[34m│\u001b[0m\n",
       "\u001b[34m│\u001b[0m                       \u001b[1m<\u001b[0m\u001b[1;95mpyuda._video.Frame\u001b[0m\u001b[39m object at \u001b[0m\u001b[1;36m0x7f8eadc95208\u001b[0m\u001b[1m>\u001b[0m,                       \u001b[34m│\u001b[0m\n",
       "\u001b[34m│\u001b[0m                       \u001b[1m<\u001b[0m\u001b[1;95mpyuda._video.Frame\u001b[0m\u001b[39m object at \u001b[0m\u001b[1;36m0x7f8eadc95240\u001b[0m\u001b[1m>\u001b[0m,                       \u001b[34m│\u001b[0m\n",
       "\u001b[34m│\u001b[0m                       \u001b[1m<\u001b[0m\u001b[1;95mpyuda._video.Frame\u001b[0m\u001b[39m object at \u001b[0m\u001b[1;36m0x7f8eadc95278\u001b[0m\u001b[1m>\u001b[0m                        \u001b[34m│\u001b[0m\n",
       "\u001b[34m│\u001b[0m                   \u001b[1m]\u001b[0m                                                                        \u001b[34m│\u001b[0m\n",
       "\u001b[34m│\u001b[0m          \u001b[3;33mheight\u001b[0m = \u001b[1;36m36\u001b[0m                                                                       \u001b[34m│\u001b[0m\n",
       "\u001b[34m│\u001b[0m              \u001b[3;33mid\u001b[0m = \u001b[32m'CXR 01'\u001b[0m                                                                 \u001b[34m│\u001b[0m\n",
       "\u001b[34m│\u001b[0m        \u001b[3;33mis_color\u001b[0m = \u001b[1;36m0\u001b[0m                                                                        \u001b[34m│\u001b[0m\n",
       "\u001b[34m│\u001b[0m      \u001b[3;33mn_channels\u001b[0m = \u001b[1;36m4\u001b[0m                                                                        \u001b[34m│\u001b[0m\n",
       "\u001b[34m│\u001b[0m        \u001b[3;33mn_frames\u001b[0m = \u001b[1;36m130\u001b[0m                                                                      \u001b[34m│\u001b[0m\n",
       "\u001b[34m│\u001b[0m      \u001b[3;33mn_i2m_rows\u001b[0m = \u001b[1;36m250\u001b[0m                                                                      \u001b[34m│\u001b[0m\n",
       "\u001b[34m│\u001b[0m  \u001b[3;33mn_notch_pulses\u001b[0m = \u001b[1;36m0\u001b[0m                                                                        \u001b[34m│\u001b[0m\n",
       "\u001b[34m│\u001b[0m           \u001b[3;33mn_roi\u001b[0m = \u001b[1;36m5\u001b[0m                                                                        \u001b[34m│\u001b[0m\n",
       "\u001b[34m│\u001b[0m        \u001b[3;33mopen_flc\u001b[0m = \u001b[1;36m0\u001b[0m                                                                        \u001b[34m│\u001b[0m\n",
       "\u001b[34m│\u001b[0m  \u001b[3;33mopen_flc_delay\u001b[0m = \u001b[1;36m0\u001b[0m                                                                        \u001b[34m│\u001b[0m\n",
       "\u001b[34m│\u001b[0m     \u001b[3;33morientation\u001b[0m = \u001b[1;36m2231306\u001b[0m                                                                  \u001b[34m│\u001b[0m\n",
       "\u001b[34m│\u001b[0m        \u001b[3;33mprom_set\u001b[0m = \u001b[1;35marray\u001b[0m\u001b[1m(\u001b[0m\u001b[1m[\u001b[0m\u001b[1;36m254\u001b[0m,   \u001b[1;36m1\u001b[0m,   \u001b[1;36m1\u001b[0m,   \u001b[1;36m0\u001b[0m\u001b[1m]\u001b[0m, \u001b[33mdtype\u001b[0m=\u001b[35mint32\u001b[0m\u001b[1m)\u001b[0m                                 \u001b[34m│\u001b[0m\n",
       "\u001b[34m│\u001b[0m        \u001b[3;33mread_out\u001b[0m = \u001b[1;36m3.3844000000000003\u001b[0m                                                       \u001b[34m│\u001b[0m\n",
       "\u001b[34m│\u001b[0m            \u001b[3;33mshot\u001b[0m = \u001b[1;36m30420\u001b[0m                                                                    \u001b[34m│\u001b[0m\n",
       "\u001b[34m│\u001b[0m        \u001b[3;33mtemp_set\u001b[0m = \u001b[1;36m96\u001b[0m                                                                       \u001b[34m│\u001b[0m\n",
       "\u001b[34m│\u001b[0m        \u001b[3;33mtime_out\u001b[0m = \u001b[1;36m10000\u001b[0m                                                                    \u001b[34m│\u001b[0m\n",
       "\u001b[34m│\u001b[0m      \u001b[3;33mtrig_pulse\u001b[0m = \u001b[1;36m999983.0\u001b[0m                                                                 \u001b[34m│\u001b[0m\n",
       "\u001b[34m│\u001b[0m           \u001b[3;33mwidth\u001b[0m = \u001b[1;36m684\u001b[0m                                                                      \u001b[34m│\u001b[0m\n",
       "\u001b[34m│\u001b[0m           \u001b[3;33mx_roi\u001b[0m = \u001b[1;35marray\u001b[0m\u001b[1m(\u001b[0m\u001b[1m[\u001b[0m  \u001b[1;36m0\u001b[0m, \u001b[1;36m342\u001b[0m,   \u001b[1;36m1\u001b[0m\u001b[1m]\u001b[0m, \u001b[33mdtype\u001b[0m=\u001b[35mint32\u001b[0m\u001b[1m)\u001b[0m                                      \u001b[34m│\u001b[0m\n",
       "\u001b[34m│\u001b[0m           \u001b[3;33my_roi\u001b[0m = \u001b[1;35marray\u001b[0m\u001b[1m(\u001b[0m\u001b[1m[\u001b[0m\u001b[1m[\u001b[0m  \u001b[1;36m0\u001b[0m,   \u001b[1;36m0\u001b[0m,   \u001b[1;36m1\u001b[0m,   \u001b[1;36m1\u001b[0m,   \u001b[1;36m0\u001b[0m,  \u001b[1;36m11\u001b[0m,  \u001b[1;36m11\u001b[0m,   \u001b[1;36m1\u001b[0m,  \u001b[1;36m11\u001b[0m, \u001b[1;36m105\u001b[0m,  \u001b[1;36m15\u001b[0m,   \u001b[1;36m1\u001b[0m, \u001b[1;36m116\u001b[0m, \u001b[34m│\u001b[0m\n",
       "\u001b[34m│\u001b[0m                            \u001b[1;36m32\u001b[0m,  \u001b[1;36m16\u001b[0m,   \u001b[1;36m1\u001b[0m, \u001b[1;36m148\u001b[0m, \u001b[1;36m120\u001b[0m,  \u001b[1;36m15\u001b[0m,   \u001b[1;36m2\u001b[0m,   \u001b[1;36m0\u001b[0m,   \u001b[1;36m0\u001b[0m,   \u001b[1;36m0\u001b[0m,   \u001b[1;36m0\u001b[0m,   \u001b[1;36m0\u001b[0m,   \u001b[1;36m0\u001b[0m, \u001b[34m│\u001b[0m\n",
       "\u001b[34m│\u001b[0m                             \u001b[1;36m0\u001b[0m,   \u001b[1;36m0\u001b[0m,   \u001b[1;36m0\u001b[0m,   \u001b[1;36m0\u001b[0m,   \u001b[1;36m0\u001b[0m,   \u001b[1;36m0\u001b[0m\u001b[1m]\u001b[0m,                                   \u001b[34m│\u001b[0m\n",
       "\u001b[34m│\u001b[0m                          \u001b[1m[\u001b[0m  \u001b[1;36m0\u001b[0m,   \u001b[1;36m0\u001b[0m,   \u001b[1;36m0\u001b[0m,   \u001b[1;36m0\u001b[0m,   \u001b[1;36m0\u001b[0m,   \u001b[1;36m0\u001b[0m,   \u001b[1;36m0\u001b[0m,   \u001b[1;36m0\u001b[0m,   \u001b[1;36m0\u001b[0m,   \u001b[1;36m0\u001b[0m,   \u001b[1;36m0\u001b[0m,   \u001b[1;36m0\u001b[0m,   \u001b[1;36m0\u001b[0m, \u001b[34m│\u001b[0m\n",
       "\u001b[34m│\u001b[0m                             \u001b[1;36m0\u001b[0m,   \u001b[1;36m0\u001b[0m,   \u001b[1;36m0\u001b[0m,   \u001b[1;36m0\u001b[0m,   \u001b[1;36m0\u001b[0m,   \u001b[1;36m0\u001b[0m,   \u001b[1;36m0\u001b[0m,   \u001b[1;36m0\u001b[0m,   \u001b[1;36m0\u001b[0m,   \u001b[1;36m0\u001b[0m,   \u001b[1;36m0\u001b[0m,   \u001b[1;36m0\u001b[0m,   \u001b[1;36m0\u001b[0m, \u001b[34m│\u001b[0m\n",
       "\u001b[34m│\u001b[0m                             \u001b[1;36m0\u001b[0m,   \u001b[1;36m0\u001b[0m,   \u001b[1;36m0\u001b[0m,   \u001b[1;36m0\u001b[0m,   \u001b[1;36m0\u001b[0m,   \u001b[1;36m0\u001b[0m\u001b[1m]\u001b[0m,                                   \u001b[34m│\u001b[0m\n",
       "\u001b[34m│\u001b[0m                          \u001b[1m[\u001b[0m  \u001b[1;36m0\u001b[0m,   \u001b[1;36m0\u001b[0m,   \u001b[1;36m0\u001b[0m,   \u001b[1;36m0\u001b[0m,   \u001b[1;36m0\u001b[0m,   \u001b[1;36m0\u001b[0m,   \u001b[1;36m0\u001b[0m,   \u001b[1;36m0\u001b[0m,   \u001b[1;36m0\u001b[0m,   \u001b[1;36m0\u001b[0m,   \u001b[1;36m0\u001b[0m,   \u001b[1;36m0\u001b[0m,   \u001b[1;36m0\u001b[0m, \u001b[34m│\u001b[0m\n",
       "\u001b[34m│\u001b[0m                             \u001b[1;36m0\u001b[0m,   \u001b[1;36m0\u001b[0m,   \u001b[1;36m0\u001b[0m,   \u001b[1;36m0\u001b[0m,   \u001b[1;36m0\u001b[0m,   \u001b[1;36m0\u001b[0m,   \u001b[1;36m0\u001b[0m,   \u001b[1;36m0\u001b[0m,   \u001b[1;36m0\u001b[0m,   \u001b[1;36m0\u001b[0m,   \u001b[1;36m0\u001b[0m,   \u001b[1;36m0\u001b[0m,   \u001b[1;36m0\u001b[0m, \u001b[34m│\u001b[0m\n",
       "\u001b[34m│\u001b[0m                             \u001b[1;36m0\u001b[0m,   \u001b[1;36m0\u001b[0m,   \u001b[1;36m0\u001b[0m,   \u001b[1;36m0\u001b[0m,   \u001b[1;36m0\u001b[0m,   \u001b[1;36m0\u001b[0m\u001b[1m]\u001b[0m,                                   \u001b[34m│\u001b[0m\n",
       "\u001b[34m│\u001b[0m                          \u001b[1m[\u001b[0m  \u001b[1;36m0\u001b[0m,   \u001b[1;36m0\u001b[0m,   \u001b[1;36m0\u001b[0m,   \u001b[1;36m0\u001b[0m,   \u001b[1;36m0\u001b[0m,   \u001b[1;36m0\u001b[0m,   \u001b[1;36m0\u001b[0m,   \u001b[1;36m0\u001b[0m,   \u001b[1;36m0\u001b[0m,   \u001b[1;36m0\u001b[0m,   \u001b[1;36m0\u001b[0m,   \u001b[1;36m0\u001b[0m,   \u001b[1;36m0\u001b[0m, \u001b[34m│\u001b[0m\n",
       "\u001b[34m│\u001b[0m                             \u001b[1;36m0\u001b[0m,   \u001b[1;36m0\u001b[0m,   \u001b[1;36m0\u001b[0m,   \u001b[1;36m0\u001b[0m,   \u001b[1;36m0\u001b[0m,   \u001b[1;36m0\u001b[0m,   \u001b[1;36m0\u001b[0m,   \u001b[1;36m0\u001b[0m,   \u001b[1;36m0\u001b[0m,   \u001b[1;36m0\u001b[0m,   \u001b[1;36m0\u001b[0m,   \u001b[1;36m0\u001b[0m,   \u001b[1;36m0\u001b[0m, \u001b[34m│\u001b[0m\n",
       "\u001b[34m│\u001b[0m                             \u001b[1;36m0\u001b[0m,   \u001b[1;36m0\u001b[0m,   \u001b[1;36m0\u001b[0m,   \u001b[1;36m0\u001b[0m,   \u001b[1;36m0\u001b[0m,   \u001b[1;36m0\u001b[0m\u001b[1m]\u001b[0m\u001b[1m]\u001b[0m, \u001b[33mdtype\u001b[0m=\u001b[35mint32\u001b[0m\u001b[1m)\u001b[0m                     \u001b[34m│\u001b[0m\n",
       "\u001b[34m╰────────────────────────────────────────────────────────────────────────────────────────────╯\u001b[0m\n"
      ]
     },
     "metadata": {},
     "output_type": "display_data"
    }
   ],
   "source": [
    "data = client.get_images(\"rcc\", shot_3)\n",
    "inspect(data, docs=False)"
   ]
  },
  {
   "cell_type": "markdown",
   "id": "d1bb76f9",
   "metadata": {},
   "source": [
    "### Sources & Data in *NIDA* format"
   ]
  },
  {
   "cell_type": "markdown",
   "id": "11ed7c76",
   "metadata": {},
   "source": [
    "*NIDA* should not be in **_Raw_** `SOURCE` types. Following the same approach as for other formats, one can see that some of such `SOURCES` don't have meaningful description, when we inspect it. UDA API is also not able to access the data, although can get some mets file information, which involves path to the data. Unfortunately, currently, we cannot access this either."
   ]
  },
  {
   "cell_type": "code",
   "execution_count": 53,
   "id": "45bb3a9a",
   "metadata": {},
   "outputs": [
    {
     "data": {
      "text/html": [
       "<pre style=\"white-space:pre;overflow-x:auto;line-height:normal;font-family:Menlo,'DejaVu Sans Mono',consolas,'Courier New',monospace\"><span style=\"color: #000080; text-decoration-color: #000080\">╭──────────────────────────────────── </span><span style=\"color: #000080; text-decoration-color: #000080; font-weight: bold\">&lt;</span><span style=\"color: #ff00ff; text-decoration-color: #ff00ff; font-weight: bold\">class</span><span style=\"color: #000000; text-decoration-color: #000000\"> </span><span style=\"color: #008000; text-decoration-color: #008000\">'list'</span><span style=\"color: #000080; text-decoration-color: #000080; font-weight: bold\">&gt;</span><span style=\"color: #000080; text-decoration-color: #000080\"> ─────────────────────────────────────╮</span>\n",
       "<span style=\"color: #000080; text-decoration-color: #000080\">│</span> <span style=\"color: #008000; text-decoration-color: #008000\">╭─────────────────────────────────────────────────────────────────────────────────────╮</span> <span style=\"color: #000080; text-decoration-color: #000080\">│</span>\n",
       "<span style=\"color: #000080; text-decoration-color: #000080\">│</span> <span style=\"color: #008000; text-decoration-color: #008000\">│</span> <span style=\"font-weight: bold\">[</span>                                                                                   <span style=\"color: #008000; text-decoration-color: #008000\">│</span> <span style=\"color: #000080; text-decoration-color: #000080\">│</span>\n",
       "<span style=\"color: #000080; text-decoration-color: #000080\">│</span> <span style=\"color: #008000; text-decoration-color: #008000\">│</span> <span style=\"color: #7fbf7f; text-decoration-color: #7fbf7f\">│   </span><span style=\"color: #800080; text-decoration-color: #800080; font-weight: bold\">ListData</span><span style=\"font-weight: bold\">(</span>                                                                       <span style=\"color: #008000; text-decoration-color: #008000\">│</span> <span style=\"color: #000080; text-decoration-color: #000080\">│</span>\n",
       "<span style=\"color: #000080; text-decoration-color: #000080\">│</span> <span style=\"color: #008000; text-decoration-color: #008000\">│</span> <span style=\"color: #7fbf7f; text-decoration-color: #7fbf7f\">│   │   </span><span style=\"color: #808000; text-decoration-color: #808000\">shot</span>=<span style=\"color: #008080; text-decoration-color: #008080; font-weight: bold\">27933</span>,                                                                 <span style=\"color: #008000; text-decoration-color: #008000\">│</span> <span style=\"color: #000080; text-decoration-color: #000080\">│</span>\n",
       "<span style=\"color: #000080; text-decoration-color: #000080\">│</span> <span style=\"color: #008000; text-decoration-color: #008000\">│</span> <span style=\"color: #7fbf7f; text-decoration-color: #7fbf7f\">│   │   </span><span style=\"color: #808000; text-decoration-color: #808000\">pass_</span>=<span style=\"color: #008080; text-decoration-color: #008080; font-weight: bold\">-1</span>,                                                                   <span style=\"color: #008000; text-decoration-color: #008000\">│</span> <span style=\"color: #000080; text-decoration-color: #000080\">│</span>\n",
       "<span style=\"color: #000080; text-decoration-color: #000080\">│</span> <span style=\"color: #008000; text-decoration-color: #008000\">│</span> <span style=\"color: #7fbf7f; text-decoration-color: #7fbf7f\">│   │   </span><span style=\"color: #808000; text-decoration-color: #808000\">status</span>=<span style=\"color: #008080; text-decoration-color: #008080; font-weight: bold\">1</span>,                                                                   <span style=\"color: #008000; text-decoration-color: #008000\">│</span> <span style=\"color: #000080; text-decoration-color: #000080\">│</span>\n",
       "<span style=\"color: #000080; text-decoration-color: #000080\">│</span> <span style=\"color: #008000; text-decoration-color: #008000\">│</span> <span style=\"color: #7fbf7f; text-decoration-color: #7fbf7f\">│   │   </span><span style=\"color: #808000; text-decoration-color: #808000\">source_alias</span>=<span style=\"color: #008000; text-decoration-color: #008000\">'xmw'</span>,                                                         <span style=\"color: #008000; text-decoration-color: #008000\">│</span> <span style=\"color: #000080; text-decoration-color: #000080\">│</span>\n",
       "<span style=\"color: #000080; text-decoration-color: #000080\">│</span> <span style=\"color: #008000; text-decoration-color: #008000\">│</span> <span style=\"color: #7fbf7f; text-decoration-color: #7fbf7f\">│   │   </span><span style=\"color: #808000; text-decoration-color: #808000\">format</span>=<span style=\"color: #008000; text-decoration-color: #008000\">'NIDA'</span>,                                                              <span style=\"color: #008000; text-decoration-color: #008000\">│</span> <span style=\"color: #000080; text-decoration-color: #000080\">│</span>\n",
       "<span style=\"color: #000080; text-decoration-color: #000080\">│</span> <span style=\"color: #008000; text-decoration-color: #008000\">│</span> <span style=\"color: #7fbf7f; text-decoration-color: #7fbf7f\">│   │   </span><span style=\"color: #808000; text-decoration-color: #808000\">filename</span>=<span style=\"color: #008000; text-decoration-color: #008000\">'xmw0279.33'</span>,                                                      <span style=\"color: #008000; text-decoration-color: #008000\">│</span> <span style=\"color: #000080; text-decoration-color: #000080\">│</span>\n",
       "<span style=\"color: #000080; text-decoration-color: #000080\">│</span> <span style=\"color: #008000; text-decoration-color: #008000\">│</span> <span style=\"color: #7fbf7f; text-decoration-color: #7fbf7f\">│   │   </span><span style=\"color: #808000; text-decoration-color: #808000\">type</span>=<span style=\"color: #008000; text-decoration-color: #008000\">'Raw'</span>,                                                                 <span style=\"color: #008000; text-decoration-color: #008000\">│</span> <span style=\"color: #000080; text-decoration-color: #000080\">│</span>\n",
       "<span style=\"color: #000080; text-decoration-color: #000080\">│</span> <span style=\"color: #008000; text-decoration-color: #008000\">│</span> <span style=\"color: #7fbf7f; text-decoration-color: #7fbf7f\">│   │   </span><span style=\"color: #808000; text-decoration-color: #808000\">description</span>=<span style=\"color: #008000; text-decoration-color: #008000\">'Share the knowledge - If you know what this is, let me know!'</span>, <span style=\"color: #008000; text-decoration-color: #008000\">│</span> <span style=\"color: #000080; text-decoration-color: #000080\">│</span>\n",
       "<span style=\"color: #000080; text-decoration-color: #000080\">│</span> <span style=\"color: #008000; text-decoration-color: #008000\">│</span> <span style=\"color: #7fbf7f; text-decoration-color: #7fbf7f\">│   │   </span><span style=\"color: #808000; text-decoration-color: #808000\">run_id</span>=<span style=\"color: #008080; text-decoration-color: #008080; font-weight: bold\">-1</span>                                                                   <span style=\"color: #008000; text-decoration-color: #008000\">│</span> <span style=\"color: #000080; text-decoration-color: #000080\">│</span>\n",
       "<span style=\"color: #000080; text-decoration-color: #000080\">│</span> <span style=\"color: #008000; text-decoration-color: #008000\">│</span> <span style=\"color: #7fbf7f; text-decoration-color: #7fbf7f\">│   </span><span style=\"font-weight: bold\">)</span>                                                                               <span style=\"color: #008000; text-decoration-color: #008000\">│</span> <span style=\"color: #000080; text-decoration-color: #000080\">│</span>\n",
       "<span style=\"color: #000080; text-decoration-color: #000080\">│</span> <span style=\"color: #008000; text-decoration-color: #008000\">│</span> <span style=\"font-weight: bold\">]</span>                                                                                   <span style=\"color: #008000; text-decoration-color: #008000\">│</span> <span style=\"color: #000080; text-decoration-color: #000080\">│</span>\n",
       "<span style=\"color: #000080; text-decoration-color: #000080\">│</span> <span style=\"color: #008000; text-decoration-color: #008000\">╰─────────────────────────────────────────────────────────────────────────────────────╯</span> <span style=\"color: #000080; text-decoration-color: #000080\">│</span>\n",
       "<span style=\"color: #000080; text-decoration-color: #000080\">│</span>                                                                                         <span style=\"color: #000080; text-decoration-color: #000080\">│</span>\n",
       "<span style=\"color: #000080; text-decoration-color: #000080\">│</span> <span style=\"color: #008080; text-decoration-color: #008080; font-weight: bold\">35</span><span style=\"font-style: italic\"> attribute(s) not shown.</span> Run <span style=\"color: #800080; text-decoration-color: #800080; font-weight: bold\">inspect</span><span style=\"font-weight: bold\">(</span>inspect<span style=\"font-weight: bold\">)</span> for options.                            <span style=\"color: #000080; text-decoration-color: #000080\">│</span>\n",
       "<span style=\"color: #000080; text-decoration-color: #000080\">╰─────────────────────────────────────────────────────────────────────────────────────────╯</span>\n",
       "</pre>\n"
      ],
      "text/plain": [
       "\u001b[34m╭─\u001b[0m\u001b[34m─────────────────────────────────── \u001b[0m\u001b[1;34m<\u001b[0m\u001b[1;95mclass\u001b[0m\u001b[39m \u001b[0m\u001b[32m'list'\u001b[0m\u001b[1;34m>\u001b[0m\u001b[34m ────────────────────────────────────\u001b[0m\u001b[34m─╮\u001b[0m\n",
       "\u001b[34m│\u001b[0m \u001b[32m╭─────────────────────────────────────────────────────────────────────────────────────╮\u001b[0m \u001b[34m│\u001b[0m\n",
       "\u001b[34m│\u001b[0m \u001b[32m│\u001b[0m \u001b[1m[\u001b[0m                                                                                   \u001b[32m│\u001b[0m \u001b[34m│\u001b[0m\n",
       "\u001b[34m│\u001b[0m \u001b[32m│\u001b[0m \u001b[2;32m│   \u001b[0m\u001b[1;35mListData\u001b[0m\u001b[1m(\u001b[0m                                                                       \u001b[32m│\u001b[0m \u001b[34m│\u001b[0m\n",
       "\u001b[34m│\u001b[0m \u001b[32m│\u001b[0m \u001b[2;32m│   │   \u001b[0m\u001b[33mshot\u001b[0m=\u001b[1;36m27933\u001b[0m,                                                                 \u001b[32m│\u001b[0m \u001b[34m│\u001b[0m\n",
       "\u001b[34m│\u001b[0m \u001b[32m│\u001b[0m \u001b[2;32m│   │   \u001b[0m\u001b[33mpass_\u001b[0m=\u001b[1;36m-1\u001b[0m,                                                                   \u001b[32m│\u001b[0m \u001b[34m│\u001b[0m\n",
       "\u001b[34m│\u001b[0m \u001b[32m│\u001b[0m \u001b[2;32m│   │   \u001b[0m\u001b[33mstatus\u001b[0m=\u001b[1;36m1\u001b[0m,                                                                   \u001b[32m│\u001b[0m \u001b[34m│\u001b[0m\n",
       "\u001b[34m│\u001b[0m \u001b[32m│\u001b[0m \u001b[2;32m│   │   \u001b[0m\u001b[33msource_alias\u001b[0m=\u001b[32m'xmw'\u001b[0m,                                                         \u001b[32m│\u001b[0m \u001b[34m│\u001b[0m\n",
       "\u001b[34m│\u001b[0m \u001b[32m│\u001b[0m \u001b[2;32m│   │   \u001b[0m\u001b[33mformat\u001b[0m=\u001b[32m'NIDA'\u001b[0m,                                                              \u001b[32m│\u001b[0m \u001b[34m│\u001b[0m\n",
       "\u001b[34m│\u001b[0m \u001b[32m│\u001b[0m \u001b[2;32m│   │   \u001b[0m\u001b[33mfilename\u001b[0m=\u001b[32m'xmw0279.33'\u001b[0m,                                                      \u001b[32m│\u001b[0m \u001b[34m│\u001b[0m\n",
       "\u001b[34m│\u001b[0m \u001b[32m│\u001b[0m \u001b[2;32m│   │   \u001b[0m\u001b[33mtype\u001b[0m=\u001b[32m'Raw'\u001b[0m,                                                                 \u001b[32m│\u001b[0m \u001b[34m│\u001b[0m\n",
       "\u001b[34m│\u001b[0m \u001b[32m│\u001b[0m \u001b[2;32m│   │   \u001b[0m\u001b[33mdescription\u001b[0m=\u001b[32m'Share the knowledge - If you know what this is, let me know!'\u001b[0m, \u001b[32m│\u001b[0m \u001b[34m│\u001b[0m\n",
       "\u001b[34m│\u001b[0m \u001b[32m│\u001b[0m \u001b[2;32m│   │   \u001b[0m\u001b[33mrun_id\u001b[0m=\u001b[1;36m-1\u001b[0m                                                                   \u001b[32m│\u001b[0m \u001b[34m│\u001b[0m\n",
       "\u001b[34m│\u001b[0m \u001b[32m│\u001b[0m \u001b[2;32m│   \u001b[0m\u001b[1m)\u001b[0m                                                                               \u001b[32m│\u001b[0m \u001b[34m│\u001b[0m\n",
       "\u001b[34m│\u001b[0m \u001b[32m│\u001b[0m \u001b[1m]\u001b[0m                                                                                   \u001b[32m│\u001b[0m \u001b[34m│\u001b[0m\n",
       "\u001b[34m│\u001b[0m \u001b[32m╰─────────────────────────────────────────────────────────────────────────────────────╯\u001b[0m \u001b[34m│\u001b[0m\n",
       "\u001b[34m│\u001b[0m                                                                                         \u001b[34m│\u001b[0m\n",
       "\u001b[34m│\u001b[0m \u001b[1;36m35\u001b[0m\u001b[3m attribute(s) not shown.\u001b[0m Run \u001b[1;35minspect\u001b[0m\u001b[1m(\u001b[0minspect\u001b[1m)\u001b[0m for options.                            \u001b[34m│\u001b[0m\n",
       "\u001b[34m╰─────────────────────────────────────────────────────────────────────────────────────────╯\u001b[0m\n"
      ]
     },
     "metadata": {},
     "output_type": "display_data"
    }
   ],
   "source": [
    "source = [source for source in sources_1 if source.source_alias == \"xmw\"]\n",
    "inspect(source, docs=False)"
   ]
  },
  {
   "cell_type": "markdown",
   "id": "a54d8db9",
   "metadata": {},
   "source": [
    "The alias is not in the source directory in 2.2.1 and cannot be accessed.\n",
    "If one uses `get` and the alias, such as `xmw`, only meta data can be accesses but not the data itself."
   ]
  },
  {
   "cell_type": "code",
   "execution_count": 54,
   "id": "6266e87c",
   "metadata": {},
   "outputs": [
    {
     "data": {
      "text/html": [
       "<pre style=\"white-space:pre;overflow-x:auto;line-height:normal;font-family:Menlo,'DejaVu Sans Mono',consolas,'Courier New',monospace\"><span style=\"color: #000080; text-decoration-color: #000080\">╭─────── </span><span style=\"color: #000080; text-decoration-color: #000080; font-weight: bold\">&lt;</span><span style=\"color: #ff00ff; text-decoration-color: #ff00ff; font-weight: bold\">class</span><span style=\"color: #000000; text-decoration-color: #000000\"> </span><span style=\"color: #008000; text-decoration-color: #008000\">'pyuda._signal.Signal'</span><span style=\"color: #000080; text-decoration-color: #000080; font-weight: bold\">&gt;</span><span style=\"color: #000080; text-decoration-color: #000080\"> ───────╮</span>\n",
       "<span style=\"color: #000080; text-decoration-color: #000080\">│</span> <span style=\"color: #008000; text-decoration-color: #008000\">╭──────────────────────────────────────────╮</span> <span style=\"color: #000080; text-decoration-color: #000080\">│</span>\n",
       "<span style=\"color: #000080; text-decoration-color: #000080\">│</span> <span style=\"color: #008000; text-decoration-color: #008000\">│</span> <span style=\"font-weight: bold\">&lt;</span><span style=\"color: #ff00ff; text-decoration-color: #ff00ff; font-weight: bold\">Signal</span><span style=\"font-weight: bold\">&gt;</span>                                 <span style=\"color: #008000; text-decoration-color: #008000\">│</span> <span style=\"color: #000080; text-decoration-color: #000080\">│</span>\n",
       "<span style=\"color: #000080; text-decoration-color: #000080\">│</span> <span style=\"color: #008000; text-decoration-color: #008000\">╰──────────────────────────────────────────╯</span> <span style=\"color: #000080; text-decoration-color: #000080\">│</span>\n",
       "<span style=\"color: #000080; text-decoration-color: #000080\">│</span>                                              <span style=\"color: #000080; text-decoration-color: #000080\">│</span>\n",
       "<span style=\"color: #000080; text-decoration-color: #000080\">│</span>        <span style=\"color: #808000; text-decoration-color: #808000; font-style: italic\">data</span> = <span style=\"color: #800080; text-decoration-color: #800080; font-style: italic\">None</span>                           <span style=\"color: #000080; text-decoration-color: #000080\">│</span>\n",
       "<span style=\"color: #000080; text-decoration-color: #000080\">│</span> <span style=\"color: #808000; text-decoration-color: #808000; font-style: italic\">description</span> = <span style=\"color: #008000; text-decoration-color: #008000\">''</span>                             <span style=\"color: #000080; text-decoration-color: #000080\">│</span>\n",
       "<span style=\"color: #000080; text-decoration-color: #000080\">│</span>        <span style=\"color: #808000; text-decoration-color: #808000; font-style: italic\">dims</span> = <span style=\"font-weight: bold\">[]</span>                             <span style=\"color: #000080; text-decoration-color: #000080\">│</span>\n",
       "<span style=\"color: #000080; text-decoration-color: #000080\">│</span>      <span style=\"color: #808000; text-decoration-color: #808000; font-style: italic\">errors</span> = <span style=\"color: #800080; text-decoration-color: #800080; font-style: italic\">None</span>                           <span style=\"color: #000080; text-decoration-color: #000080\">│</span>\n",
       "<span style=\"color: #000080; text-decoration-color: #000080\">│</span>       <span style=\"color: #808000; text-decoration-color: #808000; font-style: italic\">label</span> = <span style=\"color: #008000; text-decoration-color: #008000\">''</span>                             <span style=\"color: #000080; text-decoration-color: #000080\">│</span>\n",
       "<span style=\"color: #000080; text-decoration-color: #000080\">│</span>        <span style=\"color: #808000; text-decoration-color: #808000; font-style: italic\">meta</span> = <span style=\"font-weight: bold\">{</span>                              <span style=\"color: #000080; text-decoration-color: #000080\">│</span>\n",
       "<span style=\"color: #000080; text-decoration-color: #000080\">│</span>                   <span style=\"color: #008000; text-decoration-color: #008000\">'signal_name'</span>: <span style=\"color: #008000; text-decoration-color: #008000\">b'xmw'</span>,     <span style=\"color: #000080; text-decoration-color: #000080\">│</span>\n",
       "<span style=\"color: #000080; text-decoration-color: #000080\">│</span>                   <span style=\"color: #008000; text-decoration-color: #008000\">'signal_alias'</span>: <span style=\"color: #008000; text-decoration-color: #008000\">b'xmw'</span>,    <span style=\"color: #000080; text-decoration-color: #000080\">│</span>\n",
       "<span style=\"color: #000080; text-decoration-color: #000080\">│</span>                   <span style=\"color: #008000; text-decoration-color: #008000\">'path'</span>: <span style=\"color: #008000; text-decoration-color: #008000\">b'/xmw0279.33'</span>,    <span style=\"color: #000080; text-decoration-color: #000080\">│</span>\n",
       "<span style=\"color: #000080; text-decoration-color: #000080\">│</span>                   <span style=\"color: #008000; text-decoration-color: #008000\">'filename'</span>: <span style=\"color: #008000; text-decoration-color: #008000\">b'xmw0279.33'</span>, <span style=\"color: #000080; text-decoration-color: #000080\">│</span>\n",
       "<span style=\"color: #000080; text-decoration-color: #000080\">│</span>                   <span style=\"color: #008000; text-decoration-color: #008000\">'format'</span>: <span style=\"color: #008000; text-decoration-color: #008000\">b'NIDA'</span>,         <span style=\"color: #000080; text-decoration-color: #000080\">│</span>\n",
       "<span style=\"color: #000080; text-decoration-color: #000080\">│</span>                   <span style=\"color: #008000; text-decoration-color: #008000\">'exp_number'</span>: <span style=\"color: #008080; text-decoration-color: #008080; font-weight: bold\">27933</span>,       <span style=\"color: #000080; text-decoration-color: #000080\">│</span>\n",
       "<span style=\"color: #000080; text-decoration-color: #000080\">│</span>                   <span style=\"color: #008000; text-decoration-color: #008000\">'pass'</span>: <span style=\"color: #008080; text-decoration-color: #008080; font-weight: bold\">-1</span>,                <span style=\"color: #000080; text-decoration-color: #000080\">│</span>\n",
       "<span style=\"color: #000080; text-decoration-color: #000080\">│</span>                   <span style=\"color: #008000; text-decoration-color: #008000\">'pass_date'</span>: <span style=\"color: #008000; text-decoration-color: #008000\">b'2011-12-15'</span> <span style=\"color: #000080; text-decoration-color: #000080\">│</span>\n",
       "<span style=\"color: #000080; text-decoration-color: #000080\">│</span>               <span style=\"font-weight: bold\">}</span>                              <span style=\"color: #000080; text-decoration-color: #000080\">│</span>\n",
       "<span style=\"color: #000080; text-decoration-color: #000080\">│</span>        <span style=\"color: #808000; text-decoration-color: #808000; font-style: italic\">rank</span> = <span style=\"color: #008080; text-decoration-color: #008080; font-weight: bold\">0</span>                              <span style=\"color: #000080; text-decoration-color: #000080\">│</span>\n",
       "<span style=\"color: #000080; text-decoration-color: #000080\">│</span>       <span style=\"color: #808000; text-decoration-color: #808000; font-style: italic\">shape</span> = <span style=\"font-weight: bold\">()</span>                             <span style=\"color: #000080; text-decoration-color: #000080\">│</span>\n",
       "<span style=\"color: #000080; text-decoration-color: #000080\">│</span>        <span style=\"color: #808000; text-decoration-color: #808000; font-style: italic\">time</span> = <span style=\"color: #800080; text-decoration-color: #800080; font-style: italic\">None</span>                           <span style=\"color: #000080; text-decoration-color: #000080\">│</span>\n",
       "<span style=\"color: #000080; text-decoration-color: #000080\">│</span>  <span style=\"color: #808000; text-decoration-color: #808000; font-style: italic\">time_index</span> = <span style=\"color: #800080; text-decoration-color: #800080; font-style: italic\">None</span>                           <span style=\"color: #000080; text-decoration-color: #000080\">│</span>\n",
       "<span style=\"color: #000080; text-decoration-color: #000080\">│</span>       <span style=\"color: #808000; text-decoration-color: #808000; font-style: italic\">units</span> = <span style=\"color: #008000; text-decoration-color: #008000\">''</span>                             <span style=\"color: #000080; text-decoration-color: #000080\">│</span>\n",
       "<span style=\"color: #000080; text-decoration-color: #000080\">╰──────────────────────────────────────────────╯</span>\n",
       "</pre>\n"
      ],
      "text/plain": [
       "\u001b[34m╭─\u001b[0m\u001b[34m────── \u001b[0m\u001b[1;34m<\u001b[0m\u001b[1;95mclass\u001b[0m\u001b[39m \u001b[0m\u001b[32m'pyuda._signal.Signal'\u001b[0m\u001b[1;34m>\u001b[0m\u001b[34m ──────\u001b[0m\u001b[34m─╮\u001b[0m\n",
       "\u001b[34m│\u001b[0m \u001b[32m╭──────────────────────────────────────────╮\u001b[0m \u001b[34m│\u001b[0m\n",
       "\u001b[34m│\u001b[0m \u001b[32m│\u001b[0m \u001b[1m<\u001b[0m\u001b[1;95mSignal\u001b[0m\u001b[1m>\u001b[0m                                 \u001b[32m│\u001b[0m \u001b[34m│\u001b[0m\n",
       "\u001b[34m│\u001b[0m \u001b[32m╰──────────────────────────────────────────╯\u001b[0m \u001b[34m│\u001b[0m\n",
       "\u001b[34m│\u001b[0m                                              \u001b[34m│\u001b[0m\n",
       "\u001b[34m│\u001b[0m        \u001b[3;33mdata\u001b[0m = \u001b[3;35mNone\u001b[0m                           \u001b[34m│\u001b[0m\n",
       "\u001b[34m│\u001b[0m \u001b[3;33mdescription\u001b[0m = \u001b[32m''\u001b[0m                             \u001b[34m│\u001b[0m\n",
       "\u001b[34m│\u001b[0m        \u001b[3;33mdims\u001b[0m = \u001b[1m[\u001b[0m\u001b[1m]\u001b[0m                             \u001b[34m│\u001b[0m\n",
       "\u001b[34m│\u001b[0m      \u001b[3;33merrors\u001b[0m = \u001b[3;35mNone\u001b[0m                           \u001b[34m│\u001b[0m\n",
       "\u001b[34m│\u001b[0m       \u001b[3;33mlabel\u001b[0m = \u001b[32m''\u001b[0m                             \u001b[34m│\u001b[0m\n",
       "\u001b[34m│\u001b[0m        \u001b[3;33mmeta\u001b[0m = \u001b[1m{\u001b[0m                              \u001b[34m│\u001b[0m\n",
       "\u001b[34m│\u001b[0m                   \u001b[32m'signal_name'\u001b[0m: \u001b[32mb'xmw'\u001b[0m,     \u001b[34m│\u001b[0m\n",
       "\u001b[34m│\u001b[0m                   \u001b[32m'signal_alias'\u001b[0m: \u001b[32mb'xmw'\u001b[0m,    \u001b[34m│\u001b[0m\n",
       "\u001b[34m│\u001b[0m                   \u001b[32m'path'\u001b[0m: \u001b[32mb'/xmw0279.33'\u001b[0m,    \u001b[34m│\u001b[0m\n",
       "\u001b[34m│\u001b[0m                   \u001b[32m'filename'\u001b[0m: \u001b[32mb'xmw0279.33'\u001b[0m, \u001b[34m│\u001b[0m\n",
       "\u001b[34m│\u001b[0m                   \u001b[32m'format'\u001b[0m: \u001b[32mb'NIDA'\u001b[0m,         \u001b[34m│\u001b[0m\n",
       "\u001b[34m│\u001b[0m                   \u001b[32m'exp_number'\u001b[0m: \u001b[1;36m27933\u001b[0m,       \u001b[34m│\u001b[0m\n",
       "\u001b[34m│\u001b[0m                   \u001b[32m'pass'\u001b[0m: \u001b[1;36m-1\u001b[0m,                \u001b[34m│\u001b[0m\n",
       "\u001b[34m│\u001b[0m                   \u001b[32m'pass_date'\u001b[0m: \u001b[32mb'2011-12-15'\u001b[0m \u001b[34m│\u001b[0m\n",
       "\u001b[34m│\u001b[0m               \u001b[1m}\u001b[0m                              \u001b[34m│\u001b[0m\n",
       "\u001b[34m│\u001b[0m        \u001b[3;33mrank\u001b[0m = \u001b[1;36m0\u001b[0m                              \u001b[34m│\u001b[0m\n",
       "\u001b[34m│\u001b[0m       \u001b[3;33mshape\u001b[0m = \u001b[1m(\u001b[0m\u001b[1m)\u001b[0m                             \u001b[34m│\u001b[0m\n",
       "\u001b[34m│\u001b[0m        \u001b[3;33mtime\u001b[0m = \u001b[3;35mNone\u001b[0m                           \u001b[34m│\u001b[0m\n",
       "\u001b[34m│\u001b[0m  \u001b[3;33mtime_index\u001b[0m = \u001b[3;35mNone\u001b[0m                           \u001b[34m│\u001b[0m\n",
       "\u001b[34m│\u001b[0m       \u001b[3;33munits\u001b[0m = \u001b[32m''\u001b[0m                             \u001b[34m│\u001b[0m\n",
       "\u001b[34m╰──────────────────────────────────────────────╯\u001b[0m\n"
      ]
     },
     "metadata": {},
     "output_type": "display_data"
    }
   ],
   "source": [
    "data = client.get(\"xmw\", shot_1)\n",
    "inspect(data, docs=False)"
   ]
  },
  {
   "cell_type": "markdown",
   "id": "7c774999",
   "metadata": {},
   "source": [
    "### Sources & Data in *ASCII*"
   ]
  },
  {
   "cell_type": "markdown",
   "id": "e7f1c454",
   "metadata": {},
   "source": [
    "Although, there are *ASCII* files, we cannot access their `Signal` as demonstrated below."
   ]
  },
  {
   "cell_type": "code",
   "execution_count": 56,
   "id": "fc20432e",
   "metadata": {},
   "outputs": [
    {
     "data": {
      "text/html": [
       "<pre style=\"white-space:pre;overflow-x:auto;line-height:normal;font-family:Menlo,'DejaVu Sans Mono',consolas,'Courier New',monospace\"><span style=\"color: #000080; text-decoration-color: #000080\">╭────────────────────────────────────── </span><span style=\"color: #000080; text-decoration-color: #000080; font-weight: bold\">&lt;</span><span style=\"color: #ff00ff; text-decoration-color: #ff00ff; font-weight: bold\">class</span><span style=\"color: #000000; text-decoration-color: #000000\"> </span><span style=\"color: #008000; text-decoration-color: #008000\">'list'</span><span style=\"color: #000080; text-decoration-color: #000080; font-weight: bold\">&gt;</span><span style=\"color: #000080; text-decoration-color: #000080\"> ──────────────────────────────────────╮</span>\n",
       "<span style=\"color: #000080; text-decoration-color: #000080\">│</span> <span style=\"color: #008000; text-decoration-color: #008000\">╭────────────────────────────────────────────────────────────────────────────────────────╮</span> <span style=\"color: #000080; text-decoration-color: #000080\">│</span>\n",
       "<span style=\"color: #000080; text-decoration-color: #000080\">│</span> <span style=\"color: #008000; text-decoration-color: #008000\">│</span> <span style=\"font-weight: bold\">[</span>                                                                                      <span style=\"color: #008000; text-decoration-color: #008000\">│</span> <span style=\"color: #000080; text-decoration-color: #000080\">│</span>\n",
       "<span style=\"color: #000080; text-decoration-color: #000080\">│</span> <span style=\"color: #008000; text-decoration-color: #008000\">│</span> <span style=\"color: #7fbf7f; text-decoration-color: #7fbf7f\">│   </span><span style=\"color: #800080; text-decoration-color: #800080; font-weight: bold\">ListData</span><span style=\"font-weight: bold\">(</span>                                                                          <span style=\"color: #008000; text-decoration-color: #008000\">│</span> <span style=\"color: #000080; text-decoration-color: #000080\">│</span>\n",
       "<span style=\"color: #000080; text-decoration-color: #000080\">│</span> <span style=\"color: #008000; text-decoration-color: #008000\">│</span> <span style=\"color: #7fbf7f; text-decoration-color: #7fbf7f\">│   │   </span><span style=\"color: #808000; text-decoration-color: #808000\">shot</span>=<span style=\"color: #008080; text-decoration-color: #008080; font-weight: bold\">27933</span>,                                                                    <span style=\"color: #008000; text-decoration-color: #008000\">│</span> <span style=\"color: #000080; text-decoration-color: #000080\">│</span>\n",
       "<span style=\"color: #000080; text-decoration-color: #000080\">│</span> <span style=\"color: #008000; text-decoration-color: #008000\">│</span> <span style=\"color: #7fbf7f; text-decoration-color: #7fbf7f\">│   │   </span><span style=\"color: #808000; text-decoration-color: #808000\">pass_</span>=<span style=\"color: #008080; text-decoration-color: #008080; font-weight: bold\">-1</span>,                                                                      <span style=\"color: #008000; text-decoration-color: #008000\">│</span> <span style=\"color: #000080; text-decoration-color: #000080\">│</span>\n",
       "<span style=\"color: #000080; text-decoration-color: #000080\">│</span> <span style=\"color: #008000; text-decoration-color: #008000\">│</span> <span style=\"color: #7fbf7f; text-decoration-color: #7fbf7f\">│   │   </span><span style=\"color: #808000; text-decoration-color: #808000\">status</span>=<span style=\"color: #008080; text-decoration-color: #008080; font-weight: bold\">1</span>,                                                                      <span style=\"color: #008000; text-decoration-color: #008000\">│</span> <span style=\"color: #000080; text-decoration-color: #000080\">│</span>\n",
       "<span style=\"color: #000080; text-decoration-color: #000080\">│</span> <span style=\"color: #008000; text-decoration-color: #008000\">│</span> <span style=\"color: #7fbf7f; text-decoration-color: #7fbf7f\">│   │   </span><span style=\"color: #808000; text-decoration-color: #808000\">source_alias</span>=<span style=\"color: #008000; text-decoration-color: #008000\">'msf'</span>,                                                            <span style=\"color: #008000; text-decoration-color: #008000\">│</span> <span style=\"color: #000080; text-decoration-color: #000080\">│</span>\n",
       "<span style=\"color: #000080; text-decoration-color: #000080\">│</span> <span style=\"color: #008000; text-decoration-color: #008000\">│</span> <span style=\"color: #7fbf7f; text-decoration-color: #7fbf7f\">│   │   </span><span style=\"color: #808000; text-decoration-color: #808000\">format</span>=<span style=\"color: #008000; text-decoration-color: #008000\">'ASCII'</span>,                                                                <span style=\"color: #008000; text-decoration-color: #008000\">│</span> <span style=\"color: #000080; text-decoration-color: #000080\">│</span>\n",
       "<span style=\"color: #000080; text-decoration-color: #000080\">│</span> <span style=\"color: #008000; text-decoration-color: #008000\">│</span> <span style=\"color: #7fbf7f; text-decoration-color: #7fbf7f\">│   │   </span><span style=\"color: #808000; text-decoration-color: #808000\">filename</span>=<span style=\"color: #008000; text-decoration-color: #008000\">'msf027933.csv'</span>,                                                      <span style=\"color: #008000; text-decoration-color: #008000\">│</span> <span style=\"color: #000080; text-decoration-color: #000080\">│</span>\n",
       "<span style=\"color: #000080; text-decoration-color: #000080\">│</span> <span style=\"color: #008000; text-decoration-color: #008000\">│</span> <span style=\"color: #7fbf7f; text-decoration-color: #7fbf7f\">│   │   </span><span style=\"color: #808000; text-decoration-color: #808000\">type</span>=<span style=\"color: #008000; text-decoration-color: #008000\">'Raw'</span>,                                                                    <span style=\"color: #008000; text-decoration-color: #008000\">│</span> <span style=\"color: #000080; text-decoration-color: #000080\">│</span>\n",
       "<span style=\"color: #000080; text-decoration-color: #000080\">│</span> <span style=\"color: #008000; text-decoration-color: #008000\">│</span> <span style=\"color: #7fbf7f; text-decoration-color: #7fbf7f\">│   │   </span><span style=\"color: #808000; text-decoration-color: #808000\">description</span>=<span style=\"color: #008000; text-decoration-color: #008000\">'MAST shot file, a .csv file containing OPC parameters from t'</span>+<span style=\"color: #008080; text-decoration-color: #008080; font-weight: bold\">59</span>, <span style=\"color: #008000; text-decoration-color: #008000\">│</span> <span style=\"color: #000080; text-decoration-color: #000080\">│</span>\n",
       "<span style=\"color: #000080; text-decoration-color: #000080\">│</span> <span style=\"color: #008000; text-decoration-color: #008000\">│</span> <span style=\"color: #7fbf7f; text-decoration-color: #7fbf7f\">│   │   </span><span style=\"color: #808000; text-decoration-color: #808000\">run_id</span>=<span style=\"color: #008080; text-decoration-color: #008080; font-weight: bold\">-1</span>                                                                      <span style=\"color: #008000; text-decoration-color: #008000\">│</span> <span style=\"color: #000080; text-decoration-color: #000080\">│</span>\n",
       "<span style=\"color: #000080; text-decoration-color: #000080\">│</span> <span style=\"color: #008000; text-decoration-color: #008000\">│</span> <span style=\"color: #7fbf7f; text-decoration-color: #7fbf7f\">│   </span><span style=\"font-weight: bold\">)</span>                                                                                  <span style=\"color: #008000; text-decoration-color: #008000\">│</span> <span style=\"color: #000080; text-decoration-color: #000080\">│</span>\n",
       "<span style=\"color: #000080; text-decoration-color: #000080\">│</span> <span style=\"color: #008000; text-decoration-color: #008000\">│</span> <span style=\"font-weight: bold\">]</span>                                                                                      <span style=\"color: #008000; text-decoration-color: #008000\">│</span> <span style=\"color: #000080; text-decoration-color: #000080\">│</span>\n",
       "<span style=\"color: #000080; text-decoration-color: #000080\">│</span> <span style=\"color: #008000; text-decoration-color: #008000\">╰────────────────────────────────────────────────────────────────────────────────────────╯</span> <span style=\"color: #000080; text-decoration-color: #000080\">│</span>\n",
       "<span style=\"color: #000080; text-decoration-color: #000080\">│</span>                                                                                            <span style=\"color: #000080; text-decoration-color: #000080\">│</span>\n",
       "<span style=\"color: #000080; text-decoration-color: #000080\">│</span> <span style=\"color: #008080; text-decoration-color: #008080; font-weight: bold\">35</span><span style=\"font-style: italic\"> attribute(s) not shown.</span> Run <span style=\"color: #800080; text-decoration-color: #800080; font-weight: bold\">inspect</span><span style=\"font-weight: bold\">(</span>inspect<span style=\"font-weight: bold\">)</span> for options.                               <span style=\"color: #000080; text-decoration-color: #000080\">│</span>\n",
       "<span style=\"color: #000080; text-decoration-color: #000080\">╰────────────────────────────────────────────────────────────────────────────────────────────╯</span>\n",
       "</pre>\n"
      ],
      "text/plain": [
       "\u001b[34m╭─\u001b[0m\u001b[34m───────────────────────────────────── \u001b[0m\u001b[1;34m<\u001b[0m\u001b[1;95mclass\u001b[0m\u001b[39m \u001b[0m\u001b[32m'list'\u001b[0m\u001b[1;34m>\u001b[0m\u001b[34m ─────────────────────────────────────\u001b[0m\u001b[34m─╮\u001b[0m\n",
       "\u001b[34m│\u001b[0m \u001b[32m╭────────────────────────────────────────────────────────────────────────────────────────╮\u001b[0m \u001b[34m│\u001b[0m\n",
       "\u001b[34m│\u001b[0m \u001b[32m│\u001b[0m \u001b[1m[\u001b[0m                                                                                      \u001b[32m│\u001b[0m \u001b[34m│\u001b[0m\n",
       "\u001b[34m│\u001b[0m \u001b[32m│\u001b[0m \u001b[2;32m│   \u001b[0m\u001b[1;35mListData\u001b[0m\u001b[1m(\u001b[0m                                                                          \u001b[32m│\u001b[0m \u001b[34m│\u001b[0m\n",
       "\u001b[34m│\u001b[0m \u001b[32m│\u001b[0m \u001b[2;32m│   │   \u001b[0m\u001b[33mshot\u001b[0m=\u001b[1;36m27933\u001b[0m,                                                                    \u001b[32m│\u001b[0m \u001b[34m│\u001b[0m\n",
       "\u001b[34m│\u001b[0m \u001b[32m│\u001b[0m \u001b[2;32m│   │   \u001b[0m\u001b[33mpass_\u001b[0m=\u001b[1;36m-1\u001b[0m,                                                                      \u001b[32m│\u001b[0m \u001b[34m│\u001b[0m\n",
       "\u001b[34m│\u001b[0m \u001b[32m│\u001b[0m \u001b[2;32m│   │   \u001b[0m\u001b[33mstatus\u001b[0m=\u001b[1;36m1\u001b[0m,                                                                      \u001b[32m│\u001b[0m \u001b[34m│\u001b[0m\n",
       "\u001b[34m│\u001b[0m \u001b[32m│\u001b[0m \u001b[2;32m│   │   \u001b[0m\u001b[33msource_alias\u001b[0m=\u001b[32m'msf'\u001b[0m,                                                            \u001b[32m│\u001b[0m \u001b[34m│\u001b[0m\n",
       "\u001b[34m│\u001b[0m \u001b[32m│\u001b[0m \u001b[2;32m│   │   \u001b[0m\u001b[33mformat\u001b[0m=\u001b[32m'ASCII'\u001b[0m,                                                                \u001b[32m│\u001b[0m \u001b[34m│\u001b[0m\n",
       "\u001b[34m│\u001b[0m \u001b[32m│\u001b[0m \u001b[2;32m│   │   \u001b[0m\u001b[33mfilename\u001b[0m=\u001b[32m'msf027933.csv'\u001b[0m,                                                      \u001b[32m│\u001b[0m \u001b[34m│\u001b[0m\n",
       "\u001b[34m│\u001b[0m \u001b[32m│\u001b[0m \u001b[2;32m│   │   \u001b[0m\u001b[33mtype\u001b[0m=\u001b[32m'Raw'\u001b[0m,                                                                    \u001b[32m│\u001b[0m \u001b[34m│\u001b[0m\n",
       "\u001b[34m│\u001b[0m \u001b[32m│\u001b[0m \u001b[2;32m│   │   \u001b[0m\u001b[33mdescription\u001b[0m=\u001b[32m'MAST shot file, a .csv file containing OPC parameters from t'\u001b[0m+\u001b[1;36m59\u001b[0m, \u001b[32m│\u001b[0m \u001b[34m│\u001b[0m\n",
       "\u001b[34m│\u001b[0m \u001b[32m│\u001b[0m \u001b[2;32m│   │   \u001b[0m\u001b[33mrun_id\u001b[0m=\u001b[1;36m-1\u001b[0m                                                                      \u001b[32m│\u001b[0m \u001b[34m│\u001b[0m\n",
       "\u001b[34m│\u001b[0m \u001b[32m│\u001b[0m \u001b[2;32m│   \u001b[0m\u001b[1m)\u001b[0m                                                                                  \u001b[32m│\u001b[0m \u001b[34m│\u001b[0m\n",
       "\u001b[34m│\u001b[0m \u001b[32m│\u001b[0m \u001b[1m]\u001b[0m                                                                                      \u001b[32m│\u001b[0m \u001b[34m│\u001b[0m\n",
       "\u001b[34m│\u001b[0m \u001b[32m╰────────────────────────────────────────────────────────────────────────────────────────╯\u001b[0m \u001b[34m│\u001b[0m\n",
       "\u001b[34m│\u001b[0m                                                                                            \u001b[34m│\u001b[0m\n",
       "\u001b[34m│\u001b[0m \u001b[1;36m35\u001b[0m\u001b[3m attribute(s) not shown.\u001b[0m Run \u001b[1;35minspect\u001b[0m\u001b[1m(\u001b[0minspect\u001b[1m)\u001b[0m for options.                               \u001b[34m│\u001b[0m\n",
       "\u001b[34m╰────────────────────────────────────────────────────────────────────────────────────────────╯\u001b[0m\n"
      ]
     },
     "metadata": {},
     "output_type": "display_data"
    }
   ],
   "source": [
    "data = [source for source in sources_1 if source.source_alias == \"msf\"]\n",
    "inspect(data, docs=False)"
   ]
  },
  {
   "cell_type": "markdown",
   "id": "45d6e104",
   "metadata": {},
   "source": [
    "No data is available via UDA API."
   ]
  },
  {
   "cell_type": "code",
   "execution_count": 57,
   "id": "66f62c68",
   "metadata": {},
   "outputs": [
    {
     "data": {
      "text/html": [
       "<pre style=\"white-space:pre;overflow-x:auto;line-height:normal;font-family:Menlo,'DejaVu Sans Mono',consolas,'Courier New',monospace\"><span style=\"color: #000080; text-decoration-color: #000080\">╭──────── </span><span style=\"color: #000080; text-decoration-color: #000080; font-weight: bold\">&lt;</span><span style=\"color: #ff00ff; text-decoration-color: #ff00ff; font-weight: bold\">class</span><span style=\"color: #000000; text-decoration-color: #000000\"> </span><span style=\"color: #008000; text-decoration-color: #008000\">'pyuda._signal.Signal'</span><span style=\"color: #000080; text-decoration-color: #000080; font-weight: bold\">&gt;</span><span style=\"color: #000080; text-decoration-color: #000080\"> ─────────╮</span>\n",
       "<span style=\"color: #000080; text-decoration-color: #000080\">│</span> <span style=\"color: #008000; text-decoration-color: #008000\">╭─────────────────────────────────────────────╮</span> <span style=\"color: #000080; text-decoration-color: #000080\">│</span>\n",
       "<span style=\"color: #000080; text-decoration-color: #000080\">│</span> <span style=\"color: #008000; text-decoration-color: #008000\">│</span> <span style=\"font-weight: bold\">&lt;</span><span style=\"color: #ff00ff; text-decoration-color: #ff00ff; font-weight: bold\">Signal</span><span style=\"font-weight: bold\">&gt;</span>                                    <span style=\"color: #008000; text-decoration-color: #008000\">│</span> <span style=\"color: #000080; text-decoration-color: #000080\">│</span>\n",
       "<span style=\"color: #000080; text-decoration-color: #000080\">│</span> <span style=\"color: #008000; text-decoration-color: #008000\">╰─────────────────────────────────────────────╯</span> <span style=\"color: #000080; text-decoration-color: #000080\">│</span>\n",
       "<span style=\"color: #000080; text-decoration-color: #000080\">│</span>                                                 <span style=\"color: #000080; text-decoration-color: #000080\">│</span>\n",
       "<span style=\"color: #000080; text-decoration-color: #000080\">│</span>        <span style=\"color: #808000; text-decoration-color: #808000; font-style: italic\">data</span> = <span style=\"color: #800080; text-decoration-color: #800080; font-style: italic\">None</span>                              <span style=\"color: #000080; text-decoration-color: #000080\">│</span>\n",
       "<span style=\"color: #000080; text-decoration-color: #000080\">│</span> <span style=\"color: #808000; text-decoration-color: #808000; font-style: italic\">description</span> = <span style=\"color: #008000; text-decoration-color: #008000\">''</span>                                <span style=\"color: #000080; text-decoration-color: #000080\">│</span>\n",
       "<span style=\"color: #000080; text-decoration-color: #000080\">│</span>        <span style=\"color: #808000; text-decoration-color: #808000; font-style: italic\">dims</span> = <span style=\"font-weight: bold\">[]</span>                                <span style=\"color: #000080; text-decoration-color: #000080\">│</span>\n",
       "<span style=\"color: #000080; text-decoration-color: #000080\">│</span>      <span style=\"color: #808000; text-decoration-color: #808000; font-style: italic\">errors</span> = <span style=\"color: #800080; text-decoration-color: #800080; font-style: italic\">None</span>                              <span style=\"color: #000080; text-decoration-color: #000080\">│</span>\n",
       "<span style=\"color: #000080; text-decoration-color: #000080\">│</span>       <span style=\"color: #808000; text-decoration-color: #808000; font-style: italic\">label</span> = <span style=\"color: #008000; text-decoration-color: #008000\">''</span>                                <span style=\"color: #000080; text-decoration-color: #000080\">│</span>\n",
       "<span style=\"color: #000080; text-decoration-color: #000080\">│</span>        <span style=\"color: #808000; text-decoration-color: #808000; font-style: italic\">meta</span> = <span style=\"font-weight: bold\">{</span>                                 <span style=\"color: #000080; text-decoration-color: #000080\">│</span>\n",
       "<span style=\"color: #000080; text-decoration-color: #000080\">│</span>                   <span style=\"color: #008000; text-decoration-color: #008000\">'signal_name'</span>: <span style=\"color: #008000; text-decoration-color: #008000\">b'msf'</span>,        <span style=\"color: #000080; text-decoration-color: #000080\">│</span>\n",
       "<span style=\"color: #000080; text-decoration-color: #000080\">│</span>                   <span style=\"color: #008000; text-decoration-color: #008000\">'signal_alias'</span>: <span style=\"color: #008000; text-decoration-color: #008000\">b'msf'</span>,       <span style=\"color: #000080; text-decoration-color: #000080\">│</span>\n",
       "<span style=\"color: #000080; text-decoration-color: #000080\">│</span>                   <span style=\"color: #008000; text-decoration-color: #008000\">'path'</span>: <span style=\"color: #008000; text-decoration-color: #008000\">b'/msf027933.csv'</span>,    <span style=\"color: #000080; text-decoration-color: #000080\">│</span>\n",
       "<span style=\"color: #000080; text-decoration-color: #000080\">│</span>                   <span style=\"color: #008000; text-decoration-color: #008000\">'filename'</span>: <span style=\"color: #008000; text-decoration-color: #008000\">b'msf027933.csv'</span>, <span style=\"color: #000080; text-decoration-color: #000080\">│</span>\n",
       "<span style=\"color: #000080; text-decoration-color: #000080\">│</span>                   <span style=\"color: #008000; text-decoration-color: #008000\">'format'</span>: <span style=\"color: #008000; text-decoration-color: #008000\">b'ASCII'</span>,           <span style=\"color: #000080; text-decoration-color: #000080\">│</span>\n",
       "<span style=\"color: #000080; text-decoration-color: #000080\">│</span>                   <span style=\"color: #008000; text-decoration-color: #008000\">'exp_number'</span>: <span style=\"color: #008080; text-decoration-color: #008080; font-weight: bold\">27933</span>,          <span style=\"color: #000080; text-decoration-color: #000080\">│</span>\n",
       "<span style=\"color: #000080; text-decoration-color: #000080\">│</span>                   <span style=\"color: #008000; text-decoration-color: #008000\">'pass'</span>: <span style=\"color: #008080; text-decoration-color: #008080; font-weight: bold\">-1</span>,                   <span style=\"color: #000080; text-decoration-color: #000080\">│</span>\n",
       "<span style=\"color: #000080; text-decoration-color: #000080\">│</span>                   <span style=\"color: #008000; text-decoration-color: #008000\">'pass_date'</span>: <span style=\"color: #008000; text-decoration-color: #008000\">b'2011-12-15'</span>    <span style=\"color: #000080; text-decoration-color: #000080\">│</span>\n",
       "<span style=\"color: #000080; text-decoration-color: #000080\">│</span>               <span style=\"font-weight: bold\">}</span>                                 <span style=\"color: #000080; text-decoration-color: #000080\">│</span>\n",
       "<span style=\"color: #000080; text-decoration-color: #000080\">│</span>        <span style=\"color: #808000; text-decoration-color: #808000; font-style: italic\">rank</span> = <span style=\"color: #008080; text-decoration-color: #008080; font-weight: bold\">0</span>                                 <span style=\"color: #000080; text-decoration-color: #000080\">│</span>\n",
       "<span style=\"color: #000080; text-decoration-color: #000080\">│</span>       <span style=\"color: #808000; text-decoration-color: #808000; font-style: italic\">shape</span> = <span style=\"font-weight: bold\">()</span>                                <span style=\"color: #000080; text-decoration-color: #000080\">│</span>\n",
       "<span style=\"color: #000080; text-decoration-color: #000080\">│</span>        <span style=\"color: #808000; text-decoration-color: #808000; font-style: italic\">time</span> = <span style=\"color: #800080; text-decoration-color: #800080; font-style: italic\">None</span>                              <span style=\"color: #000080; text-decoration-color: #000080\">│</span>\n",
       "<span style=\"color: #000080; text-decoration-color: #000080\">│</span>  <span style=\"color: #808000; text-decoration-color: #808000; font-style: italic\">time_index</span> = <span style=\"color: #800080; text-decoration-color: #800080; font-style: italic\">None</span>                              <span style=\"color: #000080; text-decoration-color: #000080\">│</span>\n",
       "<span style=\"color: #000080; text-decoration-color: #000080\">│</span>       <span style=\"color: #808000; text-decoration-color: #808000; font-style: italic\">units</span> = <span style=\"color: #008000; text-decoration-color: #008000\">''</span>                                <span style=\"color: #000080; text-decoration-color: #000080\">│</span>\n",
       "<span style=\"color: #000080; text-decoration-color: #000080\">╰─────────────────────────────────────────────────╯</span>\n",
       "</pre>\n"
      ],
      "text/plain": [
       "\u001b[34m╭─\u001b[0m\u001b[34m─────── \u001b[0m\u001b[1;34m<\u001b[0m\u001b[1;95mclass\u001b[0m\u001b[39m \u001b[0m\u001b[32m'pyuda._signal.Signal'\u001b[0m\u001b[1;34m>\u001b[0m\u001b[34m ────────\u001b[0m\u001b[34m─╮\u001b[0m\n",
       "\u001b[34m│\u001b[0m \u001b[32m╭─────────────────────────────────────────────╮\u001b[0m \u001b[34m│\u001b[0m\n",
       "\u001b[34m│\u001b[0m \u001b[32m│\u001b[0m \u001b[1m<\u001b[0m\u001b[1;95mSignal\u001b[0m\u001b[1m>\u001b[0m                                    \u001b[32m│\u001b[0m \u001b[34m│\u001b[0m\n",
       "\u001b[34m│\u001b[0m \u001b[32m╰─────────────────────────────────────────────╯\u001b[0m \u001b[34m│\u001b[0m\n",
       "\u001b[34m│\u001b[0m                                                 \u001b[34m│\u001b[0m\n",
       "\u001b[34m│\u001b[0m        \u001b[3;33mdata\u001b[0m = \u001b[3;35mNone\u001b[0m                              \u001b[34m│\u001b[0m\n",
       "\u001b[34m│\u001b[0m \u001b[3;33mdescription\u001b[0m = \u001b[32m''\u001b[0m                                \u001b[34m│\u001b[0m\n",
       "\u001b[34m│\u001b[0m        \u001b[3;33mdims\u001b[0m = \u001b[1m[\u001b[0m\u001b[1m]\u001b[0m                                \u001b[34m│\u001b[0m\n",
       "\u001b[34m│\u001b[0m      \u001b[3;33merrors\u001b[0m = \u001b[3;35mNone\u001b[0m                              \u001b[34m│\u001b[0m\n",
       "\u001b[34m│\u001b[0m       \u001b[3;33mlabel\u001b[0m = \u001b[32m''\u001b[0m                                \u001b[34m│\u001b[0m\n",
       "\u001b[34m│\u001b[0m        \u001b[3;33mmeta\u001b[0m = \u001b[1m{\u001b[0m                                 \u001b[34m│\u001b[0m\n",
       "\u001b[34m│\u001b[0m                   \u001b[32m'signal_name'\u001b[0m: \u001b[32mb'msf'\u001b[0m,        \u001b[34m│\u001b[0m\n",
       "\u001b[34m│\u001b[0m                   \u001b[32m'signal_alias'\u001b[0m: \u001b[32mb'msf'\u001b[0m,       \u001b[34m│\u001b[0m\n",
       "\u001b[34m│\u001b[0m                   \u001b[32m'path'\u001b[0m: \u001b[32mb'/msf027933.csv'\u001b[0m,    \u001b[34m│\u001b[0m\n",
       "\u001b[34m│\u001b[0m                   \u001b[32m'filename'\u001b[0m: \u001b[32mb'msf027933.csv'\u001b[0m, \u001b[34m│\u001b[0m\n",
       "\u001b[34m│\u001b[0m                   \u001b[32m'format'\u001b[0m: \u001b[32mb'ASCII'\u001b[0m,           \u001b[34m│\u001b[0m\n",
       "\u001b[34m│\u001b[0m                   \u001b[32m'exp_number'\u001b[0m: \u001b[1;36m27933\u001b[0m,          \u001b[34m│\u001b[0m\n",
       "\u001b[34m│\u001b[0m                   \u001b[32m'pass'\u001b[0m: \u001b[1;36m-1\u001b[0m,                   \u001b[34m│\u001b[0m\n",
       "\u001b[34m│\u001b[0m                   \u001b[32m'pass_date'\u001b[0m: \u001b[32mb'2011-12-15'\u001b[0m    \u001b[34m│\u001b[0m\n",
       "\u001b[34m│\u001b[0m               \u001b[1m}\u001b[0m                                 \u001b[34m│\u001b[0m\n",
       "\u001b[34m│\u001b[0m        \u001b[3;33mrank\u001b[0m = \u001b[1;36m0\u001b[0m                                 \u001b[34m│\u001b[0m\n",
       "\u001b[34m│\u001b[0m       \u001b[3;33mshape\u001b[0m = \u001b[1m(\u001b[0m\u001b[1m)\u001b[0m                                \u001b[34m│\u001b[0m\n",
       "\u001b[34m│\u001b[0m        \u001b[3;33mtime\u001b[0m = \u001b[3;35mNone\u001b[0m                              \u001b[34m│\u001b[0m\n",
       "\u001b[34m│\u001b[0m  \u001b[3;33mtime_index\u001b[0m = \u001b[3;35mNone\u001b[0m                              \u001b[34m│\u001b[0m\n",
       "\u001b[34m│\u001b[0m       \u001b[3;33munits\u001b[0m = \u001b[32m''\u001b[0m                                \u001b[34m│\u001b[0m\n",
       "\u001b[34m╰─────────────────────────────────────────────────╯\u001b[0m\n"
      ]
     },
     "metadata": {},
     "output_type": "display_data"
    }
   ],
   "source": [
    "data = client.get(\"msf\", shot_1)\n",
    "inspect(data, docs=False)"
   ]
  },
  {
   "cell_type": "markdown",
   "id": "43a11ad8",
   "metadata": {},
   "source": [
    "### Sources in *BINARY*"
   ]
  },
  {
   "cell_type": "markdown",
   "id": "6bad8782",
   "metadata": {},
   "source": [
    "*BINARY* files are not accessible via UDA API. \n",
    "\n",
    "Here, we inspect sources of `shot_2` as the `shot_1` does not have any *BINARY* data in it."
   ]
  },
  {
   "cell_type": "code",
   "execution_count": 60,
   "id": "defb1f8e",
   "metadata": {},
   "outputs": [
    {
     "data": {
      "text/html": [
       "<pre style=\"white-space:pre;overflow-x:auto;line-height:normal;font-family:Menlo,'DejaVu Sans Mono',consolas,'Courier New',monospace\"><span style=\"color: #000080; text-decoration-color: #000080\">╭────────────────────────────────────── </span><span style=\"color: #000080; text-decoration-color: #000080; font-weight: bold\">&lt;</span><span style=\"color: #ff00ff; text-decoration-color: #ff00ff; font-weight: bold\">class</span><span style=\"color: #000000; text-decoration-color: #000000\"> </span><span style=\"color: #008000; text-decoration-color: #008000\">'list'</span><span style=\"color: #000080; text-decoration-color: #000080; font-weight: bold\">&gt;</span><span style=\"color: #000080; text-decoration-color: #000080\"> ──────────────────────────────────────╮</span>\n",
       "<span style=\"color: #000080; text-decoration-color: #000080\">│</span> <span style=\"color: #008000; text-decoration-color: #008000\">╭────────────────────────────────────────────────────────────────────────────────────────╮</span> <span style=\"color: #000080; text-decoration-color: #000080\">│</span>\n",
       "<span style=\"color: #000080; text-decoration-color: #000080\">│</span> <span style=\"color: #008000; text-decoration-color: #008000\">│</span> <span style=\"font-weight: bold\">[</span>                                                                                      <span style=\"color: #008000; text-decoration-color: #008000\">│</span> <span style=\"color: #000080; text-decoration-color: #000080\">│</span>\n",
       "<span style=\"color: #000080; text-decoration-color: #000080\">│</span> <span style=\"color: #008000; text-decoration-color: #008000\">│</span> <span style=\"color: #7fbf7f; text-decoration-color: #7fbf7f\">│   </span><span style=\"color: #800080; text-decoration-color: #800080; font-weight: bold\">ListData</span><span style=\"font-weight: bold\">(</span>                                                                          <span style=\"color: #008000; text-decoration-color: #008000\">│</span> <span style=\"color: #000080; text-decoration-color: #000080\">│</span>\n",
       "<span style=\"color: #000080; text-decoration-color: #000080\">│</span> <span style=\"color: #008000; text-decoration-color: #008000\">│</span> <span style=\"color: #7fbf7f; text-decoration-color: #7fbf7f\">│   │   </span><span style=\"color: #808000; text-decoration-color: #808000\">shot</span>=<span style=\"color: #008080; text-decoration-color: #008080; font-weight: bold\">12000</span>,                                                                    <span style=\"color: #008000; text-decoration-color: #008000\">│</span> <span style=\"color: #000080; text-decoration-color: #000080\">│</span>\n",
       "<span style=\"color: #000080; text-decoration-color: #000080\">│</span> <span style=\"color: #008000; text-decoration-color: #008000\">│</span> <span style=\"color: #7fbf7f; text-decoration-color: #7fbf7f\">│   │   </span><span style=\"color: #808000; text-decoration-color: #808000\">pass_</span>=<span style=\"color: #008080; text-decoration-color: #008080; font-weight: bold\">0</span>,                                                                       <span style=\"color: #008000; text-decoration-color: #008000\">│</span> <span style=\"color: #000080; text-decoration-color: #000080\">│</span>\n",
       "<span style=\"color: #000080; text-decoration-color: #000080\">│</span> <span style=\"color: #008000; text-decoration-color: #008000\">│</span> <span style=\"color: #7fbf7f; text-decoration-color: #7fbf7f\">│   │   </span><span style=\"color: #808000; text-decoration-color: #808000\">status</span>=<span style=\"color: #008080; text-decoration-color: #008080; font-weight: bold\">0</span>,                                                                      <span style=\"color: #008000; text-decoration-color: #008000\">│</span> <span style=\"color: #000080; text-decoration-color: #000080\">│</span>\n",
       "<span style=\"color: #000080; text-decoration-color: #000080\">│</span> <span style=\"color: #008000; text-decoration-color: #008000\">│</span> <span style=\"color: #7fbf7f; text-decoration-color: #7fbf7f\">│   │   </span><span style=\"color: #808000; text-decoration-color: #808000\">source_alias</span>=<span style=\"color: #008000; text-decoration-color: #008000\">'pcs'</span>,                                                            <span style=\"color: #008000; text-decoration-color: #008000\">│</span> <span style=\"color: #000080; text-decoration-color: #000080\">│</span>\n",
       "<span style=\"color: #000080; text-decoration-color: #000080\">│</span> <span style=\"color: #008000; text-decoration-color: #008000\">│</span> <span style=\"color: #7fbf7f; text-decoration-color: #7fbf7f\">│   │   </span><span style=\"color: #808000; text-decoration-color: #808000\">format</span>=<span style=\"color: #008000; text-decoration-color: #008000\">'BINARY'</span>,                                                               <span style=\"color: #008000; text-decoration-color: #008000\">│</span> <span style=\"color: #000080; text-decoration-color: #000080\">│</span>\n",
       "<span style=\"color: #000080; text-decoration-color: #000080\">│</span> <span style=\"color: #008000; text-decoration-color: #008000\">│</span> <span style=\"color: #7fbf7f; text-decoration-color: #7fbf7f\">│   │   </span><span style=\"color: #808000; text-decoration-color: #808000\">filename</span>=<span style=\"color: #008000; text-decoration-color: #008000\">'pcs0120.00'</span>,                                                         <span style=\"color: #008000; text-decoration-color: #008000\">│</span> <span style=\"color: #000080; text-decoration-color: #000080\">│</span>\n",
       "<span style=\"color: #000080; text-decoration-color: #000080\">│</span> <span style=\"color: #008000; text-decoration-color: #008000\">│</span> <span style=\"color: #7fbf7f; text-decoration-color: #7fbf7f\">│   │   </span><span style=\"color: #808000; text-decoration-color: #808000\">type</span>=<span style=\"color: #008000; text-decoration-color: #008000\">'Raw'</span>,                                                                    <span style=\"color: #008000; text-decoration-color: #008000\">│</span> <span style=\"color: #000080; text-decoration-color: #000080\">│</span>\n",
       "<span style=\"color: #000080; text-decoration-color: #000080\">│</span> <span style=\"color: #008000; text-decoration-color: #008000\">│</span> <span style=\"color: #7fbf7f; text-decoration-color: #7fbf7f\">│   │   </span><span style=\"color: #808000; text-decoration-color: #808000\">description</span>=<span style=\"color: #008000; text-decoration-color: #008000\">'Plasma control system shot file, and is in the same format a'</span>+<span style=\"color: #008080; text-decoration-color: #008080; font-weight: bold\">83</span>, <span style=\"color: #008000; text-decoration-color: #008000\">│</span> <span style=\"color: #000080; text-decoration-color: #000080\">│</span>\n",
       "<span style=\"color: #000080; text-decoration-color: #000080\">│</span> <span style=\"color: #008000; text-decoration-color: #008000\">│</span> <span style=\"color: #7fbf7f; text-decoration-color: #7fbf7f\">│   │   </span><span style=\"color: #808000; text-decoration-color: #808000\">run_id</span>=<span style=\"color: #008080; text-decoration-color: #008080; font-weight: bold\">-1</span>                                                                      <span style=\"color: #008000; text-decoration-color: #008000\">│</span> <span style=\"color: #000080; text-decoration-color: #000080\">│</span>\n",
       "<span style=\"color: #000080; text-decoration-color: #000080\">│</span> <span style=\"color: #008000; text-decoration-color: #008000\">│</span> <span style=\"color: #7fbf7f; text-decoration-color: #7fbf7f\">│   </span><span style=\"font-weight: bold\">)</span>,                                                                                 <span style=\"color: #008000; text-decoration-color: #008000\">│</span> <span style=\"color: #000080; text-decoration-color: #000080\">│</span>\n",
       "<span style=\"color: #000080; text-decoration-color: #000080\">│</span> <span style=\"color: #008000; text-decoration-color: #008000\">│</span> <span style=\"color: #7fbf7f; text-decoration-color: #7fbf7f\">│   </span><span style=\"color: #800080; text-decoration-color: #800080; font-weight: bold\">ListData</span><span style=\"font-weight: bold\">(</span>                                                                          <span style=\"color: #008000; text-decoration-color: #008000\">│</span> <span style=\"color: #000080; text-decoration-color: #000080\">│</span>\n",
       "<span style=\"color: #000080; text-decoration-color: #000080\">│</span> <span style=\"color: #008000; text-decoration-color: #008000\">│</span> <span style=\"color: #7fbf7f; text-decoration-color: #7fbf7f\">│   │   </span><span style=\"color: #808000; text-decoration-color: #808000\">shot</span>=<span style=\"color: #008080; text-decoration-color: #008080; font-weight: bold\">12000</span>,                                                                    <span style=\"color: #008000; text-decoration-color: #008000\">│</span> <span style=\"color: #000080; text-decoration-color: #000080\">│</span>\n",
       "<span style=\"color: #000080; text-decoration-color: #000080\">│</span> <span style=\"color: #008000; text-decoration-color: #008000\">│</span> <span style=\"color: #7fbf7f; text-decoration-color: #7fbf7f\">│   │   </span><span style=\"color: #808000; text-decoration-color: #808000\">pass_</span>=<span style=\"color: #008080; text-decoration-color: #008080; font-weight: bold\">-1</span>,                                                                      <span style=\"color: #008000; text-decoration-color: #008000\">│</span> <span style=\"color: #000080; text-decoration-color: #000080\">│</span>\n",
       "<span style=\"color: #000080; text-decoration-color: #000080\">│</span> <span style=\"color: #008000; text-decoration-color: #008000\">│</span> <span style=\"color: #7fbf7f; text-decoration-color: #7fbf7f\">│   │   </span><span style=\"color: #808000; text-decoration-color: #808000\">status</span>=<span style=\"color: #008080; text-decoration-color: #008080; font-weight: bold\">1</span>,                                                                      <span style=\"color: #008000; text-decoration-color: #008000\">│</span> <span style=\"color: #000080; text-decoration-color: #000080\">│</span>\n",
       "<span style=\"color: #000080; text-decoration-color: #000080\">│</span> <span style=\"color: #008000; text-decoration-color: #008000\">│</span> <span style=\"color: #7fbf7f; text-decoration-color: #7fbf7f\">│   │   </span><span style=\"color: #808000; text-decoration-color: #808000\">source_alias</span>=<span style=\"color: #008000; text-decoration-color: #008000\">'pcs'</span>,                                                            <span style=\"color: #008000; text-decoration-color: #008000\">│</span> <span style=\"color: #000080; text-decoration-color: #000080\">│</span>\n",
       "<span style=\"color: #000080; text-decoration-color: #000080\">│</span> <span style=\"color: #008000; text-decoration-color: #008000\">│</span> <span style=\"color: #7fbf7f; text-decoration-color: #7fbf7f\">│   │   </span><span style=\"color: #808000; text-decoration-color: #808000\">format</span>=<span style=\"color: #008000; text-decoration-color: #008000\">'BINARY'</span>,                                                               <span style=\"color: #008000; text-decoration-color: #008000\">│</span> <span style=\"color: #000080; text-decoration-color: #000080\">│</span>\n",
       "<span style=\"color: #000080; text-decoration-color: #000080\">│</span> <span style=\"color: #008000; text-decoration-color: #008000\">│</span> <span style=\"color: #7fbf7f; text-decoration-color: #7fbf7f\">│   │   </span><span style=\"color: #808000; text-decoration-color: #808000\">filename</span>=<span style=\"color: #008000; text-decoration-color: #008000\">'pcs0120.00'</span>,                                                         <span style=\"color: #008000; text-decoration-color: #008000\">│</span> <span style=\"color: #000080; text-decoration-color: #000080\">│</span>\n",
       "<span style=\"color: #000080; text-decoration-color: #000080\">│</span> <span style=\"color: #008000; text-decoration-color: #008000\">│</span> <span style=\"color: #7fbf7f; text-decoration-color: #7fbf7f\">│   │   </span><span style=\"color: #808000; text-decoration-color: #808000\">type</span>=<span style=\"color: #008000; text-decoration-color: #008000\">'Raw'</span>,                                                                    <span style=\"color: #008000; text-decoration-color: #008000\">│</span> <span style=\"color: #000080; text-decoration-color: #000080\">│</span>\n",
       "<span style=\"color: #000080; text-decoration-color: #000080\">│</span> <span style=\"color: #008000; text-decoration-color: #008000\">│</span> <span style=\"color: #7fbf7f; text-decoration-color: #7fbf7f\">│   │   </span><span style=\"color: #808000; text-decoration-color: #808000\">description</span>=<span style=\"color: #008000; text-decoration-color: #008000\">'Plasma control system shot file, and is in the same format a'</span>+<span style=\"color: #008080; text-decoration-color: #008080; font-weight: bold\">83</span>, <span style=\"color: #008000; text-decoration-color: #008000\">│</span> <span style=\"color: #000080; text-decoration-color: #000080\">│</span>\n",
       "<span style=\"color: #000080; text-decoration-color: #000080\">│</span> <span style=\"color: #008000; text-decoration-color: #008000\">│</span> <span style=\"color: #7fbf7f; text-decoration-color: #7fbf7f\">│   │   </span><span style=\"color: #808000; text-decoration-color: #808000\">run_id</span>=<span style=\"color: #008080; text-decoration-color: #008080; font-weight: bold\">-1</span>                                                                      <span style=\"color: #008000; text-decoration-color: #008000\">│</span> <span style=\"color: #000080; text-decoration-color: #000080\">│</span>\n",
       "<span style=\"color: #000080; text-decoration-color: #000080\">│</span> <span style=\"color: #008000; text-decoration-color: #008000\">│</span> <span style=\"color: #7fbf7f; text-decoration-color: #7fbf7f\">│   </span><span style=\"font-weight: bold\">)</span>                                                                                  <span style=\"color: #008000; text-decoration-color: #008000\">│</span> <span style=\"color: #000080; text-decoration-color: #000080\">│</span>\n",
       "<span style=\"color: #000080; text-decoration-color: #000080\">│</span> <span style=\"color: #008000; text-decoration-color: #008000\">│</span> <span style=\"font-weight: bold\">]</span>                                                                                      <span style=\"color: #008000; text-decoration-color: #008000\">│</span> <span style=\"color: #000080; text-decoration-color: #000080\">│</span>\n",
       "<span style=\"color: #000080; text-decoration-color: #000080\">│</span> <span style=\"color: #008000; text-decoration-color: #008000\">╰────────────────────────────────────────────────────────────────────────────────────────╯</span> <span style=\"color: #000080; text-decoration-color: #000080\">│</span>\n",
       "<span style=\"color: #000080; text-decoration-color: #000080\">│</span>                                                                                            <span style=\"color: #000080; text-decoration-color: #000080\">│</span>\n",
       "<span style=\"color: #000080; text-decoration-color: #000080\">│</span> <span style=\"color: #008080; text-decoration-color: #008080; font-weight: bold\">35</span><span style=\"font-style: italic\"> attribute(s) not shown.</span> Run <span style=\"color: #800080; text-decoration-color: #800080; font-weight: bold\">inspect</span><span style=\"font-weight: bold\">(</span>inspect<span style=\"font-weight: bold\">)</span> for options.                               <span style=\"color: #000080; text-decoration-color: #000080\">│</span>\n",
       "<span style=\"color: #000080; text-decoration-color: #000080\">╰────────────────────────────────────────────────────────────────────────────────────────────╯</span>\n",
       "</pre>\n"
      ],
      "text/plain": [
       "\u001b[34m╭─\u001b[0m\u001b[34m───────────────────────────────────── \u001b[0m\u001b[1;34m<\u001b[0m\u001b[1;95mclass\u001b[0m\u001b[39m \u001b[0m\u001b[32m'list'\u001b[0m\u001b[1;34m>\u001b[0m\u001b[34m ─────────────────────────────────────\u001b[0m\u001b[34m─╮\u001b[0m\n",
       "\u001b[34m│\u001b[0m \u001b[32m╭────────────────────────────────────────────────────────────────────────────────────────╮\u001b[0m \u001b[34m│\u001b[0m\n",
       "\u001b[34m│\u001b[0m \u001b[32m│\u001b[0m \u001b[1m[\u001b[0m                                                                                      \u001b[32m│\u001b[0m \u001b[34m│\u001b[0m\n",
       "\u001b[34m│\u001b[0m \u001b[32m│\u001b[0m \u001b[2;32m│   \u001b[0m\u001b[1;35mListData\u001b[0m\u001b[1m(\u001b[0m                                                                          \u001b[32m│\u001b[0m \u001b[34m│\u001b[0m\n",
       "\u001b[34m│\u001b[0m \u001b[32m│\u001b[0m \u001b[2;32m│   │   \u001b[0m\u001b[33mshot\u001b[0m=\u001b[1;36m12000\u001b[0m,                                                                    \u001b[32m│\u001b[0m \u001b[34m│\u001b[0m\n",
       "\u001b[34m│\u001b[0m \u001b[32m│\u001b[0m \u001b[2;32m│   │   \u001b[0m\u001b[33mpass_\u001b[0m=\u001b[1;36m0\u001b[0m,                                                                       \u001b[32m│\u001b[0m \u001b[34m│\u001b[0m\n",
       "\u001b[34m│\u001b[0m \u001b[32m│\u001b[0m \u001b[2;32m│   │   \u001b[0m\u001b[33mstatus\u001b[0m=\u001b[1;36m0\u001b[0m,                                                                      \u001b[32m│\u001b[0m \u001b[34m│\u001b[0m\n",
       "\u001b[34m│\u001b[0m \u001b[32m│\u001b[0m \u001b[2;32m│   │   \u001b[0m\u001b[33msource_alias\u001b[0m=\u001b[32m'pcs'\u001b[0m,                                                            \u001b[32m│\u001b[0m \u001b[34m│\u001b[0m\n",
       "\u001b[34m│\u001b[0m \u001b[32m│\u001b[0m \u001b[2;32m│   │   \u001b[0m\u001b[33mformat\u001b[0m=\u001b[32m'BINARY'\u001b[0m,                                                               \u001b[32m│\u001b[0m \u001b[34m│\u001b[0m\n",
       "\u001b[34m│\u001b[0m \u001b[32m│\u001b[0m \u001b[2;32m│   │   \u001b[0m\u001b[33mfilename\u001b[0m=\u001b[32m'pcs0120.00'\u001b[0m,                                                         \u001b[32m│\u001b[0m \u001b[34m│\u001b[0m\n",
       "\u001b[34m│\u001b[0m \u001b[32m│\u001b[0m \u001b[2;32m│   │   \u001b[0m\u001b[33mtype\u001b[0m=\u001b[32m'Raw'\u001b[0m,                                                                    \u001b[32m│\u001b[0m \u001b[34m│\u001b[0m\n",
       "\u001b[34m│\u001b[0m \u001b[32m│\u001b[0m \u001b[2;32m│   │   \u001b[0m\u001b[33mdescription\u001b[0m=\u001b[32m'Plasma control system shot file, and is in the same format a'\u001b[0m+\u001b[1;36m83\u001b[0m, \u001b[32m│\u001b[0m \u001b[34m│\u001b[0m\n",
       "\u001b[34m│\u001b[0m \u001b[32m│\u001b[0m \u001b[2;32m│   │   \u001b[0m\u001b[33mrun_id\u001b[0m=\u001b[1;36m-1\u001b[0m                                                                      \u001b[32m│\u001b[0m \u001b[34m│\u001b[0m\n",
       "\u001b[34m│\u001b[0m \u001b[32m│\u001b[0m \u001b[2;32m│   \u001b[0m\u001b[1m)\u001b[0m,                                                                                 \u001b[32m│\u001b[0m \u001b[34m│\u001b[0m\n",
       "\u001b[34m│\u001b[0m \u001b[32m│\u001b[0m \u001b[2;32m│   \u001b[0m\u001b[1;35mListData\u001b[0m\u001b[1m(\u001b[0m                                                                          \u001b[32m│\u001b[0m \u001b[34m│\u001b[0m\n",
       "\u001b[34m│\u001b[0m \u001b[32m│\u001b[0m \u001b[2;32m│   │   \u001b[0m\u001b[33mshot\u001b[0m=\u001b[1;36m12000\u001b[0m,                                                                    \u001b[32m│\u001b[0m \u001b[34m│\u001b[0m\n",
       "\u001b[34m│\u001b[0m \u001b[32m│\u001b[0m \u001b[2;32m│   │   \u001b[0m\u001b[33mpass_\u001b[0m=\u001b[1;36m-1\u001b[0m,                                                                      \u001b[32m│\u001b[0m \u001b[34m│\u001b[0m\n",
       "\u001b[34m│\u001b[0m \u001b[32m│\u001b[0m \u001b[2;32m│   │   \u001b[0m\u001b[33mstatus\u001b[0m=\u001b[1;36m1\u001b[0m,                                                                      \u001b[32m│\u001b[0m \u001b[34m│\u001b[0m\n",
       "\u001b[34m│\u001b[0m \u001b[32m│\u001b[0m \u001b[2;32m│   │   \u001b[0m\u001b[33msource_alias\u001b[0m=\u001b[32m'pcs'\u001b[0m,                                                            \u001b[32m│\u001b[0m \u001b[34m│\u001b[0m\n",
       "\u001b[34m│\u001b[0m \u001b[32m│\u001b[0m \u001b[2;32m│   │   \u001b[0m\u001b[33mformat\u001b[0m=\u001b[32m'BINARY'\u001b[0m,                                                               \u001b[32m│\u001b[0m \u001b[34m│\u001b[0m\n",
       "\u001b[34m│\u001b[0m \u001b[32m│\u001b[0m \u001b[2;32m│   │   \u001b[0m\u001b[33mfilename\u001b[0m=\u001b[32m'pcs0120.00'\u001b[0m,                                                         \u001b[32m│\u001b[0m \u001b[34m│\u001b[0m\n",
       "\u001b[34m│\u001b[0m \u001b[32m│\u001b[0m \u001b[2;32m│   │   \u001b[0m\u001b[33mtype\u001b[0m=\u001b[32m'Raw'\u001b[0m,                                                                    \u001b[32m│\u001b[0m \u001b[34m│\u001b[0m\n",
       "\u001b[34m│\u001b[0m \u001b[32m│\u001b[0m \u001b[2;32m│   │   \u001b[0m\u001b[33mdescription\u001b[0m=\u001b[32m'Plasma control system shot file, and is in the same format a'\u001b[0m+\u001b[1;36m83\u001b[0m, \u001b[32m│\u001b[0m \u001b[34m│\u001b[0m\n",
       "\u001b[34m│\u001b[0m \u001b[32m│\u001b[0m \u001b[2;32m│   │   \u001b[0m\u001b[33mrun_id\u001b[0m=\u001b[1;36m-1\u001b[0m                                                                      \u001b[32m│\u001b[0m \u001b[34m│\u001b[0m\n",
       "\u001b[34m│\u001b[0m \u001b[32m│\u001b[0m \u001b[2;32m│   \u001b[0m\u001b[1m)\u001b[0m                                                                                  \u001b[32m│\u001b[0m \u001b[34m│\u001b[0m\n",
       "\u001b[34m│\u001b[0m \u001b[32m│\u001b[0m \u001b[1m]\u001b[0m                                                                                      \u001b[32m│\u001b[0m \u001b[34m│\u001b[0m\n",
       "\u001b[34m│\u001b[0m \u001b[32m╰────────────────────────────────────────────────────────────────────────────────────────╯\u001b[0m \u001b[34m│\u001b[0m\n",
       "\u001b[34m│\u001b[0m                                                                                            \u001b[34m│\u001b[0m\n",
       "\u001b[34m│\u001b[0m \u001b[1;36m35\u001b[0m\u001b[3m attribute(s) not shown.\u001b[0m Run \u001b[1;35minspect\u001b[0m\u001b[1m(\u001b[0minspect\u001b[1m)\u001b[0m for options.                               \u001b[34m│\u001b[0m\n",
       "\u001b[34m╰────────────────────────────────────────────────────────────────────────────────────────────╯\u001b[0m\n"
      ]
     },
     "metadata": {},
     "output_type": "display_data"
    }
   ],
   "source": [
    "data = [source for source in sources_2 if source.source_alias == \"pcs\"]\n",
    "# rts,pcs,rcb,rbm,rcc\n",
    "inspect(data, docs=False)"
   ]
  },
  {
   "cell_type": "markdown",
   "id": "1b2d66c4",
   "metadata": {},
   "source": [
    "This alias ('pcs') contains two `SOURCES` associated with it, which seems to be an error."
   ]
  },
  {
   "cell_type": "markdown",
   "id": "11dc0a92",
   "metadata": {},
   "source": [
    "### Data in *ASCII* format."
   ]
  },
  {
   "cell_type": "markdown",
   "id": "aa9202b9",
   "metadata": {},
   "source": [
    "Above was demonstrated that currently only meta data can be retrieved using UDA API for *BINARY* and *NIDA* types, the same holds for *ASCII*."
   ]
  },
  {
   "cell_type": "code",
   "execution_count": 61,
   "id": "cec7819e",
   "metadata": {},
   "outputs": [
    {
     "data": {
      "text/html": [
       "<pre style=\"white-space:pre;overflow-x:auto;line-height:normal;font-family:Menlo,'DejaVu Sans Mono',consolas,'Courier New',monospace\"><span style=\"color: #000080; text-decoration-color: #000080\">╭─────── </span><span style=\"color: #000080; text-decoration-color: #000080; font-weight: bold\">&lt;</span><span style=\"color: #ff00ff; text-decoration-color: #ff00ff; font-weight: bold\">class</span><span style=\"color: #000000; text-decoration-color: #000000\"> </span><span style=\"color: #008000; text-decoration-color: #008000\">'pyuda._signal.Signal'</span><span style=\"color: #000080; text-decoration-color: #000080; font-weight: bold\">&gt;</span><span style=\"color: #000080; text-decoration-color: #000080\"> ───────╮</span>\n",
       "<span style=\"color: #000080; text-decoration-color: #000080\">│</span> <span style=\"color: #008000; text-decoration-color: #008000\">╭──────────────────────────────────────────╮</span> <span style=\"color: #000080; text-decoration-color: #000080\">│</span>\n",
       "<span style=\"color: #000080; text-decoration-color: #000080\">│</span> <span style=\"color: #008000; text-decoration-color: #008000\">│</span> <span style=\"font-weight: bold\">&lt;</span><span style=\"color: #ff00ff; text-decoration-color: #ff00ff; font-weight: bold\">Signal</span><span style=\"font-weight: bold\">&gt;</span>                                 <span style=\"color: #008000; text-decoration-color: #008000\">│</span> <span style=\"color: #000080; text-decoration-color: #000080\">│</span>\n",
       "<span style=\"color: #000080; text-decoration-color: #000080\">│</span> <span style=\"color: #008000; text-decoration-color: #008000\">╰──────────────────────────────────────────╯</span> <span style=\"color: #000080; text-decoration-color: #000080\">│</span>\n",
       "<span style=\"color: #000080; text-decoration-color: #000080\">│</span>                                              <span style=\"color: #000080; text-decoration-color: #000080\">│</span>\n",
       "<span style=\"color: #000080; text-decoration-color: #000080\">│</span>        <span style=\"color: #808000; text-decoration-color: #808000; font-style: italic\">data</span> = <span style=\"color: #800080; text-decoration-color: #800080; font-style: italic\">None</span>                           <span style=\"color: #000080; text-decoration-color: #000080\">│</span>\n",
       "<span style=\"color: #000080; text-decoration-color: #000080\">│</span> <span style=\"color: #808000; text-decoration-color: #808000; font-style: italic\">description</span> = <span style=\"color: #008000; text-decoration-color: #008000\">''</span>                             <span style=\"color: #000080; text-decoration-color: #000080\">│</span>\n",
       "<span style=\"color: #000080; text-decoration-color: #000080\">│</span>        <span style=\"color: #808000; text-decoration-color: #808000; font-style: italic\">dims</span> = <span style=\"font-weight: bold\">[]</span>                             <span style=\"color: #000080; text-decoration-color: #000080\">│</span>\n",
       "<span style=\"color: #000080; text-decoration-color: #000080\">│</span>      <span style=\"color: #808000; text-decoration-color: #808000; font-style: italic\">errors</span> = <span style=\"color: #800080; text-decoration-color: #800080; font-style: italic\">None</span>                           <span style=\"color: #000080; text-decoration-color: #000080\">│</span>\n",
       "<span style=\"color: #000080; text-decoration-color: #000080\">│</span>       <span style=\"color: #808000; text-decoration-color: #808000; font-style: italic\">label</span> = <span style=\"color: #008000; text-decoration-color: #008000\">''</span>                             <span style=\"color: #000080; text-decoration-color: #000080\">│</span>\n",
       "<span style=\"color: #000080; text-decoration-color: #000080\">│</span>        <span style=\"color: #808000; text-decoration-color: #808000; font-style: italic\">meta</span> = <span style=\"font-weight: bold\">{</span>                              <span style=\"color: #000080; text-decoration-color: #000080\">│</span>\n",
       "<span style=\"color: #000080; text-decoration-color: #000080\">│</span>                   <span style=\"color: #008000; text-decoration-color: #008000\">'signal_name'</span>: <span style=\"color: #008000; text-decoration-color: #008000\">b'pcs'</span>,     <span style=\"color: #000080; text-decoration-color: #000080\">│</span>\n",
       "<span style=\"color: #000080; text-decoration-color: #000080\">│</span>                   <span style=\"color: #008000; text-decoration-color: #008000\">'signal_alias'</span>: <span style=\"color: #008000; text-decoration-color: #008000\">b'pcs'</span>,    <span style=\"color: #000080; text-decoration-color: #000080\">│</span>\n",
       "<span style=\"color: #000080; text-decoration-color: #000080\">│</span>                   <span style=\"color: #008000; text-decoration-color: #008000\">'path'</span>: <span style=\"color: #008000; text-decoration-color: #008000\">b'/pcs0120.00'</span>,    <span style=\"color: #000080; text-decoration-color: #000080\">│</span>\n",
       "<span style=\"color: #000080; text-decoration-color: #000080\">│</span>                   <span style=\"color: #008000; text-decoration-color: #008000\">'filename'</span>: <span style=\"color: #008000; text-decoration-color: #008000\">b'pcs0120.00'</span>, <span style=\"color: #000080; text-decoration-color: #000080\">│</span>\n",
       "<span style=\"color: #000080; text-decoration-color: #000080\">│</span>                   <span style=\"color: #008000; text-decoration-color: #008000\">'format'</span>: <span style=\"color: #008000; text-decoration-color: #008000\">b'BINARY'</span>,       <span style=\"color: #000080; text-decoration-color: #000080\">│</span>\n",
       "<span style=\"color: #000080; text-decoration-color: #000080\">│</span>                   <span style=\"color: #008000; text-decoration-color: #008000\">'exp_number'</span>: <span style=\"color: #008080; text-decoration-color: #008080; font-weight: bold\">12000</span>,       <span style=\"color: #000080; text-decoration-color: #000080\">│</span>\n",
       "<span style=\"color: #000080; text-decoration-color: #000080\">│</span>                   <span style=\"color: #008000; text-decoration-color: #008000\">'pass'</span>: <span style=\"color: #008080; text-decoration-color: #008080; font-weight: bold\">0</span>,                 <span style=\"color: #000080; text-decoration-color: #000080\">│</span>\n",
       "<span style=\"color: #000080; text-decoration-color: #000080\">│</span>                   <span style=\"color: #008000; text-decoration-color: #008000\">'pass_date'</span>: <span style=\"color: #008000; text-decoration-color: #008000\">b'1980-02-10'</span> <span style=\"color: #000080; text-decoration-color: #000080\">│</span>\n",
       "<span style=\"color: #000080; text-decoration-color: #000080\">│</span>               <span style=\"font-weight: bold\">}</span>                              <span style=\"color: #000080; text-decoration-color: #000080\">│</span>\n",
       "<span style=\"color: #000080; text-decoration-color: #000080\">│</span>        <span style=\"color: #808000; text-decoration-color: #808000; font-style: italic\">rank</span> = <span style=\"color: #008080; text-decoration-color: #008080; font-weight: bold\">0</span>                              <span style=\"color: #000080; text-decoration-color: #000080\">│</span>\n",
       "<span style=\"color: #000080; text-decoration-color: #000080\">│</span>       <span style=\"color: #808000; text-decoration-color: #808000; font-style: italic\">shape</span> = <span style=\"font-weight: bold\">()</span>                             <span style=\"color: #000080; text-decoration-color: #000080\">│</span>\n",
       "<span style=\"color: #000080; text-decoration-color: #000080\">│</span>        <span style=\"color: #808000; text-decoration-color: #808000; font-style: italic\">time</span> = <span style=\"color: #800080; text-decoration-color: #800080; font-style: italic\">None</span>                           <span style=\"color: #000080; text-decoration-color: #000080\">│</span>\n",
       "<span style=\"color: #000080; text-decoration-color: #000080\">│</span>  <span style=\"color: #808000; text-decoration-color: #808000; font-style: italic\">time_index</span> = <span style=\"color: #800080; text-decoration-color: #800080; font-style: italic\">None</span>                           <span style=\"color: #000080; text-decoration-color: #000080\">│</span>\n",
       "<span style=\"color: #000080; text-decoration-color: #000080\">│</span>       <span style=\"color: #808000; text-decoration-color: #808000; font-style: italic\">units</span> = <span style=\"color: #008000; text-decoration-color: #008000\">''</span>                             <span style=\"color: #000080; text-decoration-color: #000080\">│</span>\n",
       "<span style=\"color: #000080; text-decoration-color: #000080\">╰──────────────────────────────────────────────╯</span>\n",
       "</pre>\n"
      ],
      "text/plain": [
       "\u001b[34m╭─\u001b[0m\u001b[34m────── \u001b[0m\u001b[1;34m<\u001b[0m\u001b[1;95mclass\u001b[0m\u001b[39m \u001b[0m\u001b[32m'pyuda._signal.Signal'\u001b[0m\u001b[1;34m>\u001b[0m\u001b[34m ──────\u001b[0m\u001b[34m─╮\u001b[0m\n",
       "\u001b[34m│\u001b[0m \u001b[32m╭──────────────────────────────────────────╮\u001b[0m \u001b[34m│\u001b[0m\n",
       "\u001b[34m│\u001b[0m \u001b[32m│\u001b[0m \u001b[1m<\u001b[0m\u001b[1;95mSignal\u001b[0m\u001b[1m>\u001b[0m                                 \u001b[32m│\u001b[0m \u001b[34m│\u001b[0m\n",
       "\u001b[34m│\u001b[0m \u001b[32m╰──────────────────────────────────────────╯\u001b[0m \u001b[34m│\u001b[0m\n",
       "\u001b[34m│\u001b[0m                                              \u001b[34m│\u001b[0m\n",
       "\u001b[34m│\u001b[0m        \u001b[3;33mdata\u001b[0m = \u001b[3;35mNone\u001b[0m                           \u001b[34m│\u001b[0m\n",
       "\u001b[34m│\u001b[0m \u001b[3;33mdescription\u001b[0m = \u001b[32m''\u001b[0m                             \u001b[34m│\u001b[0m\n",
       "\u001b[34m│\u001b[0m        \u001b[3;33mdims\u001b[0m = \u001b[1m[\u001b[0m\u001b[1m]\u001b[0m                             \u001b[34m│\u001b[0m\n",
       "\u001b[34m│\u001b[0m      \u001b[3;33merrors\u001b[0m = \u001b[3;35mNone\u001b[0m                           \u001b[34m│\u001b[0m\n",
       "\u001b[34m│\u001b[0m       \u001b[3;33mlabel\u001b[0m = \u001b[32m''\u001b[0m                             \u001b[34m│\u001b[0m\n",
       "\u001b[34m│\u001b[0m        \u001b[3;33mmeta\u001b[0m = \u001b[1m{\u001b[0m                              \u001b[34m│\u001b[0m\n",
       "\u001b[34m│\u001b[0m                   \u001b[32m'signal_name'\u001b[0m: \u001b[32mb'pcs'\u001b[0m,     \u001b[34m│\u001b[0m\n",
       "\u001b[34m│\u001b[0m                   \u001b[32m'signal_alias'\u001b[0m: \u001b[32mb'pcs'\u001b[0m,    \u001b[34m│\u001b[0m\n",
       "\u001b[34m│\u001b[0m                   \u001b[32m'path'\u001b[0m: \u001b[32mb'/pcs0120.00'\u001b[0m,    \u001b[34m│\u001b[0m\n",
       "\u001b[34m│\u001b[0m                   \u001b[32m'filename'\u001b[0m: \u001b[32mb'pcs0120.00'\u001b[0m, \u001b[34m│\u001b[0m\n",
       "\u001b[34m│\u001b[0m                   \u001b[32m'format'\u001b[0m: \u001b[32mb'BINARY'\u001b[0m,       \u001b[34m│\u001b[0m\n",
       "\u001b[34m│\u001b[0m                   \u001b[32m'exp_number'\u001b[0m: \u001b[1;36m12000\u001b[0m,       \u001b[34m│\u001b[0m\n",
       "\u001b[34m│\u001b[0m                   \u001b[32m'pass'\u001b[0m: \u001b[1;36m0\u001b[0m,                 \u001b[34m│\u001b[0m\n",
       "\u001b[34m│\u001b[0m                   \u001b[32m'pass_date'\u001b[0m: \u001b[32mb'1980-02-10'\u001b[0m \u001b[34m│\u001b[0m\n",
       "\u001b[34m│\u001b[0m               \u001b[1m}\u001b[0m                              \u001b[34m│\u001b[0m\n",
       "\u001b[34m│\u001b[0m        \u001b[3;33mrank\u001b[0m = \u001b[1;36m0\u001b[0m                              \u001b[34m│\u001b[0m\n",
       "\u001b[34m│\u001b[0m       \u001b[3;33mshape\u001b[0m = \u001b[1m(\u001b[0m\u001b[1m)\u001b[0m                             \u001b[34m│\u001b[0m\n",
       "\u001b[34m│\u001b[0m        \u001b[3;33mtime\u001b[0m = \u001b[3;35mNone\u001b[0m                           \u001b[34m│\u001b[0m\n",
       "\u001b[34m│\u001b[0m  \u001b[3;33mtime_index\u001b[0m = \u001b[3;35mNone\u001b[0m                           \u001b[34m│\u001b[0m\n",
       "\u001b[34m│\u001b[0m       \u001b[3;33munits\u001b[0m = \u001b[32m''\u001b[0m                             \u001b[34m│\u001b[0m\n",
       "\u001b[34m╰──────────────────────────────────────────────╯\u001b[0m\n"
      ]
     },
     "metadata": {},
     "output_type": "display_data"
    }
   ],
   "source": [
    "data = client.get(\"pcs\", shot_2)\n",
    "inspect(data, docs=False)"
   ]
  },
  {
   "cell_type": "markdown",
   "id": "d63bfd9f",
   "metadata": {},
   "source": [
    "## **_Analysed_**"
   ]
  },
  {
   "cell_type": "markdown",
   "id": "e084b9b9",
   "metadata": {},
   "source": [
    "As discussed in Sec. [3.1.1](#source_type_format_and_alias), **_Analysed_** sources mainly use *IDA3* format. We found some expections, such as *ASCII* and *NIDA* are used in in shot 8000-8200, and *CDF* is used in shot 23862. \n",
    "\n",
    "It was demonstrated previously, that from these data formats only *IDA3* currently can be accessed. Data retrieval is the same as in [3.2.2](#Sources-&-Data-in-IDA3-format)."
   ]
  },
  {
   "cell_type": "markdown",
   "id": "fc85d137",
   "metadata": {},
   "source": [
    "### `SOURCES` & Data in *IDA3*"
   ]
  },
  {
   "cell_type": "code",
   "execution_count": 62,
   "id": "8b18d157",
   "metadata": {},
   "outputs": [
    {
     "data": {
      "text/html": [
       "<pre style=\"white-space:pre;overflow-x:auto;line-height:normal;font-family:Menlo,'DejaVu Sans Mono',consolas,'Courier New',monospace\"><span style=\"color: #000080; text-decoration-color: #000080\">╭─────────────────────── </span><span style=\"color: #000080; text-decoration-color: #000080; font-weight: bold\">&lt;</span><span style=\"color: #ff00ff; text-decoration-color: #ff00ff; font-weight: bold\">class</span><span style=\"color: #000000; text-decoration-color: #000000\"> </span><span style=\"color: #008000; text-decoration-color: #008000\">'list'</span><span style=\"color: #000080; text-decoration-color: #000080; font-weight: bold\">&gt;</span><span style=\"color: #000080; text-decoration-color: #000080\"> ───────────────────────╮</span>\n",
       "<span style=\"color: #000080; text-decoration-color: #000080\">│</span> <span style=\"color: #008000; text-decoration-color: #008000\">╭──────────────────────────────────────────────────────────╮</span> <span style=\"color: #000080; text-decoration-color: #000080\">│</span>\n",
       "<span style=\"color: #000080; text-decoration-color: #000080\">│</span> <span style=\"color: #008000; text-decoration-color: #008000\">│</span> <span style=\"font-weight: bold\">[</span>                                                        <span style=\"color: #008000; text-decoration-color: #008000\">│</span> <span style=\"color: #000080; text-decoration-color: #000080\">│</span>\n",
       "<span style=\"color: #000080; text-decoration-color: #000080\">│</span> <span style=\"color: #008000; text-decoration-color: #008000\">│</span> <span style=\"color: #7fbf7f; text-decoration-color: #7fbf7f\">│   </span><span style=\"color: #800080; text-decoration-color: #800080; font-weight: bold\">ListData</span><span style=\"font-weight: bold\">(</span>                                            <span style=\"color: #008000; text-decoration-color: #008000\">│</span> <span style=\"color: #000080; text-decoration-color: #000080\">│</span>\n",
       "<span style=\"color: #000080; text-decoration-color: #000080\">│</span> <span style=\"color: #008000; text-decoration-color: #008000\">│</span> <span style=\"color: #7fbf7f; text-decoration-color: #7fbf7f\">│   │   </span><span style=\"color: #808000; text-decoration-color: #808000\">shot</span>=<span style=\"color: #008080; text-decoration-color: #008080; font-weight: bold\">27933</span>,                                      <span style=\"color: #008000; text-decoration-color: #008000\">│</span> <span style=\"color: #000080; text-decoration-color: #000080\">│</span>\n",
       "<span style=\"color: #000080; text-decoration-color: #000080\">│</span> <span style=\"color: #008000; text-decoration-color: #008000\">│</span> <span style=\"color: #7fbf7f; text-decoration-color: #7fbf7f\">│   │   </span><span style=\"color: #808000; text-decoration-color: #808000\">pass_</span>=<span style=\"color: #008080; text-decoration-color: #008080; font-weight: bold\">0</span>,                                         <span style=\"color: #008000; text-decoration-color: #008000\">│</span> <span style=\"color: #000080; text-decoration-color: #000080\">│</span>\n",
       "<span style=\"color: #000080; text-decoration-color: #000080\">│</span> <span style=\"color: #008000; text-decoration-color: #008000\">│</span> <span style=\"color: #7fbf7f; text-decoration-color: #7fbf7f\">│   │   </span><span style=\"color: #808000; text-decoration-color: #808000\">status</span>=<span style=\"color: #008080; text-decoration-color: #008080; font-weight: bold\">1</span>,                                        <span style=\"color: #008000; text-decoration-color: #008000\">│</span> <span style=\"color: #000080; text-decoration-color: #000080\">│</span>\n",
       "<span style=\"color: #000080; text-decoration-color: #000080\">│</span> <span style=\"color: #008000; text-decoration-color: #008000\">│</span> <span style=\"color: #7fbf7f; text-decoration-color: #7fbf7f\">│   │   </span><span style=\"color: #808000; text-decoration-color: #808000\">source_alias</span>=<span style=\"color: #008000; text-decoration-color: #008000\">'ams'</span>,                              <span style=\"color: #008000; text-decoration-color: #008000\">│</span> <span style=\"color: #000080; text-decoration-color: #000080\">│</span>\n",
       "<span style=\"color: #000080; text-decoration-color: #000080\">│</span> <span style=\"color: #008000; text-decoration-color: #008000\">│</span> <span style=\"color: #7fbf7f; text-decoration-color: #7fbf7f\">│   │   </span><span style=\"color: #808000; text-decoration-color: #808000\">format</span>=<span style=\"color: #008000; text-decoration-color: #008000\">'IDA3'</span>,                                   <span style=\"color: #008000; text-decoration-color: #008000\">│</span> <span style=\"color: #000080; text-decoration-color: #000080\">│</span>\n",
       "<span style=\"color: #000080; text-decoration-color: #000080\">│</span> <span style=\"color: #008000; text-decoration-color: #008000\">│</span> <span style=\"color: #7fbf7f; text-decoration-color: #7fbf7f\">│   │   </span><span style=\"color: #808000; text-decoration-color: #808000\">filename</span>=<span style=\"color: #008000; text-decoration-color: #008000\">'ams0279.33'</span>,                           <span style=\"color: #008000; text-decoration-color: #008000\">│</span> <span style=\"color: #000080; text-decoration-color: #000080\">│</span>\n",
       "<span style=\"color: #000080; text-decoration-color: #000080\">│</span> <span style=\"color: #008000; text-decoration-color: #008000\">│</span> <span style=\"color: #7fbf7f; text-decoration-color: #7fbf7f\">│   │   </span><span style=\"color: #808000; text-decoration-color: #808000\">type</span>=<span style=\"color: #008000; text-decoration-color: #008000\">'Analysed'</span>,                                 <span style=\"color: #008000; text-decoration-color: #008000\">│</span> <span style=\"color: #000080; text-decoration-color: #000080\">│</span>\n",
       "<span style=\"color: #000080; text-decoration-color: #000080\">│</span> <span style=\"color: #008000; text-decoration-color: #008000\">│</span> <span style=\"color: #7fbf7f; text-decoration-color: #7fbf7f\">│   │   </span><span style=\"color: #808000; text-decoration-color: #808000\">description</span>=<span style=\"color: #008000; text-decoration-color: #008000\">'Multi-channel MSE'</span>,                 <span style=\"color: #008000; text-decoration-color: #008000\">│</span> <span style=\"color: #000080; text-decoration-color: #000080\">│</span>\n",
       "<span style=\"color: #000080; text-decoration-color: #000080\">│</span> <span style=\"color: #008000; text-decoration-color: #008000\">│</span> <span style=\"color: #7fbf7f; text-decoration-color: #7fbf7f\">│   │   </span><span style=\"color: #808000; text-decoration-color: #808000\">run_id</span>=<span style=\"color: #008080; text-decoration-color: #008080; font-weight: bold\">-1</span>                                        <span style=\"color: #008000; text-decoration-color: #008000\">│</span> <span style=\"color: #000080; text-decoration-color: #000080\">│</span>\n",
       "<span style=\"color: #000080; text-decoration-color: #000080\">│</span> <span style=\"color: #008000; text-decoration-color: #008000\">│</span> <span style=\"color: #7fbf7f; text-decoration-color: #7fbf7f\">│   </span><span style=\"font-weight: bold\">)</span>                                                    <span style=\"color: #008000; text-decoration-color: #008000\">│</span> <span style=\"color: #000080; text-decoration-color: #000080\">│</span>\n",
       "<span style=\"color: #000080; text-decoration-color: #000080\">│</span> <span style=\"color: #008000; text-decoration-color: #008000\">│</span> <span style=\"font-weight: bold\">]</span>                                                        <span style=\"color: #008000; text-decoration-color: #008000\">│</span> <span style=\"color: #000080; text-decoration-color: #000080\">│</span>\n",
       "<span style=\"color: #000080; text-decoration-color: #000080\">│</span> <span style=\"color: #008000; text-decoration-color: #008000\">╰──────────────────────────────────────────────────────────╯</span> <span style=\"color: #000080; text-decoration-color: #000080\">│</span>\n",
       "<span style=\"color: #000080; text-decoration-color: #000080\">│</span>                                                              <span style=\"color: #000080; text-decoration-color: #000080\">│</span>\n",
       "<span style=\"color: #000080; text-decoration-color: #000080\">│</span> <span style=\"color: #008080; text-decoration-color: #008080; font-weight: bold\">35</span><span style=\"font-style: italic\"> attribute(s) not shown.</span> Run <span style=\"color: #800080; text-decoration-color: #800080; font-weight: bold\">inspect</span><span style=\"font-weight: bold\">(</span>inspect<span style=\"font-weight: bold\">)</span> for options. <span style=\"color: #000080; text-decoration-color: #000080\">│</span>\n",
       "<span style=\"color: #000080; text-decoration-color: #000080\">╰──────────────────────────────────────────────────────────────╯</span>\n",
       "</pre>\n"
      ],
      "text/plain": [
       "\u001b[34m╭─\u001b[0m\u001b[34m────────────────────── \u001b[0m\u001b[1;34m<\u001b[0m\u001b[1;95mclass\u001b[0m\u001b[39m \u001b[0m\u001b[32m'list'\u001b[0m\u001b[1;34m>\u001b[0m\u001b[34m ──────────────────────\u001b[0m\u001b[34m─╮\u001b[0m\n",
       "\u001b[34m│\u001b[0m \u001b[32m╭──────────────────────────────────────────────────────────╮\u001b[0m \u001b[34m│\u001b[0m\n",
       "\u001b[34m│\u001b[0m \u001b[32m│\u001b[0m \u001b[1m[\u001b[0m                                                        \u001b[32m│\u001b[0m \u001b[34m│\u001b[0m\n",
       "\u001b[34m│\u001b[0m \u001b[32m│\u001b[0m \u001b[2;32m│   \u001b[0m\u001b[1;35mListData\u001b[0m\u001b[1m(\u001b[0m                                            \u001b[32m│\u001b[0m \u001b[34m│\u001b[0m\n",
       "\u001b[34m│\u001b[0m \u001b[32m│\u001b[0m \u001b[2;32m│   │   \u001b[0m\u001b[33mshot\u001b[0m=\u001b[1;36m27933\u001b[0m,                                      \u001b[32m│\u001b[0m \u001b[34m│\u001b[0m\n",
       "\u001b[34m│\u001b[0m \u001b[32m│\u001b[0m \u001b[2;32m│   │   \u001b[0m\u001b[33mpass_\u001b[0m=\u001b[1;36m0\u001b[0m,                                         \u001b[32m│\u001b[0m \u001b[34m│\u001b[0m\n",
       "\u001b[34m│\u001b[0m \u001b[32m│\u001b[0m \u001b[2;32m│   │   \u001b[0m\u001b[33mstatus\u001b[0m=\u001b[1;36m1\u001b[0m,                                        \u001b[32m│\u001b[0m \u001b[34m│\u001b[0m\n",
       "\u001b[34m│\u001b[0m \u001b[32m│\u001b[0m \u001b[2;32m│   │   \u001b[0m\u001b[33msource_alias\u001b[0m=\u001b[32m'ams'\u001b[0m,                              \u001b[32m│\u001b[0m \u001b[34m│\u001b[0m\n",
       "\u001b[34m│\u001b[0m \u001b[32m│\u001b[0m \u001b[2;32m│   │   \u001b[0m\u001b[33mformat\u001b[0m=\u001b[32m'IDA3'\u001b[0m,                                   \u001b[32m│\u001b[0m \u001b[34m│\u001b[0m\n",
       "\u001b[34m│\u001b[0m \u001b[32m│\u001b[0m \u001b[2;32m│   │   \u001b[0m\u001b[33mfilename\u001b[0m=\u001b[32m'ams0279.33'\u001b[0m,                           \u001b[32m│\u001b[0m \u001b[34m│\u001b[0m\n",
       "\u001b[34m│\u001b[0m \u001b[32m│\u001b[0m \u001b[2;32m│   │   \u001b[0m\u001b[33mtype\u001b[0m=\u001b[32m'Analysed'\u001b[0m,                                 \u001b[32m│\u001b[0m \u001b[34m│\u001b[0m\n",
       "\u001b[34m│\u001b[0m \u001b[32m│\u001b[0m \u001b[2;32m│   │   \u001b[0m\u001b[33mdescription\u001b[0m=\u001b[32m'Multi-channel MSE'\u001b[0m,                 \u001b[32m│\u001b[0m \u001b[34m│\u001b[0m\n",
       "\u001b[34m│\u001b[0m \u001b[32m│\u001b[0m \u001b[2;32m│   │   \u001b[0m\u001b[33mrun_id\u001b[0m=\u001b[1;36m-1\u001b[0m                                        \u001b[32m│\u001b[0m \u001b[34m│\u001b[0m\n",
       "\u001b[34m│\u001b[0m \u001b[32m│\u001b[0m \u001b[2;32m│   \u001b[0m\u001b[1m)\u001b[0m                                                    \u001b[32m│\u001b[0m \u001b[34m│\u001b[0m\n",
       "\u001b[34m│\u001b[0m \u001b[32m│\u001b[0m \u001b[1m]\u001b[0m                                                        \u001b[32m│\u001b[0m \u001b[34m│\u001b[0m\n",
       "\u001b[34m│\u001b[0m \u001b[32m╰──────────────────────────────────────────────────────────╯\u001b[0m \u001b[34m│\u001b[0m\n",
       "\u001b[34m│\u001b[0m                                                              \u001b[34m│\u001b[0m\n",
       "\u001b[34m│\u001b[0m \u001b[1;36m35\u001b[0m\u001b[3m attribute(s) not shown.\u001b[0m Run \u001b[1;35minspect\u001b[0m\u001b[1m(\u001b[0minspect\u001b[1m)\u001b[0m for options. \u001b[34m│\u001b[0m\n",
       "\u001b[34m╰──────────────────────────────────────────────────────────────╯\u001b[0m\n"
      ]
     },
     "metadata": {},
     "output_type": "display_data"
    }
   ],
   "source": [
    "data = [source for source in sources_1 if source.source_alias == \"ams\"]\n",
    "inspect(data, docs=False)"
   ]
  },
  {
   "cell_type": "markdown",
   "id": "9a656695",
   "metadata": {},
   "source": [
    "The method of fetching **_Analysed_** data is same as discussed for **_Raw_**. We use `SIGNAL` names (see the `alias_signal_dict` in Sec. [3.1.2.2](#group_signal_name_as_alias)) and shot number to fetch the data."
   ]
  },
  {
   "cell_type": "code",
   "execution_count": 63,
   "id": "2fb950ab",
   "metadata": {},
   "outputs": [
    {
     "data": {
      "text/html": [
       "<pre style=\"white-space:pre;overflow-x:auto;line-height:normal;font-family:Menlo,'DejaVu Sans Mono',consolas,'Courier New',monospace\"><span style=\"color: #000080; text-decoration-color: #000080\">╭──────────────────────────── </span><span style=\"color: #000080; text-decoration-color: #000080; font-weight: bold\">&lt;</span><span style=\"color: #ff00ff; text-decoration-color: #ff00ff; font-weight: bold\">class</span><span style=\"color: #000000; text-decoration-color: #000000\"> </span><span style=\"color: #008000; text-decoration-color: #008000\">'pyuda._signal.Signal'</span><span style=\"color: #000080; text-decoration-color: #000080; font-weight: bold\">&gt;</span><span style=\"color: #000080; text-decoration-color: #000080\"> ────────────────────────────╮</span>\n",
       "<span style=\"color: #000080; text-decoration-color: #000080\">│</span> <span style=\"color: #008000; text-decoration-color: #008000\">╭────────────────────────────────────────────────────────────────────────────────────╮</span> <span style=\"color: #000080; text-decoration-color: #000080\">│</span>\n",
       "<span style=\"color: #000080; text-decoration-color: #000080\">│</span> <span style=\"color: #008000; text-decoration-color: #008000\">│</span> <span style=\"font-weight: bold\">&lt;</span><span style=\"color: #ff00ff; text-decoration-color: #ff00ff; font-weight: bold\">Signal:</span><span style=\"color: #000000; text-decoration-color: #000000\">  </span><span style=\"font-weight: bold\">&gt;</span>                                                                        <span style=\"color: #008000; text-decoration-color: #008000\">│</span> <span style=\"color: #000080; text-decoration-color: #000080\">│</span>\n",
       "<span style=\"color: #000080; text-decoration-color: #000080\">│</span> <span style=\"color: #008000; text-decoration-color: #008000\">╰────────────────────────────────────────────────────────────────────────────────────╯</span> <span style=\"color: #000080; text-decoration-color: #000080\">│</span>\n",
       "<span style=\"color: #000080; text-decoration-color: #000080\">│</span>                                                                                        <span style=\"color: #000080; text-decoration-color: #000080\">│</span>\n",
       "<span style=\"color: #000080; text-decoration-color: #000080\">│</span>        <span style=\"color: #808000; text-decoration-color: #808000; font-style: italic\">data</span> = <span style=\"color: #800080; text-decoration-color: #800080; font-weight: bold\">array</span><span style=\"font-weight: bold\">([[</span> <span style=\"color: #008080; text-decoration-color: #008080; font-weight: bold\">0</span>.,  <span style=\"color: #008080; text-decoration-color: #008080; font-weight: bold\">2</span>.,  <span style=\"color: #008080; text-decoration-color: #008080; font-weight: bold\">5</span>.,  <span style=\"color: #008080; text-decoration-color: #008080; font-weight: bold\">6</span>.,  <span style=\"color: #008080; text-decoration-color: #008080; font-weight: bold\">7</span>.,  <span style=\"color: #008080; text-decoration-color: #008080; font-weight: bold\">8</span>.,  <span style=\"color: #008080; text-decoration-color: #008080; font-weight: bold\">9</span>., <span style=\"color: #008080; text-decoration-color: #008080; font-weight: bold\">10</span>., <span style=\"color: #008080; text-decoration-color: #008080; font-weight: bold\">11</span>., <span style=\"color: #008080; text-decoration-color: #008080; font-weight: bold\">12</span>., <span style=\"color: #008080; text-decoration-color: #008080; font-weight: bold\">13</span>., <span style=\"color: #008080; text-decoration-color: #008080; font-weight: bold\">14</span>., <span style=\"color: #008080; text-decoration-color: #008080; font-weight: bold\">15</span>., <span style=\"color: #000080; text-decoration-color: #000080\">│</span>\n",
       "<span style=\"color: #000080; text-decoration-color: #000080\">│</span>                       <span style=\"color: #008080; text-decoration-color: #008080; font-weight: bold\">23</span>., <span style=\"color: #008080; text-decoration-color: #008080; font-weight: bold\">16</span>., <span style=\"color: #008080; text-decoration-color: #008080; font-weight: bold\">17</span>., <span style=\"color: #008080; text-decoration-color: #008080; font-weight: bold\">18</span>., <span style=\"color: #008080; text-decoration-color: #008080; font-weight: bold\">20</span>., <span style=\"color: #008080; text-decoration-color: #008080; font-weight: bold\">21</span>., <span style=\"color: #008080; text-decoration-color: #008080; font-weight: bold\">22</span>., <span style=\"color: #008080; text-decoration-color: #008080; font-weight: bold\">24</span>., <span style=\"color: #008080; text-decoration-color: #008080; font-weight: bold\">25</span>., <span style=\"color: #008080; text-decoration-color: #008080; font-weight: bold\">27</span>., <span style=\"color: #008080; text-decoration-color: #008080; font-weight: bold\">30</span>., <span style=\"color: #008080; text-decoration-color: #008080; font-weight: bold\">28</span>., <span style=\"color: #008080; text-decoration-color: #008080; font-weight: bold\">29</span>., <span style=\"color: #000080; text-decoration-color: #000080\">│</span>\n",
       "<span style=\"color: #000080; text-decoration-color: #000080\">│</span>                       <span style=\"color: #008080; text-decoration-color: #008080; font-weight: bold\">31</span>., <span style=\"color: #008080; text-decoration-color: #008080; font-weight: bold\">32</span>., <span style=\"color: #008080; text-decoration-color: #008080; font-weight: bold\">33</span>., <span style=\"color: #008080; text-decoration-color: #008080; font-weight: bold\">35</span>., <span style=\"color: #008080; text-decoration-color: #008080; font-weight: bold\">38</span>., <span style=\"color: #008080; text-decoration-color: #008080; font-weight: bold\">37</span>., <span style=\"color: #008080; text-decoration-color: #008080; font-weight: bold\">39</span>., <span style=\"color: #008080; text-decoration-color: #008080; font-weight: bold\">40</span>., <span style=\"color: #008080; text-decoration-color: #008080; font-weight: bold\">41</span>.<span style=\"font-weight: bold\">]]</span>, <span style=\"color: #808000; text-decoration-color: #808000\">dtype</span>=<span style=\"color: #800080; text-decoration-color: #800080\">float32</span><span style=\"font-weight: bold\">)</span>    <span style=\"color: #000080; text-decoration-color: #000080\">│</span>\n",
       "<span style=\"color: #000080; text-decoration-color: #000080\">│</span> <span style=\"color: #808000; text-decoration-color: #808000; font-style: italic\">description</span> = <span style=\"color: #008000; text-decoration-color: #008000\">''</span>                                                                       <span style=\"color: #000080; text-decoration-color: #000080\">│</span>\n",
       "<span style=\"color: #000080; text-decoration-color: #000080\">│</span>        <span style=\"color: #808000; text-decoration-color: #808000; font-style: italic\">dims</span> = <span style=\"font-weight: bold\">[&lt;</span><span style=\"color: #ff00ff; text-decoration-color: #ff00ff; font-weight: bold\">Dim:</span><span style=\"color: #000000; text-decoration-color: #000000\"> Time</span><span style=\"font-weight: bold\">&gt;</span>, <span style=\"font-weight: bold\">&lt;</span><span style=\"color: #ff00ff; text-decoration-color: #ff00ff; font-weight: bold\">Dim:</span><span style=\"color: #000000; text-decoration-color: #000000\">  </span><span style=\"font-weight: bold\">&gt;]</span>                                                  <span style=\"color: #000080; text-decoration-color: #000080\">│</span>\n",
       "<span style=\"color: #000080; text-decoration-color: #000080\">│</span>      <span style=\"color: #808000; text-decoration-color: #808000; font-style: italic\">errors</span> = <span style=\"color: #800080; text-decoration-color: #800080; font-weight: bold\">array</span><span style=\"font-weight: bold\">([[</span><span style=\"color: #008080; text-decoration-color: #008080; font-weight: bold\">0</span>., <span style=\"color: #008080; text-decoration-color: #008080; font-weight: bold\">0</span>., <span style=\"color: #008080; text-decoration-color: #008080; font-weight: bold\">0</span>., <span style=\"color: #008080; text-decoration-color: #008080; font-weight: bold\">0</span>., <span style=\"color: #008080; text-decoration-color: #008080; font-weight: bold\">0</span>., <span style=\"color: #008080; text-decoration-color: #008080; font-weight: bold\">0</span>., <span style=\"color: #008080; text-decoration-color: #008080; font-weight: bold\">0</span>., <span style=\"color: #008080; text-decoration-color: #008080; font-weight: bold\">0</span>., <span style=\"color: #008080; text-decoration-color: #008080; font-weight: bold\">0</span>., <span style=\"color: #008080; text-decoration-color: #008080; font-weight: bold\">0</span>., <span style=\"color: #008080; text-decoration-color: #008080; font-weight: bold\">0</span>., <span style=\"color: #008080; text-decoration-color: #008080; font-weight: bold\">0</span>., <span style=\"color: #008080; text-decoration-color: #008080; font-weight: bold\">0</span>., <span style=\"color: #008080; text-decoration-color: #008080; font-weight: bold\">0</span>., <span style=\"color: #008080; text-decoration-color: #008080; font-weight: bold\">0</span>., <span style=\"color: #008080; text-decoration-color: #008080; font-weight: bold\">0</span>.,  <span style=\"color: #000080; text-decoration-color: #000080\">│</span>\n",
       "<span style=\"color: #000080; text-decoration-color: #000080\">│</span>                       <span style=\"color: #008080; text-decoration-color: #008080; font-weight: bold\">0</span>., <span style=\"color: #008080; text-decoration-color: #008080; font-weight: bold\">0</span>., <span style=\"color: #008080; text-decoration-color: #008080; font-weight: bold\">0</span>., <span style=\"color: #008080; text-decoration-color: #008080; font-weight: bold\">0</span>., <span style=\"color: #008080; text-decoration-color: #008080; font-weight: bold\">0</span>., <span style=\"color: #008080; text-decoration-color: #008080; font-weight: bold\">0</span>., <span style=\"color: #008080; text-decoration-color: #008080; font-weight: bold\">0</span>., <span style=\"color: #008080; text-decoration-color: #008080; font-weight: bold\">0</span>., <span style=\"color: #008080; text-decoration-color: #008080; font-weight: bold\">0</span>., <span style=\"color: #008080; text-decoration-color: #008080; font-weight: bold\">0</span>., <span style=\"color: #008080; text-decoration-color: #008080; font-weight: bold\">0</span>., <span style=\"color: #008080; text-decoration-color: #008080; font-weight: bold\">0</span>., <span style=\"color: #008080; text-decoration-color: #008080; font-weight: bold\">0</span>., <span style=\"color: #008080; text-decoration-color: #008080; font-weight: bold\">0</span>., <span style=\"color: #008080; text-decoration-color: #008080; font-weight: bold\">0</span>., <span style=\"color: #008080; text-decoration-color: #008080; font-weight: bold\">0</span>.,  <span style=\"color: #000080; text-decoration-color: #000080\">│</span>\n",
       "<span style=\"color: #000080; text-decoration-color: #000080\">│</span>                       <span style=\"color: #008080; text-decoration-color: #008080; font-weight: bold\">0</span>., <span style=\"color: #008080; text-decoration-color: #008080; font-weight: bold\">0</span>., <span style=\"color: #008080; text-decoration-color: #008080; font-weight: bold\">0</span>.<span style=\"font-weight: bold\">]]</span>, <span style=\"color: #808000; text-decoration-color: #808000\">dtype</span>=<span style=\"color: #800080; text-decoration-color: #800080\">float32</span><span style=\"font-weight: bold\">)</span>                                     <span style=\"color: #000080; text-decoration-color: #000080\">│</span>\n",
       "<span style=\"color: #000080; text-decoration-color: #000080\">│</span>       <span style=\"color: #808000; text-decoration-color: #808000; font-style: italic\">label</span> = <span style=\"color: #008000; text-decoration-color: #008000\">' '</span>                                                                      <span style=\"color: #000080; text-decoration-color: #000080\">│</span>\n",
       "<span style=\"color: #000080; text-decoration-color: #000080\">│</span>        <span style=\"color: #808000; text-decoration-color: #808000; font-style: italic\">meta</span> = <span style=\"font-weight: bold\">{</span>                                                                        <span style=\"color: #000080; text-decoration-color: #000080\">│</span>\n",
       "<span style=\"color: #000080; text-decoration-color: #000080\">│</span>                   <span style=\"color: #008000; text-decoration-color: #008000\">'signal_name'</span>: <span style=\"color: #008000; text-decoration-color: #008000\">b'AMS_CH'</span>,                                            <span style=\"color: #000080; text-decoration-color: #000080\">│</span>\n",
       "<span style=\"color: #000080; text-decoration-color: #000080\">│</span>                   <span style=\"color: #008000; text-decoration-color: #008000\">'signal_alias'</span>: <span style=\"color: #008000; text-decoration-color: #008000\">b'AMS_CH'</span>,                                           <span style=\"color: #000080; text-decoration-color: #000080\">│</span>\n",
       "<span style=\"color: #000080; text-decoration-color: #000080\">│</span>                   <span style=\"color: #008000; text-decoration-color: #008000\">'path'</span>: <span style=\"color: #008000; text-decoration-color: #008000\">b''</span>,                                                         <span style=\"color: #000080; text-decoration-color: #000080\">│</span>\n",
       "<span style=\"color: #000080; text-decoration-color: #000080\">│</span>                   <span style=\"color: #008000; text-decoration-color: #008000\">'filename'</span>: <span style=\"color: #008000; text-decoration-color: #008000\">b'ams0279.33'</span>,                                           <span style=\"color: #000080; text-decoration-color: #000080\">│</span>\n",
       "<span style=\"color: #000080; text-decoration-color: #000080\">│</span>                   <span style=\"color: #008000; text-decoration-color: #008000\">'format'</span>: <span style=\"color: #008000; text-decoration-color: #008000\">b'IDA3'</span>,                                                   <span style=\"color: #000080; text-decoration-color: #000080\">│</span>\n",
       "<span style=\"color: #000080; text-decoration-color: #000080\">│</span>                   <span style=\"color: #008000; text-decoration-color: #008000\">'exp_number'</span>: <span style=\"color: #008080; text-decoration-color: #008080; font-weight: bold\">27933</span>,                                                 <span style=\"color: #000080; text-decoration-color: #000080\">│</span>\n",
       "<span style=\"color: #000080; text-decoration-color: #000080\">│</span>                   <span style=\"color: #008000; text-decoration-color: #008000\">'pass'</span>: <span style=\"color: #008080; text-decoration-color: #008080; font-weight: bold\">0</span>,                                                           <span style=\"color: #000080; text-decoration-color: #000080\">│</span>\n",
       "<span style=\"color: #000080; text-decoration-color: #000080\">│</span>                   <span style=\"color: #008000; text-decoration-color: #008000\">'pass_date'</span>: <span style=\"color: #008000; text-decoration-color: #008000\">b'2011-12-15'</span>                                           <span style=\"color: #000080; text-decoration-color: #000080\">│</span>\n",
       "<span style=\"color: #000080; text-decoration-color: #000080\">│</span>               <span style=\"font-weight: bold\">}</span>                                                                        <span style=\"color: #000080; text-decoration-color: #000080\">│</span>\n",
       "<span style=\"color: #000080; text-decoration-color: #000080\">│</span>        <span style=\"color: #808000; text-decoration-color: #808000; font-style: italic\">rank</span> = <span style=\"color: #008080; text-decoration-color: #008080; font-weight: bold\">2</span>                                                                        <span style=\"color: #000080; text-decoration-color: #000080\">│</span>\n",
       "<span style=\"color: #000080; text-decoration-color: #000080\">│</span>       <span style=\"color: #808000; text-decoration-color: #808000; font-style: italic\">shape</span> = <span style=\"font-weight: bold\">(</span><span style=\"color: #008080; text-decoration-color: #008080; font-weight: bold\">1</span>, <span style=\"color: #008080; text-decoration-color: #008080; font-weight: bold\">35</span><span style=\"font-weight: bold\">)</span>                                                                  <span style=\"color: #000080; text-decoration-color: #000080\">│</span>\n",
       "<span style=\"color: #000080; text-decoration-color: #000080\">│</span>        <span style=\"color: #808000; text-decoration-color: #808000; font-style: italic\">time</span> = <span style=\"font-weight: bold\">&lt;</span><span style=\"color: #ff00ff; text-decoration-color: #ff00ff; font-weight: bold\">Dim:</span><span style=\"color: #000000; text-decoration-color: #000000\"> Time</span><span style=\"font-weight: bold\">&gt;</span>                                                              <span style=\"color: #000080; text-decoration-color: #000080\">│</span>\n",
       "<span style=\"color: #000080; text-decoration-color: #000080\">│</span>  <span style=\"color: #808000; text-decoration-color: #808000; font-style: italic\">time_index</span> = <span style=\"color: #008080; text-decoration-color: #008080; font-weight: bold\">0</span>                                                                        <span style=\"color: #000080; text-decoration-color: #000080\">│</span>\n",
       "<span style=\"color: #000080; text-decoration-color: #000080\">│</span>       <span style=\"color: #808000; text-decoration-color: #808000; font-style: italic\">units</span> = <span style=\"color: #008000; text-decoration-color: #008000\">' '</span>                                                                      <span style=\"color: #000080; text-decoration-color: #000080\">│</span>\n",
       "<span style=\"color: #000080; text-decoration-color: #000080\">╰────────────────────────────────────────────────────────────────────────────────────────╯</span>\n",
       "</pre>\n"
      ],
      "text/plain": [
       "\u001b[34m╭─\u001b[0m\u001b[34m─────────────────────────── \u001b[0m\u001b[1;34m<\u001b[0m\u001b[1;95mclass\u001b[0m\u001b[39m \u001b[0m\u001b[32m'pyuda._signal.Signal'\u001b[0m\u001b[1;34m>\u001b[0m\u001b[34m ───────────────────────────\u001b[0m\u001b[34m─╮\u001b[0m\n",
       "\u001b[34m│\u001b[0m \u001b[32m╭────────────────────────────────────────────────────────────────────────────────────╮\u001b[0m \u001b[34m│\u001b[0m\n",
       "\u001b[34m│\u001b[0m \u001b[32m│\u001b[0m \u001b[1m<\u001b[0m\u001b[1;95mSignal:\u001b[0m\u001b[39m  \u001b[0m\u001b[1m>\u001b[0m                                                                        \u001b[32m│\u001b[0m \u001b[34m│\u001b[0m\n",
       "\u001b[34m│\u001b[0m \u001b[32m╰────────────────────────────────────────────────────────────────────────────────────╯\u001b[0m \u001b[34m│\u001b[0m\n",
       "\u001b[34m│\u001b[0m                                                                                        \u001b[34m│\u001b[0m\n",
       "\u001b[34m│\u001b[0m        \u001b[3;33mdata\u001b[0m = \u001b[1;35marray\u001b[0m\u001b[1m(\u001b[0m\u001b[1m[\u001b[0m\u001b[1m[\u001b[0m \u001b[1;36m0\u001b[0m.,  \u001b[1;36m2\u001b[0m.,  \u001b[1;36m5\u001b[0m.,  \u001b[1;36m6\u001b[0m.,  \u001b[1;36m7\u001b[0m.,  \u001b[1;36m8\u001b[0m.,  \u001b[1;36m9\u001b[0m., \u001b[1;36m10\u001b[0m., \u001b[1;36m11\u001b[0m., \u001b[1;36m12\u001b[0m., \u001b[1;36m13\u001b[0m., \u001b[1;36m14\u001b[0m., \u001b[1;36m15\u001b[0m., \u001b[34m│\u001b[0m\n",
       "\u001b[34m│\u001b[0m                       \u001b[1;36m23\u001b[0m., \u001b[1;36m16\u001b[0m., \u001b[1;36m17\u001b[0m., \u001b[1;36m18\u001b[0m., \u001b[1;36m20\u001b[0m., \u001b[1;36m21\u001b[0m., \u001b[1;36m22\u001b[0m., \u001b[1;36m24\u001b[0m., \u001b[1;36m25\u001b[0m., \u001b[1;36m27\u001b[0m., \u001b[1;36m30\u001b[0m., \u001b[1;36m28\u001b[0m., \u001b[1;36m29\u001b[0m., \u001b[34m│\u001b[0m\n",
       "\u001b[34m│\u001b[0m                       \u001b[1;36m31\u001b[0m., \u001b[1;36m32\u001b[0m., \u001b[1;36m33\u001b[0m., \u001b[1;36m35\u001b[0m., \u001b[1;36m38\u001b[0m., \u001b[1;36m37\u001b[0m., \u001b[1;36m39\u001b[0m., \u001b[1;36m40\u001b[0m., \u001b[1;36m41\u001b[0m.\u001b[1m]\u001b[0m\u001b[1m]\u001b[0m, \u001b[33mdtype\u001b[0m=\u001b[35mfloat32\u001b[0m\u001b[1m)\u001b[0m    \u001b[34m│\u001b[0m\n",
       "\u001b[34m│\u001b[0m \u001b[3;33mdescription\u001b[0m = \u001b[32m''\u001b[0m                                                                       \u001b[34m│\u001b[0m\n",
       "\u001b[34m│\u001b[0m        \u001b[3;33mdims\u001b[0m = \u001b[1m[\u001b[0m\u001b[1m<\u001b[0m\u001b[1;95mDim:\u001b[0m\u001b[39m Time\u001b[0m\u001b[1m>\u001b[0m, \u001b[1m<\u001b[0m\u001b[1;95mDim:\u001b[0m\u001b[39m  \u001b[0m\u001b[1m>\u001b[0m\u001b[1m]\u001b[0m                                                  \u001b[34m│\u001b[0m\n",
       "\u001b[34m│\u001b[0m      \u001b[3;33merrors\u001b[0m = \u001b[1;35marray\u001b[0m\u001b[1m(\u001b[0m\u001b[1m[\u001b[0m\u001b[1m[\u001b[0m\u001b[1;36m0\u001b[0m., \u001b[1;36m0\u001b[0m., \u001b[1;36m0\u001b[0m., \u001b[1;36m0\u001b[0m., \u001b[1;36m0\u001b[0m., \u001b[1;36m0\u001b[0m., \u001b[1;36m0\u001b[0m., \u001b[1;36m0\u001b[0m., \u001b[1;36m0\u001b[0m., \u001b[1;36m0\u001b[0m., \u001b[1;36m0\u001b[0m., \u001b[1;36m0\u001b[0m., \u001b[1;36m0\u001b[0m., \u001b[1;36m0\u001b[0m., \u001b[1;36m0\u001b[0m., \u001b[1;36m0\u001b[0m.,  \u001b[34m│\u001b[0m\n",
       "\u001b[34m│\u001b[0m                       \u001b[1;36m0\u001b[0m., \u001b[1;36m0\u001b[0m., \u001b[1;36m0\u001b[0m., \u001b[1;36m0\u001b[0m., \u001b[1;36m0\u001b[0m., \u001b[1;36m0\u001b[0m., \u001b[1;36m0\u001b[0m., \u001b[1;36m0\u001b[0m., \u001b[1;36m0\u001b[0m., \u001b[1;36m0\u001b[0m., \u001b[1;36m0\u001b[0m., \u001b[1;36m0\u001b[0m., \u001b[1;36m0\u001b[0m., \u001b[1;36m0\u001b[0m., \u001b[1;36m0\u001b[0m., \u001b[1;36m0\u001b[0m.,  \u001b[34m│\u001b[0m\n",
       "\u001b[34m│\u001b[0m                       \u001b[1;36m0\u001b[0m., \u001b[1;36m0\u001b[0m., \u001b[1;36m0\u001b[0m.\u001b[1m]\u001b[0m\u001b[1m]\u001b[0m, \u001b[33mdtype\u001b[0m=\u001b[35mfloat32\u001b[0m\u001b[1m)\u001b[0m                                     \u001b[34m│\u001b[0m\n",
       "\u001b[34m│\u001b[0m       \u001b[3;33mlabel\u001b[0m = \u001b[32m' '\u001b[0m                                                                      \u001b[34m│\u001b[0m\n",
       "\u001b[34m│\u001b[0m        \u001b[3;33mmeta\u001b[0m = \u001b[1m{\u001b[0m                                                                        \u001b[34m│\u001b[0m\n",
       "\u001b[34m│\u001b[0m                   \u001b[32m'signal_name'\u001b[0m: \u001b[32mb'AMS_CH'\u001b[0m,                                            \u001b[34m│\u001b[0m\n",
       "\u001b[34m│\u001b[0m                   \u001b[32m'signal_alias'\u001b[0m: \u001b[32mb'AMS_CH'\u001b[0m,                                           \u001b[34m│\u001b[0m\n",
       "\u001b[34m│\u001b[0m                   \u001b[32m'path'\u001b[0m: \u001b[32mb''\u001b[0m,                                                         \u001b[34m│\u001b[0m\n",
       "\u001b[34m│\u001b[0m                   \u001b[32m'filename'\u001b[0m: \u001b[32mb'ams0279.33'\u001b[0m,                                           \u001b[34m│\u001b[0m\n",
       "\u001b[34m│\u001b[0m                   \u001b[32m'format'\u001b[0m: \u001b[32mb'IDA3'\u001b[0m,                                                   \u001b[34m│\u001b[0m\n",
       "\u001b[34m│\u001b[0m                   \u001b[32m'exp_number'\u001b[0m: \u001b[1;36m27933\u001b[0m,                                                 \u001b[34m│\u001b[0m\n",
       "\u001b[34m│\u001b[0m                   \u001b[32m'pass'\u001b[0m: \u001b[1;36m0\u001b[0m,                                                           \u001b[34m│\u001b[0m\n",
       "\u001b[34m│\u001b[0m                   \u001b[32m'pass_date'\u001b[0m: \u001b[32mb'2011-12-15'\u001b[0m                                           \u001b[34m│\u001b[0m\n",
       "\u001b[34m│\u001b[0m               \u001b[1m}\u001b[0m                                                                        \u001b[34m│\u001b[0m\n",
       "\u001b[34m│\u001b[0m        \u001b[3;33mrank\u001b[0m = \u001b[1;36m2\u001b[0m                                                                        \u001b[34m│\u001b[0m\n",
       "\u001b[34m│\u001b[0m       \u001b[3;33mshape\u001b[0m = \u001b[1m(\u001b[0m\u001b[1;36m1\u001b[0m, \u001b[1;36m35\u001b[0m\u001b[1m)\u001b[0m                                                                  \u001b[34m│\u001b[0m\n",
       "\u001b[34m│\u001b[0m        \u001b[3;33mtime\u001b[0m = \u001b[1m<\u001b[0m\u001b[1;95mDim:\u001b[0m\u001b[39m Time\u001b[0m\u001b[1m>\u001b[0m                                                              \u001b[34m│\u001b[0m\n",
       "\u001b[34m│\u001b[0m  \u001b[3;33mtime_index\u001b[0m = \u001b[1;36m0\u001b[0m                                                                        \u001b[34m│\u001b[0m\n",
       "\u001b[34m│\u001b[0m       \u001b[3;33munits\u001b[0m = \u001b[32m' '\u001b[0m                                                                      \u001b[34m│\u001b[0m\n",
       "\u001b[34m╰────────────────────────────────────────────────────────────────────────────────────────╯\u001b[0m\n"
      ]
     },
     "metadata": {},
     "output_type": "display_data"
    }
   ],
   "source": [
    "data = client.get(\"AMS_CH\", shot_1)\n",
    "inspect(data, docs=False)"
   ]
  },
  {
   "cell_type": "markdown",
   "id": "d69fa368",
   "metadata": {},
   "source": [
    "## **_Image_**"
   ]
  },
  {
   "cell_type": "markdown",
   "id": "1addfebb",
   "metadata": {},
   "source": [
    "**_Image_**(s) use *IPX*, *NIDA*, *JPG*, *TIF* format. *JPG* and *TIF* were used in earlier shots (until 12000). After that, *IPX* and *NIDA* were used. *JPG* stopped being used around 17000, while *TIF* can be seen throughout the experiments. \n",
    "\n",
    "The *IPX* format **_Image_** type sources are stored in the `Video` object. The other formats are not currently accessible by UDA. The UDA API for reading image or video data can be found in [this doc](https://users.mastu.ukaea.uk/data-access-and-tools/uda/ipx)."
   ]
  },
  {
   "cell_type": "code",
   "execution_count": 65,
   "id": "36d0d773-42b4-48fe-9943-412e68be04e0",
   "metadata": {},
   "outputs": [
    {
     "data": {
      "text/html": [
       "<div>\n",
       "<style scoped>\n",
       "    .dataframe tbody tr th:only-of-type {\n",
       "        vertical-align: middle;\n",
       "    }\n",
       "\n",
       "    .dataframe tbody tr th {\n",
       "        vertical-align: top;\n",
       "    }\n",
       "\n",
       "    .dataframe thead th {\n",
       "        text-align: right;\n",
       "    }\n",
       "</style>\n",
       "<table border=\"1\" class=\"dataframe\">\n",
       "  <thead>\n",
       "    <tr style=\"text-align: right;\">\n",
       "      <th></th>\n",
       "      <th>type</th>\n",
       "      <th>format</th>\n",
       "      <th>aliases</th>\n",
       "    </tr>\n",
       "  </thead>\n",
       "  <tbody>\n",
       "    <tr>\n",
       "      <th>0</th>\n",
       "      <td>Image</td>\n",
       "      <td>IPX</td>\n",
       "      <td>{rir, rda, rgb, rbb, rba, rdb, rit, rbc}</td>\n",
       "    </tr>\n",
       "    <tr>\n",
       "      <th>1</th>\n",
       "      <td>Image</td>\n",
       "      <td>TIF</td>\n",
       "      <td>{rzz, rbe}</td>\n",
       "    </tr>\n",
       "  </tbody>\n",
       "</table>\n",
       "</div>"
      ],
      "text/plain": [
       "    type format                                   aliases\n",
       "0  Image    IPX  {rir, rda, rgb, rbb, rba, rdb, rit, rbc}\n",
       "1  Image    TIF                                {rzz, rbe}"
      ]
     },
     "execution_count": 65,
     "metadata": {},
     "output_type": "execute_result"
    }
   ],
   "source": [
    "df_1.loc[df_1[\"type\"] == \"Image\"].groupby([\"type\", \"format\"], as_index=False).agg(\n",
    "    aliases=(\"source_alias\", lambda x: set(x))\n",
    ")"
   ]
  },
  {
   "cell_type": "markdown",
   "id": "87877088",
   "metadata": {},
   "source": [
    "###  **_Image_** `SOURCE` & Data"
   ]
  },
  {
   "cell_type": "code",
   "execution_count": 66,
   "id": "c7e71257",
   "metadata": {},
   "outputs": [
    {
     "data": {
      "text/html": [
       "<pre style=\"white-space:pre;overflow-x:auto;line-height:normal;font-family:Menlo,'DejaVu Sans Mono',consolas,'Courier New',monospace\"><span style=\"color: #000080; text-decoration-color: #000080\">╭─────────────────────── </span><span style=\"color: #000080; text-decoration-color: #000080; font-weight: bold\">&lt;</span><span style=\"color: #ff00ff; text-decoration-color: #ff00ff; font-weight: bold\">class</span><span style=\"color: #000000; text-decoration-color: #000000\"> </span><span style=\"color: #008000; text-decoration-color: #008000\">'list'</span><span style=\"color: #000080; text-decoration-color: #000080; font-weight: bold\">&gt;</span><span style=\"color: #000080; text-decoration-color: #000080\"> ───────────────────────╮</span>\n",
       "<span style=\"color: #000080; text-decoration-color: #000080\">│</span> <span style=\"color: #008000; text-decoration-color: #008000\">╭──────────────────────────────────────────────────────────╮</span> <span style=\"color: #000080; text-decoration-color: #000080\">│</span>\n",
       "<span style=\"color: #000080; text-decoration-color: #000080\">│</span> <span style=\"color: #008000; text-decoration-color: #008000\">│</span> <span style=\"font-weight: bold\">[</span>                                                        <span style=\"color: #008000; text-decoration-color: #008000\">│</span> <span style=\"color: #000080; text-decoration-color: #000080\">│</span>\n",
       "<span style=\"color: #000080; text-decoration-color: #000080\">│</span> <span style=\"color: #008000; text-decoration-color: #008000\">│</span> <span style=\"color: #7fbf7f; text-decoration-color: #7fbf7f\">│   </span><span style=\"color: #800080; text-decoration-color: #800080; font-weight: bold\">ListData</span><span style=\"font-weight: bold\">(</span>                                            <span style=\"color: #008000; text-decoration-color: #008000\">│</span> <span style=\"color: #000080; text-decoration-color: #000080\">│</span>\n",
       "<span style=\"color: #000080; text-decoration-color: #000080\">│</span> <span style=\"color: #008000; text-decoration-color: #008000\">│</span> <span style=\"color: #7fbf7f; text-decoration-color: #7fbf7f\">│   │   </span><span style=\"color: #808000; text-decoration-color: #808000\">shot</span>=<span style=\"color: #008080; text-decoration-color: #008080; font-weight: bold\">27933</span>,                                      <span style=\"color: #008000; text-decoration-color: #008000\">│</span> <span style=\"color: #000080; text-decoration-color: #000080\">│</span>\n",
       "<span style=\"color: #000080; text-decoration-color: #000080\">│</span> <span style=\"color: #008000; text-decoration-color: #008000\">│</span> <span style=\"color: #7fbf7f; text-decoration-color: #7fbf7f\">│   │   </span><span style=\"color: #808000; text-decoration-color: #808000\">pass_</span>=<span style=\"color: #008080; text-decoration-color: #008080; font-weight: bold\">-1</span>,                                        <span style=\"color: #008000; text-decoration-color: #008000\">│</span> <span style=\"color: #000080; text-decoration-color: #000080\">│</span>\n",
       "<span style=\"color: #000080; text-decoration-color: #000080\">│</span> <span style=\"color: #008000; text-decoration-color: #008000\">│</span> <span style=\"color: #7fbf7f; text-decoration-color: #7fbf7f\">│   │   </span><span style=\"color: #808000; text-decoration-color: #808000\">status</span>=<span style=\"color: #008080; text-decoration-color: #008080; font-weight: bold\">1</span>,                                        <span style=\"color: #008000; text-decoration-color: #008000\">│</span> <span style=\"color: #000080; text-decoration-color: #000080\">│</span>\n",
       "<span style=\"color: #000080; text-decoration-color: #000080\">│</span> <span style=\"color: #008000; text-decoration-color: #008000\">│</span> <span style=\"color: #7fbf7f; text-decoration-color: #7fbf7f\">│   │   </span><span style=\"color: #808000; text-decoration-color: #808000\">source_alias</span>=<span style=\"color: #008000; text-decoration-color: #008000\">'rba'</span>,                              <span style=\"color: #008000; text-decoration-color: #008000\">│</span> <span style=\"color: #000080; text-decoration-color: #000080\">│</span>\n",
       "<span style=\"color: #000080; text-decoration-color: #000080\">│</span> <span style=\"color: #008000; text-decoration-color: #008000\">│</span> <span style=\"color: #7fbf7f; text-decoration-color: #7fbf7f\">│   │   </span><span style=\"color: #808000; text-decoration-color: #808000\">format</span>=<span style=\"color: #008000; text-decoration-color: #008000\">'IPX'</span>,                                    <span style=\"color: #008000; text-decoration-color: #008000\">│</span> <span style=\"color: #000080; text-decoration-color: #000080\">│</span>\n",
       "<span style=\"color: #000080; text-decoration-color: #000080\">│</span> <span style=\"color: #008000; text-decoration-color: #008000\">│</span> <span style=\"color: #7fbf7f; text-decoration-color: #7fbf7f\">│   │   </span><span style=\"color: #808000; text-decoration-color: #808000\">filename</span>=<span style=\"color: #008000; text-decoration-color: #008000\">'rba027933.ipx'</span>,                        <span style=\"color: #008000; text-decoration-color: #008000\">│</span> <span style=\"color: #000080; text-decoration-color: #000080\">│</span>\n",
       "<span style=\"color: #000080; text-decoration-color: #000080\">│</span> <span style=\"color: #008000; text-decoration-color: #008000\">│</span> <span style=\"color: #7fbf7f; text-decoration-color: #7fbf7f\">│   │   </span><span style=\"color: #808000; text-decoration-color: #808000\">type</span>=<span style=\"color: #008000; text-decoration-color: #008000\">'Image'</span>,                                    <span style=\"color: #008000; text-decoration-color: #008000\">│</span> <span style=\"color: #000080; text-decoration-color: #000080\">│</span>\n",
       "<span style=\"color: #000080; text-decoration-color: #000080\">│</span> <span style=\"color: #008000; text-decoration-color: #008000\">│</span> <span style=\"color: #7fbf7f; text-decoration-color: #7fbf7f\">│   │   </span><span style=\"color: #808000; text-decoration-color: #808000\">description</span>=<span style=\"color: #008000; text-decoration-color: #008000\">'Photron bullet camera A'</span>,           <span style=\"color: #008000; text-decoration-color: #008000\">│</span> <span style=\"color: #000080; text-decoration-color: #000080\">│</span>\n",
       "<span style=\"color: #000080; text-decoration-color: #000080\">│</span> <span style=\"color: #008000; text-decoration-color: #008000\">│</span> <span style=\"color: #7fbf7f; text-decoration-color: #7fbf7f\">│   │   </span><span style=\"color: #808000; text-decoration-color: #808000\">run_id</span>=<span style=\"color: #008080; text-decoration-color: #008080; font-weight: bold\">-1</span>                                        <span style=\"color: #008000; text-decoration-color: #008000\">│</span> <span style=\"color: #000080; text-decoration-color: #000080\">│</span>\n",
       "<span style=\"color: #000080; text-decoration-color: #000080\">│</span> <span style=\"color: #008000; text-decoration-color: #008000\">│</span> <span style=\"color: #7fbf7f; text-decoration-color: #7fbf7f\">│   </span><span style=\"font-weight: bold\">)</span>                                                    <span style=\"color: #008000; text-decoration-color: #008000\">│</span> <span style=\"color: #000080; text-decoration-color: #000080\">│</span>\n",
       "<span style=\"color: #000080; text-decoration-color: #000080\">│</span> <span style=\"color: #008000; text-decoration-color: #008000\">│</span> <span style=\"font-weight: bold\">]</span>                                                        <span style=\"color: #008000; text-decoration-color: #008000\">│</span> <span style=\"color: #000080; text-decoration-color: #000080\">│</span>\n",
       "<span style=\"color: #000080; text-decoration-color: #000080\">│</span> <span style=\"color: #008000; text-decoration-color: #008000\">╰──────────────────────────────────────────────────────────╯</span> <span style=\"color: #000080; text-decoration-color: #000080\">│</span>\n",
       "<span style=\"color: #000080; text-decoration-color: #000080\">│</span>                                                              <span style=\"color: #000080; text-decoration-color: #000080\">│</span>\n",
       "<span style=\"color: #000080; text-decoration-color: #000080\">│</span> <span style=\"color: #008080; text-decoration-color: #008080; font-weight: bold\">35</span><span style=\"font-style: italic\"> attribute(s) not shown.</span> Run <span style=\"color: #800080; text-decoration-color: #800080; font-weight: bold\">inspect</span><span style=\"font-weight: bold\">(</span>inspect<span style=\"font-weight: bold\">)</span> for options. <span style=\"color: #000080; text-decoration-color: #000080\">│</span>\n",
       "<span style=\"color: #000080; text-decoration-color: #000080\">╰──────────────────────────────────────────────────────────────╯</span>\n",
       "</pre>\n"
      ],
      "text/plain": [
       "\u001b[34m╭─\u001b[0m\u001b[34m────────────────────── \u001b[0m\u001b[1;34m<\u001b[0m\u001b[1;95mclass\u001b[0m\u001b[39m \u001b[0m\u001b[32m'list'\u001b[0m\u001b[1;34m>\u001b[0m\u001b[34m ──────────────────────\u001b[0m\u001b[34m─╮\u001b[0m\n",
       "\u001b[34m│\u001b[0m \u001b[32m╭──────────────────────────────────────────────────────────╮\u001b[0m \u001b[34m│\u001b[0m\n",
       "\u001b[34m│\u001b[0m \u001b[32m│\u001b[0m \u001b[1m[\u001b[0m                                                        \u001b[32m│\u001b[0m \u001b[34m│\u001b[0m\n",
       "\u001b[34m│\u001b[0m \u001b[32m│\u001b[0m \u001b[2;32m│   \u001b[0m\u001b[1;35mListData\u001b[0m\u001b[1m(\u001b[0m                                            \u001b[32m│\u001b[0m \u001b[34m│\u001b[0m\n",
       "\u001b[34m│\u001b[0m \u001b[32m│\u001b[0m \u001b[2;32m│   │   \u001b[0m\u001b[33mshot\u001b[0m=\u001b[1;36m27933\u001b[0m,                                      \u001b[32m│\u001b[0m \u001b[34m│\u001b[0m\n",
       "\u001b[34m│\u001b[0m \u001b[32m│\u001b[0m \u001b[2;32m│   │   \u001b[0m\u001b[33mpass_\u001b[0m=\u001b[1;36m-1\u001b[0m,                                        \u001b[32m│\u001b[0m \u001b[34m│\u001b[0m\n",
       "\u001b[34m│\u001b[0m \u001b[32m│\u001b[0m \u001b[2;32m│   │   \u001b[0m\u001b[33mstatus\u001b[0m=\u001b[1;36m1\u001b[0m,                                        \u001b[32m│\u001b[0m \u001b[34m│\u001b[0m\n",
       "\u001b[34m│\u001b[0m \u001b[32m│\u001b[0m \u001b[2;32m│   │   \u001b[0m\u001b[33msource_alias\u001b[0m=\u001b[32m'rba'\u001b[0m,                              \u001b[32m│\u001b[0m \u001b[34m│\u001b[0m\n",
       "\u001b[34m│\u001b[0m \u001b[32m│\u001b[0m \u001b[2;32m│   │   \u001b[0m\u001b[33mformat\u001b[0m=\u001b[32m'IPX'\u001b[0m,                                    \u001b[32m│\u001b[0m \u001b[34m│\u001b[0m\n",
       "\u001b[34m│\u001b[0m \u001b[32m│\u001b[0m \u001b[2;32m│   │   \u001b[0m\u001b[33mfilename\u001b[0m=\u001b[32m'rba027933.ipx'\u001b[0m,                        \u001b[32m│\u001b[0m \u001b[34m│\u001b[0m\n",
       "\u001b[34m│\u001b[0m \u001b[32m│\u001b[0m \u001b[2;32m│   │   \u001b[0m\u001b[33mtype\u001b[0m=\u001b[32m'Image'\u001b[0m,                                    \u001b[32m│\u001b[0m \u001b[34m│\u001b[0m\n",
       "\u001b[34m│\u001b[0m \u001b[32m│\u001b[0m \u001b[2;32m│   │   \u001b[0m\u001b[33mdescription\u001b[0m=\u001b[32m'Photron bullet camera A'\u001b[0m,           \u001b[32m│\u001b[0m \u001b[34m│\u001b[0m\n",
       "\u001b[34m│\u001b[0m \u001b[32m│\u001b[0m \u001b[2;32m│   │   \u001b[0m\u001b[33mrun_id\u001b[0m=\u001b[1;36m-1\u001b[0m                                        \u001b[32m│\u001b[0m \u001b[34m│\u001b[0m\n",
       "\u001b[34m│\u001b[0m \u001b[32m│\u001b[0m \u001b[2;32m│   \u001b[0m\u001b[1m)\u001b[0m                                                    \u001b[32m│\u001b[0m \u001b[34m│\u001b[0m\n",
       "\u001b[34m│\u001b[0m \u001b[32m│\u001b[0m \u001b[1m]\u001b[0m                                                        \u001b[32m│\u001b[0m \u001b[34m│\u001b[0m\n",
       "\u001b[34m│\u001b[0m \u001b[32m╰──────────────────────────────────────────────────────────╯\u001b[0m \u001b[34m│\u001b[0m\n",
       "\u001b[34m│\u001b[0m                                                              \u001b[34m│\u001b[0m\n",
       "\u001b[34m│\u001b[0m \u001b[1;36m35\u001b[0m\u001b[3m attribute(s) not shown.\u001b[0m Run \u001b[1;35minspect\u001b[0m\u001b[1m(\u001b[0minspect\u001b[1m)\u001b[0m for options. \u001b[34m│\u001b[0m\n",
       "\u001b[34m╰──────────────────────────────────────────────────────────────╯\u001b[0m\n"
      ]
     },
     "metadata": {},
     "output_type": "display_data"
    }
   ],
   "source": [
    "data = [source for source in sources_1 if source.source_alias == \"rba\"]\n",
    "inspect(data, docs=False)"
   ]
  },
  {
   "cell_type": "markdown",
   "id": "60ded376",
   "metadata": {},
   "source": [
    "**_Image_** type `SOURCES` don't have `SIGNAL` names and can only be accessed using `SOURCE` alias as an argument. In order to read the *IPX* format we use the `get_images` function, and the `get` function for reading the other image formats. "
   ]
  },
  {
   "cell_type": "code",
   "execution_count": 67,
   "id": "ee509775",
   "metadata": {
    "tags": []
   },
   "outputs": [
    {
     "data": {
      "text/html": [
       "<pre style=\"white-space:pre;overflow-x:auto;line-height:normal;font-family:Menlo,'DejaVu Sans Mono',consolas,'Courier New',monospace\"><span style=\"color: #000080; text-decoration-color: #000080\">╭────────────────────────── </span><span style=\"color: #000080; text-decoration-color: #000080; font-weight: bold\">&lt;</span><span style=\"color: #ff00ff; text-decoration-color: #ff00ff; font-weight: bold\">class</span><span style=\"color: #000000; text-decoration-color: #000000\"> </span><span style=\"color: #008000; text-decoration-color: #008000\">'pyuda._video.Video'</span><span style=\"color: #000080; text-decoration-color: #000080; font-weight: bold\">&gt;</span><span style=\"color: #000080; text-decoration-color: #000080\"> ───────────────────────────╮</span>\n",
       "<span style=\"color: #000080; text-decoration-color: #000080\">│</span> <span style=\"color: #008000; text-decoration-color: #008000\">╭───────────────────────────────────────────────────────────────────────────────╮</span> <span style=\"color: #000080; text-decoration-color: #000080\">│</span>\n",
       "<span style=\"color: #000080; text-decoration-color: #000080\">│</span> <span style=\"color: #008000; text-decoration-color: #008000\">│</span> <span style=\"font-weight: bold\">&lt;</span><span style=\"color: #ff00ff; text-decoration-color: #ff00ff; font-weight: bold\">pyuda._video.Video</span><span style=\"color: #000000; text-decoration-color: #000000\"> object at </span><span style=\"color: #008080; text-decoration-color: #008080; font-weight: bold\">0x7f8eb57cd860</span><span style=\"font-weight: bold\">&gt;</span>                                 <span style=\"color: #008000; text-decoration-color: #008000\">│</span> <span style=\"color: #000080; text-decoration-color: #000080\">│</span>\n",
       "<span style=\"color: #000080; text-decoration-color: #000080\">│</span> <span style=\"color: #008000; text-decoration-color: #008000\">╰───────────────────────────────────────────────────────────────────────────────╯</span> <span style=\"color: #000080; text-decoration-color: #000080\">│</span>\n",
       "<span style=\"color: #000080; text-decoration-color: #000080\">│</span>                                                                                   <span style=\"color: #000080; text-decoration-color: #000080\">│</span>\n",
       "<span style=\"color: #000080; text-decoration-color: #000080\">│</span>  <span style=\"color: #808000; text-decoration-color: #808000; font-style: italic\">board_temp</span> = <span style=\"color: #008080; text-decoration-color: #008080; font-weight: bold\">0.0</span>                                                                 <span style=\"color: #000080; text-decoration-color: #000080\">│</span>\n",
       "<span style=\"color: #000080; text-decoration-color: #000080\">│</span>      <span style=\"color: #808000; text-decoration-color: #808000; font-style: italic\">bottom</span> = <span style=\"color: #008080; text-decoration-color: #008080; font-weight: bold\">952</span>                                                                 <span style=\"color: #000080; text-decoration-color: #000080\">│</span>\n",
       "<span style=\"color: #000080; text-decoration-color: #000080\">│</span>      <span style=\"color: #808000; text-decoration-color: #808000; font-style: italic\">camera</span> = <span style=\"color: #008000; text-decoration-color: #008000\">''</span>                                                                  <span style=\"color: #000080; text-decoration-color: #000080\">│</span>\n",
       "<span style=\"color: #000080; text-decoration-color: #000080\">│</span>    <span style=\"color: #808000; text-decoration-color: #808000; font-style: italic\">ccd_temp</span> = <span style=\"color: #008080; text-decoration-color: #008080; font-weight: bold\">0.0</span>                                                                 <span style=\"color: #000080; text-decoration-color: #000080\">│</span>\n",
       "<span style=\"color: #000080; text-decoration-color: #000080\">│</span>       <span style=\"color: #808000; text-decoration-color: #808000; font-style: italic\">codex</span> = <span style=\"color: #008000; text-decoration-color: #008000\">'JP2'</span>                                                               <span style=\"color: #000080; text-decoration-color: #000080\">│</span>\n",
       "<span style=\"color: #000080; text-decoration-color: #000080\">│</span>   <span style=\"color: #808000; text-decoration-color: #808000; font-style: italic\">date_time</span> = <span style=\"color: #008000; text-decoration-color: #008000\">'2011-12-15T16:00:12Z'</span>                                              <span style=\"color: #000080; text-decoration-color: #000080\">│</span>\n",
       "<span style=\"color: #000080; text-decoration-color: #000080\">│</span>       <span style=\"color: #808000; text-decoration-color: #808000; font-style: italic\">depth</span> = <span style=\"color: #008080; text-decoration-color: #008080; font-weight: bold\">8</span>                                                                   <span style=\"color: #000080; text-decoration-color: #000080\">│</span>\n",
       "<span style=\"color: #000080; text-decoration-color: #000080\">│</span>    <span style=\"color: #808000; text-decoration-color: #808000; font-style: italic\">exposure</span> = <span style=\"color: #008080; text-decoration-color: #008080; font-weight: bold\">1667.0</span>                                                              <span style=\"color: #000080; text-decoration-color: #000080\">│</span>\n",
       "<span style=\"color: #000080; text-decoration-color: #000080\">│</span> <span style=\"color: #808000; text-decoration-color: #808000; font-style: italic\">file_format</span> = <span style=\"color: #008000; text-decoration-color: #008000\">'IPX-1'</span>                                                             <span style=\"color: #000080; text-decoration-color: #000080\">│</span>\n",
       "<span style=\"color: #000080; text-decoration-color: #000080\">│</span>      <span style=\"color: #808000; text-decoration-color: #808000; font-style: italic\">filter</span> = <span style=\"color: #008000; text-decoration-color: #008000\">''</span>                                                                  <span style=\"color: #000080; text-decoration-color: #000080\">│</span>\n",
       "<span style=\"color: #000080; text-decoration-color: #000080\">│</span> <span style=\"color: #808000; text-decoration-color: #808000; font-style: italic\">frame_times</span> = <span style=\"color: #800080; text-decoration-color: #800080; font-weight: bold\">array</span><span style=\"font-weight: bold\">([</span><span style=\"color: #008080; text-decoration-color: #008080; font-weight: bold\">0.001673</span>, <span style=\"color: #008080; text-decoration-color: #008080; font-weight: bold\">0.021673</span>, <span style=\"color: #008080; text-decoration-color: #008080; font-weight: bold\">0.041673</span>, <span style=\"color: #008080; text-decoration-color: #008080; font-weight: bold\">0.061673</span>, <span style=\"color: #008080; text-decoration-color: #008080; font-weight: bold\">0.081673</span>, <span style=\"color: #008080; text-decoration-color: #008080; font-weight: bold\">0.101673</span>,  <span style=\"color: #000080; text-decoration-color: #000080\">│</span>\n",
       "<span style=\"color: #000080; text-decoration-color: #000080\">│</span>                      <span style=\"color: #008080; text-decoration-color: #008080; font-weight: bold\">0.103673</span>, <span style=\"color: #008080; text-decoration-color: #008080; font-weight: bold\">0.105673</span>, <span style=\"color: #008080; text-decoration-color: #008080; font-weight: bold\">0.107673</span>, <span style=\"color: #008080; text-decoration-color: #008080; font-weight: bold\">0.109673</span>, <span style=\"color: #008080; text-decoration-color: #008080; font-weight: bold\">0.111673</span>, <span style=\"color: #008080; text-decoration-color: #008080; font-weight: bold\">0.113673</span>,  <span style=\"color: #000080; text-decoration-color: #000080\">│</span>\n",
       "<span style=\"color: #000080; text-decoration-color: #000080\">│</span>                      <span style=\"color: #008080; text-decoration-color: #008080; font-weight: bold\">0.115673</span>, <span style=\"color: #008080; text-decoration-color: #008080; font-weight: bold\">0.117673</span>, <span style=\"color: #008080; text-decoration-color: #008080; font-weight: bold\">0.119673</span>, <span style=\"color: #008080; text-decoration-color: #008080; font-weight: bold\">0.121673</span>, <span style=\"color: #008080; text-decoration-color: #008080; font-weight: bold\">0.123673</span>, <span style=\"color: #008080; text-decoration-color: #008080; font-weight: bold\">0.125673</span>,  <span style=\"color: #000080; text-decoration-color: #000080\">│</span>\n",
       "<span style=\"color: #000080; text-decoration-color: #000080\">│</span>                      <span style=\"color: #008080; text-decoration-color: #008080; font-weight: bold\">0.127673</span>, <span style=\"color: #008080; text-decoration-color: #008080; font-weight: bold\">0.129673</span>, <span style=\"color: #008080; text-decoration-color: #008080; font-weight: bold\">0.131673</span>, <span style=\"color: #008080; text-decoration-color: #008080; font-weight: bold\">0.133673</span>, <span style=\"color: #008080; text-decoration-color: #008080; font-weight: bold\">0.135673</span>, <span style=\"color: #008080; text-decoration-color: #008080; font-weight: bold\">0.137673</span>,  <span style=\"color: #000080; text-decoration-color: #000080\">│</span>\n",
       "<span style=\"color: #000080; text-decoration-color: #000080\">│</span>                      <span style=\"color: #008080; text-decoration-color: #008080; font-weight: bold\">0.139673</span>, <span style=\"color: #008080; text-decoration-color: #008080; font-weight: bold\">0.141673</span>, <span style=\"color: #008080; text-decoration-color: #008080; font-weight: bold\">0.143673</span>, <span style=\"color: #008080; text-decoration-color: #008080; font-weight: bold\">0.145673</span>, <span style=\"color: #008080; text-decoration-color: #008080; font-weight: bold\">0.147673</span>, <span style=\"color: #008080; text-decoration-color: #008080; font-weight: bold\">0.149673</span>,  <span style=\"color: #000080; text-decoration-color: #000080\">│</span>\n",
       "<span style=\"color: #000080; text-decoration-color: #000080\">│</span>                      <span style=\"color: #008080; text-decoration-color: #008080; font-weight: bold\">0.151673</span>, <span style=\"color: #008080; text-decoration-color: #008080; font-weight: bold\">0.153673</span>, <span style=\"color: #008080; text-decoration-color: #008080; font-weight: bold\">0.155673</span>, <span style=\"color: #008080; text-decoration-color: #008080; font-weight: bold\">0.157673</span>, <span style=\"color: #008080; text-decoration-color: #008080; font-weight: bold\">0.159673</span>, <span style=\"color: #008080; text-decoration-color: #008080; font-weight: bold\">0.161673</span>,  <span style=\"color: #000080; text-decoration-color: #000080\">│</span>\n",
       "<span style=\"color: #000080; text-decoration-color: #000080\">│</span>                      <span style=\"color: #008080; text-decoration-color: #008080; font-weight: bold\">0.163673</span>, <span style=\"color: #008080; text-decoration-color: #008080; font-weight: bold\">0.165673</span>, <span style=\"color: #008080; text-decoration-color: #008080; font-weight: bold\">0.167673</span>, <span style=\"color: #008080; text-decoration-color: #008080; font-weight: bold\">0.169673</span>, <span style=\"color: #008080; text-decoration-color: #008080; font-weight: bold\">0.171673</span>, <span style=\"color: #008080; text-decoration-color: #008080; font-weight: bold\">0.173673</span>,  <span style=\"color: #000080; text-decoration-color: #000080\">│</span>\n",
       "<span style=\"color: #000080; text-decoration-color: #000080\">│</span>                      <span style=\"color: #008080; text-decoration-color: #008080; font-weight: bold\">0.175673</span>, <span style=\"color: #008080; text-decoration-color: #008080; font-weight: bold\">0.177673</span>, <span style=\"color: #008080; text-decoration-color: #008080; font-weight: bold\">0.179673</span>, <span style=\"color: #008080; text-decoration-color: #008080; font-weight: bold\">0.181673</span>, <span style=\"color: #008080; text-decoration-color: #008080; font-weight: bold\">0.183673</span>, <span style=\"color: #008080; text-decoration-color: #008080; font-weight: bold\">0.185673</span>,  <span style=\"color: #000080; text-decoration-color: #000080\">│</span>\n",
       "<span style=\"color: #000080; text-decoration-color: #000080\">│</span>                      <span style=\"color: #008080; text-decoration-color: #008080; font-weight: bold\">0.187673</span>, <span style=\"color: #008080; text-decoration-color: #008080; font-weight: bold\">0.189673</span>, <span style=\"color: #008080; text-decoration-color: #008080; font-weight: bold\">0.191673</span>, <span style=\"color: #008080; text-decoration-color: #008080; font-weight: bold\">0.193673</span>, <span style=\"color: #008080; text-decoration-color: #008080; font-weight: bold\">0.195673</span>, <span style=\"color: #008080; text-decoration-color: #008080; font-weight: bold\">0.197673</span>,  <span style=\"color: #000080; text-decoration-color: #000080\">│</span>\n",
       "<span style=\"color: #000080; text-decoration-color: #000080\">│</span>                      <span style=\"color: #008080; text-decoration-color: #008080; font-weight: bold\">0.199673</span>, <span style=\"color: #008080; text-decoration-color: #008080; font-weight: bold\">0.201673</span>, <span style=\"color: #008080; text-decoration-color: #008080; font-weight: bold\">0.203673</span>, <span style=\"color: #008080; text-decoration-color: #008080; font-weight: bold\">0.205673</span>, <span style=\"color: #008080; text-decoration-color: #008080; font-weight: bold\">0.207673</span>, <span style=\"color: #008080; text-decoration-color: #008080; font-weight: bold\">0.209673</span>,  <span style=\"color: #000080; text-decoration-color: #000080\">│</span>\n",
       "<span style=\"color: #000080; text-decoration-color: #000080\">│</span>                      <span style=\"color: #008080; text-decoration-color: #008080; font-weight: bold\">0.211673</span>, <span style=\"color: #008080; text-decoration-color: #008080; font-weight: bold\">0.213673</span>, <span style=\"color: #008080; text-decoration-color: #008080; font-weight: bold\">0.215673</span>, <span style=\"color: #008080; text-decoration-color: #008080; font-weight: bold\">0.217673</span>, <span style=\"color: #008080; text-decoration-color: #008080; font-weight: bold\">0.219673</span>, <span style=\"color: #008080; text-decoration-color: #008080; font-weight: bold\">0.221673</span>,  <span style=\"color: #000080; text-decoration-color: #000080\">│</span>\n",
       "<span style=\"color: #000080; text-decoration-color: #000080\">│</span>                      <span style=\"color: #008080; text-decoration-color: #008080; font-weight: bold\">0.223673</span>, <span style=\"color: #008080; text-decoration-color: #008080; font-weight: bold\">0.225673</span>, <span style=\"color: #008080; text-decoration-color: #008080; font-weight: bold\">0.227673</span>, <span style=\"color: #008080; text-decoration-color: #008080; font-weight: bold\">0.229673</span>, <span style=\"color: #008080; text-decoration-color: #008080; font-weight: bold\">0.231673</span>, <span style=\"color: #008080; text-decoration-color: #008080; font-weight: bold\">0.233673</span>,  <span style=\"color: #000080; text-decoration-color: #000080\">│</span>\n",
       "<span style=\"color: #000080; text-decoration-color: #000080\">│</span>                      <span style=\"color: #008080; text-decoration-color: #008080; font-weight: bold\">0.235673</span>, <span style=\"color: #008080; text-decoration-color: #008080; font-weight: bold\">0.237673</span>, <span style=\"color: #008080; text-decoration-color: #008080; font-weight: bold\">0.239673</span>, <span style=\"color: #008080; text-decoration-color: #008080; font-weight: bold\">0.241673</span>, <span style=\"color: #008080; text-decoration-color: #008080; font-weight: bold\">0.243673</span>, <span style=\"color: #008080; text-decoration-color: #008080; font-weight: bold\">0.245673</span>,  <span style=\"color: #000080; text-decoration-color: #000080\">│</span>\n",
       "<span style=\"color: #000080; text-decoration-color: #000080\">│</span>                      <span style=\"color: #008080; text-decoration-color: #008080; font-weight: bold\">0.247673</span>, <span style=\"color: #008080; text-decoration-color: #008080; font-weight: bold\">0.249673</span>, <span style=\"color: #008080; text-decoration-color: #008080; font-weight: bold\">0.251673</span>, <span style=\"color: #008080; text-decoration-color: #008080; font-weight: bold\">0.253673</span>, <span style=\"color: #008080; text-decoration-color: #008080; font-weight: bold\">0.255673</span>, <span style=\"color: #008080; text-decoration-color: #008080; font-weight: bold\">0.257673</span>,  <span style=\"color: #000080; text-decoration-color: #000080\">│</span>\n",
       "<span style=\"color: #000080; text-decoration-color: #000080\">│</span>                      <span style=\"color: #008080; text-decoration-color: #008080; font-weight: bold\">0.259673</span>, <span style=\"color: #008080; text-decoration-color: #008080; font-weight: bold\">0.261673</span>, <span style=\"color: #008080; text-decoration-color: #008080; font-weight: bold\">0.263673</span>, <span style=\"color: #008080; text-decoration-color: #008080; font-weight: bold\">0.265673</span>, <span style=\"color: #008080; text-decoration-color: #008080; font-weight: bold\">0.267673</span>, <span style=\"color: #008080; text-decoration-color: #008080; font-weight: bold\">0.269673</span>,  <span style=\"color: #000080; text-decoration-color: #000080\">│</span>\n",
       "<span style=\"color: #000080; text-decoration-color: #000080\">│</span>                      <span style=\"color: #008080; text-decoration-color: #008080; font-weight: bold\">0.271673</span>, <span style=\"color: #008080; text-decoration-color: #008080; font-weight: bold\">0.273673</span>, <span style=\"color: #008080; text-decoration-color: #008080; font-weight: bold\">0.275673</span>, <span style=\"color: #008080; text-decoration-color: #008080; font-weight: bold\">0.277673</span>, <span style=\"color: #008080; text-decoration-color: #008080; font-weight: bold\">0.279673</span>, <span style=\"color: #008080; text-decoration-color: #008080; font-weight: bold\">0.281673</span>,  <span style=\"color: #000080; text-decoration-color: #000080\">│</span>\n",
       "<span style=\"color: #000080; text-decoration-color: #000080\">│</span>                      <span style=\"color: #008080; text-decoration-color: #008080; font-weight: bold\">0.283673</span>, <span style=\"color: #008080; text-decoration-color: #008080; font-weight: bold\">0.285673</span>, <span style=\"color: #008080; text-decoration-color: #008080; font-weight: bold\">0.287673</span>, <span style=\"color: #008080; text-decoration-color: #008080; font-weight: bold\">0.289673</span>, <span style=\"color: #008080; text-decoration-color: #008080; font-weight: bold\">0.291673</span>, <span style=\"color: #008080; text-decoration-color: #008080; font-weight: bold\">0.293673</span>,  <span style=\"color: #000080; text-decoration-color: #000080\">│</span>\n",
       "<span style=\"color: #000080; text-decoration-color: #000080\">│</span>                      <span style=\"color: #008080; text-decoration-color: #008080; font-weight: bold\">0.295673</span>, <span style=\"color: #008080; text-decoration-color: #008080; font-weight: bold\">0.297673</span>, <span style=\"color: #008080; text-decoration-color: #008080; font-weight: bold\">0.299673</span>, <span style=\"color: #008080; text-decoration-color: #008080; font-weight: bold\">0.301673</span>, <span style=\"color: #008080; text-decoration-color: #008080; font-weight: bold\">0.303673</span>, <span style=\"color: #008080; text-decoration-color: #008080; font-weight: bold\">0.305673</span>,  <span style=\"color: #000080; text-decoration-color: #000080\">│</span>\n",
       "<span style=\"color: #000080; text-decoration-color: #000080\">│</span>                      <span style=\"color: #008080; text-decoration-color: #008080; font-weight: bold\">0.307673</span>, <span style=\"color: #008080; text-decoration-color: #008080; font-weight: bold\">0.309673</span>, <span style=\"color: #008080; text-decoration-color: #008080; font-weight: bold\">0.311673</span>, <span style=\"color: #008080; text-decoration-color: #008080; font-weight: bold\">0.313673</span>, <span style=\"color: #008080; text-decoration-color: #008080; font-weight: bold\">0.315673</span>, <span style=\"color: #008080; text-decoration-color: #008080; font-weight: bold\">0.317673</span>,  <span style=\"color: #000080; text-decoration-color: #000080\">│</span>\n",
       "<span style=\"color: #000080; text-decoration-color: #000080\">│</span>                      <span style=\"color: #008080; text-decoration-color: #008080; font-weight: bold\">0.319673</span>, <span style=\"color: #008080; text-decoration-color: #008080; font-weight: bold\">0.321673</span>, <span style=\"color: #008080; text-decoration-color: #008080; font-weight: bold\">0.323673</span>, <span style=\"color: #008080; text-decoration-color: #008080; font-weight: bold\">0.325673</span>, <span style=\"color: #008080; text-decoration-color: #008080; font-weight: bold\">0.327673</span>, <span style=\"color: #008080; text-decoration-color: #008080; font-weight: bold\">0.329673</span>,  <span style=\"color: #000080; text-decoration-color: #000080\">│</span>\n",
       "<span style=\"color: #000080; text-decoration-color: #000080\">│</span>                      <span style=\"color: #008080; text-decoration-color: #008080; font-weight: bold\">0.331673</span>, <span style=\"color: #008080; text-decoration-color: #008080; font-weight: bold\">0.333673</span>, <span style=\"color: #008080; text-decoration-color: #008080; font-weight: bold\">0.335673</span>, <span style=\"color: #008080; text-decoration-color: #008080; font-weight: bold\">0.337673</span>, <span style=\"color: #008080; text-decoration-color: #008080; font-weight: bold\">0.339673</span>, <span style=\"color: #008080; text-decoration-color: #008080; font-weight: bold\">0.341673</span>,  <span style=\"color: #000080; text-decoration-color: #000080\">│</span>\n",
       "<span style=\"color: #000080; text-decoration-color: #000080\">│</span>                      <span style=\"color: #008080; text-decoration-color: #008080; font-weight: bold\">0.343673</span>, <span style=\"color: #008080; text-decoration-color: #008080; font-weight: bold\">0.345673</span>, <span style=\"color: #008080; text-decoration-color: #008080; font-weight: bold\">0.347673</span>, <span style=\"color: #008080; text-decoration-color: #008080; font-weight: bold\">0.349673</span>, <span style=\"color: #008080; text-decoration-color: #008080; font-weight: bold\">0.351673</span>, <span style=\"color: #008080; text-decoration-color: #008080; font-weight: bold\">0.353673</span>,  <span style=\"color: #000080; text-decoration-color: #000080\">│</span>\n",
       "<span style=\"color: #000080; text-decoration-color: #000080\">│</span>                      <span style=\"color: #008080; text-decoration-color: #008080; font-weight: bold\">0.355673</span>, <span style=\"color: #008080; text-decoration-color: #008080; font-weight: bold\">0.357673</span>, <span style=\"color: #008080; text-decoration-color: #008080; font-weight: bold\">0.359673</span>, <span style=\"color: #008080; text-decoration-color: #008080; font-weight: bold\">0.361673</span>, <span style=\"color: #008080; text-decoration-color: #008080; font-weight: bold\">0.363673</span>, <span style=\"color: #008080; text-decoration-color: #008080; font-weight: bold\">0.365673</span>,  <span style=\"color: #000080; text-decoration-color: #000080\">│</span>\n",
       "<span style=\"color: #000080; text-decoration-color: #000080\">│</span>                      <span style=\"color: #008080; text-decoration-color: #008080; font-weight: bold\">0.367673</span>, <span style=\"color: #008080; text-decoration-color: #008080; font-weight: bold\">0.369673</span>, <span style=\"color: #008080; text-decoration-color: #008080; font-weight: bold\">0.371673</span>, <span style=\"color: #008080; text-decoration-color: #008080; font-weight: bold\">0.373673</span>, <span style=\"color: #008080; text-decoration-color: #008080; font-weight: bold\">0.375673</span>, <span style=\"color: #008080; text-decoration-color: #008080; font-weight: bold\">0.377673</span>,  <span style=\"color: #000080; text-decoration-color: #000080\">│</span>\n",
       "<span style=\"color: #000080; text-decoration-color: #000080\">│</span>                      <span style=\"color: #008080; text-decoration-color: #008080; font-weight: bold\">0.379673</span>, <span style=\"color: #008080; text-decoration-color: #008080; font-weight: bold\">0.381673</span>, <span style=\"color: #008080; text-decoration-color: #008080; font-weight: bold\">0.383673</span>, <span style=\"color: #008080; text-decoration-color: #008080; font-weight: bold\">0.385673</span>, <span style=\"color: #008080; text-decoration-color: #008080; font-weight: bold\">0.387673</span>, <span style=\"color: #008080; text-decoration-color: #008080; font-weight: bold\">0.389673</span><span style=\"font-weight: bold\">])</span> <span style=\"color: #000080; text-decoration-color: #000080\">│</span>\n",
       "<span style=\"color: #000080; text-decoration-color: #000080\">│</span>      <span style=\"color: #808000; text-decoration-color: #808000; font-style: italic\">frames</span> = <span style=\"font-weight: bold\">[</span>                                                                   <span style=\"color: #000080; text-decoration-color: #000080\">│</span>\n",
       "<span style=\"color: #000080; text-decoration-color: #000080\">│</span>                   <span style=\"font-weight: bold\">&lt;</span><span style=\"color: #ff00ff; text-decoration-color: #ff00ff; font-weight: bold\">pyuda._video.Frame</span><span style=\"color: #000000; text-decoration-color: #000000\"> object at </span><span style=\"color: #008080; text-decoration-color: #008080; font-weight: bold\">0x7f8eadce9710</span><span style=\"font-weight: bold\">&gt;</span>,                  <span style=\"color: #000080; text-decoration-color: #000080\">│</span>\n",
       "<span style=\"color: #000080; text-decoration-color: #000080\">│</span>                   <span style=\"font-weight: bold\">&lt;</span><span style=\"color: #ff00ff; text-decoration-color: #ff00ff; font-weight: bold\">pyuda._video.Frame</span><span style=\"color: #000000; text-decoration-color: #000000\"> object at </span><span style=\"color: #008080; text-decoration-color: #008080; font-weight: bold\">0x7f8eadce96a0</span><span style=\"font-weight: bold\">&gt;</span>,                  <span style=\"color: #000080; text-decoration-color: #000080\">│</span>\n",
       "<span style=\"color: #000080; text-decoration-color: #000080\">│</span>                   <span style=\"font-weight: bold\">&lt;</span><span style=\"color: #ff00ff; text-decoration-color: #ff00ff; font-weight: bold\">pyuda._video.Frame</span><span style=\"color: #000000; text-decoration-color: #000000\"> object at </span><span style=\"color: #008080; text-decoration-color: #008080; font-weight: bold\">0x7f8eadc54400</span><span style=\"font-weight: bold\">&gt;</span>,                  <span style=\"color: #000080; text-decoration-color: #000080\">│</span>\n",
       "<span style=\"color: #000080; text-decoration-color: #000080\">│</span>                   <span style=\"font-weight: bold\">&lt;</span><span style=\"color: #ff00ff; text-decoration-color: #ff00ff; font-weight: bold\">pyuda._video.Frame</span><span style=\"color: #000000; text-decoration-color: #000000\"> object at </span><span style=\"color: #008080; text-decoration-color: #008080; font-weight: bold\">0x7f8eadc54438</span><span style=\"font-weight: bold\">&gt;</span>,                  <span style=\"color: #000080; text-decoration-color: #000080\">│</span>\n",
       "<span style=\"color: #000080; text-decoration-color: #000080\">│</span>                   <span style=\"font-weight: bold\">&lt;</span><span style=\"color: #ff00ff; text-decoration-color: #ff00ff; font-weight: bold\">pyuda._video.Frame</span><span style=\"color: #000000; text-decoration-color: #000000\"> object at </span><span style=\"color: #008080; text-decoration-color: #008080; font-weight: bold\">0x7f8eadc54470</span><span style=\"font-weight: bold\">&gt;</span>,                  <span style=\"color: #000080; text-decoration-color: #000080\">│</span>\n",
       "<span style=\"color: #000080; text-decoration-color: #000080\">│</span>                   <span style=\"font-weight: bold\">&lt;</span><span style=\"color: #ff00ff; text-decoration-color: #ff00ff; font-weight: bold\">pyuda._video.Frame</span><span style=\"color: #000000; text-decoration-color: #000000\"> object at </span><span style=\"color: #008080; text-decoration-color: #008080; font-weight: bold\">0x7f8eadc544a8</span><span style=\"font-weight: bold\">&gt;</span>,                  <span style=\"color: #000080; text-decoration-color: #000080\">│</span>\n",
       "<span style=\"color: #000080; text-decoration-color: #000080\">│</span>                   <span style=\"font-weight: bold\">&lt;</span><span style=\"color: #ff00ff; text-decoration-color: #ff00ff; font-weight: bold\">pyuda._video.Frame</span><span style=\"color: #000000; text-decoration-color: #000000\"> object at </span><span style=\"color: #008080; text-decoration-color: #008080; font-weight: bold\">0x7f8eadc544e0</span><span style=\"font-weight: bold\">&gt;</span>,                  <span style=\"color: #000080; text-decoration-color: #000080\">│</span>\n",
       "<span style=\"color: #000080; text-decoration-color: #000080\">│</span>                   <span style=\"font-weight: bold\">&lt;</span><span style=\"color: #ff00ff; text-decoration-color: #ff00ff; font-weight: bold\">pyuda._video.Frame</span><span style=\"color: #000000; text-decoration-color: #000000\"> object at </span><span style=\"color: #008080; text-decoration-color: #008080; font-weight: bold\">0x7f8eadc54518</span><span style=\"font-weight: bold\">&gt;</span>,                  <span style=\"color: #000080; text-decoration-color: #000080\">│</span>\n",
       "<span style=\"color: #000080; text-decoration-color: #000080\">│</span>                   <span style=\"font-weight: bold\">&lt;</span><span style=\"color: #ff00ff; text-decoration-color: #ff00ff; font-weight: bold\">pyuda._video.Frame</span><span style=\"color: #000000; text-decoration-color: #000000\"> object at </span><span style=\"color: #008080; text-decoration-color: #008080; font-weight: bold\">0x7f8eadc54550</span><span style=\"font-weight: bold\">&gt;</span>,                  <span style=\"color: #000080; text-decoration-color: #000080\">│</span>\n",
       "<span style=\"color: #000080; text-decoration-color: #000080\">│</span>                   <span style=\"font-weight: bold\">&lt;</span><span style=\"color: #ff00ff; text-decoration-color: #ff00ff; font-weight: bold\">pyuda._video.Frame</span><span style=\"color: #000000; text-decoration-color: #000000\"> object at </span><span style=\"color: #008080; text-decoration-color: #008080; font-weight: bold\">0x7f8eadc54588</span><span style=\"font-weight: bold\">&gt;</span>,                  <span style=\"color: #000080; text-decoration-color: #000080\">│</span>\n",
       "<span style=\"color: #000080; text-decoration-color: #000080\">│</span>                   <span style=\"font-weight: bold\">&lt;</span><span style=\"color: #ff00ff; text-decoration-color: #ff00ff; font-weight: bold\">pyuda._video.Frame</span><span style=\"color: #000000; text-decoration-color: #000000\"> object at </span><span style=\"color: #008080; text-decoration-color: #008080; font-weight: bold\">0x7f8eadc545c0</span><span style=\"font-weight: bold\">&gt;</span>,                  <span style=\"color: #000080; text-decoration-color: #000080\">│</span>\n",
       "<span style=\"color: #000080; text-decoration-color: #000080\">│</span>                   <span style=\"font-weight: bold\">&lt;</span><span style=\"color: #ff00ff; text-decoration-color: #ff00ff; font-weight: bold\">pyuda._video.Frame</span><span style=\"color: #000000; text-decoration-color: #000000\"> object at </span><span style=\"color: #008080; text-decoration-color: #008080; font-weight: bold\">0x7f8eadc545f8</span><span style=\"font-weight: bold\">&gt;</span>,                  <span style=\"color: #000080; text-decoration-color: #000080\">│</span>\n",
       "<span style=\"color: #000080; text-decoration-color: #000080\">│</span>                   <span style=\"font-weight: bold\">&lt;</span><span style=\"color: #ff00ff; text-decoration-color: #ff00ff; font-weight: bold\">pyuda._video.Frame</span><span style=\"color: #000000; text-decoration-color: #000000\"> object at </span><span style=\"color: #008080; text-decoration-color: #008080; font-weight: bold\">0x7f8eadc54630</span><span style=\"font-weight: bold\">&gt;</span>,                  <span style=\"color: #000080; text-decoration-color: #000080\">│</span>\n",
       "<span style=\"color: #000080; text-decoration-color: #000080\">│</span>                   <span style=\"font-weight: bold\">&lt;</span><span style=\"color: #ff00ff; text-decoration-color: #ff00ff; font-weight: bold\">pyuda._video.Frame</span><span style=\"color: #000000; text-decoration-color: #000000\"> object at </span><span style=\"color: #008080; text-decoration-color: #008080; font-weight: bold\">0x7f8eadc54668</span><span style=\"font-weight: bold\">&gt;</span>,                  <span style=\"color: #000080; text-decoration-color: #000080\">│</span>\n",
       "<span style=\"color: #000080; text-decoration-color: #000080\">│</span>                   <span style=\"font-weight: bold\">&lt;</span><span style=\"color: #ff00ff; text-decoration-color: #ff00ff; font-weight: bold\">pyuda._video.Frame</span><span style=\"color: #000000; text-decoration-color: #000000\"> object at </span><span style=\"color: #008080; text-decoration-color: #008080; font-weight: bold\">0x7f8eadc546a0</span><span style=\"font-weight: bold\">&gt;</span>,                  <span style=\"color: #000080; text-decoration-color: #000080\">│</span>\n",
       "<span style=\"color: #000080; text-decoration-color: #000080\">│</span>                   <span style=\"font-weight: bold\">&lt;</span><span style=\"color: #ff00ff; text-decoration-color: #ff00ff; font-weight: bold\">pyuda._video.Frame</span><span style=\"color: #000000; text-decoration-color: #000000\"> object at </span><span style=\"color: #008080; text-decoration-color: #008080; font-weight: bold\">0x7f8eadc546d8</span><span style=\"font-weight: bold\">&gt;</span>,                  <span style=\"color: #000080; text-decoration-color: #000080\">│</span>\n",
       "<span style=\"color: #000080; text-decoration-color: #000080\">│</span>                   <span style=\"font-weight: bold\">&lt;</span><span style=\"color: #ff00ff; text-decoration-color: #ff00ff; font-weight: bold\">pyuda._video.Frame</span><span style=\"color: #000000; text-decoration-color: #000000\"> object at </span><span style=\"color: #008080; text-decoration-color: #008080; font-weight: bold\">0x7f8eadc54710</span><span style=\"font-weight: bold\">&gt;</span>,                  <span style=\"color: #000080; text-decoration-color: #000080\">│</span>\n",
       "<span style=\"color: #000080; text-decoration-color: #000080\">│</span>                   <span style=\"font-weight: bold\">&lt;</span><span style=\"color: #ff00ff; text-decoration-color: #ff00ff; font-weight: bold\">pyuda._video.Frame</span><span style=\"color: #000000; text-decoration-color: #000000\"> object at </span><span style=\"color: #008080; text-decoration-color: #008080; font-weight: bold\">0x7f8eadc54748</span><span style=\"font-weight: bold\">&gt;</span>,                  <span style=\"color: #000080; text-decoration-color: #000080\">│</span>\n",
       "<span style=\"color: #000080; text-decoration-color: #000080\">│</span>                   <span style=\"font-weight: bold\">&lt;</span><span style=\"color: #ff00ff; text-decoration-color: #ff00ff; font-weight: bold\">pyuda._video.Frame</span><span style=\"color: #000000; text-decoration-color: #000000\"> object at </span><span style=\"color: #008080; text-decoration-color: #008080; font-weight: bold\">0x7f8eadc54780</span><span style=\"font-weight: bold\">&gt;</span>,                  <span style=\"color: #000080; text-decoration-color: #000080\">│</span>\n",
       "<span style=\"color: #000080; text-decoration-color: #000080\">│</span>                   <span style=\"font-weight: bold\">&lt;</span><span style=\"color: #ff00ff; text-decoration-color: #ff00ff; font-weight: bold\">pyuda._video.Frame</span><span style=\"color: #000000; text-decoration-color: #000000\"> object at </span><span style=\"color: #008080; text-decoration-color: #008080; font-weight: bold\">0x7f8eadc547b8</span><span style=\"font-weight: bold\">&gt;</span>,                  <span style=\"color: #000080; text-decoration-color: #000080\">│</span>\n",
       "<span style=\"color: #000080; text-decoration-color: #000080\">│</span>                   <span style=\"font-weight: bold\">&lt;</span><span style=\"color: #ff00ff; text-decoration-color: #ff00ff; font-weight: bold\">pyuda._video.Frame</span><span style=\"color: #000000; text-decoration-color: #000000\"> object at </span><span style=\"color: #008080; text-decoration-color: #008080; font-weight: bold\">0x7f8eadc547f0</span><span style=\"font-weight: bold\">&gt;</span>,                  <span style=\"color: #000080; text-decoration-color: #000080\">│</span>\n",
       "<span style=\"color: #000080; text-decoration-color: #000080\">│</span>                   <span style=\"font-weight: bold\">&lt;</span><span style=\"color: #ff00ff; text-decoration-color: #ff00ff; font-weight: bold\">pyuda._video.Frame</span><span style=\"color: #000000; text-decoration-color: #000000\"> object at </span><span style=\"color: #008080; text-decoration-color: #008080; font-weight: bold\">0x7f8eadc54828</span><span style=\"font-weight: bold\">&gt;</span>,                  <span style=\"color: #000080; text-decoration-color: #000080\">│</span>\n",
       "<span style=\"color: #000080; text-decoration-color: #000080\">│</span>                   <span style=\"font-weight: bold\">&lt;</span><span style=\"color: #ff00ff; text-decoration-color: #ff00ff; font-weight: bold\">pyuda._video.Frame</span><span style=\"color: #000000; text-decoration-color: #000000\"> object at </span><span style=\"color: #008080; text-decoration-color: #008080; font-weight: bold\">0x7f8eadc54860</span><span style=\"font-weight: bold\">&gt;</span>,                  <span style=\"color: #000080; text-decoration-color: #000080\">│</span>\n",
       "<span style=\"color: #000080; text-decoration-color: #000080\">│</span>                   <span style=\"font-weight: bold\">&lt;</span><span style=\"color: #ff00ff; text-decoration-color: #ff00ff; font-weight: bold\">pyuda._video.Frame</span><span style=\"color: #000000; text-decoration-color: #000000\"> object at </span><span style=\"color: #008080; text-decoration-color: #008080; font-weight: bold\">0x7f8eadc54898</span><span style=\"font-weight: bold\">&gt;</span>,                  <span style=\"color: #000080; text-decoration-color: #000080\">│</span>\n",
       "<span style=\"color: #000080; text-decoration-color: #000080\">│</span>                   <span style=\"font-weight: bold\">&lt;</span><span style=\"color: #ff00ff; text-decoration-color: #ff00ff; font-weight: bold\">pyuda._video.Frame</span><span style=\"color: #000000; text-decoration-color: #000000\"> object at </span><span style=\"color: #008080; text-decoration-color: #008080; font-weight: bold\">0x7f8eadc548d0</span><span style=\"font-weight: bold\">&gt;</span>,                  <span style=\"color: #000080; text-decoration-color: #000080\">│</span>\n",
       "<span style=\"color: #000080; text-decoration-color: #000080\">│</span>                   <span style=\"font-weight: bold\">&lt;</span><span style=\"color: #ff00ff; text-decoration-color: #ff00ff; font-weight: bold\">pyuda._video.Frame</span><span style=\"color: #000000; text-decoration-color: #000000\"> object at </span><span style=\"color: #008080; text-decoration-color: #008080; font-weight: bold\">0x7f8eadc54908</span><span style=\"font-weight: bold\">&gt;</span>,                  <span style=\"color: #000080; text-decoration-color: #000080\">│</span>\n",
       "<span style=\"color: #000080; text-decoration-color: #000080\">│</span>                   <span style=\"font-weight: bold\">&lt;</span><span style=\"color: #ff00ff; text-decoration-color: #ff00ff; font-weight: bold\">pyuda._video.Frame</span><span style=\"color: #000000; text-decoration-color: #000000\"> object at </span><span style=\"color: #008080; text-decoration-color: #008080; font-weight: bold\">0x7f8eadc54940</span><span style=\"font-weight: bold\">&gt;</span>,                  <span style=\"color: #000080; text-decoration-color: #000080\">│</span>\n",
       "<span style=\"color: #000080; text-decoration-color: #000080\">│</span>                   <span style=\"font-weight: bold\">&lt;</span><span style=\"color: #ff00ff; text-decoration-color: #ff00ff; font-weight: bold\">pyuda._video.Frame</span><span style=\"color: #000000; text-decoration-color: #000000\"> object at </span><span style=\"color: #008080; text-decoration-color: #008080; font-weight: bold\">0x7f8eadc54978</span><span style=\"font-weight: bold\">&gt;</span>,                  <span style=\"color: #000080; text-decoration-color: #000080\">│</span>\n",
       "<span style=\"color: #000080; text-decoration-color: #000080\">│</span>                   <span style=\"font-weight: bold\">&lt;</span><span style=\"color: #ff00ff; text-decoration-color: #ff00ff; font-weight: bold\">pyuda._video.Frame</span><span style=\"color: #000000; text-decoration-color: #000000\"> object at </span><span style=\"color: #008080; text-decoration-color: #008080; font-weight: bold\">0x7f8eadc549b0</span><span style=\"font-weight: bold\">&gt;</span>,                  <span style=\"color: #000080; text-decoration-color: #000080\">│</span>\n",
       "<span style=\"color: #000080; text-decoration-color: #000080\">│</span>                   <span style=\"font-weight: bold\">&lt;</span><span style=\"color: #ff00ff; text-decoration-color: #ff00ff; font-weight: bold\">pyuda._video.Frame</span><span style=\"color: #000000; text-decoration-color: #000000\"> object at </span><span style=\"color: #008080; text-decoration-color: #008080; font-weight: bold\">0x7f8eadc549e8</span><span style=\"font-weight: bold\">&gt;</span>,                  <span style=\"color: #000080; text-decoration-color: #000080\">│</span>\n",
       "<span style=\"color: #000080; text-decoration-color: #000080\">│</span>                   <span style=\"font-weight: bold\">&lt;</span><span style=\"color: #ff00ff; text-decoration-color: #ff00ff; font-weight: bold\">pyuda._video.Frame</span><span style=\"color: #000000; text-decoration-color: #000000\"> object at </span><span style=\"color: #008080; text-decoration-color: #008080; font-weight: bold\">0x7f8eadc54a20</span><span style=\"font-weight: bold\">&gt;</span>,                  <span style=\"color: #000080; text-decoration-color: #000080\">│</span>\n",
       "<span style=\"color: #000080; text-decoration-color: #000080\">│</span>                   <span style=\"font-weight: bold\">&lt;</span><span style=\"color: #ff00ff; text-decoration-color: #ff00ff; font-weight: bold\">pyuda._video.Frame</span><span style=\"color: #000000; text-decoration-color: #000000\"> object at </span><span style=\"color: #008080; text-decoration-color: #008080; font-weight: bold\">0x7f8eadc54a58</span><span style=\"font-weight: bold\">&gt;</span>,                  <span style=\"color: #000080; text-decoration-color: #000080\">│</span>\n",
       "<span style=\"color: #000080; text-decoration-color: #000080\">│</span>                   <span style=\"font-weight: bold\">&lt;</span><span style=\"color: #ff00ff; text-decoration-color: #ff00ff; font-weight: bold\">pyuda._video.Frame</span><span style=\"color: #000000; text-decoration-color: #000000\"> object at </span><span style=\"color: #008080; text-decoration-color: #008080; font-weight: bold\">0x7f8eadc54a90</span><span style=\"font-weight: bold\">&gt;</span>,                  <span style=\"color: #000080; text-decoration-color: #000080\">│</span>\n",
       "<span style=\"color: #000080; text-decoration-color: #000080\">│</span>                   <span style=\"font-weight: bold\">&lt;</span><span style=\"color: #ff00ff; text-decoration-color: #ff00ff; font-weight: bold\">pyuda._video.Frame</span><span style=\"color: #000000; text-decoration-color: #000000\"> object at </span><span style=\"color: #008080; text-decoration-color: #008080; font-weight: bold\">0x7f8eadc54ac8</span><span style=\"font-weight: bold\">&gt;</span>,                  <span style=\"color: #000080; text-decoration-color: #000080\">│</span>\n",
       "<span style=\"color: #000080; text-decoration-color: #000080\">│</span>                   <span style=\"font-weight: bold\">&lt;</span><span style=\"color: #ff00ff; text-decoration-color: #ff00ff; font-weight: bold\">pyuda._video.Frame</span><span style=\"color: #000000; text-decoration-color: #000000\"> object at </span><span style=\"color: #008080; text-decoration-color: #008080; font-weight: bold\">0x7f8eadc54b00</span><span style=\"font-weight: bold\">&gt;</span>,                  <span style=\"color: #000080; text-decoration-color: #000080\">│</span>\n",
       "<span style=\"color: #000080; text-decoration-color: #000080\">│</span>                   <span style=\"font-weight: bold\">&lt;</span><span style=\"color: #ff00ff; text-decoration-color: #ff00ff; font-weight: bold\">pyuda._video.Frame</span><span style=\"color: #000000; text-decoration-color: #000000\"> object at </span><span style=\"color: #008080; text-decoration-color: #008080; font-weight: bold\">0x7f8eadc54b38</span><span style=\"font-weight: bold\">&gt;</span>,                  <span style=\"color: #000080; text-decoration-color: #000080\">│</span>\n",
       "<span style=\"color: #000080; text-decoration-color: #000080\">│</span>                   <span style=\"font-weight: bold\">&lt;</span><span style=\"color: #ff00ff; text-decoration-color: #ff00ff; font-weight: bold\">pyuda._video.Frame</span><span style=\"color: #000000; text-decoration-color: #000000\"> object at </span><span style=\"color: #008080; text-decoration-color: #008080; font-weight: bold\">0x7f8eadc54b70</span><span style=\"font-weight: bold\">&gt;</span>,                  <span style=\"color: #000080; text-decoration-color: #000080\">│</span>\n",
       "<span style=\"color: #000080; text-decoration-color: #000080\">│</span>                   <span style=\"font-weight: bold\">&lt;</span><span style=\"color: #ff00ff; text-decoration-color: #ff00ff; font-weight: bold\">pyuda._video.Frame</span><span style=\"color: #000000; text-decoration-color: #000000\"> object at </span><span style=\"color: #008080; text-decoration-color: #008080; font-weight: bold\">0x7f8eadc54ba8</span><span style=\"font-weight: bold\">&gt;</span>,                  <span style=\"color: #000080; text-decoration-color: #000080\">│</span>\n",
       "<span style=\"color: #000080; text-decoration-color: #000080\">│</span>                   <span style=\"font-weight: bold\">&lt;</span><span style=\"color: #ff00ff; text-decoration-color: #ff00ff; font-weight: bold\">pyuda._video.Frame</span><span style=\"color: #000000; text-decoration-color: #000000\"> object at </span><span style=\"color: #008080; text-decoration-color: #008080; font-weight: bold\">0x7f8eadc54be0</span><span style=\"font-weight: bold\">&gt;</span>,                  <span style=\"color: #000080; text-decoration-color: #000080\">│</span>\n",
       "<span style=\"color: #000080; text-decoration-color: #000080\">│</span>                   <span style=\"font-weight: bold\">&lt;</span><span style=\"color: #ff00ff; text-decoration-color: #ff00ff; font-weight: bold\">pyuda._video.Frame</span><span style=\"color: #000000; text-decoration-color: #000000\"> object at </span><span style=\"color: #008080; text-decoration-color: #008080; font-weight: bold\">0x7f8eadc54c18</span><span style=\"font-weight: bold\">&gt;</span>,                  <span style=\"color: #000080; text-decoration-color: #000080\">│</span>\n",
       "<span style=\"color: #000080; text-decoration-color: #000080\">│</span>                   <span style=\"font-weight: bold\">&lt;</span><span style=\"color: #ff00ff; text-decoration-color: #ff00ff; font-weight: bold\">pyuda._video.Frame</span><span style=\"color: #000000; text-decoration-color: #000000\"> object at </span><span style=\"color: #008080; text-decoration-color: #008080; font-weight: bold\">0x7f8eadc54c50</span><span style=\"font-weight: bold\">&gt;</span>,                  <span style=\"color: #000080; text-decoration-color: #000080\">│</span>\n",
       "<span style=\"color: #000080; text-decoration-color: #000080\">│</span>                   <span style=\"font-weight: bold\">&lt;</span><span style=\"color: #ff00ff; text-decoration-color: #ff00ff; font-weight: bold\">pyuda._video.Frame</span><span style=\"color: #000000; text-decoration-color: #000000\"> object at </span><span style=\"color: #008080; text-decoration-color: #008080; font-weight: bold\">0x7f8eadc54c88</span><span style=\"font-weight: bold\">&gt;</span>,                  <span style=\"color: #000080; text-decoration-color: #000080\">│</span>\n",
       "<span style=\"color: #000080; text-decoration-color: #000080\">│</span>                   <span style=\"font-weight: bold\">&lt;</span><span style=\"color: #ff00ff; text-decoration-color: #ff00ff; font-weight: bold\">pyuda._video.Frame</span><span style=\"color: #000000; text-decoration-color: #000000\"> object at </span><span style=\"color: #008080; text-decoration-color: #008080; font-weight: bold\">0x7f8eadc54cc0</span><span style=\"font-weight: bold\">&gt;</span>,                  <span style=\"color: #000080; text-decoration-color: #000080\">│</span>\n",
       "<span style=\"color: #000080; text-decoration-color: #000080\">│</span>                   <span style=\"font-weight: bold\">&lt;</span><span style=\"color: #ff00ff; text-decoration-color: #ff00ff; font-weight: bold\">pyuda._video.Frame</span><span style=\"color: #000000; text-decoration-color: #000000\"> object at </span><span style=\"color: #008080; text-decoration-color: #008080; font-weight: bold\">0x7f8eadc54cf8</span><span style=\"font-weight: bold\">&gt;</span>,                  <span style=\"color: #000080; text-decoration-color: #000080\">│</span>\n",
       "<span style=\"color: #000080; text-decoration-color: #000080\">│</span>                   <span style=\"font-weight: bold\">&lt;</span><span style=\"color: #ff00ff; text-decoration-color: #ff00ff; font-weight: bold\">pyuda._video.Frame</span><span style=\"color: #000000; text-decoration-color: #000000\"> object at </span><span style=\"color: #008080; text-decoration-color: #008080; font-weight: bold\">0x7f8eadc54d30</span><span style=\"font-weight: bold\">&gt;</span>,                  <span style=\"color: #000080; text-decoration-color: #000080\">│</span>\n",
       "<span style=\"color: #000080; text-decoration-color: #000080\">│</span>                   <span style=\"font-weight: bold\">&lt;</span><span style=\"color: #ff00ff; text-decoration-color: #ff00ff; font-weight: bold\">pyuda._video.Frame</span><span style=\"color: #000000; text-decoration-color: #000000\"> object at </span><span style=\"color: #008080; text-decoration-color: #008080; font-weight: bold\">0x7f8eadc54d68</span><span style=\"font-weight: bold\">&gt;</span>,                  <span style=\"color: #000080; text-decoration-color: #000080\">│</span>\n",
       "<span style=\"color: #000080; text-decoration-color: #000080\">│</span>                   <span style=\"font-weight: bold\">&lt;</span><span style=\"color: #ff00ff; text-decoration-color: #ff00ff; font-weight: bold\">pyuda._video.Frame</span><span style=\"color: #000000; text-decoration-color: #000000\"> object at </span><span style=\"color: #008080; text-decoration-color: #008080; font-weight: bold\">0x7f8eadc54da0</span><span style=\"font-weight: bold\">&gt;</span>,                  <span style=\"color: #000080; text-decoration-color: #000080\">│</span>\n",
       "<span style=\"color: #000080; text-decoration-color: #000080\">│</span>                   <span style=\"font-weight: bold\">&lt;</span><span style=\"color: #ff00ff; text-decoration-color: #ff00ff; font-weight: bold\">pyuda._video.Frame</span><span style=\"color: #000000; text-decoration-color: #000000\"> object at </span><span style=\"color: #008080; text-decoration-color: #008080; font-weight: bold\">0x7f8eadc54dd8</span><span style=\"font-weight: bold\">&gt;</span>,                  <span style=\"color: #000080; text-decoration-color: #000080\">│</span>\n",
       "<span style=\"color: #000080; text-decoration-color: #000080\">│</span>                   <span style=\"font-weight: bold\">&lt;</span><span style=\"color: #ff00ff; text-decoration-color: #ff00ff; font-weight: bold\">pyuda._video.Frame</span><span style=\"color: #000000; text-decoration-color: #000000\"> object at </span><span style=\"color: #008080; text-decoration-color: #008080; font-weight: bold\">0x7f8eadc54e10</span><span style=\"font-weight: bold\">&gt;</span>,                  <span style=\"color: #000080; text-decoration-color: #000080\">│</span>\n",
       "<span style=\"color: #000080; text-decoration-color: #000080\">│</span>                   <span style=\"font-weight: bold\">&lt;</span><span style=\"color: #ff00ff; text-decoration-color: #ff00ff; font-weight: bold\">pyuda._video.Frame</span><span style=\"color: #000000; text-decoration-color: #000000\"> object at </span><span style=\"color: #008080; text-decoration-color: #008080; font-weight: bold\">0x7f8eadc54e48</span><span style=\"font-weight: bold\">&gt;</span>,                  <span style=\"color: #000080; text-decoration-color: #000080\">│</span>\n",
       "<span style=\"color: #000080; text-decoration-color: #000080\">│</span>                   <span style=\"font-weight: bold\">&lt;</span><span style=\"color: #ff00ff; text-decoration-color: #ff00ff; font-weight: bold\">pyuda._video.Frame</span><span style=\"color: #000000; text-decoration-color: #000000\"> object at </span><span style=\"color: #008080; text-decoration-color: #008080; font-weight: bold\">0x7f8eadc54e80</span><span style=\"font-weight: bold\">&gt;</span>,                  <span style=\"color: #000080; text-decoration-color: #000080\">│</span>\n",
       "<span style=\"color: #000080; text-decoration-color: #000080\">│</span>                   <span style=\"font-weight: bold\">&lt;</span><span style=\"color: #ff00ff; text-decoration-color: #ff00ff; font-weight: bold\">pyuda._video.Frame</span><span style=\"color: #000000; text-decoration-color: #000000\"> object at </span><span style=\"color: #008080; text-decoration-color: #008080; font-weight: bold\">0x7f8eadc54eb8</span><span style=\"font-weight: bold\">&gt;</span>,                  <span style=\"color: #000080; text-decoration-color: #000080\">│</span>\n",
       "<span style=\"color: #000080; text-decoration-color: #000080\">│</span>                   <span style=\"font-weight: bold\">&lt;</span><span style=\"color: #ff00ff; text-decoration-color: #ff00ff; font-weight: bold\">pyuda._video.Frame</span><span style=\"color: #000000; text-decoration-color: #000000\"> object at </span><span style=\"color: #008080; text-decoration-color: #008080; font-weight: bold\">0x7f8eadc54ef0</span><span style=\"font-weight: bold\">&gt;</span>,                  <span style=\"color: #000080; text-decoration-color: #000080\">│</span>\n",
       "<span style=\"color: #000080; text-decoration-color: #000080\">│</span>                   <span style=\"font-weight: bold\">&lt;</span><span style=\"color: #ff00ff; text-decoration-color: #ff00ff; font-weight: bold\">pyuda._video.Frame</span><span style=\"color: #000000; text-decoration-color: #000000\"> object at </span><span style=\"color: #008080; text-decoration-color: #008080; font-weight: bold\">0x7f8eadc54f28</span><span style=\"font-weight: bold\">&gt;</span>,                  <span style=\"color: #000080; text-decoration-color: #000080\">│</span>\n",
       "<span style=\"color: #000080; text-decoration-color: #000080\">│</span>                   <span style=\"font-weight: bold\">&lt;</span><span style=\"color: #ff00ff; text-decoration-color: #ff00ff; font-weight: bold\">pyuda._video.Frame</span><span style=\"color: #000000; text-decoration-color: #000000\"> object at </span><span style=\"color: #008080; text-decoration-color: #008080; font-weight: bold\">0x7f8eadc54f60</span><span style=\"font-weight: bold\">&gt;</span>,                  <span style=\"color: #000080; text-decoration-color: #000080\">│</span>\n",
       "<span style=\"color: #000080; text-decoration-color: #000080\">│</span>                   <span style=\"font-weight: bold\">&lt;</span><span style=\"color: #ff00ff; text-decoration-color: #ff00ff; font-weight: bold\">pyuda._video.Frame</span><span style=\"color: #000000; text-decoration-color: #000000\"> object at </span><span style=\"color: #008080; text-decoration-color: #008080; font-weight: bold\">0x7f8eadc54f98</span><span style=\"font-weight: bold\">&gt;</span>,                  <span style=\"color: #000080; text-decoration-color: #000080\">│</span>\n",
       "<span style=\"color: #000080; text-decoration-color: #000080\">│</span>                   <span style=\"font-weight: bold\">&lt;</span><span style=\"color: #ff00ff; text-decoration-color: #ff00ff; font-weight: bold\">pyuda._video.Frame</span><span style=\"color: #000000; text-decoration-color: #000000\"> object at </span><span style=\"color: #008080; text-decoration-color: #008080; font-weight: bold\">0x7f8eadc54fd0</span><span style=\"font-weight: bold\">&gt;</span>,                  <span style=\"color: #000080; text-decoration-color: #000080\">│</span>\n",
       "<span style=\"color: #000080; text-decoration-color: #000080\">│</span>                   <span style=\"font-weight: bold\">&lt;</span><span style=\"color: #ff00ff; text-decoration-color: #ff00ff; font-weight: bold\">pyuda._video.Frame</span><span style=\"color: #000000; text-decoration-color: #000000\"> object at </span><span style=\"color: #008080; text-decoration-color: #008080; font-weight: bold\">0x7f8eadc6a048</span><span style=\"font-weight: bold\">&gt;</span>,                  <span style=\"color: #000080; text-decoration-color: #000080\">│</span>\n",
       "<span style=\"color: #000080; text-decoration-color: #000080\">│</span>                   <span style=\"font-weight: bold\">&lt;</span><span style=\"color: #ff00ff; text-decoration-color: #ff00ff; font-weight: bold\">pyuda._video.Frame</span><span style=\"color: #000000; text-decoration-color: #000000\"> object at </span><span style=\"color: #008080; text-decoration-color: #008080; font-weight: bold\">0x7f8eadc6a080</span><span style=\"font-weight: bold\">&gt;</span>,                  <span style=\"color: #000080; text-decoration-color: #000080\">│</span>\n",
       "<span style=\"color: #000080; text-decoration-color: #000080\">│</span>                   <span style=\"font-weight: bold\">&lt;</span><span style=\"color: #ff00ff; text-decoration-color: #ff00ff; font-weight: bold\">pyuda._video.Frame</span><span style=\"color: #000000; text-decoration-color: #000000\"> object at </span><span style=\"color: #008080; text-decoration-color: #008080; font-weight: bold\">0x7f8eadc6a0b8</span><span style=\"font-weight: bold\">&gt;</span>,                  <span style=\"color: #000080; text-decoration-color: #000080\">│</span>\n",
       "<span style=\"color: #000080; text-decoration-color: #000080\">│</span>                   <span style=\"font-weight: bold\">&lt;</span><span style=\"color: #ff00ff; text-decoration-color: #ff00ff; font-weight: bold\">pyuda._video.Frame</span><span style=\"color: #000000; text-decoration-color: #000000\"> object at </span><span style=\"color: #008080; text-decoration-color: #008080; font-weight: bold\">0x7f8eadc6a0f0</span><span style=\"font-weight: bold\">&gt;</span>,                  <span style=\"color: #000080; text-decoration-color: #000080\">│</span>\n",
       "<span style=\"color: #000080; text-decoration-color: #000080\">│</span>                   <span style=\"font-weight: bold\">&lt;</span><span style=\"color: #ff00ff; text-decoration-color: #ff00ff; font-weight: bold\">pyuda._video.Frame</span><span style=\"color: #000000; text-decoration-color: #000000\"> object at </span><span style=\"color: #008080; text-decoration-color: #008080; font-weight: bold\">0x7f8eadc6a128</span><span style=\"font-weight: bold\">&gt;</span>,                  <span style=\"color: #000080; text-decoration-color: #000080\">│</span>\n",
       "<span style=\"color: #000080; text-decoration-color: #000080\">│</span>                   <span style=\"font-weight: bold\">&lt;</span><span style=\"color: #ff00ff; text-decoration-color: #ff00ff; font-weight: bold\">pyuda._video.Frame</span><span style=\"color: #000000; text-decoration-color: #000000\"> object at </span><span style=\"color: #008080; text-decoration-color: #008080; font-weight: bold\">0x7f8eadc6a160</span><span style=\"font-weight: bold\">&gt;</span>,                  <span style=\"color: #000080; text-decoration-color: #000080\">│</span>\n",
       "<span style=\"color: #000080; text-decoration-color: #000080\">│</span>                   <span style=\"font-weight: bold\">&lt;</span><span style=\"color: #ff00ff; text-decoration-color: #ff00ff; font-weight: bold\">pyuda._video.Frame</span><span style=\"color: #000000; text-decoration-color: #000000\"> object at </span><span style=\"color: #008080; text-decoration-color: #008080; font-weight: bold\">0x7f8eadc6a198</span><span style=\"font-weight: bold\">&gt;</span>,                  <span style=\"color: #000080; text-decoration-color: #000080\">│</span>\n",
       "<span style=\"color: #000080; text-decoration-color: #000080\">│</span>                   <span style=\"font-weight: bold\">&lt;</span><span style=\"color: #ff00ff; text-decoration-color: #ff00ff; font-weight: bold\">pyuda._video.Frame</span><span style=\"color: #000000; text-decoration-color: #000000\"> object at </span><span style=\"color: #008080; text-decoration-color: #008080; font-weight: bold\">0x7f8eadc6a1d0</span><span style=\"font-weight: bold\">&gt;</span>,                  <span style=\"color: #000080; text-decoration-color: #000080\">│</span>\n",
       "<span style=\"color: #000080; text-decoration-color: #000080\">│</span>                   <span style=\"font-weight: bold\">&lt;</span><span style=\"color: #ff00ff; text-decoration-color: #ff00ff; font-weight: bold\">pyuda._video.Frame</span><span style=\"color: #000000; text-decoration-color: #000000\"> object at </span><span style=\"color: #008080; text-decoration-color: #008080; font-weight: bold\">0x7f8eadc6a208</span><span style=\"font-weight: bold\">&gt;</span>,                  <span style=\"color: #000080; text-decoration-color: #000080\">│</span>\n",
       "<span style=\"color: #000080; text-decoration-color: #000080\">│</span>                   <span style=\"font-weight: bold\">&lt;</span><span style=\"color: #ff00ff; text-decoration-color: #ff00ff; font-weight: bold\">pyuda._video.Frame</span><span style=\"color: #000000; text-decoration-color: #000000\"> object at </span><span style=\"color: #008080; text-decoration-color: #008080; font-weight: bold\">0x7f8eadc6a240</span><span style=\"font-weight: bold\">&gt;</span>,                  <span style=\"color: #000080; text-decoration-color: #000080\">│</span>\n",
       "<span style=\"color: #000080; text-decoration-color: #000080\">│</span>                   <span style=\"font-weight: bold\">&lt;</span><span style=\"color: #ff00ff; text-decoration-color: #ff00ff; font-weight: bold\">pyuda._video.Frame</span><span style=\"color: #000000; text-decoration-color: #000000\"> object at </span><span style=\"color: #008080; text-decoration-color: #008080; font-weight: bold\">0x7f8eadc6a278</span><span style=\"font-weight: bold\">&gt;</span>,                  <span style=\"color: #000080; text-decoration-color: #000080\">│</span>\n",
       "<span style=\"color: #000080; text-decoration-color: #000080\">│</span>                   <span style=\"font-weight: bold\">&lt;</span><span style=\"color: #ff00ff; text-decoration-color: #ff00ff; font-weight: bold\">pyuda._video.Frame</span><span style=\"color: #000000; text-decoration-color: #000000\"> object at </span><span style=\"color: #008080; text-decoration-color: #008080; font-weight: bold\">0x7f8eadc6a2b0</span><span style=\"font-weight: bold\">&gt;</span>,                  <span style=\"color: #000080; text-decoration-color: #000080\">│</span>\n",
       "<span style=\"color: #000080; text-decoration-color: #000080\">│</span>                   <span style=\"font-weight: bold\">&lt;</span><span style=\"color: #ff00ff; text-decoration-color: #ff00ff; font-weight: bold\">pyuda._video.Frame</span><span style=\"color: #000000; text-decoration-color: #000000\"> object at </span><span style=\"color: #008080; text-decoration-color: #008080; font-weight: bold\">0x7f8eadc6a2e8</span><span style=\"font-weight: bold\">&gt;</span>,                  <span style=\"color: #000080; text-decoration-color: #000080\">│</span>\n",
       "<span style=\"color: #000080; text-decoration-color: #000080\">│</span>                   <span style=\"font-weight: bold\">&lt;</span><span style=\"color: #ff00ff; text-decoration-color: #ff00ff; font-weight: bold\">pyuda._video.Frame</span><span style=\"color: #000000; text-decoration-color: #000000\"> object at </span><span style=\"color: #008080; text-decoration-color: #008080; font-weight: bold\">0x7f8eadc6a320</span><span style=\"font-weight: bold\">&gt;</span>,                  <span style=\"color: #000080; text-decoration-color: #000080\">│</span>\n",
       "<span style=\"color: #000080; text-decoration-color: #000080\">│</span>                   <span style=\"font-weight: bold\">&lt;</span><span style=\"color: #ff00ff; text-decoration-color: #ff00ff; font-weight: bold\">pyuda._video.Frame</span><span style=\"color: #000000; text-decoration-color: #000000\"> object at </span><span style=\"color: #008080; text-decoration-color: #008080; font-weight: bold\">0x7f8eadc6a358</span><span style=\"font-weight: bold\">&gt;</span>,                  <span style=\"color: #000080; text-decoration-color: #000080\">│</span>\n",
       "<span style=\"color: #000080; text-decoration-color: #000080\">│</span>                   <span style=\"font-weight: bold\">&lt;</span><span style=\"color: #ff00ff; text-decoration-color: #ff00ff; font-weight: bold\">pyuda._video.Frame</span><span style=\"color: #000000; text-decoration-color: #000000\"> object at </span><span style=\"color: #008080; text-decoration-color: #008080; font-weight: bold\">0x7f8eadc6a390</span><span style=\"font-weight: bold\">&gt;</span>,                  <span style=\"color: #000080; text-decoration-color: #000080\">│</span>\n",
       "<span style=\"color: #000080; text-decoration-color: #000080\">│</span>                   <span style=\"font-weight: bold\">&lt;</span><span style=\"color: #ff00ff; text-decoration-color: #ff00ff; font-weight: bold\">pyuda._video.Frame</span><span style=\"color: #000000; text-decoration-color: #000000\"> object at </span><span style=\"color: #008080; text-decoration-color: #008080; font-weight: bold\">0x7f8eadc6a3c8</span><span style=\"font-weight: bold\">&gt;</span>,                  <span style=\"color: #000080; text-decoration-color: #000080\">│</span>\n",
       "<span style=\"color: #000080; text-decoration-color: #000080\">│</span>                   <span style=\"font-weight: bold\">&lt;</span><span style=\"color: #ff00ff; text-decoration-color: #ff00ff; font-weight: bold\">pyuda._video.Frame</span><span style=\"color: #000000; text-decoration-color: #000000\"> object at </span><span style=\"color: #008080; text-decoration-color: #008080; font-weight: bold\">0x7f8eadc6a400</span><span style=\"font-weight: bold\">&gt;</span>,                  <span style=\"color: #000080; text-decoration-color: #000080\">│</span>\n",
       "<span style=\"color: #000080; text-decoration-color: #000080\">│</span>                   <span style=\"font-weight: bold\">&lt;</span><span style=\"color: #ff00ff; text-decoration-color: #ff00ff; font-weight: bold\">pyuda._video.Frame</span><span style=\"color: #000000; text-decoration-color: #000000\"> object at </span><span style=\"color: #008080; text-decoration-color: #008080; font-weight: bold\">0x7f8eadc6a438</span><span style=\"font-weight: bold\">&gt;</span>,                  <span style=\"color: #000080; text-decoration-color: #000080\">│</span>\n",
       "<span style=\"color: #000080; text-decoration-color: #000080\">│</span>                   <span style=\"font-weight: bold\">&lt;</span><span style=\"color: #ff00ff; text-decoration-color: #ff00ff; font-weight: bold\">pyuda._video.Frame</span><span style=\"color: #000000; text-decoration-color: #000000\"> object at </span><span style=\"color: #008080; text-decoration-color: #008080; font-weight: bold\">0x7f8eadc6a470</span><span style=\"font-weight: bold\">&gt;</span>,                  <span style=\"color: #000080; text-decoration-color: #000080\">│</span>\n",
       "<span style=\"color: #000080; text-decoration-color: #000080\">│</span>                   <span style=\"font-weight: bold\">&lt;</span><span style=\"color: #ff00ff; text-decoration-color: #ff00ff; font-weight: bold\">pyuda._video.Frame</span><span style=\"color: #000000; text-decoration-color: #000000\"> object at </span><span style=\"color: #008080; text-decoration-color: #008080; font-weight: bold\">0x7f8eadc6a4a8</span><span style=\"font-weight: bold\">&gt;</span>,                  <span style=\"color: #000080; text-decoration-color: #000080\">│</span>\n",
       "<span style=\"color: #000080; text-decoration-color: #000080\">│</span>                   <span style=\"font-weight: bold\">&lt;</span><span style=\"color: #ff00ff; text-decoration-color: #ff00ff; font-weight: bold\">pyuda._video.Frame</span><span style=\"color: #000000; text-decoration-color: #000000\"> object at </span><span style=\"color: #008080; text-decoration-color: #008080; font-weight: bold\">0x7f8eadc6a4e0</span><span style=\"font-weight: bold\">&gt;</span>,                  <span style=\"color: #000080; text-decoration-color: #000080\">│</span>\n",
       "<span style=\"color: #000080; text-decoration-color: #000080\">│</span>                   <span style=\"font-weight: bold\">&lt;</span><span style=\"color: #ff00ff; text-decoration-color: #ff00ff; font-weight: bold\">pyuda._video.Frame</span><span style=\"color: #000000; text-decoration-color: #000000\"> object at </span><span style=\"color: #008080; text-decoration-color: #008080; font-weight: bold\">0x7f8eadc6a518</span><span style=\"font-weight: bold\">&gt;</span>,                  <span style=\"color: #000080; text-decoration-color: #000080\">│</span>\n",
       "<span style=\"color: #000080; text-decoration-color: #000080\">│</span>                   <span style=\"font-weight: bold\">&lt;</span><span style=\"color: #ff00ff; text-decoration-color: #ff00ff; font-weight: bold\">pyuda._video.Frame</span><span style=\"color: #000000; text-decoration-color: #000000\"> object at </span><span style=\"color: #008080; text-decoration-color: #008080; font-weight: bold\">0x7f8eadc6a550</span><span style=\"font-weight: bold\">&gt;</span>,                  <span style=\"color: #000080; text-decoration-color: #000080\">│</span>\n",
       "<span style=\"color: #000080; text-decoration-color: #000080\">│</span>                   <span style=\"font-weight: bold\">&lt;</span><span style=\"color: #ff00ff; text-decoration-color: #ff00ff; font-weight: bold\">pyuda._video.Frame</span><span style=\"color: #000000; text-decoration-color: #000000\"> object at </span><span style=\"color: #008080; text-decoration-color: #008080; font-weight: bold\">0x7f8eadc6a588</span><span style=\"font-weight: bold\">&gt;</span>,                  <span style=\"color: #000080; text-decoration-color: #000080\">│</span>\n",
       "<span style=\"color: #000080; text-decoration-color: #000080\">│</span>                   <span style=\"font-weight: bold\">&lt;</span><span style=\"color: #ff00ff; text-decoration-color: #ff00ff; font-weight: bold\">pyuda._video.Frame</span><span style=\"color: #000000; text-decoration-color: #000000\"> object at </span><span style=\"color: #008080; text-decoration-color: #008080; font-weight: bold\">0x7f8eadc6a5c0</span><span style=\"font-weight: bold\">&gt;</span>,                  <span style=\"color: #000080; text-decoration-color: #000080\">│</span>\n",
       "<span style=\"color: #000080; text-decoration-color: #000080\">│</span>                   <span style=\"font-weight: bold\">&lt;</span><span style=\"color: #ff00ff; text-decoration-color: #ff00ff; font-weight: bold\">pyuda._video.Frame</span><span style=\"color: #000000; text-decoration-color: #000000\"> object at </span><span style=\"color: #008080; text-decoration-color: #008080; font-weight: bold\">0x7f8eadc6a5f8</span><span style=\"font-weight: bold\">&gt;</span>,                  <span style=\"color: #000080; text-decoration-color: #000080\">│</span>\n",
       "<span style=\"color: #000080; text-decoration-color: #000080\">│</span>                   <span style=\"font-weight: bold\">&lt;</span><span style=\"color: #ff00ff; text-decoration-color: #ff00ff; font-weight: bold\">pyuda._video.Frame</span><span style=\"color: #000000; text-decoration-color: #000000\"> object at </span><span style=\"color: #008080; text-decoration-color: #008080; font-weight: bold\">0x7f8eadc6a630</span><span style=\"font-weight: bold\">&gt;</span>,                  <span style=\"color: #000080; text-decoration-color: #000080\">│</span>\n",
       "<span style=\"color: #000080; text-decoration-color: #000080\">│</span>                   <span style=\"font-weight: bold\">&lt;</span><span style=\"color: #ff00ff; text-decoration-color: #ff00ff; font-weight: bold\">pyuda._video.Frame</span><span style=\"color: #000000; text-decoration-color: #000000\"> object at </span><span style=\"color: #008080; text-decoration-color: #008080; font-weight: bold\">0x7f8eadc6a668</span><span style=\"font-weight: bold\">&gt;</span>,                  <span style=\"color: #000080; text-decoration-color: #000080\">│</span>\n",
       "<span style=\"color: #000080; text-decoration-color: #000080\">│</span>                   <span style=\"font-weight: bold\">&lt;</span><span style=\"color: #ff00ff; text-decoration-color: #ff00ff; font-weight: bold\">pyuda._video.Frame</span><span style=\"color: #000000; text-decoration-color: #000000\"> object at </span><span style=\"color: #008080; text-decoration-color: #008080; font-weight: bold\">0x7f8eadc6a6a0</span><span style=\"font-weight: bold\">&gt;</span>,                  <span style=\"color: #000080; text-decoration-color: #000080\">│</span>\n",
       "<span style=\"color: #000080; text-decoration-color: #000080\">│</span>                   <span style=\"font-weight: bold\">&lt;</span><span style=\"color: #ff00ff; text-decoration-color: #ff00ff; font-weight: bold\">pyuda._video.Frame</span><span style=\"color: #000000; text-decoration-color: #000000\"> object at </span><span style=\"color: #008080; text-decoration-color: #008080; font-weight: bold\">0x7f8eadc6a6d8</span><span style=\"font-weight: bold\">&gt;</span>,                  <span style=\"color: #000080; text-decoration-color: #000080\">│</span>\n",
       "<span style=\"color: #000080; text-decoration-color: #000080\">│</span>                   <span style=\"font-weight: bold\">&lt;</span><span style=\"color: #ff00ff; text-decoration-color: #ff00ff; font-weight: bold\">pyuda._video.Frame</span><span style=\"color: #000000; text-decoration-color: #000000\"> object at </span><span style=\"color: #008080; text-decoration-color: #008080; font-weight: bold\">0x7f8eadc6a710</span><span style=\"font-weight: bold\">&gt;</span>,                  <span style=\"color: #000080; text-decoration-color: #000080\">│</span>\n",
       "<span style=\"color: #000080; text-decoration-color: #000080\">│</span>                   <span style=\"font-weight: bold\">&lt;</span><span style=\"color: #ff00ff; text-decoration-color: #ff00ff; font-weight: bold\">pyuda._video.Frame</span><span style=\"color: #000000; text-decoration-color: #000000\"> object at </span><span style=\"color: #008080; text-decoration-color: #008080; font-weight: bold\">0x7f8eadc6a748</span><span style=\"font-weight: bold\">&gt;</span>,                  <span style=\"color: #000080; text-decoration-color: #000080\">│</span>\n",
       "<span style=\"color: #000080; text-decoration-color: #000080\">│</span>                   <span style=\"font-weight: bold\">&lt;</span><span style=\"color: #ff00ff; text-decoration-color: #ff00ff; font-weight: bold\">pyuda._video.Frame</span><span style=\"color: #000000; text-decoration-color: #000000\"> object at </span><span style=\"color: #008080; text-decoration-color: #008080; font-weight: bold\">0x7f8eadc6a780</span><span style=\"font-weight: bold\">&gt;</span>,                  <span style=\"color: #000080; text-decoration-color: #000080\">│</span>\n",
       "<span style=\"color: #000080; text-decoration-color: #000080\">│</span>                   <span style=\"font-weight: bold\">&lt;</span><span style=\"color: #ff00ff; text-decoration-color: #ff00ff; font-weight: bold\">pyuda._video.Frame</span><span style=\"color: #000000; text-decoration-color: #000000\"> object at </span><span style=\"color: #008080; text-decoration-color: #008080; font-weight: bold\">0x7f8eadc6a7b8</span><span style=\"font-weight: bold\">&gt;</span>,                  <span style=\"color: #000080; text-decoration-color: #000080\">│</span>\n",
       "<span style=\"color: #000080; text-decoration-color: #000080\">│</span>                   <span style=\"font-weight: bold\">&lt;</span><span style=\"color: #ff00ff; text-decoration-color: #ff00ff; font-weight: bold\">pyuda._video.Frame</span><span style=\"color: #000000; text-decoration-color: #000000\"> object at </span><span style=\"color: #008080; text-decoration-color: #008080; font-weight: bold\">0x7f8eadc6a7f0</span><span style=\"font-weight: bold\">&gt;</span>,                  <span style=\"color: #000080; text-decoration-color: #000080\">│</span>\n",
       "<span style=\"color: #000080; text-decoration-color: #000080\">│</span>                   <span style=\"font-weight: bold\">&lt;</span><span style=\"color: #ff00ff; text-decoration-color: #ff00ff; font-weight: bold\">pyuda._video.Frame</span><span style=\"color: #000000; text-decoration-color: #000000\"> object at </span><span style=\"color: #008080; text-decoration-color: #008080; font-weight: bold\">0x7f8eadc6a828</span><span style=\"font-weight: bold\">&gt;</span>,                  <span style=\"color: #000080; text-decoration-color: #000080\">│</span>\n",
       "<span style=\"color: #000080; text-decoration-color: #000080\">│</span>                   <span style=\"font-weight: bold\">&lt;</span><span style=\"color: #ff00ff; text-decoration-color: #ff00ff; font-weight: bold\">pyuda._video.Frame</span><span style=\"color: #000000; text-decoration-color: #000000\"> object at </span><span style=\"color: #008080; text-decoration-color: #008080; font-weight: bold\">0x7f8eadc6a860</span><span style=\"font-weight: bold\">&gt;</span>,                  <span style=\"color: #000080; text-decoration-color: #000080\">│</span>\n",
       "<span style=\"color: #000080; text-decoration-color: #000080\">│</span>                   <span style=\"font-weight: bold\">&lt;</span><span style=\"color: #ff00ff; text-decoration-color: #ff00ff; font-weight: bold\">pyuda._video.Frame</span><span style=\"color: #000000; text-decoration-color: #000000\"> object at </span><span style=\"color: #008080; text-decoration-color: #008080; font-weight: bold\">0x7f8eadc6a898</span><span style=\"font-weight: bold\">&gt;</span>,                  <span style=\"color: #000080; text-decoration-color: #000080\">│</span>\n",
       "<span style=\"color: #000080; text-decoration-color: #000080\">│</span>                   <span style=\"font-weight: bold\">&lt;</span><span style=\"color: #ff00ff; text-decoration-color: #ff00ff; font-weight: bold\">pyuda._video.Frame</span><span style=\"color: #000000; text-decoration-color: #000000\"> object at </span><span style=\"color: #008080; text-decoration-color: #008080; font-weight: bold\">0x7f8eadc6a8d0</span><span style=\"font-weight: bold\">&gt;</span>,                  <span style=\"color: #000080; text-decoration-color: #000080\">│</span>\n",
       "<span style=\"color: #000080; text-decoration-color: #000080\">│</span>                   <span style=\"font-weight: bold\">&lt;</span><span style=\"color: #ff00ff; text-decoration-color: #ff00ff; font-weight: bold\">pyuda._video.Frame</span><span style=\"color: #000000; text-decoration-color: #000000\"> object at </span><span style=\"color: #008080; text-decoration-color: #008080; font-weight: bold\">0x7f8eadc6a908</span><span style=\"font-weight: bold\">&gt;</span>,                  <span style=\"color: #000080; text-decoration-color: #000080\">│</span>\n",
       "<span style=\"color: #000080; text-decoration-color: #000080\">│</span>                   <span style=\"font-weight: bold\">&lt;</span><span style=\"color: #ff00ff; text-decoration-color: #ff00ff; font-weight: bold\">pyuda._video.Frame</span><span style=\"color: #000000; text-decoration-color: #000000\"> object at </span><span style=\"color: #008080; text-decoration-color: #008080; font-weight: bold\">0x7f8eadc6a940</span><span style=\"font-weight: bold\">&gt;</span>,                  <span style=\"color: #000080; text-decoration-color: #000080\">│</span>\n",
       "<span style=\"color: #000080; text-decoration-color: #000080\">│</span>                   <span style=\"font-weight: bold\">&lt;</span><span style=\"color: #ff00ff; text-decoration-color: #ff00ff; font-weight: bold\">pyuda._video.Frame</span><span style=\"color: #000000; text-decoration-color: #000000\"> object at </span><span style=\"color: #008080; text-decoration-color: #008080; font-weight: bold\">0x7f8eadc6a978</span><span style=\"font-weight: bold\">&gt;</span>,                  <span style=\"color: #000080; text-decoration-color: #000080\">│</span>\n",
       "<span style=\"color: #000080; text-decoration-color: #000080\">│</span>                   <span style=\"font-weight: bold\">&lt;</span><span style=\"color: #ff00ff; text-decoration-color: #ff00ff; font-weight: bold\">pyuda._video.Frame</span><span style=\"color: #000000; text-decoration-color: #000000\"> object at </span><span style=\"color: #008080; text-decoration-color: #008080; font-weight: bold\">0x7f8eadc6a9b0</span><span style=\"font-weight: bold\">&gt;</span>,                  <span style=\"color: #000080; text-decoration-color: #000080\">│</span>\n",
       "<span style=\"color: #000080; text-decoration-color: #000080\">│</span>                   <span style=\"font-weight: bold\">&lt;</span><span style=\"color: #ff00ff; text-decoration-color: #ff00ff; font-weight: bold\">pyuda._video.Frame</span><span style=\"color: #000000; text-decoration-color: #000000\"> object at </span><span style=\"color: #008080; text-decoration-color: #008080; font-weight: bold\">0x7f8eadc6a9e8</span><span style=\"font-weight: bold\">&gt;</span>,                  <span style=\"color: #000080; text-decoration-color: #000080\">│</span>\n",
       "<span style=\"color: #000080; text-decoration-color: #000080\">│</span>                   <span style=\"font-weight: bold\">&lt;</span><span style=\"color: #ff00ff; text-decoration-color: #ff00ff; font-weight: bold\">pyuda._video.Frame</span><span style=\"color: #000000; text-decoration-color: #000000\"> object at </span><span style=\"color: #008080; text-decoration-color: #008080; font-weight: bold\">0x7f8eadc6aa20</span><span style=\"font-weight: bold\">&gt;</span>,                  <span style=\"color: #000080; text-decoration-color: #000080\">│</span>\n",
       "<span style=\"color: #000080; text-decoration-color: #000080\">│</span>                   <span style=\"font-weight: bold\">&lt;</span><span style=\"color: #ff00ff; text-decoration-color: #ff00ff; font-weight: bold\">pyuda._video.Frame</span><span style=\"color: #000000; text-decoration-color: #000000\"> object at </span><span style=\"color: #008080; text-decoration-color: #008080; font-weight: bold\">0x7f8eadc6aa58</span><span style=\"font-weight: bold\">&gt;</span>,                  <span style=\"color: #000080; text-decoration-color: #000080\">│</span>\n",
       "<span style=\"color: #000080; text-decoration-color: #000080\">│</span>                   <span style=\"font-weight: bold\">&lt;</span><span style=\"color: #ff00ff; text-decoration-color: #ff00ff; font-weight: bold\">pyuda._video.Frame</span><span style=\"color: #000000; text-decoration-color: #000000\"> object at </span><span style=\"color: #008080; text-decoration-color: #008080; font-weight: bold\">0x7f8eadc6aa90</span><span style=\"font-weight: bold\">&gt;</span>,                  <span style=\"color: #000080; text-decoration-color: #000080\">│</span>\n",
       "<span style=\"color: #000080; text-decoration-color: #000080\">│</span>                   <span style=\"font-weight: bold\">&lt;</span><span style=\"color: #ff00ff; text-decoration-color: #ff00ff; font-weight: bold\">pyuda._video.Frame</span><span style=\"color: #000000; text-decoration-color: #000000\"> object at </span><span style=\"color: #008080; text-decoration-color: #008080; font-weight: bold\">0x7f8eadc6aac8</span><span style=\"font-weight: bold\">&gt;</span>,                  <span style=\"color: #000080; text-decoration-color: #000080\">│</span>\n",
       "<span style=\"color: #000080; text-decoration-color: #000080\">│</span>                   <span style=\"font-weight: bold\">&lt;</span><span style=\"color: #ff00ff; text-decoration-color: #ff00ff; font-weight: bold\">pyuda._video.Frame</span><span style=\"color: #000000; text-decoration-color: #000000\"> object at </span><span style=\"color: #008080; text-decoration-color: #008080; font-weight: bold\">0x7f8eadc6ab00</span><span style=\"font-weight: bold\">&gt;</span>,                  <span style=\"color: #000080; text-decoration-color: #000080\">│</span>\n",
       "<span style=\"color: #000080; text-decoration-color: #000080\">│</span>                   <span style=\"font-weight: bold\">&lt;</span><span style=\"color: #ff00ff; text-decoration-color: #ff00ff; font-weight: bold\">pyuda._video.Frame</span><span style=\"color: #000000; text-decoration-color: #000000\"> object at </span><span style=\"color: #008080; text-decoration-color: #008080; font-weight: bold\">0x7f8eadc6ab38</span><span style=\"font-weight: bold\">&gt;</span>,                  <span style=\"color: #000080; text-decoration-color: #000080\">│</span>\n",
       "<span style=\"color: #000080; text-decoration-color: #000080\">│</span>                   <span style=\"font-weight: bold\">&lt;</span><span style=\"color: #ff00ff; text-decoration-color: #ff00ff; font-weight: bold\">pyuda._video.Frame</span><span style=\"color: #000000; text-decoration-color: #000000\"> object at </span><span style=\"color: #008080; text-decoration-color: #008080; font-weight: bold\">0x7f8eadc6ab70</span><span style=\"font-weight: bold\">&gt;</span>,                  <span style=\"color: #000080; text-decoration-color: #000080\">│</span>\n",
       "<span style=\"color: #000080; text-decoration-color: #000080\">│</span>                   <span style=\"font-weight: bold\">&lt;</span><span style=\"color: #ff00ff; text-decoration-color: #ff00ff; font-weight: bold\">pyuda._video.Frame</span><span style=\"color: #000000; text-decoration-color: #000000\"> object at </span><span style=\"color: #008080; text-decoration-color: #008080; font-weight: bold\">0x7f8eadc6aba8</span><span style=\"font-weight: bold\">&gt;</span>,                  <span style=\"color: #000080; text-decoration-color: #000080\">│</span>\n",
       "<span style=\"color: #000080; text-decoration-color: #000080\">│</span>                   <span style=\"font-weight: bold\">&lt;</span><span style=\"color: #ff00ff; text-decoration-color: #ff00ff; font-weight: bold\">pyuda._video.Frame</span><span style=\"color: #000000; text-decoration-color: #000000\"> object at </span><span style=\"color: #008080; text-decoration-color: #008080; font-weight: bold\">0x7f8eadc6abe0</span><span style=\"font-weight: bold\">&gt;</span>,                  <span style=\"color: #000080; text-decoration-color: #000080\">│</span>\n",
       "<span style=\"color: #000080; text-decoration-color: #000080\">│</span>                   <span style=\"font-weight: bold\">&lt;</span><span style=\"color: #ff00ff; text-decoration-color: #ff00ff; font-weight: bold\">pyuda._video.Frame</span><span style=\"color: #000000; text-decoration-color: #000000\"> object at </span><span style=\"color: #008080; text-decoration-color: #008080; font-weight: bold\">0x7f8eadc6ac18</span><span style=\"font-weight: bold\">&gt;</span>,                  <span style=\"color: #000080; text-decoration-color: #000080\">│</span>\n",
       "<span style=\"color: #000080; text-decoration-color: #000080\">│</span>                   <span style=\"font-weight: bold\">&lt;</span><span style=\"color: #ff00ff; text-decoration-color: #ff00ff; font-weight: bold\">pyuda._video.Frame</span><span style=\"color: #000000; text-decoration-color: #000000\"> object at </span><span style=\"color: #008080; text-decoration-color: #008080; font-weight: bold\">0x7f8eadc6ac50</span><span style=\"font-weight: bold\">&gt;</span>,                  <span style=\"color: #000080; text-decoration-color: #000080\">│</span>\n",
       "<span style=\"color: #000080; text-decoration-color: #000080\">│</span>                   <span style=\"font-weight: bold\">&lt;</span><span style=\"color: #ff00ff; text-decoration-color: #ff00ff; font-weight: bold\">pyuda._video.Frame</span><span style=\"color: #000000; text-decoration-color: #000000\"> object at </span><span style=\"color: #008080; text-decoration-color: #008080; font-weight: bold\">0x7f8eadc6ac88</span><span style=\"font-weight: bold\">&gt;</span>,                  <span style=\"color: #000080; text-decoration-color: #000080\">│</span>\n",
       "<span style=\"color: #000080; text-decoration-color: #000080\">│</span>                   <span style=\"font-weight: bold\">&lt;</span><span style=\"color: #ff00ff; text-decoration-color: #ff00ff; font-weight: bold\">pyuda._video.Frame</span><span style=\"color: #000000; text-decoration-color: #000000\"> object at </span><span style=\"color: #008080; text-decoration-color: #008080; font-weight: bold\">0x7f8eadc6acc0</span><span style=\"font-weight: bold\">&gt;</span>,                  <span style=\"color: #000080; text-decoration-color: #000080\">│</span>\n",
       "<span style=\"color: #000080; text-decoration-color: #000080\">│</span>                   <span style=\"font-weight: bold\">&lt;</span><span style=\"color: #ff00ff; text-decoration-color: #ff00ff; font-weight: bold\">pyuda._video.Frame</span><span style=\"color: #000000; text-decoration-color: #000000\"> object at </span><span style=\"color: #008080; text-decoration-color: #008080; font-weight: bold\">0x7f8eadc6acf8</span><span style=\"font-weight: bold\">&gt;</span>,                  <span style=\"color: #000080; text-decoration-color: #000080\">│</span>\n",
       "<span style=\"color: #000080; text-decoration-color: #000080\">│</span>                   <span style=\"font-weight: bold\">&lt;</span><span style=\"color: #ff00ff; text-decoration-color: #ff00ff; font-weight: bold\">pyuda._video.Frame</span><span style=\"color: #000000; text-decoration-color: #000000\"> object at </span><span style=\"color: #008080; text-decoration-color: #008080; font-weight: bold\">0x7f8eadc6ad30</span><span style=\"font-weight: bold\">&gt;</span>,                  <span style=\"color: #000080; text-decoration-color: #000080\">│</span>\n",
       "<span style=\"color: #000080; text-decoration-color: #000080\">│</span>                   <span style=\"font-weight: bold\">&lt;</span><span style=\"color: #ff00ff; text-decoration-color: #ff00ff; font-weight: bold\">pyuda._video.Frame</span><span style=\"color: #000000; text-decoration-color: #000000\"> object at </span><span style=\"color: #008080; text-decoration-color: #008080; font-weight: bold\">0x7f8eadc6ad68</span><span style=\"font-weight: bold\">&gt;</span>,                  <span style=\"color: #000080; text-decoration-color: #000080\">│</span>\n",
       "<span style=\"color: #000080; text-decoration-color: #000080\">│</span>                   <span style=\"font-weight: bold\">&lt;</span><span style=\"color: #ff00ff; text-decoration-color: #ff00ff; font-weight: bold\">pyuda._video.Frame</span><span style=\"color: #000000; text-decoration-color: #000000\"> object at </span><span style=\"color: #008080; text-decoration-color: #008080; font-weight: bold\">0x7f8eadc6ada0</span><span style=\"font-weight: bold\">&gt;</span>,                  <span style=\"color: #000080; text-decoration-color: #000080\">│</span>\n",
       "<span style=\"color: #000080; text-decoration-color: #000080\">│</span>                   <span style=\"font-weight: bold\">&lt;</span><span style=\"color: #ff00ff; text-decoration-color: #ff00ff; font-weight: bold\">pyuda._video.Frame</span><span style=\"color: #000000; text-decoration-color: #000000\"> object at </span><span style=\"color: #008080; text-decoration-color: #008080; font-weight: bold\">0x7f8eadc6add8</span><span style=\"font-weight: bold\">&gt;</span>,                  <span style=\"color: #000080; text-decoration-color: #000080\">│</span>\n",
       "<span style=\"color: #000080; text-decoration-color: #000080\">│</span>                   <span style=\"font-weight: bold\">&lt;</span><span style=\"color: #ff00ff; text-decoration-color: #ff00ff; font-weight: bold\">pyuda._video.Frame</span><span style=\"color: #000000; text-decoration-color: #000000\"> object at </span><span style=\"color: #008080; text-decoration-color: #008080; font-weight: bold\">0x7f8eadc6ae10</span><span style=\"font-weight: bold\">&gt;</span>,                  <span style=\"color: #000080; text-decoration-color: #000080\">│</span>\n",
       "<span style=\"color: #000080; text-decoration-color: #000080\">│</span>                   <span style=\"font-weight: bold\">&lt;</span><span style=\"color: #ff00ff; text-decoration-color: #ff00ff; font-weight: bold\">pyuda._video.Frame</span><span style=\"color: #000000; text-decoration-color: #000000\"> object at </span><span style=\"color: #008080; text-decoration-color: #008080; font-weight: bold\">0x7f8eadc6ae48</span><span style=\"font-weight: bold\">&gt;</span>,                  <span style=\"color: #000080; text-decoration-color: #000080\">│</span>\n",
       "<span style=\"color: #000080; text-decoration-color: #000080\">│</span>                   <span style=\"font-weight: bold\">&lt;</span><span style=\"color: #ff00ff; text-decoration-color: #ff00ff; font-weight: bold\">pyuda._video.Frame</span><span style=\"color: #000000; text-decoration-color: #000000\"> object at </span><span style=\"color: #008080; text-decoration-color: #008080; font-weight: bold\">0x7f8eadc6ae80</span><span style=\"font-weight: bold\">&gt;</span>,                  <span style=\"color: #000080; text-decoration-color: #000080\">│</span>\n",
       "<span style=\"color: #000080; text-decoration-color: #000080\">│</span>                   <span style=\"font-weight: bold\">&lt;</span><span style=\"color: #ff00ff; text-decoration-color: #ff00ff; font-weight: bold\">pyuda._video.Frame</span><span style=\"color: #000000; text-decoration-color: #000000\"> object at </span><span style=\"color: #008080; text-decoration-color: #008080; font-weight: bold\">0x7f8eadc6aeb8</span><span style=\"font-weight: bold\">&gt;</span>,                  <span style=\"color: #000080; text-decoration-color: #000080\">│</span>\n",
       "<span style=\"color: #000080; text-decoration-color: #000080\">│</span>                   <span style=\"font-weight: bold\">&lt;</span><span style=\"color: #ff00ff; text-decoration-color: #ff00ff; font-weight: bold\">pyuda._video.Frame</span><span style=\"color: #000000; text-decoration-color: #000000\"> object at </span><span style=\"color: #008080; text-decoration-color: #008080; font-weight: bold\">0x7f8eadc6aef0</span><span style=\"font-weight: bold\">&gt;</span>,                  <span style=\"color: #000080; text-decoration-color: #000080\">│</span>\n",
       "<span style=\"color: #000080; text-decoration-color: #000080\">│</span>                   <span style=\"font-weight: bold\">&lt;</span><span style=\"color: #ff00ff; text-decoration-color: #ff00ff; font-weight: bold\">pyuda._video.Frame</span><span style=\"color: #000000; text-decoration-color: #000000\"> object at </span><span style=\"color: #008080; text-decoration-color: #008080; font-weight: bold\">0x7f8eadc6af28</span><span style=\"font-weight: bold\">&gt;</span>,                  <span style=\"color: #000080; text-decoration-color: #000080\">│</span>\n",
       "<span style=\"color: #000080; text-decoration-color: #000080\">│</span>                   <span style=\"font-weight: bold\">&lt;</span><span style=\"color: #ff00ff; text-decoration-color: #ff00ff; font-weight: bold\">pyuda._video.Frame</span><span style=\"color: #000000; text-decoration-color: #000000\"> object at </span><span style=\"color: #008080; text-decoration-color: #008080; font-weight: bold\">0x7f8eadc6af60</span><span style=\"font-weight: bold\">&gt;</span>,                  <span style=\"color: #000080; text-decoration-color: #000080\">│</span>\n",
       "<span style=\"color: #000080; text-decoration-color: #000080\">│</span>                   <span style=\"font-weight: bold\">&lt;</span><span style=\"color: #ff00ff; text-decoration-color: #ff00ff; font-weight: bold\">pyuda._video.Frame</span><span style=\"color: #000000; text-decoration-color: #000000\"> object at </span><span style=\"color: #008080; text-decoration-color: #008080; font-weight: bold\">0x7f8eadc6af98</span><span style=\"font-weight: bold\">&gt;</span>,                  <span style=\"color: #000080; text-decoration-color: #000080\">│</span>\n",
       "<span style=\"color: #000080; text-decoration-color: #000080\">│</span>                   <span style=\"font-weight: bold\">&lt;</span><span style=\"color: #ff00ff; text-decoration-color: #ff00ff; font-weight: bold\">pyuda._video.Frame</span><span style=\"color: #000000; text-decoration-color: #000000\"> object at </span><span style=\"color: #008080; text-decoration-color: #008080; font-weight: bold\">0x7f8eadc6afd0</span><span style=\"font-weight: bold\">&gt;</span>,                  <span style=\"color: #000080; text-decoration-color: #000080\">│</span>\n",
       "<span style=\"color: #000080; text-decoration-color: #000080\">│</span>                   <span style=\"font-weight: bold\">&lt;</span><span style=\"color: #ff00ff; text-decoration-color: #ff00ff; font-weight: bold\">pyuda._video.Frame</span><span style=\"color: #000000; text-decoration-color: #000000\"> object at </span><span style=\"color: #008080; text-decoration-color: #008080; font-weight: bold\">0x7f8eadc67048</span><span style=\"font-weight: bold\">&gt;</span>,                  <span style=\"color: #000080; text-decoration-color: #000080\">│</span>\n",
       "<span style=\"color: #000080; text-decoration-color: #000080\">│</span>                   <span style=\"font-weight: bold\">&lt;</span><span style=\"color: #ff00ff; text-decoration-color: #ff00ff; font-weight: bold\">pyuda._video.Frame</span><span style=\"color: #000000; text-decoration-color: #000000\"> object at </span><span style=\"color: #008080; text-decoration-color: #008080; font-weight: bold\">0x7f8eadc67080</span><span style=\"font-weight: bold\">&gt;</span>,                  <span style=\"color: #000080; text-decoration-color: #000080\">│</span>\n",
       "<span style=\"color: #000080; text-decoration-color: #000080\">│</span>                   <span style=\"font-weight: bold\">&lt;</span><span style=\"color: #ff00ff; text-decoration-color: #ff00ff; font-weight: bold\">pyuda._video.Frame</span><span style=\"color: #000000; text-decoration-color: #000000\"> object at </span><span style=\"color: #008080; text-decoration-color: #008080; font-weight: bold\">0x7f8eadc670b8</span><span style=\"font-weight: bold\">&gt;</span>,                  <span style=\"color: #000080; text-decoration-color: #000080\">│</span>\n",
       "<span style=\"color: #000080; text-decoration-color: #000080\">│</span>                   <span style=\"font-weight: bold\">&lt;</span><span style=\"color: #ff00ff; text-decoration-color: #ff00ff; font-weight: bold\">pyuda._video.Frame</span><span style=\"color: #000000; text-decoration-color: #000000\"> object at </span><span style=\"color: #008080; text-decoration-color: #008080; font-weight: bold\">0x7f8eadc670f0</span><span style=\"font-weight: bold\">&gt;</span>,                  <span style=\"color: #000080; text-decoration-color: #000080\">│</span>\n",
       "<span style=\"color: #000080; text-decoration-color: #000080\">│</span>                   <span style=\"font-weight: bold\">&lt;</span><span style=\"color: #ff00ff; text-decoration-color: #ff00ff; font-weight: bold\">pyuda._video.Frame</span><span style=\"color: #000000; text-decoration-color: #000000\"> object at </span><span style=\"color: #008080; text-decoration-color: #008080; font-weight: bold\">0x7f8eadc67128</span><span style=\"font-weight: bold\">&gt;</span>,                  <span style=\"color: #000080; text-decoration-color: #000080\">│</span>\n",
       "<span style=\"color: #000080; text-decoration-color: #000080\">│</span>                   <span style=\"font-weight: bold\">&lt;</span><span style=\"color: #ff00ff; text-decoration-color: #ff00ff; font-weight: bold\">pyuda._video.Frame</span><span style=\"color: #000000; text-decoration-color: #000000\"> object at </span><span style=\"color: #008080; text-decoration-color: #008080; font-weight: bold\">0x7f8eadc67160</span><span style=\"font-weight: bold\">&gt;</span>,                  <span style=\"color: #000080; text-decoration-color: #000080\">│</span>\n",
       "<span style=\"color: #000080; text-decoration-color: #000080\">│</span>                   <span style=\"font-weight: bold\">&lt;</span><span style=\"color: #ff00ff; text-decoration-color: #ff00ff; font-weight: bold\">pyuda._video.Frame</span><span style=\"color: #000000; text-decoration-color: #000000\"> object at </span><span style=\"color: #008080; text-decoration-color: #008080; font-weight: bold\">0x7f8eadc67198</span><span style=\"font-weight: bold\">&gt;</span>,                  <span style=\"color: #000080; text-decoration-color: #000080\">│</span>\n",
       "<span style=\"color: #000080; text-decoration-color: #000080\">│</span>                   <span style=\"font-weight: bold\">&lt;</span><span style=\"color: #ff00ff; text-decoration-color: #ff00ff; font-weight: bold\">pyuda._video.Frame</span><span style=\"color: #000000; text-decoration-color: #000000\"> object at </span><span style=\"color: #008080; text-decoration-color: #008080; font-weight: bold\">0x7f8eadc671d0</span><span style=\"font-weight: bold\">&gt;</span>,                  <span style=\"color: #000080; text-decoration-color: #000080\">│</span>\n",
       "<span style=\"color: #000080; text-decoration-color: #000080\">│</span>                   <span style=\"font-weight: bold\">&lt;</span><span style=\"color: #ff00ff; text-decoration-color: #ff00ff; font-weight: bold\">pyuda._video.Frame</span><span style=\"color: #000000; text-decoration-color: #000000\"> object at </span><span style=\"color: #008080; text-decoration-color: #008080; font-weight: bold\">0x7f8eadc67208</span><span style=\"font-weight: bold\">&gt;</span>,                  <span style=\"color: #000080; text-decoration-color: #000080\">│</span>\n",
       "<span style=\"color: #000080; text-decoration-color: #000080\">│</span>                   <span style=\"font-weight: bold\">&lt;</span><span style=\"color: #ff00ff; text-decoration-color: #ff00ff; font-weight: bold\">pyuda._video.Frame</span><span style=\"color: #000000; text-decoration-color: #000000\"> object at </span><span style=\"color: #008080; text-decoration-color: #008080; font-weight: bold\">0x7f8eadc67240</span><span style=\"font-weight: bold\">&gt;</span>,                  <span style=\"color: #000080; text-decoration-color: #000080\">│</span>\n",
       "<span style=\"color: #000080; text-decoration-color: #000080\">│</span>                   <span style=\"font-weight: bold\">&lt;</span><span style=\"color: #ff00ff; text-decoration-color: #ff00ff; font-weight: bold\">pyuda._video.Frame</span><span style=\"color: #000000; text-decoration-color: #000000\"> object at </span><span style=\"color: #008080; text-decoration-color: #008080; font-weight: bold\">0x7f8eadc67278</span><span style=\"font-weight: bold\">&gt;</span>,                  <span style=\"color: #000080; text-decoration-color: #000080\">│</span>\n",
       "<span style=\"color: #000080; text-decoration-color: #000080\">│</span>                   <span style=\"font-weight: bold\">&lt;</span><span style=\"color: #ff00ff; text-decoration-color: #ff00ff; font-weight: bold\">pyuda._video.Frame</span><span style=\"color: #000000; text-decoration-color: #000000\"> object at </span><span style=\"color: #008080; text-decoration-color: #008080; font-weight: bold\">0x7f8eadc672b0</span><span style=\"font-weight: bold\">&gt;</span>,                  <span style=\"color: #000080; text-decoration-color: #000080\">│</span>\n",
       "<span style=\"color: #000080; text-decoration-color: #000080\">│</span>                   <span style=\"font-weight: bold\">&lt;</span><span style=\"color: #ff00ff; text-decoration-color: #ff00ff; font-weight: bold\">pyuda._video.Frame</span><span style=\"color: #000000; text-decoration-color: #000000\"> object at </span><span style=\"color: #008080; text-decoration-color: #008080; font-weight: bold\">0x7f8eadc672e8</span><span style=\"font-weight: bold\">&gt;</span>,                  <span style=\"color: #000080; text-decoration-color: #000080\">│</span>\n",
       "<span style=\"color: #000080; text-decoration-color: #000080\">│</span>                   <span style=\"font-weight: bold\">&lt;</span><span style=\"color: #ff00ff; text-decoration-color: #ff00ff; font-weight: bold\">pyuda._video.Frame</span><span style=\"color: #000000; text-decoration-color: #000000\"> object at </span><span style=\"color: #008080; text-decoration-color: #008080; font-weight: bold\">0x7f8eadc67320</span><span style=\"font-weight: bold\">&gt;</span>,                  <span style=\"color: #000080; text-decoration-color: #000080\">│</span>\n",
       "<span style=\"color: #000080; text-decoration-color: #000080\">│</span>                   <span style=\"font-weight: bold\">&lt;</span><span style=\"color: #ff00ff; text-decoration-color: #ff00ff; font-weight: bold\">pyuda._video.Frame</span><span style=\"color: #000000; text-decoration-color: #000000\"> object at </span><span style=\"color: #008080; text-decoration-color: #008080; font-weight: bold\">0x7f8eadc67358</span><span style=\"font-weight: bold\">&gt;</span>,                  <span style=\"color: #000080; text-decoration-color: #000080\">│</span>\n",
       "<span style=\"color: #000080; text-decoration-color: #000080\">│</span>                   <span style=\"font-weight: bold\">&lt;</span><span style=\"color: #ff00ff; text-decoration-color: #ff00ff; font-weight: bold\">pyuda._video.Frame</span><span style=\"color: #000000; text-decoration-color: #000000\"> object at </span><span style=\"color: #008080; text-decoration-color: #008080; font-weight: bold\">0x7f8eadc67390</span><span style=\"font-weight: bold\">&gt;</span>,                  <span style=\"color: #000080; text-decoration-color: #000080\">│</span>\n",
       "<span style=\"color: #000080; text-decoration-color: #000080\">│</span>                   <span style=\"font-weight: bold\">&lt;</span><span style=\"color: #ff00ff; text-decoration-color: #ff00ff; font-weight: bold\">pyuda._video.Frame</span><span style=\"color: #000000; text-decoration-color: #000000\"> object at </span><span style=\"color: #008080; text-decoration-color: #008080; font-weight: bold\">0x7f8eadc673c8</span><span style=\"font-weight: bold\">&gt;</span>,                  <span style=\"color: #000080; text-decoration-color: #000080\">│</span>\n",
       "<span style=\"color: #000080; text-decoration-color: #000080\">│</span>                   <span style=\"font-weight: bold\">&lt;</span><span style=\"color: #ff00ff; text-decoration-color: #ff00ff; font-weight: bold\">pyuda._video.Frame</span><span style=\"color: #000000; text-decoration-color: #000000\"> object at </span><span style=\"color: #008080; text-decoration-color: #008080; font-weight: bold\">0x7f8eadc67400</span><span style=\"font-weight: bold\">&gt;</span>,                  <span style=\"color: #000080; text-decoration-color: #000080\">│</span>\n",
       "<span style=\"color: #000080; text-decoration-color: #000080\">│</span>                   <span style=\"font-weight: bold\">&lt;</span><span style=\"color: #ff00ff; text-decoration-color: #ff00ff; font-weight: bold\">pyuda._video.Frame</span><span style=\"color: #000000; text-decoration-color: #000000\"> object at </span><span style=\"color: #008080; text-decoration-color: #008080; font-weight: bold\">0x7f8eadc67438</span><span style=\"font-weight: bold\">&gt;</span>,                  <span style=\"color: #000080; text-decoration-color: #000080\">│</span>\n",
       "<span style=\"color: #000080; text-decoration-color: #000080\">│</span>                   <span style=\"font-weight: bold\">&lt;</span><span style=\"color: #ff00ff; text-decoration-color: #ff00ff; font-weight: bold\">pyuda._video.Frame</span><span style=\"color: #000000; text-decoration-color: #000000\"> object at </span><span style=\"color: #008080; text-decoration-color: #008080; font-weight: bold\">0x7f8eadc67470</span><span style=\"font-weight: bold\">&gt;</span>,                  <span style=\"color: #000080; text-decoration-color: #000080\">│</span>\n",
       "<span style=\"color: #000080; text-decoration-color: #000080\">│</span>                   <span style=\"font-weight: bold\">&lt;</span><span style=\"color: #ff00ff; text-decoration-color: #ff00ff; font-weight: bold\">pyuda._video.Frame</span><span style=\"color: #000000; text-decoration-color: #000000\"> object at </span><span style=\"color: #008080; text-decoration-color: #008080; font-weight: bold\">0x7f8eadc674a8</span><span style=\"font-weight: bold\">&gt;</span>                   <span style=\"color: #000080; text-decoration-color: #000080\">│</span>\n",
       "<span style=\"color: #000080; text-decoration-color: #000080\">│</span>               <span style=\"font-weight: bold\">]</span>                                                                   <span style=\"color: #000080; text-decoration-color: #000080\">│</span>\n",
       "<span style=\"color: #000080; text-decoration-color: #000080\">│</span>        <span style=\"color: #808000; text-decoration-color: #808000; font-style: italic\">gain</span> = <span style=\"color: #800080; text-decoration-color: #800080; font-weight: bold\">array</span><span style=\"font-weight: bold\">([</span><span style=\"color: #008080; text-decoration-color: #008080; font-weight: bold\">2</span>., <span style=\"color: #008080; text-decoration-color: #008080; font-weight: bold\">0</span>.<span style=\"font-weight: bold\">])</span>                                                     <span style=\"color: #000080; text-decoration-color: #000080\">│</span>\n",
       "<span style=\"color: #000080; text-decoration-color: #000080\">│</span>        <span style=\"color: #808000; text-decoration-color: #808000; font-style: italic\">hbin</span> = <span style=\"color: #008080; text-decoration-color: #008080; font-weight: bold\">0</span>                                                                   <span style=\"color: #000080; text-decoration-color: #000080\">│</span>\n",
       "<span style=\"color: #000080; text-decoration-color: #000080\">│</span>      <span style=\"color: #808000; text-decoration-color: #808000; font-style: italic\">height</span> = <span style=\"color: #008080; text-decoration-color: #008080; font-weight: bold\">704</span>                                                                 <span style=\"color: #000080; text-decoration-color: #000080\">│</span>\n",
       "<span style=\"color: #000080; text-decoration-color: #000080\">│</span>    <span style=\"color: #808000; text-decoration-color: #808000; font-style: italic\">is_color</span> = <span style=\"color: #008080; text-decoration-color: #008080; font-weight: bold\">0</span>                                                                   <span style=\"color: #000080; text-decoration-color: #000080\">│</span>\n",
       "<span style=\"color: #000080; text-decoration-color: #000080\">│</span>        <span style=\"color: #808000; text-decoration-color: #808000; font-style: italic\">left</span> = <span style=\"color: #008080; text-decoration-color: #008080; font-weight: bold\">1</span>                                                                   <span style=\"color: #000080; text-decoration-color: #000080\">│</span>\n",
       "<span style=\"color: #000080; text-decoration-color: #000080\">│</span>        <span style=\"color: #808000; text-decoration-color: #808000; font-style: italic\">lens</span> = <span style=\"color: #008000; text-decoration-color: #008000\">''</span>                                                                  <span style=\"color: #000080; text-decoration-color: #000080\">│</span>\n",
       "<span style=\"color: #000080; text-decoration-color: #000080\">│</span>    <span style=\"color: #808000; text-decoration-color: #808000; font-style: italic\">n_frames</span> = <span style=\"color: #008080; text-decoration-color: #008080; font-weight: bold\">150</span>                                                                 <span style=\"color: #000080; text-decoration-color: #000080\">│</span>\n",
       "<span style=\"color: #000080; text-decoration-color: #000080\">│</span>      <span style=\"color: #808000; text-decoration-color: #808000; font-style: italic\">offset</span> = <span style=\"color: #800080; text-decoration-color: #800080; font-weight: bold\">array</span><span style=\"font-weight: bold\">([</span><span style=\"color: #008080; text-decoration-color: #008080; font-weight: bold\">0</span>., <span style=\"color: #008080; text-decoration-color: #008080; font-weight: bold\">0</span>.<span style=\"font-weight: bold\">])</span>                                                     <span style=\"color: #000080; text-decoration-color: #000080\">│</span>\n",
       "<span style=\"color: #000080; text-decoration-color: #000080\">│</span> <span style=\"color: #808000; text-decoration-color: #808000; font-style: italic\">orientation</span> = <span style=\"color: #008080; text-decoration-color: #008080; font-weight: bold\">0</span>                                                                   <span style=\"color: #000080; text-decoration-color: #000080\">│</span>\n",
       "<span style=\"color: #000080; text-decoration-color: #000080\">│</span>     <span style=\"color: #808000; text-decoration-color: #808000; font-style: italic\">pre_exp</span> = <span style=\"color: #008080; text-decoration-color: #008080; font-weight: bold\">0.0</span>                                                                 <span style=\"color: #000080; text-decoration-color: #000080\">│</span>\n",
       "<span style=\"color: #000080; text-decoration-color: #000080\">│</span>       <span style=\"color: #808000; text-decoration-color: #808000; font-style: italic\">right</span> = <span style=\"color: #008080; text-decoration-color: #008080; font-weight: bold\">768</span>                                                                 <span style=\"color: #000080; text-decoration-color: #000080\">│</span>\n",
       "<span style=\"color: #000080; text-decoration-color: #000080\">│</span>        <span style=\"color: #808000; text-decoration-color: #808000; font-style: italic\">shot</span> = <span style=\"color: #008080; text-decoration-color: #008080; font-weight: bold\">27933</span>                                                               <span style=\"color: #000080; text-decoration-color: #000080\">│</span>\n",
       "<span style=\"color: #000080; text-decoration-color: #000080\">│</span>      <span style=\"color: #808000; text-decoration-color: #808000; font-style: italic\">strobe</span> = <span style=\"color: #008080; text-decoration-color: #008080; font-weight: bold\">0</span>                                                                   <span style=\"color: #000080; text-decoration-color: #000080\">│</span>\n",
       "<span style=\"color: #000080; text-decoration-color: #000080\">│</span>        <span style=\"color: #808000; text-decoration-color: #808000; font-style: italic\">taps</span> = <span style=\"color: #008080; text-decoration-color: #008080; font-weight: bold\">0</span>                                                                   <span style=\"color: #000080; text-decoration-color: #000080\">│</span>\n",
       "<span style=\"color: #000080; text-decoration-color: #000080\">│</span>         <span style=\"color: #808000; text-decoration-color: #808000; font-style: italic\">top</span> = <span style=\"color: #008080; text-decoration-color: #008080; font-weight: bold\">249</span>                                                                 <span style=\"color: #000080; text-decoration-color: #000080\">│</span>\n",
       "<span style=\"color: #000080; text-decoration-color: #000080\">│</span>     <span style=\"color: #808000; text-decoration-color: #808000; font-style: italic\">trigger</span> = <span style=\"color: #008080; text-decoration-color: #008080; font-weight: bold\">-0.10000000149011612</span>                                                <span style=\"color: #000080; text-decoration-color: #000080\">│</span>\n",
       "<span style=\"color: #000080; text-decoration-color: #000080\">│</span>        <span style=\"color: #808000; text-decoration-color: #808000; font-style: italic\">vbin</span> = <span style=\"color: #008080; text-decoration-color: #008080; font-weight: bold\">0</span>                                                                   <span style=\"color: #000080; text-decoration-color: #000080\">│</span>\n",
       "<span style=\"color: #000080; text-decoration-color: #000080\">│</span>        <span style=\"color: #808000; text-decoration-color: #808000; font-style: italic\">view</span> = <span style=\"color: #008000; text-decoration-color: #008000\">'HL07 + 25mm lens + HeII 468nm filter'</span>                              <span style=\"color: #000080; text-decoration-color: #000080\">│</span>\n",
       "<span style=\"color: #000080; text-decoration-color: #000080\">│</span>       <span style=\"color: #808000; text-decoration-color: #808000; font-style: italic\">width</span> = <span style=\"color: #008080; text-decoration-color: #008080; font-weight: bold\">768</span>                                                                 <span style=\"color: #000080; text-decoration-color: #000080\">│</span>\n",
       "<span style=\"color: #000080; text-decoration-color: #000080\">╰───────────────────────────────────────────────────────────────────────────────────╯</span>\n",
       "</pre>\n"
      ],
      "text/plain": [
       "\u001b[34m╭─\u001b[0m\u001b[34m───────────────────────── \u001b[0m\u001b[1;34m<\u001b[0m\u001b[1;95mclass\u001b[0m\u001b[39m \u001b[0m\u001b[32m'pyuda._video.Video'\u001b[0m\u001b[1;34m>\u001b[0m\u001b[34m ──────────────────────────\u001b[0m\u001b[34m─╮\u001b[0m\n",
       "\u001b[34m│\u001b[0m \u001b[32m╭───────────────────────────────────────────────────────────────────────────────╮\u001b[0m \u001b[34m│\u001b[0m\n",
       "\u001b[34m│\u001b[0m \u001b[32m│\u001b[0m \u001b[1m<\u001b[0m\u001b[1;95mpyuda._video.Video\u001b[0m\u001b[39m object at \u001b[0m\u001b[1;36m0x7f8eb57cd860\u001b[0m\u001b[1m>\u001b[0m                                 \u001b[32m│\u001b[0m \u001b[34m│\u001b[0m\n",
       "\u001b[34m│\u001b[0m \u001b[32m╰───────────────────────────────────────────────────────────────────────────────╯\u001b[0m \u001b[34m│\u001b[0m\n",
       "\u001b[34m│\u001b[0m                                                                                   \u001b[34m│\u001b[0m\n",
       "\u001b[34m│\u001b[0m  \u001b[3;33mboard_temp\u001b[0m = \u001b[1;36m0.0\u001b[0m                                                                 \u001b[34m│\u001b[0m\n",
       "\u001b[34m│\u001b[0m      \u001b[3;33mbottom\u001b[0m = \u001b[1;36m952\u001b[0m                                                                 \u001b[34m│\u001b[0m\n",
       "\u001b[34m│\u001b[0m      \u001b[3;33mcamera\u001b[0m = \u001b[32m''\u001b[0m                                                                  \u001b[34m│\u001b[0m\n",
       "\u001b[34m│\u001b[0m    \u001b[3;33mccd_temp\u001b[0m = \u001b[1;36m0.0\u001b[0m                                                                 \u001b[34m│\u001b[0m\n",
       "\u001b[34m│\u001b[0m       \u001b[3;33mcodex\u001b[0m = \u001b[32m'JP2'\u001b[0m                                                               \u001b[34m│\u001b[0m\n",
       "\u001b[34m│\u001b[0m   \u001b[3;33mdate_time\u001b[0m = \u001b[32m'2011-12-15T16:00:12Z'\u001b[0m                                              \u001b[34m│\u001b[0m\n",
       "\u001b[34m│\u001b[0m       \u001b[3;33mdepth\u001b[0m = \u001b[1;36m8\u001b[0m                                                                   \u001b[34m│\u001b[0m\n",
       "\u001b[34m│\u001b[0m    \u001b[3;33mexposure\u001b[0m = \u001b[1;36m1667.0\u001b[0m                                                              \u001b[34m│\u001b[0m\n",
       "\u001b[34m│\u001b[0m \u001b[3;33mfile_format\u001b[0m = \u001b[32m'IPX-1'\u001b[0m                                                             \u001b[34m│\u001b[0m\n",
       "\u001b[34m│\u001b[0m      \u001b[3;33mfilter\u001b[0m = \u001b[32m''\u001b[0m                                                                  \u001b[34m│\u001b[0m\n",
       "\u001b[34m│\u001b[0m \u001b[3;33mframe_times\u001b[0m = \u001b[1;35marray\u001b[0m\u001b[1m(\u001b[0m\u001b[1m[\u001b[0m\u001b[1;36m0.001673\u001b[0m, \u001b[1;36m0.021673\u001b[0m, \u001b[1;36m0.041673\u001b[0m, \u001b[1;36m0.061673\u001b[0m, \u001b[1;36m0.081673\u001b[0m, \u001b[1;36m0.101673\u001b[0m,  \u001b[34m│\u001b[0m\n",
       "\u001b[34m│\u001b[0m                      \u001b[1;36m0.103673\u001b[0m, \u001b[1;36m0.105673\u001b[0m, \u001b[1;36m0.107673\u001b[0m, \u001b[1;36m0.109673\u001b[0m, \u001b[1;36m0.111673\u001b[0m, \u001b[1;36m0.113673\u001b[0m,  \u001b[34m│\u001b[0m\n",
       "\u001b[34m│\u001b[0m                      \u001b[1;36m0.115673\u001b[0m, \u001b[1;36m0.117673\u001b[0m, \u001b[1;36m0.119673\u001b[0m, \u001b[1;36m0.121673\u001b[0m, \u001b[1;36m0.123673\u001b[0m, \u001b[1;36m0.125673\u001b[0m,  \u001b[34m│\u001b[0m\n",
       "\u001b[34m│\u001b[0m                      \u001b[1;36m0.127673\u001b[0m, \u001b[1;36m0.129673\u001b[0m, \u001b[1;36m0.131673\u001b[0m, \u001b[1;36m0.133673\u001b[0m, \u001b[1;36m0.135673\u001b[0m, \u001b[1;36m0.137673\u001b[0m,  \u001b[34m│\u001b[0m\n",
       "\u001b[34m│\u001b[0m                      \u001b[1;36m0.139673\u001b[0m, \u001b[1;36m0.141673\u001b[0m, \u001b[1;36m0.143673\u001b[0m, \u001b[1;36m0.145673\u001b[0m, \u001b[1;36m0.147673\u001b[0m, \u001b[1;36m0.149673\u001b[0m,  \u001b[34m│\u001b[0m\n",
       "\u001b[34m│\u001b[0m                      \u001b[1;36m0.151673\u001b[0m, \u001b[1;36m0.153673\u001b[0m, \u001b[1;36m0.155673\u001b[0m, \u001b[1;36m0.157673\u001b[0m, \u001b[1;36m0.159673\u001b[0m, \u001b[1;36m0.161673\u001b[0m,  \u001b[34m│\u001b[0m\n",
       "\u001b[34m│\u001b[0m                      \u001b[1;36m0.163673\u001b[0m, \u001b[1;36m0.165673\u001b[0m, \u001b[1;36m0.167673\u001b[0m, \u001b[1;36m0.169673\u001b[0m, \u001b[1;36m0.171673\u001b[0m, \u001b[1;36m0.173673\u001b[0m,  \u001b[34m│\u001b[0m\n",
       "\u001b[34m│\u001b[0m                      \u001b[1;36m0.175673\u001b[0m, \u001b[1;36m0.177673\u001b[0m, \u001b[1;36m0.179673\u001b[0m, \u001b[1;36m0.181673\u001b[0m, \u001b[1;36m0.183673\u001b[0m, \u001b[1;36m0.185673\u001b[0m,  \u001b[34m│\u001b[0m\n",
       "\u001b[34m│\u001b[0m                      \u001b[1;36m0.187673\u001b[0m, \u001b[1;36m0.189673\u001b[0m, \u001b[1;36m0.191673\u001b[0m, \u001b[1;36m0.193673\u001b[0m, \u001b[1;36m0.195673\u001b[0m, \u001b[1;36m0.197673\u001b[0m,  \u001b[34m│\u001b[0m\n",
       "\u001b[34m│\u001b[0m                      \u001b[1;36m0.199673\u001b[0m, \u001b[1;36m0.201673\u001b[0m, \u001b[1;36m0.203673\u001b[0m, \u001b[1;36m0.205673\u001b[0m, \u001b[1;36m0.207673\u001b[0m, \u001b[1;36m0.209673\u001b[0m,  \u001b[34m│\u001b[0m\n",
       "\u001b[34m│\u001b[0m                      \u001b[1;36m0.211673\u001b[0m, \u001b[1;36m0.213673\u001b[0m, \u001b[1;36m0.215673\u001b[0m, \u001b[1;36m0.217673\u001b[0m, \u001b[1;36m0.219673\u001b[0m, \u001b[1;36m0.221673\u001b[0m,  \u001b[34m│\u001b[0m\n",
       "\u001b[34m│\u001b[0m                      \u001b[1;36m0.223673\u001b[0m, \u001b[1;36m0.225673\u001b[0m, \u001b[1;36m0.227673\u001b[0m, \u001b[1;36m0.229673\u001b[0m, \u001b[1;36m0.231673\u001b[0m, \u001b[1;36m0.233673\u001b[0m,  \u001b[34m│\u001b[0m\n",
       "\u001b[34m│\u001b[0m                      \u001b[1;36m0.235673\u001b[0m, \u001b[1;36m0.237673\u001b[0m, \u001b[1;36m0.239673\u001b[0m, \u001b[1;36m0.241673\u001b[0m, \u001b[1;36m0.243673\u001b[0m, \u001b[1;36m0.245673\u001b[0m,  \u001b[34m│\u001b[0m\n",
       "\u001b[34m│\u001b[0m                      \u001b[1;36m0.247673\u001b[0m, \u001b[1;36m0.249673\u001b[0m, \u001b[1;36m0.251673\u001b[0m, \u001b[1;36m0.253673\u001b[0m, \u001b[1;36m0.255673\u001b[0m, \u001b[1;36m0.257673\u001b[0m,  \u001b[34m│\u001b[0m\n",
       "\u001b[34m│\u001b[0m                      \u001b[1;36m0.259673\u001b[0m, \u001b[1;36m0.261673\u001b[0m, \u001b[1;36m0.263673\u001b[0m, \u001b[1;36m0.265673\u001b[0m, \u001b[1;36m0.267673\u001b[0m, \u001b[1;36m0.269673\u001b[0m,  \u001b[34m│\u001b[0m\n",
       "\u001b[34m│\u001b[0m                      \u001b[1;36m0.271673\u001b[0m, \u001b[1;36m0.273673\u001b[0m, \u001b[1;36m0.275673\u001b[0m, \u001b[1;36m0.277673\u001b[0m, \u001b[1;36m0.279673\u001b[0m, \u001b[1;36m0.281673\u001b[0m,  \u001b[34m│\u001b[0m\n",
       "\u001b[34m│\u001b[0m                      \u001b[1;36m0.283673\u001b[0m, \u001b[1;36m0.285673\u001b[0m, \u001b[1;36m0.287673\u001b[0m, \u001b[1;36m0.289673\u001b[0m, \u001b[1;36m0.291673\u001b[0m, \u001b[1;36m0.293673\u001b[0m,  \u001b[34m│\u001b[0m\n",
       "\u001b[34m│\u001b[0m                      \u001b[1;36m0.295673\u001b[0m, \u001b[1;36m0.297673\u001b[0m, \u001b[1;36m0.299673\u001b[0m, \u001b[1;36m0.301673\u001b[0m, \u001b[1;36m0.303673\u001b[0m, \u001b[1;36m0.305673\u001b[0m,  \u001b[34m│\u001b[0m\n",
       "\u001b[34m│\u001b[0m                      \u001b[1;36m0.307673\u001b[0m, \u001b[1;36m0.309673\u001b[0m, \u001b[1;36m0.311673\u001b[0m, \u001b[1;36m0.313673\u001b[0m, \u001b[1;36m0.315673\u001b[0m, \u001b[1;36m0.317673\u001b[0m,  \u001b[34m│\u001b[0m\n",
       "\u001b[34m│\u001b[0m                      \u001b[1;36m0.319673\u001b[0m, \u001b[1;36m0.321673\u001b[0m, \u001b[1;36m0.323673\u001b[0m, \u001b[1;36m0.325673\u001b[0m, \u001b[1;36m0.327673\u001b[0m, \u001b[1;36m0.329673\u001b[0m,  \u001b[34m│\u001b[0m\n",
       "\u001b[34m│\u001b[0m                      \u001b[1;36m0.331673\u001b[0m, \u001b[1;36m0.333673\u001b[0m, \u001b[1;36m0.335673\u001b[0m, \u001b[1;36m0.337673\u001b[0m, \u001b[1;36m0.339673\u001b[0m, \u001b[1;36m0.341673\u001b[0m,  \u001b[34m│\u001b[0m\n",
       "\u001b[34m│\u001b[0m                      \u001b[1;36m0.343673\u001b[0m, \u001b[1;36m0.345673\u001b[0m, \u001b[1;36m0.347673\u001b[0m, \u001b[1;36m0.349673\u001b[0m, \u001b[1;36m0.351673\u001b[0m, \u001b[1;36m0.353673\u001b[0m,  \u001b[34m│\u001b[0m\n",
       "\u001b[34m│\u001b[0m                      \u001b[1;36m0.355673\u001b[0m, \u001b[1;36m0.357673\u001b[0m, \u001b[1;36m0.359673\u001b[0m, \u001b[1;36m0.361673\u001b[0m, \u001b[1;36m0.363673\u001b[0m, \u001b[1;36m0.365673\u001b[0m,  \u001b[34m│\u001b[0m\n",
       "\u001b[34m│\u001b[0m                      \u001b[1;36m0.367673\u001b[0m, \u001b[1;36m0.369673\u001b[0m, \u001b[1;36m0.371673\u001b[0m, \u001b[1;36m0.373673\u001b[0m, \u001b[1;36m0.375673\u001b[0m, \u001b[1;36m0.377673\u001b[0m,  \u001b[34m│\u001b[0m\n",
       "\u001b[34m│\u001b[0m                      \u001b[1;36m0.379673\u001b[0m, \u001b[1;36m0.381673\u001b[0m, \u001b[1;36m0.383673\u001b[0m, \u001b[1;36m0.385673\u001b[0m, \u001b[1;36m0.387673\u001b[0m, \u001b[1;36m0.389673\u001b[0m\u001b[1m]\u001b[0m\u001b[1m)\u001b[0m \u001b[34m│\u001b[0m\n",
       "\u001b[34m│\u001b[0m      \u001b[3;33mframes\u001b[0m = \u001b[1m[\u001b[0m                                                                   \u001b[34m│\u001b[0m\n",
       "\u001b[34m│\u001b[0m                   \u001b[1m<\u001b[0m\u001b[1;95mpyuda._video.Frame\u001b[0m\u001b[39m object at \u001b[0m\u001b[1;36m0x7f8eadce9710\u001b[0m\u001b[1m>\u001b[0m,                  \u001b[34m│\u001b[0m\n",
       "\u001b[34m│\u001b[0m                   \u001b[1m<\u001b[0m\u001b[1;95mpyuda._video.Frame\u001b[0m\u001b[39m object at \u001b[0m\u001b[1;36m0x7f8eadce96a0\u001b[0m\u001b[1m>\u001b[0m,                  \u001b[34m│\u001b[0m\n",
       "\u001b[34m│\u001b[0m                   \u001b[1m<\u001b[0m\u001b[1;95mpyuda._video.Frame\u001b[0m\u001b[39m object at \u001b[0m\u001b[1;36m0x7f8eadc54400\u001b[0m\u001b[1m>\u001b[0m,                  \u001b[34m│\u001b[0m\n",
       "\u001b[34m│\u001b[0m                   \u001b[1m<\u001b[0m\u001b[1;95mpyuda._video.Frame\u001b[0m\u001b[39m object at \u001b[0m\u001b[1;36m0x7f8eadc54438\u001b[0m\u001b[1m>\u001b[0m,                  \u001b[34m│\u001b[0m\n",
       "\u001b[34m│\u001b[0m                   \u001b[1m<\u001b[0m\u001b[1;95mpyuda._video.Frame\u001b[0m\u001b[39m object at \u001b[0m\u001b[1;36m0x7f8eadc54470\u001b[0m\u001b[1m>\u001b[0m,                  \u001b[34m│\u001b[0m\n",
       "\u001b[34m│\u001b[0m                   \u001b[1m<\u001b[0m\u001b[1;95mpyuda._video.Frame\u001b[0m\u001b[39m object at \u001b[0m\u001b[1;36m0x7f8eadc544a8\u001b[0m\u001b[1m>\u001b[0m,                  \u001b[34m│\u001b[0m\n",
       "\u001b[34m│\u001b[0m                   \u001b[1m<\u001b[0m\u001b[1;95mpyuda._video.Frame\u001b[0m\u001b[39m object at \u001b[0m\u001b[1;36m0x7f8eadc544e0\u001b[0m\u001b[1m>\u001b[0m,                  \u001b[34m│\u001b[0m\n",
       "\u001b[34m│\u001b[0m                   \u001b[1m<\u001b[0m\u001b[1;95mpyuda._video.Frame\u001b[0m\u001b[39m object at \u001b[0m\u001b[1;36m0x7f8eadc54518\u001b[0m\u001b[1m>\u001b[0m,                  \u001b[34m│\u001b[0m\n",
       "\u001b[34m│\u001b[0m                   \u001b[1m<\u001b[0m\u001b[1;95mpyuda._video.Frame\u001b[0m\u001b[39m object at \u001b[0m\u001b[1;36m0x7f8eadc54550\u001b[0m\u001b[1m>\u001b[0m,                  \u001b[34m│\u001b[0m\n",
       "\u001b[34m│\u001b[0m                   \u001b[1m<\u001b[0m\u001b[1;95mpyuda._video.Frame\u001b[0m\u001b[39m object at \u001b[0m\u001b[1;36m0x7f8eadc54588\u001b[0m\u001b[1m>\u001b[0m,                  \u001b[34m│\u001b[0m\n",
       "\u001b[34m│\u001b[0m                   \u001b[1m<\u001b[0m\u001b[1;95mpyuda._video.Frame\u001b[0m\u001b[39m object at \u001b[0m\u001b[1;36m0x7f8eadc545c0\u001b[0m\u001b[1m>\u001b[0m,                  \u001b[34m│\u001b[0m\n",
       "\u001b[34m│\u001b[0m                   \u001b[1m<\u001b[0m\u001b[1;95mpyuda._video.Frame\u001b[0m\u001b[39m object at \u001b[0m\u001b[1;36m0x7f8eadc545f8\u001b[0m\u001b[1m>\u001b[0m,                  \u001b[34m│\u001b[0m\n",
       "\u001b[34m│\u001b[0m                   \u001b[1m<\u001b[0m\u001b[1;95mpyuda._video.Frame\u001b[0m\u001b[39m object at \u001b[0m\u001b[1;36m0x7f8eadc54630\u001b[0m\u001b[1m>\u001b[0m,                  \u001b[34m│\u001b[0m\n",
       "\u001b[34m│\u001b[0m                   \u001b[1m<\u001b[0m\u001b[1;95mpyuda._video.Frame\u001b[0m\u001b[39m object at \u001b[0m\u001b[1;36m0x7f8eadc54668\u001b[0m\u001b[1m>\u001b[0m,                  \u001b[34m│\u001b[0m\n",
       "\u001b[34m│\u001b[0m                   \u001b[1m<\u001b[0m\u001b[1;95mpyuda._video.Frame\u001b[0m\u001b[39m object at \u001b[0m\u001b[1;36m0x7f8eadc546a0\u001b[0m\u001b[1m>\u001b[0m,                  \u001b[34m│\u001b[0m\n",
       "\u001b[34m│\u001b[0m                   \u001b[1m<\u001b[0m\u001b[1;95mpyuda._video.Frame\u001b[0m\u001b[39m object at \u001b[0m\u001b[1;36m0x7f8eadc546d8\u001b[0m\u001b[1m>\u001b[0m,                  \u001b[34m│\u001b[0m\n",
       "\u001b[34m│\u001b[0m                   \u001b[1m<\u001b[0m\u001b[1;95mpyuda._video.Frame\u001b[0m\u001b[39m object at \u001b[0m\u001b[1;36m0x7f8eadc54710\u001b[0m\u001b[1m>\u001b[0m,                  \u001b[34m│\u001b[0m\n",
       "\u001b[34m│\u001b[0m                   \u001b[1m<\u001b[0m\u001b[1;95mpyuda._video.Frame\u001b[0m\u001b[39m object at \u001b[0m\u001b[1;36m0x7f8eadc54748\u001b[0m\u001b[1m>\u001b[0m,                  \u001b[34m│\u001b[0m\n",
       "\u001b[34m│\u001b[0m                   \u001b[1m<\u001b[0m\u001b[1;95mpyuda._video.Frame\u001b[0m\u001b[39m object at \u001b[0m\u001b[1;36m0x7f8eadc54780\u001b[0m\u001b[1m>\u001b[0m,                  \u001b[34m│\u001b[0m\n",
       "\u001b[34m│\u001b[0m                   \u001b[1m<\u001b[0m\u001b[1;95mpyuda._video.Frame\u001b[0m\u001b[39m object at \u001b[0m\u001b[1;36m0x7f8eadc547b8\u001b[0m\u001b[1m>\u001b[0m,                  \u001b[34m│\u001b[0m\n",
       "\u001b[34m│\u001b[0m                   \u001b[1m<\u001b[0m\u001b[1;95mpyuda._video.Frame\u001b[0m\u001b[39m object at \u001b[0m\u001b[1;36m0x7f8eadc547f0\u001b[0m\u001b[1m>\u001b[0m,                  \u001b[34m│\u001b[0m\n",
       "\u001b[34m│\u001b[0m                   \u001b[1m<\u001b[0m\u001b[1;95mpyuda._video.Frame\u001b[0m\u001b[39m object at \u001b[0m\u001b[1;36m0x7f8eadc54828\u001b[0m\u001b[1m>\u001b[0m,                  \u001b[34m│\u001b[0m\n",
       "\u001b[34m│\u001b[0m                   \u001b[1m<\u001b[0m\u001b[1;95mpyuda._video.Frame\u001b[0m\u001b[39m object at \u001b[0m\u001b[1;36m0x7f8eadc54860\u001b[0m\u001b[1m>\u001b[0m,                  \u001b[34m│\u001b[0m\n",
       "\u001b[34m│\u001b[0m                   \u001b[1m<\u001b[0m\u001b[1;95mpyuda._video.Frame\u001b[0m\u001b[39m object at \u001b[0m\u001b[1;36m0x7f8eadc54898\u001b[0m\u001b[1m>\u001b[0m,                  \u001b[34m│\u001b[0m\n",
       "\u001b[34m│\u001b[0m                   \u001b[1m<\u001b[0m\u001b[1;95mpyuda._video.Frame\u001b[0m\u001b[39m object at \u001b[0m\u001b[1;36m0x7f8eadc548d0\u001b[0m\u001b[1m>\u001b[0m,                  \u001b[34m│\u001b[0m\n",
       "\u001b[34m│\u001b[0m                   \u001b[1m<\u001b[0m\u001b[1;95mpyuda._video.Frame\u001b[0m\u001b[39m object at \u001b[0m\u001b[1;36m0x7f8eadc54908\u001b[0m\u001b[1m>\u001b[0m,                  \u001b[34m│\u001b[0m\n",
       "\u001b[34m│\u001b[0m                   \u001b[1m<\u001b[0m\u001b[1;95mpyuda._video.Frame\u001b[0m\u001b[39m object at \u001b[0m\u001b[1;36m0x7f8eadc54940\u001b[0m\u001b[1m>\u001b[0m,                  \u001b[34m│\u001b[0m\n",
       "\u001b[34m│\u001b[0m                   \u001b[1m<\u001b[0m\u001b[1;95mpyuda._video.Frame\u001b[0m\u001b[39m object at \u001b[0m\u001b[1;36m0x7f8eadc54978\u001b[0m\u001b[1m>\u001b[0m,                  \u001b[34m│\u001b[0m\n",
       "\u001b[34m│\u001b[0m                   \u001b[1m<\u001b[0m\u001b[1;95mpyuda._video.Frame\u001b[0m\u001b[39m object at \u001b[0m\u001b[1;36m0x7f8eadc549b0\u001b[0m\u001b[1m>\u001b[0m,                  \u001b[34m│\u001b[0m\n",
       "\u001b[34m│\u001b[0m                   \u001b[1m<\u001b[0m\u001b[1;95mpyuda._video.Frame\u001b[0m\u001b[39m object at \u001b[0m\u001b[1;36m0x7f8eadc549e8\u001b[0m\u001b[1m>\u001b[0m,                  \u001b[34m│\u001b[0m\n",
       "\u001b[34m│\u001b[0m                   \u001b[1m<\u001b[0m\u001b[1;95mpyuda._video.Frame\u001b[0m\u001b[39m object at \u001b[0m\u001b[1;36m0x7f8eadc54a20\u001b[0m\u001b[1m>\u001b[0m,                  \u001b[34m│\u001b[0m\n",
       "\u001b[34m│\u001b[0m                   \u001b[1m<\u001b[0m\u001b[1;95mpyuda._video.Frame\u001b[0m\u001b[39m object at \u001b[0m\u001b[1;36m0x7f8eadc54a58\u001b[0m\u001b[1m>\u001b[0m,                  \u001b[34m│\u001b[0m\n",
       "\u001b[34m│\u001b[0m                   \u001b[1m<\u001b[0m\u001b[1;95mpyuda._video.Frame\u001b[0m\u001b[39m object at \u001b[0m\u001b[1;36m0x7f8eadc54a90\u001b[0m\u001b[1m>\u001b[0m,                  \u001b[34m│\u001b[0m\n",
       "\u001b[34m│\u001b[0m                   \u001b[1m<\u001b[0m\u001b[1;95mpyuda._video.Frame\u001b[0m\u001b[39m object at \u001b[0m\u001b[1;36m0x7f8eadc54ac8\u001b[0m\u001b[1m>\u001b[0m,                  \u001b[34m│\u001b[0m\n",
       "\u001b[34m│\u001b[0m                   \u001b[1m<\u001b[0m\u001b[1;95mpyuda._video.Frame\u001b[0m\u001b[39m object at \u001b[0m\u001b[1;36m0x7f8eadc54b00\u001b[0m\u001b[1m>\u001b[0m,                  \u001b[34m│\u001b[0m\n",
       "\u001b[34m│\u001b[0m                   \u001b[1m<\u001b[0m\u001b[1;95mpyuda._video.Frame\u001b[0m\u001b[39m object at \u001b[0m\u001b[1;36m0x7f8eadc54b38\u001b[0m\u001b[1m>\u001b[0m,                  \u001b[34m│\u001b[0m\n",
       "\u001b[34m│\u001b[0m                   \u001b[1m<\u001b[0m\u001b[1;95mpyuda._video.Frame\u001b[0m\u001b[39m object at \u001b[0m\u001b[1;36m0x7f8eadc54b70\u001b[0m\u001b[1m>\u001b[0m,                  \u001b[34m│\u001b[0m\n",
       "\u001b[34m│\u001b[0m                   \u001b[1m<\u001b[0m\u001b[1;95mpyuda._video.Frame\u001b[0m\u001b[39m object at \u001b[0m\u001b[1;36m0x7f8eadc54ba8\u001b[0m\u001b[1m>\u001b[0m,                  \u001b[34m│\u001b[0m\n",
       "\u001b[34m│\u001b[0m                   \u001b[1m<\u001b[0m\u001b[1;95mpyuda._video.Frame\u001b[0m\u001b[39m object at \u001b[0m\u001b[1;36m0x7f8eadc54be0\u001b[0m\u001b[1m>\u001b[0m,                  \u001b[34m│\u001b[0m\n",
       "\u001b[34m│\u001b[0m                   \u001b[1m<\u001b[0m\u001b[1;95mpyuda._video.Frame\u001b[0m\u001b[39m object at \u001b[0m\u001b[1;36m0x7f8eadc54c18\u001b[0m\u001b[1m>\u001b[0m,                  \u001b[34m│\u001b[0m\n",
       "\u001b[34m│\u001b[0m                   \u001b[1m<\u001b[0m\u001b[1;95mpyuda._video.Frame\u001b[0m\u001b[39m object at \u001b[0m\u001b[1;36m0x7f8eadc54c50\u001b[0m\u001b[1m>\u001b[0m,                  \u001b[34m│\u001b[0m\n",
       "\u001b[34m│\u001b[0m                   \u001b[1m<\u001b[0m\u001b[1;95mpyuda._video.Frame\u001b[0m\u001b[39m object at \u001b[0m\u001b[1;36m0x7f8eadc54c88\u001b[0m\u001b[1m>\u001b[0m,                  \u001b[34m│\u001b[0m\n",
       "\u001b[34m│\u001b[0m                   \u001b[1m<\u001b[0m\u001b[1;95mpyuda._video.Frame\u001b[0m\u001b[39m object at \u001b[0m\u001b[1;36m0x7f8eadc54cc0\u001b[0m\u001b[1m>\u001b[0m,                  \u001b[34m│\u001b[0m\n",
       "\u001b[34m│\u001b[0m                   \u001b[1m<\u001b[0m\u001b[1;95mpyuda._video.Frame\u001b[0m\u001b[39m object at \u001b[0m\u001b[1;36m0x7f8eadc54cf8\u001b[0m\u001b[1m>\u001b[0m,                  \u001b[34m│\u001b[0m\n",
       "\u001b[34m│\u001b[0m                   \u001b[1m<\u001b[0m\u001b[1;95mpyuda._video.Frame\u001b[0m\u001b[39m object at \u001b[0m\u001b[1;36m0x7f8eadc54d30\u001b[0m\u001b[1m>\u001b[0m,                  \u001b[34m│\u001b[0m\n",
       "\u001b[34m│\u001b[0m                   \u001b[1m<\u001b[0m\u001b[1;95mpyuda._video.Frame\u001b[0m\u001b[39m object at \u001b[0m\u001b[1;36m0x7f8eadc54d68\u001b[0m\u001b[1m>\u001b[0m,                  \u001b[34m│\u001b[0m\n",
       "\u001b[34m│\u001b[0m                   \u001b[1m<\u001b[0m\u001b[1;95mpyuda._video.Frame\u001b[0m\u001b[39m object at \u001b[0m\u001b[1;36m0x7f8eadc54da0\u001b[0m\u001b[1m>\u001b[0m,                  \u001b[34m│\u001b[0m\n",
       "\u001b[34m│\u001b[0m                   \u001b[1m<\u001b[0m\u001b[1;95mpyuda._video.Frame\u001b[0m\u001b[39m object at \u001b[0m\u001b[1;36m0x7f8eadc54dd8\u001b[0m\u001b[1m>\u001b[0m,                  \u001b[34m│\u001b[0m\n",
       "\u001b[34m│\u001b[0m                   \u001b[1m<\u001b[0m\u001b[1;95mpyuda._video.Frame\u001b[0m\u001b[39m object at \u001b[0m\u001b[1;36m0x7f8eadc54e10\u001b[0m\u001b[1m>\u001b[0m,                  \u001b[34m│\u001b[0m\n",
       "\u001b[34m│\u001b[0m                   \u001b[1m<\u001b[0m\u001b[1;95mpyuda._video.Frame\u001b[0m\u001b[39m object at \u001b[0m\u001b[1;36m0x7f8eadc54e48\u001b[0m\u001b[1m>\u001b[0m,                  \u001b[34m│\u001b[0m\n",
       "\u001b[34m│\u001b[0m                   \u001b[1m<\u001b[0m\u001b[1;95mpyuda._video.Frame\u001b[0m\u001b[39m object at \u001b[0m\u001b[1;36m0x7f8eadc54e80\u001b[0m\u001b[1m>\u001b[0m,                  \u001b[34m│\u001b[0m\n",
       "\u001b[34m│\u001b[0m                   \u001b[1m<\u001b[0m\u001b[1;95mpyuda._video.Frame\u001b[0m\u001b[39m object at \u001b[0m\u001b[1;36m0x7f8eadc54eb8\u001b[0m\u001b[1m>\u001b[0m,                  \u001b[34m│\u001b[0m\n",
       "\u001b[34m│\u001b[0m                   \u001b[1m<\u001b[0m\u001b[1;95mpyuda._video.Frame\u001b[0m\u001b[39m object at \u001b[0m\u001b[1;36m0x7f8eadc54ef0\u001b[0m\u001b[1m>\u001b[0m,                  \u001b[34m│\u001b[0m\n",
       "\u001b[34m│\u001b[0m                   \u001b[1m<\u001b[0m\u001b[1;95mpyuda._video.Frame\u001b[0m\u001b[39m object at \u001b[0m\u001b[1;36m0x7f8eadc54f28\u001b[0m\u001b[1m>\u001b[0m,                  \u001b[34m│\u001b[0m\n",
       "\u001b[34m│\u001b[0m                   \u001b[1m<\u001b[0m\u001b[1;95mpyuda._video.Frame\u001b[0m\u001b[39m object at \u001b[0m\u001b[1;36m0x7f8eadc54f60\u001b[0m\u001b[1m>\u001b[0m,                  \u001b[34m│\u001b[0m\n",
       "\u001b[34m│\u001b[0m                   \u001b[1m<\u001b[0m\u001b[1;95mpyuda._video.Frame\u001b[0m\u001b[39m object at \u001b[0m\u001b[1;36m0x7f8eadc54f98\u001b[0m\u001b[1m>\u001b[0m,                  \u001b[34m│\u001b[0m\n",
       "\u001b[34m│\u001b[0m                   \u001b[1m<\u001b[0m\u001b[1;95mpyuda._video.Frame\u001b[0m\u001b[39m object at \u001b[0m\u001b[1;36m0x7f8eadc54fd0\u001b[0m\u001b[1m>\u001b[0m,                  \u001b[34m│\u001b[0m\n",
       "\u001b[34m│\u001b[0m                   \u001b[1m<\u001b[0m\u001b[1;95mpyuda._video.Frame\u001b[0m\u001b[39m object at \u001b[0m\u001b[1;36m0x7f8eadc6a048\u001b[0m\u001b[1m>\u001b[0m,                  \u001b[34m│\u001b[0m\n",
       "\u001b[34m│\u001b[0m                   \u001b[1m<\u001b[0m\u001b[1;95mpyuda._video.Frame\u001b[0m\u001b[39m object at \u001b[0m\u001b[1;36m0x7f8eadc6a080\u001b[0m\u001b[1m>\u001b[0m,                  \u001b[34m│\u001b[0m\n",
       "\u001b[34m│\u001b[0m                   \u001b[1m<\u001b[0m\u001b[1;95mpyuda._video.Frame\u001b[0m\u001b[39m object at \u001b[0m\u001b[1;36m0x7f8eadc6a0b8\u001b[0m\u001b[1m>\u001b[0m,                  \u001b[34m│\u001b[0m\n",
       "\u001b[34m│\u001b[0m                   \u001b[1m<\u001b[0m\u001b[1;95mpyuda._video.Frame\u001b[0m\u001b[39m object at \u001b[0m\u001b[1;36m0x7f8eadc6a0f0\u001b[0m\u001b[1m>\u001b[0m,                  \u001b[34m│\u001b[0m\n",
       "\u001b[34m│\u001b[0m                   \u001b[1m<\u001b[0m\u001b[1;95mpyuda._video.Frame\u001b[0m\u001b[39m object at \u001b[0m\u001b[1;36m0x7f8eadc6a128\u001b[0m\u001b[1m>\u001b[0m,                  \u001b[34m│\u001b[0m\n",
       "\u001b[34m│\u001b[0m                   \u001b[1m<\u001b[0m\u001b[1;95mpyuda._video.Frame\u001b[0m\u001b[39m object at \u001b[0m\u001b[1;36m0x7f8eadc6a160\u001b[0m\u001b[1m>\u001b[0m,                  \u001b[34m│\u001b[0m\n",
       "\u001b[34m│\u001b[0m                   \u001b[1m<\u001b[0m\u001b[1;95mpyuda._video.Frame\u001b[0m\u001b[39m object at \u001b[0m\u001b[1;36m0x7f8eadc6a198\u001b[0m\u001b[1m>\u001b[0m,                  \u001b[34m│\u001b[0m\n",
       "\u001b[34m│\u001b[0m                   \u001b[1m<\u001b[0m\u001b[1;95mpyuda._video.Frame\u001b[0m\u001b[39m object at \u001b[0m\u001b[1;36m0x7f8eadc6a1d0\u001b[0m\u001b[1m>\u001b[0m,                  \u001b[34m│\u001b[0m\n",
       "\u001b[34m│\u001b[0m                   \u001b[1m<\u001b[0m\u001b[1;95mpyuda._video.Frame\u001b[0m\u001b[39m object at \u001b[0m\u001b[1;36m0x7f8eadc6a208\u001b[0m\u001b[1m>\u001b[0m,                  \u001b[34m│\u001b[0m\n",
       "\u001b[34m│\u001b[0m                   \u001b[1m<\u001b[0m\u001b[1;95mpyuda._video.Frame\u001b[0m\u001b[39m object at \u001b[0m\u001b[1;36m0x7f8eadc6a240\u001b[0m\u001b[1m>\u001b[0m,                  \u001b[34m│\u001b[0m\n",
       "\u001b[34m│\u001b[0m                   \u001b[1m<\u001b[0m\u001b[1;95mpyuda._video.Frame\u001b[0m\u001b[39m object at \u001b[0m\u001b[1;36m0x7f8eadc6a278\u001b[0m\u001b[1m>\u001b[0m,                  \u001b[34m│\u001b[0m\n",
       "\u001b[34m│\u001b[0m                   \u001b[1m<\u001b[0m\u001b[1;95mpyuda._video.Frame\u001b[0m\u001b[39m object at \u001b[0m\u001b[1;36m0x7f8eadc6a2b0\u001b[0m\u001b[1m>\u001b[0m,                  \u001b[34m│\u001b[0m\n",
       "\u001b[34m│\u001b[0m                   \u001b[1m<\u001b[0m\u001b[1;95mpyuda._video.Frame\u001b[0m\u001b[39m object at \u001b[0m\u001b[1;36m0x7f8eadc6a2e8\u001b[0m\u001b[1m>\u001b[0m,                  \u001b[34m│\u001b[0m\n",
       "\u001b[34m│\u001b[0m                   \u001b[1m<\u001b[0m\u001b[1;95mpyuda._video.Frame\u001b[0m\u001b[39m object at \u001b[0m\u001b[1;36m0x7f8eadc6a320\u001b[0m\u001b[1m>\u001b[0m,                  \u001b[34m│\u001b[0m\n",
       "\u001b[34m│\u001b[0m                   \u001b[1m<\u001b[0m\u001b[1;95mpyuda._video.Frame\u001b[0m\u001b[39m object at \u001b[0m\u001b[1;36m0x7f8eadc6a358\u001b[0m\u001b[1m>\u001b[0m,                  \u001b[34m│\u001b[0m\n",
       "\u001b[34m│\u001b[0m                   \u001b[1m<\u001b[0m\u001b[1;95mpyuda._video.Frame\u001b[0m\u001b[39m object at \u001b[0m\u001b[1;36m0x7f8eadc6a390\u001b[0m\u001b[1m>\u001b[0m,                  \u001b[34m│\u001b[0m\n",
       "\u001b[34m│\u001b[0m                   \u001b[1m<\u001b[0m\u001b[1;95mpyuda._video.Frame\u001b[0m\u001b[39m object at \u001b[0m\u001b[1;36m0x7f8eadc6a3c8\u001b[0m\u001b[1m>\u001b[0m,                  \u001b[34m│\u001b[0m\n",
       "\u001b[34m│\u001b[0m                   \u001b[1m<\u001b[0m\u001b[1;95mpyuda._video.Frame\u001b[0m\u001b[39m object at \u001b[0m\u001b[1;36m0x7f8eadc6a400\u001b[0m\u001b[1m>\u001b[0m,                  \u001b[34m│\u001b[0m\n",
       "\u001b[34m│\u001b[0m                   \u001b[1m<\u001b[0m\u001b[1;95mpyuda._video.Frame\u001b[0m\u001b[39m object at \u001b[0m\u001b[1;36m0x7f8eadc6a438\u001b[0m\u001b[1m>\u001b[0m,                  \u001b[34m│\u001b[0m\n",
       "\u001b[34m│\u001b[0m                   \u001b[1m<\u001b[0m\u001b[1;95mpyuda._video.Frame\u001b[0m\u001b[39m object at \u001b[0m\u001b[1;36m0x7f8eadc6a470\u001b[0m\u001b[1m>\u001b[0m,                  \u001b[34m│\u001b[0m\n",
       "\u001b[34m│\u001b[0m                   \u001b[1m<\u001b[0m\u001b[1;95mpyuda._video.Frame\u001b[0m\u001b[39m object at \u001b[0m\u001b[1;36m0x7f8eadc6a4a8\u001b[0m\u001b[1m>\u001b[0m,                  \u001b[34m│\u001b[0m\n",
       "\u001b[34m│\u001b[0m                   \u001b[1m<\u001b[0m\u001b[1;95mpyuda._video.Frame\u001b[0m\u001b[39m object at \u001b[0m\u001b[1;36m0x7f8eadc6a4e0\u001b[0m\u001b[1m>\u001b[0m,                  \u001b[34m│\u001b[0m\n",
       "\u001b[34m│\u001b[0m                   \u001b[1m<\u001b[0m\u001b[1;95mpyuda._video.Frame\u001b[0m\u001b[39m object at \u001b[0m\u001b[1;36m0x7f8eadc6a518\u001b[0m\u001b[1m>\u001b[0m,                  \u001b[34m│\u001b[0m\n",
       "\u001b[34m│\u001b[0m                   \u001b[1m<\u001b[0m\u001b[1;95mpyuda._video.Frame\u001b[0m\u001b[39m object at \u001b[0m\u001b[1;36m0x7f8eadc6a550\u001b[0m\u001b[1m>\u001b[0m,                  \u001b[34m│\u001b[0m\n",
       "\u001b[34m│\u001b[0m                   \u001b[1m<\u001b[0m\u001b[1;95mpyuda._video.Frame\u001b[0m\u001b[39m object at \u001b[0m\u001b[1;36m0x7f8eadc6a588\u001b[0m\u001b[1m>\u001b[0m,                  \u001b[34m│\u001b[0m\n",
       "\u001b[34m│\u001b[0m                   \u001b[1m<\u001b[0m\u001b[1;95mpyuda._video.Frame\u001b[0m\u001b[39m object at \u001b[0m\u001b[1;36m0x7f8eadc6a5c0\u001b[0m\u001b[1m>\u001b[0m,                  \u001b[34m│\u001b[0m\n",
       "\u001b[34m│\u001b[0m                   \u001b[1m<\u001b[0m\u001b[1;95mpyuda._video.Frame\u001b[0m\u001b[39m object at \u001b[0m\u001b[1;36m0x7f8eadc6a5f8\u001b[0m\u001b[1m>\u001b[0m,                  \u001b[34m│\u001b[0m\n",
       "\u001b[34m│\u001b[0m                   \u001b[1m<\u001b[0m\u001b[1;95mpyuda._video.Frame\u001b[0m\u001b[39m object at \u001b[0m\u001b[1;36m0x7f8eadc6a630\u001b[0m\u001b[1m>\u001b[0m,                  \u001b[34m│\u001b[0m\n",
       "\u001b[34m│\u001b[0m                   \u001b[1m<\u001b[0m\u001b[1;95mpyuda._video.Frame\u001b[0m\u001b[39m object at \u001b[0m\u001b[1;36m0x7f8eadc6a668\u001b[0m\u001b[1m>\u001b[0m,                  \u001b[34m│\u001b[0m\n",
       "\u001b[34m│\u001b[0m                   \u001b[1m<\u001b[0m\u001b[1;95mpyuda._video.Frame\u001b[0m\u001b[39m object at \u001b[0m\u001b[1;36m0x7f8eadc6a6a0\u001b[0m\u001b[1m>\u001b[0m,                  \u001b[34m│\u001b[0m\n",
       "\u001b[34m│\u001b[0m                   \u001b[1m<\u001b[0m\u001b[1;95mpyuda._video.Frame\u001b[0m\u001b[39m object at \u001b[0m\u001b[1;36m0x7f8eadc6a6d8\u001b[0m\u001b[1m>\u001b[0m,                  \u001b[34m│\u001b[0m\n",
       "\u001b[34m│\u001b[0m                   \u001b[1m<\u001b[0m\u001b[1;95mpyuda._video.Frame\u001b[0m\u001b[39m object at \u001b[0m\u001b[1;36m0x7f8eadc6a710\u001b[0m\u001b[1m>\u001b[0m,                  \u001b[34m│\u001b[0m\n",
       "\u001b[34m│\u001b[0m                   \u001b[1m<\u001b[0m\u001b[1;95mpyuda._video.Frame\u001b[0m\u001b[39m object at \u001b[0m\u001b[1;36m0x7f8eadc6a748\u001b[0m\u001b[1m>\u001b[0m,                  \u001b[34m│\u001b[0m\n",
       "\u001b[34m│\u001b[0m                   \u001b[1m<\u001b[0m\u001b[1;95mpyuda._video.Frame\u001b[0m\u001b[39m object at \u001b[0m\u001b[1;36m0x7f8eadc6a780\u001b[0m\u001b[1m>\u001b[0m,                  \u001b[34m│\u001b[0m\n",
       "\u001b[34m│\u001b[0m                   \u001b[1m<\u001b[0m\u001b[1;95mpyuda._video.Frame\u001b[0m\u001b[39m object at \u001b[0m\u001b[1;36m0x7f8eadc6a7b8\u001b[0m\u001b[1m>\u001b[0m,                  \u001b[34m│\u001b[0m\n",
       "\u001b[34m│\u001b[0m                   \u001b[1m<\u001b[0m\u001b[1;95mpyuda._video.Frame\u001b[0m\u001b[39m object at \u001b[0m\u001b[1;36m0x7f8eadc6a7f0\u001b[0m\u001b[1m>\u001b[0m,                  \u001b[34m│\u001b[0m\n",
       "\u001b[34m│\u001b[0m                   \u001b[1m<\u001b[0m\u001b[1;95mpyuda._video.Frame\u001b[0m\u001b[39m object at \u001b[0m\u001b[1;36m0x7f8eadc6a828\u001b[0m\u001b[1m>\u001b[0m,                  \u001b[34m│\u001b[0m\n",
       "\u001b[34m│\u001b[0m                   \u001b[1m<\u001b[0m\u001b[1;95mpyuda._video.Frame\u001b[0m\u001b[39m object at \u001b[0m\u001b[1;36m0x7f8eadc6a860\u001b[0m\u001b[1m>\u001b[0m,                  \u001b[34m│\u001b[0m\n",
       "\u001b[34m│\u001b[0m                   \u001b[1m<\u001b[0m\u001b[1;95mpyuda._video.Frame\u001b[0m\u001b[39m object at \u001b[0m\u001b[1;36m0x7f8eadc6a898\u001b[0m\u001b[1m>\u001b[0m,                  \u001b[34m│\u001b[0m\n",
       "\u001b[34m│\u001b[0m                   \u001b[1m<\u001b[0m\u001b[1;95mpyuda._video.Frame\u001b[0m\u001b[39m object at \u001b[0m\u001b[1;36m0x7f8eadc6a8d0\u001b[0m\u001b[1m>\u001b[0m,                  \u001b[34m│\u001b[0m\n",
       "\u001b[34m│\u001b[0m                   \u001b[1m<\u001b[0m\u001b[1;95mpyuda._video.Frame\u001b[0m\u001b[39m object at \u001b[0m\u001b[1;36m0x7f8eadc6a908\u001b[0m\u001b[1m>\u001b[0m,                  \u001b[34m│\u001b[0m\n",
       "\u001b[34m│\u001b[0m                   \u001b[1m<\u001b[0m\u001b[1;95mpyuda._video.Frame\u001b[0m\u001b[39m object at \u001b[0m\u001b[1;36m0x7f8eadc6a940\u001b[0m\u001b[1m>\u001b[0m,                  \u001b[34m│\u001b[0m\n",
       "\u001b[34m│\u001b[0m                   \u001b[1m<\u001b[0m\u001b[1;95mpyuda._video.Frame\u001b[0m\u001b[39m object at \u001b[0m\u001b[1;36m0x7f8eadc6a978\u001b[0m\u001b[1m>\u001b[0m,                  \u001b[34m│\u001b[0m\n",
       "\u001b[34m│\u001b[0m                   \u001b[1m<\u001b[0m\u001b[1;95mpyuda._video.Frame\u001b[0m\u001b[39m object at \u001b[0m\u001b[1;36m0x7f8eadc6a9b0\u001b[0m\u001b[1m>\u001b[0m,                  \u001b[34m│\u001b[0m\n",
       "\u001b[34m│\u001b[0m                   \u001b[1m<\u001b[0m\u001b[1;95mpyuda._video.Frame\u001b[0m\u001b[39m object at \u001b[0m\u001b[1;36m0x7f8eadc6a9e8\u001b[0m\u001b[1m>\u001b[0m,                  \u001b[34m│\u001b[0m\n",
       "\u001b[34m│\u001b[0m                   \u001b[1m<\u001b[0m\u001b[1;95mpyuda._video.Frame\u001b[0m\u001b[39m object at \u001b[0m\u001b[1;36m0x7f8eadc6aa20\u001b[0m\u001b[1m>\u001b[0m,                  \u001b[34m│\u001b[0m\n",
       "\u001b[34m│\u001b[0m                   \u001b[1m<\u001b[0m\u001b[1;95mpyuda._video.Frame\u001b[0m\u001b[39m object at \u001b[0m\u001b[1;36m0x7f8eadc6aa58\u001b[0m\u001b[1m>\u001b[0m,                  \u001b[34m│\u001b[0m\n",
       "\u001b[34m│\u001b[0m                   \u001b[1m<\u001b[0m\u001b[1;95mpyuda._video.Frame\u001b[0m\u001b[39m object at \u001b[0m\u001b[1;36m0x7f8eadc6aa90\u001b[0m\u001b[1m>\u001b[0m,                  \u001b[34m│\u001b[0m\n",
       "\u001b[34m│\u001b[0m                   \u001b[1m<\u001b[0m\u001b[1;95mpyuda._video.Frame\u001b[0m\u001b[39m object at \u001b[0m\u001b[1;36m0x7f8eadc6aac8\u001b[0m\u001b[1m>\u001b[0m,                  \u001b[34m│\u001b[0m\n",
       "\u001b[34m│\u001b[0m                   \u001b[1m<\u001b[0m\u001b[1;95mpyuda._video.Frame\u001b[0m\u001b[39m object at \u001b[0m\u001b[1;36m0x7f8eadc6ab00\u001b[0m\u001b[1m>\u001b[0m,                  \u001b[34m│\u001b[0m\n",
       "\u001b[34m│\u001b[0m                   \u001b[1m<\u001b[0m\u001b[1;95mpyuda._video.Frame\u001b[0m\u001b[39m object at \u001b[0m\u001b[1;36m0x7f8eadc6ab38\u001b[0m\u001b[1m>\u001b[0m,                  \u001b[34m│\u001b[0m\n",
       "\u001b[34m│\u001b[0m                   \u001b[1m<\u001b[0m\u001b[1;95mpyuda._video.Frame\u001b[0m\u001b[39m object at \u001b[0m\u001b[1;36m0x7f8eadc6ab70\u001b[0m\u001b[1m>\u001b[0m,                  \u001b[34m│\u001b[0m\n",
       "\u001b[34m│\u001b[0m                   \u001b[1m<\u001b[0m\u001b[1;95mpyuda._video.Frame\u001b[0m\u001b[39m object at \u001b[0m\u001b[1;36m0x7f8eadc6aba8\u001b[0m\u001b[1m>\u001b[0m,                  \u001b[34m│\u001b[0m\n",
       "\u001b[34m│\u001b[0m                   \u001b[1m<\u001b[0m\u001b[1;95mpyuda._video.Frame\u001b[0m\u001b[39m object at \u001b[0m\u001b[1;36m0x7f8eadc6abe0\u001b[0m\u001b[1m>\u001b[0m,                  \u001b[34m│\u001b[0m\n",
       "\u001b[34m│\u001b[0m                   \u001b[1m<\u001b[0m\u001b[1;95mpyuda._video.Frame\u001b[0m\u001b[39m object at \u001b[0m\u001b[1;36m0x7f8eadc6ac18\u001b[0m\u001b[1m>\u001b[0m,                  \u001b[34m│\u001b[0m\n",
       "\u001b[34m│\u001b[0m                   \u001b[1m<\u001b[0m\u001b[1;95mpyuda._video.Frame\u001b[0m\u001b[39m object at \u001b[0m\u001b[1;36m0x7f8eadc6ac50\u001b[0m\u001b[1m>\u001b[0m,                  \u001b[34m│\u001b[0m\n",
       "\u001b[34m│\u001b[0m                   \u001b[1m<\u001b[0m\u001b[1;95mpyuda._video.Frame\u001b[0m\u001b[39m object at \u001b[0m\u001b[1;36m0x7f8eadc6ac88\u001b[0m\u001b[1m>\u001b[0m,                  \u001b[34m│\u001b[0m\n",
       "\u001b[34m│\u001b[0m                   \u001b[1m<\u001b[0m\u001b[1;95mpyuda._video.Frame\u001b[0m\u001b[39m object at \u001b[0m\u001b[1;36m0x7f8eadc6acc0\u001b[0m\u001b[1m>\u001b[0m,                  \u001b[34m│\u001b[0m\n",
       "\u001b[34m│\u001b[0m                   \u001b[1m<\u001b[0m\u001b[1;95mpyuda._video.Frame\u001b[0m\u001b[39m object at \u001b[0m\u001b[1;36m0x7f8eadc6acf8\u001b[0m\u001b[1m>\u001b[0m,                  \u001b[34m│\u001b[0m\n",
       "\u001b[34m│\u001b[0m                   \u001b[1m<\u001b[0m\u001b[1;95mpyuda._video.Frame\u001b[0m\u001b[39m object at \u001b[0m\u001b[1;36m0x7f8eadc6ad30\u001b[0m\u001b[1m>\u001b[0m,                  \u001b[34m│\u001b[0m\n",
       "\u001b[34m│\u001b[0m                   \u001b[1m<\u001b[0m\u001b[1;95mpyuda._video.Frame\u001b[0m\u001b[39m object at \u001b[0m\u001b[1;36m0x7f8eadc6ad68\u001b[0m\u001b[1m>\u001b[0m,                  \u001b[34m│\u001b[0m\n",
       "\u001b[34m│\u001b[0m                   \u001b[1m<\u001b[0m\u001b[1;95mpyuda._video.Frame\u001b[0m\u001b[39m object at \u001b[0m\u001b[1;36m0x7f8eadc6ada0\u001b[0m\u001b[1m>\u001b[0m,                  \u001b[34m│\u001b[0m\n",
       "\u001b[34m│\u001b[0m                   \u001b[1m<\u001b[0m\u001b[1;95mpyuda._video.Frame\u001b[0m\u001b[39m object at \u001b[0m\u001b[1;36m0x7f8eadc6add8\u001b[0m\u001b[1m>\u001b[0m,                  \u001b[34m│\u001b[0m\n",
       "\u001b[34m│\u001b[0m                   \u001b[1m<\u001b[0m\u001b[1;95mpyuda._video.Frame\u001b[0m\u001b[39m object at \u001b[0m\u001b[1;36m0x7f8eadc6ae10\u001b[0m\u001b[1m>\u001b[0m,                  \u001b[34m│\u001b[0m\n",
       "\u001b[34m│\u001b[0m                   \u001b[1m<\u001b[0m\u001b[1;95mpyuda._video.Frame\u001b[0m\u001b[39m object at \u001b[0m\u001b[1;36m0x7f8eadc6ae48\u001b[0m\u001b[1m>\u001b[0m,                  \u001b[34m│\u001b[0m\n",
       "\u001b[34m│\u001b[0m                   \u001b[1m<\u001b[0m\u001b[1;95mpyuda._video.Frame\u001b[0m\u001b[39m object at \u001b[0m\u001b[1;36m0x7f8eadc6ae80\u001b[0m\u001b[1m>\u001b[0m,                  \u001b[34m│\u001b[0m\n",
       "\u001b[34m│\u001b[0m                   \u001b[1m<\u001b[0m\u001b[1;95mpyuda._video.Frame\u001b[0m\u001b[39m object at \u001b[0m\u001b[1;36m0x7f8eadc6aeb8\u001b[0m\u001b[1m>\u001b[0m,                  \u001b[34m│\u001b[0m\n",
       "\u001b[34m│\u001b[0m                   \u001b[1m<\u001b[0m\u001b[1;95mpyuda._video.Frame\u001b[0m\u001b[39m object at \u001b[0m\u001b[1;36m0x7f8eadc6aef0\u001b[0m\u001b[1m>\u001b[0m,                  \u001b[34m│\u001b[0m\n",
       "\u001b[34m│\u001b[0m                   \u001b[1m<\u001b[0m\u001b[1;95mpyuda._video.Frame\u001b[0m\u001b[39m object at \u001b[0m\u001b[1;36m0x7f8eadc6af28\u001b[0m\u001b[1m>\u001b[0m,                  \u001b[34m│\u001b[0m\n",
       "\u001b[34m│\u001b[0m                   \u001b[1m<\u001b[0m\u001b[1;95mpyuda._video.Frame\u001b[0m\u001b[39m object at \u001b[0m\u001b[1;36m0x7f8eadc6af60\u001b[0m\u001b[1m>\u001b[0m,                  \u001b[34m│\u001b[0m\n",
       "\u001b[34m│\u001b[0m                   \u001b[1m<\u001b[0m\u001b[1;95mpyuda._video.Frame\u001b[0m\u001b[39m object at \u001b[0m\u001b[1;36m0x7f8eadc6af98\u001b[0m\u001b[1m>\u001b[0m,                  \u001b[34m│\u001b[0m\n",
       "\u001b[34m│\u001b[0m                   \u001b[1m<\u001b[0m\u001b[1;95mpyuda._video.Frame\u001b[0m\u001b[39m object at \u001b[0m\u001b[1;36m0x7f8eadc6afd0\u001b[0m\u001b[1m>\u001b[0m,                  \u001b[34m│\u001b[0m\n",
       "\u001b[34m│\u001b[0m                   \u001b[1m<\u001b[0m\u001b[1;95mpyuda._video.Frame\u001b[0m\u001b[39m object at \u001b[0m\u001b[1;36m0x7f8eadc67048\u001b[0m\u001b[1m>\u001b[0m,                  \u001b[34m│\u001b[0m\n",
       "\u001b[34m│\u001b[0m                   \u001b[1m<\u001b[0m\u001b[1;95mpyuda._video.Frame\u001b[0m\u001b[39m object at \u001b[0m\u001b[1;36m0x7f8eadc67080\u001b[0m\u001b[1m>\u001b[0m,                  \u001b[34m│\u001b[0m\n",
       "\u001b[34m│\u001b[0m                   \u001b[1m<\u001b[0m\u001b[1;95mpyuda._video.Frame\u001b[0m\u001b[39m object at \u001b[0m\u001b[1;36m0x7f8eadc670b8\u001b[0m\u001b[1m>\u001b[0m,                  \u001b[34m│\u001b[0m\n",
       "\u001b[34m│\u001b[0m                   \u001b[1m<\u001b[0m\u001b[1;95mpyuda._video.Frame\u001b[0m\u001b[39m object at \u001b[0m\u001b[1;36m0x7f8eadc670f0\u001b[0m\u001b[1m>\u001b[0m,                  \u001b[34m│\u001b[0m\n",
       "\u001b[34m│\u001b[0m                   \u001b[1m<\u001b[0m\u001b[1;95mpyuda._video.Frame\u001b[0m\u001b[39m object at \u001b[0m\u001b[1;36m0x7f8eadc67128\u001b[0m\u001b[1m>\u001b[0m,                  \u001b[34m│\u001b[0m\n",
       "\u001b[34m│\u001b[0m                   \u001b[1m<\u001b[0m\u001b[1;95mpyuda._video.Frame\u001b[0m\u001b[39m object at \u001b[0m\u001b[1;36m0x7f8eadc67160\u001b[0m\u001b[1m>\u001b[0m,                  \u001b[34m│\u001b[0m\n",
       "\u001b[34m│\u001b[0m                   \u001b[1m<\u001b[0m\u001b[1;95mpyuda._video.Frame\u001b[0m\u001b[39m object at \u001b[0m\u001b[1;36m0x7f8eadc67198\u001b[0m\u001b[1m>\u001b[0m,                  \u001b[34m│\u001b[0m\n",
       "\u001b[34m│\u001b[0m                   \u001b[1m<\u001b[0m\u001b[1;95mpyuda._video.Frame\u001b[0m\u001b[39m object at \u001b[0m\u001b[1;36m0x7f8eadc671d0\u001b[0m\u001b[1m>\u001b[0m,                  \u001b[34m│\u001b[0m\n",
       "\u001b[34m│\u001b[0m                   \u001b[1m<\u001b[0m\u001b[1;95mpyuda._video.Frame\u001b[0m\u001b[39m object at \u001b[0m\u001b[1;36m0x7f8eadc67208\u001b[0m\u001b[1m>\u001b[0m,                  \u001b[34m│\u001b[0m\n",
       "\u001b[34m│\u001b[0m                   \u001b[1m<\u001b[0m\u001b[1;95mpyuda._video.Frame\u001b[0m\u001b[39m object at \u001b[0m\u001b[1;36m0x7f8eadc67240\u001b[0m\u001b[1m>\u001b[0m,                  \u001b[34m│\u001b[0m\n",
       "\u001b[34m│\u001b[0m                   \u001b[1m<\u001b[0m\u001b[1;95mpyuda._video.Frame\u001b[0m\u001b[39m object at \u001b[0m\u001b[1;36m0x7f8eadc67278\u001b[0m\u001b[1m>\u001b[0m,                  \u001b[34m│\u001b[0m\n",
       "\u001b[34m│\u001b[0m                   \u001b[1m<\u001b[0m\u001b[1;95mpyuda._video.Frame\u001b[0m\u001b[39m object at \u001b[0m\u001b[1;36m0x7f8eadc672b0\u001b[0m\u001b[1m>\u001b[0m,                  \u001b[34m│\u001b[0m\n",
       "\u001b[34m│\u001b[0m                   \u001b[1m<\u001b[0m\u001b[1;95mpyuda._video.Frame\u001b[0m\u001b[39m object at \u001b[0m\u001b[1;36m0x7f8eadc672e8\u001b[0m\u001b[1m>\u001b[0m,                  \u001b[34m│\u001b[0m\n",
       "\u001b[34m│\u001b[0m                   \u001b[1m<\u001b[0m\u001b[1;95mpyuda._video.Frame\u001b[0m\u001b[39m object at \u001b[0m\u001b[1;36m0x7f8eadc67320\u001b[0m\u001b[1m>\u001b[0m,                  \u001b[34m│\u001b[0m\n",
       "\u001b[34m│\u001b[0m                   \u001b[1m<\u001b[0m\u001b[1;95mpyuda._video.Frame\u001b[0m\u001b[39m object at \u001b[0m\u001b[1;36m0x7f8eadc67358\u001b[0m\u001b[1m>\u001b[0m,                  \u001b[34m│\u001b[0m\n",
       "\u001b[34m│\u001b[0m                   \u001b[1m<\u001b[0m\u001b[1;95mpyuda._video.Frame\u001b[0m\u001b[39m object at \u001b[0m\u001b[1;36m0x7f8eadc67390\u001b[0m\u001b[1m>\u001b[0m,                  \u001b[34m│\u001b[0m\n",
       "\u001b[34m│\u001b[0m                   \u001b[1m<\u001b[0m\u001b[1;95mpyuda._video.Frame\u001b[0m\u001b[39m object at \u001b[0m\u001b[1;36m0x7f8eadc673c8\u001b[0m\u001b[1m>\u001b[0m,                  \u001b[34m│\u001b[0m\n",
       "\u001b[34m│\u001b[0m                   \u001b[1m<\u001b[0m\u001b[1;95mpyuda._video.Frame\u001b[0m\u001b[39m object at \u001b[0m\u001b[1;36m0x7f8eadc67400\u001b[0m\u001b[1m>\u001b[0m,                  \u001b[34m│\u001b[0m\n",
       "\u001b[34m│\u001b[0m                   \u001b[1m<\u001b[0m\u001b[1;95mpyuda._video.Frame\u001b[0m\u001b[39m object at \u001b[0m\u001b[1;36m0x7f8eadc67438\u001b[0m\u001b[1m>\u001b[0m,                  \u001b[34m│\u001b[0m\n",
       "\u001b[34m│\u001b[0m                   \u001b[1m<\u001b[0m\u001b[1;95mpyuda._video.Frame\u001b[0m\u001b[39m object at \u001b[0m\u001b[1;36m0x7f8eadc67470\u001b[0m\u001b[1m>\u001b[0m,                  \u001b[34m│\u001b[0m\n",
       "\u001b[34m│\u001b[0m                   \u001b[1m<\u001b[0m\u001b[1;95mpyuda._video.Frame\u001b[0m\u001b[39m object at \u001b[0m\u001b[1;36m0x7f8eadc674a8\u001b[0m\u001b[1m>\u001b[0m                   \u001b[34m│\u001b[0m\n",
       "\u001b[34m│\u001b[0m               \u001b[1m]\u001b[0m                                                                   \u001b[34m│\u001b[0m\n",
       "\u001b[34m│\u001b[0m        \u001b[3;33mgain\u001b[0m = \u001b[1;35marray\u001b[0m\u001b[1m(\u001b[0m\u001b[1m[\u001b[0m\u001b[1;36m2\u001b[0m., \u001b[1;36m0\u001b[0m.\u001b[1m]\u001b[0m\u001b[1m)\u001b[0m                                                     \u001b[34m│\u001b[0m\n",
       "\u001b[34m│\u001b[0m        \u001b[3;33mhbin\u001b[0m = \u001b[1;36m0\u001b[0m                                                                   \u001b[34m│\u001b[0m\n",
       "\u001b[34m│\u001b[0m      \u001b[3;33mheight\u001b[0m = \u001b[1;36m704\u001b[0m                                                                 \u001b[34m│\u001b[0m\n",
       "\u001b[34m│\u001b[0m    \u001b[3;33mis_color\u001b[0m = \u001b[1;36m0\u001b[0m                                                                   \u001b[34m│\u001b[0m\n",
       "\u001b[34m│\u001b[0m        \u001b[3;33mleft\u001b[0m = \u001b[1;36m1\u001b[0m                                                                   \u001b[34m│\u001b[0m\n",
       "\u001b[34m│\u001b[0m        \u001b[3;33mlens\u001b[0m = \u001b[32m''\u001b[0m                                                                  \u001b[34m│\u001b[0m\n",
       "\u001b[34m│\u001b[0m    \u001b[3;33mn_frames\u001b[0m = \u001b[1;36m150\u001b[0m                                                                 \u001b[34m│\u001b[0m\n",
       "\u001b[34m│\u001b[0m      \u001b[3;33moffset\u001b[0m = \u001b[1;35marray\u001b[0m\u001b[1m(\u001b[0m\u001b[1m[\u001b[0m\u001b[1;36m0\u001b[0m., \u001b[1;36m0\u001b[0m.\u001b[1m]\u001b[0m\u001b[1m)\u001b[0m                                                     \u001b[34m│\u001b[0m\n",
       "\u001b[34m│\u001b[0m \u001b[3;33morientation\u001b[0m = \u001b[1;36m0\u001b[0m                                                                   \u001b[34m│\u001b[0m\n",
       "\u001b[34m│\u001b[0m     \u001b[3;33mpre_exp\u001b[0m = \u001b[1;36m0.0\u001b[0m                                                                 \u001b[34m│\u001b[0m\n",
       "\u001b[34m│\u001b[0m       \u001b[3;33mright\u001b[0m = \u001b[1;36m768\u001b[0m                                                                 \u001b[34m│\u001b[0m\n",
       "\u001b[34m│\u001b[0m        \u001b[3;33mshot\u001b[0m = \u001b[1;36m27933\u001b[0m                                                               \u001b[34m│\u001b[0m\n",
       "\u001b[34m│\u001b[0m      \u001b[3;33mstrobe\u001b[0m = \u001b[1;36m0\u001b[0m                                                                   \u001b[34m│\u001b[0m\n",
       "\u001b[34m│\u001b[0m        \u001b[3;33mtaps\u001b[0m = \u001b[1;36m0\u001b[0m                                                                   \u001b[34m│\u001b[0m\n",
       "\u001b[34m│\u001b[0m         \u001b[3;33mtop\u001b[0m = \u001b[1;36m249\u001b[0m                                                                 \u001b[34m│\u001b[0m\n",
       "\u001b[34m│\u001b[0m     \u001b[3;33mtrigger\u001b[0m = \u001b[1;36m-0.10000000149011612\u001b[0m                                                \u001b[34m│\u001b[0m\n",
       "\u001b[34m│\u001b[0m        \u001b[3;33mvbin\u001b[0m = \u001b[1;36m0\u001b[0m                                                                   \u001b[34m│\u001b[0m\n",
       "\u001b[34m│\u001b[0m        \u001b[3;33mview\u001b[0m = \u001b[32m'HL07 + 25mm lens + HeII 468nm filter'\u001b[0m                              \u001b[34m│\u001b[0m\n",
       "\u001b[34m│\u001b[0m       \u001b[3;33mwidth\u001b[0m = \u001b[1;36m768\u001b[0m                                                                 \u001b[34m│\u001b[0m\n",
       "\u001b[34m╰───────────────────────────────────────────────────────────────────────────────────╯\u001b[0m\n"
      ]
     },
     "metadata": {},
     "output_type": "display_data"
    }
   ],
   "source": [
    "data = client.get_images(\"rba\", shot_1)\n",
    "inspect(data, docs=False)"
   ]
  },
  {
   "cell_type": "markdown",
   "id": "5f0346f0",
   "metadata": {},
   "source": [
    "**_Image_** data is encoded in the `Frame` object of the `Video`."
   ]
  },
  {
   "cell_type": "code",
   "execution_count": 68,
   "id": "3ccd1066",
   "metadata": {},
   "outputs": [],
   "source": [
    "frame_im = data.frames[11].k"
   ]
  },
  {
   "cell_type": "markdown",
   "id": "23c4609f",
   "metadata": {},
   "source": [
    "Then we can see an image it is a grey image with shape 704x768."
   ]
  },
  {
   "cell_type": "code",
   "execution_count": 69,
   "id": "409f69f3",
   "metadata": {},
   "outputs": [
    {
     "data": {
      "text/plain": [
       "(704, 768)"
      ]
     },
     "execution_count": 69,
     "metadata": {},
     "output_type": "execute_result"
    }
   ],
   "source": [
    "frame_im.shape"
   ]
  },
  {
   "cell_type": "code",
   "execution_count": 70,
   "id": "56d66cb7",
   "metadata": {},
   "outputs": [
    {
     "data": {
      "text/plain": [
       "<matplotlib.image.AxesImage at 0x7f8eb5285ac8>"
      ]
     },
     "execution_count": 70,
     "metadata": {},
     "output_type": "execute_result"
    },
    {
     "data": {
      "image/png": "[encoded data removed]",
      "text/plain": [
       "<Figure size 432x288 with 1 Axes>"
      ]
     },
     "metadata": {
      "needs_background": "light"
     },
     "output_type": "display_data"
    }
   ],
   "source": [
    "plt.imshow(frame_im, cmap=\"gray\")"
   ]
  },
  {
   "cell_type": "markdown",
   "id": "c49fbcc4",
   "metadata": {},
   "source": [
    "If we use the `get` function to fetch *IPX* (of alias `rba`) format, it may not throw any error or exception, however, the data would be empty. For example,"
   ]
  },
  {
   "cell_type": "code",
   "execution_count": 71,
   "id": "79419ec3",
   "metadata": {},
   "outputs": [
    {
     "data": {
      "text/html": [
       "<pre style=\"white-space:pre;overflow-x:auto;line-height:normal;font-family:Menlo,'DejaVu Sans Mono',consolas,'Courier New',monospace\"><span style=\"color: #000080; text-decoration-color: #000080\">╭──────── </span><span style=\"color: #000080; text-decoration-color: #000080; font-weight: bold\">&lt;</span><span style=\"color: #ff00ff; text-decoration-color: #ff00ff; font-weight: bold\">class</span><span style=\"color: #000000; text-decoration-color: #000000\"> </span><span style=\"color: #008000; text-decoration-color: #008000\">'pyuda._signal.Signal'</span><span style=\"color: #000080; text-decoration-color: #000080; font-weight: bold\">&gt;</span><span style=\"color: #000080; text-decoration-color: #000080\"> ─────────╮</span>\n",
       "<span style=\"color: #000080; text-decoration-color: #000080\">│</span> <span style=\"color: #008000; text-decoration-color: #008000\">╭─────────────────────────────────────────────╮</span> <span style=\"color: #000080; text-decoration-color: #000080\">│</span>\n",
       "<span style=\"color: #000080; text-decoration-color: #000080\">│</span> <span style=\"color: #008000; text-decoration-color: #008000\">│</span> <span style=\"font-weight: bold\">&lt;</span><span style=\"color: #ff00ff; text-decoration-color: #ff00ff; font-weight: bold\">Signal</span><span style=\"font-weight: bold\">&gt;</span>                                    <span style=\"color: #008000; text-decoration-color: #008000\">│</span> <span style=\"color: #000080; text-decoration-color: #000080\">│</span>\n",
       "<span style=\"color: #000080; text-decoration-color: #000080\">│</span> <span style=\"color: #008000; text-decoration-color: #008000\">╰─────────────────────────────────────────────╯</span> <span style=\"color: #000080; text-decoration-color: #000080\">│</span>\n",
       "<span style=\"color: #000080; text-decoration-color: #000080\">│</span>                                                 <span style=\"color: #000080; text-decoration-color: #000080\">│</span>\n",
       "<span style=\"color: #000080; text-decoration-color: #000080\">│</span>        <span style=\"color: #808000; text-decoration-color: #808000; font-style: italic\">data</span> = <span style=\"color: #800080; text-decoration-color: #800080; font-style: italic\">None</span>                              <span style=\"color: #000080; text-decoration-color: #000080\">│</span>\n",
       "<span style=\"color: #000080; text-decoration-color: #000080\">│</span> <span style=\"color: #808000; text-decoration-color: #808000; font-style: italic\">description</span> = <span style=\"color: #008000; text-decoration-color: #008000\">''</span>                                <span style=\"color: #000080; text-decoration-color: #000080\">│</span>\n",
       "<span style=\"color: #000080; text-decoration-color: #000080\">│</span>        <span style=\"color: #808000; text-decoration-color: #808000; font-style: italic\">dims</span> = <span style=\"font-weight: bold\">[]</span>                                <span style=\"color: #000080; text-decoration-color: #000080\">│</span>\n",
       "<span style=\"color: #000080; text-decoration-color: #000080\">│</span>      <span style=\"color: #808000; text-decoration-color: #808000; font-style: italic\">errors</span> = <span style=\"color: #800080; text-decoration-color: #800080; font-style: italic\">None</span>                              <span style=\"color: #000080; text-decoration-color: #000080\">│</span>\n",
       "<span style=\"color: #000080; text-decoration-color: #000080\">│</span>       <span style=\"color: #808000; text-decoration-color: #808000; font-style: italic\">label</span> = <span style=\"color: #008000; text-decoration-color: #008000\">''</span>                                <span style=\"color: #000080; text-decoration-color: #000080\">│</span>\n",
       "<span style=\"color: #000080; text-decoration-color: #000080\">│</span>        <span style=\"color: #808000; text-decoration-color: #808000; font-style: italic\">meta</span> = <span style=\"font-weight: bold\">{</span>                                 <span style=\"color: #000080; text-decoration-color: #000080\">│</span>\n",
       "<span style=\"color: #000080; text-decoration-color: #000080\">│</span>                   <span style=\"color: #008000; text-decoration-color: #008000\">'signal_name'</span>: <span style=\"color: #008000; text-decoration-color: #008000\">b'rba'</span>,        <span style=\"color: #000080; text-decoration-color: #000080\">│</span>\n",
       "<span style=\"color: #000080; text-decoration-color: #000080\">│</span>                   <span style=\"color: #008000; text-decoration-color: #008000\">'signal_alias'</span>: <span style=\"color: #008000; text-decoration-color: #008000\">b'rba'</span>,       <span style=\"color: #000080; text-decoration-color: #000080\">│</span>\n",
       "<span style=\"color: #000080; text-decoration-color: #000080\">│</span>                   <span style=\"color: #008000; text-decoration-color: #008000\">'path'</span>: <span style=\"color: #008000; text-decoration-color: #008000\">b'/rba027933.ipx'</span>,    <span style=\"color: #000080; text-decoration-color: #000080\">│</span>\n",
       "<span style=\"color: #000080; text-decoration-color: #000080\">│</span>                   <span style=\"color: #008000; text-decoration-color: #008000\">'filename'</span>: <span style=\"color: #008000; text-decoration-color: #008000\">b'rba027933.ipx'</span>, <span style=\"color: #000080; text-decoration-color: #000080\">│</span>\n",
       "<span style=\"color: #000080; text-decoration-color: #000080\">│</span>                   <span style=\"color: #008000; text-decoration-color: #008000\">'format'</span>: <span style=\"color: #008000; text-decoration-color: #008000\">b'IPX'</span>,             <span style=\"color: #000080; text-decoration-color: #000080\">│</span>\n",
       "<span style=\"color: #000080; text-decoration-color: #000080\">│</span>                   <span style=\"color: #008000; text-decoration-color: #008000\">'exp_number'</span>: <span style=\"color: #008080; text-decoration-color: #008080; font-weight: bold\">27933</span>,          <span style=\"color: #000080; text-decoration-color: #000080\">│</span>\n",
       "<span style=\"color: #000080; text-decoration-color: #000080\">│</span>                   <span style=\"color: #008000; text-decoration-color: #008000\">'pass'</span>: <span style=\"color: #008080; text-decoration-color: #008080; font-weight: bold\">-1</span>,                   <span style=\"color: #000080; text-decoration-color: #000080\">│</span>\n",
       "<span style=\"color: #000080; text-decoration-color: #000080\">│</span>                   <span style=\"color: #008000; text-decoration-color: #008000\">'pass_date'</span>: <span style=\"color: #008000; text-decoration-color: #008000\">b'2011-12-15'</span>    <span style=\"color: #000080; text-decoration-color: #000080\">│</span>\n",
       "<span style=\"color: #000080; text-decoration-color: #000080\">│</span>               <span style=\"font-weight: bold\">}</span>                                 <span style=\"color: #000080; text-decoration-color: #000080\">│</span>\n",
       "<span style=\"color: #000080; text-decoration-color: #000080\">│</span>        <span style=\"color: #808000; text-decoration-color: #808000; font-style: italic\">rank</span> = <span style=\"color: #008080; text-decoration-color: #008080; font-weight: bold\">0</span>                                 <span style=\"color: #000080; text-decoration-color: #000080\">│</span>\n",
       "<span style=\"color: #000080; text-decoration-color: #000080\">│</span>       <span style=\"color: #808000; text-decoration-color: #808000; font-style: italic\">shape</span> = <span style=\"font-weight: bold\">()</span>                                <span style=\"color: #000080; text-decoration-color: #000080\">│</span>\n",
       "<span style=\"color: #000080; text-decoration-color: #000080\">│</span>        <span style=\"color: #808000; text-decoration-color: #808000; font-style: italic\">time</span> = <span style=\"color: #800080; text-decoration-color: #800080; font-style: italic\">None</span>                              <span style=\"color: #000080; text-decoration-color: #000080\">│</span>\n",
       "<span style=\"color: #000080; text-decoration-color: #000080\">│</span>  <span style=\"color: #808000; text-decoration-color: #808000; font-style: italic\">time_index</span> = <span style=\"color: #800080; text-decoration-color: #800080; font-style: italic\">None</span>                              <span style=\"color: #000080; text-decoration-color: #000080\">│</span>\n",
       "<span style=\"color: #000080; text-decoration-color: #000080\">│</span>       <span style=\"color: #808000; text-decoration-color: #808000; font-style: italic\">units</span> = <span style=\"color: #008000; text-decoration-color: #008000\">''</span>                                <span style=\"color: #000080; text-decoration-color: #000080\">│</span>\n",
       "<span style=\"color: #000080; text-decoration-color: #000080\">╰─────────────────────────────────────────────────╯</span>\n",
       "</pre>\n"
      ],
      "text/plain": [
       "\u001b[34m╭─\u001b[0m\u001b[34m─────── \u001b[0m\u001b[1;34m<\u001b[0m\u001b[1;95mclass\u001b[0m\u001b[39m \u001b[0m\u001b[32m'pyuda._signal.Signal'\u001b[0m\u001b[1;34m>\u001b[0m\u001b[34m ────────\u001b[0m\u001b[34m─╮\u001b[0m\n",
       "\u001b[34m│\u001b[0m \u001b[32m╭─────────────────────────────────────────────╮\u001b[0m \u001b[34m│\u001b[0m\n",
       "\u001b[34m│\u001b[0m \u001b[32m│\u001b[0m \u001b[1m<\u001b[0m\u001b[1;95mSignal\u001b[0m\u001b[1m>\u001b[0m                                    \u001b[32m│\u001b[0m \u001b[34m│\u001b[0m\n",
       "\u001b[34m│\u001b[0m \u001b[32m╰─────────────────────────────────────────────╯\u001b[0m \u001b[34m│\u001b[0m\n",
       "\u001b[34m│\u001b[0m                                                 \u001b[34m│\u001b[0m\n",
       "\u001b[34m│\u001b[0m        \u001b[3;33mdata\u001b[0m = \u001b[3;35mNone\u001b[0m                              \u001b[34m│\u001b[0m\n",
       "\u001b[34m│\u001b[0m \u001b[3;33mdescription\u001b[0m = \u001b[32m''\u001b[0m                                \u001b[34m│\u001b[0m\n",
       "\u001b[34m│\u001b[0m        \u001b[3;33mdims\u001b[0m = \u001b[1m[\u001b[0m\u001b[1m]\u001b[0m                                \u001b[34m│\u001b[0m\n",
       "\u001b[34m│\u001b[0m      \u001b[3;33merrors\u001b[0m = \u001b[3;35mNone\u001b[0m                              \u001b[34m│\u001b[0m\n",
       "\u001b[34m│\u001b[0m       \u001b[3;33mlabel\u001b[0m = \u001b[32m''\u001b[0m                                \u001b[34m│\u001b[0m\n",
       "\u001b[34m│\u001b[0m        \u001b[3;33mmeta\u001b[0m = \u001b[1m{\u001b[0m                                 \u001b[34m│\u001b[0m\n",
       "\u001b[34m│\u001b[0m                   \u001b[32m'signal_name'\u001b[0m: \u001b[32mb'rba'\u001b[0m,        \u001b[34m│\u001b[0m\n",
       "\u001b[34m│\u001b[0m                   \u001b[32m'signal_alias'\u001b[0m: \u001b[32mb'rba'\u001b[0m,       \u001b[34m│\u001b[0m\n",
       "\u001b[34m│\u001b[0m                   \u001b[32m'path'\u001b[0m: \u001b[32mb'/rba027933.ipx'\u001b[0m,    \u001b[34m│\u001b[0m\n",
       "\u001b[34m│\u001b[0m                   \u001b[32m'filename'\u001b[0m: \u001b[32mb'rba027933.ipx'\u001b[0m, \u001b[34m│\u001b[0m\n",
       "\u001b[34m│\u001b[0m                   \u001b[32m'format'\u001b[0m: \u001b[32mb'IPX'\u001b[0m,             \u001b[34m│\u001b[0m\n",
       "\u001b[34m│\u001b[0m                   \u001b[32m'exp_number'\u001b[0m: \u001b[1;36m27933\u001b[0m,          \u001b[34m│\u001b[0m\n",
       "\u001b[34m│\u001b[0m                   \u001b[32m'pass'\u001b[0m: \u001b[1;36m-1\u001b[0m,                   \u001b[34m│\u001b[0m\n",
       "\u001b[34m│\u001b[0m                   \u001b[32m'pass_date'\u001b[0m: \u001b[32mb'2011-12-15'\u001b[0m    \u001b[34m│\u001b[0m\n",
       "\u001b[34m│\u001b[0m               \u001b[1m}\u001b[0m                                 \u001b[34m│\u001b[0m\n",
       "\u001b[34m│\u001b[0m        \u001b[3;33mrank\u001b[0m = \u001b[1;36m0\u001b[0m                                 \u001b[34m│\u001b[0m\n",
       "\u001b[34m│\u001b[0m       \u001b[3;33mshape\u001b[0m = \u001b[1m(\u001b[0m\u001b[1m)\u001b[0m                                \u001b[34m│\u001b[0m\n",
       "\u001b[34m│\u001b[0m        \u001b[3;33mtime\u001b[0m = \u001b[3;35mNone\u001b[0m                              \u001b[34m│\u001b[0m\n",
       "\u001b[34m│\u001b[0m  \u001b[3;33mtime_index\u001b[0m = \u001b[3;35mNone\u001b[0m                              \u001b[34m│\u001b[0m\n",
       "\u001b[34m│\u001b[0m       \u001b[3;33munits\u001b[0m = \u001b[32m''\u001b[0m                                \u001b[34m│\u001b[0m\n",
       "\u001b[34m╰─────────────────────────────────────────────────╯\u001b[0m\n"
      ]
     },
     "metadata": {},
     "output_type": "display_data"
    }
   ],
   "source": [
    "data = client.get(\"rba\", shot_1)\n",
    "inspect(data, docs=False)"
   ]
  },
  {
   "cell_type": "markdown",
   "id": "00aa4ce6",
   "metadata": {},
   "source": [
    "###  Erros & Exceptions"
   ]
  },
  {
   "cell_type": "markdown",
   "id": "2ea83100",
   "metadata": {},
   "source": [
    "In some cases, meta data can be fetched if using `get`, but without any data."
   ]
  },
  {
   "cell_type": "code",
   "execution_count": 85,
   "id": "b9e2506d",
   "metadata": {},
   "outputs": [
    {
     "data": {
      "text/html": [
       "<pre style=\"white-space:pre;overflow-x:auto;line-height:normal;font-family:Menlo,'DejaVu Sans Mono',consolas,'Courier New',monospace\"><span style=\"color: #000080; text-decoration-color: #000080\">╭──────── </span><span style=\"color: #000080; text-decoration-color: #000080; font-weight: bold\">&lt;</span><span style=\"color: #ff00ff; text-decoration-color: #ff00ff; font-weight: bold\">class</span><span style=\"color: #000000; text-decoration-color: #000000\"> </span><span style=\"color: #008000; text-decoration-color: #008000\">'pyuda._signal.Signal'</span><span style=\"color: #000080; text-decoration-color: #000080; font-weight: bold\">&gt;</span><span style=\"color: #000080; text-decoration-color: #000080\"> ─────────╮</span>\n",
       "<span style=\"color: #000080; text-decoration-color: #000080\">│</span> <span style=\"color: #008000; text-decoration-color: #008000\">╭─────────────────────────────────────────────╮</span> <span style=\"color: #000080; text-decoration-color: #000080\">│</span>\n",
       "<span style=\"color: #000080; text-decoration-color: #000080\">│</span> <span style=\"color: #008000; text-decoration-color: #008000\">│</span> <span style=\"font-weight: bold\">&lt;</span><span style=\"color: #ff00ff; text-decoration-color: #ff00ff; font-weight: bold\">Signal</span><span style=\"font-weight: bold\">&gt;</span>                                    <span style=\"color: #008000; text-decoration-color: #008000\">│</span> <span style=\"color: #000080; text-decoration-color: #000080\">│</span>\n",
       "<span style=\"color: #000080; text-decoration-color: #000080\">│</span> <span style=\"color: #008000; text-decoration-color: #008000\">╰─────────────────────────────────────────────╯</span> <span style=\"color: #000080; text-decoration-color: #000080\">│</span>\n",
       "<span style=\"color: #000080; text-decoration-color: #000080\">│</span>                                                 <span style=\"color: #000080; text-decoration-color: #000080\">│</span>\n",
       "<span style=\"color: #000080; text-decoration-color: #000080\">│</span>        <span style=\"color: #808000; text-decoration-color: #808000; font-style: italic\">data</span> = <span style=\"color: #800080; text-decoration-color: #800080; font-style: italic\">None</span>                              <span style=\"color: #000080; text-decoration-color: #000080\">│</span>\n",
       "<span style=\"color: #000080; text-decoration-color: #000080\">│</span> <span style=\"color: #808000; text-decoration-color: #808000; font-style: italic\">description</span> = <span style=\"color: #008000; text-decoration-color: #008000\">''</span>                                <span style=\"color: #000080; text-decoration-color: #000080\">│</span>\n",
       "<span style=\"color: #000080; text-decoration-color: #000080\">│</span>        <span style=\"color: #808000; text-decoration-color: #808000; font-style: italic\">dims</span> = <span style=\"font-weight: bold\">[]</span>                                <span style=\"color: #000080; text-decoration-color: #000080\">│</span>\n",
       "<span style=\"color: #000080; text-decoration-color: #000080\">│</span>      <span style=\"color: #808000; text-decoration-color: #808000; font-style: italic\">errors</span> = <span style=\"color: #800080; text-decoration-color: #800080; font-style: italic\">None</span>                              <span style=\"color: #000080; text-decoration-color: #000080\">│</span>\n",
       "<span style=\"color: #000080; text-decoration-color: #000080\">│</span>       <span style=\"color: #808000; text-decoration-color: #808000; font-style: italic\">label</span> = <span style=\"color: #008000; text-decoration-color: #008000\">''</span>                                <span style=\"color: #000080; text-decoration-color: #000080\">│</span>\n",
       "<span style=\"color: #000080; text-decoration-color: #000080\">│</span>        <span style=\"color: #808000; text-decoration-color: #808000; font-style: italic\">meta</span> = <span style=\"font-weight: bold\">{</span>                                 <span style=\"color: #000080; text-decoration-color: #000080\">│</span>\n",
       "<span style=\"color: #000080; text-decoration-color: #000080\">│</span>                   <span style=\"color: #008000; text-decoration-color: #008000\">'signal_name'</span>: <span style=\"color: #008000; text-decoration-color: #008000\">b'rzz'</span>,        <span style=\"color: #000080; text-decoration-color: #000080\">│</span>\n",
       "<span style=\"color: #000080; text-decoration-color: #000080\">│</span>                   <span style=\"color: #008000; text-decoration-color: #008000\">'signal_alias'</span>: <span style=\"color: #008000; text-decoration-color: #008000\">b'rzz'</span>,       <span style=\"color: #000080; text-decoration-color: #000080\">│</span>\n",
       "<span style=\"color: #000080; text-decoration-color: #000080\">│</span>                   <span style=\"color: #008000; text-decoration-color: #008000\">'path'</span>: <span style=\"color: #008000; text-decoration-color: #008000\">b'/rzz027933.tif'</span>,    <span style=\"color: #000080; text-decoration-color: #000080\">│</span>\n",
       "<span style=\"color: #000080; text-decoration-color: #000080\">│</span>                   <span style=\"color: #008000; text-decoration-color: #008000\">'filename'</span>: <span style=\"color: #008000; text-decoration-color: #008000\">b'rzz027933.tif'</span>, <span style=\"color: #000080; text-decoration-color: #000080\">│</span>\n",
       "<span style=\"color: #000080; text-decoration-color: #000080\">│</span>                   <span style=\"color: #008000; text-decoration-color: #008000\">'format'</span>: <span style=\"color: #008000; text-decoration-color: #008000\">b'TIF'</span>,             <span style=\"color: #000080; text-decoration-color: #000080\">│</span>\n",
       "<span style=\"color: #000080; text-decoration-color: #000080\">│</span>                   <span style=\"color: #008000; text-decoration-color: #008000\">'exp_number'</span>: <span style=\"color: #008080; text-decoration-color: #008080; font-weight: bold\">27933</span>,          <span style=\"color: #000080; text-decoration-color: #000080\">│</span>\n",
       "<span style=\"color: #000080; text-decoration-color: #000080\">│</span>                   <span style=\"color: #008000; text-decoration-color: #008000\">'pass'</span>: <span style=\"color: #008080; text-decoration-color: #008080; font-weight: bold\">-1</span>,                   <span style=\"color: #000080; text-decoration-color: #000080\">│</span>\n",
       "<span style=\"color: #000080; text-decoration-color: #000080\">│</span>                   <span style=\"color: #008000; text-decoration-color: #008000\">'pass_date'</span>: <span style=\"color: #008000; text-decoration-color: #008000\">b'2011-12-15'</span>    <span style=\"color: #000080; text-decoration-color: #000080\">│</span>\n",
       "<span style=\"color: #000080; text-decoration-color: #000080\">│</span>               <span style=\"font-weight: bold\">}</span>                                 <span style=\"color: #000080; text-decoration-color: #000080\">│</span>\n",
       "<span style=\"color: #000080; text-decoration-color: #000080\">│</span>        <span style=\"color: #808000; text-decoration-color: #808000; font-style: italic\">rank</span> = <span style=\"color: #008080; text-decoration-color: #008080; font-weight: bold\">0</span>                                 <span style=\"color: #000080; text-decoration-color: #000080\">│</span>\n",
       "<span style=\"color: #000080; text-decoration-color: #000080\">│</span>       <span style=\"color: #808000; text-decoration-color: #808000; font-style: italic\">shape</span> = <span style=\"font-weight: bold\">()</span>                                <span style=\"color: #000080; text-decoration-color: #000080\">│</span>\n",
       "<span style=\"color: #000080; text-decoration-color: #000080\">│</span>        <span style=\"color: #808000; text-decoration-color: #808000; font-style: italic\">time</span> = <span style=\"color: #800080; text-decoration-color: #800080; font-style: italic\">None</span>                              <span style=\"color: #000080; text-decoration-color: #000080\">│</span>\n",
       "<span style=\"color: #000080; text-decoration-color: #000080\">│</span>  <span style=\"color: #808000; text-decoration-color: #808000; font-style: italic\">time_index</span> = <span style=\"color: #800080; text-decoration-color: #800080; font-style: italic\">None</span>                              <span style=\"color: #000080; text-decoration-color: #000080\">│</span>\n",
       "<span style=\"color: #000080; text-decoration-color: #000080\">│</span>       <span style=\"color: #808000; text-decoration-color: #808000; font-style: italic\">units</span> = <span style=\"color: #008000; text-decoration-color: #008000\">''</span>                                <span style=\"color: #000080; text-decoration-color: #000080\">│</span>\n",
       "<span style=\"color: #000080; text-decoration-color: #000080\">╰─────────────────────────────────────────────────╯</span>\n",
       "</pre>\n"
      ],
      "text/plain": [
       "\u001b[34m╭─\u001b[0m\u001b[34m─────── \u001b[0m\u001b[1;34m<\u001b[0m\u001b[1;95mclass\u001b[0m\u001b[39m \u001b[0m\u001b[32m'pyuda._signal.Signal'\u001b[0m\u001b[1;34m>\u001b[0m\u001b[34m ────────\u001b[0m\u001b[34m─╮\u001b[0m\n",
       "\u001b[34m│\u001b[0m \u001b[32m╭─────────────────────────────────────────────╮\u001b[0m \u001b[34m│\u001b[0m\n",
       "\u001b[34m│\u001b[0m \u001b[32m│\u001b[0m \u001b[1m<\u001b[0m\u001b[1;95mSignal\u001b[0m\u001b[1m>\u001b[0m                                    \u001b[32m│\u001b[0m \u001b[34m│\u001b[0m\n",
       "\u001b[34m│\u001b[0m \u001b[32m╰─────────────────────────────────────────────╯\u001b[0m \u001b[34m│\u001b[0m\n",
       "\u001b[34m│\u001b[0m                                                 \u001b[34m│\u001b[0m\n",
       "\u001b[34m│\u001b[0m        \u001b[3;33mdata\u001b[0m = \u001b[3;35mNone\u001b[0m                              \u001b[34m│\u001b[0m\n",
       "\u001b[34m│\u001b[0m \u001b[3;33mdescription\u001b[0m = \u001b[32m''\u001b[0m                                \u001b[34m│\u001b[0m\n",
       "\u001b[34m│\u001b[0m        \u001b[3;33mdims\u001b[0m = \u001b[1m[\u001b[0m\u001b[1m]\u001b[0m                                \u001b[34m│\u001b[0m\n",
       "\u001b[34m│\u001b[0m      \u001b[3;33merrors\u001b[0m = \u001b[3;35mNone\u001b[0m                              \u001b[34m│\u001b[0m\n",
       "\u001b[34m│\u001b[0m       \u001b[3;33mlabel\u001b[0m = \u001b[32m''\u001b[0m                                \u001b[34m│\u001b[0m\n",
       "\u001b[34m│\u001b[0m        \u001b[3;33mmeta\u001b[0m = \u001b[1m{\u001b[0m                                 \u001b[34m│\u001b[0m\n",
       "\u001b[34m│\u001b[0m                   \u001b[32m'signal_name'\u001b[0m: \u001b[32mb'rzz'\u001b[0m,        \u001b[34m│\u001b[0m\n",
       "\u001b[34m│\u001b[0m                   \u001b[32m'signal_alias'\u001b[0m: \u001b[32mb'rzz'\u001b[0m,       \u001b[34m│\u001b[0m\n",
       "\u001b[34m│\u001b[0m                   \u001b[32m'path'\u001b[0m: \u001b[32mb'/rzz027933.tif'\u001b[0m,    \u001b[34m│\u001b[0m\n",
       "\u001b[34m│\u001b[0m                   \u001b[32m'filename'\u001b[0m: \u001b[32mb'rzz027933.tif'\u001b[0m, \u001b[34m│\u001b[0m\n",
       "\u001b[34m│\u001b[0m                   \u001b[32m'format'\u001b[0m: \u001b[32mb'TIF'\u001b[0m,             \u001b[34m│\u001b[0m\n",
       "\u001b[34m│\u001b[0m                   \u001b[32m'exp_number'\u001b[0m: \u001b[1;36m27933\u001b[0m,          \u001b[34m│\u001b[0m\n",
       "\u001b[34m│\u001b[0m                   \u001b[32m'pass'\u001b[0m: \u001b[1;36m-1\u001b[0m,                   \u001b[34m│\u001b[0m\n",
       "\u001b[34m│\u001b[0m                   \u001b[32m'pass_date'\u001b[0m: \u001b[32mb'2011-12-15'\u001b[0m    \u001b[34m│\u001b[0m\n",
       "\u001b[34m│\u001b[0m               \u001b[1m}\u001b[0m                                 \u001b[34m│\u001b[0m\n",
       "\u001b[34m│\u001b[0m        \u001b[3;33mrank\u001b[0m = \u001b[1;36m0\u001b[0m                                 \u001b[34m│\u001b[0m\n",
       "\u001b[34m│\u001b[0m       \u001b[3;33mshape\u001b[0m = \u001b[1m(\u001b[0m\u001b[1m)\u001b[0m                                \u001b[34m│\u001b[0m\n",
       "\u001b[34m│\u001b[0m        \u001b[3;33mtime\u001b[0m = \u001b[3;35mNone\u001b[0m                              \u001b[34m│\u001b[0m\n",
       "\u001b[34m│\u001b[0m  \u001b[3;33mtime_index\u001b[0m = \u001b[3;35mNone\u001b[0m                              \u001b[34m│\u001b[0m\n",
       "\u001b[34m│\u001b[0m       \u001b[3;33munits\u001b[0m = \u001b[32m''\u001b[0m                                \u001b[34m│\u001b[0m\n",
       "\u001b[34m╰─────────────────────────────────────────────────╯\u001b[0m\n"
      ]
     },
     "metadata": {},
     "output_type": "display_data"
    }
   ],
   "source": [
    "# it is a TIF image, but only meta data is accessible.\n",
    "data = client.get(\"rzz\", shot_1)\n",
    "inspect(data, docs=False)"
   ]
  },
  {
   "cell_type": "code",
   "execution_count": 86,
   "id": "58e687d9",
   "metadata": {},
   "outputs": [
    {
     "ename": "ServerException",
     "evalue": "Can't open file /net/mustrgsrvr1/export/mastu/data/MAST_Data/27933/LATEST/rzz027933.ipx",
     "output_type": "error",
     "traceback": [
      "\u001b[0;31m---------------------------------------------------------------------------\u001b[0m",
      "\u001b[0;31mServerException\u001b[0m                           Traceback (most recent call last)",
      "\u001b[0;32m/tmp/ipykernel_25138/3110243593.py\u001b[0m in \u001b[0;36m<module>\u001b[0;34m\u001b[0m\n\u001b[1;32m      1\u001b[0m \u001b[0;31m# error output with get_images\u001b[0m\u001b[0;34m\u001b[0m\u001b[0;34m\u001b[0m\u001b[0;34m\u001b[0m\u001b[0m\n\u001b[0;32m----> 2\u001b[0;31m \u001b[0mdata\u001b[0m \u001b[0;34m=\u001b[0m \u001b[0mclient\u001b[0m\u001b[0;34m.\u001b[0m\u001b[0mget_images\u001b[0m\u001b[0;34m(\u001b[0m\u001b[0;34m'rzz'\u001b[0m\u001b[0;34m,\u001b[0m \u001b[0mshot_1\u001b[0m\u001b[0;34m)\u001b[0m\u001b[0;34m\u001b[0m\u001b[0;34m\u001b[0m\u001b[0m\n\u001b[0m\u001b[1;32m      3\u001b[0m \u001b[0minspect\u001b[0m\u001b[0;34m(\u001b[0m\u001b[0mdata\u001b[0m\u001b[0;34m,\u001b[0m \u001b[0mdocs\u001b[0m\u001b[0;34m=\u001b[0m\u001b[0;32mFalse\u001b[0m\u001b[0;34m)\u001b[0m\u001b[0;34m\u001b[0m\u001b[0;34m\u001b[0m\u001b[0m\n",
      "\u001b[0;32m/usr/local/depot/uda-mast-1.3.6/python/mast/mast_client.py\u001b[0m in \u001b[0;36mget_images\u001b[0;34m(self, signal, source, first_frame, last_frame, stride, frame_number, header_only, rcc_calib_path)\u001b[0m\n\u001b[1;32m     94\u001b[0m         \u001b[0mcomm\u001b[0m \u001b[0;34m+=\u001b[0m \u001b[0;34m')'\u001b[0m\u001b[0;34m\u001b[0m\u001b[0;34m\u001b[0m\u001b[0m\n\u001b[1;32m     95\u001b[0m \u001b[0;34m\u001b[0m\u001b[0m\n\u001b[0;32m---> 96\u001b[0;31m         \u001b[0mresult\u001b[0m \u001b[0;34m=\u001b[0m \u001b[0mcpyuda\u001b[0m\u001b[0;34m.\u001b[0m\u001b[0mget_data\u001b[0m\u001b[0;34m(\u001b[0m\u001b[0mcomm\u001b[0m\u001b[0;34m,\u001b[0m \u001b[0;34m\"\"\u001b[0m\u001b[0;34m)\u001b[0m\u001b[0;34m\u001b[0m\u001b[0;34m\u001b[0m\u001b[0m\n\u001b[0m\u001b[1;32m     97\u001b[0m         \u001b[0;32mif\u001b[0m \u001b[0mresult\u001b[0m\u001b[0;34m.\u001b[0m\u001b[0merror_code\u001b[0m\u001b[0;34m(\u001b[0m\u001b[0;34m)\u001b[0m \u001b[0;34m!=\u001b[0m \u001b[0;36m0\u001b[0m\u001b[0;34m:\u001b[0m\u001b[0;34m\u001b[0m\u001b[0;34m\u001b[0m\u001b[0m\n\u001b[1;32m     98\u001b[0m             \u001b[0;32mif\u001b[0m \u001b[0mresult\u001b[0m\u001b[0;34m.\u001b[0m\u001b[0merror_message\u001b[0m\u001b[0;34m(\u001b[0m\u001b[0;34m)\u001b[0m\u001b[0;34m:\u001b[0m\u001b[0;34m\u001b[0m\u001b[0;34m\u001b[0m\u001b[0m\n",
      "\u001b[0;32mpyuda/cpyuda/cpyuda.pyx\u001b[0m in \u001b[0;36mcpyuda.get_data\u001b[0;34m()\u001b[0m\n",
      "\u001b[0;31mServerException\u001b[0m: Can't open file /net/mustrgsrvr1/export/mastu/data/MAST_Data/27933/LATEST/rzz027933.ipx"
     ]
    }
   ],
   "source": [
    "# error output with get_images\n",
    "data = client.get_images(\"rzz\", shot_1)\n",
    "inspect(data, docs=False)"
   ]
  },
  {
   "cell_type": "markdown",
   "id": "35cb5ea8",
   "metadata": {},
   "source": [
    "For the other shot, which has *JPG* format image."
   ]
  },
  {
   "cell_type": "code",
   "execution_count": 87,
   "id": "2611bfb9",
   "metadata": {},
   "outputs": [
    {
     "ename": "ServerException",
     "evalue": "Can't open file /net/mustrgsrvr1/export/mastu/data/MAST_Data/12000/LATEST/mhd012000.ipx",
     "output_type": "error",
     "traceback": [
      "\u001b[0;31m---------------------------------------------------------------------------\u001b[0m",
      "\u001b[0;31mServerException\u001b[0m                           Traceback (most recent call last)",
      "\u001b[0;32m/tmp/ipykernel_25138/2073778830.py\u001b[0m in \u001b[0;36m<module>\u001b[0;34m\u001b[0m\n\u001b[1;32m      1\u001b[0m \u001b[0;31m# error output with get_images\u001b[0m\u001b[0;34m\u001b[0m\u001b[0;34m\u001b[0m\u001b[0;34m\u001b[0m\u001b[0m\n\u001b[0;32m----> 2\u001b[0;31m \u001b[0mdata\u001b[0m \u001b[0;34m=\u001b[0m \u001b[0mclient\u001b[0m\u001b[0;34m.\u001b[0m\u001b[0mget_images\u001b[0m\u001b[0;34m(\u001b[0m\u001b[0;34m'mhd'\u001b[0m\u001b[0;34m,\u001b[0m \u001b[0mshot_2\u001b[0m\u001b[0;34m)\u001b[0m\u001b[0;34m\u001b[0m\u001b[0;34m\u001b[0m\u001b[0m\n\u001b[0m\u001b[1;32m      3\u001b[0m \u001b[0minspect\u001b[0m\u001b[0;34m(\u001b[0m\u001b[0mdata\u001b[0m\u001b[0;34m,\u001b[0m \u001b[0mdocs\u001b[0m\u001b[0;34m=\u001b[0m\u001b[0;32mFalse\u001b[0m\u001b[0;34m)\u001b[0m\u001b[0;34m\u001b[0m\u001b[0;34m\u001b[0m\u001b[0m\n",
      "\u001b[0;32m/usr/local/depot/uda-mast-1.3.6/python/mast/mast_client.py\u001b[0m in \u001b[0;36mget_images\u001b[0;34m(self, signal, source, first_frame, last_frame, stride, frame_number, header_only, rcc_calib_path)\u001b[0m\n\u001b[1;32m     94\u001b[0m         \u001b[0mcomm\u001b[0m \u001b[0;34m+=\u001b[0m \u001b[0;34m')'\u001b[0m\u001b[0;34m\u001b[0m\u001b[0;34m\u001b[0m\u001b[0m\n\u001b[1;32m     95\u001b[0m \u001b[0;34m\u001b[0m\u001b[0m\n\u001b[0;32m---> 96\u001b[0;31m         \u001b[0mresult\u001b[0m \u001b[0;34m=\u001b[0m \u001b[0mcpyuda\u001b[0m\u001b[0;34m.\u001b[0m\u001b[0mget_data\u001b[0m\u001b[0;34m(\u001b[0m\u001b[0mcomm\u001b[0m\u001b[0;34m,\u001b[0m \u001b[0;34m\"\"\u001b[0m\u001b[0;34m)\u001b[0m\u001b[0;34m\u001b[0m\u001b[0;34m\u001b[0m\u001b[0m\n\u001b[0m\u001b[1;32m     97\u001b[0m         \u001b[0;32mif\u001b[0m \u001b[0mresult\u001b[0m\u001b[0;34m.\u001b[0m\u001b[0merror_code\u001b[0m\u001b[0;34m(\u001b[0m\u001b[0;34m)\u001b[0m \u001b[0;34m!=\u001b[0m \u001b[0;36m0\u001b[0m\u001b[0;34m:\u001b[0m\u001b[0;34m\u001b[0m\u001b[0;34m\u001b[0m\u001b[0m\n\u001b[1;32m     98\u001b[0m             \u001b[0;32mif\u001b[0m \u001b[0mresult\u001b[0m\u001b[0;34m.\u001b[0m\u001b[0merror_message\u001b[0m\u001b[0;34m(\u001b[0m\u001b[0;34m)\u001b[0m\u001b[0;34m:\u001b[0m\u001b[0;34m\u001b[0m\u001b[0;34m\u001b[0m\u001b[0m\n",
      "\u001b[0;32mpyuda/cpyuda/cpyuda.pyx\u001b[0m in \u001b[0;36mcpyuda.get_data\u001b[0;34m()\u001b[0m\n",
      "\u001b[0;31mServerException\u001b[0m: Can't open file /net/mustrgsrvr1/export/mastu/data/MAST_Data/12000/LATEST/mhd012000.ipx"
     ]
    }
   ],
   "source": [
    "# error output with get_images\n",
    "data = client.get_images(\"mhd\", shot_2)\n",
    "inspect(data, docs=False)"
   ]
  },
  {
   "cell_type": "markdown",
   "id": "8769061c",
   "metadata": {},
   "source": [
    "In this situation use `get` to fetch metadata information and path."
   ]
  },
  {
   "cell_type": "code",
   "execution_count": 72,
   "id": "c3ea9047",
   "metadata": {},
   "outputs": [
    {
     "data": {
      "text/html": [
       "<pre style=\"white-space:pre;overflow-x:auto;line-height:normal;font-family:Menlo,'DejaVu Sans Mono',consolas,'Courier New',monospace\"><span style=\"color: #000080; text-decoration-color: #000080\">╭────────────────────────── </span><span style=\"color: #000080; text-decoration-color: #000080; font-weight: bold\">&lt;</span><span style=\"color: #ff00ff; text-decoration-color: #ff00ff; font-weight: bold\">class</span><span style=\"color: #000000; text-decoration-color: #000000\"> </span><span style=\"color: #008000; text-decoration-color: #008000\">'pyuda._signal.Signal'</span><span style=\"color: #000080; text-decoration-color: #000080; font-weight: bold\">&gt;</span><span style=\"color: #000080; text-decoration-color: #000080\"> ───────────────────────────╮</span>\n",
       "<span style=\"color: #000080; text-decoration-color: #000080\">│</span> <span style=\"color: #008000; text-decoration-color: #008000\">╭─────────────────────────────────────────────────────────────────────────────────╮</span> <span style=\"color: #000080; text-decoration-color: #000080\">│</span>\n",
       "<span style=\"color: #000080; text-decoration-color: #000080\">│</span> <span style=\"color: #008000; text-decoration-color: #008000\">│</span> <span style=\"font-weight: bold\">&lt;</span><span style=\"color: #ff00ff; text-decoration-color: #ff00ff; font-weight: bold\">Signal</span><span style=\"font-weight: bold\">&gt;</span>                                                                        <span style=\"color: #008000; text-decoration-color: #008000\">│</span> <span style=\"color: #000080; text-decoration-color: #000080\">│</span>\n",
       "<span style=\"color: #000080; text-decoration-color: #000080\">│</span> <span style=\"color: #008000; text-decoration-color: #008000\">╰─────────────────────────────────────────────────────────────────────────────────╯</span> <span style=\"color: #000080; text-decoration-color: #000080\">│</span>\n",
       "<span style=\"color: #000080; text-decoration-color: #000080\">│</span>                                                                                     <span style=\"color: #000080; text-decoration-color: #000080\">│</span>\n",
       "<span style=\"color: #000080; text-decoration-color: #000080\">│</span>        <span style=\"color: #808000; text-decoration-color: #808000; font-style: italic\">data</span> = <span style=\"color: #800080; text-decoration-color: #800080; font-style: italic\">None</span>                                                                  <span style=\"color: #000080; text-decoration-color: #000080\">│</span>\n",
       "<span style=\"color: #000080; text-decoration-color: #000080\">│</span> <span style=\"color: #808000; text-decoration-color: #808000; font-style: italic\">description</span> = <span style=\"color: #008000; text-decoration-color: #008000\">''</span>                                                                    <span style=\"color: #000080; text-decoration-color: #000080\">│</span>\n",
       "<span style=\"color: #000080; text-decoration-color: #000080\">│</span>        <span style=\"color: #808000; text-decoration-color: #808000; font-style: italic\">dims</span> = <span style=\"font-weight: bold\">[]</span>                                                                    <span style=\"color: #000080; text-decoration-color: #000080\">│</span>\n",
       "<span style=\"color: #000080; text-decoration-color: #000080\">│</span>      <span style=\"color: #808000; text-decoration-color: #808000; font-style: italic\">errors</span> = <span style=\"color: #800080; text-decoration-color: #800080; font-style: italic\">None</span>                                                                  <span style=\"color: #000080; text-decoration-color: #000080\">│</span>\n",
       "<span style=\"color: #000080; text-decoration-color: #000080\">│</span>       <span style=\"color: #808000; text-decoration-color: #808000; font-style: italic\">label</span> = <span style=\"color: #008000; text-decoration-color: #008000\">''</span>                                                                    <span style=\"color: #000080; text-decoration-color: #000080\">│</span>\n",
       "<span style=\"color: #000080; text-decoration-color: #000080\">│</span>        <span style=\"color: #808000; text-decoration-color: #808000; font-style: italic\">meta</span> = <span style=\"font-weight: bold\">{</span>                                                                     <span style=\"color: #000080; text-decoration-color: #000080\">│</span>\n",
       "<span style=\"color: #000080; text-decoration-color: #000080\">│</span>                   <span style=\"color: #008000; text-decoration-color: #008000\">'signal_name'</span>: <span style=\"color: #008000; text-decoration-color: #008000\">b'mhd'</span>,                                            <span style=\"color: #000080; text-decoration-color: #000080\">│</span>\n",
       "<span style=\"color: #000080; text-decoration-color: #000080\">│</span>                   <span style=\"color: #008000; text-decoration-color: #008000\">'signal_alias'</span>: <span style=\"color: #008000; text-decoration-color: #008000\">b'mhd'</span>,                                           <span style=\"color: #000080; text-decoration-color: #000080\">│</span>\n",
       "<span style=\"color: #000080; text-decoration-color: #000080\">│</span>                   <span style=\"color: #008000; text-decoration-color: #008000\">'path'</span>: <span style=\"color: #008000; text-decoration-color: #008000\">b'/net/fuslsa/data/MAST_Data/12000/Pass0/mhd0120.00_jpg'</span>, <span style=\"color: #000080; text-decoration-color: #000080\">│</span>\n",
       "<span style=\"color: #000080; text-decoration-color: #000080\">│</span>                   <span style=\"color: #008000; text-decoration-color: #008000\">'filename'</span>: <span style=\"color: #008000; text-decoration-color: #008000\">b'mhd0120.00_jpg'</span>,                                    <span style=\"color: #000080; text-decoration-color: #000080\">│</span>\n",
       "<span style=\"color: #000080; text-decoration-color: #000080\">│</span>                   <span style=\"color: #008000; text-decoration-color: #008000\">'format'</span>: <span style=\"color: #008000; text-decoration-color: #008000\">b'JPG'</span>,                                                 <span style=\"color: #000080; text-decoration-color: #000080\">│</span>\n",
       "<span style=\"color: #000080; text-decoration-color: #000080\">│</span>                   <span style=\"color: #008000; text-decoration-color: #008000\">'exp_number'</span>: <span style=\"color: #008080; text-decoration-color: #008080; font-weight: bold\">12000</span>,                                              <span style=\"color: #000080; text-decoration-color: #000080\">│</span>\n",
       "<span style=\"color: #000080; text-decoration-color: #000080\">│</span>                   <span style=\"color: #008000; text-decoration-color: #008000\">'pass'</span>: <span style=\"color: #008080; text-decoration-color: #008080; font-weight: bold\">0</span>,                                                        <span style=\"color: #000080; text-decoration-color: #000080\">│</span>\n",
       "<span style=\"color: #000080; text-decoration-color: #000080\">│</span>                   <span style=\"color: #008000; text-decoration-color: #008000\">'pass_date'</span>: <span style=\"color: #008000; text-decoration-color: #008000\">b'1980-02-10'</span>                                        <span style=\"color: #000080; text-decoration-color: #000080\">│</span>\n",
       "<span style=\"color: #000080; text-decoration-color: #000080\">│</span>               <span style=\"font-weight: bold\">}</span>                                                                     <span style=\"color: #000080; text-decoration-color: #000080\">│</span>\n",
       "<span style=\"color: #000080; text-decoration-color: #000080\">│</span>        <span style=\"color: #808000; text-decoration-color: #808000; font-style: italic\">rank</span> = <span style=\"color: #008080; text-decoration-color: #008080; font-weight: bold\">0</span>                                                                     <span style=\"color: #000080; text-decoration-color: #000080\">│</span>\n",
       "<span style=\"color: #000080; text-decoration-color: #000080\">│</span>       <span style=\"color: #808000; text-decoration-color: #808000; font-style: italic\">shape</span> = <span style=\"font-weight: bold\">()</span>                                                                    <span style=\"color: #000080; text-decoration-color: #000080\">│</span>\n",
       "<span style=\"color: #000080; text-decoration-color: #000080\">│</span>        <span style=\"color: #808000; text-decoration-color: #808000; font-style: italic\">time</span> = <span style=\"color: #800080; text-decoration-color: #800080; font-style: italic\">None</span>                                                                  <span style=\"color: #000080; text-decoration-color: #000080\">│</span>\n",
       "<span style=\"color: #000080; text-decoration-color: #000080\">│</span>  <span style=\"color: #808000; text-decoration-color: #808000; font-style: italic\">time_index</span> = <span style=\"color: #800080; text-decoration-color: #800080; font-style: italic\">None</span>                                                                  <span style=\"color: #000080; text-decoration-color: #000080\">│</span>\n",
       "<span style=\"color: #000080; text-decoration-color: #000080\">│</span>       <span style=\"color: #808000; text-decoration-color: #808000; font-style: italic\">units</span> = <span style=\"color: #008000; text-decoration-color: #008000\">''</span>                                                                    <span style=\"color: #000080; text-decoration-color: #000080\">│</span>\n",
       "<span style=\"color: #000080; text-decoration-color: #000080\">╰─────────────────────────────────────────────────────────────────────────────────────╯</span>\n",
       "</pre>\n"
      ],
      "text/plain": [
       "\u001b[34m╭─\u001b[0m\u001b[34m───────────────────────── \u001b[0m\u001b[1;34m<\u001b[0m\u001b[1;95mclass\u001b[0m\u001b[39m \u001b[0m\u001b[32m'pyuda._signal.Signal'\u001b[0m\u001b[1;34m>\u001b[0m\u001b[34m ──────────────────────────\u001b[0m\u001b[34m─╮\u001b[0m\n",
       "\u001b[34m│\u001b[0m \u001b[32m╭─────────────────────────────────────────────────────────────────────────────────╮\u001b[0m \u001b[34m│\u001b[0m\n",
       "\u001b[34m│\u001b[0m \u001b[32m│\u001b[0m \u001b[1m<\u001b[0m\u001b[1;95mSignal\u001b[0m\u001b[1m>\u001b[0m                                                                        \u001b[32m│\u001b[0m \u001b[34m│\u001b[0m\n",
       "\u001b[34m│\u001b[0m \u001b[32m╰─────────────────────────────────────────────────────────────────────────────────╯\u001b[0m \u001b[34m│\u001b[0m\n",
       "\u001b[34m│\u001b[0m                                                                                     \u001b[34m│\u001b[0m\n",
       "\u001b[34m│\u001b[0m        \u001b[3;33mdata\u001b[0m = \u001b[3;35mNone\u001b[0m                                                                  \u001b[34m│\u001b[0m\n",
       "\u001b[34m│\u001b[0m \u001b[3;33mdescription\u001b[0m = \u001b[32m''\u001b[0m                                                                    \u001b[34m│\u001b[0m\n",
       "\u001b[34m│\u001b[0m        \u001b[3;33mdims\u001b[0m = \u001b[1m[\u001b[0m\u001b[1m]\u001b[0m                                                                    \u001b[34m│\u001b[0m\n",
       "\u001b[34m│\u001b[0m      \u001b[3;33merrors\u001b[0m = \u001b[3;35mNone\u001b[0m                                                                  \u001b[34m│\u001b[0m\n",
       "\u001b[34m│\u001b[0m       \u001b[3;33mlabel\u001b[0m = \u001b[32m''\u001b[0m                                                                    \u001b[34m│\u001b[0m\n",
       "\u001b[34m│\u001b[0m        \u001b[3;33mmeta\u001b[0m = \u001b[1m{\u001b[0m                                                                     \u001b[34m│\u001b[0m\n",
       "\u001b[34m│\u001b[0m                   \u001b[32m'signal_name'\u001b[0m: \u001b[32mb'mhd'\u001b[0m,                                            \u001b[34m│\u001b[0m\n",
       "\u001b[34m│\u001b[0m                   \u001b[32m'signal_alias'\u001b[0m: \u001b[32mb'mhd'\u001b[0m,                                           \u001b[34m│\u001b[0m\n",
       "\u001b[34m│\u001b[0m                   \u001b[32m'path'\u001b[0m: \u001b[32mb'/net/fuslsa/data/MAST_Data/12000/Pass0/mhd0120.00_jpg'\u001b[0m, \u001b[34m│\u001b[0m\n",
       "\u001b[34m│\u001b[0m                   \u001b[32m'filename'\u001b[0m: \u001b[32mb'mhd0120.00_jpg'\u001b[0m,                                    \u001b[34m│\u001b[0m\n",
       "\u001b[34m│\u001b[0m                   \u001b[32m'format'\u001b[0m: \u001b[32mb'JPG'\u001b[0m,                                                 \u001b[34m│\u001b[0m\n",
       "\u001b[34m│\u001b[0m                   \u001b[32m'exp_number'\u001b[0m: \u001b[1;36m12000\u001b[0m,                                              \u001b[34m│\u001b[0m\n",
       "\u001b[34m│\u001b[0m                   \u001b[32m'pass'\u001b[0m: \u001b[1;36m0\u001b[0m,                                                        \u001b[34m│\u001b[0m\n",
       "\u001b[34m│\u001b[0m                   \u001b[32m'pass_date'\u001b[0m: \u001b[32mb'1980-02-10'\u001b[0m                                        \u001b[34m│\u001b[0m\n",
       "\u001b[34m│\u001b[0m               \u001b[1m}\u001b[0m                                                                     \u001b[34m│\u001b[0m\n",
       "\u001b[34m│\u001b[0m        \u001b[3;33mrank\u001b[0m = \u001b[1;36m0\u001b[0m                                                                     \u001b[34m│\u001b[0m\n",
       "\u001b[34m│\u001b[0m       \u001b[3;33mshape\u001b[0m = \u001b[1m(\u001b[0m\u001b[1m)\u001b[0m                                                                    \u001b[34m│\u001b[0m\n",
       "\u001b[34m│\u001b[0m        \u001b[3;33mtime\u001b[0m = \u001b[3;35mNone\u001b[0m                                                                  \u001b[34m│\u001b[0m\n",
       "\u001b[34m│\u001b[0m  \u001b[3;33mtime_index\u001b[0m = \u001b[3;35mNone\u001b[0m                                                                  \u001b[34m│\u001b[0m\n",
       "\u001b[34m│\u001b[0m       \u001b[3;33munits\u001b[0m = \u001b[32m''\u001b[0m                                                                    \u001b[34m│\u001b[0m\n",
       "\u001b[34m╰─────────────────────────────────────────────────────────────────────────────────────╯\u001b[0m\n"
      ]
     },
     "metadata": {},
     "output_type": "display_data"
    }
   ],
   "source": [
    "data = client.get(\"mhd\", shot_2)\n",
    "inspect(data, docs=False)"
   ]
  },
  {
   "cell_type": "markdown",
   "id": "ed3f90a1",
   "metadata": {},
   "source": [
    "# Accessing Shot Metadata (CPF)\n",
    "\n"
   ]
  },
  {
   "cell_type": "markdown",
   "id": "a0081a0b",
   "metadata": {},
   "source": [
    "CPF (central physics file) - Metadata of the **Shot**. It is accessed using pycpf package.\n"
   ]
  },
  {
   "cell_type": "markdown",
   "id": "d2639bc8",
   "metadata": {},
   "source": [
    "<div class=\"alert alert-block alert-info\">\n",
    "<b>Note:</b> There is a mismatch with the data on the website, especially in the values of CPF Data Summary table: https://users.mastu.ukaea.uk/internal/shot/27933 . Current information: cpf values available via pycpf are the correct ones. Information about data contained can be found in the https://users.mastu.ukaea.uk/sites/default/files/uploads/CPF.pdf\n",
    "</div>"
   ]
  },
  {
   "cell_type": "code",
   "execution_count": 73,
   "id": "68bb0dc2",
   "metadata": {
    "code_folding": []
   },
   "outputs": [],
   "source": [
    "def retrieve_cpf(shot):\n",
    "    cpf = {}\n",
    "    for field in pycpf.columns():\n",
    "        name = field[0]\n",
    "        entry = pycpf.query(name, f\"shot = {shot}\")\n",
    "        if entry:\n",
    "            cpf[name] = {\n",
    "                \"data\": entry[name][0],\n",
    "                \"description\": field[1],\n",
    "            }\n",
    "        else:\n",
    "            cpf[name] = {\n",
    "                \"data\": None,\n",
    "                \"description\": field[1],\n",
    "            }\n",
    "    return cpf"
   ]
  },
  {
   "cell_type": "markdown",
   "id": "e27e5534",
   "metadata": {},
   "source": [
    "CPF files can be presented as a table, where it has a name of a row (Name-first column in the table below), data and description of the data available for each of the rows. "
   ]
  },
  {
   "cell_type": "code",
   "execution_count": 76,
   "id": "a0d3fccc",
   "metadata": {},
   "outputs": [
    {
     "data": {
      "text/html": [
       "<div>\n",
       "<style scoped>\n",
       "    .dataframe tbody tr th:only-of-type {\n",
       "        vertical-align: middle;\n",
       "    }\n",
       "\n",
       "    .dataframe tbody tr th {\n",
       "        vertical-align: top;\n",
       "    }\n",
       "\n",
       "    .dataframe thead th {\n",
       "        text-align: right;\n",
       "    }\n",
       "</style>\n",
       "<table border=\"1\" class=\"dataframe\">\n",
       "  <thead>\n",
       "    <tr style=\"text-align: right;\">\n",
       "      <th></th>\n",
       "      <th>data</th>\n",
       "      <th>description</th>\n",
       "    </tr>\n",
       "  </thead>\n",
       "  <tbody>\n",
       "    <tr>\n",
       "      <th>P12450</th>\n",
       "      <td>None</td>\n",
       "      <td>CP3c Set Volts</td>\n",
       "    </tr>\n",
       "    <tr>\n",
       "      <th>P15202</th>\n",
       "      <td>None</td>\n",
       "      <td>Additive Gas Plenum</td>\n",
       "    </tr>\n",
       "    <tr>\n",
       "      <th>q95_truby</th>\n",
       "      <td>0.0</td>\n",
       "      <td>q-95 at time of Ruby TS</td>\n",
       "    </tr>\n",
       "    <tr>\n",
       "      <th>area_max</th>\n",
       "      <td>1.610378</td>\n",
       "      <td>Maximum Poloidal Cross-Sectional Area</td>\n",
       "    </tr>\n",
       "    <tr>\n",
       "      <th>tipmax</th>\n",
       "      <td>0.2679</td>\n",
       "      <td>Time of Maximum Plasma Current</td>\n",
       "    </tr>\n",
       "    <tr>\n",
       "      <th>creation</th>\n",
       "      <td>'2011-12-15'</td>\n",
       "      <td>Data Dictionary Entry Creation Date</td>\n",
       "    </tr>\n",
       "    <tr>\n",
       "      <th>P21083</th>\n",
       "      <td>None</td>\n",
       "      <td>FA1 enable Duration</td>\n",
       "    </tr>\n",
       "    <tr>\n",
       "      <th>P21087</th>\n",
       "      <td>None</td>\n",
       "      <td>FA3 enable Duration</td>\n",
       "    </tr>\n",
       "    <tr>\n",
       "      <th>wmhd_truby</th>\n",
       "      <td>0.0</td>\n",
       "      <td>Stored Energy at time of Ruby TS</td>\n",
       "    </tr>\n",
       "    <tr>\n",
       "      <th>P21078</th>\n",
       "      <td>None</td>\n",
       "      <td>P1PS Positive I Limit (Max. +ve Current from P...</td>\n",
       "    </tr>\n",
       "    <tr>\n",
       "      <th>P21052</th>\n",
       "      <td>None</td>\n",
       "      <td>MFPS set enable Start Time (Offset by 5s)</td>\n",
       "    </tr>\n",
       "    <tr>\n",
       "      <th>P05016</th>\n",
       "      <td>None</td>\n",
       "      <td>Select FA3</td>\n",
       "    </tr>\n",
       "    <tr>\n",
       "      <th>li_3_max</th>\n",
       "      <td>1.074974</td>\n",
       "      <td>li(3) Maximum value</td>\n",
       "    </tr>\n",
       "    <tr>\n",
       "      <th>tzeff_max</th>\n",
       "      <td>None</td>\n",
       "      <td>Time of Maximum Plasma Z-Effective</td>\n",
       "    </tr>\n",
       "    <tr>\n",
       "      <th>P21084</th>\n",
       "      <td>None</td>\n",
       "      <td>FA2 enable Start Time (Offset by 5s) (Normally...</td>\n",
       "    </tr>\n",
       "  </tbody>\n",
       "</table>\n",
       "</div>"
      ],
      "text/plain": [
       "                    data                                        description\n",
       "P12450              None                                     CP3c Set Volts\n",
       "P15202              None                                Additive Gas Plenum\n",
       "q95_truby            0.0                            q-95 at time of Ruby TS\n",
       "area_max        1.610378              Maximum Poloidal Cross-Sectional Area\n",
       "tipmax            0.2679                     Time of Maximum Plasma Current\n",
       "creation    '2011-12-15'                Data Dictionary Entry Creation Date\n",
       "P21083              None                                FA1 enable Duration\n",
       "P21087              None                                FA3 enable Duration\n",
       "wmhd_truby           0.0                   Stored Energy at time of Ruby TS\n",
       "P21078              None  P1PS Positive I Limit (Max. +ve Current from P...\n",
       "P21052              None          MFPS set enable Start Time (Offset by 5s)\n",
       "P05016              None                                         Select FA3\n",
       "li_3_max        1.074974                                li(3) Maximum value\n",
       "tzeff_max           None                 Time of Maximum Plasma Z-Effective\n",
       "P21084              None  FA2 enable Start Time (Offset by 5s) (Normally..."
      ]
     },
     "execution_count": 76,
     "metadata": {},
     "output_type": "execute_result"
    }
   ],
   "source": [
    "df = pd.DataFrame(retrieve_cpf(shot_1)).transpose()\n",
    "df.head(15)"
   ]
  },
  {
   "cell_type": "markdown",
   "id": "9d57618e",
   "metadata": {},
   "source": [
    "In this table there are 265 rows, some of them have data value equal to None, such rows typically have Names starting with P and followed by 5 numbers. Other Names are typically having physics nomenclature. CPF file contains the most important experiment values, both experimental conditions as well as results of the analysis.  It has information in string format (descriptions,scientist names, summary, postshot, time and date), float and int."
   ]
  }
 ],
 "metadata": {
  "kernelspec": {
   "display_name": "Python 3 (ipykernel)",
   "language": "python",
   "name": "python3"
  },
  "language_info": {
   "codemirror_mode": {
    "name": "ipython",
    "version": 3
   },
   "file_extension": ".py",
   "mimetype": "text/x-python",
   "name": "python",
   "nbconvert_exporter": "python",
   "pygments_lexer": "ipython3",
   "version": "3.7.1"
  },
  "toc": {
   "base_numbering": 1,
   "nav_menu": {},
   "number_sections": true,
   "sideBar": true,
   "skip_h1_title": false,
   "title_cell": "Table of Contents",
   "title_sidebar": "Contents",
   "toc_cell": true,
   "toc_position": {
    "height": "calc(100% - 180px)",
    "left": "10px",
    "top": "150px",
    "width": "254px"
   },
   "toc_section_display": true,
   "toc_window_display": true
  },
  "toc-autonumbering": true,
  "toc-showcode": false,
  "toc-showmarkdowntxt": false,
  "toc-showtags": true,
  "vscode": {
   "interpreter": {
    "hash": "680ed88218a14d2dfce1bc66d2a8371bdb9ce540b550b6ada06872ce9370cc47"
   }
  }
 },
 "nbformat": 4,
 "nbformat_minor": 5
}
